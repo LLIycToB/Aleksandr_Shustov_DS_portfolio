{
 "cells": [
  {
   "cell_type": "markdown",
   "metadata": {},
   "source": [
    "# Определение стоимости автомобилей"
   ]
  },
  {
   "cell_type": "markdown",
   "metadata": {},
   "source": [
    "Сервис по продаже автомобилей с пробегом «Не бит, не крашен» разрабатывает приложение для привлечения новых клиентов. В нём можно быстро узнать рыночную стоимость своего автомобиля. В нашем распоряжении исторические данные: технические характеристики, комплектации и цены автомобилей. Целью этого проекта является построение модели для определения стоимости автомобиля на основании его характеристик. \n",
    "\n",
    "Критерии Заказчика:\n",
    "- качество предсказания;\n",
    "- скорость предсказания;\n",
    "- время обучения."
   ]
  },
  {
   "cell_type": "markdown",
   "metadata": {},
   "source": [
    "## Подготовка данных"
   ]
  },
  {
   "cell_type": "markdown",
   "metadata": {},
   "source": [
    "### Импорт библиотек и функций"
   ]
  },
  {
   "cell_type": "code",
   "execution_count": 1,
   "metadata": {},
   "outputs": [],
   "source": [
    "!pip install --upgrade scikit-learn -q\n",
    "#базовые\n",
    "import pandas as pd\n",
    "import numpy as np\n",
    "#учет времени выполнения\n",
    "import time\n",
    "#генерация случайных чисел\n",
    "import random\n",
    "# отключение ошибок\n",
    "import warnings\n",
    "# графики\n",
    "import seaborn as sns\n",
    "import matplotlib.pyplot as plt\n",
    "#анализ корреляции Phi_K \n",
    "!pip install phik -q\n",
    "import phik\n",
    "from phik import phik_matrix\n",
    "from phik.report import plot_correlation_matrix\n",
    "# преобразование данных\n",
    "from sklearn.model_selection import train_test_split\n",
    "from sklearn.preprocessing import OneHotEncoder\n",
    "# Модели\n",
    "from sklearn.tree import DecisionTreeRegressor\n",
    "from sklearn.model_selection import RandomizedSearchCV\n",
    "# Метрики\n",
    "from sklearn.metrics import root_mean_squared_error\n",
    "# пайплайны\n",
    "from sklearn.pipeline import Pipeline\n",
    "#проверка адекватности модели\n",
    "from sklearn.dummy import DummyRegressor\n",
    "#модели градиентного бустинга\n",
    "import lightgbm as lgb\n",
    "import catboost as cb\n",
    "\n",
    "RANDOM_STATE = 88"
   ]
  },
  {
   "cell_type": "code",
   "execution_count": 2,
   "metadata": {},
   "outputs": [],
   "source": [
    "#функция первичного анализа данных\n",
    "def data_report(df, show_info=True):\n",
    "    temp = df.copy() \n",
    "    col_list = temp.columns\n",
    "    print('='* 90)\n",
    "    if show_info == True:\n",
    "        print(temp.info())\n",
    "#Поиск нулевых значений\n",
    "    counter = 0\n",
    "    for column in col_list:\n",
    "        if (temp[temp[column] == 0][column].count() > 0) | (\n",
    "            temp[temp[column] == ' '][column].count() > 0):\n",
    "            counter += 1\n",
    "    print('-'* 90)    \n",
    "    print(f'Столбцов с пустыми и нулевыми значениями: {counter}')\n",
    "    print('-'* 90)    \n",
    "    if counter > 0:\n",
    "        print(f'Перечень столбцов с пустыми и нулевыми значениями:')\n",
    "        print('-'* 45)\n",
    "        print(f'{\"Имя поля\":<40}{\"Кол-во значений\":<25}{\"Процент к общему\":<25}')\n",
    "        print('-'* 90)\n",
    "        for column in col_list:\n",
    "            if (temp[temp[column] == 0][column].count() > 0) | (\n",
    "               temp[temp[column] == ' '][column].count() > 0):\n",
    "                print(f'{column :<40}'\n",
    "                      f'{temp[temp[column] == 0][column].count():<25}'\n",
    "                      f'{temp[temp[column] == 0][column].count()/len(temp):.2%}')                \n",
    "#Поиск пропусков\n",
    "    counter = 0\n",
    "    for column in col_list:\n",
    "        if temp[column].isna().sum() > 0:\n",
    "            counter += 1\n",
    "    print('-'* 90)    \n",
    "    print(f'Столбцов с пропусками: {counter}')\n",
    "    print('-'* 90)    \n",
    "    if counter > 0:\n",
    "        print(f'Перечень столбцов с пропусками:')\n",
    "        print('-'* 45)\n",
    "        print(f'{\"Имя поля\":<40}{\"Кол-во пропусков\":<25}{\"Процент к общему\":<25}')\n",
    "        print('-'* 90)\n",
    "        for column in col_list:\n",
    "            if temp[column].isna().sum() > 0:\n",
    "                print(f'{column :<40}'\n",
    "                      f'{temp[column].isna().sum():<25}'\n",
    "                      f'{temp[column].isna().mean():.2%}')                \n",
    "#Поиск явных дубликатов\n",
    "    duplicates = temp.duplicated().sum()\n",
    "    print('='* 90)\n",
    "    print(f'Количество дубликатов по строкам: {duplicates}')\n",
    "    print('='* 90)\n",
    "    if duplicates > 0:\n",
    "        print('Дублированные строки:')\n",
    "        print('-'* 90)\n",
    "        print(temp[temp.duplicated()==True][col_list[:3]])\n",
    "        print('='* 90)\n",
    "#Поиск неявных дубликатов\n",
    "    string_columns = temp.select_dtypes(include='object').columns.tolist()\n",
    "    print('Уникальные значения в тестовых полях')\n",
    "    print('='* 90)\n",
    "    for column in string_columns:\n",
    "        values = temp[column].unique()\n",
    "        if len(values) <= 25:\n",
    "            print(f'{column}: {values}')\n",
    "            print('-'* 90)\n",
    "        else:\n",
    "            print(f'В поле {column} слишком много значений')\n",
    "            print('-'* 90)"
   ]
  },
  {
   "cell_type": "code",
   "execution_count": 3,
   "metadata": {},
   "outputs": [],
   "source": [
    "#функция печати графиков для исследовательского анализа данных\n",
    "def stat_plots(df, custom_bins={}, countplots=[]):\n",
    "    for column in countplots:\n",
    "        data = df[column]\n",
    "        sns.countplot(data, palette='GnBu_r')\n",
    "        plt.title(f'Количественный анализ дискретного признака {column}')\n",
    "        plt.xlabel('Значения')\n",
    "        plt.ylabel('Количество')\n",
    "        plt.show()\n",
    "    df = df.drop(countplots, axis=1)    \n",
    "    for column in df.select_dtypes(include='number').columns:\n",
    "        try:\n",
    "            nbins = custom_bins[column]\n",
    "        except:\n",
    "            nbins = 10\n",
    "        ind_label = df[column].name\n",
    "        print('=' * 110)\n",
    "        print(f'Статистический анализ показателя {ind_label}')\n",
    "        print('-' * 110)\n",
    "        fig, axes = plt.subplots(nrows=1, ncols=2, figsize=(15,5))\n",
    "        bins = axes[0].hist(df[column], bins=nbins)\n",
    "        axes[0].vlines(x=df[column].mean(), colors='red', ymin=0, ymax=bins[0].max(), label='Среднее')\n",
    "        axes[0].vlines(x=df[column].median(), colors='red', ymin=0, ymax=bins[0].max(), linestyles='--', label='Медиана')\n",
    "        axes[0].set_title('Гистограмма распределения')\n",
    "        axes[0].set_xlabel(ind_label)\n",
    "        axes[0].set_ylabel('Количество значений')\n",
    "        axes[0].legend()\n",
    "        axes[1].boxplot(df[column], vert=False)\n",
    "        axes[1].set_title('Диаграмма размаха')\n",
    "        axes[1].set_xlabel(ind_label)\n",
    "        plt.show()\n",
    "    for column in df.select_dtypes(include='object').columns:\n",
    "        ind_label = df[column].name\n",
    "        df[column].value_counts().plot(kind='pie', autopct='%.0f', subplots=True, legend=False, label=ind_label)\n",
    "        plt.title(f'Распределение долей по показателю {ind_label}')\n",
    "        plt.show()"
   ]
  },
  {
   "cell_type": "code",
   "execution_count": 4,
   "metadata": {},
   "outputs": [],
   "source": [
    "#матрица корреляции phi_k\n",
    "def phik_corr(df):\n",
    "    size = len(df.columns) + 1\n",
    "    phik_overview = phik_matrix(df)\n",
    "    plot_correlation_matrix(\n",
    "        phik_overview.values,\n",
    "        x_labels=phik_overview.columns,\n",
    "        y_labels=phik_overview.index,\n",
    "        vmin=0, vmax=1, color_map='Greens',\n",
    "        title=r'correlation $\\phi_K$',\n",
    "        fontsize_factor=1.5,\n",
    "        figsize=(size, size)\n",
    "    )"
   ]
  },
  {
   "cell_type": "markdown",
   "metadata": {},
   "source": [
    "### Загрузка и предобработка данных"
   ]
  },
  {
   "cell_type": "code",
   "execution_count": 5,
   "metadata": {},
   "outputs": [],
   "source": [
    "data = pd.read_csv('/datasets/autos.csv')"
   ]
  },
  {
   "cell_type": "code",
   "execution_count": 6,
   "metadata": {},
   "outputs": [
    {
     "name": "stdout",
     "output_type": "stream",
     "text": [
      "==========================================================================================\n",
      "<class 'pandas.core.frame.DataFrame'>\n",
      "RangeIndex: 354369 entries, 0 to 354368\n",
      "Data columns (total 16 columns):\n",
      " #   Column             Non-Null Count   Dtype \n",
      "---  ------             --------------   ----- \n",
      " 0   DateCrawled        354369 non-null  object\n",
      " 1   Price              354369 non-null  int64 \n",
      " 2   VehicleType        316879 non-null  object\n",
      " 3   RegistrationYear   354369 non-null  int64 \n",
      " 4   Gearbox            334536 non-null  object\n",
      " 5   Power              354369 non-null  int64 \n",
      " 6   Model              334664 non-null  object\n",
      " 7   Kilometer          354369 non-null  int64 \n",
      " 8   RegistrationMonth  354369 non-null  int64 \n",
      " 9   FuelType           321474 non-null  object\n",
      " 10  Brand              354369 non-null  object\n",
      " 11  Repaired           283215 non-null  object\n",
      " 12  DateCreated        354369 non-null  object\n",
      " 13  NumberOfPictures   354369 non-null  int64 \n",
      " 14  PostalCode         354369 non-null  int64 \n",
      " 15  LastSeen           354369 non-null  object\n",
      "dtypes: int64(7), object(9)\n",
      "memory usage: 43.3+ MB\n",
      "None\n",
      "------------------------------------------------------------------------------------------\n",
      "Столбцов с пустыми и нулевыми значениями: 4\n",
      "------------------------------------------------------------------------------------------\n",
      "Перечень столбцов с пустыми и нулевыми значениями:\n",
      "---------------------------------------------\n",
      "Имя поля                                Кол-во значений          Процент к общему         \n",
      "------------------------------------------------------------------------------------------\n",
      "Price                                   10772                    3.04%\n",
      "Power                                   40225                    11.35%\n",
      "RegistrationMonth                       37352                    10.54%\n",
      "NumberOfPictures                        354369                   100.00%\n",
      "------------------------------------------------------------------------------------------\n",
      "Столбцов с пропусками: 5\n",
      "------------------------------------------------------------------------------------------\n",
      "Перечень столбцов с пропусками:\n",
      "---------------------------------------------\n",
      "Имя поля                                Кол-во пропусков         Процент к общему         \n",
      "------------------------------------------------------------------------------------------\n",
      "VehicleType                             37490                    10.58%\n",
      "Gearbox                                 19833                    5.60%\n",
      "Model                                   19705                    5.56%\n",
      "FuelType                                32895                    9.28%\n",
      "Repaired                                71154                    20.08%\n",
      "==========================================================================================\n",
      "Количество дубликатов по строкам: 4\n",
      "==========================================================================================\n",
      "Дублированные строки:\n",
      "------------------------------------------------------------------------------------------\n",
      "                DateCrawled  Price VehicleType\n",
      "171088  2016-03-08 18:42:48   1799       coupe\n",
      "231258  2016-03-28 00:56:10   1000       small\n",
      "258109  2016-04-03 09:01:15   4699       coupe\n",
      "325651  2016-03-18 18:46:15   1999       wagon\n",
      "==========================================================================================\n",
      "Уникальные значения в тестовых полях\n",
      "==========================================================================================\n",
      "В поле DateCrawled слишком много значений\n",
      "------------------------------------------------------------------------------------------\n",
      "VehicleType: [nan 'coupe' 'suv' 'small' 'sedan' 'convertible' 'bus' 'wagon' 'other']\n",
      "------------------------------------------------------------------------------------------\n",
      "Gearbox: ['manual' 'auto' nan]\n",
      "------------------------------------------------------------------------------------------\n",
      "В поле Model слишком много значений\n",
      "------------------------------------------------------------------------------------------\n",
      "FuelType: ['petrol' 'gasoline' nan 'lpg' 'other' 'hybrid' 'cng' 'electric']\n",
      "------------------------------------------------------------------------------------------\n",
      "В поле Brand слишком много значений\n",
      "------------------------------------------------------------------------------------------\n",
      "Repaired: [nan 'yes' 'no']\n",
      "------------------------------------------------------------------------------------------\n",
      "В поле DateCreated слишком много значений\n",
      "------------------------------------------------------------------------------------------\n",
      "В поле LastSeen слишком много значений\n",
      "------------------------------------------------------------------------------------------\n"
     ]
    }
   ],
   "source": [
    "data_report(data)"
   ]
  },
  {
   "cell_type": "markdown",
   "metadata": {},
   "source": [
    "Заполним пропуски в данных"
   ]
  },
  {
   "cell_type": "code",
   "execution_count": 7,
   "metadata": {},
   "outputs": [
    {
     "data": {
      "text/html": [
       "<div>\n",
       "<style scoped>\n",
       "    .dataframe tbody tr th:only-of-type {\n",
       "        vertical-align: middle;\n",
       "    }\n",
       "\n",
       "    .dataframe tbody tr th {\n",
       "        vertical-align: top;\n",
       "    }\n",
       "\n",
       "    .dataframe thead th {\n",
       "        text-align: right;\n",
       "    }\n",
       "</style>\n",
       "<table border=\"1\" class=\"dataframe\">\n",
       "  <thead>\n",
       "    <tr style=\"text-align: right;\">\n",
       "      <th></th>\n",
       "      <th>DateCrawled</th>\n",
       "      <th>Price</th>\n",
       "      <th>VehicleType</th>\n",
       "      <th>RegistrationYear</th>\n",
       "      <th>Gearbox</th>\n",
       "      <th>Power</th>\n",
       "      <th>Model</th>\n",
       "      <th>Kilometer</th>\n",
       "      <th>RegistrationMonth</th>\n",
       "      <th>FuelType</th>\n",
       "      <th>Brand</th>\n",
       "      <th>Repaired</th>\n",
       "      <th>DateCreated</th>\n",
       "      <th>NumberOfPictures</th>\n",
       "      <th>PostalCode</th>\n",
       "      <th>LastSeen</th>\n",
       "    </tr>\n",
       "  </thead>\n",
       "  <tbody>\n",
       "    <tr>\n",
       "      <th>0</th>\n",
       "      <td>2016-03-24 11:52:17</td>\n",
       "      <td>480</td>\n",
       "      <td>NaN</td>\n",
       "      <td>1993</td>\n",
       "      <td>manual</td>\n",
       "      <td>0</td>\n",
       "      <td>golf</td>\n",
       "      <td>150000</td>\n",
       "      <td>0</td>\n",
       "      <td>petrol</td>\n",
       "      <td>volkswagen</td>\n",
       "      <td>NaN</td>\n",
       "      <td>2016-03-24 00:00:00</td>\n",
       "      <td>0</td>\n",
       "      <td>70435</td>\n",
       "      <td>2016-04-07 03:16:57</td>\n",
       "    </tr>\n",
       "    <tr>\n",
       "      <th>1</th>\n",
       "      <td>2016-03-24 10:58:45</td>\n",
       "      <td>18300</td>\n",
       "      <td>coupe</td>\n",
       "      <td>2011</td>\n",
       "      <td>manual</td>\n",
       "      <td>190</td>\n",
       "      <td>NaN</td>\n",
       "      <td>125000</td>\n",
       "      <td>5</td>\n",
       "      <td>gasoline</td>\n",
       "      <td>audi</td>\n",
       "      <td>yes</td>\n",
       "      <td>2016-03-24 00:00:00</td>\n",
       "      <td>0</td>\n",
       "      <td>66954</td>\n",
       "      <td>2016-04-07 01:46:50</td>\n",
       "    </tr>\n",
       "    <tr>\n",
       "      <th>2</th>\n",
       "      <td>2016-03-14 12:52:21</td>\n",
       "      <td>9800</td>\n",
       "      <td>suv</td>\n",
       "      <td>2004</td>\n",
       "      <td>auto</td>\n",
       "      <td>163</td>\n",
       "      <td>grand</td>\n",
       "      <td>125000</td>\n",
       "      <td>8</td>\n",
       "      <td>gasoline</td>\n",
       "      <td>jeep</td>\n",
       "      <td>NaN</td>\n",
       "      <td>2016-03-14 00:00:00</td>\n",
       "      <td>0</td>\n",
       "      <td>90480</td>\n",
       "      <td>2016-04-05 12:47:46</td>\n",
       "    </tr>\n",
       "    <tr>\n",
       "      <th>3</th>\n",
       "      <td>2016-03-17 16:54:04</td>\n",
       "      <td>1500</td>\n",
       "      <td>small</td>\n",
       "      <td>2001</td>\n",
       "      <td>manual</td>\n",
       "      <td>75</td>\n",
       "      <td>golf</td>\n",
       "      <td>150000</td>\n",
       "      <td>6</td>\n",
       "      <td>petrol</td>\n",
       "      <td>volkswagen</td>\n",
       "      <td>no</td>\n",
       "      <td>2016-03-17 00:00:00</td>\n",
       "      <td>0</td>\n",
       "      <td>91074</td>\n",
       "      <td>2016-03-17 17:40:17</td>\n",
       "    </tr>\n",
       "    <tr>\n",
       "      <th>4</th>\n",
       "      <td>2016-03-31 17:25:20</td>\n",
       "      <td>3600</td>\n",
       "      <td>small</td>\n",
       "      <td>2008</td>\n",
       "      <td>manual</td>\n",
       "      <td>69</td>\n",
       "      <td>fabia</td>\n",
       "      <td>90000</td>\n",
       "      <td>7</td>\n",
       "      <td>gasoline</td>\n",
       "      <td>skoda</td>\n",
       "      <td>no</td>\n",
       "      <td>2016-03-31 00:00:00</td>\n",
       "      <td>0</td>\n",
       "      <td>60437</td>\n",
       "      <td>2016-04-06 10:17:21</td>\n",
       "    </tr>\n",
       "  </tbody>\n",
       "</table>\n",
       "</div>"
      ],
      "text/plain": [
       "           DateCrawled  Price VehicleType  RegistrationYear Gearbox  Power  \\\n",
       "0  2016-03-24 11:52:17    480         NaN              1993  manual      0   \n",
       "1  2016-03-24 10:58:45  18300       coupe              2011  manual    190   \n",
       "2  2016-03-14 12:52:21   9800         suv              2004    auto    163   \n",
       "3  2016-03-17 16:54:04   1500       small              2001  manual     75   \n",
       "4  2016-03-31 17:25:20   3600       small              2008  manual     69   \n",
       "\n",
       "   Model  Kilometer  RegistrationMonth  FuelType       Brand Repaired  \\\n",
       "0   golf     150000                  0    petrol  volkswagen      NaN   \n",
       "1    NaN     125000                  5  gasoline        audi      yes   \n",
       "2  grand     125000                  8  gasoline        jeep      NaN   \n",
       "3   golf     150000                  6    petrol  volkswagen       no   \n",
       "4  fabia      90000                  7  gasoline       skoda       no   \n",
       "\n",
       "           DateCreated  NumberOfPictures  PostalCode             LastSeen  \n",
       "0  2016-03-24 00:00:00                 0       70435  2016-04-07 03:16:57  \n",
       "1  2016-03-24 00:00:00                 0       66954  2016-04-07 01:46:50  \n",
       "2  2016-03-14 00:00:00                 0       90480  2016-04-05 12:47:46  \n",
       "3  2016-03-17 00:00:00                 0       91074  2016-03-17 17:40:17  \n",
       "4  2016-03-31 00:00:00                 0       60437  2016-04-06 10:17:21  "
      ]
     },
     "execution_count": 7,
     "metadata": {},
     "output_type": "execute_result"
    }
   ],
   "source": [
    "data.head()"
   ]
  },
  {
   "cell_type": "code",
   "execution_count": 8,
   "metadata": {},
   "outputs": [],
   "source": [
    "data.VehicleType = data.VehicleType.fillna('other')\n",
    "data.Gearbox = data.Gearbox.fillna('not_specified')\n",
    "data.Model = data.Model.fillna(data.Brand)\n",
    "data.FuelType = data.FuelType.fillna('other')\n",
    "data.Repaired = data.Repaired.fillna('not_specified')"
   ]
  },
  {
   "cell_type": "code",
   "execution_count": 9,
   "metadata": {},
   "outputs": [
    {
     "data": {
      "text/plain": [
       "Model\n",
       "100                [other, wagon, sedan, coupe, convertible]\n",
       "145                             [other, small, sedan, coupe]\n",
       "147                 [sedan, small, other, wagon, coupe, suv]\n",
       "156                      [wagon, sedan, other, coupe, small]\n",
       "159                                    [sedan, wagon, other]\n",
       "                                 ...                        \n",
       "yaris                      [small, other, bus, wagon, sedan]\n",
       "yeti                                     [suv, other, wagon]\n",
       "ypsilon                          [small, other, convertible]\n",
       "z_reihe                   [convertible, coupe, other, sedan]\n",
       "zafira     [other, bus, wagon, small, suv, sedan, convert...\n",
       "Name: VehicleType, Length: 290, dtype: object"
      ]
     },
     "execution_count": 9,
     "metadata": {},
     "output_type": "execute_result"
    }
   ],
   "source": [
    "data.groupby('Model')['VehicleType'].unique()"
   ]
  },
  {
   "cell_type": "code",
   "execution_count": 10,
   "metadata": {},
   "outputs": [
    {
     "data": {
      "text/plain": [
       "Model\n",
       "100                     [petrol, gasoline, other, lpg]\n",
       "145                          [petrol, other, gasoline]\n",
       "147                     [gasoline, petrol, other, lpg]\n",
       "156                     [petrol, lpg, gasoline, other]\n",
       "159                          [other, gasoline, petrol]\n",
       "                              ...                     \n",
       "yaris                [petrol, other, gasoline, hybrid]\n",
       "yeti                         [petrol, gasoline, other]\n",
       "ypsilon                 [petrol, other, gasoline, lpg]\n",
       "z_reihe                 [petrol, other, lpg, gasoline]\n",
       "zafira     [gasoline, petrol, cng, other, lpg, hybrid]\n",
       "Name: FuelType, Length: 290, dtype: object"
      ]
     },
     "execution_count": 10,
     "metadata": {},
     "output_type": "execute_result"
    }
   ],
   "source": [
    "data.groupby('Model')['FuelType'].unique()"
   ]
  },
  {
   "cell_type": "markdown",
   "metadata": {},
   "source": [
    "Заменим неявные дубликаты"
   ]
  },
  {
   "cell_type": "code",
   "execution_count": 11,
   "metadata": {},
   "outputs": [],
   "source": [
    "data.FuelType = data.FuelType.replace('petrol', 'gasoline')\n",
    "data.VehicleType = data.VehicleType.replace('bus', 'wagon')\n",
    "data.Model = data.Model.replace('rangerover', 'range_rover')"
   ]
  },
  {
   "cell_type": "markdown",
   "metadata": {},
   "source": [
    "Частично удалим незначимые признаки, сохраняя уникальность записей для сброса явных дубликатов"
   ]
  },
  {
   "cell_type": "code",
   "execution_count": 12,
   "metadata": {},
   "outputs": [],
   "source": [
    "data = data.drop(['NumberOfPictures', 'LastSeen', 'DateCrawled'], axis=1)"
   ]
  },
  {
   "cell_type": "code",
   "execution_count": 13,
   "metadata": {},
   "outputs": [],
   "source": [
    "data = data.drop(data.Price[data.Price == 0].index)"
   ]
  },
  {
   "cell_type": "markdown",
   "metadata": {},
   "source": [
    "Сбросим дубликаты"
   ]
  },
  {
   "cell_type": "code",
   "execution_count": 14,
   "metadata": {},
   "outputs": [],
   "source": [
    "data = data.drop_duplicates().reset_index(drop=True)"
   ]
  },
  {
   "cell_type": "markdown",
   "metadata": {},
   "source": [
    "Окончательно удалим незначимые признаки"
   ]
  },
  {
   "cell_type": "markdown",
   "metadata": {},
   "source": [
    "Проверим результат"
   ]
  },
  {
   "cell_type": "code",
   "execution_count": 15,
   "metadata": {
    "scrolled": true
   },
   "outputs": [
    {
     "name": "stdout",
     "output_type": "stream",
     "text": [
      "==========================================================================================\n",
      "<class 'pandas.core.frame.DataFrame'>\n",
      "RangeIndex: 333580 entries, 0 to 333579\n",
      "Data columns (total 13 columns):\n",
      " #   Column             Non-Null Count   Dtype \n",
      "---  ------             --------------   ----- \n",
      " 0   Price              333580 non-null  int64 \n",
      " 1   VehicleType        333580 non-null  object\n",
      " 2   RegistrationYear   333580 non-null  int64 \n",
      " 3   Gearbox            333580 non-null  object\n",
      " 4   Power              333580 non-null  int64 \n",
      " 5   Model              333580 non-null  object\n",
      " 6   Kilometer          333580 non-null  int64 \n",
      " 7   RegistrationMonth  333580 non-null  int64 \n",
      " 8   FuelType           333580 non-null  object\n",
      " 9   Brand              333580 non-null  object\n",
      " 10  Repaired           333580 non-null  object\n",
      " 11  DateCreated        333580 non-null  object\n",
      " 12  PostalCode         333580 non-null  int64 \n",
      "dtypes: int64(6), object(7)\n",
      "memory usage: 33.1+ MB\n",
      "None\n",
      "------------------------------------------------------------------------------------------\n",
      "Столбцов с пустыми и нулевыми значениями: 2\n",
      "------------------------------------------------------------------------------------------\n",
      "Перечень столбцов с пустыми и нулевыми значениями:\n",
      "---------------------------------------------\n",
      "Имя поля                                Кол-во значений          Процент к общему         \n",
      "------------------------------------------------------------------------------------------\n",
      "Power                                   35728                    10.71%\n",
      "RegistrationMonth                       32357                    9.70%\n",
      "------------------------------------------------------------------------------------------\n",
      "Столбцов с пропусками: 0\n",
      "------------------------------------------------------------------------------------------\n",
      "==========================================================================================\n",
      "Количество дубликатов по строкам: 0\n",
      "==========================================================================================\n",
      "Уникальные значения в тестовых полях\n",
      "==========================================================================================\n",
      "VehicleType: ['other' 'coupe' 'suv' 'small' 'sedan' 'convertible' 'wagon']\n",
      "------------------------------------------------------------------------------------------\n",
      "Gearbox: ['manual' 'auto' 'not_specified']\n",
      "------------------------------------------------------------------------------------------\n",
      "В поле Model слишком много значений\n",
      "------------------------------------------------------------------------------------------\n",
      "FuelType: ['gasoline' 'other' 'lpg' 'hybrid' 'cng' 'electric']\n",
      "------------------------------------------------------------------------------------------\n",
      "В поле Brand слишком много значений\n",
      "------------------------------------------------------------------------------------------\n",
      "Repaired: ['not_specified' 'yes' 'no']\n",
      "------------------------------------------------------------------------------------------\n",
      "В поле DateCreated слишком много значений\n",
      "------------------------------------------------------------------------------------------\n"
     ]
    }
   ],
   "source": [
    "data_report(data)"
   ]
  },
  {
   "cell_type": "markdown",
   "metadata": {},
   "source": [
    "### Исследовательский анализ данных"
   ]
  },
  {
   "cell_type": "markdown",
   "metadata": {},
   "source": [
    "Исследуем и удалим аномалии"
   ]
  },
  {
   "cell_type": "code",
   "execution_count": 16,
   "metadata": {},
   "outputs": [
    {
     "data": {
      "text/plain": [
       "count    333580.000000\n",
       "mean       4534.380943\n",
       "std        4508.183438\n",
       "min           1.000000\n",
       "25%        1200.000000\n",
       "50%        2850.000000\n",
       "75%        6500.000000\n",
       "max       20000.000000\n",
       "Name: Price, dtype: float64"
      ]
     },
     "execution_count": 16,
     "metadata": {},
     "output_type": "execute_result"
    }
   ],
   "source": [
    "data.Price.describe()"
   ]
  },
  {
   "cell_type": "code",
   "execution_count": 17,
   "metadata": {},
   "outputs": [],
   "source": [
    "data = data.drop(data.Price[data.Price < 350].index)"
   ]
  },
  {
   "cell_type": "code",
   "execution_count": 18,
   "metadata": {},
   "outputs": [
    {
     "data": {
      "text/plain": [
       "count    318227.000000\n",
       "mean       2004.040317\n",
       "std          67.849997\n",
       "min        1000.000000\n",
       "25%        1999.000000\n",
       "50%        2003.000000\n",
       "75%        2008.000000\n",
       "max        9999.000000\n",
       "Name: RegistrationYear, dtype: float64"
      ]
     },
     "execution_count": 18,
     "metadata": {},
     "output_type": "execute_result"
    }
   ],
   "source": [
    "data.RegistrationYear.describe()"
   ]
  },
  {
   "cell_type": "code",
   "execution_count": 19,
   "metadata": {},
   "outputs": [],
   "source": [
    "data = data.drop(data.RegistrationYear[(data.RegistrationYear < 1990) | (data.RegistrationYear > 2016)].index)"
   ]
  },
  {
   "cell_type": "code",
   "execution_count": 20,
   "metadata": {},
   "outputs": [],
   "source": [
    "data['year_created'] = pd.DatetimeIndex(data.DateCreated).year"
   ]
  },
  {
   "cell_type": "code",
   "execution_count": 21,
   "metadata": {},
   "outputs": [],
   "source": [
    "data['month_created'] = pd.DatetimeIndex(data.DateCreated).month"
   ]
  },
  {
   "cell_type": "code",
   "execution_count": 22,
   "metadata": {},
   "outputs": [],
   "source": [
    "data = data.drop(data[(data.year_created == data.RegistrationYear) & (data.month_created < data.RegistrationMonth)].index)"
   ]
  },
  {
   "cell_type": "code",
   "execution_count": 23,
   "metadata": {},
   "outputs": [],
   "source": [
    "data = data.drop(data[(data.year_created == data.RegistrationYear) & (data.Kilometer > 10000)].index)"
   ]
  },
  {
   "cell_type": "code",
   "execution_count": 24,
   "metadata": {},
   "outputs": [
    {
     "data": {
      "text/plain": [
       "count    289326.000000\n",
       "mean        115.879859\n",
       "std         180.982873\n",
       "min           0.000000\n",
       "25%          75.000000\n",
       "50%         109.000000\n",
       "75%         147.000000\n",
       "max       20000.000000\n",
       "Name: Power, dtype: float64"
      ]
     },
     "execution_count": 24,
     "metadata": {},
     "output_type": "execute_result"
    }
   ],
   "source": [
    "data.Power.describe()"
   ]
  },
  {
   "cell_type": "code",
   "execution_count": 25,
   "metadata": {},
   "outputs": [],
   "source": [
    "data['model_power'] = data.groupby('Model')['Power'].transform('median').astype('int32')\n",
    "data.loc[(data.Power < 60) | (data.Power > 500), 'Power'] = np.nan\n",
    "data.Power = data.Power.fillna(data.model_power)"
   ]
  },
  {
   "cell_type": "code",
   "execution_count": 26,
   "metadata": {},
   "outputs": [],
   "source": [
    "data = data.drop(['RegistrationMonth', 'DateCreated', 'PostalCode', 'year_created', 'month_created'], axis=1)"
   ]
  },
  {
   "cell_type": "markdown",
   "metadata": {},
   "source": [
    "**Изучим распределения данных**"
   ]
  },
  {
   "cell_type": "code",
   "execution_count": 27,
   "metadata": {
    "scrolled": false
   },
   "outputs": [
    {
     "name": "stdout",
     "output_type": "stream",
     "text": [
      "==============================================================================================================\n",
      "Статистический анализ показателя Price\n",
      "--------------------------------------------------------------------------------------------------------------\n"
     ]
    },
    {
     "data": {
      "image/png": "[encoded data removed]",
      "text/plain": [
       "<Figure size 1080x360 with 2 Axes>"
      ]
     },
     "metadata": {
      "needs_background": "light"
     },
     "output_type": "display_data"
    },
    {
     "name": "stdout",
     "output_type": "stream",
     "text": [
      "==============================================================================================================\n",
      "Статистический анализ показателя RegistrationYear\n",
      "--------------------------------------------------------------------------------------------------------------\n"
     ]
    },
    {
     "data": {
      "image/png": "[encoded data removed]",
      "text/plain": [
       "<Figure size 1080x360 with 2 Axes>"
      ]
     },
     "metadata": {
      "needs_background": "light"
     },
     "output_type": "display_data"
    },
    {
     "name": "stdout",
     "output_type": "stream",
     "text": [
      "==============================================================================================================\n",
      "Статистический анализ показателя Power\n",
      "--------------------------------------------------------------------------------------------------------------\n"
     ]
    },
    {
     "data": {
      "image/png": "[encoded data removed]",
      "text/plain": [
       "<Figure size 1080x360 with 2 Axes>"
      ]
     },
     "metadata": {
      "needs_background": "light"
     },
     "output_type": "display_data"
    },
    {
     "name": "stdout",
     "output_type": "stream",
     "text": [
      "==============================================================================================================\n",
      "Статистический анализ показателя Kilometer\n",
      "--------------------------------------------------------------------------------------------------------------\n"
     ]
    },
    {
     "data": {
      "image/png": "[encoded data removed]",
      "text/plain": [
       "<Figure size 1080x360 with 2 Axes>"
      ]
     },
     "metadata": {
      "needs_background": "light"
     },
     "output_type": "display_data"
    },
    {
     "name": "stdout",
     "output_type": "stream",
     "text": [
      "==============================================================================================================\n",
      "Статистический анализ показателя model_power\n",
      "--------------------------------------------------------------------------------------------------------------\n"
     ]
    },
    {
     "data": {
      "image/png": "[encoded data removed]",
      "text/plain": [
       "<Figure size 1080x360 with 2 Axes>"
      ]
     },
     "metadata": {
      "needs_background": "light"
     },
     "output_type": "display_data"
    },
    {
     "data": {
      "image/png": "[encoded data removed]",
      "text/plain": [
       "<Figure size 432x288 with 1 Axes>"
      ]
     },
     "metadata": {},
     "output_type": "display_data"
    },
    {
     "data": {
      "image/png": "[encoded data removed]",
      "text/plain": [
       "<Figure size 432x288 with 1 Axes>"
      ]
     },
     "metadata": {},
     "output_type": "display_data"
    },
    {
     "data": {
      "image/png": "[encoded data removed]",
      "text/plain": [
       "<Figure size 432x288 with 1 Axes>"
      ]
     },
     "metadata": {},
     "output_type": "display_data"
    },
    {
     "data": {
      "image/png": "[encoded data removed]",
      "text/plain": [
       "<Figure size 432x288 with 1 Axes>"
      ]
     },
     "metadata": {},
     "output_type": "display_data"
    }
   ],
   "source": [
    "custom_bins = {\n",
    "    'Kilometer': 6,\n",
    "    'Power': 8\n",
    "}\n",
    "stat_plots(data.drop(['Model', 'Brand'], axis=1), custom_bins=custom_bins)"
   ]
  },
  {
   "cell_type": "markdown",
   "metadata": {},
   "source": [
    "Данные распределены в основном ненормально, поэтому при анализе корреляций будем использовать корреляцию PhiK"
   ]
  },
  {
   "cell_type": "markdown",
   "metadata": {},
   "source": [
    "### Анализ корреляций"
   ]
  },
  {
   "cell_type": "code",
   "execution_count": 28,
   "metadata": {},
   "outputs": [
    {
     "name": "stdout",
     "output_type": "stream",
     "text": [
      "interval columns not set, guessing: ['Price', 'RegistrationYear', 'Power', 'Kilometer', 'model_power']\n"
     ]
    },
    {
     "data": {
      "image/png": "[encoded data removed]",
      "text/plain": [
       "<Figure size 864x864 with 2 Axes>"
      ]
     },
     "metadata": {
      "needs_background": "light"
     },
     "output_type": "display_data"
    }
   ],
   "source": [
    "phik_corr(data)"
   ]
  },
  {
   "cell_type": "markdown",
   "metadata": {},
   "source": [
    "Удалим признаки, вызывающие мультиколлинеарность:"
   ]
  },
  {
   "cell_type": "code",
   "execution_count": 29,
   "metadata": {},
   "outputs": [],
   "source": [
    "data = data.drop(['VehicleType', 'Brand', 'FuelType'], axis=1)"
   ]
  },
  {
   "cell_type": "markdown",
   "metadata": {},
   "source": [
    "## Обучение моделей"
   ]
  },
  {
   "cell_type": "markdown",
   "metadata": {},
   "source": [
    "### Подготовка выборок"
   ]
  },
  {
   "cell_type": "code",
   "execution_count": 30,
   "metadata": {},
   "outputs": [],
   "source": [
    "cat_features = data.select_dtypes(include='object').columns.tolist()\n",
    "num_features = data.select_dtypes(include='number').columns.tolist()"
   ]
  },
  {
   "cell_type": "markdown",
   "metadata": {},
   "source": [
    "**Сформируем два набора выборок для эмуляции вывода в прод**"
   ]
  },
  {
   "cell_type": "code",
   "execution_count": 31,
   "metadata": {},
   "outputs": [],
   "source": [
    "train_data_prod, test_data_prod = train_test_split(data, test_size=0.2, random_state=RANDOM_STATE)\n",
    "train_data, test_data = train_test_split(train_data_prod, test_size=0.2, random_state=RANDOM_STATE)"
   ]
  },
  {
   "cell_type": "code",
   "execution_count": 32,
   "metadata": {},
   "outputs": [],
   "source": [
    "X_train_prod, y_train_prod = train_data_prod.drop('Price', axis=1), train_data_prod.Price\n",
    "X_test_prod, y_test_prod = test_data_prod.drop('Price', axis=1), test_data_prod.Price\n",
    "\n",
    "X_train, y_train = train_data.drop('Price', axis=1), train_data.Price\n",
    "X_test, y_test = test_data.drop('Price', axis=1), test_data.Price"
   ]
  },
  {
   "cell_type": "markdown",
   "metadata": {},
   "source": [
    "Создадим таблицу для учета результатов"
   ]
  },
  {
   "cell_type": "code",
   "execution_count": 33,
   "metadata": {},
   "outputs": [],
   "source": [
    "results = pd.DataFrame(\n",
    "    {\n",
    "        'Model': [],\n",
    "        'Fit_time': [],\n",
    "        'Predict_time': [],\n",
    "        'RMSE': []\n",
    "    }\n",
    ")"
   ]
  },
  {
   "cell_type": "markdown",
   "metadata": {},
   "source": [
    "### Модель CatBoost"
   ]
  },
  {
   "cell_type": "code",
   "execution_count": 34,
   "metadata": {},
   "outputs": [],
   "source": [
    "cb_train = cb.Pool(X_train, label=y_train, cat_features=cat_features)\n",
    "cb_test = cb.Pool(X_test, cat_features=cat_features)"
   ]
  },
  {
   "cell_type": "code",
   "execution_count": 35,
   "metadata": {},
   "outputs": [],
   "source": [
    "cb_model = cb.CatBoostRegressor(verbose=300, random_seed=RANDOM_STATE)"
   ]
  },
  {
   "cell_type": "code",
   "execution_count": 36,
   "metadata": {},
   "outputs": [
    {
     "name": "stdout",
     "output_type": "stream",
     "text": [
      "Learning rate set to 0.093423\n",
      "0:\tlearn: 4256.5652262\ttotal: 220ms\tremaining: 3m 39s\n",
      "300:\tlearn: 1667.1859856\ttotal: 32.7s\tremaining: 1m 15s\n",
      "600:\tlearn: 1613.7762027\ttotal: 1m 4s\tremaining: 42.8s\n",
      "900:\tlearn: 1580.2140547\ttotal: 1m 37s\tremaining: 10.7s\n",
      "999:\tlearn: 1571.5470130\ttotal: 1m 48s\tremaining: 0us\n"
     ]
    }
   ],
   "source": [
    "start = time.time()\n",
    "cb_model.fit(cb_train)\n",
    "end = time.time()\n",
    "fit_time = int(end - start)\n",
    "fit_minutes, fit_seconds = divmod(fit_time, 60)"
   ]
  },
  {
   "cell_type": "code",
   "execution_count": 37,
   "metadata": {},
   "outputs": [],
   "source": [
    "start = time.time()\n",
    "y_pred = cb_model.predict(X_test)\n",
    "end = time.time()\n",
    "pred_time = round(end - start, 2)\n",
    "pred_minutes, pred_seconds = divmod(pred_time, 60)"
   ]
  },
  {
   "cell_type": "code",
   "execution_count": 38,
   "metadata": {},
   "outputs": [
    {
     "name": "stdout",
     "output_type": "stream",
     "text": [
      "Время обучения модели CatBoost: 1 мин. 50 сек.\n",
      "Время предсказаний модели CatBoost: 0 мин. 0 сек.\n",
      "Значение метрики RMSE для модели CatBoost = 1628\n"
     ]
    }
   ],
   "source": [
    "rmse = int(root_mean_squared_error(y_test, y_pred))\n",
    "print(f'Время обучения модели CatBoost: {int(fit_minutes)} мин. {int(fit_seconds)} сек.')\n",
    "print(f'Время предсказаний модели CatBoost: {int(pred_minutes)} мин. {int(pred_seconds)} сек.')\n",
    "print(f'Значение метрики RMSE для модели CatBoost = {rmse}')"
   ]
  },
  {
   "cell_type": "code",
   "execution_count": 39,
   "metadata": {},
   "outputs": [],
   "source": [
    "results = results.append(\n",
    "    {\n",
    "        'Model': 'CatBoost',\n",
    "        'Fit_time': fit_time,\n",
    "        'Predict_time': pred_time,\n",
    "        'RMSE': rmse\n",
    "    }, ignore_index=True\n",
    ")"
   ]
  },
  {
   "cell_type": "markdown",
   "metadata": {},
   "source": [
    "### Модель LightGBM"
   ]
  },
  {
   "cell_type": "code",
   "execution_count": 40,
   "metadata": {},
   "outputs": [],
   "source": [
    "X_train[cat_features] = X_train[cat_features].astype(\"category\")\n",
    "X_test[cat_features] = X_test[cat_features].astype(\"category\")"
   ]
  },
  {
   "cell_type": "code",
   "execution_count": 41,
   "metadata": {
    "scrolled": true
   },
   "outputs": [],
   "source": [
    "lgb_train = lgb.Dataset(X_train, label=y_train)\n",
    "\n",
    "depth = 10\n",
    "leaves = 2 ** depth\n",
    "leaf_data = 500\n",
    "\n",
    "params = {\n",
    "    'num_leaves': leaves,\n",
    "    'min_data_in_leaf': leaf_data,\n",
    "    'max_depth': depth,\n",
    "    'learning_rate': 0.1,\n",
    "    'num_iterations': 300,\n",
    "    'verbose': -1, \n",
    "    'seed': RANDOM_STATE}"
   ]
  },
  {
   "cell_type": "code",
   "execution_count": 42,
   "metadata": {},
   "outputs": [
    {
     "name": "stderr",
     "output_type": "stream",
     "text": [
      "/opt/conda/lib/python3.9/site-packages/lightgbm/engine.py:177: UserWarning: Found `num_iterations` in params. Will use it instead of argument\n",
      "  _log_warning(f\"Found `{alias}` in params. Will use it instead of argument\")\n"
     ]
    }
   ],
   "source": [
    "start = time.time()\n",
    "lgb_model = lgb.train(params=params, train_set=lgb_train)\n",
    "end = time.time()\n",
    "fit_time = int(end - start)\n",
    "fit_minutes, fit_seconds = divmod(fit_time, 60)"
   ]
  },
  {
   "cell_type": "code",
   "execution_count": 43,
   "metadata": {},
   "outputs": [],
   "source": [
    "start = time.time()\n",
    "y_pred = lgb_model.predict(X_test)\n",
    "end = time.time()\n",
    "pred_time = round(end - start, 2)\n",
    "pred_minutes, pred_seconds = divmod(pred_time, 60)"
   ]
  },
  {
   "cell_type": "code",
   "execution_count": 44,
   "metadata": {},
   "outputs": [
    {
     "name": "stdout",
     "output_type": "stream",
     "text": [
      "Время обучения модели LightGBM: 0 мин. 15 сек.\n",
      "Время получения предсказаний модели LightGBM: 0 мин. 2 сек.\n",
      "Значение метрики RMSE для модели LightGBM = 1601\n"
     ]
    }
   ],
   "source": [
    "rmse = int(root_mean_squared_error(y_test, y_pred))\n",
    "print(f'Время обучения модели LightGBM: {int(fit_minutes)} мин. {int(fit_seconds)} сек.')\n",
    "print(f'Время получения предсказаний модели LightGBM: {int(pred_minutes)} мин. {int(pred_seconds)} сек.')\n",
    "print(f'Значение метрики RMSE для модели LightGBM = {rmse}')"
   ]
  },
  {
   "cell_type": "code",
   "execution_count": 45,
   "metadata": {},
   "outputs": [],
   "source": [
    "results = results.append(\n",
    "    {\n",
    "        'Model': 'LightGBM',\n",
    "        'Fit_time': fit_time,\n",
    "        'Predict_time': pred_time,\n",
    "        'RMSE': rmse\n",
    "    }, ignore_index=True\n",
    ")"
   ]
  },
  {
   "cell_type": "markdown",
   "metadata": {},
   "source": [
    "### Модель Decision Tree"
   ]
  },
  {
   "cell_type": "markdown",
   "metadata": {},
   "source": [
    "Подбор гиперпараметров методом RandomizedSearchCV"
   ]
  },
  {
   "cell_type": "code",
   "execution_count": 46,
   "metadata": {},
   "outputs": [],
   "source": [
    "pipe_train =  Pipeline([\n",
    "    ('preprocessor', OneHotEncoder(drop='first', handle_unknown='ignore')),\n",
    "    ('models', 'passthrough')\n",
    "])"
   ]
  },
  {
   "cell_type": "code",
   "execution_count": 47,
   "metadata": {},
   "outputs": [],
   "source": [
    "param_grid = [\n",
    "    {\n",
    "        'models': [DecisionTreeRegressor(random_state=RANDOM_STATE)],\n",
    "        'models__min_samples_split': range(2, 500),\n",
    "        'models__min_samples_leaf': range(2, 500),\n",
    "        'models__max_depth': range(2, 500),\n",
    "        'models__max_features': range(2, 500)\n",
    "    }   \n",
    "]"
   ]
  },
  {
   "cell_type": "code",
   "execution_count": 48,
   "metadata": {},
   "outputs": [],
   "source": [
    "param_search = RandomizedSearchCV(\n",
    "    pipe_train,\n",
    "    param_grid,\n",
    "    n_jobs=-1,\n",
    "    cv=5,\n",
    "    n_iter=50,\n",
    "    scoring='neg_root_mean_squared_error'\n",
    ")"
   ]
  },
  {
   "cell_type": "code",
   "execution_count": 49,
   "metadata": {},
   "outputs": [
    {
     "data": {
      "text/html": [
       "<div>\n",
       "<style scoped>\n",
       "    .dataframe tbody tr th:only-of-type {\n",
       "        vertical-align: middle;\n",
       "    }\n",
       "\n",
       "    .dataframe tbody tr th {\n",
       "        vertical-align: top;\n",
       "    }\n",
       "\n",
       "    .dataframe thead th {\n",
       "        text-align: right;\n",
       "    }\n",
       "</style>\n",
       "<table border=\"1\" class=\"dataframe\">\n",
       "  <thead>\n",
       "    <tr style=\"text-align: right;\">\n",
       "      <th></th>\n",
       "      <th>rank_test_score</th>\n",
       "      <th>params</th>\n",
       "    </tr>\n",
       "  </thead>\n",
       "  <tbody>\n",
       "    <tr>\n",
       "      <th>31</th>\n",
       "      <td>1</td>\n",
       "      <td>{'models__min_samples_split': 97, 'models__min_samples_leaf': 5, 'models__max_features': 425, 'models__max_depth': 363, 'models': DecisionTreeRegressor(random_state=88)}</td>\n",
       "    </tr>\n",
       "    <tr>\n",
       "      <th>9</th>\n",
       "      <td>2</td>\n",
       "      <td>{'models__min_samples_split': 6, 'models__min_samples_leaf': 22, 'models__max_features': 409, 'models__max_depth': 34, 'models': DecisionTreeRegressor(random_state=88)}</td>\n",
       "    </tr>\n",
       "    <tr>\n",
       "      <th>37</th>\n",
       "      <td>3</td>\n",
       "      <td>{'models__min_samples_split': 424, 'models__min_samples_leaf': 18, 'models__max_features': 273, 'models__max_depth': 241, 'models': DecisionTreeRegressor(random_state=88)}</td>\n",
       "    </tr>\n",
       "    <tr>\n",
       "      <th>49</th>\n",
       "      <td>4</td>\n",
       "      <td>{'models__min_samples_split': 371, 'models__min_samples_leaf': 43, 'models__max_features': 325, 'models__max_depth': 425, 'models': DecisionTreeRegressor(random_state=88)}</td>\n",
       "    </tr>\n",
       "    <tr>\n",
       "      <th>15</th>\n",
       "      <td>5</td>\n",
       "      <td>{'models__min_samples_split': 105, 'models__min_samples_leaf': 52, 'models__max_features': 242, 'models__max_depth': 147, 'models': DecisionTreeRegressor(random_state=88)}</td>\n",
       "    </tr>\n",
       "  </tbody>\n",
       "</table>\n",
       "</div>"
      ],
      "text/plain": [
       "    rank_test_score  \\\n",
       "31                1   \n",
       "9                 2   \n",
       "37                3   \n",
       "49                4   \n",
       "15                5   \n",
       "\n",
       "                                                                                                                                                                         params  \n",
       "31    {'models__min_samples_split': 97, 'models__min_samples_leaf': 5, 'models__max_features': 425, 'models__max_depth': 363, 'models': DecisionTreeRegressor(random_state=88)}  \n",
       "9      {'models__min_samples_split': 6, 'models__min_samples_leaf': 22, 'models__max_features': 409, 'models__max_depth': 34, 'models': DecisionTreeRegressor(random_state=88)}  \n",
       "37  {'models__min_samples_split': 424, 'models__min_samples_leaf': 18, 'models__max_features': 273, 'models__max_depth': 241, 'models': DecisionTreeRegressor(random_state=88)}  \n",
       "49  {'models__min_samples_split': 371, 'models__min_samples_leaf': 43, 'models__max_features': 325, 'models__max_depth': 425, 'models': DecisionTreeRegressor(random_state=88)}  \n",
       "15  {'models__min_samples_split': 105, 'models__min_samples_leaf': 52, 'models__max_features': 242, 'models__max_depth': 147, 'models': DecisionTreeRegressor(random_state=88)}  "
      ]
     },
     "execution_count": 49,
     "metadata": {},
     "output_type": "execute_result"
    }
   ],
   "source": [
    "warnings.filterwarnings('ignore')\n",
    "\n",
    "param_search.fit(X_train, y_train)\n",
    "\n",
    "pd.set_option('display.max_colwidth', None)\n",
    "result = pd.DataFrame(param_search.cv_results_)\n",
    "result[['rank_test_score', 'params']].sort_values('rank_test_score').head(5)"
   ]
  },
  {
   "cell_type": "code",
   "execution_count": 50,
   "metadata": {},
   "outputs": [],
   "source": [
    "best_suite = param_search.best_estimator_\n",
    "start = time.time()\n",
    "best_suite.fit(X_train, y_train)\n",
    "end = time.time()\n",
    "fit_time = int(end - start)\n",
    "fit_minutes, fit_seconds = divmod(fit_time, 60)"
   ]
  },
  {
   "cell_type": "code",
   "execution_count": 51,
   "metadata": {},
   "outputs": [],
   "source": [
    "start = time.time()\n",
    "y_pred = best_suite.predict(X_test)\n",
    "end = time.time()\n",
    "pred_time = round(end - start, 2)\n",
    "pred_minutes, pred_seconds = divmod(pred_time, 60)"
   ]
  },
  {
   "cell_type": "code",
   "execution_count": 52,
   "metadata": {},
   "outputs": [
    {
     "name": "stdout",
     "output_type": "stream",
     "text": [
      "Время обучения лучшей модели Decision Tree: 0 мин. 5 сек.\n",
      "Время получения предсказаний лучшей модели Decision Tree: 0 мин. 0 сек.\n",
      "Значение метрики RMSE для модели Decision Tree после подбора параметров методом RandomizedSearchCV = 1947\n"
     ]
    }
   ],
   "source": [
    "rmse = int(root_mean_squared_error(y_test, y_pred))\n",
    "print(f'Время обучения лучшей модели Decision Tree: {int(fit_minutes)} мин. {int(fit_seconds)} сек.')\n",
    "print(f'Время получения предсказаний лучшей модели Decision Tree: {int(pred_minutes)} мин. {int(pred_seconds)} сек.')\n",
    "print(f'Значение метрики RMSE для модели Decision Tree после подбора параметров методом RandomizedSearchCV = {rmse}')"
   ]
  },
  {
   "cell_type": "code",
   "execution_count": 53,
   "metadata": {},
   "outputs": [],
   "source": [
    "results = results.append(\n",
    "    {\n",
    "        'Model': 'Decision_Tree',\n",
    "        'Fit_time': fit_time,\n",
    "        'Predict_time': pred_time,\n",
    "        'RMSE': rmse\n",
    "    }, ignore_index=True\n",
    ")"
   ]
  },
  {
   "cell_type": "markdown",
   "metadata": {},
   "source": [
    "### Dummy модель"
   ]
  },
  {
   "cell_type": "code",
   "execution_count": 54,
   "metadata": {},
   "outputs": [
    {
     "name": "stdout",
     "output_type": "stream",
     "text": [
      "Значение метрики RMSE у DummyRegressor: 4859\n"
     ]
    }
   ],
   "source": [
    "dr = DummyRegressor(strategy='median')\n",
    "dr.fit(X_train, y_train)\n",
    "y_pred_dummy = dr.predict(X_test)\n",
    "rmse = int(root_mean_squared_error(y_test, y_pred_dummy))\n",
    "print(f'Значение метрики RMSE у DummyRegressor: {rmse}')"
   ]
  },
  {
   "cell_type": "markdown",
   "metadata": {},
   "source": [
    "Ошибка модели, предсказывающей случайные значения, в несколько раз превышает ошибки сравниваемых моделей.\\\n",
    "Это значит, что модели настроены адекватно задаче."
   ]
  },
  {
   "cell_type": "markdown",
   "metadata": {},
   "source": [
    "## Анализ моделей"
   ]
  },
  {
   "cell_type": "markdown",
   "metadata": {},
   "source": [
    "По результатам произведенных экспериментов получены следующие результаты:"
   ]
  },
  {
   "cell_type": "code",
   "execution_count": 55,
   "metadata": {},
   "outputs": [
    {
     "data": {
      "text/html": [
       "<div>\n",
       "<style scoped>\n",
       "    .dataframe tbody tr th:only-of-type {\n",
       "        vertical-align: middle;\n",
       "    }\n",
       "\n",
       "    .dataframe tbody tr th {\n",
       "        vertical-align: top;\n",
       "    }\n",
       "\n",
       "    .dataframe thead th {\n",
       "        text-align: right;\n",
       "    }\n",
       "</style>\n",
       "<table border=\"1\" class=\"dataframe\">\n",
       "  <thead>\n",
       "    <tr style=\"text-align: right;\">\n",
       "      <th></th>\n",
       "      <th>Fit_time</th>\n",
       "      <th>Predict_time</th>\n",
       "      <th>RMSE</th>\n",
       "    </tr>\n",
       "    <tr>\n",
       "      <th>Model</th>\n",
       "      <th></th>\n",
       "      <th></th>\n",
       "      <th></th>\n",
       "    </tr>\n",
       "  </thead>\n",
       "  <tbody>\n",
       "    <tr>\n",
       "      <th>LightGBM</th>\n",
       "      <td>15.0</td>\n",
       "      <td>2.11</td>\n",
       "      <td>1601.0</td>\n",
       "    </tr>\n",
       "    <tr>\n",
       "      <th>CatBoost</th>\n",
       "      <td>110.0</td>\n",
       "      <td>0.22</td>\n",
       "      <td>1628.0</td>\n",
       "    </tr>\n",
       "    <tr>\n",
       "      <th>Decision_Tree</th>\n",
       "      <td>5.0</td>\n",
       "      <td>0.09</td>\n",
       "      <td>1947.0</td>\n",
       "    </tr>\n",
       "  </tbody>\n",
       "</table>\n",
       "</div>"
      ],
      "text/plain": [
       "               Fit_time  Predict_time    RMSE\n",
       "Model                                        \n",
       "LightGBM           15.0          2.11  1601.0\n",
       "CatBoost          110.0          0.22  1628.0\n",
       "Decision_Tree       5.0          0.09  1947.0"
      ]
     },
     "execution_count": 55,
     "metadata": {},
     "output_type": "execute_result"
    }
   ],
   "source": [
    "results = results.set_index('Model')\n",
    "results.sort_values(by='RMSE')"
   ]
  },
  {
   "cell_type": "markdown",
   "metadata": {},
   "source": [
    "Наименьший размер ошибки демонстрирует модель LightGBM. При этом, схожую величину ошибки мы можем наблюдать и у модели CatBoost.\\\n",
    "Второй по значимости критерий качества Заказчика это время обучения, и оно значительно меньше у модели LightGBM относительно CatBoost. Минимальное время обучения и предсказания показала модель Decision_Tree, но она существенно проигрывает по первичному критерию, поэтому при дальнейшем сравнении мы ее уже не рассматриваем.\\\n",
    "Третий критерий Заказчика - это время предсказания, по которому имеет единственное преимущество модель CatBoost.\\\n",
    "**В итоге, наилучшие показатели по результатам сравнения продемонстрировала модель LightGBM.**\\\n",
    "Проверим ее метрики на тестовых данных:"
   ]
  },
  {
   "cell_type": "code",
   "execution_count": 59,
   "metadata": {},
   "outputs": [
    {
     "name": "stdout",
     "output_type": "stream",
     "text": [
      "Значение метрики RMSE для модели LightGBM на тестовых производственных данных = 2395\n"
     ]
    }
   ],
   "source": [
    "X_test_prod[cat_features] = X_test_prod[cat_features].astype(\"category\")\n",
    "y_pred_prod = lgb_model.predict(X_test_prod)\n",
    "rmse = int(root_mean_squared_error(y_test_prod, y_pred_prod))\n",
    "print(f'Значение метрики RMSE для модели LightGBM на тестовых производственных данных = {rmse}')"
   ]
  },
  {
   "cell_type": "markdown",
   "metadata": {},
   "source": [
    "Как мы можем видеть, выбранная модель держит ключевую метрику в пределах норматива Заказчика на тестовых данных, что подтверждает наш выбор."
   ]
  },
  {
   "cell_type": "markdown",
   "metadata": {},
   "source": [
    "## Итоговый вывод\n",
    "\n",
    "Набор данных, предоставленный для исследования, содержит множество пропусков, нулевых значений и аномалий.\\\n",
    "Для приведения данных в пригодное для обучения состояние были произведены следующие работы:\n",
    "* Пропуски в полях VehicleType, Gearbox, FuelType и Repaired были заменены на значения по-умолчанию \n",
    "* Пропуски в поле Model были заменены на наименование бренда\n",
    "* Устранены неявные дубликаты в полях Model, VehicleType и FuelType\n",
    "* Исключены из моделирования строки с нулевой ценой\n",
    "* Удалены явно дублированные записи\n",
    "\n",
    "Исследовательский анализ данных показал ряд аномалий, которые были устранены, в частности:\n",
    "* слишком низкие цены\n",
    "* некорректные данные о годе выпуска автомобиля\n",
    "* несоответствие дат публикации, года выпуска и пробега\n",
    "* исправлены заведомо неверные данные о мощности автомобиля\n",
    "\n",
    "Анализ распределений показал отсутствие нормальности распределений большинства признаков, в связи с чем для анализа корреляций была использована матрица PhiK.\\\n",
    "Анализ корреляций, в свою очередь, показал наличие взаимозависимых признаков, вплоть до мультиколлинеарности. Признаки с сильной зависимостью на другие входные признаки, были удалены.\n",
    "\n",
    "Для целей проекта были задействованы три модели:\n",
    "- CatBoost\n",
    "- LightGBM\n",
    "- Decision Tree\n",
    "\n",
    "По результатам произведенных экспериментов получены следующие результаты:\n",
    "* все модели показали точность согласно требованиям заказчика\n",
    "* самая высокая точность отмечена у моделей CatBoost и LightGBM \n",
    "* при этом скорость обучения среди лидеров по точности выше у модели LightGBM\n",
    "* скорость предсказаний, напротив - выше у модели CatBoost\n",
    "* самое низкое время получения предсказаний продемонстрировала модель Decision Tree, наряду с самой низкой точностью\n",
    "\n",
    "Таким образом, если для работы приложения важнее скорость обучения, то рекомендуется использовать модель LightGBM.\n",
    "Если же важнее скорость получения предсказаний, то следует выбрать CatBoost."
   ]
  }
 ],
 "metadata": {
  "ExecuteTimeLog": [
   {
    "duration": 421,
    "start_time": "2025-04-18T13:14:46.791Z"
   },
   {
    "duration": 1011,
    "start_time": "2025-04-18T13:16:40.393Z"
   },
   {
    "duration": 12,
    "start_time": "2025-04-18T13:16:57.841Z"
   },
   {
    "duration": 3216,
    "start_time": "2025-04-18T13:17:07.209Z"
   },
   {
    "duration": 463,
    "start_time": "2025-04-27T07:16:26.860Z"
   },
   {
    "duration": 11,
    "start_time": "2025-04-27T07:16:27.325Z"
   },
   {
    "duration": 985,
    "start_time": "2025-04-27T07:16:27.337Z"
   },
   {
    "duration": 26,
    "start_time": "2025-04-27T07:16:52.378Z"
   },
   {
    "duration": 42,
    "start_time": "2025-04-28T11:16:42.451Z"
   },
   {
    "duration": 6,
    "start_time": "2025-04-28T11:18:05.198Z"
   },
   {
    "duration": 5,
    "start_time": "2025-04-28T11:19:49.715Z"
   },
   {
    "duration": 102,
    "start_time": "2025-04-28T12:39:43.353Z"
   },
   {
    "duration": 83,
    "start_time": "2025-04-28T12:47:21.449Z"
   },
   {
    "duration": 22,
    "start_time": "2025-04-28T12:47:26.637Z"
   },
   {
    "duration": 50,
    "start_time": "2025-04-28T12:47:44.508Z"
   },
   {
    "duration": 25,
    "start_time": "2025-04-28T12:47:58.819Z"
   },
   {
    "duration": 25,
    "start_time": "2025-04-28T12:48:21.182Z"
   },
   {
    "duration": 30,
    "start_time": "2025-04-28T12:48:31.281Z"
   },
   {
    "duration": 7,
    "start_time": "2025-04-28T12:56:35.792Z"
   },
   {
    "duration": 9,
    "start_time": "2025-04-28T12:56:47.797Z"
   },
   {
    "duration": 24,
    "start_time": "2025-04-28T12:57:09.141Z"
   },
   {
    "duration": 11,
    "start_time": "2025-04-28T12:58:41.091Z"
   },
   {
    "duration": 22,
    "start_time": "2025-04-28T13:01:27.079Z"
   },
   {
    "duration": 17,
    "start_time": "2025-04-28T13:01:39.247Z"
   },
   {
    "duration": 11,
    "start_time": "2025-04-28T13:01:48.583Z"
   },
   {
    "duration": 13,
    "start_time": "2025-04-28T13:01:58.055Z"
   },
   {
    "duration": 15,
    "start_time": "2025-04-28T13:03:07.965Z"
   },
   {
    "duration": 17,
    "start_time": "2025-04-28T13:13:58.132Z"
   },
   {
    "duration": 20,
    "start_time": "2025-04-28T13:14:13.709Z"
   },
   {
    "duration": 423,
    "start_time": "2025-04-28T13:14:53.626Z"
   },
   {
    "duration": 11,
    "start_time": "2025-04-28T13:14:54.051Z"
   },
   {
    "duration": 1105,
    "start_time": "2025-04-28T13:14:54.064Z"
   },
   {
    "duration": 3714,
    "start_time": "2025-04-28T13:14:55.170Z"
   },
   {
    "duration": 34,
    "start_time": "2025-04-28T13:14:58.886Z"
   },
   {
    "duration": 94,
    "start_time": "2025-04-28T13:14:58.923Z"
   },
   {
    "duration": 0,
    "start_time": "2025-04-28T13:14:59.020Z"
   },
   {
    "duration": 0,
    "start_time": "2025-04-28T13:14:59.022Z"
   },
   {
    "duration": 0,
    "start_time": "2025-04-28T13:14:59.024Z"
   },
   {
    "duration": 13,
    "start_time": "2025-04-28T13:16:05.617Z"
   },
   {
    "duration": 34,
    "start_time": "2025-04-28T13:16:58.408Z"
   },
   {
    "duration": 50,
    "start_time": "2025-04-28T13:17:27.223Z"
   },
   {
    "duration": 33,
    "start_time": "2025-04-28T13:17:46.910Z"
   },
   {
    "duration": 24,
    "start_time": "2025-04-28T13:18:08.780Z"
   },
   {
    "duration": 11,
    "start_time": "2025-04-28T13:18:11.756Z"
   },
   {
    "duration": 434,
    "start_time": "2025-04-28T13:18:43.684Z"
   },
   {
    "duration": 14,
    "start_time": "2025-04-28T13:18:44.121Z"
   },
   {
    "duration": 1031,
    "start_time": "2025-04-28T13:18:44.137Z"
   },
   {
    "duration": 3784,
    "start_time": "2025-04-28T13:18:45.170Z"
   },
   {
    "duration": 19,
    "start_time": "2025-04-28T13:18:48.957Z"
   },
   {
    "duration": 106,
    "start_time": "2025-04-28T13:18:48.978Z"
   },
   {
    "duration": 55,
    "start_time": "2025-04-28T13:18:49.086Z"
   },
   {
    "duration": 12,
    "start_time": "2025-04-28T13:18:49.142Z"
   },
   {
    "duration": 28,
    "start_time": "2025-04-28T13:18:49.155Z"
   },
   {
    "duration": 11,
    "start_time": "2025-04-28T13:18:54.968Z"
   },
   {
    "duration": 16,
    "start_time": "2025-04-28T13:31:17.932Z"
   },
   {
    "duration": 73,
    "start_time": "2025-04-28T13:32:44.426Z"
   },
   {
    "duration": 5,
    "start_time": "2025-04-28T13:33:20.199Z"
   },
   {
    "duration": 446,
    "start_time": "2025-04-28T13:36:11.232Z"
   },
   {
    "duration": 16,
    "start_time": "2025-04-28T13:36:11.680Z"
   },
   {
    "duration": 1100,
    "start_time": "2025-04-28T13:36:11.704Z"
   },
   {
    "duration": 3507,
    "start_time": "2025-04-28T13:36:12.806Z"
   },
   {
    "duration": 132,
    "start_time": "2025-04-28T13:36:16.317Z"
   },
   {
    "duration": 23,
    "start_time": "2025-04-28T13:36:16.451Z"
   },
   {
    "duration": 35,
    "start_time": "2025-04-28T13:36:16.476Z"
   },
   {
    "duration": 22,
    "start_time": "2025-04-28T13:36:16.514Z"
   },
   {
    "duration": 76,
    "start_time": "2025-04-28T13:36:16.537Z"
   },
   {
    "duration": 12,
    "start_time": "2025-04-28T13:36:22.757Z"
   },
   {
    "duration": 24,
    "start_time": "2025-04-28T13:38:57.831Z"
   },
   {
    "duration": 1257,
    "start_time": "2025-04-28T13:39:03.330Z"
   },
   {
    "duration": 479,
    "start_time": "2025-04-28T13:40:24.925Z"
   },
   {
    "duration": 14,
    "start_time": "2025-04-28T13:40:25.406Z"
   },
   {
    "duration": 1095,
    "start_time": "2025-04-28T13:40:25.422Z"
   },
   {
    "duration": 3341,
    "start_time": "2025-04-28T13:40:26.519Z"
   },
   {
    "duration": 113,
    "start_time": "2025-04-28T13:40:29.863Z"
   },
   {
    "duration": 48,
    "start_time": "2025-04-28T13:40:29.978Z"
   },
   {
    "duration": 86,
    "start_time": "2025-04-28T13:40:30.028Z"
   },
   {
    "duration": 131,
    "start_time": "2025-04-28T13:40:30.116Z"
   },
   {
    "duration": 18,
    "start_time": "2025-04-28T13:40:30.248Z"
   },
   {
    "duration": 1581,
    "start_time": "2025-04-28T13:49:21.333Z"
   },
   {
    "duration": 281,
    "start_time": "2025-04-28T13:52:42.978Z"
   },
   {
    "duration": 1404,
    "start_time": "2025-04-28T13:52:49.002Z"
   },
   {
    "duration": 37,
    "start_time": "2025-04-28T13:53:26.896Z"
   },
   {
    "duration": 403,
    "start_time": "2025-04-28T13:55:41.421Z"
   },
   {
    "duration": 13,
    "start_time": "2025-04-28T13:59:33.341Z"
   },
   {
    "duration": 9,
    "start_time": "2025-04-28T14:03:19.217Z"
   },
   {
    "duration": 92,
    "start_time": "2025-04-28T14:04:01.631Z"
   },
   {
    "duration": 1101,
    "start_time": "2025-04-28T14:04:38.200Z"
   },
   {
    "duration": 8431,
    "start_time": "2025-04-28T14:04:45.638Z"
   },
   {
    "duration": 10,
    "start_time": "2025-04-28T14:06:56.237Z"
   },
   {
    "duration": 20,
    "start_time": "2025-04-28T14:07:36.164Z"
   },
   {
    "duration": 33,
    "start_time": "2025-04-28T14:08:26.305Z"
   },
   {
    "duration": 8056,
    "start_time": "2025-04-28T14:08:30.531Z"
   },
   {
    "duration": 18,
    "start_time": "2025-04-28T14:08:48.177Z"
   },
   {
    "duration": 44,
    "start_time": "2025-04-28T14:08:58.448Z"
   },
   {
    "duration": 8130,
    "start_time": "2025-04-28T14:09:02.417Z"
   },
   {
    "duration": 18,
    "start_time": "2025-04-28T14:09:13.529Z"
   },
   {
    "duration": 38,
    "start_time": "2025-04-28T14:09:42.211Z"
   },
   {
    "duration": 19,
    "start_time": "2025-04-28T14:09:44.649Z"
   },
   {
    "duration": 8096,
    "start_time": "2025-04-28T14:10:06.471Z"
   },
   {
    "duration": 18,
    "start_time": "2025-04-28T14:10:17.910Z"
   },
   {
    "duration": 50,
    "start_time": "2025-04-28T14:11:26.734Z"
   },
   {
    "duration": 15,
    "start_time": "2025-04-28T14:11:30.653Z"
   },
   {
    "duration": 8076,
    "start_time": "2025-04-28T14:11:34.911Z"
   },
   {
    "duration": 1302,
    "start_time": "2025-04-28T14:13:09.995Z"
   },
   {
    "duration": 12,
    "start_time": "2025-04-28T14:13:11.299Z"
   },
   {
    "duration": 154,
    "start_time": "2025-04-28T14:13:11.312Z"
   },
   {
    "duration": 1077,
    "start_time": "2025-04-28T14:13:11.468Z"
   },
   {
    "duration": 3225,
    "start_time": "2025-04-28T14:13:12.547Z"
   },
   {
    "duration": 110,
    "start_time": "2025-04-28T14:13:15.774Z"
   },
   {
    "duration": 40,
    "start_time": "2025-04-28T14:13:15.885Z"
   },
   {
    "duration": 40,
    "start_time": "2025-04-28T14:13:15.926Z"
   },
   {
    "duration": 62,
    "start_time": "2025-04-28T14:13:15.968Z"
   },
   {
    "duration": 289,
    "start_time": "2025-04-28T14:13:16.033Z"
   },
   {
    "duration": 377,
    "start_time": "2025-04-28T14:13:16.324Z"
   },
   {
    "duration": 13,
    "start_time": "2025-04-28T14:13:16.703Z"
   },
   {
    "duration": 1242,
    "start_time": "2025-04-28T14:13:16.717Z"
   },
   {
    "duration": 20,
    "start_time": "2025-04-28T14:13:17.962Z"
   },
   {
    "duration": 3,
    "start_time": "2025-04-28T14:13:17.984Z"
   },
   {
    "duration": 8045,
    "start_time": "2025-04-28T14:13:18.004Z"
   },
   {
    "duration": 37,
    "start_time": "2025-04-28T14:15:37.794Z"
   },
   {
    "duration": 18,
    "start_time": "2025-04-28T14:15:43.586Z"
   },
   {
    "duration": 8147,
    "start_time": "2025-04-28T14:15:51.451Z"
   },
   {
    "duration": 18,
    "start_time": "2025-04-28T14:16:53.960Z"
   },
   {
    "duration": 6,
    "start_time": "2025-04-28T14:19:32.477Z"
   },
   {
    "duration": 7,
    "start_time": "2025-04-28T14:20:01.061Z"
   },
   {
    "duration": 152,
    "start_time": "2025-04-28T14:28:20.757Z"
   },
   {
    "duration": 20,
    "start_time": "2025-04-28T14:29:44.712Z"
   },
   {
    "duration": 31,
    "start_time": "2025-04-28T14:31:00.153Z"
   },
   {
    "duration": 8081,
    "start_time": "2025-04-28T14:31:07.561Z"
   },
   {
    "duration": 17,
    "start_time": "2025-04-28T14:31:53.025Z"
   },
   {
    "duration": 47,
    "start_time": "2025-04-28T14:35:21.823Z"
   },
   {
    "duration": 8017,
    "start_time": "2025-04-28T14:35:24.999Z"
   },
   {
    "duration": 17,
    "start_time": "2025-04-28T14:35:57.580Z"
   },
   {
    "duration": 38,
    "start_time": "2025-04-28T14:37:32.928Z"
   },
   {
    "duration": 7976,
    "start_time": "2025-04-28T14:37:35.141Z"
   },
   {
    "duration": 17,
    "start_time": "2025-04-28T14:40:08.798Z"
   },
   {
    "duration": 679,
    "start_time": "2025-04-28T14:40:12.013Z"
   },
   {
    "duration": 5841,
    "start_time": "2025-04-28T14:40:23.878Z"
   },
   {
    "duration": 10701,
    "start_time": "2025-04-28T14:43:30.427Z"
   },
   {
    "duration": 6088,
    "start_time": "2025-04-28T14:46:15.057Z"
   },
   {
    "duration": 5993,
    "start_time": "2025-04-28T14:47:38.797Z"
   },
   {
    "duration": 6143,
    "start_time": "2025-04-28T14:48:54.218Z"
   },
   {
    "duration": 6060,
    "start_time": "2025-04-28T14:49:17.075Z"
   },
   {
    "duration": 14,
    "start_time": "2025-04-28T14:50:04.736Z"
   },
   {
    "duration": 4530,
    "start_time": "2025-04-28T14:54:43.386Z"
   },
   {
    "duration": 4,
    "start_time": "2025-04-28T14:56:54.986Z"
   },
   {
    "duration": 5876,
    "start_time": "2025-04-28T14:57:13.016Z"
   },
   {
    "duration": 15,
    "start_time": "2025-04-28T14:59:52.236Z"
   },
   {
    "duration": 3639,
    "start_time": "2025-04-28T14:59:56.182Z"
   },
   {
    "duration": 21,
    "start_time": "2025-04-28T15:01:04.756Z"
   },
   {
    "duration": 4042,
    "start_time": "2025-04-28T15:01:39.907Z"
   },
   {
    "duration": 12,
    "start_time": "2025-04-28T15:01:43.952Z"
   },
   {
    "duration": 112,
    "start_time": "2025-04-28T15:01:43.966Z"
   },
   {
    "duration": 40,
    "start_time": "2025-04-28T15:01:44.079Z"
   },
   {
    "duration": 1066,
    "start_time": "2025-04-28T15:01:44.122Z"
   },
   {
    "duration": 3230,
    "start_time": "2025-04-28T15:01:45.190Z"
   },
   {
    "duration": 118,
    "start_time": "2025-04-28T15:01:48.421Z"
   },
   {
    "duration": 32,
    "start_time": "2025-04-28T15:01:48.541Z"
   },
   {
    "duration": 58,
    "start_time": "2025-04-28T15:01:48.574Z"
   },
   {
    "duration": 52,
    "start_time": "2025-04-28T15:01:48.634Z"
   },
   {
    "duration": 299,
    "start_time": "2025-04-28T15:01:48.688Z"
   },
   {
    "duration": 370,
    "start_time": "2025-04-28T15:01:48.989Z"
   },
   {
    "duration": 13,
    "start_time": "2025-04-28T15:01:49.361Z"
   },
   {
    "duration": 38,
    "start_time": "2025-04-28T15:01:49.377Z"
   },
   {
    "duration": 1208,
    "start_time": "2025-04-28T15:01:49.417Z"
   },
   {
    "duration": 20,
    "start_time": "2025-04-28T15:01:50.626Z"
   },
   {
    "duration": 49,
    "start_time": "2025-04-28T15:01:50.648Z"
   },
   {
    "duration": 17,
    "start_time": "2025-04-28T15:01:50.699Z"
   },
   {
    "duration": 24,
    "start_time": "2025-04-28T15:01:50.717Z"
   },
   {
    "duration": 111,
    "start_time": "2025-04-28T15:01:50.744Z"
   },
   {
    "duration": 89,
    "start_time": "2025-04-28T15:01:50.857Z"
   },
   {
    "duration": 18,
    "start_time": "2025-04-28T15:01:50.948Z"
   },
   {
    "duration": 60,
    "start_time": "2025-04-28T15:01:50.968Z"
   },
   {
    "duration": 14,
    "start_time": "2025-04-28T15:01:51.030Z"
   },
   {
    "duration": 5852,
    "start_time": "2025-04-28T15:01:51.046Z"
   },
   {
    "duration": 5863,
    "start_time": "2025-04-28T15:01:56.904Z"
   },
   {
    "duration": 16,
    "start_time": "2025-04-28T15:02:02.768Z"
   },
   {
    "duration": 2930,
    "start_time": "2025-04-28T15:02:11.096Z"
   },
   {
    "duration": 5553,
    "start_time": "2025-04-29T05:52:59.061Z"
   },
   {
    "duration": 5461,
    "start_time": "2025-04-29T05:55:59.959Z"
   },
   {
    "duration": 11,
    "start_time": "2025-04-29T06:25:19.914Z"
   },
   {
    "duration": 6635,
    "start_time": "2025-04-29T06:27:38.125Z"
   },
   {
    "duration": 11,
    "start_time": "2025-04-29T06:27:44.763Z"
   },
   {
    "duration": 100,
    "start_time": "2025-04-29T06:27:44.776Z"
   },
   {
    "duration": 49,
    "start_time": "2025-04-29T06:27:44.878Z"
   },
   {
    "duration": 994,
    "start_time": "2025-04-29T06:27:44.929Z"
   },
   {
    "duration": 3332,
    "start_time": "2025-04-29T06:27:45.925Z"
   },
   {
    "duration": 110,
    "start_time": "2025-04-29T06:27:49.258Z"
   },
   {
    "duration": 39,
    "start_time": "2025-04-29T06:27:49.370Z"
   },
   {
    "duration": 46,
    "start_time": "2025-04-29T06:27:49.410Z"
   },
   {
    "duration": 68,
    "start_time": "2025-04-29T06:27:49.458Z"
   },
   {
    "duration": 288,
    "start_time": "2025-04-29T06:27:49.528Z"
   },
   {
    "duration": 373,
    "start_time": "2025-04-29T06:27:49.818Z"
   },
   {
    "duration": 17,
    "start_time": "2025-04-29T06:27:50.192Z"
   },
   {
    "duration": 26,
    "start_time": "2025-04-29T06:27:50.212Z"
   },
   {
    "duration": 1266,
    "start_time": "2025-04-29T06:27:50.239Z"
   },
   {
    "duration": 20,
    "start_time": "2025-04-29T06:27:51.507Z"
   },
   {
    "duration": 32,
    "start_time": "2025-04-29T06:27:51.529Z"
   },
   {
    "duration": 47,
    "start_time": "2025-04-29T06:27:51.563Z"
   },
   {
    "duration": 7,
    "start_time": "2025-04-29T06:27:51.612Z"
   },
   {
    "duration": 80,
    "start_time": "2025-04-29T06:27:51.621Z"
   },
   {
    "duration": 43,
    "start_time": "2025-04-29T06:27:51.704Z"
   },
   {
    "duration": 18,
    "start_time": "2025-04-29T06:27:51.749Z"
   },
   {
    "duration": 70,
    "start_time": "2025-04-29T06:27:51.769Z"
   },
   {
    "duration": 15,
    "start_time": "2025-04-29T06:27:51.841Z"
   },
   {
    "duration": 5967,
    "start_time": "2025-04-29T06:27:51.858Z"
   },
   {
    "duration": 5938,
    "start_time": "2025-04-29T06:27:57.827Z"
   },
   {
    "duration": 16,
    "start_time": "2025-04-29T06:28:03.766Z"
   },
   {
    "duration": 136,
    "start_time": "2025-04-29T06:28:03.784Z"
   },
   {
    "duration": 0,
    "start_time": "2025-04-29T06:28:03.922Z"
   },
   {
    "duration": 0,
    "start_time": "2025-04-29T06:28:03.924Z"
   },
   {
    "duration": 3,
    "start_time": "2025-04-29T06:29:43.345Z"
   },
   {
    "duration": 44,
    "start_time": "2025-04-29T06:29:47.054Z"
   },
   {
    "duration": 1213,
    "start_time": "2025-04-29T06:29:57.257Z"
   },
   {
    "duration": 37,
    "start_time": "2025-04-29T06:49:51.319Z"
   },
   {
    "duration": 3,
    "start_time": "2025-04-29T06:50:01.694Z"
   },
   {
    "duration": 3,
    "start_time": "2025-04-29T06:50:23.583Z"
   },
   {
    "duration": 12,
    "start_time": "2025-04-29T06:52:16.222Z"
   },
   {
    "duration": 4,
    "start_time": "2025-04-29T06:55:15.356Z"
   },
   {
    "duration": 19,
    "start_time": "2025-04-29T06:56:33.419Z"
   },
   {
    "duration": 3,
    "start_time": "2025-04-29T06:58:53.473Z"
   },
   {
    "duration": 15,
    "start_time": "2025-04-29T07:10:13.439Z"
   },
   {
    "duration": 14,
    "start_time": "2025-04-30T08:09:55.855Z"
   },
   {
    "duration": 4287,
    "start_time": "2025-04-30T08:10:32.772Z"
   },
   {
    "duration": 11,
    "start_time": "2025-04-30T08:10:37.062Z"
   },
   {
    "duration": 62,
    "start_time": "2025-04-30T08:10:37.075Z"
   },
   {
    "duration": 34,
    "start_time": "2025-04-30T08:10:37.139Z"
   },
   {
    "duration": 1065,
    "start_time": "2025-04-30T08:10:37.175Z"
   },
   {
    "duration": 3307,
    "start_time": "2025-04-30T08:10:38.242Z"
   },
   {
    "duration": 114,
    "start_time": "2025-04-30T08:10:41.551Z"
   },
   {
    "duration": 41,
    "start_time": "2025-04-30T08:10:41.667Z"
   },
   {
    "duration": 43,
    "start_time": "2025-04-30T08:10:41.710Z"
   },
   {
    "duration": 72,
    "start_time": "2025-04-30T08:10:41.754Z"
   },
   {
    "duration": 290,
    "start_time": "2025-04-30T08:10:41.828Z"
   },
   {
    "duration": 373,
    "start_time": "2025-04-30T08:10:42.120Z"
   },
   {
    "duration": 14,
    "start_time": "2025-04-30T08:10:42.500Z"
   },
   {
    "duration": 24,
    "start_time": "2025-04-30T08:10:42.517Z"
   },
   {
    "duration": 1220,
    "start_time": "2025-04-30T08:10:42.543Z"
   },
   {
    "duration": 19,
    "start_time": "2025-04-30T08:10:43.765Z"
   },
   {
    "duration": 50,
    "start_time": "2025-04-30T08:10:43.785Z"
   },
   {
    "duration": 18,
    "start_time": "2025-04-30T08:10:43.836Z"
   },
   {
    "duration": 6,
    "start_time": "2025-04-30T08:10:43.856Z"
   },
   {
    "duration": 7,
    "start_time": "2025-04-30T08:10:43.863Z"
   },
   {
    "duration": 72,
    "start_time": "2025-04-30T08:10:43.872Z"
   },
   {
    "duration": 17,
    "start_time": "2025-04-30T08:10:43.946Z"
   },
   {
    "duration": 66,
    "start_time": "2025-04-30T08:10:43.965Z"
   },
   {
    "duration": 14,
    "start_time": "2025-04-30T08:10:44.033Z"
   },
   {
    "duration": 6009,
    "start_time": "2025-04-30T08:10:44.049Z"
   },
   {
    "duration": 5698,
    "start_time": "2025-04-30T08:10:50.060Z"
   },
   {
    "duration": 12,
    "start_time": "2025-04-30T08:10:55.760Z"
   },
   {
    "duration": 11,
    "start_time": "2025-04-30T08:10:55.774Z"
   },
   {
    "duration": 53,
    "start_time": "2025-04-30T08:10:55.787Z"
   },
   {
    "duration": 47,
    "start_time": "2025-04-30T08:10:55.842Z"
   },
   {
    "duration": 11,
    "start_time": "2025-04-30T08:10:55.903Z"
   },
   {
    "duration": 74,
    "start_time": "2025-04-30T08:10:55.915Z"
   },
   {
    "duration": 0,
    "start_time": "2025-04-30T08:10:55.991Z"
   },
   {
    "duration": 0,
    "start_time": "2025-04-30T08:10:55.992Z"
   },
   {
    "duration": 39,
    "start_time": "2025-04-30T08:17:40.551Z"
   },
   {
    "duration": 76,
    "start_time": "2025-04-30T08:17:53.030Z"
   },
   {
    "duration": 47,
    "start_time": "2025-04-30T11:49:02.964Z"
   },
   {
    "duration": 147,
    "start_time": "2025-04-30T11:49:54.521Z"
   },
   {
    "duration": 124110,
    "start_time": "2025-04-30T11:50:20.114Z"
   },
   {
    "duration": 126598,
    "start_time": "2025-04-30T11:53:14.099Z"
   },
   {
    "duration": 2811,
    "start_time": "2025-04-30T11:55:20.699Z"
   },
   {
    "duration": 10115,
    "start_time": "2025-04-30T11:57:56.722Z"
   },
   {
    "duration": 6112,
    "start_time": "2025-04-30T11:59:31.432Z"
   },
   {
    "duration": 379,
    "start_time": "2025-04-30T12:00:43.319Z"
   },
   {
    "duration": 4,
    "start_time": "2025-04-30T12:00:53.335Z"
   },
   {
    "duration": 122,
    "start_time": "2025-04-30T12:02:44.061Z"
   },
   {
    "duration": 74,
    "start_time": "2025-04-30T12:02:56.012Z"
   },
   {
    "duration": 367,
    "start_time": "2025-04-30T12:03:32.218Z"
   },
   {
    "duration": 81,
    "start_time": "2025-04-30T12:06:01.573Z"
   },
   {
    "duration": 5133,
    "start_time": "2025-04-30T12:11:13.872Z"
   },
   {
    "duration": 734,
    "start_time": "2025-04-30T12:13:00.872Z"
   },
   {
    "duration": 15,
    "start_time": "2025-05-02T06:19:59.049Z"
   },
   {
    "duration": 11,
    "start_time": "2025-05-02T06:20:07.759Z"
   },
   {
    "duration": 9,
    "start_time": "2025-05-02T06:27:42.157Z"
   },
   {
    "duration": 6004,
    "start_time": "2025-05-02T06:32:04.376Z"
   },
   {
    "duration": 12,
    "start_time": "2025-05-02T06:32:54.336Z"
   },
   {
    "duration": 7751,
    "start_time": "2025-05-02T06:34:30.964Z"
   },
   {
    "duration": 12,
    "start_time": "2025-05-02T06:34:53.978Z"
   },
   {
    "duration": 101,
    "start_time": "2025-05-02T06:34:53.993Z"
   },
   {
    "duration": 13,
    "start_time": "2025-05-02T06:34:54.096Z"
   },
   {
    "duration": 984,
    "start_time": "2025-05-02T06:34:54.110Z"
   },
   {
    "duration": 3344,
    "start_time": "2025-05-02T06:34:55.096Z"
   },
   {
    "duration": 112,
    "start_time": "2025-05-02T06:34:58.442Z"
   },
   {
    "duration": 30,
    "start_time": "2025-05-02T06:34:58.556Z"
   },
   {
    "duration": 52,
    "start_time": "2025-05-02T06:34:58.588Z"
   },
   {
    "duration": 47,
    "start_time": "2025-05-02T06:34:58.641Z"
   },
   {
    "duration": 309,
    "start_time": "2025-05-02T06:34:58.703Z"
   },
   {
    "duration": 357,
    "start_time": "2025-05-02T06:34:59.013Z"
   },
   {
    "duration": 13,
    "start_time": "2025-05-02T06:34:59.372Z"
   },
   {
    "duration": 41,
    "start_time": "2025-05-02T06:34:59.387Z"
   },
   {
    "duration": 1217,
    "start_time": "2025-05-02T06:34:59.431Z"
   },
   {
    "duration": 22,
    "start_time": "2025-05-02T06:35:00.650Z"
   },
   {
    "duration": 57,
    "start_time": "2025-05-02T06:35:00.673Z"
   },
   {
    "duration": 17,
    "start_time": "2025-05-02T06:35:00.731Z"
   },
   {
    "duration": 42,
    "start_time": "2025-05-02T06:35:00.750Z"
   },
   {
    "duration": 20,
    "start_time": "2025-05-02T06:35:00.794Z"
   },
   {
    "duration": 81,
    "start_time": "2025-05-02T06:35:00.816Z"
   },
   {
    "duration": 25,
    "start_time": "2025-05-02T06:35:00.899Z"
   },
   {
    "duration": 64,
    "start_time": "2025-05-02T06:35:00.926Z"
   },
   {
    "duration": 14,
    "start_time": "2025-05-02T06:35:00.992Z"
   },
   {
    "duration": 5916,
    "start_time": "2025-05-02T06:35:01.007Z"
   },
   {
    "duration": 5580,
    "start_time": "2025-05-02T06:35:06.925Z"
   },
   {
    "duration": 11,
    "start_time": "2025-05-02T06:35:12.507Z"
   },
   {
    "duration": 12,
    "start_time": "2025-05-02T06:35:12.520Z"
   },
   {
    "duration": 47,
    "start_time": "2025-05-02T06:35:12.534Z"
   },
   {
    "duration": 42,
    "start_time": "2025-05-02T06:35:12.605Z"
   },
   {
    "duration": 158,
    "start_time": "2025-05-02T06:35:12.648Z"
   },
   {
    "duration": 122467,
    "start_time": "2025-05-02T06:35:12.808Z"
   },
   {
    "duration": 502,
    "start_time": "2025-05-02T06:37:15.277Z"
   },
   {
    "duration": 0,
    "start_time": "2025-05-02T06:37:15.781Z"
   },
   {
    "duration": 0,
    "start_time": "2025-05-02T06:37:15.782Z"
   },
   {
    "duration": 0,
    "start_time": "2025-05-02T06:37:15.783Z"
   },
   {
    "duration": 383,
    "start_time": "2025-05-02T06:38:14.470Z"
   },
   {
    "duration": 376,
    "start_time": "2025-05-02T06:38:58.896Z"
   },
   {
    "duration": 392,
    "start_time": "2025-05-02T06:39:58.044Z"
   },
   {
    "duration": 375,
    "start_time": "2025-05-02T06:40:05.944Z"
   },
   {
    "duration": 3,
    "start_time": "2025-05-02T06:42:17.992Z"
   },
   {
    "duration": 394,
    "start_time": "2025-05-02T06:42:32.649Z"
   },
   {
    "duration": 381,
    "start_time": "2025-05-02T06:43:45.023Z"
   },
   {
    "duration": 368,
    "start_time": "2025-05-02T06:43:51.159Z"
   },
   {
    "duration": 372,
    "start_time": "2025-05-02T06:45:00.560Z"
   },
   {
    "duration": 74,
    "start_time": "2025-05-02T06:48:06.363Z"
   },
   {
    "duration": 36,
    "start_time": "2025-05-02T06:48:08.866Z"
   },
   {
    "duration": 4905,
    "start_time": "2025-05-02T06:48:14.306Z"
   },
   {
    "duration": 3,
    "start_time": "2025-05-02T06:48:27.661Z"
   },
   {
    "duration": 4,
    "start_time": "2025-05-02T06:48:41.642Z"
   },
   {
    "duration": 5849,
    "start_time": "2025-05-02T06:49:03.761Z"
   },
   {
    "duration": 4,
    "start_time": "2025-05-02T06:49:19.842Z"
   },
   {
    "duration": 7319,
    "start_time": "2025-05-02T06:49:35.088Z"
   },
   {
    "duration": 5394,
    "start_time": "2025-05-02T06:50:01.111Z"
   },
   {
    "duration": 4452,
    "start_time": "2025-05-02T06:50:16.656Z"
   },
   {
    "duration": 657,
    "start_time": "2025-05-02T06:50:32.756Z"
   },
   {
    "duration": 3,
    "start_time": "2025-05-02T06:50:51.158Z"
   },
   {
    "duration": 3,
    "start_time": "2025-05-02T06:50:53.318Z"
   },
   {
    "duration": 4,
    "start_time": "2025-05-02T06:50:54.541Z"
   },
   {
    "duration": 5,
    "start_time": "2025-05-02T06:51:01.913Z"
   },
   {
    "duration": 4,
    "start_time": "2025-05-02T06:51:07.524Z"
   },
   {
    "duration": 36925,
    "start_time": "2025-05-02T06:51:17.558Z"
   },
   {
    "duration": 4,
    "start_time": "2025-05-02T06:52:52.462Z"
   },
   {
    "duration": 4,
    "start_time": "2025-05-02T06:52:57.611Z"
   },
   {
    "duration": 12898,
    "start_time": "2025-05-02T06:53:00.780Z"
   },
   {
    "duration": 9,
    "start_time": "2025-05-02T06:53:45.028Z"
   },
   {
    "duration": 3,
    "start_time": "2025-05-02T06:56:29.601Z"
   },
   {
    "duration": 3,
    "start_time": "2025-05-02T06:56:31.073Z"
   },
   {
    "duration": 6627,
    "start_time": "2025-05-02T06:56:40.433Z"
   },
   {
    "duration": 20,
    "start_time": "2025-05-02T06:58:44.814Z"
   },
   {
    "duration": 6,
    "start_time": "2025-05-02T06:58:55.980Z"
   },
   {
    "duration": 14,
    "start_time": "2025-05-02T07:02:45.737Z"
   },
   {
    "duration": 10,
    "start_time": "2025-05-02T07:03:12.305Z"
   },
   {
    "duration": 87,
    "start_time": "2025-05-02T07:03:29.975Z"
   },
   {
    "duration": 3,
    "start_time": "2025-05-02T07:04:27.409Z"
   },
   {
    "duration": 20192,
    "start_time": "2025-05-02T07:04:54.525Z"
   },
   {
    "duration": 130,
    "start_time": "2025-05-02T07:06:35.074Z"
   },
   {
    "duration": 78,
    "start_time": "2025-05-02T07:09:36.667Z"
   },
   {
    "duration": 4,
    "start_time": "2025-05-02T07:09:55.905Z"
   },
   {
    "duration": 302,
    "start_time": "2025-05-02T07:10:07.803Z"
   },
   {
    "duration": 4,
    "start_time": "2025-05-02T07:30:12.586Z"
   },
   {
    "duration": 298,
    "start_time": "2025-05-02T07:30:15.746Z"
   },
   {
    "duration": 3,
    "start_time": "2025-05-02T07:30:31.090Z"
   },
   {
    "duration": 321,
    "start_time": "2025-05-02T07:30:35.385Z"
   },
   {
    "duration": 4,
    "start_time": "2025-05-02T07:31:12.609Z"
   },
   {
    "duration": 305,
    "start_time": "2025-05-02T07:31:15.219Z"
   },
   {
    "duration": 4,
    "start_time": "2025-05-02T07:33:11.977Z"
   },
   {
    "duration": 328,
    "start_time": "2025-05-02T07:33:15.062Z"
   },
   {
    "duration": 4,
    "start_time": "2025-05-02T07:33:26.000Z"
   },
   {
    "duration": 484,
    "start_time": "2025-05-02T07:33:28.966Z"
   },
   {
    "duration": 3,
    "start_time": "2025-05-02T07:35:34.853Z"
   },
   {
    "duration": 319,
    "start_time": "2025-05-02T07:35:37.742Z"
   },
   {
    "duration": 100,
    "start_time": "2025-05-02T07:35:41.965Z"
   },
   {
    "duration": 10,
    "start_time": "2025-05-02T07:40:16.168Z"
   },
   {
    "duration": 11,
    "start_time": "2025-05-02T07:41:41.337Z"
   },
   {
    "duration": 3,
    "start_time": "2025-05-02T07:41:54.847Z"
   },
   {
    "duration": 10,
    "start_time": "2025-05-02T07:41:56.800Z"
   },
   {
    "duration": 4,
    "start_time": "2025-05-02T07:42:25.928Z"
   },
   {
    "duration": 4,
    "start_time": "2025-05-02T07:42:28.479Z"
   },
   {
    "duration": 5,
    "start_time": "2025-05-02T07:42:30.703Z"
   },
   {
    "duration": 3,
    "start_time": "2025-05-02T07:42:33.160Z"
   },
   {
    "duration": 4,
    "start_time": "2025-05-02T07:42:34.983Z"
   },
   {
    "duration": 5,
    "start_time": "2025-05-02T07:44:05.773Z"
   },
   {
    "duration": 1949,
    "start_time": "2025-05-02T07:48:19.925Z"
   },
   {
    "duration": 2093,
    "start_time": "2025-05-02T07:48:36.883Z"
   },
   {
    "duration": 2897,
    "start_time": "2025-05-02T07:49:27.772Z"
   },
   {
    "duration": 3172,
    "start_time": "2025-05-02T07:49:37.987Z"
   },
   {
    "duration": 2981,
    "start_time": "2025-05-02T07:49:45.810Z"
   },
   {
    "duration": 3323,
    "start_time": "2025-05-02T07:53:46.222Z"
   },
   {
    "duration": 4085,
    "start_time": "2025-05-02T07:55:20.679Z"
   },
   {
    "duration": 3641,
    "start_time": "2025-05-02T07:55:49.020Z"
   },
   {
    "duration": 3890,
    "start_time": "2025-05-02T07:56:07.949Z"
   },
   {
    "duration": 4016,
    "start_time": "2025-05-02T07:56:52.604Z"
   },
   {
    "duration": 4046,
    "start_time": "2025-05-02T07:57:15.277Z"
   },
   {
    "duration": 3895,
    "start_time": "2025-05-02T07:57:34.563Z"
   },
   {
    "duration": 4214,
    "start_time": "2025-05-02T07:57:45.492Z"
   },
   {
    "duration": 14733,
    "start_time": "2025-05-02T07:59:00.578Z"
   },
   {
    "duration": 4,
    "start_time": "2025-05-02T08:05:06.493Z"
   },
   {
    "duration": 3,
    "start_time": "2025-05-02T08:05:14.733Z"
   },
   {
    "duration": 4,
    "start_time": "2025-05-02T08:05:30.653Z"
   },
   {
    "duration": 3,
    "start_time": "2025-05-02T08:06:33.588Z"
   },
   {
    "duration": 3,
    "start_time": "2025-05-02T08:06:34.983Z"
   },
   {
    "duration": 4,
    "start_time": "2025-05-02T08:06:51.621Z"
   },
   {
    "duration": 3,
    "start_time": "2025-05-02T08:06:52.731Z"
   },
   {
    "duration": 3,
    "start_time": "2025-05-02T08:07:09.922Z"
   },
   {
    "duration": 3,
    "start_time": "2025-05-02T08:07:11.858Z"
   },
   {
    "duration": 1862,
    "start_time": "2025-05-02T08:13:49.067Z"
   },
   {
    "duration": 15025,
    "start_time": "2025-05-02T08:14:37.741Z"
   },
   {
    "duration": 18560,
    "start_time": "2025-05-02T08:16:52.660Z"
   },
   {
    "duration": 4,
    "start_time": "2025-05-02T08:20:45.278Z"
   },
   {
    "duration": 9,
    "start_time": "2025-05-02T08:21:16.024Z"
   },
   {
    "duration": 14,
    "start_time": "2025-05-02T08:23:18.397Z"
   },
   {
    "duration": 9,
    "start_time": "2025-05-02T08:23:47.037Z"
   },
   {
    "duration": 4,
    "start_time": "2025-05-02T08:23:55.756Z"
   },
   {
    "duration": 9,
    "start_time": "2025-05-02T08:23:57.516Z"
   },
   {
    "duration": 13,
    "start_time": "2025-05-02T08:26:33.614Z"
   },
   {
    "duration": 5,
    "start_time": "2025-05-02T08:27:07.044Z"
   },
   {
    "duration": 10,
    "start_time": "2025-05-02T08:27:09.693Z"
   },
   {
    "duration": 4,
    "start_time": "2025-05-02T08:29:12.356Z"
   },
   {
    "duration": 68682,
    "start_time": "2025-05-02T08:29:33.705Z"
   },
   {
    "duration": 1054641,
    "start_time": "2025-05-02T08:33:22.394Z"
   },
   {
    "duration": 5,
    "start_time": "2025-05-02T10:58:31.963Z"
   },
   {
    "duration": 4,
    "start_time": "2025-05-02T11:08:54.040Z"
   },
   {
    "duration": 3305,
    "start_time": "2025-05-02T11:09:27.209Z"
   },
   {
    "duration": 619,
    "start_time": "2025-05-02T11:09:34.393Z"
   },
   {
    "duration": 80,
    "start_time": "2025-05-02T11:15:49.515Z"
   },
   {
    "duration": 4,
    "start_time": "2025-05-02T11:16:10.297Z"
   },
   {
    "duration": 944,
    "start_time": "2025-05-02T11:16:13.466Z"
   },
   {
    "duration": 4,
    "start_time": "2025-05-02T11:17:11.858Z"
   },
   {
    "duration": 1029,
    "start_time": "2025-05-02T11:17:14.082Z"
   },
   {
    "duration": 4,
    "start_time": "2025-05-02T11:19:20.641Z"
   },
   {
    "duration": 967,
    "start_time": "2025-05-02T11:19:23.241Z"
   },
   {
    "duration": 3,
    "start_time": "2025-05-02T11:19:42.354Z"
   },
   {
    "duration": 957,
    "start_time": "2025-05-02T11:19:44.857Z"
   },
   {
    "duration": 3,
    "start_time": "2025-05-02T11:19:58.033Z"
   },
   {
    "duration": 4010,
    "start_time": "2025-05-02T11:20:01.697Z"
   },
   {
    "duration": 4,
    "start_time": "2025-05-02T11:20:31.959Z"
   },
   {
    "duration": 16949,
    "start_time": "2025-05-02T11:20:34.584Z"
   },
   {
    "duration": 4,
    "start_time": "2025-05-02T11:21:23.952Z"
   },
   {
    "duration": 16495,
    "start_time": "2025-05-02T11:21:27.512Z"
   },
   {
    "duration": 4,
    "start_time": "2025-05-02T11:22:30.832Z"
   },
   {
    "duration": 34107,
    "start_time": "2025-05-02T11:22:33.238Z"
   },
   {
    "duration": 10,
    "start_time": "2025-05-02T11:29:42.577Z"
   },
   {
    "duration": 9,
    "start_time": "2025-05-02T11:29:49.329Z"
   },
   {
    "duration": 10,
    "start_time": "2025-05-02T11:30:47.737Z"
   },
   {
    "duration": 2,
    "start_time": "2025-05-02T11:30:58.442Z"
   },
   {
    "duration": 9,
    "start_time": "2025-05-02T11:33:07.879Z"
   },
   {
    "duration": 10,
    "start_time": "2025-05-02T11:36:15.956Z"
   },
   {
    "duration": 4,
    "start_time": "2025-05-02T11:36:34.020Z"
   },
   {
    "duration": 9,
    "start_time": "2025-05-02T11:37:01.004Z"
   },
   {
    "duration": 5,
    "start_time": "2025-05-02T11:37:10.347Z"
   },
   {
    "duration": 1204,
    "start_time": "2025-05-02T11:37:38.778Z"
   },
   {
    "duration": 8,
    "start_time": "2025-05-02T11:38:03.240Z"
   },
   {
    "duration": 1241,
    "start_time": "2025-05-02T11:38:19.286Z"
   },
   {
    "duration": 10,
    "start_time": "2025-05-02T11:38:31.118Z"
   },
   {
    "duration": 5,
    "start_time": "2025-05-02T11:43:00.124Z"
   },
   {
    "duration": 9,
    "start_time": "2025-05-02T11:43:34.665Z"
   },
   {
    "duration": 11,
    "start_time": "2025-05-02T11:43:46.898Z"
   },
   {
    "duration": 12,
    "start_time": "2025-05-02T11:44:00.144Z"
   },
   {
    "duration": 9,
    "start_time": "2025-05-02T11:44:13.682Z"
   },
   {
    "duration": 8,
    "start_time": "2025-05-02T11:44:21.591Z"
   },
   {
    "duration": 8,
    "start_time": "2025-05-02T11:45:08.742Z"
   },
   {
    "duration": 9,
    "start_time": "2025-05-02T11:46:31.081Z"
   },
   {
    "duration": 3,
    "start_time": "2025-05-02T11:48:46.595Z"
   },
   {
    "duration": 668,
    "start_time": "2025-05-02T11:50:50.071Z"
   },
   {
    "duration": 550575,
    "start_time": "2025-05-02T11:51:41.493Z"
   },
   {
    "duration": 125136,
    "start_time": "2025-05-02T12:06:23.316Z"
   },
   {
    "duration": 7262,
    "start_time": "2025-05-02T12:27:09.626Z"
   },
   {
    "duration": 13,
    "start_time": "2025-05-02T12:27:16.891Z"
   },
   {
    "duration": 16,
    "start_time": "2025-05-02T12:27:16.906Z"
   },
   {
    "duration": 14,
    "start_time": "2025-05-02T12:27:16.924Z"
   },
   {
    "duration": 1034,
    "start_time": "2025-05-02T12:27:16.940Z"
   },
   {
    "duration": 3245,
    "start_time": "2025-05-02T12:27:17.976Z"
   },
   {
    "duration": 109,
    "start_time": "2025-05-02T12:27:21.223Z"
   },
   {
    "duration": 41,
    "start_time": "2025-05-02T12:27:21.334Z"
   },
   {
    "duration": 142,
    "start_time": "2025-05-02T12:27:21.376Z"
   },
   {
    "duration": 51,
    "start_time": "2025-05-02T12:27:21.520Z"
   },
   {
    "duration": 297,
    "start_time": "2025-05-02T12:27:21.573Z"
   },
   {
    "duration": 34,
    "start_time": "2025-05-02T12:27:21.871Z"
   },
   {
    "duration": 1200,
    "start_time": "2025-05-02T12:27:21.906Z"
   },
   {
    "duration": 21,
    "start_time": "2025-05-02T12:27:23.109Z"
   },
   {
    "duration": 33,
    "start_time": "2025-05-02T12:27:23.131Z"
   },
   {
    "duration": 40,
    "start_time": "2025-05-02T12:27:23.165Z"
   },
   {
    "duration": 39,
    "start_time": "2025-05-02T12:27:23.207Z"
   },
   {
    "duration": 16,
    "start_time": "2025-05-02T12:27:23.247Z"
   },
   {
    "duration": 66,
    "start_time": "2025-05-02T12:27:23.265Z"
   },
   {
    "duration": 13,
    "start_time": "2025-05-02T12:27:23.333Z"
   },
   {
    "duration": 6033,
    "start_time": "2025-05-02T12:27:23.348Z"
   },
   {
    "duration": 5762,
    "start_time": "2025-05-02T12:27:29.383Z"
   },
   {
    "duration": 12,
    "start_time": "2025-05-02T12:27:35.147Z"
   },
   {
    "duration": 22,
    "start_time": "2025-05-02T12:27:35.161Z"
   },
   {
    "duration": 80,
    "start_time": "2025-05-02T12:27:35.185Z"
   },
   {
    "duration": 148,
    "start_time": "2025-05-02T12:27:35.266Z"
   },
   {
    "duration": 3,
    "start_time": "2025-05-02T12:27:35.416Z"
   },
   {
    "duration": 128159,
    "start_time": "2025-05-02T12:27:35.421Z"
   },
   {
    "duration": 74,
    "start_time": "2025-05-02T12:29:43.582Z"
   },
   {
    "duration": 4,
    "start_time": "2025-05-02T12:29:43.658Z"
   },
   {
    "duration": 36294,
    "start_time": "2025-05-02T12:29:43.663Z"
   },
   {
    "duration": 4,
    "start_time": "2025-05-02T12:30:20.005Z"
   },
   {
    "duration": 519855,
    "start_time": "2025-05-02T12:30:20.011Z"
   },
   {
    "duration": 8,
    "start_time": "2025-05-02T12:38:59.868Z"
   },
   {
    "duration": 3,
    "start_time": "2025-05-02T13:58:56.576Z"
   },
   {
    "duration": 3,
    "start_time": "2025-05-02T13:58:59.514Z"
   },
   {
    "duration": 135,
    "start_time": "2025-05-02T13:59:03.439Z"
   },
   {
    "duration": 11,
    "start_time": "2025-05-02T14:00:04.512Z"
   },
   {
    "duration": 3,
    "start_time": "2025-05-02T14:00:25.030Z"
   },
   {
    "duration": 3,
    "start_time": "2025-05-02T14:00:45.479Z"
   },
   {
    "duration": 19,
    "start_time": "2025-05-02T14:02:02.940Z"
   },
   {
    "duration": 4,
    "start_time": "2025-05-02T14:03:16.890Z"
   },
   {
    "duration": 87702,
    "start_time": "2025-05-02T14:03:20.210Z"
   },
   {
    "duration": 18,
    "start_time": "2025-05-02T14:05:54.415Z"
   },
   {
    "duration": 482,
    "start_time": "2025-05-02T14:08:25.341Z"
   },
   {
    "duration": 4,
    "start_time": "2025-05-02T14:10:06.025Z"
   },
   {
    "duration": 4,
    "start_time": "2025-05-02T14:10:08.906Z"
   },
   {
    "duration": 410656,
    "start_time": "2025-05-02T14:10:48.480Z"
   },
   {
    "duration": 3674,
    "start_time": "2025-05-02T14:18:16.584Z"
   },
   {
    "duration": 2,
    "start_time": "2025-05-02T14:19:12.246Z"
   },
   {
    "duration": 407206,
    "start_time": "2025-05-02T14:19:20.109Z"
   },
   {
    "duration": 4104,
    "start_time": "2025-05-02T14:26:43.877Z"
   },
   {
    "duration": 10,
    "start_time": "2025-05-02T14:27:05.309Z"
   },
   {
    "duration": 9271,
    "start_time": "2025-05-02T14:27:26.637Z"
   },
   {
    "duration": 13,
    "start_time": "2025-05-02T14:27:35.920Z"
   },
   {
    "duration": 29,
    "start_time": "2025-05-02T14:27:35.935Z"
   },
   {
    "duration": 57,
    "start_time": "2025-05-02T14:27:35.966Z"
   },
   {
    "duration": 1125,
    "start_time": "2025-05-02T14:27:36.026Z"
   },
   {
    "duration": 3697,
    "start_time": "2025-05-02T14:27:37.153Z"
   },
   {
    "duration": 126,
    "start_time": "2025-05-02T14:27:40.852Z"
   },
   {
    "duration": 54,
    "start_time": "2025-05-02T14:27:40.980Z"
   },
   {
    "duration": 46,
    "start_time": "2025-05-02T14:27:41.036Z"
   },
   {
    "duration": 72,
    "start_time": "2025-05-02T14:27:41.083Z"
   },
   {
    "duration": 322,
    "start_time": "2025-05-02T14:27:41.157Z"
   },
   {
    "duration": 42,
    "start_time": "2025-05-02T14:27:41.481Z"
   },
   {
    "duration": 1373,
    "start_time": "2025-05-02T14:27:41.525Z"
   },
   {
    "duration": 23,
    "start_time": "2025-05-02T14:27:42.906Z"
   },
   {
    "duration": 34,
    "start_time": "2025-05-02T14:27:42.931Z"
   },
   {
    "duration": 38,
    "start_time": "2025-05-02T14:27:42.967Z"
   },
   {
    "duration": 60,
    "start_time": "2025-05-02T14:27:43.010Z"
   },
   {
    "duration": 43,
    "start_time": "2025-05-02T14:27:43.072Z"
   },
   {
    "duration": 48,
    "start_time": "2025-05-02T14:27:43.118Z"
   },
   {
    "duration": 63,
    "start_time": "2025-05-02T14:27:43.167Z"
   },
   {
    "duration": 6436,
    "start_time": "2025-05-02T14:27:43.231Z"
   },
   {
    "duration": 6345,
    "start_time": "2025-05-02T14:27:49.669Z"
   },
   {
    "duration": 14,
    "start_time": "2025-05-02T14:27:56.020Z"
   },
   {
    "duration": 16,
    "start_time": "2025-05-02T14:27:56.037Z"
   },
   {
    "duration": 67,
    "start_time": "2025-05-02T14:27:56.054Z"
   },
   {
    "duration": 153,
    "start_time": "2025-05-02T14:27:56.123Z"
   },
   {
    "duration": 22,
    "start_time": "2025-05-02T14:27:56.278Z"
   },
   {
    "duration": 130576,
    "start_time": "2025-05-02T14:27:56.302Z"
   },
   {
    "duration": 88,
    "start_time": "2025-05-02T14:30:06.880Z"
   },
   {
    "duration": 4,
    "start_time": "2025-05-02T14:30:06.970Z"
   },
   {
    "duration": 362956,
    "start_time": "2025-05-02T14:30:06.976Z"
   },
   {
    "duration": 4,
    "start_time": "2025-05-02T14:36:10.003Z"
   },
   {
    "duration": 22,
    "start_time": "2025-05-02T14:36:10.009Z"
   },
   {
    "duration": 8,
    "start_time": "2025-05-02T14:36:10.033Z"
   },
   {
    "duration": 375410,
    "start_time": "2025-05-02T14:36:10.043Z"
   },
   {
    "duration": 4695,
    "start_time": "2025-05-02T14:42:25.455Z"
   },
   {
    "duration": 5,
    "start_time": "2025-05-02T14:42:30.152Z"
   },
   {
    "duration": 550478,
    "start_time": "2025-05-02T14:42:30.159Z"
   },
   {
    "duration": 9,
    "start_time": "2025-05-02T14:51:40.639Z"
   },
   {
    "duration": 4,
    "start_time": "2025-05-02T14:53:13.001Z"
   },
   {
    "duration": 9064,
    "start_time": "2025-05-02T14:53:17.743Z"
   },
   {
    "duration": 4,
    "start_time": "2025-05-02T15:03:39.637Z"
   },
   {
    "duration": 6967,
    "start_time": "2025-05-02T15:03:42.261Z"
   },
   {
    "duration": 4,
    "start_time": "2025-05-02T15:05:00.956Z"
   },
   {
    "duration": 125656,
    "start_time": "2025-05-02T15:05:04.893Z"
   },
   {
    "duration": 4,
    "start_time": "2025-05-02T15:09:42.506Z"
   },
   {
    "duration": 9124,
    "start_time": "2025-05-02T15:09:45.892Z"
   },
   {
    "duration": 4,
    "start_time": "2025-05-02T15:10:12.744Z"
   },
   {
    "duration": 14766,
    "start_time": "2025-05-02T15:10:15.257Z"
   },
   {
    "duration": 4,
    "start_time": "2025-05-02T15:11:03.328Z"
   },
   {
    "duration": 33883,
    "start_time": "2025-05-02T15:11:07.224Z"
   },
   {
    "duration": 109216,
    "start_time": "2025-05-02T15:12:39.551Z"
   },
   {
    "duration": 50,
    "start_time": "2025-05-04T06:16:00.517Z"
   },
   {
    "duration": 11993,
    "start_time": "2025-05-04T06:20:19.147Z"
   },
   {
    "duration": 11,
    "start_time": "2025-05-04T06:20:31.143Z"
   },
   {
    "duration": 34,
    "start_time": "2025-05-04T06:20:31.157Z"
   },
   {
    "duration": 5,
    "start_time": "2025-05-04T06:20:31.194Z"
   },
   {
    "duration": 1009,
    "start_time": "2025-05-04T06:20:31.201Z"
   },
   {
    "duration": 3046,
    "start_time": "2025-05-04T06:20:32.212Z"
   },
   {
    "duration": 118,
    "start_time": "2025-05-04T06:20:35.259Z"
   },
   {
    "duration": 41,
    "start_time": "2025-05-04T06:20:35.380Z"
   },
   {
    "duration": 91,
    "start_time": "2025-05-04T06:20:35.423Z"
   },
   {
    "duration": 46,
    "start_time": "2025-05-04T06:20:35.517Z"
   },
   {
    "duration": 289,
    "start_time": "2025-05-04T06:20:35.565Z"
   },
   {
    "duration": 36,
    "start_time": "2025-05-04T06:20:35.855Z"
   },
   {
    "duration": 1374,
    "start_time": "2025-05-04T06:20:35.894Z"
   },
   {
    "duration": 29,
    "start_time": "2025-05-04T06:20:37.270Z"
   },
   {
    "duration": 40,
    "start_time": "2025-05-04T06:20:37.300Z"
   },
   {
    "duration": 38,
    "start_time": "2025-05-04T06:20:37.342Z"
   },
   {
    "duration": 95,
    "start_time": "2025-05-04T06:20:37.382Z"
   },
   {
    "duration": 19,
    "start_time": "2025-05-04T06:20:37.482Z"
   },
   {
    "duration": 42,
    "start_time": "2025-05-04T06:20:37.503Z"
   },
   {
    "duration": 14,
    "start_time": "2025-05-04T06:20:37.547Z"
   },
   {
    "duration": 5676,
    "start_time": "2025-05-04T06:20:37.578Z"
   },
   {
    "duration": 5761,
    "start_time": "2025-05-04T06:20:43.256Z"
   },
   {
    "duration": 15,
    "start_time": "2025-05-04T06:20:49.018Z"
   },
   {
    "duration": 85,
    "start_time": "2025-05-04T06:20:49.035Z"
   },
   {
    "duration": 39,
    "start_time": "2025-05-04T06:20:49.122Z"
   },
   {
    "duration": 143,
    "start_time": "2025-05-04T06:20:49.163Z"
   },
   {
    "duration": 3,
    "start_time": "2025-05-04T06:20:49.308Z"
   },
   {
    "duration": 116583,
    "start_time": "2025-05-04T06:20:49.314Z"
   },
   {
    "duration": 104,
    "start_time": "2025-05-04T06:22:45.898Z"
   },
   {
    "duration": 3,
    "start_time": "2025-05-04T06:22:46.004Z"
   },
   {
    "duration": 152897,
    "start_time": "2025-05-04T06:22:46.009Z"
   },
   {
    "duration": 2,
    "start_time": "2025-05-04T06:25:18.908Z"
   },
   {
    "duration": 66,
    "start_time": "2025-05-04T06:25:18.912Z"
   },
   {
    "duration": 9,
    "start_time": "2025-05-04T06:25:18.981Z"
   },
   {
    "duration": 180532,
    "start_time": "2025-05-04T06:25:18.992Z"
   },
   {
    "duration": 3460,
    "start_time": "2025-05-04T06:28:19.526Z"
   },
   {
    "duration": 5,
    "start_time": "2025-05-04T06:28:22.988Z"
   },
   {
    "duration": 109001,
    "start_time": "2025-05-04T06:28:22.994Z"
   },
   {
    "duration": 12,
    "start_time": "2025-05-04T06:30:11.998Z"
   },
   {
    "duration": 14,
    "start_time": "2025-05-06T05:04:19.960Z"
   },
   {
    "duration": 7451,
    "start_time": "2025-05-06T05:04:48.698Z"
   },
   {
    "duration": 12,
    "start_time": "2025-05-06T05:04:56.152Z"
   },
   {
    "duration": 41,
    "start_time": "2025-05-06T05:04:56.166Z"
   },
   {
    "duration": 56,
    "start_time": "2025-05-06T05:04:56.209Z"
   },
   {
    "duration": 1161,
    "start_time": "2025-05-06T05:04:56.268Z"
   },
   {
    "duration": 3313,
    "start_time": "2025-05-06T05:04:57.432Z"
   },
   {
    "duration": 27,
    "start_time": "2025-05-06T05:05:12.048Z"
   },
   {
    "duration": 167,
    "start_time": "2025-05-06T05:06:56.351Z"
   },
   {
    "duration": 5,
    "start_time": "2025-05-06T05:07:03.447Z"
   },
   {
    "duration": 12,
    "start_time": "2025-05-06T05:07:14.734Z"
   },
   {
    "duration": 6,
    "start_time": "2025-05-06T05:07:40.413Z"
   },
   {
    "duration": 93,
    "start_time": "2025-05-06T05:07:49.404Z"
   },
   {
    "duration": 101,
    "start_time": "2025-05-06T05:11:48.096Z"
   },
   {
    "duration": 64,
    "start_time": "2025-05-06T05:19:02.091Z"
   },
   {
    "duration": 28,
    "start_time": "2025-05-06T05:21:32.892Z"
   },
   {
    "duration": 137,
    "start_time": "2025-05-06T05:21:57.459Z"
   },
   {
    "duration": 114,
    "start_time": "2025-05-06T05:22:23.507Z"
   },
   {
    "duration": 71,
    "start_time": "2025-05-06T05:23:27.775Z"
   },
   {
    "duration": 67,
    "start_time": "2025-05-06T05:26:56.038Z"
   },
   {
    "duration": 42,
    "start_time": "2025-05-06T05:31:10.800Z"
   },
   {
    "duration": 40,
    "start_time": "2025-05-06T05:31:59.287Z"
   },
   {
    "duration": 5,
    "start_time": "2025-05-06T05:32:12.271Z"
   },
   {
    "duration": 46,
    "start_time": "2025-05-06T05:34:18.806Z"
   },
   {
    "duration": 40,
    "start_time": "2025-05-06T05:36:43.594Z"
   },
   {
    "duration": 15,
    "start_time": "2025-05-06T05:37:00.994Z"
   },
   {
    "duration": 7,
    "start_time": "2025-05-06T05:37:36.473Z"
   },
   {
    "duration": 14,
    "start_time": "2025-05-06T05:37:55.135Z"
   },
   {
    "duration": 42,
    "start_time": "2025-05-06T05:38:17.087Z"
   },
   {
    "duration": 16,
    "start_time": "2025-05-06T05:38:19.998Z"
   },
   {
    "duration": 93,
    "start_time": "2025-05-06T05:39:48.511Z"
   },
   {
    "duration": 15,
    "start_time": "2025-05-06T05:39:51.112Z"
   },
   {
    "duration": 108,
    "start_time": "2025-05-06T05:40:24.397Z"
   },
   {
    "duration": 87,
    "start_time": "2025-05-06T05:40:33.253Z"
   },
   {
    "duration": 15,
    "start_time": "2025-05-06T05:40:35.933Z"
   },
   {
    "duration": 6,
    "start_time": "2025-05-06T05:43:44.720Z"
   },
   {
    "duration": 5,
    "start_time": "2025-05-06T05:44:03.650Z"
   },
   {
    "duration": 14,
    "start_time": "2025-05-06T05:44:10.536Z"
   },
   {
    "duration": 28,
    "start_time": "2025-05-06T05:47:37.516Z"
   },
   {
    "duration": 15,
    "start_time": "2025-05-06T05:47:59.501Z"
   },
   {
    "duration": 67,
    "start_time": "2025-05-06T05:51:06.728Z"
   },
   {
    "duration": 348,
    "start_time": "2025-05-06T05:52:16.166Z"
   },
   {
    "duration": 17,
    "start_time": "2025-05-06T05:54:21.699Z"
   },
   {
    "duration": 30,
    "start_time": "2025-05-06T05:55:27.412Z"
   },
   {
    "duration": 90,
    "start_time": "2025-05-07T04:40:15.065Z"
   },
   {
    "duration": 91,
    "start_time": "2025-05-07T04:40:29.624Z"
   },
   {
    "duration": 12,
    "start_time": "2025-05-07T04:44:44.459Z"
   },
   {
    "duration": 12,
    "start_time": "2025-05-07T04:45:00.745Z"
   },
   {
    "duration": 5,
    "start_time": "2025-05-07T04:46:23.384Z"
   },
   {
    "duration": 10,
    "start_time": "2025-05-07T04:46:35.769Z"
   },
   {
    "duration": 38,
    "start_time": "2025-05-07T04:46:45.272Z"
   },
   {
    "duration": 13,
    "start_time": "2025-05-07T04:46:50.702Z"
   },
   {
    "duration": 49,
    "start_time": "2025-05-07T04:48:44.654Z"
   },
   {
    "duration": 15,
    "start_time": "2025-05-07T04:48:54.635Z"
   },
   {
    "duration": 93,
    "start_time": "2025-05-07T04:51:36.378Z"
   },
   {
    "duration": 121,
    "start_time": "2025-05-07T04:51:50.770Z"
   },
   {
    "duration": 5,
    "start_time": "2025-05-07T04:52:51.135Z"
   },
   {
    "duration": 243,
    "start_time": "2025-05-07T04:53:18.914Z"
   },
   {
    "duration": 54,
    "start_time": "2025-05-07T04:53:26.199Z"
   },
   {
    "duration": 6856,
    "start_time": "2025-05-07T04:54:23.503Z"
   },
   {
    "duration": 10,
    "start_time": "2025-05-07T04:54:30.362Z"
   },
   {
    "duration": 51,
    "start_time": "2025-05-07T04:54:30.374Z"
   },
   {
    "duration": 82,
    "start_time": "2025-05-07T04:54:30.427Z"
   },
   {
    "duration": 1027,
    "start_time": "2025-05-07T04:54:30.511Z"
   },
   {
    "duration": 3053,
    "start_time": "2025-05-07T04:54:31.540Z"
   },
   {
    "duration": 15,
    "start_time": "2025-05-07T04:54:34.595Z"
   },
   {
    "duration": 161,
    "start_time": "2025-05-07T04:54:34.612Z"
   },
   {
    "duration": 177,
    "start_time": "2025-05-07T04:54:34.776Z"
   },
   {
    "duration": 96,
    "start_time": "2025-05-07T04:54:34.956Z"
   },
   {
    "duration": 47,
    "start_time": "2025-05-07T04:54:35.054Z"
   },
   {
    "duration": 20,
    "start_time": "2025-05-07T04:54:35.103Z"
   },
   {
    "duration": 65,
    "start_time": "2025-05-07T04:54:35.124Z"
   },
   {
    "duration": 267,
    "start_time": "2025-05-07T04:54:35.190Z"
   },
   {
    "duration": 29,
    "start_time": "2025-05-07T04:54:35.459Z"
   },
   {
    "duration": 1148,
    "start_time": "2025-05-07T04:54:35.490Z"
   },
   {
    "duration": 18,
    "start_time": "2025-05-07T04:54:36.640Z"
   },
   {
    "duration": 56,
    "start_time": "2025-05-07T04:54:36.660Z"
   },
   {
    "duration": 164,
    "start_time": "2025-05-07T04:54:36.718Z"
   },
   {
    "duration": 48,
    "start_time": "2025-05-07T04:54:36.884Z"
   },
   {
    "duration": 10,
    "start_time": "2025-05-07T04:54:48.094Z"
   },
   {
    "duration": 7253,
    "start_time": "2025-05-07T04:56:08.318Z"
   },
   {
    "duration": 10,
    "start_time": "2025-05-07T04:56:15.574Z"
   },
   {
    "duration": 93,
    "start_time": "2025-05-07T04:56:15.586Z"
   },
   {
    "duration": 55,
    "start_time": "2025-05-07T04:56:15.681Z"
   },
   {
    "duration": 931,
    "start_time": "2025-05-07T04:56:15.737Z"
   },
   {
    "duration": 2997,
    "start_time": "2025-05-07T04:56:16.670Z"
   },
   {
    "duration": 20,
    "start_time": "2025-05-07T04:56:19.669Z"
   },
   {
    "duration": 108,
    "start_time": "2025-05-07T04:56:19.691Z"
   },
   {
    "duration": 94,
    "start_time": "2025-05-07T04:56:19.801Z"
   },
   {
    "duration": 91,
    "start_time": "2025-05-07T04:56:19.897Z"
   },
   {
    "duration": 38,
    "start_time": "2025-05-07T04:56:19.990Z"
   },
   {
    "duration": 90,
    "start_time": "2025-05-07T04:56:20.030Z"
   },
   {
    "duration": 52,
    "start_time": "2025-05-07T04:56:20.122Z"
   },
   {
    "duration": 274,
    "start_time": "2025-05-07T04:56:20.176Z"
   },
   {
    "duration": 28,
    "start_time": "2025-05-07T04:56:20.452Z"
   },
   {
    "duration": 1073,
    "start_time": "2025-05-07T04:56:20.482Z"
   },
   {
    "duration": 25,
    "start_time": "2025-05-07T04:56:21.557Z"
   },
   {
    "duration": 30,
    "start_time": "2025-05-07T04:56:21.584Z"
   },
   {
    "duration": 15,
    "start_time": "2025-05-07T04:56:21.616Z"
   },
   {
    "duration": 63,
    "start_time": "2025-05-07T04:56:21.633Z"
   },
   {
    "duration": 12,
    "start_time": "2025-05-07T04:56:21.697Z"
   },
   {
    "duration": 21899,
    "start_time": "2025-05-07T04:56:30.117Z"
   },
   {
    "duration": 32,
    "start_time": "2025-05-07T04:57:16.427Z"
   },
   {
    "duration": 12,
    "start_time": "2025-05-07T04:57:20.631Z"
   },
   {
    "duration": 42,
    "start_time": "2025-05-07T04:57:56.266Z"
   },
   {
    "duration": 12,
    "start_time": "2025-05-07T04:57:59.946Z"
   },
   {
    "duration": 403,
    "start_time": "2025-05-07T04:59:07.146Z"
   },
   {
    "duration": 51,
    "start_time": "2025-05-07T05:01:05.880Z"
   },
   {
    "duration": 11,
    "start_time": "2025-05-07T05:01:09.022Z"
   },
   {
    "duration": 8,
    "start_time": "2025-05-07T05:10:24.675Z"
   },
   {
    "duration": 95,
    "start_time": "2025-05-07T05:12:01.202Z"
   },
   {
    "duration": 101,
    "start_time": "2025-05-07T05:12:14.251Z"
   },
   {
    "duration": 94,
    "start_time": "2025-05-07T05:12:32.481Z"
   },
   {
    "duration": 84,
    "start_time": "2025-05-07T05:12:50.602Z"
   },
   {
    "duration": 41,
    "start_time": "2025-05-07T05:14:01.088Z"
   },
   {
    "duration": 6944,
    "start_time": "2025-05-07T05:17:38.448Z"
   },
   {
    "duration": 9,
    "start_time": "2025-05-07T05:17:45.395Z"
   },
   {
    "duration": 59,
    "start_time": "2025-05-07T05:17:45.406Z"
   },
   {
    "duration": 72,
    "start_time": "2025-05-07T05:17:45.467Z"
   },
   {
    "duration": 1000,
    "start_time": "2025-05-07T05:17:45.541Z"
   },
   {
    "duration": 3141,
    "start_time": "2025-05-07T05:17:46.543Z"
   },
   {
    "duration": 17,
    "start_time": "2025-05-07T05:17:49.685Z"
   },
   {
    "duration": 679,
    "start_time": "2025-05-07T05:17:49.704Z"
   },
   {
    "duration": 91,
    "start_time": "2025-05-07T05:17:50.386Z"
   },
   {
    "duration": 97,
    "start_time": "2025-05-07T05:17:50.479Z"
   },
   {
    "duration": 36,
    "start_time": "2025-05-07T05:17:50.578Z"
   },
   {
    "duration": 185,
    "start_time": "2025-05-07T05:17:50.616Z"
   },
   {
    "duration": 116,
    "start_time": "2025-05-07T05:17:50.802Z"
   },
   {
    "duration": 268,
    "start_time": "2025-05-07T05:17:50.921Z"
   },
   {
    "duration": 27,
    "start_time": "2025-05-07T05:17:51.192Z"
   },
   {
    "duration": 1141,
    "start_time": "2025-05-07T05:17:51.221Z"
   },
   {
    "duration": 26,
    "start_time": "2025-05-07T05:17:52.364Z"
   },
   {
    "duration": 111,
    "start_time": "2025-05-07T05:17:52.392Z"
   },
   {
    "duration": 16,
    "start_time": "2025-05-07T05:17:52.505Z"
   },
   {
    "duration": 47,
    "start_time": "2025-05-07T05:18:25.366Z"
   },
   {
    "duration": 120,
    "start_time": "2025-05-07T05:21:42.474Z"
   },
   {
    "duration": 7424,
    "start_time": "2025-05-07T05:23:53.995Z"
   },
   {
    "duration": 10,
    "start_time": "2025-05-07T05:24:01.421Z"
   },
   {
    "duration": 2392,
    "start_time": "2025-05-07T05:24:01.433Z"
   },
   {
    "duration": 2123,
    "start_time": "2025-05-07T05:24:03.827Z"
   },
   {
    "duration": 1080,
    "start_time": "2025-05-07T05:24:05.953Z"
   },
   {
    "duration": 2981,
    "start_time": "2025-05-07T05:24:07.035Z"
   },
   {
    "duration": 17,
    "start_time": "2025-05-07T05:24:10.017Z"
   },
   {
    "duration": 112,
    "start_time": "2025-05-07T05:24:10.036Z"
   },
   {
    "duration": 91,
    "start_time": "2025-05-07T05:24:10.149Z"
   },
   {
    "duration": 116,
    "start_time": "2025-05-07T05:24:10.241Z"
   },
   {
    "duration": 44,
    "start_time": "2025-05-07T05:24:10.358Z"
   },
   {
    "duration": 18,
    "start_time": "2025-05-07T05:24:10.404Z"
   },
   {
    "duration": 113,
    "start_time": "2025-05-07T05:24:10.424Z"
   },
   {
    "duration": 254,
    "start_time": "2025-05-07T05:24:10.540Z"
   },
   {
    "duration": 49,
    "start_time": "2025-05-07T05:24:56.775Z"
   },
   {
    "duration": 1094,
    "start_time": "2025-05-07T05:30:36.594Z"
   },
   {
    "duration": 17,
    "start_time": "2025-05-07T05:30:56.704Z"
   },
   {
    "duration": 38,
    "start_time": "2025-05-07T05:30:59.722Z"
   },
   {
    "duration": 16,
    "start_time": "2025-05-07T05:31:02.192Z"
   },
   {
    "duration": 55,
    "start_time": "2025-05-07T05:31:19.207Z"
   },
   {
    "duration": 13,
    "start_time": "2025-05-07T05:32:43.295Z"
   },
   {
    "duration": 120,
    "start_time": "2025-05-07T05:36:13.322Z"
   },
   {
    "duration": 66,
    "start_time": "2025-05-07T05:37:49.868Z"
   },
   {
    "duration": 68,
    "start_time": "2025-05-07T05:38:13.127Z"
   },
   {
    "duration": 12,
    "start_time": "2025-05-07T05:38:24.489Z"
   },
   {
    "duration": 14,
    "start_time": "2025-05-07T05:39:05.720Z"
   },
   {
    "duration": 104,
    "start_time": "2025-05-07T05:46:08.552Z"
   },
   {
    "duration": 22,
    "start_time": "2025-05-07T05:46:15.590Z"
   },
   {
    "duration": 6939,
    "start_time": "2025-05-07T05:48:39.227Z"
   },
   {
    "duration": 10,
    "start_time": "2025-05-07T05:48:46.168Z"
   },
   {
    "duration": 8,
    "start_time": "2025-05-07T05:48:46.180Z"
   },
   {
    "duration": 6,
    "start_time": "2025-05-07T05:48:46.190Z"
   },
   {
    "duration": 910,
    "start_time": "2025-05-07T05:48:46.198Z"
   },
   {
    "duration": 2954,
    "start_time": "2025-05-07T05:48:47.110Z"
   },
   {
    "duration": 21,
    "start_time": "2025-05-07T05:48:50.066Z"
   },
   {
    "duration": 141,
    "start_time": "2025-05-07T05:48:50.089Z"
   },
   {
    "duration": 84,
    "start_time": "2025-05-07T05:48:50.232Z"
   },
   {
    "duration": 91,
    "start_time": "2025-05-07T05:48:50.318Z"
   },
   {
    "duration": 34,
    "start_time": "2025-05-07T05:48:50.411Z"
   },
   {
    "duration": 32,
    "start_time": "2025-05-07T05:48:50.447Z"
   },
   {
    "duration": 50,
    "start_time": "2025-05-07T05:48:50.481Z"
   },
   {
    "duration": 311,
    "start_time": "2025-05-07T05:48:50.533Z"
   },
   {
    "duration": 1167,
    "start_time": "2025-05-07T05:48:50.846Z"
   },
   {
    "duration": 23,
    "start_time": "2025-05-07T05:48:52.016Z"
   },
   {
    "duration": 61,
    "start_time": "2025-05-07T05:48:52.041Z"
   },
   {
    "duration": 16,
    "start_time": "2025-05-07T05:48:52.104Z"
   },
   {
    "duration": 78,
    "start_time": "2025-05-07T05:48:52.121Z"
   },
   {
    "duration": 12,
    "start_time": "2025-05-07T05:48:52.201Z"
   },
   {
    "duration": 71,
    "start_time": "2025-05-07T05:48:52.214Z"
   },
   {
    "duration": 71,
    "start_time": "2025-05-07T05:50:05.440Z"
   },
   {
    "duration": 117,
    "start_time": "2025-05-07T05:50:54.585Z"
   },
   {
    "duration": 44,
    "start_time": "2025-05-07T05:51:03.757Z"
   },
   {
    "duration": 52,
    "start_time": "2025-05-07T05:54:29.082Z"
   },
   {
    "duration": 39,
    "start_time": "2025-05-07T05:54:39.133Z"
   },
   {
    "duration": 24,
    "start_time": "2025-05-07T05:55:28.322Z"
   },
   {
    "duration": 31,
    "start_time": "2025-05-07T05:56:10.418Z"
   },
   {
    "duration": 10,
    "start_time": "2025-05-07T05:56:16.874Z"
   },
   {
    "duration": 23,
    "start_time": "2025-05-07T05:57:08.154Z"
   },
   {
    "duration": 54,
    "start_time": "2025-05-07T05:58:09.568Z"
   },
   {
    "duration": 9,
    "start_time": "2025-05-07T05:59:14.102Z"
   },
   {
    "duration": 8,
    "start_time": "2025-05-07T06:02:04.984Z"
   },
   {
    "duration": 57,
    "start_time": "2025-05-07T06:02:04.994Z"
   },
   {
    "duration": 19,
    "start_time": "2025-05-07T06:02:05.053Z"
   },
   {
    "duration": 108,
    "start_time": "2025-05-07T06:02:05.074Z"
   },
   {
    "duration": 8924,
    "start_time": "2025-05-07T06:02:10.352Z"
   },
   {
    "duration": 4543,
    "start_time": "2025-05-07T06:04:21.866Z"
   },
   {
    "duration": 13,
    "start_time": "2025-05-07T06:05:15.607Z"
   },
   {
    "duration": 28,
    "start_time": "2025-05-07T06:06:34.437Z"
   },
   {
    "duration": 15,
    "start_time": "2025-05-07T06:06:54.659Z"
   },
   {
    "duration": 1753,
    "start_time": "2025-05-07T06:06:57.273Z"
   },
   {
    "duration": 93,
    "start_time": "2025-05-07T06:09:13.161Z"
   },
   {
    "duration": 5706,
    "start_time": "2025-05-07T06:22:09.930Z"
   },
   {
    "duration": 16,
    "start_time": "2025-05-07T06:22:23.657Z"
   },
   {
    "duration": 11,
    "start_time": "2025-05-07T06:22:50.930Z"
   },
   {
    "duration": 36,
    "start_time": "2025-05-07T06:23:40.953Z"
   },
   {
    "duration": 10,
    "start_time": "2025-05-07T06:23:53.690Z"
   },
   {
    "duration": 6800,
    "start_time": "2025-05-07T06:24:05.588Z"
   },
   {
    "duration": 11,
    "start_time": "2025-05-07T06:24:12.391Z"
   },
   {
    "duration": 8,
    "start_time": "2025-05-07T06:24:12.404Z"
   },
   {
    "duration": 112,
    "start_time": "2025-05-07T06:24:12.414Z"
   },
   {
    "duration": 878,
    "start_time": "2025-05-07T06:24:12.528Z"
   },
   {
    "duration": 2947,
    "start_time": "2025-05-07T06:24:13.407Z"
   },
   {
    "duration": 26,
    "start_time": "2025-05-07T06:24:16.355Z"
   },
   {
    "duration": 121,
    "start_time": "2025-05-07T06:24:16.383Z"
   },
   {
    "duration": 102,
    "start_time": "2025-05-07T06:24:16.506Z"
   },
   {
    "duration": 99,
    "start_time": "2025-05-07T06:24:16.609Z"
   },
   {
    "duration": 41,
    "start_time": "2025-05-07T06:24:16.710Z"
   },
   {
    "duration": 33,
    "start_time": "2025-05-07T06:24:16.752Z"
   },
   {
    "duration": 54,
    "start_time": "2025-05-07T06:24:16.786Z"
   },
   {
    "duration": 288,
    "start_time": "2025-05-07T06:24:16.843Z"
   },
   {
    "duration": 1152,
    "start_time": "2025-05-07T06:24:17.133Z"
   },
   {
    "duration": 17,
    "start_time": "2025-05-07T06:24:18.287Z"
   },
   {
    "duration": 37,
    "start_time": "2025-05-07T06:24:18.306Z"
   },
   {
    "duration": 37,
    "start_time": "2025-05-07T06:24:18.345Z"
   },
   {
    "duration": 54,
    "start_time": "2025-05-07T06:24:18.384Z"
   },
   {
    "duration": 84,
    "start_time": "2025-05-07T06:24:18.440Z"
   },
   {
    "duration": 96,
    "start_time": "2025-05-07T06:24:18.525Z"
   },
   {
    "duration": 128,
    "start_time": "2025-05-07T06:24:18.623Z"
   },
   {
    "duration": 41,
    "start_time": "2025-05-07T06:24:18.753Z"
   },
   {
    "duration": 16,
    "start_time": "2025-05-07T06:24:18.796Z"
   },
   {
    "duration": 8,
    "start_time": "2025-05-07T06:24:18.813Z"
   },
   {
    "duration": 113,
    "start_time": "2025-05-07T06:24:18.823Z"
   },
   {
    "duration": 18,
    "start_time": "2025-05-07T06:24:18.938Z"
   },
   {
    "duration": 1834,
    "start_time": "2025-05-07T06:24:18.958Z"
   },
   {
    "duration": 5860,
    "start_time": "2025-05-07T06:24:20.794Z"
   },
   {
    "duration": 31,
    "start_time": "2025-05-07T06:24:26.657Z"
   },
   {
    "duration": 9,
    "start_time": "2025-05-07T06:24:43.956Z"
   },
   {
    "duration": 9,
    "start_time": "2025-05-07T06:26:16.425Z"
   },
   {
    "duration": 12,
    "start_time": "2025-05-07T06:26:34.590Z"
   },
   {
    "duration": 48,
    "start_time": "2025-05-07T06:26:34.604Z"
   },
   {
    "duration": 141,
    "start_time": "2025-05-07T06:26:39.215Z"
   },
   {
    "duration": 62,
    "start_time": "2025-05-07T06:26:39.358Z"
   },
   {
    "duration": 72,
    "start_time": "2025-05-07T06:31:58.401Z"
   },
   {
    "duration": 13,
    "start_time": "2025-05-07T06:35:40.644Z"
   },
   {
    "duration": 140,
    "start_time": "2025-05-07T06:39:00.914Z"
   },
   {
    "duration": 2,
    "start_time": "2025-05-07T06:39:17.434Z"
   },
   {
    "duration": 122470,
    "start_time": "2025-05-07T06:39:19.513Z"
   },
   {
    "duration": 4,
    "start_time": "2025-05-07T06:49:30.176Z"
   },
   {
    "duration": 12,
    "start_time": "2025-05-07T06:50:02.916Z"
   },
   {
    "duration": 368,
    "start_time": "2025-05-07T06:55:00.029Z"
   },
   {
    "duration": 372,
    "start_time": "2025-05-07T06:55:31.943Z"
   },
   {
    "duration": 62,
    "start_time": "2025-05-07T06:57:18.964Z"
   },
   {
    "duration": 3,
    "start_time": "2025-05-07T06:57:20.692Z"
   },
   {
    "duration": 13806,
    "start_time": "2025-05-07T06:57:22.676Z"
   },
   {
    "duration": 2706,
    "start_time": "2025-05-07T06:57:49.271Z"
   },
   {
    "duration": 2666,
    "start_time": "2025-05-07T06:58:44.425Z"
   },
   {
    "duration": 2,
    "start_time": "2025-05-07T07:22:20.176Z"
   },
   {
    "duration": 3,
    "start_time": "2025-05-07T07:22:24.444Z"
   },
   {
    "duration": 3,
    "start_time": "2025-05-07T07:22:30.831Z"
   },
   {
    "duration": 169337,
    "start_time": "2025-05-07T07:22:45.022Z"
   },
   {
    "duration": 6824,
    "start_time": "2025-05-07T07:54:18.882Z"
   },
   {
    "duration": 11,
    "start_time": "2025-05-07T07:54:25.708Z"
   },
   {
    "duration": 158,
    "start_time": "2025-05-07T07:54:25.721Z"
   },
   {
    "duration": 80,
    "start_time": "2025-05-07T07:54:25.882Z"
   },
   {
    "duration": 930,
    "start_time": "2025-05-07T07:54:25.964Z"
   },
   {
    "duration": 2924,
    "start_time": "2025-05-07T07:54:26.895Z"
   },
   {
    "duration": 16,
    "start_time": "2025-05-07T07:54:29.821Z"
   },
   {
    "duration": 114,
    "start_time": "2025-05-07T07:54:29.838Z"
   },
   {
    "duration": 101,
    "start_time": "2025-05-07T07:54:29.953Z"
   },
   {
    "duration": 92,
    "start_time": "2025-05-07T07:54:30.057Z"
   },
   {
    "duration": 47,
    "start_time": "2025-05-07T07:54:30.150Z"
   },
   {
    "duration": 20,
    "start_time": "2025-05-07T07:54:30.198Z"
   },
   {
    "duration": 219,
    "start_time": "2025-05-07T07:54:30.220Z"
   },
   {
    "duration": 297,
    "start_time": "2025-05-07T07:54:30.441Z"
   },
   {
    "duration": 1163,
    "start_time": "2025-05-07T07:54:30.740Z"
   },
   {
    "duration": 18,
    "start_time": "2025-05-07T07:54:31.907Z"
   },
   {
    "duration": 68,
    "start_time": "2025-05-07T07:54:31.926Z"
   },
   {
    "duration": 21,
    "start_time": "2025-05-07T07:54:31.996Z"
   },
   {
    "duration": 70,
    "start_time": "2025-05-07T07:54:32.019Z"
   },
   {
    "duration": 66,
    "start_time": "2025-05-07T07:54:32.091Z"
   },
   {
    "duration": 75,
    "start_time": "2025-05-07T07:54:32.158Z"
   },
   {
    "duration": 136,
    "start_time": "2025-05-07T07:54:32.235Z"
   },
   {
    "duration": 40,
    "start_time": "2025-05-07T07:54:32.372Z"
   },
   {
    "duration": 15,
    "start_time": "2025-05-07T07:54:32.413Z"
   },
   {
    "duration": 24,
    "start_time": "2025-05-07T07:54:32.429Z"
   },
   {
    "duration": 37,
    "start_time": "2025-05-07T07:54:32.455Z"
   },
   {
    "duration": 15,
    "start_time": "2025-05-07T07:54:32.493Z"
   },
   {
    "duration": 1773,
    "start_time": "2025-05-07T07:54:32.512Z"
   },
   {
    "duration": 5643,
    "start_time": "2025-05-07T07:54:34.287Z"
   },
   {
    "duration": 11,
    "start_time": "2025-05-07T07:54:39.932Z"
   },
   {
    "duration": 36,
    "start_time": "2025-05-07T07:54:39.945Z"
   },
   {
    "duration": 65,
    "start_time": "2025-05-07T07:54:39.983Z"
   },
   {
    "duration": 38,
    "start_time": "2025-05-07T07:54:40.050Z"
   },
   {
    "duration": 123,
    "start_time": "2025-05-07T07:54:40.090Z"
   },
   {
    "duration": 93,
    "start_time": "2025-05-07T07:54:40.215Z"
   },
   {
    "duration": 103632,
    "start_time": "2025-05-07T07:54:40.310Z"
   },
   {
    "duration": 338,
    "start_time": "2025-05-07T07:56:23.943Z"
   },
   {
    "duration": 67,
    "start_time": "2025-05-07T07:56:24.282Z"
   },
   {
    "duration": 3,
    "start_time": "2025-05-07T07:56:24.350Z"
   },
   {
    "duration": 14232,
    "start_time": "2025-05-07T07:56:24.355Z"
   },
   {
    "duration": 178,
    "start_time": "2025-05-07T07:56:38.589Z"
   },
   {
    "duration": 0,
    "start_time": "2025-05-07T07:56:38.769Z"
   },
   {
    "duration": 0,
    "start_time": "2025-05-07T07:56:38.770Z"
   },
   {
    "duration": 0,
    "start_time": "2025-05-07T07:56:38.776Z"
   },
   {
    "duration": 0,
    "start_time": "2025-05-07T07:56:38.777Z"
   },
   {
    "duration": 0,
    "start_time": "2025-05-07T07:56:38.778Z"
   },
   {
    "duration": 0,
    "start_time": "2025-05-07T07:56:38.780Z"
   },
   {
    "duration": 0,
    "start_time": "2025-05-07T07:56:38.781Z"
   },
   {
    "duration": 0,
    "start_time": "2025-05-07T07:56:38.782Z"
   },
   {
    "duration": 0,
    "start_time": "2025-05-07T07:56:38.783Z"
   },
   {
    "duration": 0,
    "start_time": "2025-05-07T07:56:38.784Z"
   },
   {
    "duration": 26,
    "start_time": "2025-05-07T07:58:18.936Z"
   },
   {
    "duration": 14,
    "start_time": "2025-05-07T07:58:22.322Z"
   },
   {
    "duration": 1601,
    "start_time": "2025-05-07T07:59:13.575Z"
   },
   {
    "duration": 13,
    "start_time": "2025-05-07T08:00:20.223Z"
   },
   {
    "duration": 1539,
    "start_time": "2025-05-07T08:00:31.647Z"
   },
   {
    "duration": 22,
    "start_time": "2025-05-07T08:02:47.230Z"
   },
   {
    "duration": 2799,
    "start_time": "2025-05-07T08:03:01.691Z"
   },
   {
    "duration": 2,
    "start_time": "2025-05-07T08:03:24.930Z"
   },
   {
    "duration": 3,
    "start_time": "2025-05-07T08:03:29.019Z"
   },
   {
    "duration": 3,
    "start_time": "2025-05-07T08:03:32.898Z"
   },
   {
    "duration": 165698,
    "start_time": "2025-05-07T08:03:34.923Z"
   },
   {
    "duration": 5284,
    "start_time": "2025-05-07T08:06:28.872Z"
   },
   {
    "duration": 94,
    "start_time": "2025-05-07T08:06:39.207Z"
   },
   {
    "duration": 5,
    "start_time": "2025-05-07T08:07:03.961Z"
   },
   {
    "duration": 98094,
    "start_time": "2025-05-07T08:07:10.897Z"
   },
   {
    "duration": 7,
    "start_time": "2025-05-07T08:10:20.449Z"
   },
   {
    "duration": 6,
    "start_time": "2025-05-07T08:10:37.563Z"
   },
   {
    "duration": 478494,
    "start_time": "2025-05-07T08:11:20.794Z"
   },
   {
    "duration": 6,
    "start_time": "2025-05-07T08:19:19.290Z"
   },
   {
    "duration": 7,
    "start_time": "2025-05-07T08:19:43.238Z"
   },
   {
    "duration": 8,
    "start_time": "2025-05-07T08:25:10.142Z"
   },
   {
    "duration": 6,
    "start_time": "2025-05-07T08:25:30.391Z"
   },
   {
    "duration": 87,
    "start_time": "2025-05-07T08:27:45.509Z"
   },
   {
    "duration": 4,
    "start_time": "2025-05-07T10:40:32.119Z"
   },
   {
    "duration": 7346,
    "start_time": "2025-05-07T10:47:26.430Z"
   },
   {
    "duration": 12,
    "start_time": "2025-05-07T10:47:33.779Z"
   },
   {
    "duration": 9,
    "start_time": "2025-05-07T10:47:33.793Z"
   },
   {
    "duration": 37,
    "start_time": "2025-05-07T10:47:33.804Z"
   },
   {
    "duration": 996,
    "start_time": "2025-05-07T10:47:33.843Z"
   },
   {
    "duration": 3280,
    "start_time": "2025-05-07T10:47:34.840Z"
   },
   {
    "duration": 16,
    "start_time": "2025-05-07T10:47:38.123Z"
   },
   {
    "duration": 125,
    "start_time": "2025-05-07T10:47:38.141Z"
   },
   {
    "duration": 96,
    "start_time": "2025-05-07T10:47:38.268Z"
   },
   {
    "duration": 91,
    "start_time": "2025-05-07T10:47:38.375Z"
   },
   {
    "duration": 42,
    "start_time": "2025-05-07T10:47:38.476Z"
   },
   {
    "duration": 19,
    "start_time": "2025-05-07T10:47:38.520Z"
   },
   {
    "duration": 66,
    "start_time": "2025-05-07T10:47:38.541Z"
   },
   {
    "duration": 307,
    "start_time": "2025-05-07T10:47:38.609Z"
   },
   {
    "duration": 1194,
    "start_time": "2025-05-07T10:47:38.918Z"
   },
   {
    "duration": 18,
    "start_time": "2025-05-07T10:47:40.114Z"
   },
   {
    "duration": 56,
    "start_time": "2025-05-07T10:47:40.134Z"
   },
   {
    "duration": 16,
    "start_time": "2025-05-07T10:47:40.192Z"
   },
   {
    "duration": 72,
    "start_time": "2025-05-07T10:47:40.210Z"
   },
   {
    "duration": 72,
    "start_time": "2025-05-07T10:47:40.284Z"
   },
   {
    "duration": 83,
    "start_time": "2025-05-07T10:47:40.358Z"
   },
   {
    "duration": 65,
    "start_time": "2025-05-07T10:47:40.442Z"
   },
   {
    "duration": 42,
    "start_time": "2025-05-07T10:47:40.509Z"
   },
   {
    "duration": 28,
    "start_time": "2025-05-07T10:47:40.553Z"
   },
   {
    "duration": 8,
    "start_time": "2025-05-07T10:47:40.583Z"
   },
   {
    "duration": 51,
    "start_time": "2025-05-07T10:47:40.592Z"
   },
   {
    "duration": 36,
    "start_time": "2025-05-07T10:47:40.645Z"
   },
   {
    "duration": 1978,
    "start_time": "2025-05-07T10:47:40.685Z"
   },
   {
    "duration": 6079,
    "start_time": "2025-05-07T10:47:42.664Z"
   },
   {
    "duration": 19,
    "start_time": "2025-05-07T10:47:48.745Z"
   },
   {
    "duration": 25,
    "start_time": "2025-05-07T10:47:48.765Z"
   },
   {
    "duration": 70,
    "start_time": "2025-05-07T10:47:48.791Z"
   },
   {
    "duration": 44,
    "start_time": "2025-05-07T10:47:48.862Z"
   },
   {
    "duration": 40,
    "start_time": "2025-05-07T10:47:48.907Z"
   },
   {
    "duration": 236,
    "start_time": "2025-05-07T10:47:48.949Z"
   },
   {
    "duration": 77,
    "start_time": "2025-05-07T10:47:49.187Z"
   },
   {
    "duration": 113831,
    "start_time": "2025-05-07T10:47:49.266Z"
   },
   {
    "duration": 362,
    "start_time": "2025-05-07T10:49:43.099Z"
   },
   {
    "duration": 373,
    "start_time": "2025-05-07T10:49:43.462Z"
   },
   {
    "duration": 135,
    "start_time": "2025-05-07T10:49:43.836Z"
   },
   {
    "duration": 0,
    "start_time": "2025-05-07T10:49:43.976Z"
   },
   {
    "duration": 0,
    "start_time": "2025-05-07T10:49:43.978Z"
   },
   {
    "duration": 0,
    "start_time": "2025-05-07T10:49:43.979Z"
   },
   {
    "duration": 0,
    "start_time": "2025-05-07T10:49:43.981Z"
   },
   {
    "duration": 0,
    "start_time": "2025-05-07T10:49:43.982Z"
   },
   {
    "duration": 0,
    "start_time": "2025-05-07T10:49:43.984Z"
   },
   {
    "duration": 0,
    "start_time": "2025-05-07T10:49:43.986Z"
   },
   {
    "duration": 0,
    "start_time": "2025-05-07T10:49:43.987Z"
   },
   {
    "duration": 0,
    "start_time": "2025-05-07T10:49:43.990Z"
   },
   {
    "duration": 0,
    "start_time": "2025-05-07T10:49:43.991Z"
   },
   {
    "duration": 0,
    "start_time": "2025-05-07T10:49:43.992Z"
   },
   {
    "duration": 0,
    "start_time": "2025-05-07T10:49:43.994Z"
   },
   {
    "duration": 0,
    "start_time": "2025-05-07T10:49:43.996Z"
   },
   {
    "duration": 0,
    "start_time": "2025-05-07T10:49:43.997Z"
   },
   {
    "duration": 0,
    "start_time": "2025-05-07T10:49:43.999Z"
   },
   {
    "duration": 0,
    "start_time": "2025-05-07T10:49:44.001Z"
   },
   {
    "duration": 6,
    "start_time": "2025-05-07T10:52:19.190Z"
   },
   {
    "duration": 9,
    "start_time": "2025-05-07T10:52:26.677Z"
   },
   {
    "duration": 7,
    "start_time": "2025-05-07T10:52:45.276Z"
   },
   {
    "duration": 9,
    "start_time": "2025-05-07T10:52:47.524Z"
   },
   {
    "duration": 72,
    "start_time": "2025-05-07T10:55:41.600Z"
   },
   {
    "duration": 4,
    "start_time": "2025-05-07T10:55:41.674Z"
   },
   {
    "duration": 14915,
    "start_time": "2025-05-07T10:55:41.679Z"
   },
   {
    "duration": 2894,
    "start_time": "2025-05-07T10:55:56.596Z"
   },
   {
    "duration": 5,
    "start_time": "2025-05-07T10:55:59.492Z"
   },
   {
    "duration": 79,
    "start_time": "2025-05-07T10:55:59.499Z"
   },
   {
    "duration": 10,
    "start_time": "2025-05-07T10:56:18.432Z"
   },
   {
    "duration": 3,
    "start_time": "2025-05-07T10:56:57.749Z"
   },
   {
    "duration": 11,
    "start_time": "2025-05-07T10:56:57.754Z"
   },
   {
    "duration": 9,
    "start_time": "2025-05-07T10:56:57.767Z"
   },
   {
    "duration": 169646,
    "start_time": "2025-05-07T10:56:57.778Z"
   },
   {
    "duration": 3892,
    "start_time": "2025-05-07T10:59:47.426Z"
   },
   {
    "duration": 104,
    "start_time": "2025-05-07T10:59:51.320Z"
   },
   {
    "duration": 6,
    "start_time": "2025-05-07T10:59:51.426Z"
   },
   {
    "duration": 53,
    "start_time": "2025-05-07T10:59:51.434Z"
   },
   {
    "duration": 24,
    "start_time": "2025-05-07T10:59:51.489Z"
   },
   {
    "duration": 35,
    "start_time": "2025-05-07T10:59:51.515Z"
   },
   {
    "duration": 990,
    "start_time": "2025-05-07T11:02:50.889Z"
   },
   {
    "duration": 13,
    "start_time": "2025-05-07T11:03:11.470Z"
   },
   {
    "duration": 14,
    "start_time": "2025-05-07T11:03:27.615Z"
   },
   {
    "duration": 11,
    "start_time": "2025-05-07T11:04:26.847Z"
   },
   {
    "duration": 410,
    "start_time": "2025-05-07T11:04:43.350Z"
   },
   {
    "duration": 17,
    "start_time": "2025-05-07T11:05:32.070Z"
   },
   {
    "duration": 7317,
    "start_time": "2025-05-07T11:06:21.128Z"
   },
   {
    "duration": 12,
    "start_time": "2025-05-07T11:06:28.447Z"
   },
   {
    "duration": 49,
    "start_time": "2025-05-07T11:06:28.461Z"
   },
   {
    "duration": 17,
    "start_time": "2025-05-07T11:06:28.512Z"
   },
   {
    "duration": 1023,
    "start_time": "2025-05-07T11:06:28.531Z"
   },
   {
    "duration": 3320,
    "start_time": "2025-05-07T11:06:29.556Z"
   },
   {
    "duration": 18,
    "start_time": "2025-05-07T11:06:32.878Z"
   },
   {
    "duration": 167,
    "start_time": "2025-05-07T11:06:32.897Z"
   },
   {
    "duration": 91,
    "start_time": "2025-05-07T11:06:33.066Z"
   },
   {
    "duration": 108,
    "start_time": "2025-05-07T11:06:33.159Z"
   },
   {
    "duration": 42,
    "start_time": "2025-05-07T11:06:33.269Z"
   },
   {
    "duration": 174,
    "start_time": "2025-05-07T11:06:33.313Z"
   },
   {
    "duration": 88,
    "start_time": "2025-05-07T11:06:33.489Z"
   },
   {
    "duration": 351,
    "start_time": "2025-05-07T11:06:33.581Z"
   },
   {
    "duration": 1249,
    "start_time": "2025-05-07T11:06:33.933Z"
   },
   {
    "duration": 19,
    "start_time": "2025-05-07T11:06:35.184Z"
   },
   {
    "duration": 51,
    "start_time": "2025-05-07T11:06:35.206Z"
   },
   {
    "duration": 33,
    "start_time": "2025-05-07T11:06:35.259Z"
   },
   {
    "duration": 130,
    "start_time": "2025-05-07T11:06:35.294Z"
   },
   {
    "duration": 77,
    "start_time": "2025-05-07T11:06:35.426Z"
   },
   {
    "duration": 83,
    "start_time": "2025-05-07T11:06:35.505Z"
   },
   {
    "duration": 131,
    "start_time": "2025-05-07T11:06:35.590Z"
   },
   {
    "duration": 53,
    "start_time": "2025-05-07T11:06:35.723Z"
   },
   {
    "duration": 63,
    "start_time": "2025-05-07T11:06:35.778Z"
   },
   {
    "duration": 16,
    "start_time": "2025-05-07T11:06:35.844Z"
   },
   {
    "duration": 54,
    "start_time": "2025-05-07T11:06:35.862Z"
   },
   {
    "duration": 18,
    "start_time": "2025-05-07T11:06:35.918Z"
   },
   {
    "duration": 1983,
    "start_time": "2025-05-07T11:06:35.937Z"
   },
   {
    "duration": 6075,
    "start_time": "2025-05-07T11:06:37.922Z"
   },
   {
    "duration": 14,
    "start_time": "2025-05-07T11:06:44.000Z"
   },
   {
    "duration": 80,
    "start_time": "2025-05-07T11:06:44.015Z"
   },
   {
    "duration": 65,
    "start_time": "2025-05-07T11:06:44.097Z"
   },
   {
    "duration": 27,
    "start_time": "2025-05-07T11:06:44.164Z"
   },
   {
    "duration": 64,
    "start_time": "2025-05-07T11:06:44.193Z"
   },
   {
    "duration": 159,
    "start_time": "2025-05-07T11:06:44.260Z"
   },
   {
    "duration": 90,
    "start_time": "2025-05-07T11:06:44.421Z"
   },
   {
    "duration": 114552,
    "start_time": "2025-05-07T11:06:44.513Z"
   },
   {
    "duration": 396,
    "start_time": "2025-05-07T11:08:39.067Z"
   },
   {
    "duration": 379,
    "start_time": "2025-05-07T11:08:39.465Z"
   },
   {
    "duration": 7,
    "start_time": "2025-05-07T11:08:39.845Z"
   },
   {
    "duration": 80,
    "start_time": "2025-05-07T11:08:39.857Z"
   },
   {
    "duration": 4,
    "start_time": "2025-05-07T11:08:39.939Z"
   },
   {
    "duration": 15043,
    "start_time": "2025-05-07T11:08:39.945Z"
   },
   {
    "duration": 2904,
    "start_time": "2025-05-07T11:08:54.989Z"
   },
   {
    "duration": 6,
    "start_time": "2025-05-07T11:08:57.895Z"
   },
   {
    "duration": 14,
    "start_time": "2025-05-07T11:08:57.903Z"
   },
   {
    "duration": 12,
    "start_time": "2025-05-07T11:08:57.919Z"
   },
   {
    "duration": 166,
    "start_time": "2025-05-07T11:08:57.933Z"
   },
   {
    "duration": 10,
    "start_time": "2025-05-07T11:08:58.101Z"
   },
   {
    "duration": 176733,
    "start_time": "2025-05-07T11:08:58.113Z"
   },
   {
    "duration": 3594,
    "start_time": "2025-05-07T11:11:54.848Z"
   },
   {
    "duration": 104,
    "start_time": "2025-05-07T11:11:58.444Z"
   },
   {
    "duration": 5,
    "start_time": "2025-05-07T11:11:58.550Z"
   },
   {
    "duration": 48,
    "start_time": "2025-05-07T11:11:58.557Z"
   },
   {
    "duration": 42,
    "start_time": "2025-05-07T11:11:58.607Z"
   },
   {
    "duration": 130,
    "start_time": "2025-05-07T11:11:58.651Z"
   },
   {
    "duration": 30,
    "start_time": "2025-05-07T11:11:58.783Z"
   },
   {
    "duration": 94,
    "start_time": "2025-05-07T11:13:35.548Z"
   },
   {
    "duration": 131,
    "start_time": "2025-05-07T11:13:43.874Z"
   },
   {
    "duration": 10,
    "start_time": "2025-05-07T11:14:05.115Z"
   },
   {
    "duration": 10,
    "start_time": "2025-05-07T11:14:56.380Z"
   },
   {
    "duration": 11,
    "start_time": "2025-05-07T11:21:16.072Z"
   },
   {
    "duration": 9,
    "start_time": "2025-05-07T11:21:38.346Z"
   },
   {
    "duration": 7030,
    "start_time": "2025-05-10T05:04:51.180Z"
   },
   {
    "duration": 11,
    "start_time": "2025-05-10T05:04:58.212Z"
   },
   {
    "duration": 30,
    "start_time": "2025-05-10T05:04:58.224Z"
   },
   {
    "duration": 12,
    "start_time": "2025-05-10T05:04:58.256Z"
   },
   {
    "duration": 944,
    "start_time": "2025-05-10T05:04:58.269Z"
   },
   {
    "duration": 3141,
    "start_time": "2025-05-10T05:04:59.214Z"
   },
   {
    "duration": 22,
    "start_time": "2025-05-10T05:05:02.357Z"
   },
   {
    "duration": 176,
    "start_time": "2025-05-10T05:05:02.380Z"
   },
   {
    "duration": 109,
    "start_time": "2025-05-10T05:05:02.558Z"
   },
   {
    "duration": 85,
    "start_time": "2025-05-10T05:05:02.669Z"
   },
   {
    "duration": 46,
    "start_time": "2025-05-10T05:05:02.755Z"
   },
   {
    "duration": 90,
    "start_time": "2025-05-10T05:05:02.803Z"
   },
   {
    "duration": 55,
    "start_time": "2025-05-10T05:05:02.895Z"
   },
   {
    "duration": 298,
    "start_time": "2025-05-10T05:05:02.952Z"
   },
   {
    "duration": 1151,
    "start_time": "2025-05-10T05:05:03.252Z"
   },
   {
    "duration": 17,
    "start_time": "2025-05-10T05:05:04.405Z"
   },
   {
    "duration": 69,
    "start_time": "2025-05-10T05:05:04.423Z"
   },
   {
    "duration": 57,
    "start_time": "2025-05-10T05:05:04.494Z"
   },
   {
    "duration": 140,
    "start_time": "2025-05-10T05:05:04.552Z"
   },
   {
    "duration": 69,
    "start_time": "2025-05-10T05:05:04.694Z"
   },
   {
    "duration": 74,
    "start_time": "2025-05-10T05:05:04.765Z"
   },
   {
    "duration": 75,
    "start_time": "2025-05-10T05:05:04.840Z"
   },
   {
    "duration": 43,
    "start_time": "2025-05-10T05:05:04.917Z"
   },
   {
    "duration": 25,
    "start_time": "2025-05-10T05:05:04.962Z"
   },
   {
    "duration": 18,
    "start_time": "2025-05-10T05:05:04.988Z"
   },
   {
    "duration": 61,
    "start_time": "2025-05-10T05:05:05.007Z"
   },
   {
    "duration": 21,
    "start_time": "2025-05-10T05:05:05.069Z"
   },
   {
    "duration": 1934,
    "start_time": "2025-05-10T05:05:05.094Z"
   },
   {
    "duration": 5782,
    "start_time": "2025-05-10T05:05:07.030Z"
   },
   {
    "duration": 12,
    "start_time": "2025-05-10T05:05:12.814Z"
   },
   {
    "duration": 39,
    "start_time": "2025-05-10T05:05:12.828Z"
   },
   {
    "duration": 88,
    "start_time": "2025-05-10T05:05:12.868Z"
   },
   {
    "duration": 18,
    "start_time": "2025-05-10T05:05:12.957Z"
   },
   {
    "duration": 4,
    "start_time": "2025-05-10T05:05:12.976Z"
   },
   {
    "duration": 140,
    "start_time": "2025-05-10T05:05:12.981Z"
   },
   {
    "duration": 66,
    "start_time": "2025-05-10T05:05:13.122Z"
   },
   {
    "duration": 105536,
    "start_time": "2025-05-10T05:05:13.190Z"
   },
   {
    "duration": 276,
    "start_time": "2025-05-10T05:06:58.728Z"
   },
   {
    "duration": 5,
    "start_time": "2025-05-10T05:06:59.006Z"
   },
   {
    "duration": 78,
    "start_time": "2025-05-10T05:06:59.012Z"
   },
   {
    "duration": 169,
    "start_time": "2025-05-10T05:06:59.091Z"
   },
   {
    "duration": 4,
    "start_time": "2025-05-10T05:06:59.261Z"
   },
   {
    "duration": 14320,
    "start_time": "2025-05-10T05:06:59.266Z"
   },
   {
    "duration": 180,
    "start_time": "2025-05-10T05:07:13.588Z"
   },
   {
    "duration": 0,
    "start_time": "2025-05-10T05:07:13.770Z"
   },
   {
    "duration": 0,
    "start_time": "2025-05-10T05:07:13.777Z"
   },
   {
    "duration": 0,
    "start_time": "2025-05-10T05:07:13.778Z"
   },
   {
    "duration": 0,
    "start_time": "2025-05-10T05:07:13.779Z"
   },
   {
    "duration": 0,
    "start_time": "2025-05-10T05:07:13.781Z"
   },
   {
    "duration": 0,
    "start_time": "2025-05-10T05:07:13.782Z"
   },
   {
    "duration": 0,
    "start_time": "2025-05-10T05:07:13.783Z"
   },
   {
    "duration": 0,
    "start_time": "2025-05-10T05:07:13.785Z"
   },
   {
    "duration": 0,
    "start_time": "2025-05-10T05:07:13.786Z"
   },
   {
    "duration": 0,
    "start_time": "2025-05-10T05:07:13.788Z"
   },
   {
    "duration": 1,
    "start_time": "2025-05-10T05:07:13.789Z"
   },
   {
    "duration": 0,
    "start_time": "2025-05-10T05:07:13.791Z"
   },
   {
    "duration": 20,
    "start_time": "2025-05-10T05:07:51.956Z"
   },
   {
    "duration": 2169,
    "start_time": "2025-05-10T05:07:57.316Z"
   },
   {
    "duration": 6,
    "start_time": "2025-05-10T05:08:17.458Z"
   },
   {
    "duration": 70,
    "start_time": "2025-05-10T05:08:17.466Z"
   },
   {
    "duration": 6,
    "start_time": "2025-05-10T05:08:17.538Z"
   },
   {
    "duration": 13,
    "start_time": "2025-05-10T05:08:17.546Z"
   },
   {
    "duration": 9,
    "start_time": "2025-05-10T05:08:17.560Z"
   },
   {
    "duration": 156901,
    "start_time": "2025-05-10T05:08:17.570Z"
   },
   {
    "duration": 2547,
    "start_time": "2025-05-10T05:10:54.472Z"
   },
   {
    "duration": 84,
    "start_time": "2025-05-10T05:10:57.021Z"
   },
   {
    "duration": 5,
    "start_time": "2025-05-10T05:10:57.108Z"
   },
   {
    "duration": 88,
    "start_time": "2025-05-10T05:10:57.115Z"
   },
   {
    "duration": 18,
    "start_time": "2025-05-10T05:10:57.205Z"
   },
   {
    "duration": 9,
    "start_time": "2025-05-10T05:10:57.224Z"
   },
   {
    "duration": 2671,
    "start_time": "2025-05-10T05:36:17.222Z"
   },
   {
    "duration": 15,
    "start_time": "2025-05-10T05:41:51.778Z"
   },
   {
    "duration": 42,
    "start_time": "2025-05-10T05:42:05.473Z"
   },
   {
    "duration": 14,
    "start_time": "2025-05-10T05:42:43.215Z"
   },
   {
    "duration": 17,
    "start_time": "2025-05-10T05:43:49.365Z"
   },
   {
    "duration": 7,
    "start_time": "2025-05-10T05:45:16.293Z"
   },
   {
    "duration": 8,
    "start_time": "2025-05-10T05:45:28.612Z"
   },
   {
    "duration": 6,
    "start_time": "2025-05-10T05:45:54.532Z"
   },
   {
    "duration": 9,
    "start_time": "2025-05-10T05:46:09.819Z"
   },
   {
    "duration": 5,
    "start_time": "2025-05-10T05:46:42.330Z"
   },
   {
    "duration": 42,
    "start_time": "2025-05-10T05:47:40.250Z"
   },
   {
    "duration": 41,
    "start_time": "2025-05-10T05:49:14.377Z"
   },
   {
    "duration": 35,
    "start_time": "2025-05-10T05:51:24.653Z"
   },
   {
    "duration": 72,
    "start_time": "2025-05-10T05:53:37.499Z"
   },
   {
    "duration": 6,
    "start_time": "2025-05-10T05:54:09.209Z"
   },
   {
    "duration": 12,
    "start_time": "2025-05-10T05:54:21.256Z"
   },
   {
    "duration": 5525,
    "start_time": "2025-05-10T05:57:15.284Z"
   },
   {
    "duration": 12,
    "start_time": "2025-05-10T05:57:20.812Z"
   },
   {
    "duration": 71,
    "start_time": "2025-05-10T05:57:20.826Z"
   },
   {
    "duration": 47,
    "start_time": "2025-05-10T05:57:20.900Z"
   },
   {
    "duration": 858,
    "start_time": "2025-05-10T05:57:20.948Z"
   },
   {
    "duration": 2823,
    "start_time": "2025-05-10T05:57:21.808Z"
   },
   {
    "duration": 13,
    "start_time": "2025-05-10T05:57:24.633Z"
   },
   {
    "duration": 147,
    "start_time": "2025-05-10T05:57:24.648Z"
   },
   {
    "duration": 88,
    "start_time": "2025-05-10T05:57:24.796Z"
   },
   {
    "duration": 94,
    "start_time": "2025-05-10T05:57:24.886Z"
   },
   {
    "duration": 37,
    "start_time": "2025-05-10T05:57:24.982Z"
   },
   {
    "duration": 30,
    "start_time": "2025-05-10T05:57:25.022Z"
   },
   {
    "duration": 65,
    "start_time": "2025-05-10T05:57:25.054Z"
   },
   {
    "duration": 256,
    "start_time": "2025-05-10T05:57:25.120Z"
   },
   {
    "duration": 1124,
    "start_time": "2025-05-10T05:57:25.378Z"
   },
   {
    "duration": 17,
    "start_time": "2025-05-10T05:57:26.504Z"
   },
   {
    "duration": 53,
    "start_time": "2025-05-10T05:57:26.523Z"
   },
   {
    "duration": 17,
    "start_time": "2025-05-10T05:57:26.578Z"
   },
   {
    "duration": 51,
    "start_time": "2025-05-10T05:57:26.597Z"
   },
   {
    "duration": 83,
    "start_time": "2025-05-10T05:57:26.650Z"
   },
   {
    "duration": 74,
    "start_time": "2025-05-10T05:57:26.734Z"
   },
   {
    "duration": 108,
    "start_time": "2025-05-10T05:57:26.809Z"
   },
   {
    "duration": 42,
    "start_time": "2025-05-10T05:57:26.919Z"
   },
   {
    "duration": 25,
    "start_time": "2025-05-10T05:57:26.962Z"
   },
   {
    "duration": 33,
    "start_time": "2025-05-10T05:57:26.988Z"
   },
   {
    "duration": 11,
    "start_time": "2025-05-10T05:57:27.023Z"
   },
   {
    "duration": 41,
    "start_time": "2025-05-10T05:57:27.035Z"
   },
   {
    "duration": 5499,
    "start_time": "2025-05-10T06:01:44.214Z"
   },
   {
    "duration": 10,
    "start_time": "2025-05-10T06:01:49.716Z"
   },
   {
    "duration": 54,
    "start_time": "2025-05-10T06:01:49.727Z"
   },
   {
    "duration": 30,
    "start_time": "2025-05-10T06:01:49.783Z"
   },
   {
    "duration": 835,
    "start_time": "2025-05-10T06:01:49.815Z"
   },
   {
    "duration": 2799,
    "start_time": "2025-05-10T06:01:50.651Z"
   },
   {
    "duration": 13,
    "start_time": "2025-05-10T06:01:53.451Z"
   },
   {
    "duration": 114,
    "start_time": "2025-05-10T06:01:53.466Z"
   },
   {
    "duration": 85,
    "start_time": "2025-05-10T06:01:53.582Z"
   },
   {
    "duration": 84,
    "start_time": "2025-05-10T06:01:53.678Z"
   },
   {
    "duration": 44,
    "start_time": "2025-05-10T06:01:53.764Z"
   },
   {
    "duration": 18,
    "start_time": "2025-05-10T06:01:53.809Z"
   },
   {
    "duration": 62,
    "start_time": "2025-05-10T06:01:53.829Z"
   },
   {
    "duration": 243,
    "start_time": "2025-05-10T06:01:53.893Z"
   },
   {
    "duration": 1130,
    "start_time": "2025-05-10T06:01:54.137Z"
   },
   {
    "duration": 18,
    "start_time": "2025-05-10T06:01:55.276Z"
   },
   {
    "duration": 38,
    "start_time": "2025-05-10T06:01:55.296Z"
   },
   {
    "duration": 16,
    "start_time": "2025-05-10T06:01:55.335Z"
   },
   {
    "duration": 112,
    "start_time": "2025-05-10T06:01:55.353Z"
   },
   {
    "duration": 68,
    "start_time": "2025-05-10T06:01:55.466Z"
   },
   {
    "duration": 68,
    "start_time": "2025-05-10T06:01:55.536Z"
   },
   {
    "duration": 77,
    "start_time": "2025-05-10T06:01:55.605Z"
   },
   {
    "duration": 43,
    "start_time": "2025-05-10T06:01:55.683Z"
   },
   {
    "duration": 54,
    "start_time": "2025-05-10T06:01:55.727Z"
   },
   {
    "duration": 52,
    "start_time": "2025-05-10T06:02:10.298Z"
   },
   {
    "duration": 6734,
    "start_time": "2025-05-10T06:12:21.388Z"
   },
   {
    "duration": 11,
    "start_time": "2025-05-10T06:12:28.124Z"
   },
   {
    "duration": 65,
    "start_time": "2025-05-10T06:12:28.137Z"
   },
   {
    "duration": 102,
    "start_time": "2025-05-10T06:12:28.204Z"
   },
   {
    "duration": 1022,
    "start_time": "2025-05-10T06:12:28.308Z"
   },
   {
    "duration": 3121,
    "start_time": "2025-05-10T06:12:29.332Z"
   },
   {
    "duration": 24,
    "start_time": "2025-05-10T06:12:32.454Z"
   },
   {
    "duration": 105,
    "start_time": "2025-05-10T06:12:32.480Z"
   },
   {
    "duration": 94,
    "start_time": "2025-05-10T06:12:32.586Z"
   },
   {
    "duration": 94,
    "start_time": "2025-05-10T06:12:32.683Z"
   },
   {
    "duration": 36,
    "start_time": "2025-05-10T06:12:32.778Z"
   },
   {
    "duration": 118,
    "start_time": "2025-05-10T06:12:32.815Z"
   },
   {
    "duration": 69,
    "start_time": "2025-05-10T06:12:32.934Z"
   },
   {
    "duration": 276,
    "start_time": "2025-05-10T06:12:33.005Z"
   },
   {
    "duration": 1131,
    "start_time": "2025-05-10T06:12:33.283Z"
   },
   {
    "duration": 17,
    "start_time": "2025-05-10T06:12:34.415Z"
   },
   {
    "duration": 55,
    "start_time": "2025-05-10T06:12:34.433Z"
   },
   {
    "duration": 17,
    "start_time": "2025-05-10T06:12:34.490Z"
   },
   {
    "duration": 52,
    "start_time": "2025-05-10T06:12:34.509Z"
   },
   {
    "duration": 72,
    "start_time": "2025-05-10T06:12:34.563Z"
   },
   {
    "duration": 76,
    "start_time": "2025-05-10T06:12:34.637Z"
   },
   {
    "duration": 107,
    "start_time": "2025-05-10T06:12:34.714Z"
   },
   {
    "duration": 62,
    "start_time": "2025-05-10T06:12:34.823Z"
   },
   {
    "duration": 32,
    "start_time": "2025-05-10T06:12:34.887Z"
   },
   {
    "duration": 43,
    "start_time": "2025-05-10T06:12:34.921Z"
   },
   {
    "duration": 22,
    "start_time": "2025-05-10T06:12:34.966Z"
   },
   {
    "duration": 2065,
    "start_time": "2025-05-10T06:12:34.990Z"
   },
   {
    "duration": 6365,
    "start_time": "2025-05-10T06:12:37.058Z"
   },
   {
    "duration": 13,
    "start_time": "2025-05-10T06:12:43.425Z"
   },
   {
    "duration": 78,
    "start_time": "2025-05-10T06:12:43.439Z"
   },
   {
    "duration": 110,
    "start_time": "2025-05-10T06:12:43.519Z"
   },
   {
    "duration": 31,
    "start_time": "2025-05-10T06:12:43.631Z"
   },
   {
    "duration": 13,
    "start_time": "2025-05-10T06:12:43.664Z"
   },
   {
    "duration": 127,
    "start_time": "2025-05-10T06:12:43.679Z"
   },
   {
    "duration": 3,
    "start_time": "2025-05-10T06:12:43.808Z"
   },
   {
    "duration": 110664,
    "start_time": "2025-05-10T06:12:43.812Z"
   },
   {
    "duration": 226,
    "start_time": "2025-05-10T06:14:34.478Z"
   },
   {
    "duration": 5,
    "start_time": "2025-05-10T06:14:34.706Z"
   },
   {
    "duration": 12,
    "start_time": "2025-05-10T06:14:34.713Z"
   },
   {
    "duration": 96,
    "start_time": "2025-05-10T06:14:34.727Z"
   },
   {
    "duration": 4,
    "start_time": "2025-05-10T06:14:34.824Z"
   },
   {
    "duration": 15448,
    "start_time": "2025-05-10T06:14:34.829Z"
   },
   {
    "duration": 2110,
    "start_time": "2025-05-10T06:14:50.278Z"
   },
   {
    "duration": 5,
    "start_time": "2025-05-10T06:14:52.389Z"
   },
   {
    "duration": 26,
    "start_time": "2025-05-10T06:14:52.396Z"
   },
   {
    "duration": 10,
    "start_time": "2025-05-10T06:14:52.423Z"
   },
   {
    "duration": 21,
    "start_time": "2025-05-10T06:14:52.434Z"
   },
   {
    "duration": 16,
    "start_time": "2025-05-10T06:14:52.457Z"
   },
   {
    "duration": 201690,
    "start_time": "2025-05-10T06:14:52.475Z"
   },
   {
    "duration": 5464,
    "start_time": "2025-05-10T06:18:14.166Z"
   },
   {
    "duration": 98,
    "start_time": "2025-05-10T06:18:19.632Z"
   },
   {
    "duration": 6,
    "start_time": "2025-05-10T06:18:19.732Z"
   },
   {
    "duration": 99,
    "start_time": "2025-05-10T06:18:19.739Z"
   },
   {
    "duration": 17,
    "start_time": "2025-05-10T06:18:19.839Z"
   },
   {
    "duration": 18,
    "start_time": "2025-05-10T06:18:19.858Z"
   },
   {
    "duration": 137,
    "start_time": "2025-05-10T06:18:19.878Z"
   },
   {
    "duration": 2034,
    "start_time": "2025-05-10T06:44:29.444Z"
   },
   {
    "duration": 2021,
    "start_time": "2025-05-10T06:45:15.070Z"
   },
   {
    "duration": 2029,
    "start_time": "2025-05-10T06:46:31.548Z"
   }
  ],
  "kernelspec": {
   "display_name": "Python 3 (ipykernel)",
   "language": "python",
   "name": "python3"
  },
  "language_info": {
   "codemirror_mode": {
    "name": "ipython",
    "version": 3
   },
   "file_extension": ".py",
   "mimetype": "text/x-python",
   "name": "python",
   "nbconvert_exporter": "python",
   "pygments_lexer": "ipython3",
   "version": "3.9.5"
  },
  "toc": {
   "base_numbering": 1,
   "nav_menu": {},
   "number_sections": true,
   "sideBar": true,
   "skip_h1_title": true,
   "title_cell": "Table of Contents",
   "title_sidebar": "Contents",
   "toc_cell": false,
   "toc_position": {
    "height": "calc(100% - 180px)",
    "left": "10px",
    "top": "150px",
    "width": "285.594px"
   },
   "toc_section_display": true,
   "toc_window_display": true
  }
 },
 "nbformat": 4,
 "nbformat_minor": 2
}
