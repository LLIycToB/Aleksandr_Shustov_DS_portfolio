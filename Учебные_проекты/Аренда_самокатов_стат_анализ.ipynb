{
 "cells": [
  {
   "cell_type": "markdown",
   "id": "be9ae817",
   "metadata": {},
   "source": [
    "# Проект: Статистический анализ данных\n",
    "\n",
    "В настоящем проекте мы исследуем данные мобильного приложения сервиса аренды самокатов GoFast.\n",
    "\n",
    "Целями этого исследования является изучение потребительсткого поведения клиентов в зависимости от выбранного ими тарифного плана, а также понимание коммерческой эффективности от оказания услуг этим категориям клиентов.\n",
    "\n",
    "Объектами исследования являются следующие данные:\n",
    "- база данных о пользователях сервиса\n",
    "- справочних тарифных планов\n",
    "- записи о совершенных поездках пользователей сервиса\n",
    "\n",
    "В процессе подготовки к исследованию мы проведем предобработку данных, в процессе которой выполним следующие работы:\n",
    "- загрузка данных в формате CSV\n",
    "- проверка и устранение явных дубликатов в записях\n",
    "- проверка наличия пропусков в данных и их устранение\n",
    "- приведем данные к правильным форматам\n",
    "- добавим информацию о порядковом номере месяца поездки\n",
    "\n",
    "Далее мы проведем исследовательский анализ и визуализируем данные в следующих разрезах:\n",
    "- частота встречаемости городов\n",
    "- соотношение пользователей с подпиской и без подписки\n",
    "- возраст пользователей\n",
    "- расстояние, которое пользователь преодолел за одну поездку\n",
    "- продолжительность поездок\n",
    "\n",
    "После этого произведем подсчет выручки, которая должна была быть получена согласно находящейся в нашем распоряжении телеметрии о поездках. Для этого выполним следующие действия с данными:\n",
    "1. Объединим все данные в одну таблицу\n",
    "2. Разделим полученную таблицу на две:\n",
    "    - данные пользователей с подпиской\n",
    "    - данные пользователей на свободном тарифном плане\n",
    "3. Вычислим суммарное расстояние, количество поездок и суммарное время для каждого пользователя за каждый месяц\n",
    "4. Вычислим суммарную выручку, которую принес каждый пользователь за месяц, с учетом его тарифного плана\n",
    "\n",
    "Для полученной информации мы сформулируем следующие гипотезы и проверим их методами статистического анализа:\n",
    "1. Тратят ли пользователи с подпиской больше времени на поездки?\n",
    "2. Можно ли сказать, что среднее расстояние, которое проезжают пользователи с подпиской за одну поездку, не превышает 3130 метров?\n",
    "3. будет ли помесячная выручка от пользователей с подпиской по месяцам выше, чем выручка от пользователей без подписки.\n",
    "\n",
    "Дополнительно, мы проведем следующие исследования:\n",
    "1. Какое минимальное количество промокодов нужно разослать в процессе маркетинговой акции, чтобы с заданной вероятностью подписку продлили запланированное количество пользователей.\n",
    "2. Оценить вероятность прочтения push-уведомлений о маркетинговых акциях заданным количеством пользователей мобильного приложения."
   ]
  },
  {
   "cell_type": "markdown",
   "id": "0bb62e04",
   "metadata": {},
   "source": [
    "#### Шаг 1. Загрузка данных"
   ]
  },
  {
   "cell_type": "code",
   "execution_count": 1,
   "id": "1aeabde2",
   "metadata": {},
   "outputs": [],
   "source": [
    "#импортируем необходимые библиотеки\n",
    "import pandas as pd\n",
    "import matplotlib.pyplot as plt\n",
    "import numpy as np\n",
    "from scipy import stats as st\n",
    "from scipy.stats import binom"
   ]
  },
  {
   "cell_type": "code",
   "execution_count": 2,
   "id": "800bb859",
   "metadata": {
    "scrolled": true
   },
   "outputs": [
    {
     "data": {
      "text/html": [
       "<div>\n",
       "<style scoped>\n",
       "    .dataframe tbody tr th:only-of-type {\n",
       "        vertical-align: middle;\n",
       "    }\n",
       "\n",
       "    .dataframe tbody tr th {\n",
       "        vertical-align: top;\n",
       "    }\n",
       "\n",
       "    .dataframe thead th {\n",
       "        text-align: right;\n",
       "    }\n",
       "</style>\n",
       "<table border=\"1\" class=\"dataframe\">\n",
       "  <thead>\n",
       "    <tr style=\"text-align: right;\">\n",
       "      <th></th>\n",
       "      <th>user_id</th>\n",
       "      <th>name</th>\n",
       "      <th>age</th>\n",
       "      <th>city</th>\n",
       "      <th>subscription_type</th>\n",
       "    </tr>\n",
       "  </thead>\n",
       "  <tbody>\n",
       "    <tr>\n",
       "      <th>0</th>\n",
       "      <td>1</td>\n",
       "      <td>Кира</td>\n",
       "      <td>22</td>\n",
       "      <td>Тюмень</td>\n",
       "      <td>ultra</td>\n",
       "    </tr>\n",
       "    <tr>\n",
       "      <th>1</th>\n",
       "      <td>2</td>\n",
       "      <td>Станислав</td>\n",
       "      <td>31</td>\n",
       "      <td>Омск</td>\n",
       "      <td>ultra</td>\n",
       "    </tr>\n",
       "    <tr>\n",
       "      <th>2</th>\n",
       "      <td>3</td>\n",
       "      <td>Алексей</td>\n",
       "      <td>20</td>\n",
       "      <td>Москва</td>\n",
       "      <td>ultra</td>\n",
       "    </tr>\n",
       "    <tr>\n",
       "      <th>3</th>\n",
       "      <td>4</td>\n",
       "      <td>Константин</td>\n",
       "      <td>26</td>\n",
       "      <td>Ростов-на-Дону</td>\n",
       "      <td>ultra</td>\n",
       "    </tr>\n",
       "    <tr>\n",
       "      <th>4</th>\n",
       "      <td>5</td>\n",
       "      <td>Адель</td>\n",
       "      <td>28</td>\n",
       "      <td>Омск</td>\n",
       "      <td>ultra</td>\n",
       "    </tr>\n",
       "  </tbody>\n",
       "</table>\n",
       "</div>"
      ],
      "text/plain": [
       "   user_id        name  age            city subscription_type\n",
       "0        1        Кира   22          Тюмень             ultra\n",
       "1        2   Станислав   31            Омск             ultra\n",
       "2        3     Алексей   20          Москва             ultra\n",
       "3        4  Константин   26  Ростов-на-Дону             ultra\n",
       "4        5       Адель   28            Омск             ultra"
      ]
     },
     "metadata": {},
     "output_type": "display_data"
    },
    {
     "name": "stdout",
     "output_type": "stream",
     "text": [
      "<class 'pandas.core.frame.DataFrame'>\n",
      "RangeIndex: 1565 entries, 0 to 1564\n",
      "Data columns (total 5 columns):\n",
      " #   Column             Non-Null Count  Dtype \n",
      "---  ------             --------------  ----- \n",
      " 0   user_id            1565 non-null   int64 \n",
      " 1   name               1565 non-null   object\n",
      " 2   age                1565 non-null   int64 \n",
      " 3   city               1565 non-null   object\n",
      " 4   subscription_type  1565 non-null   object\n",
      "dtypes: int64(2), object(3)\n",
      "memory usage: 61.3+ KB\n"
     ]
    }
   ],
   "source": [
    "#загрузим данные о пользователях\n",
    "users = pd.read_csv('/datasets/users_go.csv')\n",
    "#изучим полученные данные\n",
    "display(users.head())\n",
    "users.info()"
   ]
  },
  {
   "cell_type": "markdown",
   "id": "3f5a40f1",
   "metadata": {},
   "source": [
    "Пропусков в данных нет, типы данных в норме"
   ]
  },
  {
   "cell_type": "code",
   "execution_count": 3,
   "id": "f8c6b5eb",
   "metadata": {},
   "outputs": [
    {
     "data": {
      "text/html": [
       "<div>\n",
       "<style scoped>\n",
       "    .dataframe tbody tr th:only-of-type {\n",
       "        vertical-align: middle;\n",
       "    }\n",
       "\n",
       "    .dataframe tbody tr th {\n",
       "        vertical-align: top;\n",
       "    }\n",
       "\n",
       "    .dataframe thead th {\n",
       "        text-align: right;\n",
       "    }\n",
       "</style>\n",
       "<table border=\"1\" class=\"dataframe\">\n",
       "  <thead>\n",
       "    <tr style=\"text-align: right;\">\n",
       "      <th></th>\n",
       "      <th>user_id</th>\n",
       "      <th>distance</th>\n",
       "      <th>duration</th>\n",
       "      <th>date</th>\n",
       "    </tr>\n",
       "  </thead>\n",
       "  <tbody>\n",
       "    <tr>\n",
       "      <th>0</th>\n",
       "      <td>1</td>\n",
       "      <td>4409.919140</td>\n",
       "      <td>25.599769</td>\n",
       "      <td>2021-01-01</td>\n",
       "    </tr>\n",
       "    <tr>\n",
       "      <th>1</th>\n",
       "      <td>1</td>\n",
       "      <td>2617.592153</td>\n",
       "      <td>15.816871</td>\n",
       "      <td>2021-01-18</td>\n",
       "    </tr>\n",
       "    <tr>\n",
       "      <th>2</th>\n",
       "      <td>1</td>\n",
       "      <td>754.159807</td>\n",
       "      <td>6.232113</td>\n",
       "      <td>2021-04-20</td>\n",
       "    </tr>\n",
       "    <tr>\n",
       "      <th>3</th>\n",
       "      <td>1</td>\n",
       "      <td>2694.783254</td>\n",
       "      <td>18.511000</td>\n",
       "      <td>2021-08-11</td>\n",
       "    </tr>\n",
       "    <tr>\n",
       "      <th>4</th>\n",
       "      <td>1</td>\n",
       "      <td>4028.687306</td>\n",
       "      <td>26.265803</td>\n",
       "      <td>2021-08-28</td>\n",
       "    </tr>\n",
       "  </tbody>\n",
       "</table>\n",
       "</div>"
      ],
      "text/plain": [
       "   user_id     distance   duration        date\n",
       "0        1  4409.919140  25.599769  2021-01-01\n",
       "1        1  2617.592153  15.816871  2021-01-18\n",
       "2        1   754.159807   6.232113  2021-04-20\n",
       "3        1  2694.783254  18.511000  2021-08-11\n",
       "4        1  4028.687306  26.265803  2021-08-28"
      ]
     },
     "metadata": {},
     "output_type": "display_data"
    },
    {
     "name": "stdout",
     "output_type": "stream",
     "text": [
      "<class 'pandas.core.frame.DataFrame'>\n",
      "RangeIndex: 18068 entries, 0 to 18067\n",
      "Data columns (total 4 columns):\n",
      " #   Column    Non-Null Count  Dtype  \n",
      "---  ------    --------------  -----  \n",
      " 0   user_id   18068 non-null  int64  \n",
      " 1   distance  18068 non-null  float64\n",
      " 2   duration  18068 non-null  float64\n",
      " 3   date      18068 non-null  object \n",
      "dtypes: float64(2), int64(1), object(1)\n",
      "memory usage: 564.8+ KB\n"
     ]
    }
   ],
   "source": [
    "#загрузим данные о поездках\n",
    "rides = pd.read_csv('/datasets/rides_go.csv')\n",
    "#изучим полученные данные\n",
    "display(rides.head())\n",
    "rides.info()"
   ]
  },
  {
   "cell_type": "markdown",
   "id": "b66748ac",
   "metadata": {},
   "source": [
    "Пропусков в данных нет, типы данных нужно преобразовать следующим образом:\n",
    "1. distance - привести к целому типу, поскольку они измеряются в метрах и большая точность нам неинтересна\n",
    "2. date - привести к формату даты pandas"
   ]
  },
  {
   "cell_type": "code",
   "execution_count": 4,
   "id": "e766586d",
   "metadata": {},
   "outputs": [
    {
     "data": {
      "text/html": [
       "<div>\n",
       "<style scoped>\n",
       "    .dataframe tbody tr th:only-of-type {\n",
       "        vertical-align: middle;\n",
       "    }\n",
       "\n",
       "    .dataframe tbody tr th {\n",
       "        vertical-align: top;\n",
       "    }\n",
       "\n",
       "    .dataframe thead th {\n",
       "        text-align: right;\n",
       "    }\n",
       "</style>\n",
       "<table border=\"1\" class=\"dataframe\">\n",
       "  <thead>\n",
       "    <tr style=\"text-align: right;\">\n",
       "      <th></th>\n",
       "      <th>subscription_type</th>\n",
       "      <th>minute_price</th>\n",
       "      <th>start_ride_price</th>\n",
       "      <th>subscription_fee</th>\n",
       "    </tr>\n",
       "  </thead>\n",
       "  <tbody>\n",
       "    <tr>\n",
       "      <th>0</th>\n",
       "      <td>free</td>\n",
       "      <td>8</td>\n",
       "      <td>50</td>\n",
       "      <td>0</td>\n",
       "    </tr>\n",
       "    <tr>\n",
       "      <th>1</th>\n",
       "      <td>ultra</td>\n",
       "      <td>6</td>\n",
       "      <td>0</td>\n",
       "      <td>199</td>\n",
       "    </tr>\n",
       "  </tbody>\n",
       "</table>\n",
       "</div>"
      ],
      "text/plain": [
       "  subscription_type  minute_price  start_ride_price  subscription_fee\n",
       "0              free             8                50                 0\n",
       "1             ultra             6                 0               199"
      ]
     },
     "metadata": {},
     "output_type": "display_data"
    },
    {
     "name": "stdout",
     "output_type": "stream",
     "text": [
      "<class 'pandas.core.frame.DataFrame'>\n",
      "RangeIndex: 2 entries, 0 to 1\n",
      "Data columns (total 4 columns):\n",
      " #   Column             Non-Null Count  Dtype \n",
      "---  ------             --------------  ----- \n",
      " 0   subscription_type  2 non-null      object\n",
      " 1   minute_price       2 non-null      int64 \n",
      " 2   start_ride_price   2 non-null      int64 \n",
      " 3   subscription_fee   2 non-null      int64 \n",
      "dtypes: int64(3), object(1)\n",
      "memory usage: 192.0+ bytes\n"
     ]
    }
   ],
   "source": [
    "#загрузим данные о подписках\n",
    "subscriptions = pd.read_csv('/datasets/subscriptions_go.csv')\n",
    "#изучим полученные данные\n",
    "display(subscriptions)\n",
    "subscriptions.info()"
   ]
  },
  {
   "cell_type": "markdown",
   "id": "f2d0eb7e",
   "metadata": {},
   "source": [
    "Справочник подписок в порядке"
   ]
  },
  {
   "cell_type": "markdown",
   "id": "e42f8306",
   "metadata": {},
   "source": [
    "#### Шаг 2. Предобработка данных"
   ]
  },
  {
   "cell_type": "code",
   "execution_count": 5,
   "id": "c3659070",
   "metadata": {},
   "outputs": [],
   "source": [
    "#приведем выбранные данные датафрейма rides к целому типу\n",
    "rides['distance'] = rides['distance'].astype('int32')"
   ]
  },
  {
   "cell_type": "code",
   "execution_count": 6,
   "id": "efc5d823",
   "metadata": {},
   "outputs": [],
   "source": [
    "#Приведем столбец date датафрейма rides к типу даты pandas.\n",
    "rides['date'] = pd.to_datetime(rides['date'], format='%Y-%m-%d')"
   ]
  },
  {
   "cell_type": "code",
   "execution_count": 7,
   "id": "c7383415",
   "metadata": {},
   "outputs": [
    {
     "name": "stdout",
     "output_type": "stream",
     "text": [
      "<class 'pandas.core.frame.DataFrame'>\n",
      "RangeIndex: 18068 entries, 0 to 18067\n",
      "Data columns (total 4 columns):\n",
      " #   Column    Non-Null Count  Dtype         \n",
      "---  ------    --------------  -----         \n",
      " 0   user_id   18068 non-null  int64         \n",
      " 1   distance  18068 non-null  int32         \n",
      " 2   duration  18068 non-null  float64       \n",
      " 3   date      18068 non-null  datetime64[ns]\n",
      "dtypes: datetime64[ns](1), float64(1), int32(1), int64(1)\n",
      "memory usage: 494.2 KB\n"
     ]
    }
   ],
   "source": [
    "#проверим результат\n",
    "rides.info()"
   ]
  },
  {
   "cell_type": "code",
   "execution_count": 8,
   "id": "d1af29c9",
   "metadata": {},
   "outputs": [
    {
     "data": {
      "text/plain": [
       "array([2021])"
      ]
     },
     "execution_count": 8,
     "metadata": {},
     "output_type": "execute_result"
    }
   ],
   "source": [
    "#перед назначением номера месяца проверим, что у нас имеются данные только за один год \n",
    "period_check = pd.DataFrame(rides['date'])\n",
    "period_check['year'] = pd.DatetimeIndex(period_check['date']).year\n",
    "period_check['year'].unique()"
   ]
  },
  {
   "cell_type": "code",
   "execution_count": 9,
   "id": "b35728e2",
   "metadata": {},
   "outputs": [],
   "source": [
    "#Создадим новый столбец с номером месяца для даты\n",
    "rides['month'] = pd.DatetimeIndex(rides['date']).month"
   ]
  },
  {
   "cell_type": "code",
   "execution_count": 10,
   "id": "3c1ecbfd",
   "metadata": {},
   "outputs": [
    {
     "name": "stdout",
     "output_type": "stream",
     "text": [
      "Дубликатов в таблице users: 31\n",
      "Дубликатов в таблице rides: 0\n"
     ]
    }
   ],
   "source": [
    "#проверим наличие дубликатов в данных\n",
    "print('Дубликатов в таблице users:', users.duplicated().sum())\n",
    "print('Дубликатов в таблице rides:', rides.duplicated().sum())"
   ]
  },
  {
   "cell_type": "code",
   "execution_count": 11,
   "id": "7e4fd87b",
   "metadata": {
    "scrolled": true
   },
   "outputs": [
    {
     "name": "stdout",
     "output_type": "stream",
     "text": [
      "Дубликатов в таблице users: 0\n"
     ]
    }
   ],
   "source": [
    "#устраним дубликаты в таблице users и проверим результат\n",
    "users = users.drop_duplicates()\n",
    "print('Дубликатов в таблице users:', users.duplicated().sum())"
   ]
  },
  {
   "cell_type": "markdown",
   "id": "007537fd",
   "metadata": {},
   "source": [
    "В таблице есть потенциальные неявные дубликаты в именах Наталья/Наталия/Наташа, но поскольку каждый пользователь снабжен уникальным идентификатором, и у нас нет других достоверных данных, чтобы утверждать о наличии дубликата - оставим эти записи без изменения."
   ]
  },
  {
   "cell_type": "code",
   "execution_count": 12,
   "id": "f7e52625",
   "metadata": {},
   "outputs": [
    {
     "name": "stdout",
     "output_type": "stream",
     "text": [
      "Пропусков в таблице users:\n",
      "user_id              0\n",
      "name                 0\n",
      "age                  0\n",
      "city                 0\n",
      "subscription_type    0\n",
      "dtype: int64\n",
      "\n",
      "Пропусков в таблице rides:\n",
      "user_id     0\n",
      "distance    0\n",
      "duration    0\n",
      "date        0\n",
      "month       0\n",
      "dtype: int64\n"
     ]
    }
   ],
   "source": [
    "#проверим наличие пропусков\n",
    "print('Пропусков в таблице users:')\n",
    "print(users.isna().sum())\n",
    "print()\n",
    "print('Пропусков в таблице rides:')\n",
    "print(rides.isna().sum())"
   ]
  },
  {
   "cell_type": "markdown",
   "id": "3b9ae15e",
   "metadata": {},
   "source": [
    "**Вывод по этапу предобработки данных**\n",
    "\n",
    "Имеющиеся в наличии данные в хорошем состоянии, пропусков значений не обнаружено, явные дубликаты зафиксированы только в таблице users. Проведены следующие работы:\n",
    "1. поле distance таблицы rides приведено к целому типу, поскольку они измеряются в метрах и большая точность нам неинтересна\n",
    "2. поле date таблицы rides приведено к формату даты pandas\n",
    "3. в таблицу rides добавлен столбец с информацией о месяце поездки, для целей дальнейшего анализа\n",
    "4. устранены явные дубликаты в таблице users в количестве 31 штуки"
   ]
  },
  {
   "cell_type": "markdown",
   "id": "4a942fd4",
   "metadata": {},
   "source": [
    "#### Шаг 3. Исследовательский анализ данных"
   ]
  },
  {
   "cell_type": "markdown",
   "id": "11493eec",
   "metadata": {},
   "source": [
    "**Частота встречаемости городов**"
   ]
  },
  {
   "cell_type": "code",
   "execution_count": 13,
   "id": "8b3bc6c2",
   "metadata": {},
   "outputs": [
    {
     "data": {
      "image/png": "[encoded data removed]",
      "text/plain": [
       "<Figure size 432x288 with 1 Axes>"
      ]
     },
     "metadata": {
      "needs_background": "light"
     },
     "output_type": "display_data"
    }
   ],
   "source": [
    "#построим гистограмму по количеству пользователей в городах\n",
    "users['city'].value_counts().plot(kind='bar')\n",
    "plt.title('Пользователи по городам')\n",
    "plt.xlabel('Города')\n",
    "plt.ylabel('Кол-во пользователей')\n",
    "plt.show()"
   ]
  },
  {
   "cell_type": "code",
   "execution_count": 14,
   "id": "88ec5df7",
   "metadata": {},
   "outputs": [
    {
     "data": {
      "text/plain": [
       "Пятигорск         219\n",
       "Екатеринбург      204\n",
       "Ростов-на-Дону    198\n",
       "Краснодар         193\n",
       "Сочи              189\n",
       "Омск              183\n",
       "Тюмень            180\n",
       "Москва            168\n",
       "Name: city, dtype: int64"
      ]
     },
     "execution_count": 14,
     "metadata": {},
     "output_type": "execute_result"
    }
   ],
   "source": [
    "#также проведем количественный анализ\n",
    "users['city'].value_counts().sort_values(ascending=False)"
   ]
  },
  {
   "cell_type": "markdown",
   "id": "be08267b",
   "metadata": {},
   "source": [
    "**Вывод**\n",
    "\n",
    "Количество клиентов по городам распределено достаточно равномерно. \n",
    "\n",
    "При этом можно сказать, что в Пятигорске GoFast удалось получить большую долю рынка, чем в Москве."
   ]
  },
  {
   "cell_type": "markdown",
   "id": "1b951559",
   "metadata": {},
   "source": [
    "**Соотношение пользователей с подпиской и без подписки**"
   ]
  },
  {
   "cell_type": "code",
   "execution_count": 15,
   "id": "65daf020",
   "metadata": {
    "scrolled": true
   },
   "outputs": [
    {
     "data": {
      "image/png": "[encoded data removed]",
      "text/plain": [
       "<Figure size 432x288 with 1 Axes>"
      ]
     },
     "metadata": {},
     "output_type": "display_data"
    }
   ],
   "source": [
    "#построим график в виде круговой диаграммы\n",
    "plt.pie(users['subscription_type'].value_counts(), labels=['Без подписки', 'Подписка Ultra'], autopct='%.2f')\n",
    "plt.title('Процент клиентов по типам подписки')\n",
    "plt.show()"
   ]
  },
  {
   "cell_type": "code",
   "execution_count": 16,
   "id": "3ba629c0",
   "metadata": {},
   "outputs": [
    {
     "name": "stdout",
     "output_type": "stream",
     "text": [
      "Доля пользователей с подпиской - 46%\n",
      "Доля разовых клиентов - 54%\n"
     ]
    }
   ],
   "source": [
    "print('Доля пользователей с подпиской - {:.0%}'.format(len(users.query('subscription_type == \"ultra\"')) / len(users)))\n",
    "print('Доля разовых клиентов - {:.0%}'.format(len(users.query('subscription_type == \"free\"')) / len(users)))"
   ]
  },
  {
   "cell_type": "markdown",
   "id": "5f6d6617",
   "metadata": {},
   "source": [
    "Пользователей с бесплатным тарифом ожидаемо больше, но тем не менее почти половина пользователей приобрели подписку. Это говорит о том, что тарифный план подписки Ultra оценивается пользователями как выгодный."
   ]
  },
  {
   "cell_type": "markdown",
   "id": "1bef0391",
   "metadata": {},
   "source": [
    "**Возраст пользователей**"
   ]
  },
  {
   "cell_type": "code",
   "execution_count": 17,
   "id": "d50c6e7f",
   "metadata": {},
   "outputs": [
    {
     "data": {
      "image/png": "[encoded data removed]",
      "text/plain": [
       "<Figure size 432x288 with 1 Axes>"
      ]
     },
     "metadata": {
      "needs_background": "light"
     },
     "output_type": "display_data"
    }
   ],
   "source": [
    "users['age'].hist(bins=15)\n",
    "plt.title('Возраст пользователей')\n",
    "plt.xlabel('Возраст пользователей')\n",
    "plt.ylabel('Количество пользователей')\n",
    "plt.show()"
   ]
  },
  {
   "cell_type": "code",
   "execution_count": 18,
   "id": "e89bf8e3",
   "metadata": {},
   "outputs": [
    {
     "data": {
      "text/plain": [
       "count    1534.000000\n",
       "mean       24.903520\n",
       "std         4.572367\n",
       "min        12.000000\n",
       "25%        22.000000\n",
       "50%        25.000000\n",
       "75%        28.000000\n",
       "max        43.000000\n",
       "Name: age, dtype: float64"
      ]
     },
     "execution_count": 18,
     "metadata": {},
     "output_type": "execute_result"
    }
   ],
   "source": [
    "users['age'].describe()"
   ]
  },
  {
   "cell_type": "markdown",
   "id": "feee2d28",
   "metadata": {},
   "source": [
    "Пользователи по возрасту распределены нормально, большая часть пользователей в возрасте около 25 лет. Выбросы за пределами полуторных межквартальных отклонений отсутствуют.\n",
    "\n",
    "Это говорит о том, что данные о возрасте пользователей можно считать достоверными."
   ]
  },
  {
   "cell_type": "markdown",
   "id": "1dc00437",
   "metadata": {},
   "source": [
    "**Расстояние, которое пользователь преодолел за одну поездку**"
   ]
  },
  {
   "cell_type": "code",
   "execution_count": 19,
   "id": "b9d9cbac",
   "metadata": {},
   "outputs": [
    {
     "data": {
      "image/png": "[encoded data removed]",
      "text/plain": [
       "<Figure size 432x288 with 1 Axes>"
      ]
     },
     "metadata": {
      "needs_background": "light"
     },
     "output_type": "display_data"
    }
   ],
   "source": [
    "rides['distance'].hist(bins=30)\n",
    "plt.title('Пробег за поездку')\n",
    "plt.xlabel('Пробег за поездку (м)')\n",
    "plt.ylabel('Кол-во поездок')\n",
    "plt.show()"
   ]
  },
  {
   "cell_type": "markdown",
   "id": "66388f19",
   "metadata": {},
   "source": [
    "Информация о типовом пробеге за одну поездку также показывает близкое к нормальному распределение в двух группах поездок:\n",
    "- до 1500 метров\n",
    "- свыше 1500 метров\n",
    "\n",
    "Наблюдается всплеск в диапазоне от 3100 до 3200 метров, причина которого на данный момент непонятна.\n",
    "\n",
    "Также мы видим набор данных о поездках с крайне низкой длительностью - проанализируем их подробнее."
   ]
  },
  {
   "cell_type": "code",
   "execution_count": 20,
   "id": "83c41ad2",
   "metadata": {},
   "outputs": [
    {
     "data": {
      "text/html": [
       "<div>\n",
       "<style scoped>\n",
       "    .dataframe tbody tr th:only-of-type {\n",
       "        vertical-align: middle;\n",
       "    }\n",
       "\n",
       "    .dataframe tbody tr th {\n",
       "        vertical-align: top;\n",
       "    }\n",
       "\n",
       "    .dataframe thead th {\n",
       "        text-align: right;\n",
       "    }\n",
       "</style>\n",
       "<table border=\"1\" class=\"dataframe\">\n",
       "  <thead>\n",
       "    <tr style=\"text-align: right;\">\n",
       "      <th></th>\n",
       "      <th>user_id</th>\n",
       "      <th>distance</th>\n",
       "      <th>duration</th>\n",
       "      <th>date</th>\n",
       "      <th>month</th>\n",
       "    </tr>\n",
       "  </thead>\n",
       "  <tbody>\n",
       "    <tr>\n",
       "      <th>7841</th>\n",
       "      <td>796</td>\n",
       "      <td>7</td>\n",
       "      <td>10.026614</td>\n",
       "      <td>2021-11-26</td>\n",
       "      <td>11</td>\n",
       "    </tr>\n",
       "    <tr>\n",
       "      <th>8324</th>\n",
       "      <td>835</td>\n",
       "      <td>12</td>\n",
       "      <td>4.034952</td>\n",
       "      <td>2021-09-19</td>\n",
       "      <td>9</td>\n",
       "    </tr>\n",
       "    <tr>\n",
       "      <th>8658</th>\n",
       "      <td>861</td>\n",
       "      <td>6</td>\n",
       "      <td>6.015656</td>\n",
       "      <td>2021-07-21</td>\n",
       "      <td>7</td>\n",
       "    </tr>\n",
       "    <tr>\n",
       "      <th>8906</th>\n",
       "      <td>880</td>\n",
       "      <td>11</td>\n",
       "      <td>2.035632</td>\n",
       "      <td>2021-03-28</td>\n",
       "      <td>3</td>\n",
       "    </tr>\n",
       "    <tr>\n",
       "      <th>9541</th>\n",
       "      <td>925</td>\n",
       "      <td>2</td>\n",
       "      <td>3.011018</td>\n",
       "      <td>2021-10-19</td>\n",
       "      <td>10</td>\n",
       "    </tr>\n",
       "    <tr>\n",
       "      <th>11555</th>\n",
       "      <td>1069</td>\n",
       "      <td>0</td>\n",
       "      <td>10.001902</td>\n",
       "      <td>2021-01-31</td>\n",
       "      <td>1</td>\n",
       "    </tr>\n",
       "    <tr>\n",
       "      <th>11862</th>\n",
       "      <td>1091</td>\n",
       "      <td>15</td>\n",
       "      <td>13.044660</td>\n",
       "      <td>2021-03-29</td>\n",
       "      <td>3</td>\n",
       "    </tr>\n",
       "    <tr>\n",
       "      <th>13690</th>\n",
       "      <td>1223</td>\n",
       "      <td>4</td>\n",
       "      <td>4.008958</td>\n",
       "      <td>2021-05-22</td>\n",
       "      <td>5</td>\n",
       "    </tr>\n",
       "    <tr>\n",
       "      <th>13940</th>\n",
       "      <td>1240</td>\n",
       "      <td>15</td>\n",
       "      <td>10.045002</td>\n",
       "      <td>2021-08-20</td>\n",
       "      <td>8</td>\n",
       "    </tr>\n",
       "    <tr>\n",
       "      <th>15626</th>\n",
       "      <td>1364</td>\n",
       "      <td>15</td>\n",
       "      <td>6.057623</td>\n",
       "      <td>2021-08-22</td>\n",
       "      <td>8</td>\n",
       "    </tr>\n",
       "  </tbody>\n",
       "</table>\n",
       "</div>"
      ],
      "text/plain": [
       "       user_id  distance   duration       date  month\n",
       "7841       796         7  10.026614 2021-11-26     11\n",
       "8324       835        12   4.034952 2021-09-19      9\n",
       "8658       861         6   6.015656 2021-07-21      7\n",
       "8906       880        11   2.035632 2021-03-28      3\n",
       "9541       925         2   3.011018 2021-10-19     10\n",
       "11555     1069         0  10.001902 2021-01-31      1\n",
       "11862     1091        15  13.044660 2021-03-29      3\n",
       "13690     1223         4   4.008958 2021-05-22      5\n",
       "13940     1240        15  10.045002 2021-08-20      8\n",
       "15626     1364        15   6.057623 2021-08-22      8"
      ]
     },
     "execution_count": 20,
     "metadata": {},
     "output_type": "execute_result"
    }
   ],
   "source": [
    "rides.query('distance < 20')"
   ]
  },
  {
   "cell_type": "markdown",
   "id": "8a4eb3d6",
   "metadata": {},
   "source": [
    "Данные выглядят в целом естесственно - пользователь мог передумать ехать, или ему не понравился самокат и он решил сменить его на первых минутах поездки.\n",
    "\n",
    "Оставим эти данные в наборе."
   ]
  },
  {
   "cell_type": "markdown",
   "id": "cc012ba3",
   "metadata": {},
   "source": [
    "**Изучим причины наличия двух групп поездок с разной средней длительностью.**\n",
    "\n",
    "Можно сделать следующие предположения:\n",
    "* разница потребительского поведения в выходные и рабочие дни\n",
    "* сезонность\n",
    "* месторасположениями пунктов раздачи самокатов в разных городах.\n",
    "* возраст пользователей"
   ]
  },
  {
   "cell_type": "markdown",
   "id": "0b5ea2ad",
   "metadata": {},
   "source": [
    "Проверим гипотезу о выходных днях"
   ]
  },
  {
   "cell_type": "code",
   "execution_count": 21,
   "id": "7027d73d",
   "metadata": {},
   "outputs": [],
   "source": [
    "rides_test = rides"
   ]
  },
  {
   "cell_type": "code",
   "execution_count": 22,
   "id": "28f89ada",
   "metadata": {},
   "outputs": [],
   "source": [
    "rides_test['weekday'] = pd.DatetimeIndex(rides_test['date']).weekday"
   ]
  },
  {
   "cell_type": "code",
   "execution_count": 23,
   "id": "52ed28c4",
   "metadata": {},
   "outputs": [],
   "source": [
    "def mark_weekend(row):\n",
    "    if row['weekday'] in range(0, 5):\n",
    "        return 'Рабочий день'\n",
    "    else:\n",
    "        return 'Выходной'\n",
    "\n",
    "rides_test['day_type'] = rides_test.apply(mark_weekend, axis=1)     "
   ]
  },
  {
   "cell_type": "code",
   "execution_count": 24,
   "id": "1e814752",
   "metadata": {},
   "outputs": [
    {
     "data": {
      "image/png": "[encoded data removed]",
      "text/plain": [
       "<Figure size 432x288 with 1 Axes>"
      ]
     },
     "metadata": {
      "needs_background": "light"
     },
     "output_type": "display_data"
    }
   ],
   "source": [
    "rides_test.groupby('day_type')['distance'].hist(bins=30, alpha=0.5, legend=True)\n",
    "plt.xlabel('Пробег за поездку')\n",
    "plt.ylabel('Кол-во поездок')\n",
    "plt.show()"
   ]
  },
  {
   "cell_type": "markdown",
   "id": "9c86a3b1",
   "metadata": {},
   "source": [
    "Распределение поездок в выходные и рабочие дни имеет одинаковые параметры распределения - значит причина не в этом.\n",
    "\n",
    "Проверим гипотезу о сезонности:"
   ]
  },
  {
   "cell_type": "code",
   "execution_count": 25,
   "id": "fea8f476",
   "metadata": {},
   "outputs": [],
   "source": [
    "def mark_season(row):\n",
    "    if row['month'] in [12, 1, 2]:\n",
    "        return 'Зима'\n",
    "    elif row['month'] in [3, 4, 5]:\n",
    "        return 'Весна'\n",
    "    elif row['month'] in [6, 7, 8]:\n",
    "        return 'Лето'\n",
    "    else:\n",
    "        return 'Осень'\n",
    "\n",
    "rides_test['season'] = rides_test.apply(mark_season, axis=1)"
   ]
  },
  {
   "cell_type": "code",
   "execution_count": 26,
   "id": "b1cb6e04",
   "metadata": {
    "scrolled": true
   },
   "outputs": [
    {
     "data": {
      "image/png": "[encoded data removed]",
      "text/plain": [
       "<Figure size 432x288 with 1 Axes>"
      ]
     },
     "metadata": {
      "needs_background": "light"
     },
     "output_type": "display_data"
    }
   ],
   "source": [
    "rides_test.groupby('season')['distance'].hist(bins=30, alpha=0.3, legend=\"True\")\n",
    "plt.xlabel('Пробег за поездку (м)')\n",
    "plt.ylabel('Кол-во поездок')\n",
    "plt.show()"
   ]
  },
  {
   "cell_type": "code",
   "execution_count": 27,
   "id": "812fd445",
   "metadata": {},
   "outputs": [
    {
     "data": {
      "image/png": "[encoded data removed]",
      "text/plain": [
       "<Figure size 432x288 with 1 Axes>"
      ]
     },
     "metadata": {
      "needs_background": "light"
     },
     "output_type": "display_data"
    }
   ],
   "source": [
    "rides_test.pivot_table(index='season', values='distance').plot(kind='bar')\n",
    "plt.xlabel('Время года')\n",
    "plt.ylabel('Средний пробег за поездку')\n",
    "plt.show()"
   ]
  },
  {
   "cell_type": "markdown",
   "id": "52b45ac5",
   "metadata": {},
   "source": [
    "Средний пробег по сезонам не различается, и распределения аналогично имеют два пика.\n",
    "\n",
    "Проверим города:"
   ]
  },
  {
   "cell_type": "code",
   "execution_count": 28,
   "id": "393056b0",
   "metadata": {},
   "outputs": [
    {
     "data": {
      "text/html": [
       "<div>\n",
       "<style scoped>\n",
       "    .dataframe tbody tr th:only-of-type {\n",
       "        vertical-align: middle;\n",
       "    }\n",
       "\n",
       "    .dataframe tbody tr th {\n",
       "        vertical-align: top;\n",
       "    }\n",
       "\n",
       "    .dataframe thead th {\n",
       "        text-align: right;\n",
       "    }\n",
       "</style>\n",
       "<table border=\"1\" class=\"dataframe\">\n",
       "  <thead>\n",
       "    <tr style=\"text-align: right;\">\n",
       "      <th></th>\n",
       "      <th>user_id</th>\n",
       "      <th>distance</th>\n",
       "      <th>duration</th>\n",
       "      <th>date</th>\n",
       "      <th>month</th>\n",
       "      <th>weekday</th>\n",
       "      <th>day_type</th>\n",
       "      <th>season</th>\n",
       "      <th>name</th>\n",
       "      <th>age</th>\n",
       "      <th>city</th>\n",
       "      <th>subscription_type</th>\n",
       "    </tr>\n",
       "  </thead>\n",
       "  <tbody>\n",
       "    <tr>\n",
       "      <th>0</th>\n",
       "      <td>1</td>\n",
       "      <td>4409</td>\n",
       "      <td>25.599769</td>\n",
       "      <td>2021-01-01</td>\n",
       "      <td>1</td>\n",
       "      <td>4</td>\n",
       "      <td>Рабочий день</td>\n",
       "      <td>Зима</td>\n",
       "      <td>Кира</td>\n",
       "      <td>22</td>\n",
       "      <td>Тюмень</td>\n",
       "      <td>ultra</td>\n",
       "    </tr>\n",
       "    <tr>\n",
       "      <th>1</th>\n",
       "      <td>1</td>\n",
       "      <td>2617</td>\n",
       "      <td>15.816871</td>\n",
       "      <td>2021-01-18</td>\n",
       "      <td>1</td>\n",
       "      <td>0</td>\n",
       "      <td>Рабочий день</td>\n",
       "      <td>Зима</td>\n",
       "      <td>Кира</td>\n",
       "      <td>22</td>\n",
       "      <td>Тюмень</td>\n",
       "      <td>ultra</td>\n",
       "    </tr>\n",
       "    <tr>\n",
       "      <th>2</th>\n",
       "      <td>1</td>\n",
       "      <td>754</td>\n",
       "      <td>6.232113</td>\n",
       "      <td>2021-04-20</td>\n",
       "      <td>4</td>\n",
       "      <td>1</td>\n",
       "      <td>Рабочий день</td>\n",
       "      <td>Весна</td>\n",
       "      <td>Кира</td>\n",
       "      <td>22</td>\n",
       "      <td>Тюмень</td>\n",
       "      <td>ultra</td>\n",
       "    </tr>\n",
       "    <tr>\n",
       "      <th>3</th>\n",
       "      <td>1</td>\n",
       "      <td>2694</td>\n",
       "      <td>18.511000</td>\n",
       "      <td>2021-08-11</td>\n",
       "      <td>8</td>\n",
       "      <td>2</td>\n",
       "      <td>Рабочий день</td>\n",
       "      <td>Лето</td>\n",
       "      <td>Кира</td>\n",
       "      <td>22</td>\n",
       "      <td>Тюмень</td>\n",
       "      <td>ultra</td>\n",
       "    </tr>\n",
       "    <tr>\n",
       "      <th>4</th>\n",
       "      <td>1</td>\n",
       "      <td>4028</td>\n",
       "      <td>26.265803</td>\n",
       "      <td>2021-08-28</td>\n",
       "      <td>8</td>\n",
       "      <td>5</td>\n",
       "      <td>Выходной</td>\n",
       "      <td>Лето</td>\n",
       "      <td>Кира</td>\n",
       "      <td>22</td>\n",
       "      <td>Тюмень</td>\n",
       "      <td>ultra</td>\n",
       "    </tr>\n",
       "  </tbody>\n",
       "</table>\n",
       "</div>"
      ],
      "text/plain": [
       "   user_id  distance   duration       date  month  weekday      day_type  \\\n",
       "0        1      4409  25.599769 2021-01-01      1        4  Рабочий день   \n",
       "1        1      2617  15.816871 2021-01-18      1        0  Рабочий день   \n",
       "2        1       754   6.232113 2021-04-20      4        1  Рабочий день   \n",
       "3        1      2694  18.511000 2021-08-11      8        2  Рабочий день   \n",
       "4        1      4028  26.265803 2021-08-28      8        5      Выходной   \n",
       "\n",
       "  season  name  age    city subscription_type  \n",
       "0   Зима  Кира   22  Тюмень             ultra  \n",
       "1   Зима  Кира   22  Тюмень             ultra  \n",
       "2  Весна  Кира   22  Тюмень             ultra  \n",
       "3   Лето  Кира   22  Тюмень             ultra  \n",
       "4   Лето  Кира   22  Тюмень             ultra  "
      ]
     },
     "execution_count": 28,
     "metadata": {},
     "output_type": "execute_result"
    }
   ],
   "source": [
    "#добавим в таблицу поездок характеристики пользователей\n",
    "rides_test = rides_test.merge(users, on='user_id')\n",
    "rides_test.head()"
   ]
  },
  {
   "cell_type": "code",
   "execution_count": 29,
   "id": "591aef2e",
   "metadata": {},
   "outputs": [
    {
     "data": {
      "image/png": "[encoded data removed]",
      "text/plain": [
       "<Figure size 432x288 with 1 Axes>"
      ]
     },
     "metadata": {
      "needs_background": "light"
     },
     "output_type": "display_data"
    },
    {
     "data": {
      "image/png": "[encoded data removed]",
      "text/plain": [
       "<Figure size 432x288 with 1 Axes>"
      ]
     },
     "metadata": {
      "needs_background": "light"
     },
     "output_type": "display_data"
    },
    {
     "data": {
      "image/png": "[encoded data removed]",
      "text/plain": [
       "<Figure size 432x288 with 1 Axes>"
      ]
     },
     "metadata": {
      "needs_background": "light"
     },
     "output_type": "display_data"
    },
    {
     "data": {
      "image/png": "[encoded data removed]",
      "text/plain": [
       "<Figure size 432x288 with 1 Axes>"
      ]
     },
     "metadata": {
      "needs_background": "light"
     },
     "output_type": "display_data"
    },
    {
     "data": {
      "image/png": "[encoded data removed]",
      "text/plain": [
       "<Figure size 432x288 with 1 Axes>"
      ]
     },
     "metadata": {
      "needs_background": "light"
     },
     "output_type": "display_data"
    },
    {
     "data": {
      "image/png": "[encoded data removed]",
      "text/plain": [
       "<Figure size 432x288 with 1 Axes>"
      ]
     },
     "metadata": {
      "needs_background": "light"
     },
     "output_type": "display_data"
    },
    {
     "data": {
      "image/png": "[encoded data removed]",
      "text/plain": [
       "<Figure size 432x288 with 1 Axes>"
      ]
     },
     "metadata": {
      "needs_background": "light"
     },
     "output_type": "display_data"
    },
    {
     "data": {
      "image/png": "[encoded data removed]",
      "text/plain": [
       "<Figure size 432x288 with 1 Axes>"
      ]
     },
     "metadata": {
      "needs_background": "light"
     },
     "output_type": "display_data"
    }
   ],
   "source": [
    "for city in users['city'].unique():\n",
    "    rides_test.query('city == @city')['distance'].hist(bins=30, alpha=0.5)\n",
    "    plt.xlabel('Протяженность поездки (м)')\n",
    "    plt.ylabel('Кол-во поездок')\n",
    "    plt.show()"
   ]
  },
  {
   "cell_type": "markdown",
   "id": "dfbc627a",
   "metadata": {},
   "source": [
    "Во всех городах картина одинаковая.\n",
    "\n",
    "Проверим возраст пользователей:"
   ]
  },
  {
   "cell_type": "code",
   "execution_count": 30,
   "id": "c1ddf527",
   "metadata": {},
   "outputs": [
    {
     "data": {
      "image/png": "[encoded data removed]",
      "text/plain": [
       "<Figure size 432x288 with 1 Axes>"
      ]
     },
     "metadata": {
      "needs_background": "light"
     },
     "output_type": "display_data"
    }
   ],
   "source": [
    "rides_test.pivot_table(index='age', values='distance').plot(kind='bar')\n",
    "plt.xlabel('Возраст')\n",
    "plt.ylabel('Средний пробег за поездку')\n",
    "plt.show()"
   ]
  },
  {
   "cell_type": "markdown",
   "id": "e6836199",
   "metadata": {},
   "source": [
    "Анализ среднего пробега по возрасту клиентов также показывает отсутствие корреляции с короткими поездками."
   ]
  },
  {
   "cell_type": "markdown",
   "id": "f142f0e9",
   "metadata": {},
   "source": [
    "Таким образом, мы отвергли все гипотезы, которые можно было поставить по имеющимся данным.\n",
    "\n",
    "Это позволяет сделать вывод, что наличие этих распределений не вызвано какими-то объективными причинами.\n",
    "\n",
    "Соответственно, для выяснения этих причин следует проконсультироваться по процессу оказания услуги и техническим параметрам оорудования."
   ]
  },
  {
   "cell_type": "markdown",
   "id": "ac167819",
   "metadata": {},
   "source": [
    "**Продолжительность поездок**"
   ]
  },
  {
   "cell_type": "code",
   "execution_count": 31,
   "id": "6b96c887",
   "metadata": {},
   "outputs": [
    {
     "data": {
      "image/png": "[encoded data removed]",
      "text/plain": [
       "<Figure size 432x288 with 1 Axes>"
      ]
     },
     "metadata": {
      "needs_background": "light"
     },
     "output_type": "display_data"
    }
   ],
   "source": [
    "rides['duration'].hist(bins=20)\n",
    "plt.title('Продолжительность поездок')\n",
    "plt.xlabel('Минуты поездки')\n",
    "plt.ylabel('Кол-во поездок')\n",
    "plt.show()"
   ]
  },
  {
   "cell_type": "code",
   "execution_count": null,
   "id": "863021d1",
   "metadata": {},
   "outputs": [],
   "source": []
  },
  {
   "cell_type": "markdown",
   "id": "3d62ca2b",
   "metadata": {},
   "source": [
    "Продолжительность поездок распределена нормально, с типовым значением в районе 18 минут.\n",
    "\n",
    "Также мы можем наблюдать набор значений с близкой к нулю продолжительностью поездки.\n",
    "\n",
    "Изучим зависимость пройденного расстояния от длительности поездки:"
   ]
  },
  {
   "cell_type": "code",
   "execution_count": 32,
   "id": "829ba781",
   "metadata": {},
   "outputs": [
    {
     "data": {
      "image/png": "[encoded data removed]",
      "text/plain": [
       "<Figure size 432x288 with 1 Axes>"
      ]
     },
     "metadata": {
      "needs_background": "light"
     },
     "output_type": "display_data"
    }
   ],
   "source": [
    "rides.plot(x='distance', y='duration', kind='scatter')\n",
    "plt.title('Время поездки и пробег')\n",
    "plt.xlabel('Расстояние')\n",
    "plt.ylabel('Длительность')\n",
    "plt.show()"
   ]
  },
  {
   "cell_type": "markdown",
   "id": "264471e0",
   "metadata": {},
   "source": [
    "Диаграмма показывает наличие ожидаемой прямой зависимости длительности поездки от расстояния, а также диапазон типовых скоростей, с которыми движутся клиенты.\n",
    "\n",
    "Как мы можем видеть на этом графике, данные содержат набор записей с близкой к нулю длительностью и пробегом свыше 4 км за сессию. Судя по всему, такие данные вызваны какой-то технической ошибкой, поэтому исключим их из набора данных и направим информацию об этих сессиях уполномоченным сотрудникам."
   ]
  },
  {
   "cell_type": "code",
   "execution_count": 33,
   "id": "fe3bf559",
   "metadata": {},
   "outputs": [
    {
     "data": {
      "text/plain": [
       "0.5"
      ]
     },
     "execution_count": 33,
     "metadata": {},
     "output_type": "execute_result"
    }
   ],
   "source": [
    "#уточним значение длительности поездки для этих записей\n",
    "rides['duration'].min()"
   ]
  },
  {
   "cell_type": "code",
   "execution_count": 34,
   "id": "c79036bd",
   "metadata": {},
   "outputs": [
    {
     "data": {
      "text/plain": [
       "0.005257914545052026"
      ]
     },
     "execution_count": 34,
     "metadata": {},
     "output_type": "execute_result"
    }
   ],
   "source": [
    "#проверим количество этих записей на соответствие норме очистки\n",
    "len(rides.query('duration == 0.5')) / len(rides)"
   ]
  },
  {
   "cell_type": "markdown",
   "id": "795c0a24",
   "metadata": {},
   "source": [
    "<div class=\"alert alert-block alert-info\">\n",
    "<b>🔄Комментарий студента:</b> \n",
    "Если это и была акция, то она явно не удалась))\n",
    "</div>"
   ]
  },
  {
   "cell_type": "code",
   "execution_count": 35,
   "id": "96cbd4e5",
   "metadata": {},
   "outputs": [],
   "source": [
    "#уберем эти данные из набора\n",
    "rides = rides[rides['duration'] != 0.5]"
   ]
  },
  {
   "cell_type": "code",
   "execution_count": 36,
   "id": "47663d89",
   "metadata": {},
   "outputs": [
    {
     "data": {
      "image/png": "[encoded data removed]",
      "text/plain": [
       "<Figure size 432x288 with 1 Axes>"
      ]
     },
     "metadata": {
      "needs_background": "light"
     },
     "output_type": "display_data"
    }
   ],
   "source": [
    "#Проверим результат\n",
    "rides.plot(x='distance', y='duration', kind='scatter', alpha=0.1)\n",
    "plt.title('Время поездки и пробег')\n",
    "plt.xlabel('Расстояние')\n",
    "plt.ylabel('Длительность')\n",
    "plt.show()"
   ]
  },
  {
   "cell_type": "markdown",
   "id": "7dbb236b",
   "metadata": {},
   "source": [
    "На этой диаграмме мы также можем наблюдать разделение поездок на группы до и свыше 1500 метров. Можно сделать предположение, что это группы клиентов, которые пользуются самокатами для развлечения и как средство транспорта."
   ]
  },
  {
   "cell_type": "markdown",
   "id": "dd0df3b5",
   "metadata": {},
   "source": [
    "#### Шаг 4. Объединение данных"
   ]
  },
  {
   "cell_type": "markdown",
   "id": "44208802",
   "metadata": {},
   "source": [
    "Объединим данные о пользователях, поездках и подписках в один датафрейм:"
   ]
  },
  {
   "cell_type": "code",
   "execution_count": 37,
   "id": "6fb632c1",
   "metadata": {},
   "outputs": [
    {
     "data": {
      "text/html": [
       "<div>\n",
       "<style scoped>\n",
       "    .dataframe tbody tr th:only-of-type {\n",
       "        vertical-align: middle;\n",
       "    }\n",
       "\n",
       "    .dataframe tbody tr th {\n",
       "        vertical-align: top;\n",
       "    }\n",
       "\n",
       "    .dataframe thead th {\n",
       "        text-align: right;\n",
       "    }\n",
       "</style>\n",
       "<table border=\"1\" class=\"dataframe\">\n",
       "  <thead>\n",
       "    <tr style=\"text-align: right;\">\n",
       "      <th></th>\n",
       "      <th>user_id</th>\n",
       "      <th>name</th>\n",
       "      <th>age</th>\n",
       "      <th>city</th>\n",
       "      <th>subscription_type</th>\n",
       "      <th>distance</th>\n",
       "      <th>duration</th>\n",
       "      <th>date</th>\n",
       "      <th>month</th>\n",
       "      <th>weekday</th>\n",
       "      <th>day_type</th>\n",
       "      <th>season</th>\n",
       "    </tr>\n",
       "  </thead>\n",
       "  <tbody>\n",
       "    <tr>\n",
       "      <th>0</th>\n",
       "      <td>1</td>\n",
       "      <td>Кира</td>\n",
       "      <td>22</td>\n",
       "      <td>Тюмень</td>\n",
       "      <td>ultra</td>\n",
       "      <td>4409</td>\n",
       "      <td>25.599769</td>\n",
       "      <td>2021-01-01</td>\n",
       "      <td>1</td>\n",
       "      <td>4</td>\n",
       "      <td>Рабочий день</td>\n",
       "      <td>Зима</td>\n",
       "    </tr>\n",
       "    <tr>\n",
       "      <th>1</th>\n",
       "      <td>1</td>\n",
       "      <td>Кира</td>\n",
       "      <td>22</td>\n",
       "      <td>Тюмень</td>\n",
       "      <td>ultra</td>\n",
       "      <td>2617</td>\n",
       "      <td>15.816871</td>\n",
       "      <td>2021-01-18</td>\n",
       "      <td>1</td>\n",
       "      <td>0</td>\n",
       "      <td>Рабочий день</td>\n",
       "      <td>Зима</td>\n",
       "    </tr>\n",
       "    <tr>\n",
       "      <th>2</th>\n",
       "      <td>1</td>\n",
       "      <td>Кира</td>\n",
       "      <td>22</td>\n",
       "      <td>Тюмень</td>\n",
       "      <td>ultra</td>\n",
       "      <td>754</td>\n",
       "      <td>6.232113</td>\n",
       "      <td>2021-04-20</td>\n",
       "      <td>4</td>\n",
       "      <td>1</td>\n",
       "      <td>Рабочий день</td>\n",
       "      <td>Весна</td>\n",
       "    </tr>\n",
       "    <tr>\n",
       "      <th>3</th>\n",
       "      <td>1</td>\n",
       "      <td>Кира</td>\n",
       "      <td>22</td>\n",
       "      <td>Тюмень</td>\n",
       "      <td>ultra</td>\n",
       "      <td>2694</td>\n",
       "      <td>18.511000</td>\n",
       "      <td>2021-08-11</td>\n",
       "      <td>8</td>\n",
       "      <td>2</td>\n",
       "      <td>Рабочий день</td>\n",
       "      <td>Лето</td>\n",
       "    </tr>\n",
       "    <tr>\n",
       "      <th>4</th>\n",
       "      <td>1</td>\n",
       "      <td>Кира</td>\n",
       "      <td>22</td>\n",
       "      <td>Тюмень</td>\n",
       "      <td>ultra</td>\n",
       "      <td>4028</td>\n",
       "      <td>26.265803</td>\n",
       "      <td>2021-08-28</td>\n",
       "      <td>8</td>\n",
       "      <td>5</td>\n",
       "      <td>Выходной</td>\n",
       "      <td>Лето</td>\n",
       "    </tr>\n",
       "  </tbody>\n",
       "</table>\n",
       "</div>"
      ],
      "text/plain": [
       "   user_id  name  age    city subscription_type  distance   duration  \\\n",
       "0        1  Кира   22  Тюмень             ultra      4409  25.599769   \n",
       "1        1  Кира   22  Тюмень             ultra      2617  15.816871   \n",
       "2        1  Кира   22  Тюмень             ultra       754   6.232113   \n",
       "3        1  Кира   22  Тюмень             ultra      2694  18.511000   \n",
       "4        1  Кира   22  Тюмень             ultra      4028  26.265803   \n",
       "\n",
       "        date  month  weekday      day_type season  \n",
       "0 2021-01-01      1        4  Рабочий день   Зима  \n",
       "1 2021-01-18      1        0  Рабочий день   Зима  \n",
       "2 2021-04-20      4        1  Рабочий день  Весна  \n",
       "3 2021-08-11      8        2  Рабочий день   Лето  \n",
       "4 2021-08-28      8        5      Выходной   Лето  "
      ]
     },
     "execution_count": 37,
     "metadata": {},
     "output_type": "execute_result"
    }
   ],
   "source": [
    "data = users.merge(rides, on='user_id')\n",
    "data.head()"
   ]
  },
  {
   "cell_type": "code",
   "execution_count": 38,
   "id": "7e83138f",
   "metadata": {},
   "outputs": [
    {
     "data": {
      "text/html": [
       "<div>\n",
       "<style scoped>\n",
       "    .dataframe tbody tr th:only-of-type {\n",
       "        vertical-align: middle;\n",
       "    }\n",
       "\n",
       "    .dataframe tbody tr th {\n",
       "        vertical-align: top;\n",
       "    }\n",
       "\n",
       "    .dataframe thead th {\n",
       "        text-align: right;\n",
       "    }\n",
       "</style>\n",
       "<table border=\"1\" class=\"dataframe\">\n",
       "  <thead>\n",
       "    <tr style=\"text-align: right;\">\n",
       "      <th></th>\n",
       "      <th>user_id</th>\n",
       "      <th>name</th>\n",
       "      <th>age</th>\n",
       "      <th>city</th>\n",
       "      <th>subscription_type</th>\n",
       "      <th>distance</th>\n",
       "      <th>duration</th>\n",
       "      <th>date</th>\n",
       "      <th>month</th>\n",
       "      <th>weekday</th>\n",
       "      <th>day_type</th>\n",
       "      <th>season</th>\n",
       "      <th>minute_price</th>\n",
       "      <th>start_ride_price</th>\n",
       "      <th>subscription_fee</th>\n",
       "    </tr>\n",
       "  </thead>\n",
       "  <tbody>\n",
       "    <tr>\n",
       "      <th>0</th>\n",
       "      <td>1</td>\n",
       "      <td>Кира</td>\n",
       "      <td>22</td>\n",
       "      <td>Тюмень</td>\n",
       "      <td>ultra</td>\n",
       "      <td>4409</td>\n",
       "      <td>25.599769</td>\n",
       "      <td>2021-01-01</td>\n",
       "      <td>1</td>\n",
       "      <td>4</td>\n",
       "      <td>Рабочий день</td>\n",
       "      <td>Зима</td>\n",
       "      <td>6</td>\n",
       "      <td>0</td>\n",
       "      <td>199</td>\n",
       "    </tr>\n",
       "    <tr>\n",
       "      <th>1</th>\n",
       "      <td>1</td>\n",
       "      <td>Кира</td>\n",
       "      <td>22</td>\n",
       "      <td>Тюмень</td>\n",
       "      <td>ultra</td>\n",
       "      <td>2617</td>\n",
       "      <td>15.816871</td>\n",
       "      <td>2021-01-18</td>\n",
       "      <td>1</td>\n",
       "      <td>0</td>\n",
       "      <td>Рабочий день</td>\n",
       "      <td>Зима</td>\n",
       "      <td>6</td>\n",
       "      <td>0</td>\n",
       "      <td>199</td>\n",
       "    </tr>\n",
       "    <tr>\n",
       "      <th>2</th>\n",
       "      <td>1</td>\n",
       "      <td>Кира</td>\n",
       "      <td>22</td>\n",
       "      <td>Тюмень</td>\n",
       "      <td>ultra</td>\n",
       "      <td>754</td>\n",
       "      <td>6.232113</td>\n",
       "      <td>2021-04-20</td>\n",
       "      <td>4</td>\n",
       "      <td>1</td>\n",
       "      <td>Рабочий день</td>\n",
       "      <td>Весна</td>\n",
       "      <td>6</td>\n",
       "      <td>0</td>\n",
       "      <td>199</td>\n",
       "    </tr>\n",
       "    <tr>\n",
       "      <th>3</th>\n",
       "      <td>1</td>\n",
       "      <td>Кира</td>\n",
       "      <td>22</td>\n",
       "      <td>Тюмень</td>\n",
       "      <td>ultra</td>\n",
       "      <td>2694</td>\n",
       "      <td>18.511000</td>\n",
       "      <td>2021-08-11</td>\n",
       "      <td>8</td>\n",
       "      <td>2</td>\n",
       "      <td>Рабочий день</td>\n",
       "      <td>Лето</td>\n",
       "      <td>6</td>\n",
       "      <td>0</td>\n",
       "      <td>199</td>\n",
       "    </tr>\n",
       "    <tr>\n",
       "      <th>4</th>\n",
       "      <td>1</td>\n",
       "      <td>Кира</td>\n",
       "      <td>22</td>\n",
       "      <td>Тюмень</td>\n",
       "      <td>ultra</td>\n",
       "      <td>4028</td>\n",
       "      <td>26.265803</td>\n",
       "      <td>2021-08-28</td>\n",
       "      <td>8</td>\n",
       "      <td>5</td>\n",
       "      <td>Выходной</td>\n",
       "      <td>Лето</td>\n",
       "      <td>6</td>\n",
       "      <td>0</td>\n",
       "      <td>199</td>\n",
       "    </tr>\n",
       "  </tbody>\n",
       "</table>\n",
       "</div>"
      ],
      "text/plain": [
       "   user_id  name  age    city subscription_type  distance   duration  \\\n",
       "0        1  Кира   22  Тюмень             ultra      4409  25.599769   \n",
       "1        1  Кира   22  Тюмень             ultra      2617  15.816871   \n",
       "2        1  Кира   22  Тюмень             ultra       754   6.232113   \n",
       "3        1  Кира   22  Тюмень             ultra      2694  18.511000   \n",
       "4        1  Кира   22  Тюмень             ultra      4028  26.265803   \n",
       "\n",
       "        date  month  weekday      day_type season  minute_price  \\\n",
       "0 2021-01-01      1        4  Рабочий день   Зима             6   \n",
       "1 2021-01-18      1        0  Рабочий день   Зима             6   \n",
       "2 2021-04-20      4        1  Рабочий день  Весна             6   \n",
       "3 2021-08-11      8        2  Рабочий день   Лето             6   \n",
       "4 2021-08-28      8        5      Выходной   Лето             6   \n",
       "\n",
       "   start_ride_price  subscription_fee  \n",
       "0                 0               199  \n",
       "1                 0               199  \n",
       "2                 0               199  \n",
       "3                 0               199  \n",
       "4                 0               199  "
      ]
     },
     "execution_count": 38,
     "metadata": {},
     "output_type": "execute_result"
    }
   ],
   "source": [
    "data = data.merge(subscriptions, on='subscription_type')\n",
    "data.head()"
   ]
  },
  {
   "cell_type": "code",
   "execution_count": 39,
   "id": "dccc70d9",
   "metadata": {},
   "outputs": [
    {
     "data": {
      "text/plain": [
       "0"
      ]
     },
     "execution_count": 39,
     "metadata": {},
     "output_type": "execute_result"
    }
   ],
   "source": [
    "#проверим корректность данных после объединения\n",
    "len(data) - len(rides)"
   ]
  },
  {
   "cell_type": "code",
   "execution_count": 40,
   "id": "f760dae3",
   "metadata": {},
   "outputs": [
    {
     "data": {
      "text/plain": [
       "(17973, 15)"
      ]
     },
     "metadata": {},
     "output_type": "display_data"
    },
    {
     "data": {
      "text/plain": [
       "(17973, 8)"
      ]
     },
     "execution_count": 40,
     "metadata": {},
     "output_type": "execute_result"
    }
   ],
   "source": [
    "display(data.shape)\n",
    "rides.shape"
   ]
  },
  {
   "cell_type": "markdown",
   "id": "71577906",
   "metadata": {},
   "source": [
    "Разделим полученную таблицу на две:\n",
    "* c данными о пользователях без подписки;\n",
    "* с данными о пользователях с подпиской."
   ]
  },
  {
   "cell_type": "code",
   "execution_count": 41,
   "id": "d3a6a0b1",
   "metadata": {},
   "outputs": [
    {
     "data": {
      "text/html": [
       "<div>\n",
       "<style scoped>\n",
       "    .dataframe tbody tr th:only-of-type {\n",
       "        vertical-align: middle;\n",
       "    }\n",
       "\n",
       "    .dataframe tbody tr th {\n",
       "        vertical-align: top;\n",
       "    }\n",
       "\n",
       "    .dataframe thead th {\n",
       "        text-align: right;\n",
       "    }\n",
       "</style>\n",
       "<table border=\"1\" class=\"dataframe\">\n",
       "  <thead>\n",
       "    <tr style=\"text-align: right;\">\n",
       "      <th></th>\n",
       "      <th>user_id</th>\n",
       "      <th>name</th>\n",
       "      <th>age</th>\n",
       "      <th>city</th>\n",
       "      <th>subscription_type</th>\n",
       "      <th>distance</th>\n",
       "      <th>duration</th>\n",
       "      <th>date</th>\n",
       "      <th>month</th>\n",
       "      <th>weekday</th>\n",
       "      <th>day_type</th>\n",
       "      <th>season</th>\n",
       "      <th>minute_price</th>\n",
       "      <th>start_ride_price</th>\n",
       "      <th>subscription_fee</th>\n",
       "    </tr>\n",
       "  </thead>\n",
       "  <tbody>\n",
       "    <tr>\n",
       "      <th>0</th>\n",
       "      <td>1</td>\n",
       "      <td>Кира</td>\n",
       "      <td>22</td>\n",
       "      <td>Тюмень</td>\n",
       "      <td>ultra</td>\n",
       "      <td>4409</td>\n",
       "      <td>25.599769</td>\n",
       "      <td>2021-01-01</td>\n",
       "      <td>1</td>\n",
       "      <td>4</td>\n",
       "      <td>Рабочий день</td>\n",
       "      <td>Зима</td>\n",
       "      <td>6</td>\n",
       "      <td>0</td>\n",
       "      <td>199</td>\n",
       "    </tr>\n",
       "    <tr>\n",
       "      <th>1</th>\n",
       "      <td>1</td>\n",
       "      <td>Кира</td>\n",
       "      <td>22</td>\n",
       "      <td>Тюмень</td>\n",
       "      <td>ultra</td>\n",
       "      <td>2617</td>\n",
       "      <td>15.816871</td>\n",
       "      <td>2021-01-18</td>\n",
       "      <td>1</td>\n",
       "      <td>0</td>\n",
       "      <td>Рабочий день</td>\n",
       "      <td>Зима</td>\n",
       "      <td>6</td>\n",
       "      <td>0</td>\n",
       "      <td>199</td>\n",
       "    </tr>\n",
       "    <tr>\n",
       "      <th>2</th>\n",
       "      <td>1</td>\n",
       "      <td>Кира</td>\n",
       "      <td>22</td>\n",
       "      <td>Тюмень</td>\n",
       "      <td>ultra</td>\n",
       "      <td>754</td>\n",
       "      <td>6.232113</td>\n",
       "      <td>2021-04-20</td>\n",
       "      <td>4</td>\n",
       "      <td>1</td>\n",
       "      <td>Рабочий день</td>\n",
       "      <td>Весна</td>\n",
       "      <td>6</td>\n",
       "      <td>0</td>\n",
       "      <td>199</td>\n",
       "    </tr>\n",
       "    <tr>\n",
       "      <th>3</th>\n",
       "      <td>1</td>\n",
       "      <td>Кира</td>\n",
       "      <td>22</td>\n",
       "      <td>Тюмень</td>\n",
       "      <td>ultra</td>\n",
       "      <td>2694</td>\n",
       "      <td>18.511000</td>\n",
       "      <td>2021-08-11</td>\n",
       "      <td>8</td>\n",
       "      <td>2</td>\n",
       "      <td>Рабочий день</td>\n",
       "      <td>Лето</td>\n",
       "      <td>6</td>\n",
       "      <td>0</td>\n",
       "      <td>199</td>\n",
       "    </tr>\n",
       "    <tr>\n",
       "      <th>4</th>\n",
       "      <td>1</td>\n",
       "      <td>Кира</td>\n",
       "      <td>22</td>\n",
       "      <td>Тюмень</td>\n",
       "      <td>ultra</td>\n",
       "      <td>4028</td>\n",
       "      <td>26.265803</td>\n",
       "      <td>2021-08-28</td>\n",
       "      <td>8</td>\n",
       "      <td>5</td>\n",
       "      <td>Выходной</td>\n",
       "      <td>Лето</td>\n",
       "      <td>6</td>\n",
       "      <td>0</td>\n",
       "      <td>199</td>\n",
       "    </tr>\n",
       "  </tbody>\n",
       "</table>\n",
       "</div>"
      ],
      "text/plain": [
       "   user_id  name  age    city subscription_type  distance   duration  \\\n",
       "0        1  Кира   22  Тюмень             ultra      4409  25.599769   \n",
       "1        1  Кира   22  Тюмень             ultra      2617  15.816871   \n",
       "2        1  Кира   22  Тюмень             ultra       754   6.232113   \n",
       "3        1  Кира   22  Тюмень             ultra      2694  18.511000   \n",
       "4        1  Кира   22  Тюмень             ultra      4028  26.265803   \n",
       "\n",
       "        date  month  weekday      day_type season  minute_price  \\\n",
       "0 2021-01-01      1        4  Рабочий день   Зима             6   \n",
       "1 2021-01-18      1        0  Рабочий день   Зима             6   \n",
       "2 2021-04-20      4        1  Рабочий день  Весна             6   \n",
       "3 2021-08-11      8        2  Рабочий день   Лето             6   \n",
       "4 2021-08-28      8        5      Выходной   Лето             6   \n",
       "\n",
       "   start_ride_price  subscription_fee  \n",
       "0                 0               199  \n",
       "1                 0               199  \n",
       "2                 0               199  \n",
       "3                 0               199  \n",
       "4                 0               199  "
      ]
     },
     "execution_count": 41,
     "metadata": {},
     "output_type": "execute_result"
    }
   ],
   "source": [
    "data_ultra = data.query('subscription_type == \"ultra\"')\n",
    "data_ultra.head()"
   ]
  },
  {
   "cell_type": "code",
   "execution_count": 42,
   "id": "6dc8f42b",
   "metadata": {},
   "outputs": [
    {
     "data": {
      "text/html": [
       "<div>\n",
       "<style scoped>\n",
       "    .dataframe tbody tr th:only-of-type {\n",
       "        vertical-align: middle;\n",
       "    }\n",
       "\n",
       "    .dataframe tbody tr th {\n",
       "        vertical-align: top;\n",
       "    }\n",
       "\n",
       "    .dataframe thead th {\n",
       "        text-align: right;\n",
       "    }\n",
       "</style>\n",
       "<table border=\"1\" class=\"dataframe\">\n",
       "  <thead>\n",
       "    <tr style=\"text-align: right;\">\n",
       "      <th></th>\n",
       "      <th>user_id</th>\n",
       "      <th>name</th>\n",
       "      <th>age</th>\n",
       "      <th>city</th>\n",
       "      <th>subscription_type</th>\n",
       "      <th>distance</th>\n",
       "      <th>duration</th>\n",
       "      <th>date</th>\n",
       "      <th>month</th>\n",
       "      <th>weekday</th>\n",
       "      <th>day_type</th>\n",
       "      <th>season</th>\n",
       "      <th>minute_price</th>\n",
       "      <th>start_ride_price</th>\n",
       "      <th>subscription_fee</th>\n",
       "    </tr>\n",
       "  </thead>\n",
       "  <tbody>\n",
       "    <tr>\n",
       "      <th>6500</th>\n",
       "      <td>700</td>\n",
       "      <td>Айдар</td>\n",
       "      <td>22</td>\n",
       "      <td>Омск</td>\n",
       "      <td>free</td>\n",
       "      <td>2515</td>\n",
       "      <td>14.944286</td>\n",
       "      <td>2021-01-02</td>\n",
       "      <td>1</td>\n",
       "      <td>5</td>\n",
       "      <td>Выходной</td>\n",
       "      <td>Зима</td>\n",
       "      <td>8</td>\n",
       "      <td>50</td>\n",
       "      <td>0</td>\n",
       "    </tr>\n",
       "    <tr>\n",
       "      <th>6501</th>\n",
       "      <td>700</td>\n",
       "      <td>Айдар</td>\n",
       "      <td>22</td>\n",
       "      <td>Омск</td>\n",
       "      <td>free</td>\n",
       "      <td>846</td>\n",
       "      <td>16.234663</td>\n",
       "      <td>2021-02-01</td>\n",
       "      <td>2</td>\n",
       "      <td>0</td>\n",
       "      <td>Рабочий день</td>\n",
       "      <td>Зима</td>\n",
       "      <td>8</td>\n",
       "      <td>50</td>\n",
       "      <td>0</td>\n",
       "    </tr>\n",
       "    <tr>\n",
       "      <th>6502</th>\n",
       "      <td>700</td>\n",
       "      <td>Айдар</td>\n",
       "      <td>22</td>\n",
       "      <td>Омск</td>\n",
       "      <td>free</td>\n",
       "      <td>4004</td>\n",
       "      <td>20.016628</td>\n",
       "      <td>2021-02-04</td>\n",
       "      <td>2</td>\n",
       "      <td>3</td>\n",
       "      <td>Рабочий день</td>\n",
       "      <td>Зима</td>\n",
       "      <td>8</td>\n",
       "      <td>50</td>\n",
       "      <td>0</td>\n",
       "    </tr>\n",
       "    <tr>\n",
       "      <th>6503</th>\n",
       "      <td>700</td>\n",
       "      <td>Айдар</td>\n",
       "      <td>22</td>\n",
       "      <td>Омск</td>\n",
       "      <td>free</td>\n",
       "      <td>1205</td>\n",
       "      <td>9.782872</td>\n",
       "      <td>2021-02-10</td>\n",
       "      <td>2</td>\n",
       "      <td>2</td>\n",
       "      <td>Рабочий день</td>\n",
       "      <td>Зима</td>\n",
       "      <td>8</td>\n",
       "      <td>50</td>\n",
       "      <td>0</td>\n",
       "    </tr>\n",
       "    <tr>\n",
       "      <th>6504</th>\n",
       "      <td>700</td>\n",
       "      <td>Айдар</td>\n",
       "      <td>22</td>\n",
       "      <td>Омск</td>\n",
       "      <td>free</td>\n",
       "      <td>3047</td>\n",
       "      <td>17.427673</td>\n",
       "      <td>2021-02-14</td>\n",
       "      <td>2</td>\n",
       "      <td>6</td>\n",
       "      <td>Выходной</td>\n",
       "      <td>Зима</td>\n",
       "      <td>8</td>\n",
       "      <td>50</td>\n",
       "      <td>0</td>\n",
       "    </tr>\n",
       "  </tbody>\n",
       "</table>\n",
       "</div>"
      ],
      "text/plain": [
       "      user_id   name  age  city subscription_type  distance   duration  \\\n",
       "6500      700  Айдар   22  Омск              free      2515  14.944286   \n",
       "6501      700  Айдар   22  Омск              free       846  16.234663   \n",
       "6502      700  Айдар   22  Омск              free      4004  20.016628   \n",
       "6503      700  Айдар   22  Омск              free      1205   9.782872   \n",
       "6504      700  Айдар   22  Омск              free      3047  17.427673   \n",
       "\n",
       "           date  month  weekday      day_type season  minute_price  \\\n",
       "6500 2021-01-02      1        5      Выходной   Зима             8   \n",
       "6501 2021-02-01      2        0  Рабочий день   Зима             8   \n",
       "6502 2021-02-04      2        3  Рабочий день   Зима             8   \n",
       "6503 2021-02-10      2        2  Рабочий день   Зима             8   \n",
       "6504 2021-02-14      2        6      Выходной   Зима             8   \n",
       "\n",
       "      start_ride_price  subscription_fee  \n",
       "6500                50                 0  \n",
       "6501                50                 0  \n",
       "6502                50                 0  \n",
       "6503                50                 0  \n",
       "6504                50                 0  "
      ]
     },
     "execution_count": 42,
     "metadata": {},
     "output_type": "execute_result"
    }
   ],
   "source": [
    "data_free = data.query('subscription_type == \"free\"')\n",
    "data_free.head()"
   ]
  },
  {
   "cell_type": "code",
   "execution_count": 43,
   "id": "d0c60ed2",
   "metadata": {},
   "outputs": [
    {
     "data": {
      "text/plain": [
       "0"
      ]
     },
     "execution_count": 43,
     "metadata": {},
     "output_type": "execute_result"
    }
   ],
   "source": [
    "#убедимся что мы разпределили данные полностью\n",
    "len(data) - len(data_ultra) - len(data_free)"
   ]
  },
  {
   "cell_type": "markdown",
   "id": "e9d8bd39",
   "metadata": {},
   "source": [
    "Визуализируем информацию о расстоянии и времени поездок для пользователей обеих категорий."
   ]
  },
  {
   "cell_type": "code",
   "execution_count": 44,
   "id": "67d6d99d",
   "metadata": {},
   "outputs": [
    {
     "data": {
      "image/png": "[encoded data removed]",
      "text/plain": [
       "<Figure size 432x288 with 1 Axes>"
      ]
     },
     "metadata": {
      "needs_background": "light"
     },
     "output_type": "display_data"
    }
   ],
   "source": [
    "diagram = data.groupby('subscription_type')['distance']\n",
    "diagram.plot(kind='hist', bins=50, alpha=0.5, legend=True)\n",
    "plt.xlabel('Пробег за поездку (м)')\n",
    "plt.ylabel('Кол-во поездок')\n",
    "plt.show()"
   ]
  },
  {
   "cell_type": "code",
   "execution_count": 45,
   "id": "9834d144",
   "metadata": {},
   "outputs": [
    {
     "data": {
      "image/png": "[encoded data removed]",
      "text/plain": [
       "<Figure size 432x288 with 1 Axes>"
      ]
     },
     "metadata": {
      "needs_background": "light"
     },
     "output_type": "display_data"
    }
   ],
   "source": [
    "data.groupby('subscription_type')['duration'].hist(bins=50, alpha=0.5, legend=True)\n",
    "plt.xlabel('Пробег за поездку (м)')\n",
    "plt.ylabel('Кол-во поездок')\n",
    "plt.show()"
   ]
  },
  {
   "cell_type": "code",
   "execution_count": 46,
   "id": "70b2e3a9",
   "metadata": {},
   "outputs": [
    {
     "data": {
      "image/png": "[encoded data removed]",
      "text/plain": [
       "<Figure size 432x288 with 1 Axes>"
      ]
     },
     "metadata": {},
     "output_type": "display_data"
    }
   ],
   "source": [
    "plt.pie(data.groupby('subscription_type')['duration'].count(), labels=['Без подписки (%)', 'Подписка Ultra (%)'], autopct='%.2f')\n",
    "plt.title('Количество поездок по типам подписки')\n",
    "plt.show()"
   ]
  },
  {
   "cell_type": "code",
   "execution_count": 47,
   "id": "3bbbbd8f",
   "metadata": {},
   "outputs": [
    {
     "data": {
      "image/png": "[encoded data removed]",
      "text/plain": [
       "<Figure size 432x288 with 1 Axes>"
      ]
     },
     "metadata": {
      "needs_background": "light"
     },
     "output_type": "display_data"
    }
   ],
   "source": [
    "data.groupby('subscription_type')['duration'].mean().plot(kind='bar')\n",
    "plt.title('Средняя продолжительность поездки по типам подписки')\n",
    "plt.xlabel('Тип подписки')\n",
    "plt.ylabel('Средняя продолжительность поездки')\n",
    "plt.show()"
   ]
  },
  {
   "cell_type": "markdown",
   "id": "bb52a0ad",
   "metadata": {},
   "source": [
    "**Наблюдения**\n",
    "При раздельном анализе данных по пользователям с разными типами подписки мы видим, что распределение расстояния поездок у пользователей с подпиской имеет меньшую величину стандартного отклонения.\n",
    "\n",
    "Распределение же пробега в одной поездке разовых клиентов, напротив, имеет гораздо больший разброс, даже в области среднего значения, где мы видим два пика на метках примерно 2,5 и 3,5 километра.\n",
    "\n",
    "Таким образом можно предположить, что подписчики сервиса ездят в основном по одинаковым для себя маршрутам, в то время как разнообразие маршрутов разовых клиентов гораздо шире.\n",
    "\n",
    "При этом распределение длительности поездок демонстрирует схожую картину у пользователей с разными типами подписки, что вкупе с сильным разбросом пробега за поездку говорит о том, что средняя скорость у клиентов на бесплатном плане также сильно вирьируется.\n",
    "\n",
    "Количество поездок пользователей без подписки почти вдвое превышает количество поездок подписчиков. При этом мы помним, что количество клиентов с подпиской и без почти одинаково, с преимуществом в районе 8% у пользователей без подписки. Это говорит о том, что разовые пользователи совершают больше поездок.\n",
    "\n",
    "В то же время, продолжительность поездок у пользователей с подпиской и без примерно одинакова.\n",
    "\n",
    "В итоге видим парадоксальную ситуацию, когда поведение пользователей без подписки обратно пропорционально их финансовым интересам.\n",
    "\n",
    "**Выводы**\n",
    "На основе этих наблюдений можно сделать вывод о том, что клиенты с подпиской являются более опытными пользователями сервиса, поскольку демонстрируют большую уверенность в езде, используют самокат как основное средство транспорта, и коммерческая эффективность имеет для них значение, поскольку склонность к сокращению количества стартов у них судя по всему унаследована от периода пользования сервисом на свободном плане.\n",
    "\n",
    "В свою очередь, для пользователей на свободном плане затраты на поездки практически не имеют значения, и они не пользуются подпиской даже при очевидности ее выгоды. Это делает пользователей без подписки более выгодными клиентами для сервиса, и следует более подробно изучить их характеристики для продвижения информации о компании среди этих категорий клиентов."
   ]
  },
  {
   "cell_type": "markdown",
   "id": "1ba5d0c2",
   "metadata": {},
   "source": [
    "#### Шаг 5. Подсчёт выручки"
   ]
  },
  {
   "cell_type": "markdown",
   "id": "accf5b77",
   "metadata": {},
   "source": [
    "Создадим датафрейм с агрегированными данными о поездках на основе датафрейма с объединёнными данными и вычислим следующие показатели для каждого пользователя за каждый месяц:\n",
    "* суммарное расстояние\n",
    "* количество поездок\n",
    "* суммарное время"
   ]
  },
  {
   "cell_type": "code",
   "execution_count": 48,
   "id": "b4bcce28",
   "metadata": {},
   "outputs": [
    {
     "data": {
      "text/html": [
       "<div>\n",
       "<style scoped>\n",
       "    .dataframe tbody tr th:only-of-type {\n",
       "        vertical-align: middle;\n",
       "    }\n",
       "\n",
       "    .dataframe tbody tr th {\n",
       "        vertical-align: top;\n",
       "    }\n",
       "\n",
       "    .dataframe thead th {\n",
       "        text-align: right;\n",
       "    }\n",
       "</style>\n",
       "<table border=\"1\" class=\"dataframe\">\n",
       "  <thead>\n",
       "    <tr style=\"text-align: right;\">\n",
       "      <th></th>\n",
       "      <th></th>\n",
       "      <th>Кол-во поездок</th>\n",
       "      <th>Общее расстояние</th>\n",
       "      <th>Общая длительность</th>\n",
       "    </tr>\n",
       "    <tr>\n",
       "      <th>user_id</th>\n",
       "      <th>month</th>\n",
       "      <th></th>\n",
       "      <th></th>\n",
       "      <th></th>\n",
       "    </tr>\n",
       "  </thead>\n",
       "  <tbody>\n",
       "    <tr>\n",
       "      <th rowspan=\"5\" valign=\"top\">1</th>\n",
       "      <th>1</th>\n",
       "      <td>2</td>\n",
       "      <td>7026</td>\n",
       "      <td>42</td>\n",
       "    </tr>\n",
       "    <tr>\n",
       "      <th>4</th>\n",
       "      <td>1</td>\n",
       "      <td>754</td>\n",
       "      <td>7</td>\n",
       "    </tr>\n",
       "    <tr>\n",
       "      <th>8</th>\n",
       "      <td>2</td>\n",
       "      <td>6722</td>\n",
       "      <td>46</td>\n",
       "    </tr>\n",
       "    <tr>\n",
       "      <th>10</th>\n",
       "      <td>2</td>\n",
       "      <td>5809</td>\n",
       "      <td>32</td>\n",
       "    </tr>\n",
       "    <tr>\n",
       "      <th>11</th>\n",
       "      <td>3</td>\n",
       "      <td>7002</td>\n",
       "      <td>56</td>\n",
       "    </tr>\n",
       "    <tr>\n",
       "      <th>...</th>\n",
       "      <th>...</th>\n",
       "      <td>...</td>\n",
       "      <td>...</td>\n",
       "      <td>...</td>\n",
       "    </tr>\n",
       "    <tr>\n",
       "      <th rowspan=\"5\" valign=\"top\">1534</th>\n",
       "      <th>6</th>\n",
       "      <td>2</td>\n",
       "      <td>3409</td>\n",
       "      <td>26</td>\n",
       "    </tr>\n",
       "    <tr>\n",
       "      <th>8</th>\n",
       "      <td>2</td>\n",
       "      <td>7621</td>\n",
       "      <td>48</td>\n",
       "    </tr>\n",
       "    <tr>\n",
       "      <th>9</th>\n",
       "      <td>1</td>\n",
       "      <td>4928</td>\n",
       "      <td>23</td>\n",
       "    </tr>\n",
       "    <tr>\n",
       "      <th>11</th>\n",
       "      <td>4</td>\n",
       "      <td>13349</td>\n",
       "      <td>78</td>\n",
       "    </tr>\n",
       "    <tr>\n",
       "      <th>12</th>\n",
       "      <td>1</td>\n",
       "      <td>2371</td>\n",
       "      <td>16</td>\n",
       "    </tr>\n",
       "  </tbody>\n",
       "</table>\n",
       "<p>11300 rows × 3 columns</p>\n",
       "</div>"
      ],
      "text/plain": [
       "               Кол-во поездок  Общее расстояние  Общая длительность\n",
       "user_id month                                                      \n",
       "1       1                   2              7026                  42\n",
       "        4                   1               754                   7\n",
       "        8                   2              6722                  46\n",
       "        10                  2              5809                  32\n",
       "        11                  3              7002                  56\n",
       "...                       ...               ...                 ...\n",
       "1534    6                   2              3409                  26\n",
       "        8                   2              7621                  48\n",
       "        9                   1              4928                  23\n",
       "        11                  4             13349                  78\n",
       "        12                  1              2371                  16\n",
       "\n",
       "[11300 rows x 3 columns]"
      ]
     },
     "execution_count": 48,
     "metadata": {},
     "output_type": "execute_result"
    }
   ],
   "source": [
    "#создадим новую таблицу с нужными данными\n",
    "rides_data = data.loc[:,['user_id', 'distance', 'duration', 'month', 'subscription_type', 'subscription_fee']]\n",
    "#добавим в нее счетчик записей\n",
    "rides_data['count'] = 1\n",
    "#для длительности поездки предварительно округлим до большего в соответствии с правилами тарификации\n",
    "rides_data['duration'] = np.ceil(rides_data['duration']).astype('int32')\n",
    "#построим сводную таблицу, оформим ее и выведем на экран\n",
    "rides_pivot = rides_data.pivot_table(index=['user_id', 'month'], values=['distance', 'duration', 'count'], aggfunc='sum')\n",
    "rides_pivot.columns = ['Кол-во поездок', 'Общее расстояние', 'Общая длительность']\n",
    "rides_pivot"
   ]
  },
  {
   "cell_type": "markdown",
   "id": "a46280a2",
   "metadata": {},
   "source": [
    "Рассчитаем в новой таблице выручку, которую принёс каждый пользователь.\n",
    "Для этого добавим в новую таблицу поездок информацию о тарифном плане пользователя, а затем рассчитаем на его основании стоимость каждой поездки."
   ]
  },
  {
   "cell_type": "code",
   "execution_count": 49,
   "id": "bddfe54a",
   "metadata": {},
   "outputs": [],
   "source": [
    "#функция для расчета выручки\n",
    "def calc_revenue (ride):\n",
    "    plan = ride['subscription_type']\n",
    "    if plan == 'free':\n",
    "        return ride['duration'] * 8 + 50\n",
    "    else:\n",
    "        return ride['duration'] * 6\n",
    "\n",
    "#применим функцию к таблице для расчета выручки\n",
    "rides_data['revenue'] = rides_data.apply(calc_revenue, axis=1)"
   ]
  },
  {
   "cell_type": "code",
   "execution_count": 50,
   "id": "696870e7",
   "metadata": {},
   "outputs": [
    {
     "data": {
      "text/html": [
       "<div>\n",
       "<style scoped>\n",
       "    .dataframe tbody tr th:only-of-type {\n",
       "        vertical-align: middle;\n",
       "    }\n",
       "\n",
       "    .dataframe tbody tr th {\n",
       "        vertical-align: top;\n",
       "    }\n",
       "\n",
       "    .dataframe thead th {\n",
       "        text-align: right;\n",
       "    }\n",
       "</style>\n",
       "<table border=\"1\" class=\"dataframe\">\n",
       "  <thead>\n",
       "    <tr style=\"text-align: right;\">\n",
       "      <th></th>\n",
       "      <th></th>\n",
       "      <th>Оплата поездок</th>\n",
       "    </tr>\n",
       "    <tr>\n",
       "      <th>user_id</th>\n",
       "      <th>month</th>\n",
       "      <th></th>\n",
       "    </tr>\n",
       "  </thead>\n",
       "  <tbody>\n",
       "    <tr>\n",
       "      <th rowspan=\"6\" valign=\"top\">1</th>\n",
       "      <th>1</th>\n",
       "      <td>252</td>\n",
       "    </tr>\n",
       "    <tr>\n",
       "      <th>4</th>\n",
       "      <td>42</td>\n",
       "    </tr>\n",
       "    <tr>\n",
       "      <th>8</th>\n",
       "      <td>276</td>\n",
       "    </tr>\n",
       "    <tr>\n",
       "      <th>10</th>\n",
       "      <td>192</td>\n",
       "    </tr>\n",
       "    <tr>\n",
       "      <th>11</th>\n",
       "      <td>336</td>\n",
       "    </tr>\n",
       "    <tr>\n",
       "      <th>12</th>\n",
       "      <td>168</td>\n",
       "    </tr>\n",
       "    <tr>\n",
       "      <th rowspan=\"4\" valign=\"top\">2</th>\n",
       "      <th>3</th>\n",
       "      <td>378</td>\n",
       "    </tr>\n",
       "    <tr>\n",
       "      <th>4</th>\n",
       "      <td>240</td>\n",
       "    </tr>\n",
       "    <tr>\n",
       "      <th>6</th>\n",
       "      <td>84</td>\n",
       "    </tr>\n",
       "    <tr>\n",
       "      <th>7</th>\n",
       "      <td>288</td>\n",
       "    </tr>\n",
       "  </tbody>\n",
       "</table>\n",
       "</div>"
      ],
      "text/plain": [
       "               Оплата поездок\n",
       "user_id month                \n",
       "1       1                 252\n",
       "        4                  42\n",
       "        8                 276\n",
       "        10                192\n",
       "        11                336\n",
       "        12                168\n",
       "2       3                 378\n",
       "        4                 240\n",
       "        6                  84\n",
       "        7                 288"
      ]
     },
     "execution_count": 50,
     "metadata": {},
     "output_type": "execute_result"
    }
   ],
   "source": [
    "#рассчитаем итоговую суммарную помесячную выручку от поездок в сводной таблице \n",
    "rides_revenue = rides_data.pivot_table(index=['user_id', 'month'], values='revenue', aggfunc='sum')\n",
    "rides_revenue.columns = ['Оплата поездок']\n",
    "rides_revenue.head(10)"
   ]
  },
  {
   "cell_type": "code",
   "execution_count": 51,
   "id": "33233d5b",
   "metadata": {},
   "outputs": [
    {
     "data": {
      "text/html": [
       "<div>\n",
       "<style scoped>\n",
       "    .dataframe tbody tr th:only-of-type {\n",
       "        vertical-align: middle;\n",
       "    }\n",
       "\n",
       "    .dataframe tbody tr th {\n",
       "        vertical-align: top;\n",
       "    }\n",
       "\n",
       "    .dataframe thead th {\n",
       "        text-align: right;\n",
       "    }\n",
       "</style>\n",
       "<table border=\"1\" class=\"dataframe\">\n",
       "  <thead>\n",
       "    <tr style=\"text-align: right;\">\n",
       "      <th></th>\n",
       "      <th></th>\n",
       "      <th>Стоимость подписки</th>\n",
       "      <th>Тарифный план</th>\n",
       "    </tr>\n",
       "    <tr>\n",
       "      <th>user_id</th>\n",
       "      <th>month</th>\n",
       "      <th></th>\n",
       "      <th></th>\n",
       "    </tr>\n",
       "  </thead>\n",
       "  <tbody>\n",
       "    <tr>\n",
       "      <th rowspan=\"5\" valign=\"top\">1</th>\n",
       "      <th>1</th>\n",
       "      <td>199</td>\n",
       "      <td>ultra</td>\n",
       "    </tr>\n",
       "    <tr>\n",
       "      <th>4</th>\n",
       "      <td>199</td>\n",
       "      <td>ultra</td>\n",
       "    </tr>\n",
       "    <tr>\n",
       "      <th>8</th>\n",
       "      <td>199</td>\n",
       "      <td>ultra</td>\n",
       "    </tr>\n",
       "    <tr>\n",
       "      <th>10</th>\n",
       "      <td>199</td>\n",
       "      <td>ultra</td>\n",
       "    </tr>\n",
       "    <tr>\n",
       "      <th>11</th>\n",
       "      <td>199</td>\n",
       "      <td>ultra</td>\n",
       "    </tr>\n",
       "    <tr>\n",
       "      <th>...</th>\n",
       "      <th>...</th>\n",
       "      <td>...</td>\n",
       "      <td>...</td>\n",
       "    </tr>\n",
       "    <tr>\n",
       "      <th rowspan=\"5\" valign=\"top\">1534</th>\n",
       "      <th>6</th>\n",
       "      <td>0</td>\n",
       "      <td>free</td>\n",
       "    </tr>\n",
       "    <tr>\n",
       "      <th>8</th>\n",
       "      <td>0</td>\n",
       "      <td>free</td>\n",
       "    </tr>\n",
       "    <tr>\n",
       "      <th>9</th>\n",
       "      <td>0</td>\n",
       "      <td>free</td>\n",
       "    </tr>\n",
       "    <tr>\n",
       "      <th>11</th>\n",
       "      <td>0</td>\n",
       "      <td>free</td>\n",
       "    </tr>\n",
       "    <tr>\n",
       "      <th>12</th>\n",
       "      <td>0</td>\n",
       "      <td>free</td>\n",
       "    </tr>\n",
       "  </tbody>\n",
       "</table>\n",
       "<p>11300 rows × 2 columns</p>\n",
       "</div>"
      ],
      "text/plain": [
       "               Стоимость подписки Тарифный план\n",
       "user_id month                                  \n",
       "1       1                     199         ultra\n",
       "        4                     199         ultra\n",
       "        8                     199         ultra\n",
       "        10                    199         ultra\n",
       "        11                    199         ultra\n",
       "...                           ...           ...\n",
       "1534    6                       0          free\n",
       "        8                       0          free\n",
       "        9                       0          free\n",
       "        11                      0          free\n",
       "        12                      0          free\n",
       "\n",
       "[11300 rows x 2 columns]"
      ]
     },
     "execution_count": 51,
     "metadata": {},
     "output_type": "execute_result"
    }
   ],
   "source": [
    "#построим сводную таблицу для стоимости подписки \n",
    "monthly_fee = rides_data.pivot_table(index=['user_id', 'month'], values=['subscription_type', 'subscription_fee'], aggfunc='first')\n",
    "monthly_fee.columns = ['Стоимость подписки', 'Тарифный план']\n",
    "monthly_fee"
   ]
  },
  {
   "cell_type": "code",
   "execution_count": 52,
   "id": "94bec971",
   "metadata": {},
   "outputs": [
    {
     "data": {
      "text/html": [
       "<div>\n",
       "<style scoped>\n",
       "    .dataframe tbody tr th:only-of-type {\n",
       "        vertical-align: middle;\n",
       "    }\n",
       "\n",
       "    .dataframe tbody tr th {\n",
       "        vertical-align: top;\n",
       "    }\n",
       "\n",
       "    .dataframe thead th {\n",
       "        text-align: right;\n",
       "    }\n",
       "</style>\n",
       "<table border=\"1\" class=\"dataframe\">\n",
       "  <thead>\n",
       "    <tr style=\"text-align: right;\">\n",
       "      <th></th>\n",
       "      <th></th>\n",
       "      <th>Оплата поездок</th>\n",
       "      <th>Стоимость подписки</th>\n",
       "      <th>Тарифный план</th>\n",
       "    </tr>\n",
       "    <tr>\n",
       "      <th>user_id</th>\n",
       "      <th>month</th>\n",
       "      <th></th>\n",
       "      <th></th>\n",
       "      <th></th>\n",
       "    </tr>\n",
       "  </thead>\n",
       "  <tbody>\n",
       "    <tr>\n",
       "      <th rowspan=\"5\" valign=\"top\">1</th>\n",
       "      <th>1</th>\n",
       "      <td>252</td>\n",
       "      <td>199</td>\n",
       "      <td>ultra</td>\n",
       "    </tr>\n",
       "    <tr>\n",
       "      <th>4</th>\n",
       "      <td>42</td>\n",
       "      <td>199</td>\n",
       "      <td>ultra</td>\n",
       "    </tr>\n",
       "    <tr>\n",
       "      <th>8</th>\n",
       "      <td>276</td>\n",
       "      <td>199</td>\n",
       "      <td>ultra</td>\n",
       "    </tr>\n",
       "    <tr>\n",
       "      <th>10</th>\n",
       "      <td>192</td>\n",
       "      <td>199</td>\n",
       "      <td>ultra</td>\n",
       "    </tr>\n",
       "    <tr>\n",
       "      <th>11</th>\n",
       "      <td>336</td>\n",
       "      <td>199</td>\n",
       "      <td>ultra</td>\n",
       "    </tr>\n",
       "    <tr>\n",
       "      <th>...</th>\n",
       "      <th>...</th>\n",
       "      <td>...</td>\n",
       "      <td>...</td>\n",
       "      <td>...</td>\n",
       "    </tr>\n",
       "    <tr>\n",
       "      <th rowspan=\"5\" valign=\"top\">1534</th>\n",
       "      <th>6</th>\n",
       "      <td>308</td>\n",
       "      <td>0</td>\n",
       "      <td>free</td>\n",
       "    </tr>\n",
       "    <tr>\n",
       "      <th>8</th>\n",
       "      <td>484</td>\n",
       "      <td>0</td>\n",
       "      <td>free</td>\n",
       "    </tr>\n",
       "    <tr>\n",
       "      <th>9</th>\n",
       "      <td>234</td>\n",
       "      <td>0</td>\n",
       "      <td>free</td>\n",
       "    </tr>\n",
       "    <tr>\n",
       "      <th>11</th>\n",
       "      <td>824</td>\n",
       "      <td>0</td>\n",
       "      <td>free</td>\n",
       "    </tr>\n",
       "    <tr>\n",
       "      <th>12</th>\n",
       "      <td>178</td>\n",
       "      <td>0</td>\n",
       "      <td>free</td>\n",
       "    </tr>\n",
       "  </tbody>\n",
       "</table>\n",
       "<p>11300 rows × 3 columns</p>\n",
       "</div>"
      ],
      "text/plain": [
       "               Оплата поездок  Стоимость подписки Тарифный план\n",
       "user_id month                                                  \n",
       "1       1                 252                 199         ultra\n",
       "        4                  42                 199         ultra\n",
       "        8                 276                 199         ultra\n",
       "        10                192                 199         ultra\n",
       "        11                336                 199         ultra\n",
       "...                       ...                 ...           ...\n",
       "1534    6                 308                   0          free\n",
       "        8                 484                   0          free\n",
       "        9                 234                   0          free\n",
       "        11                824                   0          free\n",
       "        12                178                   0          free\n",
       "\n",
       "[11300 rows x 3 columns]"
      ]
     },
     "execution_count": 52,
     "metadata": {},
     "output_type": "execute_result"
    }
   ],
   "source": [
    "#добавим к таблице стоимости поездок столбец со стоимостью подписок \n",
    "total_revenue = rides_revenue.join(monthly_fee)\n",
    "total_revenue"
   ]
  },
  {
   "cell_type": "code",
   "execution_count": 53,
   "id": "1fa99e09",
   "metadata": {},
   "outputs": [
    {
     "data": {
      "text/html": [
       "<div>\n",
       "<style scoped>\n",
       "    .dataframe tbody tr th:only-of-type {\n",
       "        vertical-align: middle;\n",
       "    }\n",
       "\n",
       "    .dataframe tbody tr th {\n",
       "        vertical-align: top;\n",
       "    }\n",
       "\n",
       "    .dataframe thead th {\n",
       "        text-align: right;\n",
       "    }\n",
       "</style>\n",
       "<table border=\"1\" class=\"dataframe\">\n",
       "  <thead>\n",
       "    <tr style=\"text-align: right;\">\n",
       "      <th></th>\n",
       "      <th></th>\n",
       "      <th>Оплата поездок</th>\n",
       "      <th>Стоимость подписки</th>\n",
       "      <th>Тарифный план</th>\n",
       "      <th>Итого за месяц</th>\n",
       "    </tr>\n",
       "    <tr>\n",
       "      <th>user_id</th>\n",
       "      <th>month</th>\n",
       "      <th></th>\n",
       "      <th></th>\n",
       "      <th></th>\n",
       "      <th></th>\n",
       "    </tr>\n",
       "  </thead>\n",
       "  <tbody>\n",
       "    <tr>\n",
       "      <th rowspan=\"5\" valign=\"top\">1</th>\n",
       "      <th>1</th>\n",
       "      <td>252</td>\n",
       "      <td>199</td>\n",
       "      <td>ultra</td>\n",
       "      <td>451</td>\n",
       "    </tr>\n",
       "    <tr>\n",
       "      <th>4</th>\n",
       "      <td>42</td>\n",
       "      <td>199</td>\n",
       "      <td>ultra</td>\n",
       "      <td>241</td>\n",
       "    </tr>\n",
       "    <tr>\n",
       "      <th>8</th>\n",
       "      <td>276</td>\n",
       "      <td>199</td>\n",
       "      <td>ultra</td>\n",
       "      <td>475</td>\n",
       "    </tr>\n",
       "    <tr>\n",
       "      <th>10</th>\n",
       "      <td>192</td>\n",
       "      <td>199</td>\n",
       "      <td>ultra</td>\n",
       "      <td>391</td>\n",
       "    </tr>\n",
       "    <tr>\n",
       "      <th>11</th>\n",
       "      <td>336</td>\n",
       "      <td>199</td>\n",
       "      <td>ultra</td>\n",
       "      <td>535</td>\n",
       "    </tr>\n",
       "    <tr>\n",
       "      <th>...</th>\n",
       "      <th>...</th>\n",
       "      <td>...</td>\n",
       "      <td>...</td>\n",
       "      <td>...</td>\n",
       "      <td>...</td>\n",
       "    </tr>\n",
       "    <tr>\n",
       "      <th rowspan=\"5\" valign=\"top\">1534</th>\n",
       "      <th>6</th>\n",
       "      <td>308</td>\n",
       "      <td>0</td>\n",
       "      <td>free</td>\n",
       "      <td>308</td>\n",
       "    </tr>\n",
       "    <tr>\n",
       "      <th>8</th>\n",
       "      <td>484</td>\n",
       "      <td>0</td>\n",
       "      <td>free</td>\n",
       "      <td>484</td>\n",
       "    </tr>\n",
       "    <tr>\n",
       "      <th>9</th>\n",
       "      <td>234</td>\n",
       "      <td>0</td>\n",
       "      <td>free</td>\n",
       "      <td>234</td>\n",
       "    </tr>\n",
       "    <tr>\n",
       "      <th>11</th>\n",
       "      <td>824</td>\n",
       "      <td>0</td>\n",
       "      <td>free</td>\n",
       "      <td>824</td>\n",
       "    </tr>\n",
       "    <tr>\n",
       "      <th>12</th>\n",
       "      <td>178</td>\n",
       "      <td>0</td>\n",
       "      <td>free</td>\n",
       "      <td>178</td>\n",
       "    </tr>\n",
       "  </tbody>\n",
       "</table>\n",
       "<p>11300 rows × 4 columns</p>\n",
       "</div>"
      ],
      "text/plain": [
       "               Оплата поездок  Стоимость подписки Тарифный план  \\\n",
       "user_id month                                                     \n",
       "1       1                 252                 199         ultra   \n",
       "        4                  42                 199         ultra   \n",
       "        8                 276                 199         ultra   \n",
       "        10                192                 199         ultra   \n",
       "        11                336                 199         ultra   \n",
       "...                       ...                 ...           ...   \n",
       "1534    6                 308                   0          free   \n",
       "        8                 484                   0          free   \n",
       "        9                 234                   0          free   \n",
       "        11                824                   0          free   \n",
       "        12                178                   0          free   \n",
       "\n",
       "               Итого за месяц  \n",
       "user_id month                  \n",
       "1       1                 451  \n",
       "        4                 241  \n",
       "        8                 475  \n",
       "        10                391  \n",
       "        11                535  \n",
       "...                       ...  \n",
       "1534    6                 308  \n",
       "        8                 484  \n",
       "        9                 234  \n",
       "        11                824  \n",
       "        12                178  \n",
       "\n",
       "[11300 rows x 4 columns]"
      ]
     },
     "execution_count": 53,
     "metadata": {},
     "output_type": "execute_result"
    }
   ],
   "source": [
    "#Вычислим общую выручку за месяц\n",
    "total_revenue['Итого за месяц'] = total_revenue['Оплата поездок'] + total_revenue['Стоимость подписки']\n",
    "total_revenue"
   ]
  },
  {
   "cell_type": "markdown",
   "id": "c18be1f8",
   "metadata": {},
   "source": [
    "#### Шаг 6. Проверка гипотез"
   ]
  },
  {
   "cell_type": "markdown",
   "id": "5f1adc57",
   "metadata": {},
   "source": [
    "**Гипотеза 1**\n",
    "\n",
    "Тратят ли пользователи с подпиской больше времени на поездки?\n",
    "\n",
    "Сформулируем гипотезы:\n",
    "* нулевая - равенство средней величины длительности поездки у подписчиков и пользователей без подписки\n",
    "* альтернативная - средняя длительность поездок у подписчиков выше длительности поездок пользователей без подписки\n",
    "Проверим гипотезы при помощи T-теста для двух независимых выборок."
   ]
  },
  {
   "cell_type": "code",
   "execution_count": 54,
   "id": "9c34e3d8",
   "metadata": {},
   "outputs": [
    {
     "name": "stdout",
     "output_type": "stream",
     "text": [
      "Средняя продолжительность поездки у подписчиков: 19.0 минут\n",
      "Средняя продолжительность поездки у разовых клиентов: 18.0 минут\n"
     ]
    }
   ],
   "source": [
    "#рассчитаем реальное среднее продолжительности поездки по двум выборбкам\n",
    "duration_ultra = data_ultra['duration']\n",
    "duration_free = data_free['duration']\n",
    "print('Средняя продолжительность поездки у подписчиков:', np.ceil(np.mean(duration_ultra)), 'минут')\n",
    "print('Средняя продолжительность поездки у разовых клиентов:', np.ceil(np.mean(duration_free)), 'минут')"
   ]
  },
  {
   "cell_type": "code",
   "execution_count": 55,
   "id": "d27f0930",
   "metadata": {},
   "outputs": [
    {
     "name": "stdout",
     "output_type": "stream",
     "text": [
      "p-value = 4.704468074453899e-28\n",
      "Отвергаем нулевую гипотезу в пользу альтернативной\n"
     ]
    }
   ],
   "source": [
    "#установим порог значимости как 5%\n",
    "alpha = 0.05\n",
    "#проверим нулевую гипотезу при помощи T-теста \n",
    "result = st.ttest_ind(duration_ultra, duration_free, alternative='greater')\n",
    "if result.pvalue < alpha:\n",
    "    print('p-value =', result.pvalue)\n",
    "    print('Отвергаем нулевую гипотезу в пользу альтернативной')\n",
    "else:\n",
    "    print('p-value =', result.pvalue)\n",
    "    print('Нулевая гипотеза не отвергается')"
   ]
  },
  {
   "cell_type": "markdown",
   "id": "6ee7ddf8",
   "metadata": {},
   "source": [
    "**Вывод**\n",
    "\n",
    "Опровержение нулевой гипотезы означает, что продолжительность поездок подписчиков с высокой вероятностью будет выше средней длительности поездок разовых клиентов. Это позволяет сделать предварительный вывод о том, что пользователи с подпиской могут приносить больше выручки за одну поездку при одинаковом тарифе. Однако, тариф для подписчиков у нас отличается от стоимости разовой поездки, и в данном анализе мы не учитывали количество поздок. Поэтому, для формулировки окончательного вывода о \"выгодности\" клиентов по типам подписки требуется провести дополнительные исследования."
   ]
  },
  {
   "cell_type": "markdown",
   "id": "826f4c0d",
   "metadata": {},
   "source": [
    "**Гипотеза 2**\n",
    "\n",
    "Можно ли сказать, что среднее расстояние, которое проезжают пользователи с подпиской за одну поездку, не превышает\n",
    "3130 метров?\n",
    "\n",
    "Сформулируем гипотезы:\n",
    "* нулевая - среднее расстояние, которое проезжают пользователи с подпиской за одну поездку, составляет 3130 метров\n",
    "* альтернативная - средняя длительность поездок у подписчиков больше 3130 метров\n",
    "\n",
    "Таким образом, если мы не сможем опровергнуть нулевую гипотезу, это будет означать, что вероятность получить пробег выше 3130 метров крайне низка, и основная масса поездок будет укладываться в это расстояние.\n",
    "\n",
    "Проверим эти гипотезы при помощи T-теста для одной выборки:"
   ]
  },
  {
   "cell_type": "code",
   "execution_count": 56,
   "id": "7e624197",
   "metadata": {},
   "outputs": [
    {
     "name": "stdout",
     "output_type": "stream",
     "text": [
      "p-value = 0.9264356652998772\n",
      "Нулевая гипотеза не отвергается\n"
     ]
    }
   ],
   "source": [
    "#установим порог значимости как 5%\n",
    "alpha = 0.05\n",
    "#проверим нулевую гипотезу при помощи T-теста\n",
    "ultra_rides = data.query('subscription_type == \"ultra\"')['distance']\n",
    "result = st.ttest_1samp(ultra_rides, 3130, alternative='greater')\n",
    "if result.pvalue < alpha:\n",
    "    print('p-value =', result.pvalue)\n",
    "    print('Отвергаем нулевую гипотезу в пользу альтернативной')\n",
    "else:\n",
    "    print('p-value =', result.pvalue)\n",
    "    print('Нулевая гипотеза не отвергается')"
   ]
  },
  {
   "cell_type": "markdown",
   "id": "33059512",
   "metadata": {},
   "source": [
    "**Вывод**\n",
    "\n",
    "Согласно показаниям T-теста, мы с высокой вероятностью можем утверждать, что пользователи с подпиской не проезжают за одну поездку больше 3130 метров."
   ]
  },
  {
   "cell_type": "markdown",
   "id": "7d026f61",
   "metadata": {},
   "source": [
    "**Гипотеза 3**\n",
    "\n",
    "Будет ли помесячная выручка от пользователей с подпиской по месяцам выше, чем выручка от пользователей без подписки?\n",
    "\n",
    "Сформулируем гипотезы:\n",
    "* нулевая - помесячные выручки от пользователей с подпиской и без равны между собой\n",
    "* альтернативная - помесячная выручка от пользователей с подпиской выше\n",
    "\n",
    "Для проверки этой гипотезы проведем правосторонний Т-тест на двух независимых выборках из таблицы с расчетом помесячной выручки."
   ]
  },
  {
   "cell_type": "code",
   "execution_count": 57,
   "id": "687aebad",
   "metadata": {},
   "outputs": [],
   "source": [
    "#сформируем выборки\n",
    "subscribers_revenue = total_revenue[total_revenue['Тарифный план'] == 'ultra']['Итого за месяц']\n",
    "freeplan_revenue = total_revenue[total_revenue['Тарифный план'] == 'free']['Итого за месяц']"
   ]
  },
  {
   "cell_type": "code",
   "execution_count": 58,
   "id": "cbc146cf",
   "metadata": {},
   "outputs": [
    {
     "name": "stdout",
     "output_type": "stream",
     "text": [
      "p-value = 2.0314113674863288e-30\n",
      "Отвергаем нулевую гипотезу в пользу альтернативной\n"
     ]
    }
   ],
   "source": [
    "#установим минимальный порог значимости\n",
    "alpha = 0.01\n",
    "#проверим нулевую гипотезу при помощи T-теста \n",
    "result = st.ttest_ind(subscribers_revenue, freeplan_revenue, alternative='greater')\n",
    "if result.pvalue < alpha:\n",
    "    print('p-value =', result.pvalue)\n",
    "    print('Отвергаем нулевую гипотезу в пользу альтернативной')\n",
    "else:\n",
    "    print('p-value =', result.pvalue)\n",
    "    print('Нулевая гипотеза не отвергается')"
   ]
  },
  {
   "cell_type": "markdown",
   "id": "1fa7d4f2",
   "metadata": {},
   "source": [
    "**Вывод**\n",
    "\n",
    "Статистический анализ показывает, что помесячная выручка подписчиков с высокой вероятностью будет выше ежемесячной выручки разовых клиентов."
   ]
  },
  {
   "cell_type": "markdown",
   "id": "ce4f304a",
   "metadata": {},
   "source": [
    "**Динамика обращений в техподдержку**\n",
    "\n",
    "Для проверки гипотезы в описанной в задании ситуации, нам потребуется провести Т-тест для двух зависимых выборок - scipy.stats.ttest_rel."
   ]
  },
  {
   "cell_type": "markdown",
   "id": "36716f8b",
   "metadata": {},
   "source": [
    "#### Шаг 7. Распределения"
   ]
  },
  {
   "cell_type": "markdown",
   "id": "ff4ea0a9",
   "metadata": {},
   "source": [
    "**Акция с промокодами**\n",
    "\n",
    "***Цель акции*** - как минимум 100 существующих клиентов должны продлить эту подписку\n",
    "\n",
    "***Вероятность успеха*** - после бесплатного пробного периода подписку обычно продлевают 10 % пользователей\n",
    "\n",
    "***Задача*** - выяснить, какое минимальное количество промокодов нужно разослать, чтобы вероятность не выполнить план была примерно 5 %."
   ]
  },
  {
   "cell_type": "markdown",
   "id": "4003a5c4",
   "metadata": {},
   "source": [
    "Для решения этой задачи построим биномиальное распределение со следующими параметрами:\n",
    "* количество экспериментов - переменная величина\n",
    "* вероятность успеха - 10%\n",
    "\n",
    "Затем вычислим для этого распределения кумулятивную функцию распределения.\n",
    "Используя кумулятивную функцию, определим, сколько отправок надо сделать, чтобы с вероятностью более 95% получить желаемый результат.\n",
    "После этого вычислим необходимый объем рассылки умножив целевое количество продлений на количество отправок."
   ]
  },
  {
   "cell_type": "code",
   "execution_count": 59,
   "id": "cc7af544",
   "metadata": {},
   "outputs": [
    {
     "data": {
      "image/png": "[encoded data removed]",
      "text/plain": [
       "<Figure size 432x288 with 1 Axes>"
      ]
     },
     "metadata": {
      "needs_background": "light"
     },
     "output_type": "display_data"
    }
   ],
   "source": [
    "#зададим параметры распределения\n",
    "n = 20\n",
    "p = 0.1\n",
    "#создадим объект Series для распределения и заполним его данными\n",
    "distr = pd.Series(dtype='float32', index=[0])\n",
    "for k in range(0, n + 1):\n",
    "    distr[k] = binom.pmf(k, n, p)\n",
    "#отобразим распределение на графике\n",
    "distr.plot(xlabel='Кол-во промокодов', ylabel='Вероятность продления', kind='bar')\n",
    "plt.title('Распределение вероятности продления подписки получателями промокодов')\n",
    "plt.show()"
   ]
  },
  {
   "cell_type": "code",
   "execution_count": 60,
   "id": "f9cfc8e0",
   "metadata": {
    "scrolled": true
   },
   "outputs": [
    {
     "data": {
      "image/png": "[encoded data removed]",
      "text/plain": [
       "<Figure size 432x288 with 1 Axes>"
      ]
     },
     "metadata": {
      "needs_background": "light"
     },
     "output_type": "display_data"
    }
   ],
   "source": [
    "#построим кумулятивную функцию для этого распределения\n",
    "cdf = pd.Series(dtype='float32', index=[0])\n",
    "cdf[0] = distr[0]\n",
    "for pos in distr.index[1:]:\n",
    "    cdf[pos] = cdf[(pos-1)] + distr[pos]\n",
    "            \n",
    "cdf.plot(xlabel='Количество промокодов', ylabel='Вероятность одной подписки')\n",
    "plt.title('Кумулятивная функция распределения')\n",
    "plt.show()"
   ]
  },
  {
   "cell_type": "code",
   "execution_count": 61,
   "id": "8b212aa1",
   "metadata": {
    "scrolled": true
   },
   "outputs": [
    {
     "name": "stdout",
     "output_type": "stream",
     "text": [
      "Для выполнения плана по подпискам с вероятностью 95% надо разослать минимум 400 промокодов\n"
     ]
    }
   ],
   "source": [
    "#вычислим сколько отправок надо сделать для достижения результата с вероятностью 95% и более\n",
    "attempts = cdf.index[cdf >= 0.95].min()\n",
    "#вычислим целевой объем рассылки промокодов\n",
    "print('Для выполнения плана по подпискам с вероятностью 95% надо разослать минимум', attempts*100, 'промокодов')"
   ]
  },
  {
   "cell_type": "code",
   "execution_count": 62,
   "id": "07291059",
   "metadata": {},
   "outputs": [
    {
     "name": "stdout",
     "output_type": "stream",
     "text": [
      "Для выполнения плана по подпискам с вероятностью 95% надо разослать минимум 859 промокодов\n"
     ]
    }
   ],
   "source": [
    "#код согласно рекомендации\n",
    "p=0.1\n",
    "k=100\n",
    "\n",
    "for n in range(1, 1500):\n",
    "    if (1 - binom.cdf(k,n,p)) > 0.05:\n",
    "        print ('Для выполнения плана по подпискам с вероятностью 95% надо разослать минимум', n, 'промокодов')\n",
    "        break"
   ]
  },
  {
   "cell_type": "code",
   "execution_count": 63,
   "id": "58d17856",
   "metadata": {},
   "outputs": [
    {
     "name": "stdout",
     "output_type": "stream",
     "text": [
      "Минимальное количество промокодов: 1161\n",
      "Вероятность не выполнить план при таком количестве промокодов: 4.976%\n"
     ]
    }
   ],
   "source": [
    "# Код ревьюера\n",
    "\n",
    "target_clients = 100  # Целевое количество клиентов для продления подписки\n",
    "p_renewal = 0.1       # Вероятность продления подписки\n",
    "\n",
    "# Подбор значения параметра n\n",
    "n = 1\n",
    "while binom.cdf(target_clients - 1, n, p_renewal) > 0.05:\n",
    "    n += 1\n",
    "\n",
    "# Вывод \n",
    "print(f\"Минимальное количество промокодов: {n}\")\n",
    "print(f\"Вероятность не выполнить план при таком количестве промокодов: {binom.cdf(target_clients - 1, n, p_renewal):.3%}\")"
   ]
  },
  {
   "cell_type": "code",
   "execution_count": 64,
   "id": "654d801a",
   "metadata": {},
   "outputs": [
    {
     "name": "stdout",
     "output_type": "stream",
     "text": [
      "Для выполнения плана по подпискам с вероятностью 95% надо разослать минимум 1172 промокодов\n",
      "Вероятность не выполнить план при таком количестве промокодов: 4.955%\n"
     ]
    }
   ],
   "source": [
    "#код согласно рекомендации\n",
    "p=0.1\n",
    "k=100\n",
    "\n",
    "for n in range(1, 1500):\n",
    "    if binom.cdf(k,n,p) < 0.05:\n",
    "        print ('Для выполнения плана по подпискам с вероятностью 95% надо разослать минимум', n, 'промокодов')\n",
    "        print (f'Вероятность не выполнить план при таком количестве промокодов: {binom.cdf(k,n,p):.3%}')\n",
    "        break"
   ]
  },
  {
   "cell_type": "markdown",
   "id": "e0787be2",
   "metadata": {},
   "source": [
    "**Отправка push-уведомлений**\n",
    "\n",
    "Известно, что уведомления открывают около 40 % получивших клиентов. Отдел планирует разослать 1 млн уведомлений. Необходимо оценить вероятность того, что уведомление откроют не более 399,5 тыс. пользователей.\n",
    "\n",
    "Для решения этой задачи построим нормальное распределение с параметрами:\n",
    "- n = 1 000 000\n",
    "- p = 0.4\n",
    "Затем с помощью метода cdf() вычислим накопленную вероятность искомого значения"
   ]
  },
  {
   "cell_type": "code",
   "execution_count": 65,
   "id": "14406da6",
   "metadata": {},
   "outputs": [
    {
     "name": "stdout",
     "output_type": "stream",
     "text": [
      "Вероятность того, что уведомление откроют не более 399,5 тыс. пользователей, составляет 15.37%\n"
     ]
    }
   ],
   "source": [
    "#зададим параметры биномиального распределения\n",
    "n = 1000000\n",
    "p = 0.4\n",
    "#вычислим параметры и построим нормальное распределение\n",
    "mu = n * p\n",
    "sigma = (n * p * (1 - p))**0.5\n",
    "distr = st.norm(mu, sigma)\n",
    "#вычислим вероятность искомого события\n",
    "result = distr.cdf(399500)\n",
    "print('Вероятность того, что уведомление откроют не более 399,5 тыс. пользователей, составляет {:.2%}'.format(result))"
   ]
  },
  {
   "cell_type": "markdown",
   "id": "64d74da4",
   "metadata": {},
   "source": [
    "**Итоговый вывод** по результатам анализа данных сервиса проката самокатов GoFast.\n",
    "\n",
    "***Наблюдения***\n",
    "\n",
    "Состояние данных:\n",
    "* все данные хорошего качества, без пропусков, формат данных приемлемый\n",
    "* имеется небольшое количество дубликатов в справочнике пользователей\n",
    "* данные содержат небольшой набор записей с близкой к нулю длительностью и пробегом свыше 4 км за сессию. Судя по всему, такие данные вызваны какой-то технической ошибкой, с которой следует разобраться\n",
    "\n",
    "В процессе исследовательского анализа данных мы выявили следующее:\n",
    "* Количество клиентов по городам распределено достаточно равномерно. При этом можно сказать, что в Пятигорске GoFast удалось получить большую долю рынка, чем в Москве.\n",
    "* Пользователей с бесплатным тарифом ожидаемо больше, но тем не менее почти половина пользователей приобрели подписку. Это говорит о том, что тарифный план подписки Ultra оценивается пользователями как выгодный.\n",
    "* Пользователи по возрасту распределены нормально, большая часть пользователей в возрасте около 25 лет. Выбросы за пределами полуторных межквартальных отклонений отсутствуют. Это говорит о том, что данные о возрасте пользователей можно считать достоверными.\n",
    "* Информация о типовом пробеге за одну поездку также показывает близкое к нормальному распределение в двух группах поездок:\n",
    "    - до 1500 метров\n",
    "    - свыше 1500 метров\n",
    "\n",
    "* Продолжительность поездок распределена нормально, с типовым значением в районе 18 минут.\n",
    "\n",
    "\n",
    "При раздельном анализе данных по пользователям с разными типами подписки мы наблюдаем следующее:\n",
    "* Распределение расстояния поездок у пользователей с подпиской имеет меньшую величину стандартного отклонения, чем у разовых клиентов. Это позволяет предположить, что подписчики сервиса ездят в основном по одинаковым для себя маршрутам, в то время как разнообразие маршрутов разовых клиентов гораздо шире.\n",
    "* Распределение длительности поездок демонстрирует схожую картину у пользователей с разными типами подписки, что вкупе с сильным разбросом пробега за поездку говорит о том, что средняя скорость у клиентов на бесплатном плане также сильно вирьируется.\n",
    "* Количество поездок пользователей без подписки почти вдвое превышает количество поездок подписчиков. При этом мы помним, что количество клиентов с подпиской и без почти одинаково, с преимуществом в районе 8% у пользователей без подписки. Это говорит о том, что разовые пользователи совершают больше поездок за аналогичный период.\n",
    "* Продолжительность поездок у пользователей с подпиской и без примерно одинакова.\n",
    "\n",
    "В процессе проверки гипотез мы обнаружили такие моменты:\n",
    "* продолжительность поездок подписчиков с высокой вероятностью будет выше средней длительности поездок разовых клиентов\n",
    "* пользователи с подпиской в среднем проезжают меньше 3130 метров, что соответствует рекомендуемым параметрам эксплуатации оборудования\n",
    "* помесячная выручка подписчиков с высокой вероятностью будет выше ежемесячной выручки разовых клиентов\n",
    "\n",
    "\n",
    "**На основе произведенных наблюдений можно сделать следующие выводы:**\n",
    "1. Несмотря на то, что пользователей без подписки больше по количеству, они совершают больше поездок, демонстрируют экономически иррациональное поведение и приносят в своей совокупности больший объем выручки, статистический анализ показывает, что помесячная выручка подписчиков с высокой вероятностью будет выше ежемесячной выручки разовых клиентов.\n",
    "2. Таким образом, можно утверждать о том, что пользователи с подпиской являются более выгодными для компании.\n",
    "3. При этом, способность приносить больше выручки не вызывается самим фактом подписки, поскольку поведение разовых клиентов иррационально, и если их перевести на подписку, то выручка просто уменьшится.\n",
    "\n",
    "**Рекомендации**\n",
    "\n",
    "1. Компании следует подробнее изучить потреты пользователей с подпиской, чтобы привлекать больше клиентов из этой целевой аудитории.\n",
    "2. Активное продвижение подписки среди разовых пользователей сервиса может оказаться вредным, поскольку, при их иррациональном поведении, если они перейдут на подписку, то будут просто меньше платить за пользование сервисом, что может негативно сказаться на общей выручке.\n",
    "3. При этом, отсутствие продвижения подписки не отпугнет пользователей нашей целевой аудитории, потому что они сами заинтересованы изыскать способ для оптимизации своих затрат."
   ]
  }
 ],
 "metadata": {
  "ExecuteTimeLog": [
   {
    "duration": 471,
    "start_time": "2024-11-20T13:01:57.048Z"
   },
   {
    "duration": 45,
    "start_time": "2024-11-20T13:02:08.297Z"
   },
   {
    "duration": 36,
    "start_time": "2024-11-20T13:02:27.856Z"
   },
   {
    "duration": 34,
    "start_time": "2024-11-20T13:03:05.975Z"
   },
   {
    "duration": 149,
    "start_time": "2024-11-20T13:04:00.910Z"
   },
   {
    "duration": 44,
    "start_time": "2024-11-20T13:04:12.136Z"
   },
   {
    "duration": 67,
    "start_time": "2024-11-20T13:05:06.973Z"
   },
   {
    "duration": 80,
    "start_time": "2024-11-20T13:05:18.244Z"
   },
   {
    "duration": 32,
    "start_time": "2024-11-20T13:06:16.811Z"
   },
   {
    "duration": 55,
    "start_time": "2024-11-20T13:07:45.003Z"
   },
   {
    "duration": 41,
    "start_time": "2024-11-20T13:08:08.552Z"
   },
   {
    "duration": 37,
    "start_time": "2024-11-20T13:08:32.192Z"
   },
   {
    "duration": 70,
    "start_time": "2024-11-20T13:12:13.476Z"
   },
   {
    "duration": 65,
    "start_time": "2024-11-20T13:13:35.377Z"
   },
   {
    "duration": 545,
    "start_time": "2024-11-20T13:13:50.969Z"
   },
   {
    "duration": 8,
    "start_time": "2024-11-20T13:14:24.712Z"
   },
   {
    "duration": 52,
    "start_time": "2024-11-20T13:14:45.671Z"
   },
   {
    "duration": 14,
    "start_time": "2024-11-20T13:15:25.687Z"
   },
   {
    "duration": 7,
    "start_time": "2024-11-20T13:17:58.036Z"
   },
   {
    "duration": 11,
    "start_time": "2024-11-20T13:18:10.715Z"
   },
   {
    "duration": 5,
    "start_time": "2024-11-20T13:18:40.843Z"
   },
   {
    "duration": 7,
    "start_time": "2024-11-20T13:19:28.800Z"
   },
   {
    "duration": 5,
    "start_time": "2024-11-20T13:19:37.898Z"
   },
   {
    "duration": 10,
    "start_time": "2024-11-20T13:21:04.057Z"
   },
   {
    "duration": 9,
    "start_time": "2024-11-20T13:22:39.870Z"
   },
   {
    "duration": 7,
    "start_time": "2024-11-20T13:22:57.277Z"
   },
   {
    "duration": 15,
    "start_time": "2024-11-20T13:24:45.346Z"
   },
   {
    "duration": 5,
    "start_time": "2024-11-20T13:26:35.617Z"
   },
   {
    "duration": 5,
    "start_time": "2024-11-20T13:26:55.128Z"
   },
   {
    "duration": 7,
    "start_time": "2024-11-20T13:27:28.887Z"
   },
   {
    "duration": 6,
    "start_time": "2024-11-20T13:27:38.335Z"
   },
   {
    "duration": 3,
    "start_time": "2024-11-20T13:33:51.431Z"
   },
   {
    "duration": 19,
    "start_time": "2024-11-20T13:34:03.021Z"
   },
   {
    "duration": 9,
    "start_time": "2024-11-20T13:34:14.270Z"
   },
   {
    "duration": 9,
    "start_time": "2024-11-20T13:34:45.125Z"
   },
   {
    "duration": 6,
    "start_time": "2024-11-20T13:35:30.341Z"
   },
   {
    "duration": 7,
    "start_time": "2024-11-20T13:36:57.690Z"
   },
   {
    "duration": 3,
    "start_time": "2024-11-20T13:51:12.776Z"
   },
   {
    "duration": 40,
    "start_time": "2024-11-20T13:51:15.592Z"
   },
   {
    "duration": 36,
    "start_time": "2024-11-20T13:52:20.591Z"
   },
   {
    "duration": 1933,
    "start_time": "2024-11-20T13:59:43.022Z"
   },
   {
    "duration": 1152,
    "start_time": "2024-11-20T14:06:23.888Z"
   },
   {
    "duration": 6,
    "start_time": "2024-11-20T14:07:27.764Z"
   },
   {
    "duration": 4,
    "start_time": "2024-11-20T14:07:58.986Z"
   },
   {
    "duration": 15,
    "start_time": "2024-11-20T14:09:51.067Z"
   },
   {
    "duration": 570,
    "start_time": "2024-11-20T14:30:23.054Z"
   },
   {
    "duration": 135,
    "start_time": "2024-11-20T14:30:40.885Z"
   },
   {
    "duration": 3,
    "start_time": "2024-11-20T14:35:43.126Z"
   },
   {
    "duration": 207,
    "start_time": "2024-11-20T14:35:59.632Z"
   },
   {
    "duration": 18,
    "start_time": "2024-11-20T14:43:09.069Z"
   },
   {
    "duration": 91,
    "start_time": "2024-11-20T14:44:32.980Z"
   },
   {
    "duration": 77,
    "start_time": "2024-11-20T14:45:53.569Z"
   },
   {
    "duration": 262,
    "start_time": "2024-11-20T14:55:32.972Z"
   },
   {
    "duration": 132,
    "start_time": "2024-11-20T14:56:44.387Z"
   },
   {
    "duration": 121,
    "start_time": "2024-11-20T14:57:30.530Z"
   },
   {
    "duration": 75,
    "start_time": "2024-11-20T14:58:18.920Z"
   },
   {
    "duration": 156,
    "start_time": "2024-11-20T14:58:30.008Z"
   },
   {
    "duration": 131,
    "start_time": "2024-11-20T15:00:38.255Z"
   },
   {
    "duration": 134,
    "start_time": "2024-11-20T15:02:11.477Z"
   },
   {
    "duration": 257,
    "start_time": "2024-11-20T15:03:27.426Z"
   },
   {
    "duration": 754,
    "start_time": "2024-11-20T15:03:39.618Z"
   },
   {
    "duration": 259,
    "start_time": "2024-11-20T15:03:48.161Z"
   },
   {
    "duration": 827,
    "start_time": "2024-11-20T15:04:20.178Z"
   },
   {
    "duration": 212,
    "start_time": "2024-11-20T15:04:26.776Z"
   },
   {
    "duration": 259,
    "start_time": "2024-11-20T15:04:34.648Z"
   },
   {
    "duration": 816,
    "start_time": "2024-11-20T15:05:25.352Z"
   },
   {
    "duration": 7,
    "start_time": "2024-11-20T15:12:31.128Z"
   },
   {
    "duration": 6,
    "start_time": "2024-11-20T15:13:12.605Z"
   },
   {
    "duration": 714,
    "start_time": "2024-11-20T15:20:28.358Z"
   },
   {
    "duration": 150,
    "start_time": "2024-11-20T15:20:39.078Z"
   },
   {
    "duration": 328,
    "start_time": "2024-11-20T15:20:45.972Z"
   },
   {
    "duration": 165,
    "start_time": "2024-11-20T15:20:53.100Z"
   },
   {
    "duration": 149,
    "start_time": "2024-11-20T15:21:53.899Z"
   },
   {
    "duration": 148,
    "start_time": "2024-11-20T15:22:00.690Z"
   },
   {
    "duration": 173,
    "start_time": "2024-11-20T15:25:21.511Z"
   },
   {
    "duration": 70,
    "start_time": "2024-11-20T15:28:56.083Z"
   },
   {
    "duration": 63,
    "start_time": "2024-11-20T15:29:06.250Z"
   },
   {
    "duration": 180,
    "start_time": "2024-11-20T15:29:18.937Z"
   },
   {
    "duration": 228,
    "start_time": "2024-11-20T15:29:27.507Z"
   },
   {
    "duration": 189,
    "start_time": "2024-11-20T15:29:47.240Z"
   },
   {
    "duration": 176,
    "start_time": "2024-11-20T15:34:57.850Z"
   },
   {
    "duration": 13,
    "start_time": "2024-11-20T15:42:26.241Z"
   },
   {
    "duration": 10,
    "start_time": "2024-11-20T15:43:03.216Z"
   },
   {
    "duration": 11,
    "start_time": "2024-11-20T15:44:01.622Z"
   },
   {
    "duration": 134,
    "start_time": "2024-11-20T15:45:13.740Z"
   },
   {
    "duration": 169,
    "start_time": "2024-11-20T15:46:05.651Z"
   },
   {
    "duration": 673,
    "start_time": "2024-11-20T15:46:52.795Z"
   },
   {
    "duration": 155,
    "start_time": "2024-11-20T15:47:23.683Z"
   },
   {
    "duration": 162,
    "start_time": "2024-11-20T15:47:48.138Z"
   },
   {
    "duration": 10,
    "start_time": "2024-11-20T15:48:16.769Z"
   },
   {
    "duration": 19,
    "start_time": "2024-11-20T15:54:22.680Z"
   },
   {
    "duration": 6,
    "start_time": "2024-11-20T15:56:33.462Z"
   },
   {
    "duration": 9,
    "start_time": "2024-11-20T16:03:24.445Z"
   },
   {
    "duration": 5,
    "start_time": "2024-11-20T16:05:03.585Z"
   },
   {
    "duration": 303,
    "start_time": "2024-11-20T16:05:45.770Z"
   },
   {
    "duration": 207,
    "start_time": "2024-11-20T16:07:03.448Z"
   },
   {
    "duration": 124,
    "start_time": "2024-11-20T16:07:09.919Z"
   },
   {
    "duration": 228,
    "start_time": "2024-11-20T16:07:23.737Z"
   },
   {
    "duration": 313,
    "start_time": "2024-11-20T16:07:32.201Z"
   },
   {
    "duration": 232,
    "start_time": "2024-11-20T16:07:38.359Z"
   },
   {
    "duration": 282,
    "start_time": "2024-11-20T16:07:44.136Z"
   },
   {
    "duration": 235,
    "start_time": "2024-11-20T16:08:55.079Z"
   },
   {
    "duration": 242,
    "start_time": "2024-11-20T16:09:42.900Z"
   },
   {
    "duration": 15,
    "start_time": "2024-11-20T16:17:07.371Z"
   },
   {
    "duration": 219,
    "start_time": "2024-11-20T16:17:17.858Z"
   },
   {
    "duration": 190,
    "start_time": "2024-11-20T16:18:30.730Z"
   },
   {
    "duration": 193,
    "start_time": "2024-11-20T16:19:32.166Z"
   },
   {
    "duration": 22,
    "start_time": "2024-11-21T06:03:00.281Z"
   },
   {
    "duration": 18,
    "start_time": "2024-11-21T06:04:38.230Z"
   },
   {
    "duration": 19,
    "start_time": "2024-11-21T06:07:16.882Z"
   },
   {
    "duration": 22,
    "start_time": "2024-11-21T06:08:01.561Z"
   },
   {
    "duration": 4,
    "start_time": "2024-11-21T06:09:17.376Z"
   },
   {
    "duration": 173,
    "start_time": "2024-11-21T06:11:13.615Z"
   },
   {
    "duration": 164,
    "start_time": "2024-11-21T06:12:05.523Z"
   },
   {
    "duration": 162,
    "start_time": "2024-11-21T06:12:43.930Z"
   },
   {
    "duration": 180,
    "start_time": "2024-11-21T06:12:49.972Z"
   },
   {
    "duration": 171,
    "start_time": "2024-11-21T06:13:05.121Z"
   },
   {
    "duration": 301,
    "start_time": "2024-11-21T06:17:56.148Z"
   },
   {
    "duration": 73,
    "start_time": "2024-11-21T06:29:58.469Z"
   },
   {
    "duration": 17,
    "start_time": "2024-11-21T06:30:17.853Z"
   },
   {
    "duration": 18,
    "start_time": "2024-11-21T06:30:41.821Z"
   },
   {
    "duration": 34,
    "start_time": "2024-11-21T06:33:32.675Z"
   },
   {
    "duration": 1107,
    "start_time": "2024-11-21T06:37:11.867Z"
   },
   {
    "duration": 22,
    "start_time": "2024-11-21T06:38:14.555Z"
   },
   {
    "duration": 20,
    "start_time": "2024-11-21T06:39:54.737Z"
   },
   {
    "duration": 14,
    "start_time": "2024-11-21T06:44:31.549Z"
   },
   {
    "duration": 19,
    "start_time": "2024-11-21T06:44:51.334Z"
   },
   {
    "duration": 10,
    "start_time": "2024-11-21T07:05:18.769Z"
   },
   {
    "duration": 17,
    "start_time": "2024-11-21T07:09:43.225Z"
   },
   {
    "duration": 14,
    "start_time": "2024-11-21T07:10:01.314Z"
   },
   {
    "duration": 10,
    "start_time": "2024-11-21T07:10:36.865Z"
   },
   {
    "duration": 13,
    "start_time": "2024-11-21T07:10:58.665Z"
   },
   {
    "duration": 78,
    "start_time": "2024-11-21T07:16:19.114Z"
   },
   {
    "duration": 65,
    "start_time": "2024-11-21T07:16:31.985Z"
   },
   {
    "duration": 324,
    "start_time": "2024-11-21T07:18:18.055Z"
   },
   {
    "duration": 313,
    "start_time": "2024-11-21T07:18:43.644Z"
   },
   {
    "duration": 313,
    "start_time": "2024-11-21T07:19:29.774Z"
   },
   {
    "duration": 191,
    "start_time": "2024-11-21T07:20:30.645Z"
   },
   {
    "duration": 174,
    "start_time": "2024-11-21T07:20:50.827Z"
   },
   {
    "duration": 670,
    "start_time": "2024-11-21T07:21:27.129Z"
   },
   {
    "duration": 49,
    "start_time": "2024-11-21T07:21:27.802Z"
   },
   {
    "duration": 42,
    "start_time": "2024-11-21T07:21:27.852Z"
   },
   {
    "duration": 35,
    "start_time": "2024-11-21T07:21:27.896Z"
   },
   {
    "duration": 6,
    "start_time": "2024-11-21T07:21:27.935Z"
   },
   {
    "duration": 9,
    "start_time": "2024-11-21T07:21:27.942Z"
   },
   {
    "duration": 14,
    "start_time": "2024-11-21T07:21:27.952Z"
   },
   {
    "duration": 5,
    "start_time": "2024-11-21T07:21:27.968Z"
   },
   {
    "duration": 9,
    "start_time": "2024-11-21T07:21:27.975Z"
   },
   {
    "duration": 45,
    "start_time": "2024-11-21T07:21:27.987Z"
   },
   {
    "duration": 11,
    "start_time": "2024-11-21T07:21:28.033Z"
   },
   {
    "duration": 162,
    "start_time": "2024-11-21T07:21:28.045Z"
   },
   {
    "duration": 94,
    "start_time": "2024-11-21T07:21:28.209Z"
   },
   {
    "duration": 172,
    "start_time": "2024-11-21T07:21:28.305Z"
   },
   {
    "duration": 183,
    "start_time": "2024-11-21T07:21:28.479Z"
   },
   {
    "duration": 6,
    "start_time": "2024-11-21T07:21:28.664Z"
   },
   {
    "duration": 11,
    "start_time": "2024-11-21T07:21:28.671Z"
   },
   {
    "duration": 216,
    "start_time": "2024-11-21T07:21:28.683Z"
   },
   {
    "duration": 176,
    "start_time": "2024-11-21T07:21:28.901Z"
   },
   {
    "duration": 6,
    "start_time": "2024-11-21T07:21:29.079Z"
   },
   {
    "duration": 13,
    "start_time": "2024-11-21T07:21:29.086Z"
   },
   {
    "duration": 246,
    "start_time": "2024-11-21T07:21:29.101Z"
   },
   {
    "duration": 16,
    "start_time": "2024-11-21T07:21:29.349Z"
   },
   {
    "duration": 68,
    "start_time": "2024-11-21T07:21:29.367Z"
   },
   {
    "duration": 16,
    "start_time": "2024-11-21T07:21:29.437Z"
   },
   {
    "duration": 14,
    "start_time": "2024-11-21T07:21:29.455Z"
   },
   {
    "duration": 4,
    "start_time": "2024-11-21T07:21:29.470Z"
   },
   {
    "duration": 194,
    "start_time": "2024-11-21T07:21:29.476Z"
   },
   {
    "duration": 212,
    "start_time": "2024-11-21T07:21:29.671Z"
   },
   {
    "duration": 20,
    "start_time": "2024-11-21T07:21:29.884Z"
   },
   {
    "duration": 10,
    "start_time": "2024-11-21T07:21:29.922Z"
   },
   {
    "duration": 234,
    "start_time": "2024-11-21T07:21:29.934Z"
   },
   {
    "duration": 672,
    "start_time": "2024-11-21T07:29:39.689Z"
   },
   {
    "duration": 45,
    "start_time": "2024-11-21T07:29:40.363Z"
   },
   {
    "duration": 49,
    "start_time": "2024-11-21T07:29:40.409Z"
   },
   {
    "duration": 30,
    "start_time": "2024-11-21T07:29:40.460Z"
   },
   {
    "duration": 5,
    "start_time": "2024-11-21T07:29:40.493Z"
   },
   {
    "duration": 19,
    "start_time": "2024-11-21T07:29:40.499Z"
   },
   {
    "duration": 10,
    "start_time": "2024-11-21T07:29:52.184Z"
   },
   {
    "duration": 5,
    "start_time": "2024-11-21T07:30:15.607Z"
   },
   {
    "duration": 14,
    "start_time": "2024-11-21T07:30:18.872Z"
   },
   {
    "duration": 3,
    "start_time": "2024-11-21T07:30:38.242Z"
   },
   {
    "duration": 53,
    "start_time": "2024-11-21T07:30:38.248Z"
   },
   {
    "duration": 42,
    "start_time": "2024-11-21T07:30:38.303Z"
   },
   {
    "duration": 26,
    "start_time": "2024-11-21T07:30:38.347Z"
   },
   {
    "duration": 5,
    "start_time": "2024-11-21T07:30:38.375Z"
   },
   {
    "duration": 11,
    "start_time": "2024-11-21T07:30:38.381Z"
   },
   {
    "duration": 25,
    "start_time": "2024-11-21T07:30:38.394Z"
   },
   {
    "duration": 6,
    "start_time": "2024-11-21T07:30:38.421Z"
   },
   {
    "duration": 15,
    "start_time": "2024-11-21T07:30:38.428Z"
   },
   {
    "duration": 15,
    "start_time": "2024-11-21T07:30:38.445Z"
   },
   {
    "duration": 9,
    "start_time": "2024-11-21T07:30:38.462Z"
   },
   {
    "duration": 192,
    "start_time": "2024-11-21T07:30:38.472Z"
   },
   {
    "duration": 77,
    "start_time": "2024-11-21T07:30:38.665Z"
   },
   {
    "duration": 176,
    "start_time": "2024-11-21T07:30:38.745Z"
   },
   {
    "duration": 186,
    "start_time": "2024-11-21T07:30:38.923Z"
   },
   {
    "duration": 11,
    "start_time": "2024-11-21T07:30:39.111Z"
   },
   {
    "duration": 16,
    "start_time": "2024-11-21T07:30:39.124Z"
   },
   {
    "duration": 231,
    "start_time": "2024-11-21T07:30:39.142Z"
   },
   {
    "duration": 180,
    "start_time": "2024-11-21T07:30:39.374Z"
   },
   {
    "duration": 7,
    "start_time": "2024-11-21T07:30:39.555Z"
   },
   {
    "duration": 6,
    "start_time": "2024-11-21T07:30:39.564Z"
   },
   {
    "duration": 244,
    "start_time": "2024-11-21T07:30:39.571Z"
   },
   {
    "duration": 18,
    "start_time": "2024-11-21T07:30:39.817Z"
   },
   {
    "duration": 17,
    "start_time": "2024-11-21T07:30:39.836Z"
   },
   {
    "duration": 16,
    "start_time": "2024-11-21T07:30:39.855Z"
   },
   {
    "duration": 46,
    "start_time": "2024-11-21T07:30:39.873Z"
   },
   {
    "duration": 3,
    "start_time": "2024-11-21T07:30:39.921Z"
   },
   {
    "duration": 175,
    "start_time": "2024-11-21T07:30:39.925Z"
   },
   {
    "duration": 201,
    "start_time": "2024-11-21T07:30:40.102Z"
   },
   {
    "duration": 34,
    "start_time": "2024-11-21T07:30:40.305Z"
   },
   {
    "duration": 11,
    "start_time": "2024-11-21T07:30:40.341Z"
   },
   {
    "duration": 185,
    "start_time": "2024-11-21T07:30:44.482Z"
   },
   {
    "duration": 216,
    "start_time": "2024-11-21T07:33:51.819Z"
   },
   {
    "duration": 186,
    "start_time": "2024-11-21T07:34:56.873Z"
   },
   {
    "duration": 199,
    "start_time": "2024-11-21T07:35:16.585Z"
   },
   {
    "duration": 36,
    "start_time": "2024-11-21T07:37:34.822Z"
   },
   {
    "duration": 1217,
    "start_time": "2024-11-21T07:38:46.774Z"
   },
   {
    "duration": 738,
    "start_time": "2024-11-21T07:39:52.215Z"
   },
   {
    "duration": 49,
    "start_time": "2024-11-21T07:39:52.955Z"
   },
   {
    "duration": 65,
    "start_time": "2024-11-21T07:39:53.006Z"
   },
   {
    "duration": 33,
    "start_time": "2024-11-21T07:39:53.073Z"
   },
   {
    "duration": 7,
    "start_time": "2024-11-21T07:39:53.110Z"
   },
   {
    "duration": 54,
    "start_time": "2024-11-21T07:39:53.126Z"
   },
   {
    "duration": 12,
    "start_time": "2024-11-21T07:39:53.183Z"
   },
   {
    "duration": 6,
    "start_time": "2024-11-21T07:39:53.197Z"
   },
   {
    "duration": 38,
    "start_time": "2024-11-21T07:39:53.205Z"
   },
   {
    "duration": 24,
    "start_time": "2024-11-21T07:39:53.244Z"
   },
   {
    "duration": 9,
    "start_time": "2024-11-21T07:39:53.270Z"
   },
   {
    "duration": 166,
    "start_time": "2024-11-21T07:39:53.281Z"
   },
   {
    "duration": 87,
    "start_time": "2024-11-21T07:39:53.449Z"
   },
   {
    "duration": 167,
    "start_time": "2024-11-21T07:39:53.539Z"
   },
   {
    "duration": 227,
    "start_time": "2024-11-21T07:39:53.708Z"
   },
   {
    "duration": 6,
    "start_time": "2024-11-21T07:39:53.937Z"
   },
   {
    "duration": 18,
    "start_time": "2024-11-21T07:39:53.945Z"
   },
   {
    "duration": 224,
    "start_time": "2024-11-21T07:39:53.964Z"
   },
   {
    "duration": 193,
    "start_time": "2024-11-21T07:39:54.189Z"
   },
   {
    "duration": 7,
    "start_time": "2024-11-21T07:39:54.383Z"
   },
   {
    "duration": 33,
    "start_time": "2024-11-21T07:39:54.393Z"
   },
   {
    "duration": 250,
    "start_time": "2024-11-21T07:39:54.429Z"
   },
   {
    "duration": 24,
    "start_time": "2024-11-21T07:39:54.681Z"
   },
   {
    "duration": 24,
    "start_time": "2024-11-21T07:39:54.707Z"
   },
   {
    "duration": 23,
    "start_time": "2024-11-21T07:39:54.734Z"
   },
   {
    "duration": 19,
    "start_time": "2024-11-21T07:39:54.759Z"
   },
   {
    "duration": 10,
    "start_time": "2024-11-21T07:39:54.780Z"
   },
   {
    "duration": 183,
    "start_time": "2024-11-21T07:39:54.792Z"
   },
   {
    "duration": 192,
    "start_time": "2024-11-21T07:39:54.977Z"
   },
   {
    "duration": 26,
    "start_time": "2024-11-21T07:39:55.171Z"
   },
   {
    "duration": 34,
    "start_time": "2024-11-21T07:39:55.199Z"
   },
   {
    "duration": 220,
    "start_time": "2024-11-21T07:39:55.235Z"
   },
   {
    "duration": 199,
    "start_time": "2024-11-21T07:40:44.742Z"
   },
   {
    "duration": 194,
    "start_time": "2024-11-21T07:40:58.539Z"
   },
   {
    "duration": 11,
    "start_time": "2024-11-21T07:49:47.431Z"
   },
   {
    "duration": 26,
    "start_time": "2024-11-21T12:58:02.913Z"
   },
   {
    "duration": 80,
    "start_time": "2024-11-21T13:03:28.931Z"
   },
   {
    "duration": 4,
    "start_time": "2024-11-21T13:09:19.851Z"
   },
   {
    "duration": 29,
    "start_time": "2024-11-21T13:09:34.250Z"
   },
   {
    "duration": 31,
    "start_time": "2024-11-21T13:10:58.400Z"
   },
   {
    "duration": 649,
    "start_time": "2024-11-21T13:12:15.587Z"
   },
   {
    "duration": 44,
    "start_time": "2024-11-21T13:12:16.238Z"
   },
   {
    "duration": 45,
    "start_time": "2024-11-21T13:12:16.284Z"
   },
   {
    "duration": 25,
    "start_time": "2024-11-21T13:12:16.331Z"
   },
   {
    "duration": 5,
    "start_time": "2024-11-21T13:12:16.358Z"
   },
   {
    "duration": 15,
    "start_time": "2024-11-21T13:12:16.364Z"
   },
   {
    "duration": 9,
    "start_time": "2024-11-21T13:12:16.380Z"
   },
   {
    "duration": 13,
    "start_time": "2024-11-21T13:12:16.391Z"
   },
   {
    "duration": 26,
    "start_time": "2024-11-21T13:12:16.406Z"
   },
   {
    "duration": 14,
    "start_time": "2024-11-21T13:12:16.434Z"
   },
   {
    "duration": 23,
    "start_time": "2024-11-21T13:12:16.450Z"
   },
   {
    "duration": 177,
    "start_time": "2024-11-21T13:12:16.475Z"
   },
   {
    "duration": 89,
    "start_time": "2024-11-21T13:12:16.654Z"
   },
   {
    "duration": 149,
    "start_time": "2024-11-21T13:12:16.747Z"
   },
   {
    "duration": 206,
    "start_time": "2024-11-21T13:12:16.897Z"
   },
   {
    "duration": 27,
    "start_time": "2024-11-21T13:12:17.105Z"
   },
   {
    "duration": 11,
    "start_time": "2024-11-21T13:12:17.134Z"
   },
   {
    "duration": 220,
    "start_time": "2024-11-21T13:12:17.146Z"
   },
   {
    "duration": 184,
    "start_time": "2024-11-21T13:12:17.368Z"
   },
   {
    "duration": 6,
    "start_time": "2024-11-21T13:12:17.554Z"
   },
   {
    "duration": 18,
    "start_time": "2024-11-21T13:12:17.562Z"
   },
   {
    "duration": 218,
    "start_time": "2024-11-21T13:12:17.581Z"
   },
   {
    "duration": 31,
    "start_time": "2024-11-21T13:12:17.800Z"
   },
   {
    "duration": 17,
    "start_time": "2024-11-21T13:12:17.833Z"
   },
   {
    "duration": 16,
    "start_time": "2024-11-21T13:12:17.851Z"
   },
   {
    "duration": 14,
    "start_time": "2024-11-21T13:12:17.868Z"
   },
   {
    "duration": 3,
    "start_time": "2024-11-21T13:12:17.883Z"
   },
   {
    "duration": 193,
    "start_time": "2024-11-21T13:12:17.888Z"
   },
   {
    "duration": 199,
    "start_time": "2024-11-21T13:12:18.082Z"
   },
   {
    "duration": 47,
    "start_time": "2024-11-21T13:12:18.283Z"
   },
   {
    "duration": 9,
    "start_time": "2024-11-21T13:12:18.332Z"
   },
   {
    "duration": 215,
    "start_time": "2024-11-21T13:12:18.342Z"
   },
   {
    "duration": 435,
    "start_time": "2024-11-21T13:26:22.205Z"
   },
   {
    "duration": 3,
    "start_time": "2024-11-21T13:29:28.450Z"
   },
   {
    "duration": 6,
    "start_time": "2024-11-21T13:29:41.393Z"
   },
   {
    "duration": 6,
    "start_time": "2024-11-21T13:30:16.009Z"
   },
   {
    "duration": 108,
    "start_time": "2024-11-21T13:31:56.279Z"
   },
   {
    "duration": 5,
    "start_time": "2024-11-21T13:32:39.262Z"
   },
   {
    "duration": 4,
    "start_time": "2024-11-21T13:32:54.445Z"
   },
   {
    "duration": 10,
    "start_time": "2024-11-21T13:33:08.556Z"
   },
   {
    "duration": 5,
    "start_time": "2024-11-21T13:35:01.883Z"
   },
   {
    "duration": 6,
    "start_time": "2024-11-21T13:35:53.250Z"
   },
   {
    "duration": 3,
    "start_time": "2024-11-21T13:45:36.734Z"
   },
   {
    "duration": 6,
    "start_time": "2024-11-21T13:46:02.500Z"
   },
   {
    "duration": 6,
    "start_time": "2024-11-21T13:50:14.435Z"
   },
   {
    "duration": 7,
    "start_time": "2024-11-21T13:51:21.501Z"
   },
   {
    "duration": 6,
    "start_time": "2024-11-21T13:52:12.990Z"
   },
   {
    "duration": 3,
    "start_time": "2024-11-21T14:13:18.066Z"
   },
   {
    "duration": 12,
    "start_time": "2024-11-21T14:13:44.594Z"
   },
   {
    "duration": 6,
    "start_time": "2024-11-21T14:16:52.942Z"
   },
   {
    "duration": 5,
    "start_time": "2024-11-21T14:18:23.450Z"
   },
   {
    "duration": 5,
    "start_time": "2024-11-21T14:18:52.008Z"
   },
   {
    "duration": 5,
    "start_time": "2024-11-21T14:19:10.592Z"
   },
   {
    "duration": 7,
    "start_time": "2024-11-21T14:20:25.576Z"
   },
   {
    "duration": 6,
    "start_time": "2024-11-21T14:20:42.198Z"
   },
   {
    "duration": 6,
    "start_time": "2024-11-21T14:20:48.240Z"
   },
   {
    "duration": 33,
    "start_time": "2024-11-21T14:32:03.851Z"
   },
   {
    "duration": 27,
    "start_time": "2024-11-21T14:32:18.016Z"
   },
   {
    "duration": 32,
    "start_time": "2024-11-21T14:33:38.311Z"
   },
   {
    "duration": 6,
    "start_time": "2024-11-21T14:36:41.795Z"
   },
   {
    "duration": 5,
    "start_time": "2024-11-21T14:37:07.969Z"
   },
   {
    "duration": 5,
    "start_time": "2024-11-21T14:37:14.562Z"
   },
   {
    "duration": 31,
    "start_time": "2024-11-21T14:42:13.668Z"
   },
   {
    "duration": 8,
    "start_time": "2024-11-21T14:43:25.297Z"
   },
   {
    "duration": 24,
    "start_time": "2024-11-21T14:44:48.904Z"
   },
   {
    "duration": 27,
    "start_time": "2024-11-21T14:45:19.295Z"
   },
   {
    "duration": 24,
    "start_time": "2024-11-21T14:46:05.431Z"
   },
   {
    "duration": 6,
    "start_time": "2024-11-21T14:46:33.790Z"
   },
   {
    "duration": 6,
    "start_time": "2024-11-21T14:47:46.556Z"
   },
   {
    "duration": 32,
    "start_time": "2024-11-21T14:49:59.313Z"
   },
   {
    "duration": 34,
    "start_time": "2024-11-21T14:50:22.482Z"
   },
   {
    "duration": 23,
    "start_time": "2024-11-21T14:50:57.280Z"
   },
   {
    "duration": 22,
    "start_time": "2024-11-21T14:51:27.175Z"
   },
   {
    "duration": 103,
    "start_time": "2024-11-21T14:51:47.399Z"
   },
   {
    "duration": 22,
    "start_time": "2024-11-21T14:52:16.782Z"
   },
   {
    "duration": 5,
    "start_time": "2024-11-21T14:53:02.670Z"
   },
   {
    "duration": 4,
    "start_time": "2024-11-21T14:53:32.933Z"
   },
   {
    "duration": 4,
    "start_time": "2024-11-21T14:53:41.550Z"
   },
   {
    "duration": 9,
    "start_time": "2024-11-21T14:53:55.225Z"
   },
   {
    "duration": 6,
    "start_time": "2024-11-21T14:55:45.777Z"
   },
   {
    "duration": 5,
    "start_time": "2024-11-21T14:57:54.495Z"
   },
   {
    "duration": 7,
    "start_time": "2024-11-21T15:07:33.329Z"
   },
   {
    "duration": 4,
    "start_time": "2024-11-21T15:08:05.962Z"
   },
   {
    "duration": 5,
    "start_time": "2024-11-21T15:08:19.772Z"
   },
   {
    "duration": 4,
    "start_time": "2024-11-21T15:08:27.953Z"
   },
   {
    "duration": 5,
    "start_time": "2024-11-21T15:09:17.227Z"
   },
   {
    "duration": 5,
    "start_time": "2024-11-21T15:10:06.184Z"
   },
   {
    "duration": 9,
    "start_time": "2024-11-21T15:22:46.806Z"
   },
   {
    "duration": 5,
    "start_time": "2024-11-21T15:23:27.943Z"
   },
   {
    "duration": 5,
    "start_time": "2024-11-21T15:23:36.292Z"
   },
   {
    "duration": 1142,
    "start_time": "2024-11-21T15:25:49.529Z"
   },
   {
    "duration": 56,
    "start_time": "2024-11-21T15:25:50.674Z"
   },
   {
    "duration": 44,
    "start_time": "2024-11-21T15:25:50.731Z"
   },
   {
    "duration": 26,
    "start_time": "2024-11-21T15:25:50.777Z"
   },
   {
    "duration": 5,
    "start_time": "2024-11-21T15:25:50.805Z"
   },
   {
    "duration": 17,
    "start_time": "2024-11-21T15:25:50.820Z"
   },
   {
    "duration": 11,
    "start_time": "2024-11-21T15:25:50.839Z"
   },
   {
    "duration": 4,
    "start_time": "2024-11-21T15:25:50.853Z"
   },
   {
    "duration": 19,
    "start_time": "2024-11-21T15:25:50.859Z"
   },
   {
    "duration": 15,
    "start_time": "2024-11-21T15:25:50.879Z"
   },
   {
    "duration": 36,
    "start_time": "2024-11-21T15:25:50.895Z"
   },
   {
    "duration": 155,
    "start_time": "2024-11-21T15:25:50.932Z"
   },
   {
    "duration": 82,
    "start_time": "2024-11-21T15:25:51.089Z"
   },
   {
    "duration": 168,
    "start_time": "2024-11-21T15:25:51.174Z"
   },
   {
    "duration": 195,
    "start_time": "2024-11-21T15:25:51.344Z"
   },
   {
    "duration": 8,
    "start_time": "2024-11-21T15:25:51.541Z"
   },
   {
    "duration": 12,
    "start_time": "2024-11-21T15:25:51.551Z"
   },
   {
    "duration": 184,
    "start_time": "2024-11-21T15:25:51.564Z"
   },
   {
    "duration": 188,
    "start_time": "2024-11-21T15:25:51.750Z"
   },
   {
    "duration": 6,
    "start_time": "2024-11-21T15:25:51.940Z"
   },
   {
    "duration": 8,
    "start_time": "2024-11-21T15:25:51.947Z"
   },
   {
    "duration": 230,
    "start_time": "2024-11-21T15:25:51.957Z"
   },
   {
    "duration": 17,
    "start_time": "2024-11-21T15:25:52.188Z"
   },
   {
    "duration": 24,
    "start_time": "2024-11-21T15:25:52.207Z"
   },
   {
    "duration": 16,
    "start_time": "2024-11-21T15:25:52.233Z"
   },
   {
    "duration": 14,
    "start_time": "2024-11-21T15:25:52.251Z"
   },
   {
    "duration": 4,
    "start_time": "2024-11-21T15:25:52.266Z"
   },
   {
    "duration": 193,
    "start_time": "2024-11-21T15:25:52.272Z"
   },
   {
    "duration": 196,
    "start_time": "2024-11-21T15:25:52.466Z"
   },
   {
    "duration": 24,
    "start_time": "2024-11-21T15:25:52.664Z"
   },
   {
    "duration": 8,
    "start_time": "2024-11-21T15:25:52.689Z"
   },
   {
    "duration": 308,
    "start_time": "2024-11-21T15:25:52.699Z"
   },
   {
    "duration": 11,
    "start_time": "2024-11-21T15:25:53.009Z"
   },
   {
    "duration": 19,
    "start_time": "2024-11-21T15:25:53.022Z"
   },
   {
    "duration": 45,
    "start_time": "2024-11-21T15:25:53.049Z"
   },
   {
    "duration": 39,
    "start_time": "2024-11-21T15:25:53.095Z"
   },
   {
    "duration": 4,
    "start_time": "2024-11-21T15:25:53.136Z"
   },
   {
    "duration": 22,
    "start_time": "2024-11-21T15:26:39.935Z"
   },
   {
    "duration": 21,
    "start_time": "2024-11-21T15:26:56.345Z"
   },
   {
    "duration": 1206,
    "start_time": "2024-11-21T15:27:30.700Z"
   },
   {
    "duration": 55,
    "start_time": "2024-11-21T15:27:31.908Z"
   },
   {
    "duration": 42,
    "start_time": "2024-11-21T15:27:31.964Z"
   },
   {
    "duration": 36,
    "start_time": "2024-11-21T15:27:32.007Z"
   },
   {
    "duration": 5,
    "start_time": "2024-11-21T15:27:32.045Z"
   },
   {
    "duration": 15,
    "start_time": "2024-11-21T15:27:32.051Z"
   },
   {
    "duration": 22,
    "start_time": "2024-11-21T15:27:32.067Z"
   },
   {
    "duration": 4,
    "start_time": "2024-11-21T15:27:32.091Z"
   },
   {
    "duration": 74,
    "start_time": "2024-11-21T15:27:32.097Z"
   },
   {
    "duration": 25,
    "start_time": "2024-11-21T15:27:32.173Z"
   },
   {
    "duration": 7,
    "start_time": "2024-11-21T15:27:32.200Z"
   },
   {
    "duration": 160,
    "start_time": "2024-11-21T15:27:32.209Z"
   },
   {
    "duration": 95,
    "start_time": "2024-11-21T15:27:32.371Z"
   },
   {
    "duration": 134,
    "start_time": "2024-11-21T15:27:32.469Z"
   },
   {
    "duration": 191,
    "start_time": "2024-11-21T15:27:32.605Z"
   },
   {
    "duration": 6,
    "start_time": "2024-11-21T15:27:32.797Z"
   },
   {
    "duration": 35,
    "start_time": "2024-11-21T15:27:32.805Z"
   },
   {
    "duration": 183,
    "start_time": "2024-11-21T15:27:32.842Z"
   },
   {
    "duration": 192,
    "start_time": "2024-11-21T15:27:33.029Z"
   },
   {
    "duration": 12,
    "start_time": "2024-11-21T15:27:33.224Z"
   },
   {
    "duration": 21,
    "start_time": "2024-11-21T15:27:33.238Z"
   },
   {
    "duration": 242,
    "start_time": "2024-11-21T15:27:33.261Z"
   },
   {
    "duration": 28,
    "start_time": "2024-11-21T15:27:33.505Z"
   },
   {
    "duration": 17,
    "start_time": "2024-11-21T15:27:33.535Z"
   },
   {
    "duration": 35,
    "start_time": "2024-11-21T15:27:33.554Z"
   },
   {
    "duration": 14,
    "start_time": "2024-11-21T15:27:33.591Z"
   },
   {
    "duration": 4,
    "start_time": "2024-11-21T15:27:33.606Z"
   },
   {
    "duration": 183,
    "start_time": "2024-11-21T15:27:33.618Z"
   },
   {
    "duration": 198,
    "start_time": "2024-11-21T15:27:33.803Z"
   },
   {
    "duration": 30,
    "start_time": "2024-11-21T15:27:34.003Z"
   },
   {
    "duration": 8,
    "start_time": "2024-11-21T15:27:34.035Z"
   },
   {
    "duration": 279,
    "start_time": "2024-11-21T15:27:34.044Z"
   },
   {
    "duration": 8,
    "start_time": "2024-11-21T15:27:34.326Z"
   },
   {
    "duration": 5,
    "start_time": "2024-11-21T15:27:34.335Z"
   },
   {
    "duration": 14,
    "start_time": "2024-11-21T15:27:34.341Z"
   },
   {
    "duration": 24,
    "start_time": "2024-11-21T15:27:34.356Z"
   },
   {
    "duration": 4,
    "start_time": "2024-11-21T15:27:34.381Z"
   },
   {
    "duration": 4,
    "start_time": "2024-11-22T05:53:18.798Z"
   },
   {
    "duration": 1429,
    "start_time": "2024-11-22T06:13:28.139Z"
   },
   {
    "duration": 1150,
    "start_time": "2024-11-22T06:14:01.848Z"
   },
   {
    "duration": 69,
    "start_time": "2024-11-22T06:14:03.001Z"
   },
   {
    "duration": 50,
    "start_time": "2024-11-22T06:14:03.072Z"
   },
   {
    "duration": 35,
    "start_time": "2024-11-22T06:14:03.128Z"
   },
   {
    "duration": 6,
    "start_time": "2024-11-22T06:14:03.165Z"
   },
   {
    "duration": 20,
    "start_time": "2024-11-22T06:14:03.172Z"
   },
   {
    "duration": 57,
    "start_time": "2024-11-22T06:14:03.194Z"
   },
   {
    "duration": 53,
    "start_time": "2024-11-22T06:14:03.253Z"
   },
   {
    "duration": 36,
    "start_time": "2024-11-22T06:14:03.307Z"
   },
   {
    "duration": 31,
    "start_time": "2024-11-22T06:14:03.344Z"
   },
   {
    "duration": 27,
    "start_time": "2024-11-22T06:14:03.377Z"
   },
   {
    "duration": 168,
    "start_time": "2024-11-22T06:14:03.406Z"
   },
   {
    "duration": 81,
    "start_time": "2024-11-22T06:14:03.576Z"
   },
   {
    "duration": 170,
    "start_time": "2024-11-22T06:14:03.661Z"
   },
   {
    "duration": 176,
    "start_time": "2024-11-22T06:14:03.833Z"
   },
   {
    "duration": 19,
    "start_time": "2024-11-22T06:14:04.011Z"
   },
   {
    "duration": 12,
    "start_time": "2024-11-22T06:14:04.032Z"
   },
   {
    "duration": 157,
    "start_time": "2024-11-22T06:14:04.045Z"
   },
   {
    "duration": 187,
    "start_time": "2024-11-22T06:14:04.204Z"
   },
   {
    "duration": 7,
    "start_time": "2024-11-22T06:14:04.393Z"
   },
   {
    "duration": 27,
    "start_time": "2024-11-22T06:14:04.402Z"
   },
   {
    "duration": 236,
    "start_time": "2024-11-22T06:14:04.431Z"
   },
   {
    "duration": 17,
    "start_time": "2024-11-22T06:14:04.668Z"
   },
   {
    "duration": 122,
    "start_time": "2024-11-22T06:14:04.686Z"
   },
   {
    "duration": 36,
    "start_time": "2024-11-22T06:14:04.809Z"
   },
   {
    "duration": 16,
    "start_time": "2024-11-22T06:14:04.847Z"
   },
   {
    "duration": 4,
    "start_time": "2024-11-22T06:14:04.865Z"
   },
   {
    "duration": 213,
    "start_time": "2024-11-22T06:14:04.871Z"
   },
   {
    "duration": 198,
    "start_time": "2024-11-22T06:14:05.086Z"
   },
   {
    "duration": 45,
    "start_time": "2024-11-22T06:14:05.286Z"
   },
   {
    "duration": 8,
    "start_time": "2024-11-22T06:14:05.333Z"
   },
   {
    "duration": 287,
    "start_time": "2024-11-22T06:14:05.343Z"
   },
   {
    "duration": 9,
    "start_time": "2024-11-22T06:14:05.631Z"
   },
   {
    "duration": 89,
    "start_time": "2024-11-22T06:14:05.642Z"
   },
   {
    "duration": 105,
    "start_time": "2024-11-22T06:14:05.734Z"
   },
   {
    "duration": 65,
    "start_time": "2024-11-22T06:14:05.840Z"
   },
   {
    "duration": 4,
    "start_time": "2024-11-22T06:14:05.907Z"
   },
   {
    "duration": 1473,
    "start_time": "2024-11-22T06:14:05.913Z"
   },
   {
    "duration": 1043,
    "start_time": "2024-11-22T06:16:17.465Z"
   },
   {
    "duration": 1150,
    "start_time": "2024-11-22T06:17:50.456Z"
   },
   {
    "duration": 54,
    "start_time": "2024-11-22T06:17:51.608Z"
   },
   {
    "duration": 46,
    "start_time": "2024-11-22T06:17:51.664Z"
   },
   {
    "duration": 36,
    "start_time": "2024-11-22T06:17:51.712Z"
   },
   {
    "duration": 5,
    "start_time": "2024-11-22T06:17:51.751Z"
   },
   {
    "duration": 42,
    "start_time": "2024-11-22T06:17:51.758Z"
   },
   {
    "duration": 11,
    "start_time": "2024-11-22T06:17:51.802Z"
   },
   {
    "duration": 24,
    "start_time": "2024-11-22T06:17:51.814Z"
   },
   {
    "duration": 17,
    "start_time": "2024-11-22T06:17:51.839Z"
   },
   {
    "duration": 23,
    "start_time": "2024-11-22T06:17:51.858Z"
   },
   {
    "duration": 15,
    "start_time": "2024-11-22T06:17:51.884Z"
   },
   {
    "duration": 194,
    "start_time": "2024-11-22T06:17:51.901Z"
   },
   {
    "duration": 85,
    "start_time": "2024-11-22T06:17:52.097Z"
   },
   {
    "duration": 156,
    "start_time": "2024-11-22T06:17:52.185Z"
   },
   {
    "duration": 199,
    "start_time": "2024-11-22T06:17:52.343Z"
   },
   {
    "duration": 8,
    "start_time": "2024-11-22T06:17:52.544Z"
   },
   {
    "duration": 23,
    "start_time": "2024-11-22T06:17:52.553Z"
   },
   {
    "duration": 169,
    "start_time": "2024-11-22T06:17:52.578Z"
   },
   {
    "duration": 201,
    "start_time": "2024-11-22T06:17:52.749Z"
   },
   {
    "duration": 7,
    "start_time": "2024-11-22T06:17:52.951Z"
   },
   {
    "duration": 7,
    "start_time": "2024-11-22T06:17:52.960Z"
   },
   {
    "duration": 303,
    "start_time": "2024-11-22T06:17:52.968Z"
   },
   {
    "duration": 18,
    "start_time": "2024-11-22T06:17:53.272Z"
   },
   {
    "duration": 57,
    "start_time": "2024-11-22T06:17:53.291Z"
   },
   {
    "duration": 28,
    "start_time": "2024-11-22T06:17:53.350Z"
   },
   {
    "duration": 16,
    "start_time": "2024-11-22T06:17:53.379Z"
   },
   {
    "duration": 4,
    "start_time": "2024-11-22T06:17:53.396Z"
   },
   {
    "duration": 232,
    "start_time": "2024-11-22T06:17:53.402Z"
   },
   {
    "duration": 224,
    "start_time": "2024-11-22T06:17:53.641Z"
   },
   {
    "duration": 28,
    "start_time": "2024-11-22T06:17:53.867Z"
   },
   {
    "duration": 33,
    "start_time": "2024-11-22T06:17:53.897Z"
   },
   {
    "duration": 296,
    "start_time": "2024-11-22T06:17:53.933Z"
   },
   {
    "duration": 6,
    "start_time": "2024-11-22T06:17:54.235Z"
   },
   {
    "duration": 11,
    "start_time": "2024-11-22T06:17:54.244Z"
   },
   {
    "duration": 5,
    "start_time": "2024-11-22T06:17:54.257Z"
   },
   {
    "duration": 23,
    "start_time": "2024-11-22T06:17:54.263Z"
   },
   {
    "duration": 4,
    "start_time": "2024-11-22T06:17:54.288Z"
   },
   {
    "duration": 1208,
    "start_time": "2024-11-22T06:17:54.293Z"
   },
   {
    "duration": 1142,
    "start_time": "2024-11-22T06:18:50.165Z"
   },
   {
    "duration": 1148,
    "start_time": "2024-11-22T06:19:10.533Z"
   },
   {
    "duration": 2253,
    "start_time": "2024-11-22T06:20:01.636Z"
   },
   {
    "duration": 1220,
    "start_time": "2024-11-22T06:42:42.274Z"
   },
   {
    "duration": 1219,
    "start_time": "2024-11-22T06:43:58.206Z"
   },
   {
    "duration": 1132,
    "start_time": "2024-11-22T06:44:37.736Z"
   },
   {
    "duration": 9,
    "start_time": "2024-11-22T06:46:50.873Z"
   },
   {
    "duration": 3,
    "start_time": "2024-11-22T06:47:41.137Z"
   },
   {
    "duration": 1146,
    "start_time": "2024-11-22T06:48:51.699Z"
   },
   {
    "duration": 47,
    "start_time": "2024-11-22T06:48:52.847Z"
   },
   {
    "duration": 46,
    "start_time": "2024-11-22T06:48:52.896Z"
   },
   {
    "duration": 27,
    "start_time": "2024-11-22T06:48:52.944Z"
   },
   {
    "duration": 6,
    "start_time": "2024-11-22T06:48:52.973Z"
   },
   {
    "duration": 14,
    "start_time": "2024-11-22T06:48:52.981Z"
   },
   {
    "duration": 27,
    "start_time": "2024-11-22T06:48:52.997Z"
   },
   {
    "duration": 16,
    "start_time": "2024-11-22T06:48:53.027Z"
   },
   {
    "duration": 12,
    "start_time": "2024-11-22T06:48:53.045Z"
   },
   {
    "duration": 17,
    "start_time": "2024-11-22T06:48:53.059Z"
   },
   {
    "duration": 9,
    "start_time": "2024-11-22T06:48:53.077Z"
   },
   {
    "duration": 188,
    "start_time": "2024-11-22T06:48:53.087Z"
   },
   {
    "duration": 85,
    "start_time": "2024-11-22T06:48:53.276Z"
   },
   {
    "duration": 152,
    "start_time": "2024-11-22T06:48:53.364Z"
   },
   {
    "duration": 184,
    "start_time": "2024-11-22T06:48:53.528Z"
   },
   {
    "duration": 15,
    "start_time": "2024-11-22T06:48:53.721Z"
   },
   {
    "duration": 13,
    "start_time": "2024-11-22T06:48:53.737Z"
   },
   {
    "duration": 161,
    "start_time": "2024-11-22T06:48:53.752Z"
   },
   {
    "duration": 243,
    "start_time": "2024-11-22T06:48:53.917Z"
   },
   {
    "duration": 7,
    "start_time": "2024-11-22T06:48:54.161Z"
   },
   {
    "duration": 33,
    "start_time": "2024-11-22T06:48:54.169Z"
   },
   {
    "duration": 251,
    "start_time": "2024-11-22T06:48:54.204Z"
   },
   {
    "duration": 17,
    "start_time": "2024-11-22T06:48:54.457Z"
   },
   {
    "duration": 23,
    "start_time": "2024-11-22T06:48:54.475Z"
   },
   {
    "duration": 38,
    "start_time": "2024-11-22T06:48:54.500Z"
   },
   {
    "duration": 22,
    "start_time": "2024-11-22T06:48:54.540Z"
   },
   {
    "duration": 9,
    "start_time": "2024-11-22T06:48:54.563Z"
   },
   {
    "duration": 213,
    "start_time": "2024-11-22T06:48:54.573Z"
   },
   {
    "duration": 189,
    "start_time": "2024-11-22T06:48:54.788Z"
   },
   {
    "duration": 51,
    "start_time": "2024-11-22T06:48:54.978Z"
   },
   {
    "duration": 8,
    "start_time": "2024-11-22T06:48:55.032Z"
   },
   {
    "duration": 288,
    "start_time": "2024-11-22T06:48:55.041Z"
   },
   {
    "duration": 5,
    "start_time": "2024-11-22T06:48:55.331Z"
   },
   {
    "duration": 10,
    "start_time": "2024-11-22T06:48:55.337Z"
   },
   {
    "duration": 50,
    "start_time": "2024-11-22T06:48:55.348Z"
   },
   {
    "duration": 51,
    "start_time": "2024-11-22T06:48:55.400Z"
   },
   {
    "duration": 5,
    "start_time": "2024-11-22T06:48:55.452Z"
   },
   {
    "duration": 1761,
    "start_time": "2024-11-22T06:49:38.174Z"
   },
   {
    "duration": 1121,
    "start_time": "2024-11-22T06:51:57.342Z"
   },
   {
    "duration": 1450,
    "start_time": "2024-11-22T06:54:18.371Z"
   },
   {
    "duration": 13,
    "start_time": "2024-11-22T06:55:48.215Z"
   },
   {
    "duration": 1292,
    "start_time": "2024-11-22T06:56:05.878Z"
   },
   {
    "duration": 82,
    "start_time": "2024-11-22T06:58:12.396Z"
   },
   {
    "duration": 1475,
    "start_time": "2024-11-22T06:58:21.108Z"
   },
   {
    "duration": 1257,
    "start_time": "2024-11-22T07:14:10.761Z"
   },
   {
    "duration": 4,
    "start_time": "2024-11-22T07:19:37.346Z"
   },
   {
    "duration": 6,
    "start_time": "2024-11-22T07:19:55.946Z"
   },
   {
    "duration": 9,
    "start_time": "2024-11-22T07:22:28.737Z"
   },
   {
    "duration": 4,
    "start_time": "2024-11-22T07:23:41.333Z"
   },
   {
    "duration": 11,
    "start_time": "2024-11-22T07:23:49.660Z"
   },
   {
    "duration": 1180,
    "start_time": "2024-11-22T07:26:10.050Z"
   },
   {
    "duration": 1147,
    "start_time": "2024-11-22T07:32:00.227Z"
   },
   {
    "duration": 64,
    "start_time": "2024-11-22T07:32:29.170Z"
   },
   {
    "duration": 1090,
    "start_time": "2024-11-22T07:33:10.361Z"
   },
   {
    "duration": 7,
    "start_time": "2024-11-22T07:33:33.649Z"
   },
   {
    "duration": 6,
    "start_time": "2024-11-22T07:33:42.960Z"
   },
   {
    "duration": 1058,
    "start_time": "2024-11-22T07:34:01.034Z"
   },
   {
    "duration": 1339,
    "start_time": "2024-11-22T07:44:45.914Z"
   },
   {
    "duration": 1226,
    "start_time": "2024-11-22T07:45:07.802Z"
   },
   {
    "duration": 1470,
    "start_time": "2024-11-22T07:45:28.978Z"
   },
   {
    "duration": 6,
    "start_time": "2024-11-22T07:46:11.096Z"
   },
   {
    "duration": 8,
    "start_time": "2024-11-22T07:47:50.847Z"
   },
   {
    "duration": 6,
    "start_time": "2024-11-22T07:48:32.405Z"
   },
   {
    "duration": 14,
    "start_time": "2024-11-22T07:48:57.412Z"
   },
   {
    "duration": 6,
    "start_time": "2024-11-22T07:49:51.515Z"
   },
   {
    "duration": 1128,
    "start_time": "2024-11-22T07:51:13.953Z"
   },
   {
    "duration": 12,
    "start_time": "2024-11-22T07:51:50.736Z"
   },
   {
    "duration": 13,
    "start_time": "2024-11-22T07:52:15.751Z"
   },
   {
    "duration": 1235,
    "start_time": "2024-11-22T07:53:12.814Z"
   },
   {
    "duration": 1309,
    "start_time": "2024-11-22T07:53:23.318Z"
   },
   {
    "duration": 1144,
    "start_time": "2024-11-22T07:54:00.415Z"
   },
   {
    "duration": 293,
    "start_time": "2024-11-22T07:54:35.701Z"
   },
   {
    "duration": 10,
    "start_time": "2024-11-22T07:57:21.849Z"
   },
   {
    "duration": 15,
    "start_time": "2024-11-22T07:57:51.529Z"
   },
   {
    "duration": 19,
    "start_time": "2024-11-22T07:58:48.647Z"
   },
   {
    "duration": 10,
    "start_time": "2024-11-22T08:00:13.261Z"
   },
   {
    "duration": 9,
    "start_time": "2024-11-22T08:00:48.676Z"
   },
   {
    "duration": 5,
    "start_time": "2024-11-22T08:01:23.444Z"
   },
   {
    "duration": 4,
    "start_time": "2024-11-22T08:01:29.892Z"
   },
   {
    "duration": 1081,
    "start_time": "2024-11-22T08:21:38.475Z"
   },
   {
    "duration": 78,
    "start_time": "2024-11-22T08:22:40.448Z"
   },
   {
    "duration": 5,
    "start_time": "2024-11-22T08:23:04.031Z"
   },
   {
    "duration": 5,
    "start_time": "2024-11-22T08:23:26.039Z"
   },
   {
    "duration": 87,
    "start_time": "2024-11-22T08:25:06.888Z"
   },
   {
    "duration": 83,
    "start_time": "2024-11-22T08:28:38.152Z"
   },
   {
    "duration": 1434,
    "start_time": "2024-11-22T08:29:09.448Z"
   },
   {
    "duration": 249,
    "start_time": "2024-11-22T08:38:44.828Z"
   },
   {
    "duration": 180,
    "start_time": "2024-11-22T08:38:59.629Z"
   },
   {
    "duration": 284,
    "start_time": "2024-11-22T08:40:47.177Z"
   },
   {
    "duration": 283,
    "start_time": "2024-11-22T08:41:10.439Z"
   },
   {
    "duration": 10,
    "start_time": "2024-11-22T08:45:56.891Z"
   },
   {
    "duration": 1143,
    "start_time": "2024-11-22T08:47:12.078Z"
   },
   {
    "duration": 49,
    "start_time": "2024-11-22T08:47:13.224Z"
   },
   {
    "duration": 41,
    "start_time": "2024-11-22T08:47:13.275Z"
   },
   {
    "duration": 26,
    "start_time": "2024-11-22T08:47:13.329Z"
   },
   {
    "duration": 5,
    "start_time": "2024-11-22T08:47:13.356Z"
   },
   {
    "duration": 14,
    "start_time": "2024-11-22T08:47:13.363Z"
   },
   {
    "duration": 10,
    "start_time": "2024-11-22T08:47:13.379Z"
   },
   {
    "duration": 5,
    "start_time": "2024-11-22T08:47:13.390Z"
   },
   {
    "duration": 13,
    "start_time": "2024-11-22T08:47:13.397Z"
   },
   {
    "duration": 22,
    "start_time": "2024-11-22T08:47:13.413Z"
   },
   {
    "duration": 7,
    "start_time": "2024-11-22T08:47:13.437Z"
   },
   {
    "duration": 171,
    "start_time": "2024-11-22T08:47:13.446Z"
   },
   {
    "duration": 83,
    "start_time": "2024-11-22T08:47:13.620Z"
   },
   {
    "duration": 153,
    "start_time": "2024-11-22T08:47:13.706Z"
   },
   {
    "duration": 187,
    "start_time": "2024-11-22T08:47:13.860Z"
   },
   {
    "duration": 6,
    "start_time": "2024-11-22T08:47:14.049Z"
   },
   {
    "duration": 28,
    "start_time": "2024-11-22T08:47:14.056Z"
   },
   {
    "duration": 177,
    "start_time": "2024-11-22T08:47:14.085Z"
   },
   {
    "duration": 203,
    "start_time": "2024-11-22T08:47:14.264Z"
   },
   {
    "duration": 7,
    "start_time": "2024-11-22T08:47:14.468Z"
   },
   {
    "duration": 7,
    "start_time": "2024-11-22T08:47:14.476Z"
   },
   {
    "duration": 255,
    "start_time": "2024-11-22T08:47:14.484Z"
   },
   {
    "duration": 17,
    "start_time": "2024-11-22T08:47:14.741Z"
   },
   {
    "duration": 34,
    "start_time": "2024-11-22T08:47:14.760Z"
   },
   {
    "duration": 20,
    "start_time": "2024-11-22T08:47:14.796Z"
   },
   {
    "duration": 18,
    "start_time": "2024-11-22T08:47:14.827Z"
   },
   {
    "duration": 4,
    "start_time": "2024-11-22T08:47:14.847Z"
   },
   {
    "duration": 189,
    "start_time": "2024-11-22T08:47:14.855Z"
   },
   {
    "duration": 200,
    "start_time": "2024-11-22T08:47:15.046Z"
   },
   {
    "duration": 26,
    "start_time": "2024-11-22T08:47:15.248Z"
   },
   {
    "duration": 8,
    "start_time": "2024-11-22T08:47:15.276Z"
   },
   {
    "duration": 291,
    "start_time": "2024-11-22T08:47:15.286Z"
   },
   {
    "duration": 6,
    "start_time": "2024-11-22T08:47:15.578Z"
   },
   {
    "duration": 16,
    "start_time": "2024-11-22T08:47:15.585Z"
   },
   {
    "duration": 23,
    "start_time": "2024-11-22T08:47:15.603Z"
   },
   {
    "duration": 103,
    "start_time": "2024-11-22T08:47:15.629Z"
   },
   {
    "duration": 5,
    "start_time": "2024-11-22T08:47:15.733Z"
   },
   {
    "duration": 320,
    "start_time": "2024-11-22T08:47:15.740Z"
   },
   {
    "duration": 112,
    "start_time": "2024-11-22T08:47:16.062Z"
   },
   {
    "duration": 11,
    "start_time": "2024-11-22T08:50:48.796Z"
   },
   {
    "duration": 7,
    "start_time": "2024-11-22T08:51:01.221Z"
   },
   {
    "duration": 9,
    "start_time": "2024-11-22T08:53:08.137Z"
   },
   {
    "duration": 5,
    "start_time": "2024-11-22T09:10:55.450Z"
   },
   {
    "duration": 4,
    "start_time": "2024-11-22T09:11:04.142Z"
   },
   {
    "duration": 6,
    "start_time": "2024-11-22T09:11:13.942Z"
   },
   {
    "duration": 9,
    "start_time": "2024-11-22T09:11:29.628Z"
   },
   {
    "duration": 5,
    "start_time": "2024-11-22T09:11:36.295Z"
   },
   {
    "duration": 1438,
    "start_time": "2024-11-22T09:12:00.374Z"
   },
   {
    "duration": 6,
    "start_time": "2024-11-22T09:12:05.541Z"
   },
   {
    "duration": 13149,
    "start_time": "2024-11-22T09:13:46.947Z"
   },
   {
    "duration": 6703,
    "start_time": "2024-11-22T09:14:11.786Z"
   },
   {
    "duration": 6490,
    "start_time": "2024-11-22T09:14:18.740Z"
   },
   {
    "duration": 11,
    "start_time": "2024-11-22T09:15:56.376Z"
   },
   {
    "duration": 13,
    "start_time": "2024-11-22T09:58:02.422Z"
   },
   {
    "duration": 8,
    "start_time": "2024-11-22T09:58:40.811Z"
   },
   {
    "duration": 236,
    "start_time": "2024-11-22T09:59:37.045Z"
   },
   {
    "duration": 6,
    "start_time": "2024-11-22T10:00:15.577Z"
   },
   {
    "duration": 146312,
    "start_time": "2024-11-22T10:08:54.350Z"
   },
   {
    "duration": 3,
    "start_time": "2024-11-22T10:14:27.376Z"
   },
   {
    "duration": 1355,
    "start_time": "2024-11-22T10:19:36.889Z"
   },
   {
    "duration": 26,
    "start_time": "2024-11-22T10:30:55.119Z"
   },
   {
    "duration": 1090,
    "start_time": "2024-11-22T10:31:07.666Z"
   },
   {
    "duration": 1233,
    "start_time": "2024-11-22T10:32:47.407Z"
   },
   {
    "duration": 1237,
    "start_time": "2024-11-22T10:33:10.614Z"
   },
   {
    "duration": 8,
    "start_time": "2024-11-22T10:34:08.715Z"
   },
   {
    "duration": 1045,
    "start_time": "2024-11-22T10:36:50.554Z"
   },
   {
    "duration": 2263,
    "start_time": "2024-11-22T10:38:29.087Z"
   },
   {
    "duration": 8,
    "start_time": "2024-11-22T10:41:25.172Z"
   },
   {
    "duration": 1637,
    "start_time": "2024-11-22T10:42:07.267Z"
   },
   {
    "duration": 1132,
    "start_time": "2024-11-22T10:42:27.171Z"
   },
   {
    "duration": 59,
    "start_time": "2024-11-22T10:43:00.912Z"
   },
   {
    "duration": 195,
    "start_time": "2024-11-22T10:43:29.081Z"
   },
   {
    "duration": 265,
    "start_time": "2024-11-22T10:44:41.439Z"
   },
   {
    "duration": 134,
    "start_time": "2024-11-22T10:44:45.574Z"
   },
   {
    "duration": 172,
    "start_time": "2024-11-22T10:47:50.075Z"
   },
   {
    "duration": 125,
    "start_time": "2024-11-22T10:47:53.842Z"
   },
   {
    "duration": 183,
    "start_time": "2024-11-22T10:50:52.367Z"
   },
   {
    "duration": 193,
    "start_time": "2024-11-22T10:51:08.695Z"
   },
   {
    "duration": 10,
    "start_time": "2024-11-22T10:55:07.258Z"
   },
   {
    "duration": 5,
    "start_time": "2024-11-22T10:55:13.488Z"
   },
   {
    "duration": 7,
    "start_time": "2024-11-22T10:58:07.597Z"
   },
   {
    "duration": 6,
    "start_time": "2024-11-22T10:58:17.797Z"
   },
   {
    "duration": 5,
    "start_time": "2024-11-22T10:58:41.478Z"
   },
   {
    "duration": 15,
    "start_time": "2024-11-22T10:59:41.276Z"
   },
   {
    "duration": 10,
    "start_time": "2024-11-22T11:00:15.857Z"
   },
   {
    "duration": 6,
    "start_time": "2024-11-22T11:00:23.834Z"
   },
   {
    "duration": 6,
    "start_time": "2024-11-22T11:00:38.954Z"
   },
   {
    "duration": 6,
    "start_time": "2024-11-22T11:00:55.953Z"
   },
   {
    "duration": 9,
    "start_time": "2024-11-22T11:01:42.778Z"
   },
   {
    "duration": 6,
    "start_time": "2024-11-22T11:10:00.159Z"
   },
   {
    "duration": 149,
    "start_time": "2024-11-22T11:13:42.563Z"
   },
   {
    "duration": 179,
    "start_time": "2024-11-22T11:15:06.088Z"
   },
   {
    "duration": 162,
    "start_time": "2024-11-22T11:15:18.902Z"
   },
   {
    "duration": 133,
    "start_time": "2024-11-22T11:15:25.455Z"
   },
   {
    "duration": 26,
    "start_time": "2024-11-22T11:25:04.916Z"
   },
   {
    "duration": 11,
    "start_time": "2024-11-22T11:25:18.747Z"
   },
   {
    "duration": 11,
    "start_time": "2024-11-22T11:25:47.656Z"
   },
   {
    "duration": 7,
    "start_time": "2024-11-22T11:28:47.366Z"
   },
   {
    "duration": 15,
    "start_time": "2024-11-22T11:30:38.741Z"
   },
   {
    "duration": 6,
    "start_time": "2024-11-22T11:31:35.962Z"
   },
   {
    "duration": 6,
    "start_time": "2024-11-22T11:32:55.526Z"
   },
   {
    "duration": 212,
    "start_time": "2024-11-22T11:33:17.871Z"
   },
   {
    "duration": 155,
    "start_time": "2024-11-22T11:33:21.152Z"
   },
   {
    "duration": 262,
    "start_time": "2024-11-22T11:33:28.168Z"
   },
   {
    "duration": 166,
    "start_time": "2024-11-22T11:33:30.990Z"
   },
   {
    "duration": 39,
    "start_time": "2024-11-22T11:35:23.661Z"
   },
   {
    "duration": 13,
    "start_time": "2024-11-22T12:58:46.952Z"
   },
   {
    "duration": 8,
    "start_time": "2024-11-22T12:59:28.379Z"
   },
   {
    "duration": 6,
    "start_time": "2024-11-22T13:09:24.287Z"
   },
   {
    "duration": 24,
    "start_time": "2024-11-22T13:10:56.543Z"
   },
   {
    "duration": 12,
    "start_time": "2024-11-22T13:11:18.939Z"
   },
   {
    "duration": 19,
    "start_time": "2024-11-22T13:11:31.019Z"
   },
   {
    "duration": 22,
    "start_time": "2024-11-22T13:11:46.337Z"
   },
   {
    "duration": 80,
    "start_time": "2024-11-22T13:12:46.714Z"
   },
   {
    "duration": 1342,
    "start_time": "2024-11-22T13:12:57.051Z"
   },
   {
    "duration": 1156,
    "start_time": "2024-11-22T13:13:31.355Z"
   },
   {
    "duration": 15,
    "start_time": "2024-11-22T13:13:56.617Z"
   },
   {
    "duration": 16,
    "start_time": "2024-11-22T13:14:27.232Z"
   },
   {
    "duration": 9,
    "start_time": "2024-11-22T13:15:11.150Z"
   },
   {
    "duration": 38,
    "start_time": "2024-11-22T13:18:48.618Z"
   },
   {
    "duration": 286,
    "start_time": "2024-11-22T13:20:36.447Z"
   },
   {
    "duration": 300,
    "start_time": "2024-11-22T13:21:07.079Z"
   },
   {
    "duration": 1243,
    "start_time": "2024-11-22T13:21:48.301Z"
   },
   {
    "duration": 1606,
    "start_time": "2024-11-22T13:23:17.163Z"
   },
   {
    "duration": 1205,
    "start_time": "2024-11-22T13:23:42.906Z"
   },
   {
    "duration": 48,
    "start_time": "2024-11-22T13:23:44.113Z"
   },
   {
    "duration": 43,
    "start_time": "2024-11-22T13:23:44.163Z"
   },
   {
    "duration": 34,
    "start_time": "2024-11-22T13:23:44.208Z"
   },
   {
    "duration": 6,
    "start_time": "2024-11-22T13:23:44.245Z"
   },
   {
    "duration": 22,
    "start_time": "2024-11-22T13:23:44.252Z"
   },
   {
    "duration": 13,
    "start_time": "2024-11-22T13:23:44.276Z"
   },
   {
    "duration": 8,
    "start_time": "2024-11-22T13:23:44.291Z"
   },
   {
    "duration": 20,
    "start_time": "2024-11-22T13:23:44.301Z"
   },
   {
    "duration": 31,
    "start_time": "2024-11-22T13:23:44.323Z"
   },
   {
    "duration": 9,
    "start_time": "2024-11-22T13:23:44.356Z"
   },
   {
    "duration": 209,
    "start_time": "2024-11-22T13:23:44.367Z"
   },
   {
    "duration": 97,
    "start_time": "2024-11-22T13:23:44.578Z"
   },
   {
    "duration": 9,
    "start_time": "2024-11-22T13:23:44.677Z"
   },
   {
    "duration": 157,
    "start_time": "2024-11-22T13:23:44.688Z"
   },
   {
    "duration": 202,
    "start_time": "2024-11-22T13:23:44.847Z"
   },
   {
    "duration": 7,
    "start_time": "2024-11-22T13:23:45.050Z"
   },
   {
    "duration": 22,
    "start_time": "2024-11-22T13:23:45.058Z"
   },
   {
    "duration": 195,
    "start_time": "2024-11-22T13:23:45.082Z"
   },
   {
    "duration": 209,
    "start_time": "2024-11-22T13:23:45.279Z"
   },
   {
    "duration": 7,
    "start_time": "2024-11-22T13:23:45.489Z"
   },
   {
    "duration": 14,
    "start_time": "2024-11-22T13:23:45.498Z"
   },
   {
    "duration": 285,
    "start_time": "2024-11-22T13:23:45.514Z"
   },
   {
    "duration": 23,
    "start_time": "2024-11-22T13:23:45.801Z"
   },
   {
    "duration": 25,
    "start_time": "2024-11-22T13:23:45.826Z"
   },
   {
    "duration": 17,
    "start_time": "2024-11-22T13:23:45.852Z"
   },
   {
    "duration": 16,
    "start_time": "2024-11-22T13:23:45.871Z"
   },
   {
    "duration": 32,
    "start_time": "2024-11-22T13:23:45.889Z"
   },
   {
    "duration": 217,
    "start_time": "2024-11-22T13:23:45.924Z"
   },
   {
    "duration": 219,
    "start_time": "2024-11-22T13:23:46.142Z"
   },
   {
    "duration": 31,
    "start_time": "2024-11-22T13:23:46.365Z"
   },
   {
    "duration": 9,
    "start_time": "2024-11-22T13:23:46.398Z"
   },
   {
    "duration": 295,
    "start_time": "2024-11-22T13:23:46.409Z"
   },
   {
    "duration": 27,
    "start_time": "2024-11-22T13:23:46.706Z"
   },
   {
    "duration": 1657,
    "start_time": "2024-11-22T13:24:05.380Z"
   },
   {
    "duration": 5,
    "start_time": "2024-11-22T13:38:52.529Z"
   },
   {
    "duration": 66,
    "start_time": "2024-11-22T13:38:52.536Z"
   },
   {
    "duration": 64,
    "start_time": "2024-11-22T13:38:52.604Z"
   },
   {
    "duration": 25,
    "start_time": "2024-11-22T13:38:52.670Z"
   },
   {
    "duration": 7,
    "start_time": "2024-11-22T13:38:52.697Z"
   },
   {
    "duration": 21,
    "start_time": "2024-11-22T13:38:52.705Z"
   },
   {
    "duration": 18,
    "start_time": "2024-11-22T13:38:52.729Z"
   },
   {
    "duration": 50,
    "start_time": "2024-11-22T13:38:52.748Z"
   },
   {
    "duration": 15,
    "start_time": "2024-11-22T13:38:52.799Z"
   },
   {
    "duration": 51,
    "start_time": "2024-11-22T13:38:52.815Z"
   },
   {
    "duration": 22,
    "start_time": "2024-11-22T13:38:52.867Z"
   },
   {
    "duration": 191,
    "start_time": "2024-11-22T13:38:52.890Z"
   },
   {
    "duration": 91,
    "start_time": "2024-11-22T13:38:53.083Z"
   },
   {
    "duration": 7,
    "start_time": "2024-11-22T13:38:53.177Z"
   },
   {
    "duration": 153,
    "start_time": "2024-11-22T13:38:53.186Z"
   },
   {
    "duration": 193,
    "start_time": "2024-11-22T13:38:53.340Z"
   },
   {
    "duration": 6,
    "start_time": "2024-11-22T13:38:53.535Z"
   },
   {
    "duration": 10,
    "start_time": "2024-11-22T13:38:53.543Z"
   },
   {
    "duration": 198,
    "start_time": "2024-11-22T13:38:53.555Z"
   },
   {
    "duration": 195,
    "start_time": "2024-11-22T13:38:53.756Z"
   },
   {
    "duration": 7,
    "start_time": "2024-11-22T13:38:53.952Z"
   },
   {
    "duration": 6,
    "start_time": "2024-11-22T13:38:53.960Z"
   },
   {
    "duration": 233,
    "start_time": "2024-11-22T13:38:53.967Z"
   },
   {
    "duration": 39,
    "start_time": "2024-11-22T13:38:54.202Z"
   },
   {
    "duration": 17,
    "start_time": "2024-11-22T13:38:54.243Z"
   },
   {
    "duration": 16,
    "start_time": "2024-11-22T13:38:54.262Z"
   },
   {
    "duration": 23,
    "start_time": "2024-11-22T13:38:54.280Z"
   },
   {
    "duration": 28,
    "start_time": "2024-11-22T13:38:54.304Z"
   },
   {
    "duration": 197,
    "start_time": "2024-11-22T13:38:54.334Z"
   },
   {
    "duration": 194,
    "start_time": "2024-11-22T13:38:54.532Z"
   },
   {
    "duration": 28,
    "start_time": "2024-11-22T13:38:54.731Z"
   },
   {
    "duration": 8,
    "start_time": "2024-11-22T13:38:54.760Z"
   },
   {
    "duration": 208,
    "start_time": "2024-11-22T13:38:54.770Z"
   },
   {
    "duration": 18,
    "start_time": "2024-11-22T13:38:54.979Z"
   },
   {
    "duration": 1461,
    "start_time": "2024-11-22T13:38:54.999Z"
   },
   {
    "duration": 6,
    "start_time": "2024-11-22T13:38:56.462Z"
   },
   {
    "duration": 5,
    "start_time": "2024-11-22T13:38:56.470Z"
   },
   {
    "duration": 5,
    "start_time": "2024-11-22T13:38:56.476Z"
   },
   {
    "duration": 51,
    "start_time": "2024-11-22T13:38:56.482Z"
   },
   {
    "duration": 123,
    "start_time": "2024-11-22T13:42:05.831Z"
   },
   {
    "duration": 1496,
    "start_time": "2024-11-22T13:42:41.285Z"
   },
   {
    "duration": 1182,
    "start_time": "2024-11-22T13:46:33.175Z"
   },
   {
    "duration": 1233,
    "start_time": "2024-11-22T13:46:57.967Z"
   },
   {
    "duration": 645,
    "start_time": "2024-11-22T13:47:24.407Z"
   },
   {
    "duration": 9,
    "start_time": "2024-11-22T13:47:57.236Z"
   },
   {
    "duration": 531,
    "start_time": "2024-11-22T13:48:13.901Z"
   },
   {
    "duration": 7,
    "start_time": "2024-11-22T13:54:21.733Z"
   },
   {
    "duration": 6,
    "start_time": "2024-11-22T13:55:59.619Z"
   },
   {
    "duration": 1090,
    "start_time": "2024-11-22T13:59:26.222Z"
   },
   {
    "duration": 202,
    "start_time": "2024-11-22T14:00:01.421Z"
   },
   {
    "duration": 829,
    "start_time": "2024-11-22T14:01:22.939Z"
   },
   {
    "duration": 8,
    "start_time": "2024-11-22T14:12:24.606Z"
   },
   {
    "duration": 11,
    "start_time": "2024-11-22T14:12:35.654Z"
   },
   {
    "duration": 22,
    "start_time": "2024-11-22T14:13:00.718Z"
   },
   {
    "duration": 11,
    "start_time": "2024-11-22T14:16:24.251Z"
   },
   {
    "duration": 29830,
    "start_time": "2024-11-22T14:16:56.647Z"
   },
   {
    "duration": 22,
    "start_time": "2024-11-22T14:18:36.839Z"
   },
   {
    "duration": 15,
    "start_time": "2024-11-22T14:21:32.715Z"
   },
   {
    "duration": 30670,
    "start_time": "2024-11-22T14:22:51.831Z"
   },
   {
    "duration": 71,
    "start_time": "2024-11-22T14:29:11.786Z"
   },
   {
    "duration": 19,
    "start_time": "2024-11-22T14:29:43.615Z"
   },
   {
    "duration": 12,
    "start_time": "2024-11-22T14:30:07.073Z"
   },
   {
    "duration": 11,
    "start_time": "2024-11-22T14:31:21.494Z"
   },
   {
    "duration": 6,
    "start_time": "2024-11-22T14:31:42.997Z"
   },
   {
    "duration": 6,
    "start_time": "2024-11-22T14:34:19.322Z"
   },
   {
    "duration": 8,
    "start_time": "2024-11-22T14:35:45.912Z"
   },
   {
    "duration": 8,
    "start_time": "2024-11-22T14:36:45.984Z"
   },
   {
    "duration": 1147,
    "start_time": "2024-11-22T14:40:37.371Z"
   },
   {
    "duration": 9,
    "start_time": "2024-11-22T14:41:02.304Z"
   },
   {
    "duration": 9,
    "start_time": "2024-11-22T14:41:44.568Z"
   },
   {
    "duration": 5,
    "start_time": "2024-11-22T14:42:29.880Z"
   },
   {
    "duration": 10,
    "start_time": "2024-11-22T14:42:39.606Z"
   },
   {
    "duration": 10,
    "start_time": "2024-11-22T14:43:13.726Z"
   },
   {
    "duration": 14,
    "start_time": "2024-11-22T14:43:55.908Z"
   },
   {
    "duration": 10,
    "start_time": "2024-11-22T14:44:12.388Z"
   },
   {
    "duration": 6,
    "start_time": "2024-11-22T14:45:02.099Z"
   },
   {
    "duration": 14,
    "start_time": "2024-11-22T14:47:47.112Z"
   },
   {
    "duration": 14,
    "start_time": "2024-11-22T14:51:25.354Z"
   },
   {
    "duration": 14,
    "start_time": "2024-11-22T14:51:47.467Z"
   },
   {
    "duration": 1030,
    "start_time": "2024-11-22T14:52:52.098Z"
   },
   {
    "duration": 141,
    "start_time": "2024-11-22T14:53:08.953Z"
   },
   {
    "duration": 8,
    "start_time": "2024-11-22T14:59:00.889Z"
   },
   {
    "duration": 8,
    "start_time": "2024-11-22T15:00:09.723Z"
   },
   {
    "duration": 1155,
    "start_time": "2024-11-22T15:01:00.895Z"
   },
   {
    "duration": 10,
    "start_time": "2024-11-22T15:01:12.542Z"
   },
   {
    "duration": 10,
    "start_time": "2024-11-22T15:01:41.894Z"
   },
   {
    "duration": 18,
    "start_time": "2024-11-22T15:03:03.580Z"
   },
   {
    "duration": 19,
    "start_time": "2024-11-22T15:03:26.004Z"
   },
   {
    "duration": 11669,
    "start_time": "2024-11-22T15:04:26.772Z"
   },
   {
    "duration": 20,
    "start_time": "2024-11-22T15:05:52.272Z"
   },
   {
    "duration": 16395,
    "start_time": "2024-11-22T15:14:02.855Z"
   },
   {
    "duration": 78,
    "start_time": "2024-11-22T15:14:31.162Z"
   },
   {
    "duration": 11331,
    "start_time": "2024-11-22T15:15:34.141Z"
   },
   {
    "duration": 66,
    "start_time": "2024-11-22T15:17:14.035Z"
   },
   {
    "duration": 9646,
    "start_time": "2024-11-22T15:19:50.544Z"
   },
   {
    "duration": 1327,
    "start_time": "2024-11-23T06:32:06.183Z"
   },
   {
    "duration": 91,
    "start_time": "2024-11-23T06:32:07.513Z"
   },
   {
    "duration": 168,
    "start_time": "2024-11-23T06:32:07.606Z"
   },
   {
    "duration": 76,
    "start_time": "2024-11-23T06:32:07.777Z"
   },
   {
    "duration": 43,
    "start_time": "2024-11-23T06:32:07.855Z"
   },
   {
    "duration": 10,
    "start_time": "2024-11-23T06:32:07.900Z"
   },
   {
    "duration": 11,
    "start_time": "2024-11-23T06:32:07.912Z"
   },
   {
    "duration": 5,
    "start_time": "2024-11-23T06:32:07.924Z"
   },
   {
    "duration": 9,
    "start_time": "2024-11-23T06:32:07.931Z"
   },
   {
    "duration": 31,
    "start_time": "2024-11-23T06:32:07.944Z"
   },
   {
    "duration": 8,
    "start_time": "2024-11-23T06:32:07.977Z"
   },
   {
    "duration": 156,
    "start_time": "2024-11-23T06:32:07.987Z"
   },
   {
    "duration": 81,
    "start_time": "2024-11-23T06:32:08.145Z"
   },
   {
    "duration": 9,
    "start_time": "2024-11-23T06:32:08.228Z"
   },
   {
    "duration": 149,
    "start_time": "2024-11-23T06:32:08.239Z"
   },
   {
    "duration": 177,
    "start_time": "2024-11-23T06:32:08.390Z"
   },
   {
    "duration": 8,
    "start_time": "2024-11-23T06:32:08.569Z"
   },
   {
    "duration": 144,
    "start_time": "2024-11-23T06:32:08.579Z"
   },
   {
    "duration": 160,
    "start_time": "2024-11-23T06:32:08.725Z"
   },
   {
    "duration": 187,
    "start_time": "2024-11-23T06:32:08.887Z"
   },
   {
    "duration": 7,
    "start_time": "2024-11-23T06:32:09.076Z"
   },
   {
    "duration": 19,
    "start_time": "2024-11-23T06:32:09.085Z"
   },
   {
    "duration": 269,
    "start_time": "2024-11-23T06:32:09.106Z"
   },
   {
    "duration": 16,
    "start_time": "2024-11-23T06:32:09.377Z"
   },
   {
    "duration": 17,
    "start_time": "2024-11-23T06:32:09.395Z"
   },
   {
    "duration": 19,
    "start_time": "2024-11-23T06:32:09.413Z"
   },
   {
    "duration": 17,
    "start_time": "2024-11-23T06:32:09.434Z"
   },
   {
    "duration": 3,
    "start_time": "2024-11-23T06:32:09.455Z"
   },
   {
    "duration": 182,
    "start_time": "2024-11-23T06:32:09.460Z"
   },
   {
    "duration": 192,
    "start_time": "2024-11-23T06:32:09.644Z"
   },
   {
    "duration": 26,
    "start_time": "2024-11-23T06:32:09.838Z"
   },
   {
    "duration": 39,
    "start_time": "2024-11-23T06:32:09.866Z"
   },
   {
    "duration": 250,
    "start_time": "2024-11-23T06:32:09.907Z"
   },
   {
    "duration": 18,
    "start_time": "2024-11-23T06:32:10.158Z"
   },
   {
    "duration": 2,
    "start_time": "2024-11-23T06:32:10.178Z"
   },
   {
    "duration": 18,
    "start_time": "2024-11-23T06:32:10.182Z"
   },
   {
    "duration": 18,
    "start_time": "2024-11-23T06:32:10.202Z"
   },
   {
    "duration": 6,
    "start_time": "2024-11-23T06:32:10.222Z"
   },
   {
    "duration": 24,
    "start_time": "2024-11-23T06:32:10.230Z"
   },
   {
    "duration": 5,
    "start_time": "2024-11-23T06:32:10.256Z"
   },
   {
    "duration": 281,
    "start_time": "2024-11-23T06:32:10.263Z"
   },
   {
    "duration": 160,
    "start_time": "2024-11-23T06:32:10.546Z"
   },
   {
    "duration": 10,
    "start_time": "2024-11-23T06:32:10.709Z"
   },
   {
    "duration": 11,
    "start_time": "2024-11-23T06:32:10.721Z"
   },
   {
    "duration": 104,
    "start_time": "2024-11-23T06:38:08.071Z"
   },
   {
    "duration": 6,
    "start_time": "2024-11-23T06:39:42.972Z"
   },
   {
    "duration": 8,
    "start_time": "2024-11-23T06:39:53.190Z"
   },
   {
    "duration": 4,
    "start_time": "2024-11-23T06:42:08.253Z"
   },
   {
    "duration": 17,
    "start_time": "2024-11-23T06:42:16.860Z"
   },
   {
    "duration": 4,
    "start_time": "2024-11-23T06:42:24.476Z"
   },
   {
    "duration": 209,
    "start_time": "2024-11-23T06:45:07.425Z"
   },
   {
    "duration": 4,
    "start_time": "2024-11-23T06:49:51.371Z"
   },
   {
    "duration": 11,
    "start_time": "2024-11-23T06:50:38.183Z"
   },
   {
    "duration": 13,
    "start_time": "2024-11-23T06:50:56.017Z"
   },
   {
    "duration": 15,
    "start_time": "2024-11-23T06:51:16.937Z"
   },
   {
    "duration": 10,
    "start_time": "2024-11-23T06:51:39.376Z"
   },
   {
    "duration": 11,
    "start_time": "2024-11-23T06:52:08.464Z"
   },
   {
    "duration": 14,
    "start_time": "2024-11-23T06:55:17.452Z"
   },
   {
    "duration": 11,
    "start_time": "2024-11-23T06:55:39.499Z"
   },
   {
    "duration": 13,
    "start_time": "2024-11-23T06:56:48.842Z"
   },
   {
    "duration": 12,
    "start_time": "2024-11-23T06:57:20.944Z"
   },
   {
    "duration": 18,
    "start_time": "2024-11-23T07:11:27.036Z"
   },
   {
    "duration": 20,
    "start_time": "2024-11-23T07:11:44.405Z"
   },
   {
    "duration": 12,
    "start_time": "2024-11-23T07:11:58.606Z"
   },
   {
    "duration": 17,
    "start_time": "2024-11-23T07:12:07.616Z"
   },
   {
    "duration": 11,
    "start_time": "2024-11-23T07:12:24.308Z"
   },
   {
    "duration": 11,
    "start_time": "2024-11-23T07:12:52.901Z"
   },
   {
    "duration": 8,
    "start_time": "2024-11-23T07:16:25.424Z"
   },
   {
    "duration": 10,
    "start_time": "2024-11-23T07:16:38.608Z"
   },
   {
    "duration": 11,
    "start_time": "2024-11-23T07:17:08.207Z"
   },
   {
    "duration": 40699,
    "start_time": "2024-11-23T07:20:27.387Z"
   },
   {
    "duration": 8,
    "start_time": "2024-11-23T07:22:56.384Z"
   },
   {
    "duration": 202,
    "start_time": "2024-11-23T07:29:02.089Z"
   },
   {
    "duration": 32,
    "start_time": "2024-11-23T07:29:49.055Z"
   },
   {
    "duration": 32,
    "start_time": "2024-11-23T07:30:03.341Z"
   },
   {
    "duration": 9,
    "start_time": "2024-11-23T07:31:51.772Z"
   },
   {
    "duration": 41,
    "start_time": "2024-11-23T07:35:32.272Z"
   },
   {
    "duration": 52,
    "start_time": "2024-11-23T07:36:19.798Z"
   },
   {
    "duration": 2687,
    "start_time": "2024-11-23T07:37:50.811Z"
   },
   {
    "duration": 13,
    "start_time": "2024-11-23T07:39:28.978Z"
   },
   {
    "duration": 11,
    "start_time": "2024-11-23T07:40:17.513Z"
   },
   {
    "duration": 6,
    "start_time": "2024-11-23T07:40:51.368Z"
   },
   {
    "duration": 7,
    "start_time": "2024-11-23T07:41:07.160Z"
   },
   {
    "duration": 6,
    "start_time": "2024-11-23T07:41:19.488Z"
   },
   {
    "duration": 11,
    "start_time": "2024-11-23T07:42:15.521Z"
   },
   {
    "duration": 5,
    "start_time": "2024-11-23T07:42:24.007Z"
   },
   {
    "duration": 1231,
    "start_time": "2024-11-23T07:43:23.404Z"
   },
   {
    "duration": 1362,
    "start_time": "2024-11-23T07:43:42.639Z"
   },
   {
    "duration": 1399,
    "start_time": "2024-11-23T07:43:55.356Z"
   },
   {
    "duration": 1134,
    "start_time": "2024-11-23T07:46:57.576Z"
   },
   {
    "duration": 1156,
    "start_time": "2024-11-23T07:47:41.408Z"
   },
   {
    "duration": 1138,
    "start_time": "2024-11-23T07:48:24.670Z"
   },
   {
    "duration": 1085,
    "start_time": "2024-11-23T07:49:18.646Z"
   },
   {
    "duration": 83,
    "start_time": "2024-11-23T07:49:30.116Z"
   },
   {
    "duration": 11,
    "start_time": "2024-11-23T07:50:07.347Z"
   },
   {
    "duration": 7,
    "start_time": "2024-11-23T07:50:50.636Z"
   },
   {
    "duration": 9,
    "start_time": "2024-11-23T07:51:26.474Z"
   },
   {
    "duration": 16,
    "start_time": "2024-11-23T07:52:15.220Z"
   },
   {
    "duration": 6,
    "start_time": "2024-11-23T07:52:46.225Z"
   },
   {
    "duration": 68,
    "start_time": "2024-11-23T07:55:24.878Z"
   },
   {
    "duration": 13,
    "start_time": "2024-11-23T07:55:51.276Z"
   },
   {
    "duration": 11,
    "start_time": "2024-11-23T07:57:02.004Z"
   },
   {
    "duration": 6,
    "start_time": "2024-11-23T07:57:21.875Z"
   },
   {
    "duration": 4,
    "start_time": "2024-11-23T07:58:52.050Z"
   },
   {
    "duration": 6,
    "start_time": "2024-11-23T08:00:20.310Z"
   },
   {
    "duration": 87,
    "start_time": "2024-11-23T08:02:38.693Z"
   },
   {
    "duration": 154,
    "start_time": "2024-11-23T08:02:54.899Z"
   },
   {
    "duration": 6,
    "start_time": "2024-11-23T08:05:26.881Z"
   },
   {
    "duration": 16,
    "start_time": "2024-11-23T08:07:03.886Z"
   },
   {
    "duration": 6,
    "start_time": "2024-11-23T08:07:28.471Z"
   },
   {
    "duration": 16,
    "start_time": "2024-11-23T08:08:14.316Z"
   },
   {
    "duration": 1070,
    "start_time": "2024-11-23T08:09:30.995Z"
   },
   {
    "duration": 1016,
    "start_time": "2024-11-23T08:09:48.834Z"
   },
   {
    "duration": 10,
    "start_time": "2024-11-23T08:12:10.711Z"
   },
   {
    "duration": 1222,
    "start_time": "2024-11-23T08:12:25.223Z"
   },
   {
    "duration": 13,
    "start_time": "2024-11-23T08:13:17.933Z"
   },
   {
    "duration": 13,
    "start_time": "2024-11-23T08:13:38.214Z"
   },
   {
    "duration": 73,
    "start_time": "2024-11-23T08:18:08.104Z"
   },
   {
    "duration": 14,
    "start_time": "2024-11-23T08:18:17.247Z"
   },
   {
    "duration": 13,
    "start_time": "2024-11-23T08:19:56.270Z"
   },
   {
    "duration": 278,
    "start_time": "2024-11-23T08:20:24.647Z"
   },
   {
    "duration": 325,
    "start_time": "2024-11-23T08:21:12.996Z"
   },
   {
    "duration": 21265,
    "start_time": "2024-11-23T08:24:24.391Z"
   },
   {
    "duration": 37761,
    "start_time": "2024-11-23T08:30:39.080Z"
   },
   {
    "duration": 1169,
    "start_time": "2024-11-24T07:06:28.342Z"
   },
   {
    "duration": 79,
    "start_time": "2024-11-24T07:06:29.513Z"
   },
   {
    "duration": 92,
    "start_time": "2024-11-24T07:06:29.594Z"
   },
   {
    "duration": 32,
    "start_time": "2024-11-24T07:06:29.688Z"
   },
   {
    "duration": 9,
    "start_time": "2024-11-24T07:06:29.728Z"
   },
   {
    "duration": 12,
    "start_time": "2024-11-24T07:06:29.739Z"
   },
   {
    "duration": 11,
    "start_time": "2024-11-24T07:06:29.753Z"
   },
   {
    "duration": 5,
    "start_time": "2024-11-24T07:06:29.766Z"
   },
   {
    "duration": 20,
    "start_time": "2024-11-24T07:06:29.772Z"
   },
   {
    "duration": 15,
    "start_time": "2024-11-24T07:06:29.795Z"
   },
   {
    "duration": 15,
    "start_time": "2024-11-24T07:06:29.821Z"
   },
   {
    "duration": 173,
    "start_time": "2024-11-24T07:06:29.838Z"
   },
   {
    "duration": 77,
    "start_time": "2024-11-24T07:06:30.012Z"
   },
   {
    "duration": 8,
    "start_time": "2024-11-24T07:06:30.091Z"
   },
   {
    "duration": 239,
    "start_time": "2024-11-24T07:06:30.101Z"
   },
   {
    "duration": 196,
    "start_time": "2024-11-24T07:06:30.342Z"
   },
   {
    "duration": 6,
    "start_time": "2024-11-24T07:06:30.540Z"
   },
   {
    "duration": 19,
    "start_time": "2024-11-24T07:06:30.548Z"
   },
   {
    "duration": 175,
    "start_time": "2024-11-24T07:06:30.570Z"
   },
   {
    "duration": 195,
    "start_time": "2024-11-24T07:06:30.747Z"
   },
   {
    "duration": 7,
    "start_time": "2024-11-24T07:06:30.944Z"
   },
   {
    "duration": 23,
    "start_time": "2024-11-24T07:06:30.952Z"
   },
   {
    "duration": 274,
    "start_time": "2024-11-24T07:06:30.977Z"
   },
   {
    "duration": 24,
    "start_time": "2024-11-24T07:06:31.253Z"
   },
   {
    "duration": 16,
    "start_time": "2024-11-24T07:06:31.278Z"
   },
   {
    "duration": 16,
    "start_time": "2024-11-24T07:06:31.296Z"
   },
   {
    "duration": 36,
    "start_time": "2024-11-24T07:06:31.313Z"
   },
   {
    "duration": 4,
    "start_time": "2024-11-24T07:06:31.352Z"
   },
   {
    "duration": 173,
    "start_time": "2024-11-24T07:06:31.357Z"
   },
   {
    "duration": 203,
    "start_time": "2024-11-24T07:06:31.532Z"
   },
   {
    "duration": 26,
    "start_time": "2024-11-24T07:06:31.737Z"
   },
   {
    "duration": 22,
    "start_time": "2024-11-24T07:06:31.765Z"
   },
   {
    "duration": 288,
    "start_time": "2024-11-24T07:06:31.789Z"
   },
   {
    "duration": 21722,
    "start_time": "2024-11-24T07:06:32.079Z"
   },
   {
    "duration": 30,
    "start_time": "2024-11-24T07:06:53.803Z"
   },
   {
    "duration": 2,
    "start_time": "2024-11-24T07:06:53.835Z"
   },
   {
    "duration": 12,
    "start_time": "2024-11-24T07:06:53.838Z"
   },
   {
    "duration": 5,
    "start_time": "2024-11-24T07:06:53.851Z"
   },
   {
    "duration": 18,
    "start_time": "2024-11-24T07:06:53.858Z"
   },
   {
    "duration": 22,
    "start_time": "2024-11-24T07:06:53.878Z"
   },
   {
    "duration": 26,
    "start_time": "2024-11-24T07:06:53.902Z"
   },
   {
    "duration": 239,
    "start_time": "2024-11-24T07:06:53.930Z"
   },
   {
    "duration": 179,
    "start_time": "2024-11-24T07:06:54.171Z"
   },
   {
    "duration": 12,
    "start_time": "2024-11-24T07:06:54.352Z"
   },
   {
    "duration": 7,
    "start_time": "2024-11-24T07:06:54.366Z"
   },
   {
    "duration": 5,
    "start_time": "2024-11-24T07:19:18.847Z"
   },
   {
    "duration": 1117,
    "start_time": "2024-11-24T07:29:45.458Z"
   },
   {
    "duration": 47,
    "start_time": "2024-11-24T07:29:46.578Z"
   },
   {
    "duration": 42,
    "start_time": "2024-11-24T07:29:46.627Z"
   },
   {
    "duration": 26,
    "start_time": "2024-11-24T07:29:46.672Z"
   },
   {
    "duration": 18,
    "start_time": "2024-11-24T07:29:46.700Z"
   },
   {
    "duration": 7,
    "start_time": "2024-11-24T07:29:46.720Z"
   },
   {
    "duration": 23,
    "start_time": "2024-11-24T07:29:46.728Z"
   },
   {
    "duration": 5,
    "start_time": "2024-11-24T07:29:46.752Z"
   },
   {
    "duration": 10,
    "start_time": "2024-11-24T07:29:46.759Z"
   },
   {
    "duration": 48,
    "start_time": "2024-11-24T07:29:46.773Z"
   },
   {
    "duration": 14,
    "start_time": "2024-11-24T07:29:46.823Z"
   },
   {
    "duration": 180,
    "start_time": "2024-11-24T07:29:46.839Z"
   },
   {
    "duration": 79,
    "start_time": "2024-11-24T07:29:47.022Z"
   },
   {
    "duration": 18,
    "start_time": "2024-11-24T07:29:47.103Z"
   },
   {
    "duration": 150,
    "start_time": "2024-11-24T07:29:47.127Z"
   },
   {
    "duration": 193,
    "start_time": "2024-11-24T07:29:47.279Z"
   },
   {
    "duration": 7,
    "start_time": "2024-11-24T07:29:47.474Z"
   },
   {
    "duration": 11,
    "start_time": "2024-11-24T07:29:47.482Z"
   },
   {
    "duration": 178,
    "start_time": "2024-11-24T07:29:47.494Z"
   },
   {
    "duration": 202,
    "start_time": "2024-11-24T07:29:47.674Z"
   },
   {
    "duration": 6,
    "start_time": "2024-11-24T07:29:47.878Z"
   },
   {
    "duration": 4,
    "start_time": "2024-11-24T07:29:47.886Z"
   },
   {
    "duration": 255,
    "start_time": "2024-11-24T07:29:47.891Z"
   },
   {
    "duration": 19,
    "start_time": "2024-11-24T07:29:48.149Z"
   },
   {
    "duration": 29,
    "start_time": "2024-11-24T07:29:48.170Z"
   },
   {
    "duration": 66,
    "start_time": "2024-11-24T07:29:48.201Z"
   },
   {
    "duration": 15,
    "start_time": "2024-11-24T07:29:48.269Z"
   },
   {
    "duration": 4,
    "start_time": "2024-11-24T07:29:48.287Z"
   },
   {
    "duration": 214,
    "start_time": "2024-11-24T07:29:48.292Z"
   },
   {
    "duration": 205,
    "start_time": "2024-11-24T07:29:48.508Z"
   },
   {
    "duration": 35,
    "start_time": "2024-11-24T07:29:48.715Z"
   },
   {
    "duration": 10,
    "start_time": "2024-11-24T07:29:48.752Z"
   },
   {
    "duration": 290,
    "start_time": "2024-11-24T07:29:48.763Z"
   },
   {
    "duration": 23044,
    "start_time": "2024-11-24T07:29:49.055Z"
   },
   {
    "duration": 36,
    "start_time": "2024-11-24T07:30:12.101Z"
   },
   {
    "duration": 8,
    "start_time": "2024-11-24T07:30:12.140Z"
   },
   {
    "duration": 6,
    "start_time": "2024-11-24T07:30:12.150Z"
   },
   {
    "duration": 88,
    "start_time": "2024-11-24T07:30:12.159Z"
   },
   {
    "duration": 39,
    "start_time": "2024-11-24T07:30:12.249Z"
   },
   {
    "duration": 4,
    "start_time": "2024-11-24T07:30:12.290Z"
   },
   {
    "duration": 279,
    "start_time": "2024-11-24T07:30:12.295Z"
   },
   {
    "duration": 169,
    "start_time": "2024-11-24T07:30:12.576Z"
   },
   {
    "duration": 5,
    "start_time": "2024-11-24T07:30:12.747Z"
   },
   {
    "duration": 14,
    "start_time": "2024-11-24T07:30:12.753Z"
   },
   {
    "duration": 1158,
    "start_time": "2024-11-24T12:31:35.259Z"
   },
   {
    "duration": 98,
    "start_time": "2024-11-24T12:31:36.419Z"
   },
   {
    "duration": 142,
    "start_time": "2024-11-24T12:31:36.518Z"
   },
   {
    "duration": 74,
    "start_time": "2024-11-24T12:31:36.662Z"
   },
   {
    "duration": 4,
    "start_time": "2024-11-24T12:31:36.738Z"
   },
   {
    "duration": 14,
    "start_time": "2024-11-24T12:31:36.744Z"
   },
   {
    "duration": 18,
    "start_time": "2024-11-24T12:31:36.760Z"
   },
   {
    "duration": 5,
    "start_time": "2024-11-24T12:31:36.779Z"
   },
   {
    "duration": 8,
    "start_time": "2024-11-24T12:31:36.786Z"
   },
   {
    "duration": 16,
    "start_time": "2024-11-24T12:31:36.797Z"
   },
   {
    "duration": 7,
    "start_time": "2024-11-24T12:31:36.814Z"
   },
   {
    "duration": 137,
    "start_time": "2024-11-24T12:31:36.822Z"
   },
   {
    "duration": 75,
    "start_time": "2024-11-24T12:31:36.961Z"
   },
   {
    "duration": 10,
    "start_time": "2024-11-24T12:31:37.038Z"
   },
   {
    "duration": 135,
    "start_time": "2024-11-24T12:31:37.049Z"
   },
   {
    "duration": 150,
    "start_time": "2024-11-24T12:31:37.186Z"
   },
   {
    "duration": 7,
    "start_time": "2024-11-24T12:31:37.338Z"
   },
   {
    "duration": 87,
    "start_time": "2024-11-24T12:31:37.346Z"
   },
   {
    "duration": 127,
    "start_time": "2024-11-24T12:31:37.435Z"
   },
   {
    "duration": 155,
    "start_time": "2024-11-24T12:31:37.563Z"
   },
   {
    "duration": 6,
    "start_time": "2024-11-24T12:31:37.720Z"
   },
   {
    "duration": 10,
    "start_time": "2024-11-24T12:31:37.727Z"
   },
   {
    "duration": 183,
    "start_time": "2024-11-24T12:31:37.739Z"
   },
   {
    "duration": 15,
    "start_time": "2024-11-24T12:31:37.924Z"
   },
   {
    "duration": 14,
    "start_time": "2024-11-24T12:31:37.941Z"
   },
   {
    "duration": 14,
    "start_time": "2024-11-24T12:31:37.957Z"
   },
   {
    "duration": 12,
    "start_time": "2024-11-24T12:31:37.973Z"
   },
   {
    "duration": 3,
    "start_time": "2024-11-24T12:31:38.011Z"
   },
   {
    "duration": 147,
    "start_time": "2024-11-24T12:31:38.016Z"
   },
   {
    "duration": 211,
    "start_time": "2024-11-24T12:31:38.165Z"
   },
   {
    "duration": 21,
    "start_time": "2024-11-24T12:31:38.378Z"
   },
   {
    "duration": 19,
    "start_time": "2024-11-24T12:31:38.402Z"
   },
   {
    "duration": 164,
    "start_time": "2024-11-24T12:31:38.422Z"
   },
   {
    "duration": 17194,
    "start_time": "2024-11-24T12:31:38.587Z"
   },
   {
    "duration": 14,
    "start_time": "2024-11-24T12:31:55.782Z"
   },
   {
    "duration": 4,
    "start_time": "2024-11-24T12:31:55.798Z"
   },
   {
    "duration": 11,
    "start_time": "2024-11-24T12:31:55.803Z"
   },
   {
    "duration": 10,
    "start_time": "2024-11-24T12:31:55.815Z"
   },
   {
    "duration": 19,
    "start_time": "2024-11-24T12:31:55.826Z"
   },
   {
    "duration": 3,
    "start_time": "2024-11-24T12:31:55.847Z"
   },
   {
    "duration": 201,
    "start_time": "2024-11-24T12:31:55.851Z"
   },
   {
    "duration": 138,
    "start_time": "2024-11-24T12:31:56.053Z"
   },
   {
    "duration": 3,
    "start_time": "2024-11-24T12:31:56.193Z"
   },
   {
    "duration": 17,
    "start_time": "2024-11-24T12:31:56.197Z"
   },
   {
    "duration": 8,
    "start_time": "2024-11-24T12:33:27.295Z"
   },
   {
    "duration": 14,
    "start_time": "2024-11-24T12:36:44.071Z"
   },
   {
    "duration": 18393,
    "start_time": "2024-11-24T12:37:23.828Z"
   },
   {
    "duration": 10,
    "start_time": "2024-11-24T12:38:05.473Z"
   },
   {
    "duration": 16,
    "start_time": "2024-11-24T12:39:22.733Z"
   },
   {
    "duration": 955,
    "start_time": "2024-11-24T12:46:37.868Z"
   },
   {
    "duration": 43,
    "start_time": "2024-11-24T12:46:38.825Z"
   },
   {
    "duration": 37,
    "start_time": "2024-11-24T12:46:38.869Z"
   },
   {
    "duration": 27,
    "start_time": "2024-11-24T12:46:38.908Z"
   },
   {
    "duration": 4,
    "start_time": "2024-11-24T12:46:38.937Z"
   },
   {
    "duration": 13,
    "start_time": "2024-11-24T12:46:38.943Z"
   },
   {
    "duration": 8,
    "start_time": "2024-11-24T12:46:38.958Z"
   },
   {
    "duration": 3,
    "start_time": "2024-11-24T12:46:38.967Z"
   },
   {
    "duration": 6,
    "start_time": "2024-11-24T12:46:38.971Z"
   },
   {
    "duration": 13,
    "start_time": "2024-11-24T12:46:38.980Z"
   },
   {
    "duration": 22,
    "start_time": "2024-11-24T12:46:38.994Z"
   },
   {
    "duration": 130,
    "start_time": "2024-11-24T12:46:39.018Z"
   },
   {
    "duration": 68,
    "start_time": "2024-11-24T12:46:39.149Z"
   },
   {
    "duration": 7,
    "start_time": "2024-11-24T12:46:39.218Z"
   },
   {
    "duration": 129,
    "start_time": "2024-11-24T12:46:39.227Z"
   },
   {
    "duration": 148,
    "start_time": "2024-11-24T12:46:39.358Z"
   },
   {
    "duration": 5,
    "start_time": "2024-11-24T12:46:39.512Z"
   },
   {
    "duration": 27,
    "start_time": "2024-11-24T12:46:39.518Z"
   },
   {
    "duration": 121,
    "start_time": "2024-11-24T12:46:39.547Z"
   },
   {
    "duration": 156,
    "start_time": "2024-11-24T12:46:39.669Z"
   },
   {
    "duration": 5,
    "start_time": "2024-11-24T12:46:39.827Z"
   },
   {
    "duration": 23,
    "start_time": "2024-11-24T12:46:39.833Z"
   },
   {
    "duration": 197,
    "start_time": "2024-11-24T12:46:39.857Z"
   },
   {
    "duration": 16,
    "start_time": "2024-11-24T12:46:40.055Z"
   },
   {
    "duration": 18,
    "start_time": "2024-11-24T12:46:40.073Z"
   },
   {
    "duration": 17,
    "start_time": "2024-11-24T12:46:40.093Z"
   },
   {
    "duration": 14,
    "start_time": "2024-11-24T12:46:40.111Z"
   },
   {
    "duration": 3,
    "start_time": "2024-11-24T12:46:40.129Z"
   },
   {
    "duration": 166,
    "start_time": "2024-11-24T12:46:40.134Z"
   },
   {
    "duration": 164,
    "start_time": "2024-11-24T12:46:40.302Z"
   },
   {
    "duration": 23,
    "start_time": "2024-11-24T12:46:40.468Z"
   },
   {
    "duration": 20,
    "start_time": "2024-11-24T12:46:40.493Z"
   },
   {
    "duration": 210,
    "start_time": "2024-11-24T12:46:40.514Z"
   },
   {
    "duration": 17624,
    "start_time": "2024-11-24T12:46:40.725Z"
   },
   {
    "duration": 14,
    "start_time": "2024-11-24T12:46:58.350Z"
   },
   {
    "duration": 5,
    "start_time": "2024-11-24T12:46:58.365Z"
   },
   {
    "duration": 5,
    "start_time": "2024-11-24T12:46:58.371Z"
   },
   {
    "duration": 4,
    "start_time": "2024-11-24T12:46:58.377Z"
   },
   {
    "duration": 39,
    "start_time": "2024-11-24T12:46:58.382Z"
   },
   {
    "duration": 3,
    "start_time": "2024-11-24T12:46:58.422Z"
   },
   {
    "duration": 201,
    "start_time": "2024-11-24T12:46:58.427Z"
   },
   {
    "duration": 128,
    "start_time": "2024-11-24T12:46:58.629Z"
   },
   {
    "duration": 4,
    "start_time": "2024-11-24T12:46:58.758Z"
   },
   {
    "duration": 6,
    "start_time": "2024-11-24T12:46:58.763Z"
   },
   {
    "duration": 67,
    "start_time": "2024-11-25T11:21:07.195Z"
   },
   {
    "duration": 1431,
    "start_time": "2024-11-25T11:21:18.793Z"
   },
   {
    "duration": 89,
    "start_time": "2024-11-25T11:21:20.226Z"
   },
   {
    "duration": 166,
    "start_time": "2024-11-25T11:21:20.317Z"
   },
   {
    "duration": 79,
    "start_time": "2024-11-25T11:21:20.485Z"
   },
   {
    "duration": 4,
    "start_time": "2024-11-25T11:21:20.566Z"
   },
   {
    "duration": 17,
    "start_time": "2024-11-25T11:21:20.571Z"
   },
   {
    "duration": 44,
    "start_time": "2024-11-25T11:21:20.590Z"
   },
   {
    "duration": 88,
    "start_time": "2024-11-25T11:21:25.239Z"
   },
   {
    "duration": 13,
    "start_time": "2024-11-25T11:21:43.769Z"
   },
   {
    "duration": 18,
    "start_time": "2024-11-25T11:23:28.911Z"
   },
   {
    "duration": 599,
    "start_time": "2024-11-25T11:24:19.334Z"
   },
   {
    "duration": 691,
    "start_time": "2024-11-25T11:24:50.701Z"
   },
   {
    "duration": 19,
    "start_time": "2024-11-25T11:25:28.325Z"
   },
   {
    "duration": 4,
    "start_time": "2024-11-25T11:26:13.203Z"
   },
   {
    "duration": 1199,
    "start_time": "2024-11-25T11:27:30.143Z"
   },
   {
    "duration": 48,
    "start_time": "2024-11-25T11:27:31.344Z"
   },
   {
    "duration": 52,
    "start_time": "2024-11-25T11:27:31.394Z"
   },
   {
    "duration": 27,
    "start_time": "2024-11-25T11:27:31.448Z"
   },
   {
    "duration": 19,
    "start_time": "2024-11-25T11:27:31.478Z"
   },
   {
    "duration": 46,
    "start_time": "2024-11-25T11:27:31.499Z"
   },
   {
    "duration": 15,
    "start_time": "2024-11-25T11:27:31.547Z"
   },
   {
    "duration": 7,
    "start_time": "2024-11-25T11:28:07.471Z"
   },
   {
    "duration": 106,
    "start_time": "2024-11-25T11:28:33.678Z"
   },
   {
    "duration": 1161,
    "start_time": "2024-11-25T11:29:05.342Z"
   },
   {
    "duration": 1756,
    "start_time": "2024-11-25T11:29:11.766Z"
   },
   {
    "duration": 14,
    "start_time": "2024-11-25T11:29:46.989Z"
   },
   {
    "duration": 1147,
    "start_time": "2024-11-25T11:29:58.797Z"
   },
   {
    "duration": 1076,
    "start_time": "2024-11-25T11:30:51.852Z"
   },
   {
    "duration": 1291,
    "start_time": "2024-11-25T11:31:37.514Z"
   },
   {
    "duration": 1213,
    "start_time": "2024-11-25T11:32:03.353Z"
   },
   {
    "duration": 51,
    "start_time": "2024-11-25T11:32:04.568Z"
   },
   {
    "duration": 46,
    "start_time": "2024-11-25T11:32:04.621Z"
   },
   {
    "duration": 28,
    "start_time": "2024-11-25T11:32:04.669Z"
   },
   {
    "duration": 4,
    "start_time": "2024-11-25T11:32:04.699Z"
   },
   {
    "duration": 19,
    "start_time": "2024-11-25T11:32:04.704Z"
   },
   {
    "duration": 13,
    "start_time": "2024-11-25T11:32:04.725Z"
   },
   {
    "duration": 102,
    "start_time": "2024-11-25T11:32:23.243Z"
   },
   {
    "duration": 16,
    "start_time": "2024-11-25T11:33:43.344Z"
   },
   {
    "duration": 9,
    "start_time": "2024-11-25T11:33:56.168Z"
   },
   {
    "duration": 6,
    "start_time": "2024-11-25T11:34:19.873Z"
   },
   {
    "duration": 10,
    "start_time": "2024-11-25T11:34:47.223Z"
   },
   {
    "duration": 11,
    "start_time": "2024-11-25T11:35:25.975Z"
   },
   {
    "duration": 10,
    "start_time": "2024-11-25T11:35:54.078Z"
   },
   {
    "duration": 9,
    "start_time": "2024-11-25T11:35:56.431Z"
   },
   {
    "duration": 9,
    "start_time": "2024-11-25T11:38:53.722Z"
   },
   {
    "duration": 17,
    "start_time": "2024-11-25T11:40:04.145Z"
   },
   {
    "duration": 7,
    "start_time": "2024-11-25T11:42:33.605Z"
   },
   {
    "duration": 9,
    "start_time": "2024-11-25T11:53:25.280Z"
   },
   {
    "duration": 10,
    "start_time": "2024-11-25T11:53:27.872Z"
   },
   {
    "duration": 10,
    "start_time": "2024-11-25T11:53:30.600Z"
   },
   {
    "duration": 10,
    "start_time": "2024-11-25T11:55:20.269Z"
   },
   {
    "duration": 8,
    "start_time": "2024-11-25T11:56:28.140Z"
   },
   {
    "duration": 13,
    "start_time": "2024-11-25T11:56:59.091Z"
   },
   {
    "duration": 7,
    "start_time": "2024-11-25T11:59:13.657Z"
   },
   {
    "duration": 8,
    "start_time": "2024-11-25T12:07:45.373Z"
   },
   {
    "duration": 177,
    "start_time": "2024-11-25T12:16:13.872Z"
   },
   {
    "duration": 246,
    "start_time": "2024-11-25T12:19:00.258Z"
   },
   {
    "duration": 18,
    "start_time": "2024-11-25T12:26:08.739Z"
   },
   {
    "duration": 9,
    "start_time": "2024-11-25T12:26:18.434Z"
   },
   {
    "duration": 120,
    "start_time": "2024-11-25T12:26:31.129Z"
   },
   {
    "duration": 106,
    "start_time": "2024-11-25T12:28:11.440Z"
   },
   {
    "duration": 144,
    "start_time": "2024-11-25T12:28:44.831Z"
   },
   {
    "duration": 156,
    "start_time": "2024-11-25T12:35:17.855Z"
   },
   {
    "duration": 7,
    "start_time": "2024-11-25T12:36:46.708Z"
   },
   {
    "duration": 168,
    "start_time": "2024-11-25T13:53:01.098Z"
   },
   {
    "duration": 79,
    "start_time": "2024-11-25T13:53:26.856Z"
   },
   {
    "duration": 77,
    "start_time": "2024-11-26T06:46:48.756Z"
   },
   {
    "duration": 175,
    "start_time": "2024-11-26T06:47:58.351Z"
   },
   {
    "duration": 72,
    "start_time": "2024-11-26T06:49:29.560Z"
   },
   {
    "duration": 77,
    "start_time": "2024-11-26T06:50:01.205Z"
   },
   {
    "duration": 8,
    "start_time": "2024-11-26T06:51:40.043Z"
   },
   {
    "duration": 10,
    "start_time": "2024-11-26T06:58:35.650Z"
   },
   {
    "duration": 5,
    "start_time": "2024-11-26T07:01:04.095Z"
   },
   {
    "duration": 10,
    "start_time": "2024-11-26T07:01:42.677Z"
   },
   {
    "duration": 6,
    "start_time": "2024-11-26T07:01:55.493Z"
   },
   {
    "duration": 11,
    "start_time": "2024-11-26T07:01:59.028Z"
   },
   {
    "duration": 177,
    "start_time": "2024-11-26T07:04:35.346Z"
   },
   {
    "duration": 176,
    "start_time": "2024-11-26T07:04:52.633Z"
   },
   {
    "duration": 125,
    "start_time": "2024-11-26T07:05:24.312Z"
   },
   {
    "duration": 172,
    "start_time": "2024-11-26T07:05:34.392Z"
   },
   {
    "duration": 180,
    "start_time": "2024-11-26T07:05:57.463Z"
   },
   {
    "duration": 76,
    "start_time": "2024-11-26T07:25:35.339Z"
   },
   {
    "duration": 13,
    "start_time": "2024-11-26T07:25:45.722Z"
   },
   {
    "duration": 10,
    "start_time": "2024-11-26T07:26:03.275Z"
   },
   {
    "duration": 10,
    "start_time": "2024-11-26T07:26:14.970Z"
   },
   {
    "duration": 9654,
    "start_time": "2024-11-26T07:26:50.121Z"
   },
   {
    "duration": 14,
    "start_time": "2024-11-26T07:28:20.423Z"
   },
   {
    "duration": 14,
    "start_time": "2024-11-26T07:29:06.869Z"
   },
   {
    "duration": 429,
    "start_time": "2024-11-26T07:30:33.819Z"
   },
   {
    "duration": 180,
    "start_time": "2024-11-26T07:32:36.753Z"
   },
   {
    "duration": 155,
    "start_time": "2024-11-26T07:33:22.800Z"
   },
   {
    "duration": 184,
    "start_time": "2024-11-26T07:37:38.264Z"
   },
   {
    "duration": 171,
    "start_time": "2024-11-26T07:38:49.742Z"
   },
   {
    "duration": 199,
    "start_time": "2024-11-26T07:39:29.601Z"
   },
   {
    "duration": 237,
    "start_time": "2024-11-26T07:39:57.861Z"
   },
   {
    "duration": 219,
    "start_time": "2024-11-26T07:40:54.060Z"
   },
   {
    "duration": 308,
    "start_time": "2024-11-26T07:40:58.979Z"
   },
   {
    "duration": 20,
    "start_time": "2024-11-26T07:52:35.339Z"
   },
   {
    "duration": 13,
    "start_time": "2024-11-26T07:53:03.138Z"
   },
   {
    "duration": 48,
    "start_time": "2024-11-26T15:33:28.162Z"
   },
   {
    "duration": 1296,
    "start_time": "2024-11-26T15:33:45.972Z"
   },
   {
    "duration": 99,
    "start_time": "2024-11-26T15:33:47.270Z"
   },
   {
    "duration": 174,
    "start_time": "2024-11-26T15:33:47.371Z"
   },
   {
    "duration": 75,
    "start_time": "2024-11-26T15:33:47.556Z"
   },
   {
    "duration": 3,
    "start_time": "2024-11-26T15:33:47.633Z"
   },
   {
    "duration": 30,
    "start_time": "2024-11-26T15:33:47.638Z"
   },
   {
    "duration": 25,
    "start_time": "2024-11-26T15:33:47.670Z"
   },
   {
    "duration": 8,
    "start_time": "2024-11-26T15:33:47.696Z"
   },
   {
    "duration": 6,
    "start_time": "2024-11-26T15:33:47.706Z"
   },
   {
    "duration": 10,
    "start_time": "2024-11-26T15:33:47.714Z"
   },
   {
    "duration": 37,
    "start_time": "2024-11-26T15:33:47.726Z"
   },
   {
    "duration": 13,
    "start_time": "2024-11-26T15:33:47.765Z"
   },
   {
    "duration": 207,
    "start_time": "2024-11-26T15:33:47.780Z"
   },
   {
    "duration": 6,
    "start_time": "2024-11-26T15:33:47.989Z"
   },
   {
    "duration": 87,
    "start_time": "2024-11-26T15:33:47.997Z"
   },
   {
    "duration": 8,
    "start_time": "2024-11-26T15:33:48.086Z"
   },
   {
    "duration": 164,
    "start_time": "2024-11-26T15:33:48.096Z"
   },
   {
    "duration": 9,
    "start_time": "2024-11-26T15:33:48.262Z"
   },
   {
    "duration": 198,
    "start_time": "2024-11-26T15:33:48.273Z"
   },
   {
    "duration": 7,
    "start_time": "2024-11-26T15:33:48.473Z"
   },
   {
    "duration": 9,
    "start_time": "2024-11-26T15:33:48.482Z"
   },
   {
    "duration": 8,
    "start_time": "2024-11-26T15:33:48.492Z"
   },
   {
    "duration": 199,
    "start_time": "2024-11-26T15:33:48.501Z"
   },
   {
    "duration": 256,
    "start_time": "2024-11-26T15:33:48.701Z"
   },
   {
    "duration": 22804,
    "start_time": "2024-11-26T15:33:55.813Z"
   },
   {
    "duration": 22607,
    "start_time": "2024-11-26T15:36:12.150Z"
   },
   {
    "duration": 1378,
    "start_time": "2024-11-27T06:22:44.191Z"
   },
   {
    "duration": 1039,
    "start_time": "2024-11-27T06:24:33.573Z"
   },
   {
    "duration": 8,
    "start_time": "2024-11-27T06:25:03.436Z"
   },
   {
    "duration": 1190,
    "start_time": "2024-11-27T06:26:16.026Z"
   },
   {
    "duration": 49,
    "start_time": "2024-11-27T06:26:17.217Z"
   },
   {
    "duration": 43,
    "start_time": "2024-11-27T06:26:17.271Z"
   },
   {
    "duration": 32,
    "start_time": "2024-11-27T06:26:17.316Z"
   },
   {
    "duration": 4,
    "start_time": "2024-11-27T06:26:17.349Z"
   },
   {
    "duration": 14,
    "start_time": "2024-11-27T06:26:17.355Z"
   },
   {
    "duration": 27,
    "start_time": "2024-11-27T06:26:17.371Z"
   },
   {
    "duration": 8,
    "start_time": "2024-11-27T06:26:17.400Z"
   },
   {
    "duration": 7,
    "start_time": "2024-11-27T06:26:17.411Z"
   },
   {
    "duration": 10,
    "start_time": "2024-11-27T06:26:17.421Z"
   },
   {
    "duration": 9,
    "start_time": "2024-11-27T06:26:17.443Z"
   },
   {
    "duration": 9,
    "start_time": "2024-11-27T06:26:17.454Z"
   },
   {
    "duration": 186,
    "start_time": "2024-11-27T06:26:17.465Z"
   },
   {
    "duration": 7,
    "start_time": "2024-11-27T06:26:17.653Z"
   },
   {
    "duration": 109,
    "start_time": "2024-11-27T06:26:17.662Z"
   },
   {
    "duration": 9,
    "start_time": "2024-11-27T06:26:17.774Z"
   },
   {
    "duration": 158,
    "start_time": "2024-11-27T06:26:17.785Z"
   },
   {
    "duration": 9,
    "start_time": "2024-11-27T06:26:17.944Z"
   },
   {
    "duration": 278,
    "start_time": "2024-11-27T06:26:17.955Z"
   },
   {
    "duration": 19,
    "start_time": "2024-11-27T06:26:18.235Z"
   },
   {
    "duration": 48,
    "start_time": "2024-11-27T06:26:18.256Z"
   },
   {
    "duration": 11,
    "start_time": "2024-11-27T06:26:18.307Z"
   },
   {
    "duration": 180,
    "start_time": "2024-11-27T06:26:18.320Z"
   },
   {
    "duration": 207,
    "start_time": "2024-11-27T06:26:18.501Z"
   },
   {
    "duration": 102,
    "start_time": "2024-11-27T06:26:18.710Z"
   },
   {
    "duration": 0,
    "start_time": "2024-11-27T06:26:18.815Z"
   },
   {
    "duration": 0,
    "start_time": "2024-11-27T06:26:18.817Z"
   },
   {
    "duration": 0,
    "start_time": "2024-11-27T06:26:18.819Z"
   },
   {
    "duration": 0,
    "start_time": "2024-11-27T06:26:18.820Z"
   },
   {
    "duration": 0,
    "start_time": "2024-11-27T06:26:18.822Z"
   },
   {
    "duration": 0,
    "start_time": "2024-11-27T06:26:18.823Z"
   },
   {
    "duration": 0,
    "start_time": "2024-11-27T06:26:18.843Z"
   },
   {
    "duration": 0,
    "start_time": "2024-11-27T06:26:18.845Z"
   },
   {
    "duration": 0,
    "start_time": "2024-11-27T06:26:18.847Z"
   },
   {
    "duration": 0,
    "start_time": "2024-11-27T06:26:18.849Z"
   },
   {
    "duration": 0,
    "start_time": "2024-11-27T06:26:18.851Z"
   },
   {
    "duration": 0,
    "start_time": "2024-11-27T06:26:18.852Z"
   },
   {
    "duration": 0,
    "start_time": "2024-11-27T06:26:18.853Z"
   },
   {
    "duration": 0,
    "start_time": "2024-11-27T06:26:18.855Z"
   },
   {
    "duration": 0,
    "start_time": "2024-11-27T06:26:18.856Z"
   },
   {
    "duration": 0,
    "start_time": "2024-11-27T06:26:18.857Z"
   },
   {
    "duration": 0,
    "start_time": "2024-11-27T06:26:18.858Z"
   },
   {
    "duration": 0,
    "start_time": "2024-11-27T06:26:18.859Z"
   },
   {
    "duration": 0,
    "start_time": "2024-11-27T06:26:18.860Z"
   },
   {
    "duration": 0,
    "start_time": "2024-11-27T06:26:18.861Z"
   },
   {
    "duration": 0,
    "start_time": "2024-11-27T06:26:18.862Z"
   },
   {
    "duration": 0,
    "start_time": "2024-11-27T06:26:18.864Z"
   },
   {
    "duration": 0,
    "start_time": "2024-11-27T06:26:18.864Z"
   },
   {
    "duration": 0,
    "start_time": "2024-11-27T06:26:18.866Z"
   },
   {
    "duration": 0,
    "start_time": "2024-11-27T06:26:18.867Z"
   },
   {
    "duration": 0,
    "start_time": "2024-11-27T06:26:18.869Z"
   },
   {
    "duration": 6,
    "start_time": "2024-11-27T06:27:20.954Z"
   },
   {
    "duration": 4,
    "start_time": "2024-11-27T06:28:33.511Z"
   },
   {
    "duration": 4,
    "start_time": "2024-11-27T06:29:15.486Z"
   },
   {
    "duration": 12,
    "start_time": "2024-11-27T06:31:08.939Z"
   },
   {
    "duration": 3,
    "start_time": "2024-11-27T06:32:43.107Z"
   },
   {
    "duration": 67,
    "start_time": "2024-11-27T06:33:21.209Z"
   },
   {
    "duration": 65,
    "start_time": "2024-11-27T06:33:44.200Z"
   },
   {
    "duration": 64,
    "start_time": "2024-11-27T06:33:53.746Z"
   },
   {
    "duration": 4,
    "start_time": "2024-11-27T06:34:05.401Z"
   },
   {
    "duration": 12,
    "start_time": "2024-11-27T06:34:16.793Z"
   },
   {
    "duration": 7,
    "start_time": "2024-11-27T06:35:00.904Z"
   },
   {
    "duration": 5,
    "start_time": "2024-11-27T06:36:52.516Z"
   },
   {
    "duration": 4,
    "start_time": "2024-11-27T06:37:00.709Z"
   },
   {
    "duration": 242,
    "start_time": "2024-11-27T06:39:28.356Z"
   },
   {
    "duration": 70,
    "start_time": "2024-11-27T06:47:03.798Z"
   },
   {
    "duration": 70,
    "start_time": "2024-11-27T06:47:26.024Z"
   },
   {
    "duration": 66,
    "start_time": "2024-11-27T06:47:40.119Z"
   },
   {
    "duration": 206,
    "start_time": "2024-11-27T06:49:10.766Z"
   },
   {
    "duration": 1190,
    "start_time": "2024-11-27T06:50:52.660Z"
   },
   {
    "duration": 6,
    "start_time": "2024-11-27T06:51:11.876Z"
   },
   {
    "duration": 6,
    "start_time": "2024-11-27T06:51:20.435Z"
   },
   {
    "duration": 9,
    "start_time": "2024-11-27T06:51:55.602Z"
   },
   {
    "duration": 14,
    "start_time": "2024-11-27T07:00:32.295Z"
   },
   {
    "duration": 18,
    "start_time": "2024-11-27T07:03:38.155Z"
   },
   {
    "duration": 15,
    "start_time": "2024-11-27T07:04:41.658Z"
   },
   {
    "duration": 13,
    "start_time": "2024-11-27T07:05:15.280Z"
   },
   {
    "duration": 11,
    "start_time": "2024-11-27T07:06:13.238Z"
   },
   {
    "duration": 21,
    "start_time": "2024-11-27T07:06:55.073Z"
   },
   {
    "duration": 7,
    "start_time": "2024-11-27T07:07:33.684Z"
   },
   {
    "duration": 8,
    "start_time": "2024-11-27T07:13:21.647Z"
   },
   {
    "duration": 869,
    "start_time": "2024-11-27T07:14:12.726Z"
   },
   {
    "duration": 6,
    "start_time": "2024-11-27T07:14:24.485Z"
   },
   {
    "duration": 8,
    "start_time": "2024-11-27T07:14:50.246Z"
   },
   {
    "duration": 17,
    "start_time": "2024-11-27T07:15:13.572Z"
   },
   {
    "duration": 1155,
    "start_time": "2024-11-27T07:15:26.236Z"
   },
   {
    "duration": 7,
    "start_time": "2024-11-27T07:16:32.099Z"
   },
   {
    "duration": 7,
    "start_time": "2024-11-27T07:17:29.591Z"
   },
   {
    "duration": 9,
    "start_time": "2024-11-27T07:17:36.202Z"
   },
   {
    "duration": 9,
    "start_time": "2024-11-27T07:19:26.783Z"
   },
   {
    "duration": 14,
    "start_time": "2024-11-27T07:20:45.109Z"
   },
   {
    "duration": 13,
    "start_time": "2024-11-27T07:21:03.293Z"
   },
   {
    "duration": 13,
    "start_time": "2024-11-27T07:21:08.199Z"
   },
   {
    "duration": 1378,
    "start_time": "2024-11-27T07:21:30.277Z"
   },
   {
    "duration": 6,
    "start_time": "2024-11-27T07:21:37.164Z"
   },
   {
    "duration": 7,
    "start_time": "2024-11-27T07:22:04.851Z"
   },
   {
    "duration": 25,
    "start_time": "2024-11-27T07:23:46.250Z"
   },
   {
    "duration": 21,
    "start_time": "2024-11-27T07:24:18.575Z"
   },
   {
    "duration": 23,
    "start_time": "2024-11-27T07:24:33.242Z"
   },
   {
    "duration": 1202,
    "start_time": "2024-11-27T07:25:25.123Z"
   },
   {
    "duration": 48,
    "start_time": "2024-11-27T07:25:26.327Z"
   },
   {
    "duration": 43,
    "start_time": "2024-11-27T07:25:26.377Z"
   },
   {
    "duration": 26,
    "start_time": "2024-11-27T07:25:26.422Z"
   },
   {
    "duration": 4,
    "start_time": "2024-11-27T07:25:26.450Z"
   },
   {
    "duration": 23,
    "start_time": "2024-11-27T07:25:26.455Z"
   },
   {
    "duration": 13,
    "start_time": "2024-11-27T07:25:26.479Z"
   },
   {
    "duration": 8,
    "start_time": "2024-11-27T07:25:26.493Z"
   },
   {
    "duration": 12,
    "start_time": "2024-11-27T07:25:26.502Z"
   },
   {
    "duration": 9,
    "start_time": "2024-11-27T07:25:26.517Z"
   },
   {
    "duration": 22,
    "start_time": "2024-11-27T07:25:26.527Z"
   },
   {
    "duration": 26,
    "start_time": "2024-11-27T07:25:26.551Z"
   },
   {
    "duration": 165,
    "start_time": "2024-11-27T07:25:26.579Z"
   },
   {
    "duration": 6,
    "start_time": "2024-11-27T07:25:26.746Z"
   },
   {
    "duration": 113,
    "start_time": "2024-11-27T07:25:26.754Z"
   },
   {
    "duration": 12,
    "start_time": "2024-11-27T07:25:26.869Z"
   },
   {
    "duration": 156,
    "start_time": "2024-11-27T07:25:26.883Z"
   },
   {
    "duration": 8,
    "start_time": "2024-11-27T07:25:27.042Z"
   },
   {
    "duration": 197,
    "start_time": "2024-11-27T07:25:27.051Z"
   },
   {
    "duration": 6,
    "start_time": "2024-11-27T07:25:27.250Z"
   },
   {
    "duration": 15,
    "start_time": "2024-11-27T07:25:27.258Z"
   },
   {
    "duration": 16,
    "start_time": "2024-11-27T07:25:27.274Z"
   },
   {
    "duration": 189,
    "start_time": "2024-11-27T07:25:27.292Z"
   },
   {
    "duration": 219,
    "start_time": "2024-11-27T07:25:27.483Z"
   },
   {
    "duration": 5,
    "start_time": "2024-11-27T07:25:27.704Z"
   },
   {
    "duration": 20,
    "start_time": "2024-11-27T07:25:27.711Z"
   },
   {
    "duration": 25,
    "start_time": "2024-11-27T07:25:27.732Z"
   },
   {
    "duration": 37,
    "start_time": "2024-11-27T07:25:27.762Z"
   },
   {
    "duration": 5,
    "start_time": "2024-11-27T07:25:27.801Z"
   },
   {
    "duration": 33,
    "start_time": "2024-11-27T07:25:27.807Z"
   },
   {
    "duration": 170,
    "start_time": "2024-11-27T07:25:27.843Z"
   },
   {
    "duration": 262,
    "start_time": "2024-11-27T07:25:28.015Z"
   },
   {
    "duration": 7,
    "start_time": "2024-11-27T07:25:28.278Z"
   },
   {
    "duration": 40,
    "start_time": "2024-11-27T07:25:28.287Z"
   },
   {
    "duration": 215,
    "start_time": "2024-11-27T07:25:28.328Z"
   },
   {
    "duration": 19,
    "start_time": "2024-11-27T07:25:28.545Z"
   },
   {
    "duration": 19,
    "start_time": "2024-11-27T07:25:28.565Z"
   },
   {
    "duration": 19,
    "start_time": "2024-11-27T07:25:28.585Z"
   },
   {
    "duration": 42,
    "start_time": "2024-11-27T07:25:28.606Z"
   },
   {
    "duration": 5,
    "start_time": "2024-11-27T07:25:28.649Z"
   },
   {
    "duration": 176,
    "start_time": "2024-11-27T07:25:28.655Z"
   },
   {
    "duration": 200,
    "start_time": "2024-11-27T07:25:28.833Z"
   },
   {
    "duration": 34,
    "start_time": "2024-11-27T07:25:29.035Z"
   },
   {
    "duration": 10,
    "start_time": "2024-11-27T07:25:29.071Z"
   },
   {
    "duration": 233,
    "start_time": "2024-11-27T07:25:29.083Z"
   },
   {
    "duration": 17,
    "start_time": "2024-11-27T07:25:29.318Z"
   },
   {
    "duration": 136,
    "start_time": "2024-11-27T07:25:29.336Z"
   },
   {
    "duration": 20,
    "start_time": "2024-11-27T07:25:29.473Z"
   },
   {
    "duration": 27,
    "start_time": "2024-11-27T07:25:29.495Z"
   },
   {
    "duration": 31,
    "start_time": "2024-11-27T07:25:29.524Z"
   },
   {
    "duration": 5,
    "start_time": "2024-11-27T07:25:29.557Z"
   },
   {
    "duration": 399,
    "start_time": "2024-11-27T07:25:29.564Z"
   },
   {
    "duration": 192,
    "start_time": "2024-11-27T07:25:29.965Z"
   },
   {
    "duration": 4,
    "start_time": "2024-11-27T07:25:30.159Z"
   },
   {
    "duration": 185,
    "start_time": "2024-11-27T07:25:30.165Z"
   },
   {
    "duration": 5065,
    "start_time": "2024-11-27T07:31:06.266Z"
   },
   {
    "duration": 26,
    "start_time": "2024-11-27T08:40:26.275Z"
   },
   {
    "duration": 652,
    "start_time": "2024-11-27T08:41:05.451Z"
   },
   {
    "duration": 438,
    "start_time": "2024-11-27T08:43:51.608Z"
   },
   {
    "duration": 504,
    "start_time": "2024-11-27T08:52:37.992Z"
   },
   {
    "duration": 1415,
    "start_time": "2024-11-27T08:53:02.830Z"
   },
   {
    "duration": 1180,
    "start_time": "2024-11-27T08:55:13.253Z"
   },
   {
    "duration": 47,
    "start_time": "2024-11-27T08:55:14.435Z"
   },
   {
    "duration": 44,
    "start_time": "2024-11-27T08:55:14.484Z"
   },
   {
    "duration": 43,
    "start_time": "2024-11-27T08:55:14.531Z"
   },
   {
    "duration": 96,
    "start_time": "2024-11-27T08:55:14.576Z"
   },
   {
    "duration": 13,
    "start_time": "2024-11-27T08:55:14.674Z"
   },
   {
    "duration": 12,
    "start_time": "2024-11-27T08:55:14.688Z"
   },
   {
    "duration": 8,
    "start_time": "2024-11-27T08:55:14.702Z"
   },
   {
    "duration": 53,
    "start_time": "2024-11-27T08:55:14.712Z"
   },
   {
    "duration": 11,
    "start_time": "2024-11-27T08:55:14.768Z"
   },
   {
    "duration": 12,
    "start_time": "2024-11-27T08:55:14.781Z"
   },
   {
    "duration": 10,
    "start_time": "2024-11-27T08:55:14.795Z"
   },
   {
    "duration": 169,
    "start_time": "2024-11-27T08:55:14.807Z"
   },
   {
    "duration": 6,
    "start_time": "2024-11-27T08:55:14.978Z"
   },
   {
    "duration": 91,
    "start_time": "2024-11-27T08:55:14.985Z"
   },
   {
    "duration": 8,
    "start_time": "2024-11-27T08:55:15.078Z"
   },
   {
    "duration": 158,
    "start_time": "2024-11-27T08:55:15.088Z"
   },
   {
    "duration": 9,
    "start_time": "2024-11-27T08:55:15.247Z"
   },
   {
    "duration": 316,
    "start_time": "2024-11-27T08:55:15.258Z"
   },
   {
    "duration": 7,
    "start_time": "2024-11-27T08:55:15.576Z"
   },
   {
    "duration": 17,
    "start_time": "2024-11-27T08:55:15.585Z"
   },
   {
    "duration": 22,
    "start_time": "2024-11-27T08:55:15.604Z"
   },
   {
    "duration": 216,
    "start_time": "2024-11-27T08:55:15.628Z"
   },
   {
    "duration": 258,
    "start_time": "2024-11-27T08:55:15.846Z"
   },
   {
    "duration": 5193,
    "start_time": "2024-11-27T08:55:16.106Z"
   },
   {
    "duration": 1234,
    "start_time": "2024-11-27T08:55:21.301Z"
   },
   {
    "duration": 109,
    "start_time": "2024-11-27T08:55:22.537Z"
   },
   {
    "duration": 0,
    "start_time": "2024-11-27T08:55:22.649Z"
   },
   {
    "duration": 0,
    "start_time": "2024-11-27T08:55:22.650Z"
   },
   {
    "duration": 0,
    "start_time": "2024-11-27T08:55:22.651Z"
   },
   {
    "duration": 0,
    "start_time": "2024-11-27T08:55:22.652Z"
   },
   {
    "duration": 0,
    "start_time": "2024-11-27T08:55:22.653Z"
   },
   {
    "duration": 0,
    "start_time": "2024-11-27T08:55:22.655Z"
   },
   {
    "duration": 0,
    "start_time": "2024-11-27T08:55:22.656Z"
   },
   {
    "duration": 0,
    "start_time": "2024-11-27T08:55:22.657Z"
   },
   {
    "duration": 0,
    "start_time": "2024-11-27T08:55:22.658Z"
   },
   {
    "duration": 0,
    "start_time": "2024-11-27T08:55:22.659Z"
   },
   {
    "duration": 0,
    "start_time": "2024-11-27T08:55:22.659Z"
   },
   {
    "duration": 0,
    "start_time": "2024-11-27T08:55:22.660Z"
   },
   {
    "duration": 0,
    "start_time": "2024-11-27T08:55:22.661Z"
   },
   {
    "duration": 0,
    "start_time": "2024-11-27T08:55:22.662Z"
   },
   {
    "duration": 0,
    "start_time": "2024-11-27T08:55:22.663Z"
   },
   {
    "duration": 0,
    "start_time": "2024-11-27T08:55:22.664Z"
   },
   {
    "duration": 0,
    "start_time": "2024-11-27T08:55:22.665Z"
   },
   {
    "duration": 0,
    "start_time": "2024-11-27T08:55:22.666Z"
   },
   {
    "duration": 0,
    "start_time": "2024-11-27T08:55:22.668Z"
   },
   {
    "duration": 0,
    "start_time": "2024-11-27T08:55:22.669Z"
   },
   {
    "duration": 0,
    "start_time": "2024-11-27T08:55:22.673Z"
   },
   {
    "duration": 0,
    "start_time": "2024-11-27T08:55:22.675Z"
   },
   {
    "duration": 0,
    "start_time": "2024-11-27T08:55:22.676Z"
   },
   {
    "duration": 0,
    "start_time": "2024-11-27T08:55:22.677Z"
   },
   {
    "duration": 0,
    "start_time": "2024-11-27T08:55:22.678Z"
   },
   {
    "duration": 0,
    "start_time": "2024-11-27T08:55:22.680Z"
   },
   {
    "duration": 5176,
    "start_time": "2024-11-27T08:57:03.710Z"
   },
   {
    "duration": 190,
    "start_time": "2024-11-27T08:58:34.605Z"
   },
   {
    "duration": 251,
    "start_time": "2024-11-27T08:58:40.246Z"
   },
   {
    "duration": 1441,
    "start_time": "2024-11-27T08:58:46.974Z"
   },
   {
    "duration": 130,
    "start_time": "2024-11-27T08:58:53.662Z"
   },
   {
    "duration": 155,
    "start_time": "2024-11-27T08:59:08.638Z"
   },
   {
    "duration": 184,
    "start_time": "2024-11-27T08:59:24.960Z"
   },
   {
    "duration": 5168,
    "start_time": "2024-11-27T09:06:56.715Z"
   },
   {
    "duration": 59,
    "start_time": "2024-11-27T09:07:52.915Z"
   },
   {
    "duration": 4980,
    "start_time": "2024-11-27T09:08:12.411Z"
   },
   {
    "duration": 24,
    "start_time": "2024-11-27T09:11:22.022Z"
   },
   {
    "duration": 155,
    "start_time": "2024-11-27T09:11:56.453Z"
   },
   {
    "duration": 142,
    "start_time": "2024-11-27T09:12:11.148Z"
   },
   {
    "duration": 136,
    "start_time": "2024-11-27T09:12:29.660Z"
   },
   {
    "duration": 255,
    "start_time": "2024-11-27T09:13:11.419Z"
   },
   {
    "duration": 347,
    "start_time": "2024-11-27T09:20:37.777Z"
   },
   {
    "duration": 282,
    "start_time": "2024-11-27T09:21:07.495Z"
   },
   {
    "duration": 271,
    "start_time": "2024-11-27T09:21:21.832Z"
   },
   {
    "duration": 139,
    "start_time": "2024-11-27T09:22:45.863Z"
   },
   {
    "duration": 165,
    "start_time": "2024-11-27T09:24:50.803Z"
   },
   {
    "duration": 195,
    "start_time": "2024-11-27T09:25:00.043Z"
   },
   {
    "duration": 160,
    "start_time": "2024-11-27T09:34:38.374Z"
   },
   {
    "duration": 73,
    "start_time": "2024-11-27T09:36:46.980Z"
   },
   {
    "duration": 332,
    "start_time": "2024-11-27T09:37:07.913Z"
   },
   {
    "duration": 291,
    "start_time": "2024-11-27T09:39:48.690Z"
   },
   {
    "duration": 312,
    "start_time": "2024-11-27T09:40:21.047Z"
   },
   {
    "duration": 295,
    "start_time": "2024-11-27T09:40:28.040Z"
   },
   {
    "duration": 5539,
    "start_time": "2024-11-27T09:43:15.884Z"
   },
   {
    "duration": 5724,
    "start_time": "2024-11-27T09:44:04.295Z"
   },
   {
    "duration": 75,
    "start_time": "2024-11-27T09:46:06.392Z"
   },
   {
    "duration": 289,
    "start_time": "2024-11-27T10:03:22.166Z"
   },
   {
    "duration": 213,
    "start_time": "2024-11-27T10:03:27.211Z"
   },
   {
    "duration": 194,
    "start_time": "2024-11-27T10:12:19.400Z"
   },
   {
    "duration": 140,
    "start_time": "2024-11-27T10:12:45.142Z"
   },
   {
    "duration": 28,
    "start_time": "2024-11-27T10:14:09.686Z"
   },
   {
    "duration": 10,
    "start_time": "2024-11-27T10:14:22.155Z"
   },
   {
    "duration": 5,
    "start_time": "2024-11-27T10:16:17.377Z"
   },
   {
    "duration": 6,
    "start_time": "2024-11-27T10:16:52.383Z"
   },
   {
    "duration": 5,
    "start_time": "2024-11-27T10:18:37.367Z"
   },
   {
    "duration": 6,
    "start_time": "2024-11-27T10:19:27.595Z"
   },
   {
    "duration": 11,
    "start_time": "2024-11-27T10:20:02.683Z"
   },
   {
    "duration": 5,
    "start_time": "2024-11-27T10:22:06.610Z"
   },
   {
    "duration": 7,
    "start_time": "2024-11-27T10:22:15.401Z"
   },
   {
    "duration": 7,
    "start_time": "2024-11-27T10:22:26.007Z"
   },
   {
    "duration": 232,
    "start_time": "2024-11-27T10:31:38.887Z"
   },
   {
    "duration": 186,
    "start_time": "2024-11-27T10:32:38.219Z"
   },
   {
    "duration": 190,
    "start_time": "2024-11-27T10:34:12.955Z"
   },
   {
    "duration": 162,
    "start_time": "2024-11-27T10:35:52.432Z"
   },
   {
    "duration": 297,
    "start_time": "2024-11-27T10:36:47.384Z"
   },
   {
    "duration": 1552,
    "start_time": "2024-11-27T10:37:30.997Z"
   },
   {
    "duration": 1521,
    "start_time": "2024-11-27T10:37:51.716Z"
   },
   {
    "duration": 194,
    "start_time": "2024-11-27T10:38:24.827Z"
   },
   {
    "duration": 199,
    "start_time": "2024-11-27T10:38:43.758Z"
   },
   {
    "duration": 280,
    "start_time": "2024-11-27T10:39:28.415Z"
   },
   {
    "duration": 218,
    "start_time": "2024-11-27T10:40:02.995Z"
   },
   {
    "duration": 183,
    "start_time": "2024-11-27T10:40:58.394Z"
   },
   {
    "duration": 141,
    "start_time": "2024-11-27T10:41:09.776Z"
   },
   {
    "duration": 160,
    "start_time": "2024-11-27T10:41:48.752Z"
   },
   {
    "duration": 75,
    "start_time": "2024-11-27T10:42:35.849Z"
   },
   {
    "duration": 73,
    "start_time": "2024-11-27T10:42:41.087Z"
   },
   {
    "duration": 27,
    "start_time": "2024-11-27T10:43:25.415Z"
   },
   {
    "duration": 30,
    "start_time": "2024-11-27T10:43:29.766Z"
   },
   {
    "duration": 26,
    "start_time": "2024-11-27T10:46:40.537Z"
   },
   {
    "duration": 4,
    "start_time": "2024-11-27T10:47:11.490Z"
   },
   {
    "duration": 11,
    "start_time": "2024-11-27T10:51:23.741Z"
   },
   {
    "duration": 3,
    "start_time": "2024-11-27T10:51:30.234Z"
   },
   {
    "duration": 7,
    "start_time": "2024-11-27T10:51:32.524Z"
   },
   {
    "duration": 1155,
    "start_time": "2024-11-27T10:53:57.477Z"
   },
   {
    "duration": 48,
    "start_time": "2024-11-27T10:53:58.635Z"
   },
   {
    "duration": 44,
    "start_time": "2024-11-27T10:53:58.684Z"
   },
   {
    "duration": 28,
    "start_time": "2024-11-27T10:53:58.730Z"
   },
   {
    "duration": 4,
    "start_time": "2024-11-27T10:53:58.759Z"
   },
   {
    "duration": 27,
    "start_time": "2024-11-27T10:53:58.765Z"
   },
   {
    "duration": 12,
    "start_time": "2024-11-27T10:53:58.794Z"
   },
   {
    "duration": 7,
    "start_time": "2024-11-27T10:53:58.808Z"
   },
   {
    "duration": 5,
    "start_time": "2024-11-27T10:53:58.817Z"
   },
   {
    "duration": 11,
    "start_time": "2024-11-27T10:53:58.842Z"
   },
   {
    "duration": 23,
    "start_time": "2024-11-27T10:53:58.854Z"
   },
   {
    "duration": 8,
    "start_time": "2024-11-27T10:53:58.879Z"
   },
   {
    "duration": 214,
    "start_time": "2024-11-27T10:53:58.889Z"
   },
   {
    "duration": 7,
    "start_time": "2024-11-27T10:53:59.105Z"
   },
   {
    "duration": 125,
    "start_time": "2024-11-27T10:53:59.114Z"
   },
   {
    "duration": 9,
    "start_time": "2024-11-27T10:53:59.241Z"
   },
   {
    "duration": 171,
    "start_time": "2024-11-27T10:53:59.252Z"
   },
   {
    "duration": 18,
    "start_time": "2024-11-27T10:53:59.425Z"
   },
   {
    "duration": 222,
    "start_time": "2024-11-27T10:53:59.445Z"
   },
   {
    "duration": 14,
    "start_time": "2024-11-27T10:53:59.669Z"
   },
   {
    "duration": 2,
    "start_time": "2024-11-27T10:53:59.685Z"
   },
   {
    "duration": 11,
    "start_time": "2024-11-27T10:53:59.689Z"
   },
   {
    "duration": 195,
    "start_time": "2024-11-27T10:53:59.703Z"
   },
   {
    "duration": 255,
    "start_time": "2024-11-27T10:53:59.900Z"
   },
   {
    "duration": 305,
    "start_time": "2024-11-27T10:54:00.157Z"
   },
   {
    "duration": 316,
    "start_time": "2024-11-27T10:54:00.464Z"
   },
   {
    "duration": 166,
    "start_time": "2024-11-27T10:54:00.782Z"
   },
   {
    "duration": 75,
    "start_time": "2024-11-27T10:54:00.952Z"
   },
   {
    "duration": 0,
    "start_time": "2024-11-27T10:54:01.028Z"
   },
   {
    "duration": 0,
    "start_time": "2024-11-27T10:54:01.030Z"
   },
   {
    "duration": 0,
    "start_time": "2024-11-27T10:54:01.031Z"
   },
   {
    "duration": 0,
    "start_time": "2024-11-27T10:54:01.032Z"
   },
   {
    "duration": 0,
    "start_time": "2024-11-27T10:54:01.033Z"
   },
   {
    "duration": 0,
    "start_time": "2024-11-27T10:54:01.034Z"
   },
   {
    "duration": 0,
    "start_time": "2024-11-27T10:54:01.035Z"
   },
   {
    "duration": 0,
    "start_time": "2024-11-27T10:54:01.036Z"
   },
   {
    "duration": 0,
    "start_time": "2024-11-27T10:54:01.038Z"
   },
   {
    "duration": 0,
    "start_time": "2024-11-27T10:54:01.039Z"
   },
   {
    "duration": 0,
    "start_time": "2024-11-27T10:54:01.040Z"
   },
   {
    "duration": 0,
    "start_time": "2024-11-27T10:54:01.041Z"
   },
   {
    "duration": 0,
    "start_time": "2024-11-27T10:54:01.043Z"
   },
   {
    "duration": 0,
    "start_time": "2024-11-27T10:54:01.044Z"
   },
   {
    "duration": 0,
    "start_time": "2024-11-27T10:54:01.046Z"
   },
   {
    "duration": 0,
    "start_time": "2024-11-27T10:54:01.048Z"
   },
   {
    "duration": 0,
    "start_time": "2024-11-27T10:54:01.049Z"
   },
   {
    "duration": 0,
    "start_time": "2024-11-27T10:54:01.051Z"
   },
   {
    "duration": 0,
    "start_time": "2024-11-27T10:54:01.053Z"
   },
   {
    "duration": 0,
    "start_time": "2024-11-27T10:54:01.054Z"
   },
   {
    "duration": 0,
    "start_time": "2024-11-27T10:54:01.056Z"
   },
   {
    "duration": 0,
    "start_time": "2024-11-27T10:54:01.057Z"
   },
   {
    "duration": 0,
    "start_time": "2024-11-27T10:54:01.059Z"
   },
   {
    "duration": 0,
    "start_time": "2024-11-27T10:54:01.060Z"
   },
   {
    "duration": 0,
    "start_time": "2024-11-27T10:54:01.061Z"
   },
   {
    "duration": 0,
    "start_time": "2024-11-27T10:54:01.063Z"
   },
   {
    "duration": 0,
    "start_time": "2024-11-27T10:54:01.064Z"
   },
   {
    "duration": 0,
    "start_time": "2024-11-27T10:54:01.066Z"
   },
   {
    "duration": 0,
    "start_time": "2024-11-27T10:54:01.067Z"
   },
   {
    "duration": 0,
    "start_time": "2024-11-27T10:54:01.069Z"
   },
   {
    "duration": 0,
    "start_time": "2024-11-27T10:54:01.070Z"
   },
   {
    "duration": 3,
    "start_time": "2024-11-27T10:54:42.862Z"
   },
   {
    "duration": 48,
    "start_time": "2024-11-27T10:54:42.867Z"
   },
   {
    "duration": 43,
    "start_time": "2024-11-27T10:54:42.917Z"
   },
   {
    "duration": 113,
    "start_time": "2024-11-27T10:54:42.961Z"
   },
   {
    "duration": 18,
    "start_time": "2024-11-27T10:54:43.076Z"
   },
   {
    "duration": 103,
    "start_time": "2024-11-27T10:54:43.096Z"
   },
   {
    "duration": 25,
    "start_time": "2024-11-27T10:54:43.200Z"
   },
   {
    "duration": 8,
    "start_time": "2024-11-27T10:54:43.227Z"
   },
   {
    "duration": 13,
    "start_time": "2024-11-27T10:54:43.237Z"
   },
   {
    "duration": 14,
    "start_time": "2024-11-27T10:54:43.252Z"
   },
   {
    "duration": 8,
    "start_time": "2024-11-27T10:54:43.269Z"
   },
   {
    "duration": 74,
    "start_time": "2024-11-27T10:54:43.278Z"
   },
   {
    "duration": 154,
    "start_time": "2024-11-27T10:54:43.356Z"
   },
   {
    "duration": 6,
    "start_time": "2024-11-27T10:54:43.512Z"
   },
   {
    "duration": 82,
    "start_time": "2024-11-27T10:54:43.520Z"
   },
   {
    "duration": 9,
    "start_time": "2024-11-27T10:54:43.604Z"
   },
   {
    "duration": 171,
    "start_time": "2024-11-27T10:54:43.614Z"
   },
   {
    "duration": 8,
    "start_time": "2024-11-27T10:54:43.787Z"
   },
   {
    "duration": 260,
    "start_time": "2024-11-27T10:54:43.797Z"
   },
   {
    "duration": 18,
    "start_time": "2024-11-27T10:54:44.059Z"
   },
   {
    "duration": 4,
    "start_time": "2024-11-27T10:54:44.079Z"
   },
   {
    "duration": 26,
    "start_time": "2024-11-27T10:54:44.084Z"
   },
   {
    "duration": 190,
    "start_time": "2024-11-27T10:54:44.112Z"
   },
   {
    "duration": 308,
    "start_time": "2024-11-27T10:54:44.305Z"
   },
   {
    "duration": 236,
    "start_time": "2024-11-27T10:54:44.615Z"
   },
   {
    "duration": 303,
    "start_time": "2024-11-27T10:54:44.853Z"
   },
   {
    "duration": 177,
    "start_time": "2024-11-27T10:54:45.158Z"
   },
   {
    "duration": 5476,
    "start_time": "2024-11-27T10:54:45.337Z"
   },
   {
    "duration": 1450,
    "start_time": "2024-11-27T10:54:50.815Z"
   },
   {
    "duration": 5235,
    "start_time": "2024-11-27T10:54:52.267Z"
   },
   {
    "duration": 285,
    "start_time": "2024-11-27T10:54:57.503Z"
   },
   {
    "duration": 13,
    "start_time": "2024-11-27T10:56:05.450Z"
   },
   {
    "duration": 26,
    "start_time": "2024-11-27T10:56:23.249Z"
   },
   {
    "duration": 1173,
    "start_time": "2024-11-27T10:59:36.633Z"
   },
   {
    "duration": 54,
    "start_time": "2024-11-27T10:59:37.808Z"
   },
   {
    "duration": 45,
    "start_time": "2024-11-27T10:59:37.867Z"
   },
   {
    "duration": 30,
    "start_time": "2024-11-27T10:59:37.914Z"
   },
   {
    "duration": 4,
    "start_time": "2024-11-27T10:59:37.946Z"
   },
   {
    "duration": 15,
    "start_time": "2024-11-27T10:59:37.951Z"
   },
   {
    "duration": 37,
    "start_time": "2024-11-27T10:59:37.968Z"
   },
   {
    "duration": 33,
    "start_time": "2024-11-27T10:59:38.007Z"
   },
   {
    "duration": 5,
    "start_time": "2024-11-27T10:59:38.043Z"
   },
   {
    "duration": 10,
    "start_time": "2024-11-27T10:59:38.050Z"
   },
   {
    "duration": 17,
    "start_time": "2024-11-27T10:59:38.062Z"
   },
   {
    "duration": 9,
    "start_time": "2024-11-27T10:59:38.082Z"
   },
   {
    "duration": 207,
    "start_time": "2024-11-27T10:59:38.093Z"
   },
   {
    "duration": 8,
    "start_time": "2024-11-27T10:59:38.302Z"
   },
   {
    "duration": 176,
    "start_time": "2024-11-27T10:59:38.312Z"
   },
   {
    "duration": 9,
    "start_time": "2024-11-27T10:59:38.490Z"
   },
   {
    "duration": 160,
    "start_time": "2024-11-27T10:59:38.501Z"
   },
   {
    "duration": 8,
    "start_time": "2024-11-27T10:59:38.663Z"
   },
   {
    "duration": 209,
    "start_time": "2024-11-27T10:59:38.672Z"
   },
   {
    "duration": 13,
    "start_time": "2024-11-27T10:59:38.882Z"
   },
   {
    "duration": 13,
    "start_time": "2024-11-27T10:59:38.896Z"
   },
   {
    "duration": 15,
    "start_time": "2024-11-27T10:59:38.910Z"
   },
   {
    "duration": 176,
    "start_time": "2024-11-27T10:59:38.927Z"
   },
   {
    "duration": 223,
    "start_time": "2024-11-27T10:59:39.105Z"
   },
   {
    "duration": 288,
    "start_time": "2024-11-27T10:59:39.330Z"
   },
   {
    "duration": 307,
    "start_time": "2024-11-27T10:59:39.620Z"
   },
   {
    "duration": 197,
    "start_time": "2024-11-27T10:59:39.933Z"
   },
   {
    "duration": 29,
    "start_time": "2024-11-27T10:59:40.132Z"
   },
   {
    "duration": 1536,
    "start_time": "2024-11-27T10:59:40.163Z"
   },
   {
    "duration": 307,
    "start_time": "2024-11-27T10:59:41.700Z"
   },
   {
    "duration": 166,
    "start_time": "2024-11-27T10:59:42.009Z"
   },
   {
    "duration": 184,
    "start_time": "2024-11-27T10:59:42.177Z"
   },
   {
    "duration": 5,
    "start_time": "2024-11-27T10:59:42.362Z"
   },
   {
    "duration": 34,
    "start_time": "2024-11-27T10:59:42.368Z"
   },
   {
    "duration": 4,
    "start_time": "2024-11-27T10:59:42.404Z"
   },
   {
    "duration": 213,
    "start_time": "2024-11-27T10:59:42.410Z"
   },
   {
    "duration": 20,
    "start_time": "2024-11-27T10:59:42.625Z"
   },
   {
    "duration": 19,
    "start_time": "2024-11-27T10:59:42.647Z"
   },
   {
    "duration": 3,
    "start_time": "2024-11-27T10:59:42.668Z"
   },
   {
    "duration": 30,
    "start_time": "2024-11-27T10:59:42.673Z"
   },
   {
    "duration": 17,
    "start_time": "2024-11-27T10:59:42.705Z"
   },
   {
    "duration": 21,
    "start_time": "2024-11-27T10:59:42.723Z"
   },
   {
    "duration": 207,
    "start_time": "2024-11-27T10:59:42.745Z"
   },
   {
    "duration": 194,
    "start_time": "2024-11-27T10:59:42.953Z"
   },
   {
    "duration": 41,
    "start_time": "2024-11-27T10:59:43.150Z"
   },
   {
    "duration": 23,
    "start_time": "2024-11-27T10:59:43.193Z"
   },
   {
    "duration": 176,
    "start_time": "2024-11-27T10:59:43.217Z"
   },
   {
    "duration": 24,
    "start_time": "2024-11-27T10:59:43.395Z"
   },
   {
    "duration": 22,
    "start_time": "2024-11-27T10:59:43.421Z"
   },
   {
    "duration": 6,
    "start_time": "2024-11-27T10:59:43.444Z"
   },
   {
    "duration": 6,
    "start_time": "2024-11-27T10:59:43.451Z"
   },
   {
    "duration": 32,
    "start_time": "2024-11-27T10:59:43.458Z"
   },
   {
    "duration": 5,
    "start_time": "2024-11-27T10:59:43.492Z"
   },
   {
    "duration": 272,
    "start_time": "2024-11-27T10:59:43.499Z"
   },
   {
    "duration": 161,
    "start_time": "2024-11-27T10:59:43.773Z"
   },
   {
    "duration": 5,
    "start_time": "2024-11-27T10:59:43.942Z"
   },
   {
    "duration": 7,
    "start_time": "2024-11-27T10:59:43.949Z"
   },
   {
    "duration": 236,
    "start_time": "2024-11-27T11:02:36.344Z"
   },
   {
    "duration": 357,
    "start_time": "2024-11-27T11:02:47.888Z"
   },
   {
    "duration": 367,
    "start_time": "2024-11-27T11:03:09.487Z"
   },
   {
    "duration": 250,
    "start_time": "2024-11-27T11:03:26.351Z"
   },
   {
    "duration": 379,
    "start_time": "2024-11-27T11:03:49.776Z"
   },
   {
    "duration": 321,
    "start_time": "2024-11-27T11:05:40.964Z"
   },
   {
    "duration": 481,
    "start_time": "2024-11-27T12:04:04.513Z"
   },
   {
    "duration": 515,
    "start_time": "2024-11-27T12:12:15.469Z"
   },
   {
    "duration": 2103,
    "start_time": "2024-11-27T12:12:26.286Z"
   },
   {
    "duration": 337,
    "start_time": "2024-11-27T12:13:33.723Z"
   },
   {
    "duration": 7,
    "start_time": "2024-11-27T12:22:04.481Z"
   },
   {
    "duration": 69,
    "start_time": "2024-11-27T12:23:36.554Z"
   },
   {
    "duration": 246,
    "start_time": "2024-11-27T12:24:30.892Z"
   },
   {
    "duration": 80,
    "start_time": "2024-11-27T12:25:18.542Z"
   },
   {
    "duration": 73,
    "start_time": "2024-11-27T12:26:08.668Z"
   },
   {
    "duration": 84,
    "start_time": "2024-11-27T12:26:27.658Z"
   },
   {
    "duration": 81,
    "start_time": "2024-11-27T12:31:25.317Z"
   },
   {
    "duration": 131,
    "start_time": "2024-11-27T12:34:04.810Z"
   },
   {
    "duration": 77,
    "start_time": "2024-11-27T12:34:10.777Z"
   },
   {
    "duration": 87,
    "start_time": "2024-11-27T12:35:07.480Z"
   },
   {
    "duration": 128,
    "start_time": "2024-11-27T12:35:35.847Z"
   },
   {
    "duration": 140,
    "start_time": "2024-11-27T12:36:14.623Z"
   },
   {
    "duration": 118,
    "start_time": "2024-11-27T12:36:35.177Z"
   },
   {
    "duration": 156,
    "start_time": "2024-11-27T12:38:21.204Z"
   },
   {
    "duration": 183,
    "start_time": "2024-11-27T12:39:12.916Z"
   },
   {
    "duration": 150,
    "start_time": "2024-11-27T12:40:04.274Z"
   },
   {
    "duration": 155,
    "start_time": "2024-11-27T12:40:35.582Z"
   },
   {
    "duration": 153,
    "start_time": "2024-11-27T12:40:43.662Z"
   },
   {
    "duration": 22,
    "start_time": "2024-11-27T13:38:29.394Z"
   },
   {
    "duration": 60,
    "start_time": "2024-11-27T13:38:37.831Z"
   },
   {
    "duration": 18,
    "start_time": "2024-11-27T13:38:41.426Z"
   },
   {
    "duration": 21,
    "start_time": "2024-11-27T13:38:52.376Z"
   },
   {
    "duration": 17,
    "start_time": "2024-11-27T13:40:25.960Z"
   },
   {
    "duration": 18,
    "start_time": "2024-11-27T13:40:39.709Z"
   },
   {
    "duration": 11,
    "start_time": "2024-11-27T13:43:18.706Z"
   },
   {
    "duration": 1542,
    "start_time": "2024-11-27T13:43:29.458Z"
   },
   {
    "duration": 1424,
    "start_time": "2024-11-27T13:45:48.866Z"
   },
   {
    "duration": 61,
    "start_time": "2024-11-27T13:45:50.292Z"
   },
   {
    "duration": 48,
    "start_time": "2024-11-27T13:45:50.359Z"
   },
   {
    "duration": 29,
    "start_time": "2024-11-27T13:45:50.410Z"
   },
   {
    "duration": 6,
    "start_time": "2024-11-27T13:45:50.441Z"
   },
   {
    "duration": 24,
    "start_time": "2024-11-27T13:45:50.450Z"
   },
   {
    "duration": 35,
    "start_time": "2024-11-27T13:45:50.477Z"
   },
   {
    "duration": 12,
    "start_time": "2024-11-27T13:45:50.514Z"
   },
   {
    "duration": 23,
    "start_time": "2024-11-27T13:45:50.528Z"
   },
   {
    "duration": 20,
    "start_time": "2024-11-27T13:45:50.555Z"
   },
   {
    "duration": 9,
    "start_time": "2024-11-27T13:45:50.577Z"
   },
   {
    "duration": 10,
    "start_time": "2024-11-27T13:45:50.588Z"
   },
   {
    "duration": 310,
    "start_time": "2024-11-27T13:45:50.600Z"
   },
   {
    "duration": 7,
    "start_time": "2024-11-27T13:45:50.912Z"
   },
   {
    "duration": 125,
    "start_time": "2024-11-27T13:45:50.922Z"
   },
   {
    "duration": 20,
    "start_time": "2024-11-27T13:45:51.050Z"
   },
   {
    "duration": 226,
    "start_time": "2024-11-27T13:45:51.072Z"
   },
   {
    "duration": 11,
    "start_time": "2024-11-27T13:45:51.300Z"
   },
   {
    "duration": 322,
    "start_time": "2024-11-27T13:45:51.313Z"
   },
   {
    "duration": 20,
    "start_time": "2024-11-27T13:45:51.637Z"
   },
   {
    "duration": 6,
    "start_time": "2024-11-27T13:45:51.659Z"
   },
   {
    "duration": 9,
    "start_time": "2024-11-27T13:45:51.668Z"
   },
   {
    "duration": 239,
    "start_time": "2024-11-27T13:45:51.679Z"
   },
   {
    "duration": 331,
    "start_time": "2024-11-27T13:45:51.920Z"
   },
   {
    "duration": 435,
    "start_time": "2024-11-27T13:45:52.254Z"
   },
   {
    "duration": 379,
    "start_time": "2024-11-27T13:45:52.691Z"
   },
   {
    "duration": 179,
    "start_time": "2024-11-27T13:45:53.071Z"
   },
   {
    "duration": 27,
    "start_time": "2024-11-27T13:45:53.256Z"
   },
   {
    "duration": 1910,
    "start_time": "2024-11-27T13:45:53.285Z"
   },
   {
    "duration": 380,
    "start_time": "2024-11-27T13:45:55.197Z"
   },
   {
    "duration": 240,
    "start_time": "2024-11-27T13:45:55.580Z"
   },
   {
    "duration": 275,
    "start_time": "2024-11-27T13:45:55.822Z"
   },
   {
    "duration": 5,
    "start_time": "2024-11-27T13:45:56.100Z"
   },
   {
    "duration": 9,
    "start_time": "2024-11-27T13:45:56.107Z"
   },
   {
    "duration": 20,
    "start_time": "2024-11-27T13:45:56.118Z"
   },
   {
    "duration": 315,
    "start_time": "2024-11-27T13:45:56.139Z"
   },
   {
    "duration": 40,
    "start_time": "2024-11-27T13:45:56.456Z"
   },
   {
    "duration": 30,
    "start_time": "2024-11-27T13:45:56.498Z"
   },
   {
    "duration": 22,
    "start_time": "2024-11-27T13:45:56.530Z"
   },
   {
    "duration": 43,
    "start_time": "2024-11-27T13:45:56.554Z"
   },
   {
    "duration": 18,
    "start_time": "2024-11-27T13:45:56.599Z"
   },
   {
    "duration": 97,
    "start_time": "2024-11-27T13:45:56.619Z"
   },
   {
    "duration": 425,
    "start_time": "2024-11-27T13:45:56.717Z"
   },
   {
    "duration": 347,
    "start_time": "2024-11-27T13:45:57.147Z"
   },
   {
    "duration": 117,
    "start_time": "2024-11-27T13:45:57.496Z"
   },
   {
    "duration": 260,
    "start_time": "2024-11-27T13:45:57.615Z"
   },
   {
    "duration": 49,
    "start_time": "2024-11-27T13:46:08.854Z"
   },
   {
    "duration": 56,
    "start_time": "2024-11-27T13:47:47.918Z"
   },
   {
    "duration": 265,
    "start_time": "2024-11-27T13:48:21.700Z"
   },
   {
    "duration": 26,
    "start_time": "2024-11-27T13:49:01.708Z"
   },
   {
    "duration": 23,
    "start_time": "2024-11-27T13:50:01.483Z"
   },
   {
    "duration": 30,
    "start_time": "2024-11-27T13:50:48.419Z"
   },
   {
    "duration": 24,
    "start_time": "2024-11-27T13:52:24.282Z"
   },
   {
    "duration": 518,
    "start_time": "2024-11-27T13:53:55.813Z"
   },
   {
    "duration": 38,
    "start_time": "2024-11-27T13:54:35.340Z"
   },
   {
    "duration": 23,
    "start_time": "2024-11-27T13:54:41.269Z"
   },
   {
    "duration": 20,
    "start_time": "2024-11-27T13:55:14.867Z"
   },
   {
    "duration": 16,
    "start_time": "2024-11-27T13:55:58.125Z"
   },
   {
    "duration": 40,
    "start_time": "2024-11-27T13:56:23.228Z"
   },
   {
    "duration": 53,
    "start_time": "2024-11-27T14:07:28.431Z"
   },
   {
    "duration": 6,
    "start_time": "2024-11-27T14:07:44.813Z"
   },
   {
    "duration": 5,
    "start_time": "2024-11-27T14:07:48.477Z"
   },
   {
    "duration": 46,
    "start_time": "2024-11-27T14:08:04.559Z"
   },
   {
    "duration": 21,
    "start_time": "2024-11-27T14:08:27.926Z"
   },
   {
    "duration": 11,
    "start_time": "2024-11-27T14:08:45.669Z"
   },
   {
    "duration": 16,
    "start_time": "2024-11-27T14:16:33.044Z"
   },
   {
    "duration": 15,
    "start_time": "2024-11-27T14:16:42.137Z"
   },
   {
    "duration": 48,
    "start_time": "2024-11-27T14:21:00.215Z"
   },
   {
    "duration": 19,
    "start_time": "2024-11-27T14:21:41.412Z"
   },
   {
    "duration": 52,
    "start_time": "2024-11-27T14:22:06.925Z"
   },
   {
    "duration": 21,
    "start_time": "2024-11-27T14:23:00.579Z"
   },
   {
    "duration": 6,
    "start_time": "2024-11-27T14:23:34.297Z"
   },
   {
    "duration": 14,
    "start_time": "2024-11-27T14:23:44.146Z"
   },
   {
    "duration": 7,
    "start_time": "2024-11-27T14:29:34.338Z"
   },
   {
    "duration": 6,
    "start_time": "2024-11-27T14:29:38.618Z"
   },
   {
    "duration": 5,
    "start_time": "2024-11-27T14:32:43.296Z"
   },
   {
    "duration": 4,
    "start_time": "2024-11-27T14:33:02.254Z"
   },
   {
    "duration": 5,
    "start_time": "2024-11-27T14:36:49.299Z"
   },
   {
    "duration": 5,
    "start_time": "2024-11-27T14:36:56.390Z"
   },
   {
    "duration": 122,
    "start_time": "2024-11-27T14:40:08.781Z"
   },
   {
    "duration": 9,
    "start_time": "2024-11-27T14:41:17.961Z"
   },
   {
    "duration": 8,
    "start_time": "2024-11-27T14:41:30.971Z"
   },
   {
    "duration": 10,
    "start_time": "2024-11-27T14:42:35.395Z"
   },
   {
    "duration": 1850,
    "start_time": "2024-11-27T14:43:15.824Z"
   },
   {
    "duration": 3639,
    "start_time": "2024-11-27T14:43:35.507Z"
   },
   {
    "duration": 557,
    "start_time": "2024-11-27T14:43:52.215Z"
   },
   {
    "duration": 9,
    "start_time": "2024-11-27T14:44:17.272Z"
   },
   {
    "duration": 14,
    "start_time": "2024-11-27T14:46:20.803Z"
   },
   {
    "duration": 9,
    "start_time": "2024-11-27T14:46:31.064Z"
   },
   {
    "duration": 9,
    "start_time": "2024-11-27T14:47:29.299Z"
   },
   {
    "duration": 10,
    "start_time": "2024-11-27T15:11:06.062Z"
   },
   {
    "duration": 11,
    "start_time": "2024-11-27T15:11:53.019Z"
   },
   {
    "duration": 11,
    "start_time": "2024-11-27T15:13:54.737Z"
   },
   {
    "duration": 9,
    "start_time": "2024-11-27T15:14:11.472Z"
   },
   {
    "duration": 8,
    "start_time": "2024-11-27T15:14:29.637Z"
   },
   {
    "duration": 266,
    "start_time": "2024-11-27T15:19:38.900Z"
   },
   {
    "duration": 169,
    "start_time": "2024-11-27T15:20:06.145Z"
   },
   {
    "duration": 5,
    "start_time": "2024-11-27T15:20:12.441Z"
   },
   {
    "duration": 7,
    "start_time": "2024-11-27T15:29:13.301Z"
   },
   {
    "duration": 6,
    "start_time": "2024-11-27T15:30:43.725Z"
   },
   {
    "duration": 5,
    "start_time": "2024-11-27T15:31:16.587Z"
   },
   {
    "duration": 5,
    "start_time": "2024-11-27T15:31:23.787Z"
   },
   {
    "duration": 5,
    "start_time": "2024-11-27T15:32:14.560Z"
   },
   {
    "duration": 5,
    "start_time": "2024-11-27T15:32:29.288Z"
   },
   {
    "duration": 5,
    "start_time": "2024-11-27T15:32:42.240Z"
   },
   {
    "duration": 5301,
    "start_time": "2024-11-27T15:35:39.901Z"
   },
   {
    "duration": 256,
    "start_time": "2024-11-27T15:36:08.028Z"
   },
   {
    "duration": 6,
    "start_time": "2024-11-28T06:38:02.844Z"
   },
   {
    "duration": 4,
    "start_time": "2024-11-28T06:39:05.366Z"
   },
   {
    "duration": 4,
    "start_time": "2024-11-28T06:39:16.712Z"
   },
   {
    "duration": 4,
    "start_time": "2024-11-28T06:41:19.652Z"
   },
   {
    "duration": 81,
    "start_time": "2024-11-28T06:43:05.224Z"
   },
   {
    "duration": 4,
    "start_time": "2024-11-28T06:44:02.455Z"
   },
   {
    "duration": 102,
    "start_time": "2024-11-28T06:45:19.794Z"
   },
   {
    "duration": 20,
    "start_time": "2024-11-28T06:45:30.561Z"
   },
   {
    "duration": 57,
    "start_time": "2024-11-28T06:45:48.992Z"
   },
   {
    "duration": 128,
    "start_time": "2024-11-28T06:46:25.614Z"
   },
   {
    "duration": 35,
    "start_time": "2024-11-28T06:46:54.524Z"
   },
   {
    "duration": 155,
    "start_time": "2024-11-28T13:26:50.937Z"
   },
   {
    "duration": 1126,
    "start_time": "2024-11-28T13:27:41.076Z"
   },
   {
    "duration": 47,
    "start_time": "2024-11-28T13:27:42.204Z"
   },
   {
    "duration": 54,
    "start_time": "2024-11-28T13:27:42.252Z"
   },
   {
    "duration": 26,
    "start_time": "2024-11-28T13:27:42.308Z"
   },
   {
    "duration": 4,
    "start_time": "2024-11-28T13:27:42.335Z"
   },
   {
    "duration": 13,
    "start_time": "2024-11-28T13:27:42.340Z"
   },
   {
    "duration": 12,
    "start_time": "2024-11-28T13:27:42.354Z"
   },
   {
    "duration": 11,
    "start_time": "2024-11-28T13:27:42.367Z"
   },
   {
    "duration": 6,
    "start_time": "2024-11-28T13:27:42.379Z"
   },
   {
    "duration": 11,
    "start_time": "2024-11-28T13:27:42.388Z"
   },
   {
    "duration": 8,
    "start_time": "2024-11-28T13:27:42.400Z"
   },
   {
    "duration": 15,
    "start_time": "2024-11-28T13:27:42.410Z"
   },
   {
    "duration": 165,
    "start_time": "2024-11-28T13:27:42.442Z"
   },
   {
    "duration": 6,
    "start_time": "2024-11-28T13:27:42.608Z"
   },
   {
    "duration": 96,
    "start_time": "2024-11-28T13:27:42.616Z"
   },
   {
    "duration": 8,
    "start_time": "2024-11-28T13:27:42.714Z"
   },
   {
    "duration": 190,
    "start_time": "2024-11-28T13:27:42.724Z"
   },
   {
    "duration": 8,
    "start_time": "2024-11-28T13:27:42.915Z"
   },
   {
    "duration": 220,
    "start_time": "2024-11-28T13:27:42.925Z"
   },
   {
    "duration": 12,
    "start_time": "2024-11-28T13:27:43.147Z"
   },
   {
    "duration": 5,
    "start_time": "2024-11-28T13:27:43.161Z"
   },
   {
    "duration": 11,
    "start_time": "2024-11-28T13:27:43.167Z"
   },
   {
    "duration": 174,
    "start_time": "2024-11-28T13:27:43.179Z"
   },
   {
    "duration": 215,
    "start_time": "2024-11-28T13:27:43.355Z"
   },
   {
    "duration": 289,
    "start_time": "2024-11-28T13:27:43.571Z"
   },
   {
    "duration": 298,
    "start_time": "2024-11-28T13:27:43.861Z"
   },
   {
    "duration": 146,
    "start_time": "2024-11-28T13:27:44.160Z"
   },
   {
    "duration": 19,
    "start_time": "2024-11-28T13:27:44.310Z"
   },
   {
    "duration": 1493,
    "start_time": "2024-11-28T13:27:44.331Z"
   },
   {
    "duration": 286,
    "start_time": "2024-11-28T13:27:45.826Z"
   },
   {
    "duration": 165,
    "start_time": "2024-11-28T13:27:46.114Z"
   },
   {
    "duration": 182,
    "start_time": "2024-11-28T13:27:46.281Z"
   },
   {
    "duration": 4,
    "start_time": "2024-11-28T13:27:46.465Z"
   },
   {
    "duration": 23,
    "start_time": "2024-11-28T13:27:46.470Z"
   },
   {
    "duration": 7,
    "start_time": "2024-11-28T13:27:46.495Z"
   },
   {
    "duration": 219,
    "start_time": "2024-11-28T13:27:46.504Z"
   },
   {
    "duration": 19,
    "start_time": "2024-11-28T13:27:46.724Z"
   },
   {
    "duration": 19,
    "start_time": "2024-11-28T13:27:46.745Z"
   },
   {
    "duration": 10,
    "start_time": "2024-11-28T13:27:46.766Z"
   },
   {
    "duration": 27,
    "start_time": "2024-11-28T13:27:46.778Z"
   },
   {
    "duration": 18,
    "start_time": "2024-11-28T13:27:46.807Z"
   },
   {
    "duration": 27,
    "start_time": "2024-11-28T13:27:46.827Z"
   },
   {
    "duration": 313,
    "start_time": "2024-11-28T13:27:46.855Z"
   },
   {
    "duration": 305,
    "start_time": "2024-11-28T13:27:47.169Z"
   },
   {
    "duration": 7,
    "start_time": "2024-11-28T13:27:47.476Z"
   },
   {
    "duration": 19,
    "start_time": "2024-11-28T13:27:47.484Z"
   },
   {
    "duration": 84,
    "start_time": "2024-11-28T13:27:47.504Z"
   },
   {
    "duration": 246,
    "start_time": "2024-11-28T13:27:47.590Z"
   },
   {
    "duration": 30,
    "start_time": "2024-11-28T13:27:47.843Z"
   },
   {
    "duration": 166,
    "start_time": "2024-11-28T13:27:47.874Z"
   },
   {
    "duration": 17,
    "start_time": "2024-11-28T13:27:48.041Z"
   },
   {
    "duration": 18,
    "start_time": "2024-11-28T13:27:48.060Z"
   },
   {
    "duration": 13,
    "start_time": "2024-11-28T13:27:48.080Z"
   },
   {
    "duration": 12,
    "start_time": "2024-11-28T13:27:48.095Z"
   },
   {
    "duration": 37,
    "start_time": "2024-11-28T13:27:48.108Z"
   },
   {
    "duration": 21,
    "start_time": "2024-11-28T13:27:48.147Z"
   },
   {
    "duration": 101,
    "start_time": "2024-11-28T13:27:48.170Z"
   },
   {
    "duration": 23,
    "start_time": "2024-11-28T13:27:48.273Z"
   },
   {
    "duration": 24,
    "start_time": "2024-11-28T13:27:48.298Z"
   },
   {
    "duration": 217,
    "start_time": "2024-11-28T13:27:48.323Z"
   },
   {
    "duration": 149,
    "start_time": "2024-11-28T13:27:48.542Z"
   },
   {
    "duration": 5,
    "start_time": "2024-11-28T13:27:48.693Z"
   },
   {
    "duration": 177,
    "start_time": "2024-11-28T13:27:48.699Z"
   },
   {
    "duration": 5,
    "start_time": "2024-11-28T13:27:48.878Z"
   },
   {
    "duration": 5,
    "start_time": "2024-11-28T13:29:46.527Z"
   },
   {
    "duration": 1215,
    "start_time": "2024-11-28T15:09:51.316Z"
   },
   {
    "duration": 52,
    "start_time": "2024-11-28T15:09:52.533Z"
   },
   {
    "duration": 93,
    "start_time": "2024-11-28T15:09:52.587Z"
   },
   {
    "duration": 29,
    "start_time": "2024-11-28T15:09:52.682Z"
   },
   {
    "duration": 3,
    "start_time": "2024-11-28T15:09:52.713Z"
   },
   {
    "duration": 24,
    "start_time": "2024-11-28T15:09:52.718Z"
   },
   {
    "duration": 29,
    "start_time": "2024-11-28T15:09:52.744Z"
   },
   {
    "duration": 20,
    "start_time": "2024-11-28T15:09:52.775Z"
   },
   {
    "duration": 7,
    "start_time": "2024-11-28T15:09:52.797Z"
   },
   {
    "duration": 24,
    "start_time": "2024-11-28T15:09:52.808Z"
   },
   {
    "duration": 88,
    "start_time": "2024-11-28T15:09:52.834Z"
   },
   {
    "duration": 25,
    "start_time": "2024-11-28T15:09:52.924Z"
   },
   {
    "duration": 286,
    "start_time": "2024-11-28T15:09:52.951Z"
   },
   {
    "duration": 15,
    "start_time": "2024-11-28T15:09:53.238Z"
   },
   {
    "duration": 154,
    "start_time": "2024-11-28T15:09:53.256Z"
   },
   {
    "duration": 9,
    "start_time": "2024-11-28T15:09:53.411Z"
   },
   {
    "duration": 258,
    "start_time": "2024-11-28T15:09:53.421Z"
   },
   {
    "duration": 8,
    "start_time": "2024-11-28T15:09:53.681Z"
   },
   {
    "duration": 315,
    "start_time": "2024-11-28T15:09:53.690Z"
   },
   {
    "duration": 13,
    "start_time": "2024-11-28T15:09:54.007Z"
   },
   {
    "duration": 14,
    "start_time": "2024-11-28T15:09:54.021Z"
   },
   {
    "duration": 26,
    "start_time": "2024-11-28T15:09:54.036Z"
   },
   {
    "duration": 184,
    "start_time": "2024-11-28T15:09:54.064Z"
   },
   {
    "duration": 272,
    "start_time": "2024-11-28T15:09:54.253Z"
   },
   {
    "duration": 366,
    "start_time": "2024-11-28T15:09:54.527Z"
   },
   {
    "duration": 322,
    "start_time": "2024-11-28T15:09:54.894Z"
   },
   {
    "duration": 158,
    "start_time": "2024-11-28T15:09:55.218Z"
   },
   {
    "duration": 18,
    "start_time": "2024-11-28T15:09:55.380Z"
   },
   {
    "duration": 1570,
    "start_time": "2024-11-28T15:09:55.400Z"
   },
   {
    "duration": 277,
    "start_time": "2024-11-28T15:09:56.972Z"
   },
   {
    "duration": 175,
    "start_time": "2024-11-28T15:09:57.251Z"
   },
   {
    "duration": 195,
    "start_time": "2024-11-28T15:09:57.428Z"
   },
   {
    "duration": 5,
    "start_time": "2024-11-28T15:09:57.624Z"
   },
   {
    "duration": 20,
    "start_time": "2024-11-28T15:09:57.630Z"
   },
   {
    "duration": 11,
    "start_time": "2024-11-28T15:09:57.652Z"
   },
   {
    "duration": 299,
    "start_time": "2024-11-28T15:09:57.664Z"
   },
   {
    "duration": 25,
    "start_time": "2024-11-28T15:09:57.965Z"
   },
   {
    "duration": 28,
    "start_time": "2024-11-28T15:09:57.992Z"
   },
   {
    "duration": 4,
    "start_time": "2024-11-28T15:09:58.022Z"
   },
   {
    "duration": 48,
    "start_time": "2024-11-28T15:09:58.028Z"
   },
   {
    "duration": 17,
    "start_time": "2024-11-28T15:09:58.077Z"
   },
   {
    "duration": 86,
    "start_time": "2024-11-28T15:09:58.096Z"
   },
   {
    "duration": 321,
    "start_time": "2024-11-28T15:09:58.183Z"
   },
   {
    "duration": 335,
    "start_time": "2024-11-28T15:09:58.506Z"
   },
   {
    "duration": 8,
    "start_time": "2024-11-28T15:09:58.844Z"
   },
   {
    "duration": 23,
    "start_time": "2024-11-28T15:09:58.854Z"
   },
   {
    "duration": 94,
    "start_time": "2024-11-28T15:09:58.879Z"
   },
   {
    "duration": 216,
    "start_time": "2024-11-28T15:09:58.974Z"
   },
   {
    "duration": 27,
    "start_time": "2024-11-28T15:09:59.192Z"
   },
   {
    "duration": 190,
    "start_time": "2024-11-28T15:09:59.221Z"
   },
   {
    "duration": 17,
    "start_time": "2024-11-28T15:09:59.413Z"
   },
   {
    "duration": 33,
    "start_time": "2024-11-28T15:09:59.432Z"
   },
   {
    "duration": 78,
    "start_time": "2024-11-28T15:09:59.467Z"
   },
   {
    "duration": 17,
    "start_time": "2024-11-28T15:09:59.547Z"
   },
   {
    "duration": 6,
    "start_time": "2024-11-28T15:09:59.566Z"
   },
   {
    "duration": 6,
    "start_time": "2024-11-28T15:09:59.574Z"
   },
   {
    "duration": 32,
    "start_time": "2024-11-28T15:09:59.581Z"
   },
   {
    "duration": 7,
    "start_time": "2024-11-28T15:09:59.615Z"
   },
   {
    "duration": 5,
    "start_time": "2024-11-28T15:09:59.624Z"
   },
   {
    "duration": 287,
    "start_time": "2024-11-28T15:09:59.630Z"
   },
   {
    "duration": 183,
    "start_time": "2024-11-28T15:09:59.919Z"
   },
   {
    "duration": 5,
    "start_time": "2024-11-28T15:10:00.104Z"
   },
   {
    "duration": 252,
    "start_time": "2024-11-28T15:10:00.111Z"
   },
   {
    "duration": 77,
    "start_time": "2024-11-28T15:10:00.365Z"
   },
   {
    "duration": 231,
    "start_time": "2024-11-28T15:10:48.500Z"
   },
   {
    "duration": 123,
    "start_time": "2024-11-28T15:11:02.306Z"
   },
   {
    "duration": 1280,
    "start_time": "2024-11-28T15:11:16.820Z"
   },
   {
    "duration": 53,
    "start_time": "2024-11-28T15:11:18.102Z"
   },
   {
    "duration": 70,
    "start_time": "2024-11-28T15:11:18.157Z"
   },
   {
    "duration": 31,
    "start_time": "2024-11-28T15:11:18.229Z"
   },
   {
    "duration": 4,
    "start_time": "2024-11-28T15:11:18.261Z"
   },
   {
    "duration": 97,
    "start_time": "2024-11-28T15:11:18.266Z"
   },
   {
    "duration": 16,
    "start_time": "2024-11-28T15:11:18.365Z"
   },
   {
    "duration": 7,
    "start_time": "2024-11-28T15:11:18.383Z"
   },
   {
    "duration": 5,
    "start_time": "2024-11-28T15:11:18.391Z"
   },
   {
    "duration": 9,
    "start_time": "2024-11-28T15:11:18.398Z"
   },
   {
    "duration": 7,
    "start_time": "2024-11-28T15:11:18.408Z"
   },
   {
    "duration": 11,
    "start_time": "2024-11-28T15:11:18.416Z"
   },
   {
    "duration": 178,
    "start_time": "2024-11-28T15:11:18.428Z"
   },
   {
    "duration": 5,
    "start_time": "2024-11-28T15:11:18.608Z"
   },
   {
    "duration": 110,
    "start_time": "2024-11-28T15:11:18.615Z"
   },
   {
    "duration": 34,
    "start_time": "2024-11-28T15:11:18.727Z"
   },
   {
    "duration": 166,
    "start_time": "2024-11-28T15:11:18.763Z"
   },
   {
    "duration": 13,
    "start_time": "2024-11-28T15:11:18.931Z"
   },
   {
    "duration": 200,
    "start_time": "2024-11-28T15:11:18.946Z"
   },
   {
    "duration": 16,
    "start_time": "2024-11-28T15:11:19.149Z"
   },
   {
    "duration": 3,
    "start_time": "2024-11-28T15:11:19.168Z"
   },
   {
    "duration": 6,
    "start_time": "2024-11-28T15:11:19.173Z"
   },
   {
    "duration": 196,
    "start_time": "2024-11-28T15:11:19.180Z"
   },
   {
    "duration": 232,
    "start_time": "2024-11-28T15:11:19.377Z"
   },
   {
    "duration": 335,
    "start_time": "2024-11-28T15:11:19.611Z"
   },
   {
    "duration": 336,
    "start_time": "2024-11-28T15:11:19.948Z"
   },
   {
    "duration": 157,
    "start_time": "2024-11-28T15:11:20.286Z"
   },
   {
    "duration": 25,
    "start_time": "2024-11-28T15:11:20.449Z"
   },
   {
    "duration": 1662,
    "start_time": "2024-11-28T15:11:20.476Z"
   },
   {
    "duration": 307,
    "start_time": "2024-11-28T15:11:22.140Z"
   },
   {
    "duration": 176,
    "start_time": "2024-11-28T15:11:22.449Z"
   },
   {
    "duration": 225,
    "start_time": "2024-11-28T15:11:22.627Z"
   },
   {
    "duration": 8,
    "start_time": "2024-11-28T15:11:22.855Z"
   },
   {
    "duration": 7,
    "start_time": "2024-11-28T15:11:22.865Z"
   },
   {
    "duration": 12,
    "start_time": "2024-11-28T15:11:22.873Z"
   },
   {
    "duration": 248,
    "start_time": "2024-11-28T15:11:22.887Z"
   },
   {
    "duration": 25,
    "start_time": "2024-11-28T15:11:23.137Z"
   },
   {
    "duration": 19,
    "start_time": "2024-11-28T15:11:23.164Z"
   },
   {
    "duration": 5,
    "start_time": "2024-11-28T15:11:23.184Z"
   },
   {
    "duration": 32,
    "start_time": "2024-11-28T15:11:23.190Z"
   },
   {
    "duration": 34,
    "start_time": "2024-11-28T15:11:23.223Z"
   },
   {
    "duration": 4,
    "start_time": "2024-11-28T15:11:23.260Z"
   },
   {
    "duration": 370,
    "start_time": "2024-11-28T15:11:23.266Z"
   },
   {
    "duration": 340,
    "start_time": "2024-11-28T15:11:23.638Z"
   },
   {
    "duration": 7,
    "start_time": "2024-11-28T15:11:23.980Z"
   },
   {
    "duration": 12,
    "start_time": "2024-11-28T15:11:23.988Z"
   },
   {
    "duration": 94,
    "start_time": "2024-11-28T15:11:24.002Z"
   },
   {
    "duration": 245,
    "start_time": "2024-11-28T15:11:24.098Z"
   },
   {
    "duration": 36,
    "start_time": "2024-11-28T15:11:24.345Z"
   },
   {
    "duration": 204,
    "start_time": "2024-11-28T15:11:24.383Z"
   },
   {
    "duration": 18,
    "start_time": "2024-11-28T15:11:24.589Z"
   },
   {
    "duration": 67,
    "start_time": "2024-11-28T15:11:24.608Z"
   },
   {
    "duration": 20,
    "start_time": "2024-11-28T15:11:24.676Z"
   },
   {
    "duration": 35,
    "start_time": "2024-11-28T15:11:24.697Z"
   },
   {
    "duration": 13,
    "start_time": "2024-11-28T15:11:24.734Z"
   },
   {
    "duration": 11,
    "start_time": "2024-11-28T15:11:24.749Z"
   },
   {
    "duration": 11,
    "start_time": "2024-11-28T15:11:24.762Z"
   },
   {
    "duration": 7,
    "start_time": "2024-11-28T15:11:24.775Z"
   },
   {
    "duration": 16,
    "start_time": "2024-11-28T15:11:24.784Z"
   },
   {
    "duration": 287,
    "start_time": "2024-11-28T15:11:24.802Z"
   },
   {
    "duration": 176,
    "start_time": "2024-11-28T15:11:25.091Z"
   },
   {
    "duration": 5,
    "start_time": "2024-11-28T15:11:25.269Z"
   },
   {
    "duration": 71,
    "start_time": "2024-11-28T15:11:25.275Z"
   },
   {
    "duration": 10,
    "start_time": "2024-11-28T15:11:25.348Z"
   },
   {
    "duration": 1222,
    "start_time": "2024-11-28T15:13:42.295Z"
   },
   {
    "duration": 48,
    "start_time": "2024-11-28T15:13:43.519Z"
   },
   {
    "duration": 42,
    "start_time": "2024-11-28T15:13:43.569Z"
   },
   {
    "duration": 25,
    "start_time": "2024-11-28T15:13:43.613Z"
   },
   {
    "duration": 3,
    "start_time": "2024-11-28T15:13:43.639Z"
   },
   {
    "duration": 21,
    "start_time": "2024-11-28T15:13:43.645Z"
   },
   {
    "duration": 9,
    "start_time": "2024-11-28T15:13:43.668Z"
   },
   {
    "duration": 22,
    "start_time": "2024-11-28T15:13:43.679Z"
   },
   {
    "duration": 54,
    "start_time": "2024-11-28T15:13:43.703Z"
   },
   {
    "duration": 10,
    "start_time": "2024-11-28T15:13:43.760Z"
   },
   {
    "duration": 7,
    "start_time": "2024-11-28T15:13:43.771Z"
   },
   {
    "duration": 9,
    "start_time": "2024-11-28T15:13:43.780Z"
   },
   {
    "duration": 185,
    "start_time": "2024-11-28T15:13:43.791Z"
   },
   {
    "duration": 5,
    "start_time": "2024-11-28T15:13:43.978Z"
   },
   {
    "duration": 87,
    "start_time": "2024-11-28T15:13:43.985Z"
   },
   {
    "duration": 8,
    "start_time": "2024-11-28T15:13:44.074Z"
   },
   {
    "duration": 161,
    "start_time": "2024-11-28T15:13:44.084Z"
   },
   {
    "duration": 11,
    "start_time": "2024-11-28T15:13:44.247Z"
   },
   {
    "duration": 213,
    "start_time": "2024-11-28T15:13:44.261Z"
   },
   {
    "duration": 12,
    "start_time": "2024-11-28T15:13:44.476Z"
   },
   {
    "duration": 3,
    "start_time": "2024-11-28T15:13:44.489Z"
   },
   {
    "duration": 14,
    "start_time": "2024-11-28T15:13:44.493Z"
   },
   {
    "duration": 197,
    "start_time": "2024-11-28T15:13:44.508Z"
   },
   {
    "duration": 246,
    "start_time": "2024-11-28T15:13:44.707Z"
   },
   {
    "duration": 319,
    "start_time": "2024-11-28T15:13:44.955Z"
   },
   {
    "duration": 318,
    "start_time": "2024-11-28T15:13:45.275Z"
   },
   {
    "duration": 159,
    "start_time": "2024-11-28T15:13:45.595Z"
   },
   {
    "duration": 19,
    "start_time": "2024-11-28T15:13:45.759Z"
   },
   {
    "duration": 1536,
    "start_time": "2024-11-28T15:13:45.779Z"
   },
   {
    "duration": 283,
    "start_time": "2024-11-28T15:13:47.317Z"
   },
   {
    "duration": 162,
    "start_time": "2024-11-28T15:13:47.602Z"
   },
   {
    "duration": 202,
    "start_time": "2024-11-28T15:13:47.766Z"
   },
   {
    "duration": 5,
    "start_time": "2024-11-28T15:13:47.970Z"
   },
   {
    "duration": 9,
    "start_time": "2024-11-28T15:13:47.976Z"
   },
   {
    "duration": 6,
    "start_time": "2024-11-28T15:13:47.987Z"
   },
   {
    "duration": 256,
    "start_time": "2024-11-28T15:13:47.995Z"
   },
   {
    "duration": 24,
    "start_time": "2024-11-28T15:13:48.255Z"
   },
   {
    "duration": 20,
    "start_time": "2024-11-28T15:13:48.281Z"
   },
   {
    "duration": 76,
    "start_time": "2024-11-28T15:13:48.303Z"
   },
   {
    "duration": 32,
    "start_time": "2024-11-28T15:13:48.381Z"
   },
   {
    "duration": 37,
    "start_time": "2024-11-28T15:13:48.414Z"
   },
   {
    "duration": 16,
    "start_time": "2024-11-28T15:13:48.453Z"
   },
   {
    "duration": 337,
    "start_time": "2024-11-28T15:13:48.471Z"
   },
   {
    "duration": 326,
    "start_time": "2024-11-28T15:13:48.810Z"
   },
   {
    "duration": 13,
    "start_time": "2024-11-28T15:13:49.143Z"
   },
   {
    "duration": 7,
    "start_time": "2024-11-28T15:13:49.158Z"
   },
   {
    "duration": 100,
    "start_time": "2024-11-28T15:13:49.167Z"
   },
   {
    "duration": 220,
    "start_time": "2024-11-28T15:13:49.269Z"
   },
   {
    "duration": 27,
    "start_time": "2024-11-28T15:13:49.491Z"
   },
   {
    "duration": 189,
    "start_time": "2024-11-28T15:13:49.520Z"
   },
   {
    "duration": 17,
    "start_time": "2024-11-28T15:13:49.710Z"
   },
   {
    "duration": 51,
    "start_time": "2024-11-28T15:13:49.728Z"
   },
   {
    "duration": 13,
    "start_time": "2024-11-28T15:13:49.781Z"
   },
   {
    "duration": 13,
    "start_time": "2024-11-28T15:13:49.796Z"
   },
   {
    "duration": 7,
    "start_time": "2024-11-28T15:13:49.811Z"
   },
   {
    "duration": 23,
    "start_time": "2024-11-28T15:13:49.819Z"
   },
   {
    "duration": 21,
    "start_time": "2024-11-28T15:13:49.844Z"
   },
   {
    "duration": 36,
    "start_time": "2024-11-28T15:13:49.866Z"
   },
   {
    "duration": 55,
    "start_time": "2024-11-28T15:13:49.903Z"
   },
   {
    "duration": 274,
    "start_time": "2024-11-28T15:13:49.960Z"
   },
   {
    "duration": 174,
    "start_time": "2024-11-28T15:13:50.236Z"
   },
   {
    "duration": 4,
    "start_time": "2024-11-28T15:13:50.412Z"
   },
   {
    "duration": 31,
    "start_time": "2024-11-28T15:13:50.417Z"
   },
   {
    "duration": 12,
    "start_time": "2024-11-28T15:13:50.451Z"
   },
   {
    "duration": 1042,
    "start_time": "2024-11-28T16:27:14.031Z"
   },
   {
    "duration": 43,
    "start_time": "2024-11-28T16:27:15.075Z"
   },
   {
    "duration": 47,
    "start_time": "2024-11-28T16:27:15.120Z"
   },
   {
    "duration": 22,
    "start_time": "2024-11-28T16:27:15.169Z"
   },
   {
    "duration": 3,
    "start_time": "2024-11-28T16:27:15.193Z"
   },
   {
    "duration": 83,
    "start_time": "2024-11-28T16:27:15.197Z"
   },
   {
    "duration": 56,
    "start_time": "2024-11-28T16:27:15.282Z"
   },
   {
    "duration": 24,
    "start_time": "2024-11-28T16:27:15.340Z"
   },
   {
    "duration": 17,
    "start_time": "2024-11-28T16:27:15.365Z"
   },
   {
    "duration": 8,
    "start_time": "2024-11-28T16:27:15.385Z"
   },
   {
    "duration": 6,
    "start_time": "2024-11-28T16:27:15.394Z"
   },
   {
    "duration": 7,
    "start_time": "2024-11-28T16:27:15.401Z"
   },
   {
    "duration": 144,
    "start_time": "2024-11-28T16:27:15.409Z"
   },
   {
    "duration": 5,
    "start_time": "2024-11-28T16:27:15.557Z"
   },
   {
    "duration": 80,
    "start_time": "2024-11-28T16:27:15.563Z"
   },
   {
    "duration": 7,
    "start_time": "2024-11-28T16:27:15.644Z"
   },
   {
    "duration": 130,
    "start_time": "2024-11-28T16:27:15.653Z"
   },
   {
    "duration": 7,
    "start_time": "2024-11-28T16:27:15.784Z"
   },
   {
    "duration": 159,
    "start_time": "2024-11-28T16:27:15.792Z"
   },
   {
    "duration": 12,
    "start_time": "2024-11-28T16:27:15.953Z"
   },
   {
    "duration": 2,
    "start_time": "2024-11-28T16:27:15.966Z"
   },
   {
    "duration": 13,
    "start_time": "2024-11-28T16:27:15.969Z"
   },
   {
    "duration": 154,
    "start_time": "2024-11-28T16:27:15.983Z"
   },
   {
    "duration": 177,
    "start_time": "2024-11-28T16:27:16.138Z"
   },
   {
    "duration": 286,
    "start_time": "2024-11-28T16:27:16.317Z"
   },
   {
    "duration": 233,
    "start_time": "2024-11-28T16:27:16.604Z"
   },
   {
    "duration": 132,
    "start_time": "2024-11-28T16:27:16.838Z"
   },
   {
    "duration": 15,
    "start_time": "2024-11-28T16:27:16.973Z"
   },
   {
    "duration": 1162,
    "start_time": "2024-11-28T16:27:16.989Z"
   },
   {
    "duration": 244,
    "start_time": "2024-11-28T16:27:18.153Z"
   },
   {
    "duration": 148,
    "start_time": "2024-11-28T16:27:18.400Z"
   },
   {
    "duration": 154,
    "start_time": "2024-11-28T16:27:18.550Z"
   },
   {
    "duration": 4,
    "start_time": "2024-11-28T16:27:18.706Z"
   },
   {
    "duration": 6,
    "start_time": "2024-11-28T16:27:18.711Z"
   },
   {
    "duration": 14,
    "start_time": "2024-11-28T16:27:18.718Z"
   },
   {
    "duration": 199,
    "start_time": "2024-11-28T16:27:18.733Z"
   },
   {
    "duration": 18,
    "start_time": "2024-11-28T16:27:18.934Z"
   },
   {
    "duration": 18,
    "start_time": "2024-11-28T16:27:18.954Z"
   },
   {
    "duration": 4,
    "start_time": "2024-11-28T16:27:18.973Z"
   },
   {
    "duration": 18,
    "start_time": "2024-11-28T16:27:18.978Z"
   },
   {
    "duration": 18,
    "start_time": "2024-11-28T16:27:18.997Z"
   },
   {
    "duration": 3,
    "start_time": "2024-11-28T16:27:19.016Z"
   },
   {
    "duration": 272,
    "start_time": "2024-11-28T16:27:19.021Z"
   },
   {
    "duration": 248,
    "start_time": "2024-11-28T16:27:19.294Z"
   },
   {
    "duration": 6,
    "start_time": "2024-11-28T16:27:19.543Z"
   },
   {
    "duration": 5,
    "start_time": "2024-11-28T16:27:19.557Z"
   },
   {
    "duration": 79,
    "start_time": "2024-11-28T16:27:19.564Z"
   },
   {
    "duration": 161,
    "start_time": "2024-11-28T16:27:19.657Z"
   },
   {
    "duration": 24,
    "start_time": "2024-11-28T16:27:19.819Z"
   },
   {
    "duration": 170,
    "start_time": "2024-11-28T16:27:19.845Z"
   },
   {
    "duration": 15,
    "start_time": "2024-11-28T16:27:20.016Z"
   },
   {
    "duration": 26,
    "start_time": "2024-11-28T16:27:20.033Z"
   },
   {
    "duration": 22,
    "start_time": "2024-11-28T16:27:20.061Z"
   },
   {
    "duration": 12,
    "start_time": "2024-11-28T16:27:20.085Z"
   },
   {
    "duration": 6,
    "start_time": "2024-11-28T16:27:20.099Z"
   },
   {
    "duration": 5,
    "start_time": "2024-11-28T16:27:20.106Z"
   },
   {
    "duration": 22,
    "start_time": "2024-11-28T16:27:20.112Z"
   },
   {
    "duration": 8,
    "start_time": "2024-11-28T16:27:20.135Z"
   },
   {
    "duration": 19,
    "start_time": "2024-11-28T16:27:20.145Z"
   },
   {
    "duration": 262,
    "start_time": "2024-11-28T16:27:20.166Z"
   },
   {
    "duration": 140,
    "start_time": "2024-11-28T16:27:20.429Z"
   },
   {
    "duration": 4,
    "start_time": "2024-11-28T16:27:20.570Z"
   },
   {
    "duration": 9,
    "start_time": "2024-11-28T16:27:20.575Z"
   },
   {
    "duration": 13,
    "start_time": "2024-11-28T16:27:20.586Z"
   },
   {
    "duration": 5,
    "start_time": "2024-11-28T16:35:25.505Z"
   },
   {
    "duration": 5,
    "start_time": "2024-11-28T16:40:10.567Z"
   },
   {
    "duration": 71,
    "start_time": "2024-11-28T16:40:29.468Z"
   },
   {
    "duration": 4,
    "start_time": "2024-11-28T16:40:41.333Z"
   },
   {
    "duration": 5,
    "start_time": "2024-11-28T16:40:53.623Z"
   },
   {
    "duration": 133,
    "start_time": "2024-11-28T16:41:42.135Z"
   },
   {
    "duration": 1030,
    "start_time": "2024-11-28T16:42:19.146Z"
   },
   {
    "duration": 42,
    "start_time": "2024-11-28T16:42:20.177Z"
   },
   {
    "duration": 37,
    "start_time": "2024-11-28T16:42:20.220Z"
   },
   {
    "duration": 24,
    "start_time": "2024-11-28T16:42:20.258Z"
   },
   {
    "duration": 3,
    "start_time": "2024-11-28T16:42:20.284Z"
   },
   {
    "duration": 15,
    "start_time": "2024-11-28T16:42:20.288Z"
   },
   {
    "duration": 10,
    "start_time": "2024-11-28T16:42:20.304Z"
   },
   {
    "duration": 8,
    "start_time": "2024-11-28T16:42:20.322Z"
   },
   {
    "duration": 4,
    "start_time": "2024-11-28T16:42:20.331Z"
   },
   {
    "duration": 26,
    "start_time": "2024-11-28T16:42:20.338Z"
   },
   {
    "duration": 8,
    "start_time": "2024-11-28T16:42:20.365Z"
   },
   {
    "duration": 8,
    "start_time": "2024-11-28T16:42:20.374Z"
   },
   {
    "duration": 161,
    "start_time": "2024-11-28T16:42:20.383Z"
   },
   {
    "duration": 14,
    "start_time": "2024-11-28T16:42:20.545Z"
   },
   {
    "duration": 69,
    "start_time": "2024-11-28T16:42:20.560Z"
   },
   {
    "duration": 8,
    "start_time": "2024-11-28T16:42:20.631Z"
   },
   {
    "duration": 142,
    "start_time": "2024-11-28T16:42:20.640Z"
   },
   {
    "duration": 7,
    "start_time": "2024-11-28T16:42:20.784Z"
   },
   {
    "duration": 195,
    "start_time": "2024-11-28T16:42:20.792Z"
   },
   {
    "duration": 11,
    "start_time": "2024-11-28T16:42:20.989Z"
   },
   {
    "duration": 13,
    "start_time": "2024-11-28T16:42:21.002Z"
   },
   {
    "duration": 19,
    "start_time": "2024-11-28T16:42:21.016Z"
   },
   {
    "duration": 175,
    "start_time": "2024-11-28T16:42:21.036Z"
   },
   {
    "duration": 175,
    "start_time": "2024-11-28T16:42:21.212Z"
   },
   {
    "duration": 260,
    "start_time": "2024-11-28T16:42:21.389Z"
   },
   {
    "duration": 241,
    "start_time": "2024-11-28T16:42:21.650Z"
   },
   {
    "duration": 128,
    "start_time": "2024-11-28T16:42:21.892Z"
   },
   {
    "duration": 17,
    "start_time": "2024-11-28T16:42:22.023Z"
   },
   {
    "duration": 1172,
    "start_time": "2024-11-28T16:42:22.041Z"
   },
   {
    "duration": 234,
    "start_time": "2024-11-28T16:42:23.214Z"
   },
   {
    "duration": 137,
    "start_time": "2024-11-28T16:42:23.450Z"
   },
   {
    "duration": 162,
    "start_time": "2024-11-28T16:42:23.589Z"
   },
   {
    "duration": 6,
    "start_time": "2024-11-28T16:42:23.752Z"
   },
   {
    "duration": 7,
    "start_time": "2024-11-28T16:42:23.759Z"
   },
   {
    "duration": 10,
    "start_time": "2024-11-28T16:42:23.767Z"
   },
   {
    "duration": 202,
    "start_time": "2024-11-28T16:42:23.778Z"
   },
   {
    "duration": 16,
    "start_time": "2024-11-28T16:42:23.982Z"
   },
   {
    "duration": 25,
    "start_time": "2024-11-28T16:42:23.999Z"
   },
   {
    "duration": 4,
    "start_time": "2024-11-28T16:42:24.025Z"
   },
   {
    "duration": 22,
    "start_time": "2024-11-28T16:42:24.030Z"
   },
   {
    "duration": 15,
    "start_time": "2024-11-28T16:42:24.054Z"
   },
   {
    "duration": 3,
    "start_time": "2024-11-28T16:42:24.071Z"
   },
   {
    "duration": 259,
    "start_time": "2024-11-28T16:42:24.075Z"
   },
   {
    "duration": 266,
    "start_time": "2024-11-28T16:42:24.336Z"
   },
   {
    "duration": 6,
    "start_time": "2024-11-28T16:42:24.604Z"
   },
   {
    "duration": 28,
    "start_time": "2024-11-28T16:42:24.611Z"
   },
   {
    "duration": 63,
    "start_time": "2024-11-28T16:42:24.640Z"
   },
   {
    "duration": 149,
    "start_time": "2024-11-28T16:42:24.705Z"
   },
   {
    "duration": 23,
    "start_time": "2024-11-28T16:42:24.857Z"
   },
   {
    "duration": 167,
    "start_time": "2024-11-28T16:42:24.881Z"
   },
   {
    "duration": 17,
    "start_time": "2024-11-28T16:42:25.049Z"
   },
   {
    "duration": 21,
    "start_time": "2024-11-28T16:42:25.067Z"
   },
   {
    "duration": 11,
    "start_time": "2024-11-28T16:42:25.089Z"
   },
   {
    "duration": 11,
    "start_time": "2024-11-28T16:42:25.101Z"
   },
   {
    "duration": 12,
    "start_time": "2024-11-28T16:42:25.113Z"
   },
   {
    "duration": 4,
    "start_time": "2024-11-28T16:42:25.126Z"
   },
   {
    "duration": 7,
    "start_time": "2024-11-28T16:42:25.158Z"
   },
   {
    "duration": 38,
    "start_time": "2024-11-28T16:42:25.166Z"
   },
   {
    "duration": 26,
    "start_time": "2024-11-28T16:42:25.205Z"
   },
   {
    "duration": 183,
    "start_time": "2024-11-28T16:42:25.232Z"
   },
   {
    "duration": 140,
    "start_time": "2024-11-28T16:42:25.417Z"
   },
   {
    "duration": 4,
    "start_time": "2024-11-28T16:42:25.559Z"
   },
   {
    "duration": 10,
    "start_time": "2024-11-28T16:42:25.565Z"
   },
   {
    "duration": 132,
    "start_time": "2024-11-28T16:42:25.576Z"
   },
   {
    "duration": 5,
    "start_time": "2024-11-28T16:42:25.709Z"
   },
   {
    "duration": 76,
    "start_time": "2024-11-29T06:15:13.277Z"
   },
   {
    "duration": 1218,
    "start_time": "2024-11-29T06:15:21.465Z"
   },
   {
    "duration": 99,
    "start_time": "2024-11-29T06:15:22.685Z"
   },
   {
    "duration": 164,
    "start_time": "2024-11-29T06:15:22.786Z"
   },
   {
    "duration": 84,
    "start_time": "2024-11-29T06:15:22.952Z"
   },
   {
    "duration": 4,
    "start_time": "2024-11-29T06:15:23.038Z"
   },
   {
    "duration": 10,
    "start_time": "2024-11-29T06:15:23.043Z"
   },
   {
    "duration": 11,
    "start_time": "2024-11-29T06:15:23.055Z"
   },
   {
    "duration": 14,
    "start_time": "2024-11-29T06:15:23.067Z"
   },
   {
    "duration": 5,
    "start_time": "2024-11-29T06:15:23.082Z"
   },
   {
    "duration": 12,
    "start_time": "2024-11-29T06:15:23.090Z"
   },
   {
    "duration": 7,
    "start_time": "2024-11-29T06:15:23.105Z"
   },
   {
    "duration": 8,
    "start_time": "2024-11-29T06:15:23.114Z"
   },
   {
    "duration": 171,
    "start_time": "2024-11-29T06:15:23.124Z"
   },
   {
    "duration": 7,
    "start_time": "2024-11-29T06:15:23.297Z"
   },
   {
    "duration": 97,
    "start_time": "2024-11-29T06:15:23.305Z"
   },
   {
    "duration": 8,
    "start_time": "2024-11-29T06:15:23.403Z"
   },
   {
    "duration": 141,
    "start_time": "2024-11-29T06:15:23.413Z"
   },
   {
    "duration": 12,
    "start_time": "2024-11-29T06:15:23.555Z"
   },
   {
    "duration": 210,
    "start_time": "2024-11-29T06:15:23.569Z"
   },
   {
    "duration": 14,
    "start_time": "2024-11-29T06:15:23.781Z"
   },
   {
    "duration": 3,
    "start_time": "2024-11-29T06:15:23.797Z"
   },
   {
    "duration": 6,
    "start_time": "2024-11-29T06:15:23.801Z"
   },
   {
    "duration": 282,
    "start_time": "2024-11-29T06:15:23.809Z"
   },
   {
    "duration": 191,
    "start_time": "2024-11-29T06:15:24.092Z"
   },
   {
    "duration": 276,
    "start_time": "2024-11-29T06:15:24.285Z"
   },
   {
    "duration": 246,
    "start_time": "2024-11-29T06:15:24.563Z"
   },
   {
    "duration": 129,
    "start_time": "2024-11-29T06:15:24.811Z"
   },
   {
    "duration": 29,
    "start_time": "2024-11-29T06:15:24.944Z"
   },
   {
    "duration": 1254,
    "start_time": "2024-11-29T06:15:24.974Z"
   },
   {
    "duration": 254,
    "start_time": "2024-11-29T06:15:26.229Z"
   },
   {
    "duration": 192,
    "start_time": "2024-11-29T06:15:26.485Z"
   },
   {
    "duration": 211,
    "start_time": "2024-11-29T06:15:26.678Z"
   },
   {
    "duration": 4,
    "start_time": "2024-11-29T06:15:26.890Z"
   },
   {
    "duration": 7,
    "start_time": "2024-11-29T06:15:26.895Z"
   },
   {
    "duration": 4,
    "start_time": "2024-11-29T06:15:26.903Z"
   },
   {
    "duration": 223,
    "start_time": "2024-11-29T06:15:26.909Z"
   },
   {
    "duration": 24,
    "start_time": "2024-11-29T06:15:27.134Z"
   },
   {
    "duration": 18,
    "start_time": "2024-11-29T06:15:27.160Z"
   },
   {
    "duration": 4,
    "start_time": "2024-11-29T06:15:27.180Z"
   },
   {
    "duration": 31,
    "start_time": "2024-11-29T06:15:27.186Z"
   },
   {
    "duration": 15,
    "start_time": "2024-11-29T06:15:27.219Z"
   },
   {
    "duration": 3,
    "start_time": "2024-11-29T06:15:27.236Z"
   },
   {
    "duration": 246,
    "start_time": "2024-11-29T06:15:27.256Z"
   },
   {
    "duration": 253,
    "start_time": "2024-11-29T06:15:27.504Z"
   },
   {
    "duration": 7,
    "start_time": "2024-11-29T06:15:27.759Z"
   },
   {
    "duration": 8,
    "start_time": "2024-11-29T06:15:27.767Z"
   },
   {
    "duration": 198,
    "start_time": "2024-11-29T06:15:27.777Z"
   },
   {
    "duration": 114,
    "start_time": "2024-11-29T06:15:27.977Z"
   },
   {
    "duration": 25,
    "start_time": "2024-11-29T06:15:28.092Z"
   },
   {
    "duration": 171,
    "start_time": "2024-11-29T06:15:28.119Z"
   },
   {
    "duration": 19,
    "start_time": "2024-11-29T06:15:28.292Z"
   },
   {
    "duration": 23,
    "start_time": "2024-11-29T06:15:28.313Z"
   },
   {
    "duration": 30,
    "start_time": "2024-11-29T06:15:28.337Z"
   },
   {
    "duration": 15,
    "start_time": "2024-11-29T06:15:28.369Z"
   },
   {
    "duration": 7,
    "start_time": "2024-11-29T06:15:28.386Z"
   },
   {
    "duration": 5,
    "start_time": "2024-11-29T06:15:28.394Z"
   },
   {
    "duration": 8,
    "start_time": "2024-11-29T06:15:38.801Z"
   },
   {
    "duration": 10,
    "start_time": "2024-11-29T06:18:18.507Z"
   },
   {
    "duration": 9,
    "start_time": "2024-11-29T06:18:30.528Z"
   },
   {
    "duration": 91,
    "start_time": "2024-11-29T06:22:52.618Z"
   },
   {
    "duration": 113,
    "start_time": "2024-11-29T06:23:08.713Z"
   },
   {
    "duration": 114,
    "start_time": "2024-11-29T06:23:28.729Z"
   },
   {
    "duration": 4,
    "start_time": "2024-11-29T06:23:53.683Z"
   },
   {
    "duration": 123,
    "start_time": "2024-11-29T06:24:14.799Z"
   },
   {
    "duration": 126,
    "start_time": "2024-11-29T08:07:41.116Z"
   },
   {
    "duration": 133,
    "start_time": "2024-11-29T08:08:05.633Z"
   },
   {
    "duration": 150,
    "start_time": "2024-11-29T08:08:11.838Z"
   },
   {
    "duration": 135,
    "start_time": "2024-11-29T08:09:49.419Z"
   },
   {
    "duration": 10,
    "start_time": "2024-11-29T08:35:20.969Z"
   },
   {
    "duration": 7,
    "start_time": "2024-11-29T08:35:35.941Z"
   },
   {
    "duration": 4,
    "start_time": "2024-11-29T08:35:42.362Z"
   },
   {
    "duration": 6,
    "start_time": "2024-11-29T08:36:17.844Z"
   },
   {
    "duration": 245,
    "start_time": "2024-11-29T08:37:06.624Z"
   },
   {
    "duration": 261,
    "start_time": "2024-11-29T08:37:26.073Z"
   },
   {
    "duration": 14,
    "start_time": "2024-11-29T08:46:32.091Z"
   },
   {
    "duration": 22,
    "start_time": "2024-11-29T08:47:13.003Z"
   },
   {
    "duration": 25,
    "start_time": "2024-11-29T08:47:39.276Z"
   },
   {
    "duration": 12,
    "start_time": "2024-11-29T08:48:09.414Z"
   },
   {
    "duration": 18,
    "start_time": "2024-11-29T08:48:20.973Z"
   },
   {
    "duration": 21,
    "start_time": "2024-11-29T08:48:31.290Z"
   },
   {
    "duration": 8,
    "start_time": "2024-11-29T08:49:54.929Z"
   },
   {
    "duration": 7,
    "start_time": "2024-11-29T08:50:08.162Z"
   },
   {
    "duration": 5,
    "start_time": "2024-11-29T08:50:15.329Z"
   },
   {
    "duration": 262,
    "start_time": "2024-11-29T08:54:44.059Z"
   },
   {
    "duration": 261,
    "start_time": "2024-11-29T08:55:23.991Z"
   },
   {
    "duration": 313,
    "start_time": "2024-11-29T08:56:42.288Z"
   },
   {
    "duration": 249,
    "start_time": "2024-11-29T08:57:11.640Z"
   },
   {
    "duration": 253,
    "start_time": "2024-11-29T08:58:07.144Z"
   },
   {
    "duration": 119,
    "start_time": "2024-11-29T09:01:56.456Z"
   },
   {
    "duration": 107,
    "start_time": "2024-11-29T09:03:40.712Z"
   },
   {
    "duration": 271,
    "start_time": "2024-11-29T09:04:08.745Z"
   },
   {
    "duration": 263,
    "start_time": "2024-11-29T09:04:43.679Z"
   },
   {
    "duration": 337,
    "start_time": "2024-11-29T09:06:43.926Z"
   },
   {
    "duration": 185,
    "start_time": "2024-11-29T09:10:21.728Z"
   },
   {
    "duration": 1116,
    "start_time": "2024-11-29T09:10:35.166Z"
   },
   {
    "duration": 53,
    "start_time": "2024-11-29T09:10:36.284Z"
   },
   {
    "duration": 52,
    "start_time": "2024-11-29T09:10:36.338Z"
   },
   {
    "duration": 25,
    "start_time": "2024-11-29T09:10:36.393Z"
   },
   {
    "duration": 10,
    "start_time": "2024-11-29T09:10:36.420Z"
   },
   {
    "duration": 16,
    "start_time": "2024-11-29T09:10:36.432Z"
   },
   {
    "duration": 13,
    "start_time": "2024-11-29T09:10:36.450Z"
   },
   {
    "duration": 8,
    "start_time": "2024-11-29T09:10:36.464Z"
   },
   {
    "duration": 19,
    "start_time": "2024-11-29T09:10:36.474Z"
   },
   {
    "duration": 30,
    "start_time": "2024-11-29T09:10:36.497Z"
   },
   {
    "duration": 27,
    "start_time": "2024-11-29T09:10:36.528Z"
   },
   {
    "duration": 15,
    "start_time": "2024-11-29T09:10:36.557Z"
   },
   {
    "duration": 154,
    "start_time": "2024-11-29T09:10:36.574Z"
   },
   {
    "duration": 5,
    "start_time": "2024-11-29T09:10:36.730Z"
   },
   {
    "duration": 76,
    "start_time": "2024-11-29T09:10:36.737Z"
   },
   {
    "duration": 8,
    "start_time": "2024-11-29T09:10:36.815Z"
   },
   {
    "duration": 136,
    "start_time": "2024-11-29T09:10:36.824Z"
   },
   {
    "duration": 10,
    "start_time": "2024-11-29T09:10:36.962Z"
   },
   {
    "duration": 235,
    "start_time": "2024-11-29T09:10:36.973Z"
   },
   {
    "duration": 12,
    "start_time": "2024-11-29T09:10:37.209Z"
   },
   {
    "duration": 10,
    "start_time": "2024-11-29T09:10:37.223Z"
   },
   {
    "duration": 12,
    "start_time": "2024-11-29T09:10:37.234Z"
   },
   {
    "duration": 174,
    "start_time": "2024-11-29T09:10:37.248Z"
   },
   {
    "duration": 190,
    "start_time": "2024-11-29T09:10:37.424Z"
   },
   {
    "duration": 268,
    "start_time": "2024-11-29T09:10:37.615Z"
   },
   {
    "duration": 244,
    "start_time": "2024-11-29T09:10:37.885Z"
   },
   {
    "duration": 137,
    "start_time": "2024-11-29T09:10:38.131Z"
   },
   {
    "duration": 18,
    "start_time": "2024-11-29T09:10:38.271Z"
   },
   {
    "duration": 1230,
    "start_time": "2024-11-29T09:10:38.291Z"
   },
   {
    "duration": 227,
    "start_time": "2024-11-29T09:10:39.523Z"
   },
   {
    "duration": 137,
    "start_time": "2024-11-29T09:10:39.757Z"
   },
   {
    "duration": 236,
    "start_time": "2024-11-29T09:10:39.895Z"
   },
   {
    "duration": 4,
    "start_time": "2024-11-29T09:10:40.132Z"
   },
   {
    "duration": 9,
    "start_time": "2024-11-29T09:10:40.137Z"
   },
   {
    "duration": 5,
    "start_time": "2024-11-29T09:10:40.157Z"
   },
   {
    "duration": 215,
    "start_time": "2024-11-29T09:10:40.163Z"
   },
   {
    "duration": 23,
    "start_time": "2024-11-29T09:10:40.380Z"
   },
   {
    "duration": 22,
    "start_time": "2024-11-29T09:10:40.404Z"
   },
   {
    "duration": 3,
    "start_time": "2024-11-29T09:10:40.428Z"
   },
   {
    "duration": 6,
    "start_time": "2024-11-29T09:10:40.433Z"
   },
   {
    "duration": 33,
    "start_time": "2024-11-29T09:10:40.441Z"
   },
   {
    "duration": 19,
    "start_time": "2024-11-29T09:10:40.475Z"
   },
   {
    "duration": 4,
    "start_time": "2024-11-29T09:10:40.496Z"
   },
   {
    "duration": 280,
    "start_time": "2024-11-29T09:10:40.501Z"
   },
   {
    "duration": 241,
    "start_time": "2024-11-29T09:10:40.783Z"
   },
   {
    "duration": 75,
    "start_time": "2024-11-29T09:10:41.026Z"
   },
   {
    "duration": 198,
    "start_time": "2024-11-29T09:10:41.103Z"
   },
   {
    "duration": 27,
    "start_time": "2024-11-29T09:10:41.303Z"
   },
   {
    "duration": 164,
    "start_time": "2024-11-29T09:10:41.332Z"
   },
   {
    "duration": 16,
    "start_time": "2024-11-29T09:10:41.498Z"
   },
   {
    "duration": 23,
    "start_time": "2024-11-29T09:10:41.516Z"
   },
   {
    "duration": 30,
    "start_time": "2024-11-29T09:10:41.540Z"
   },
   {
    "duration": 14,
    "start_time": "2024-11-29T09:10:41.571Z"
   },
   {
    "duration": 11,
    "start_time": "2024-11-29T09:10:41.587Z"
   },
   {
    "duration": 5,
    "start_time": "2024-11-29T09:10:41.599Z"
   },
   {
    "duration": 10,
    "start_time": "2024-11-29T09:10:41.606Z"
   },
   {
    "duration": 44,
    "start_time": "2024-11-29T09:10:41.618Z"
   },
   {
    "duration": 14,
    "start_time": "2024-11-29T09:10:41.664Z"
   },
   {
    "duration": 205,
    "start_time": "2024-11-29T09:10:41.680Z"
   },
   {
    "duration": 143,
    "start_time": "2024-11-29T09:10:41.886Z"
   },
   {
    "duration": 4,
    "start_time": "2024-11-29T09:10:42.030Z"
   },
   {
    "duration": 101,
    "start_time": "2024-11-29T09:10:42.036Z"
   },
   {
    "duration": 143,
    "start_time": "2024-11-29T09:10:42.139Z"
   },
   {
    "duration": 141,
    "start_time": "2024-11-29T09:10:42.284Z"
   },
   {
    "duration": 6,
    "start_time": "2024-11-29T09:10:42.427Z"
   },
   {
    "duration": 197,
    "start_time": "2024-11-29T09:11:11.860Z"
   },
   {
    "duration": 1043,
    "start_time": "2024-11-29T09:11:34.267Z"
   },
   {
    "duration": 46,
    "start_time": "2024-11-29T09:11:35.311Z"
   },
   {
    "duration": 40,
    "start_time": "2024-11-29T09:11:35.358Z"
   },
   {
    "duration": 25,
    "start_time": "2024-11-29T09:11:35.400Z"
   },
   {
    "duration": 4,
    "start_time": "2024-11-29T09:11:35.426Z"
   },
   {
    "duration": 8,
    "start_time": "2024-11-29T09:11:35.432Z"
   },
   {
    "duration": 16,
    "start_time": "2024-11-29T09:11:35.442Z"
   },
   {
    "duration": 14,
    "start_time": "2024-11-29T09:11:35.460Z"
   },
   {
    "duration": 34,
    "start_time": "2024-11-29T09:11:35.476Z"
   },
   {
    "duration": 12,
    "start_time": "2024-11-29T09:11:35.512Z"
   },
   {
    "duration": 7,
    "start_time": "2024-11-29T09:11:35.526Z"
   },
   {
    "duration": 26,
    "start_time": "2024-11-29T09:11:35.535Z"
   },
   {
    "duration": 151,
    "start_time": "2024-11-29T09:11:35.562Z"
   },
   {
    "duration": 8,
    "start_time": "2024-11-29T09:11:35.715Z"
   },
   {
    "duration": 92,
    "start_time": "2024-11-29T09:11:35.724Z"
   },
   {
    "duration": 8,
    "start_time": "2024-11-29T09:11:35.817Z"
   },
   {
    "duration": 140,
    "start_time": "2024-11-29T09:11:35.827Z"
   },
   {
    "duration": 8,
    "start_time": "2024-11-29T09:11:35.969Z"
   },
   {
    "duration": 174,
    "start_time": "2024-11-29T09:11:35.979Z"
   },
   {
    "duration": 12,
    "start_time": "2024-11-29T09:11:36.157Z"
   },
   {
    "duration": 5,
    "start_time": "2024-11-29T09:11:36.171Z"
   },
   {
    "duration": 26,
    "start_time": "2024-11-29T09:11:36.177Z"
   },
   {
    "duration": 207,
    "start_time": "2024-11-29T09:11:36.204Z"
   },
   {
    "duration": 199,
    "start_time": "2024-11-29T09:11:36.413Z"
   },
   {
    "duration": 260,
    "start_time": "2024-11-29T09:11:36.613Z"
   },
   {
    "duration": 236,
    "start_time": "2024-11-29T09:11:36.875Z"
   },
   {
    "duration": 130,
    "start_time": "2024-11-29T09:11:37.113Z"
   },
   {
    "duration": 30,
    "start_time": "2024-11-29T09:11:37.247Z"
   },
   {
    "duration": 1278,
    "start_time": "2024-11-29T09:11:37.278Z"
   },
   {
    "duration": 223,
    "start_time": "2024-11-29T09:11:38.558Z"
   },
   {
    "duration": 158,
    "start_time": "2024-11-29T09:11:38.783Z"
   },
   {
    "duration": 191,
    "start_time": "2024-11-29T09:11:38.942Z"
   },
   {
    "duration": 4,
    "start_time": "2024-11-29T09:11:39.136Z"
   },
   {
    "duration": 74,
    "start_time": "2024-11-29T09:11:39.142Z"
   },
   {
    "duration": 16,
    "start_time": "2024-11-29T09:11:39.218Z"
   },
   {
    "duration": 188,
    "start_time": "2024-11-29T09:11:39.236Z"
   },
   {
    "duration": 17,
    "start_time": "2024-11-29T09:11:39.426Z"
   },
   {
    "duration": 17,
    "start_time": "2024-11-29T09:11:39.445Z"
   },
   {
    "duration": 4,
    "start_time": "2024-11-29T09:11:39.464Z"
   },
   {
    "duration": 6,
    "start_time": "2024-11-29T09:11:39.469Z"
   },
   {
    "duration": 21,
    "start_time": "2024-11-29T09:11:39.476Z"
   },
   {
    "duration": 17,
    "start_time": "2024-11-29T09:11:39.499Z"
   },
   {
    "duration": 4,
    "start_time": "2024-11-29T09:11:39.518Z"
   },
   {
    "duration": 295,
    "start_time": "2024-11-29T09:11:39.523Z"
   },
   {
    "duration": 259,
    "start_time": "2024-11-29T09:11:39.820Z"
   },
   {
    "duration": 77,
    "start_time": "2024-11-29T09:11:40.080Z"
   },
   {
    "duration": 221,
    "start_time": "2024-11-29T09:11:40.159Z"
   },
   {
    "duration": 26,
    "start_time": "2024-11-29T09:11:40.382Z"
   },
   {
    "duration": 180,
    "start_time": "2024-11-29T09:11:40.410Z"
   },
   {
    "duration": 15,
    "start_time": "2024-11-29T09:11:40.591Z"
   },
   {
    "duration": 22,
    "start_time": "2024-11-29T09:11:40.607Z"
   },
   {
    "duration": 31,
    "start_time": "2024-11-29T09:11:40.631Z"
   },
   {
    "duration": 24,
    "start_time": "2024-11-29T09:11:40.664Z"
   },
   {
    "duration": 5,
    "start_time": "2024-11-29T09:11:40.690Z"
   },
   {
    "duration": 12,
    "start_time": "2024-11-29T09:11:40.696Z"
   },
   {
    "duration": 24,
    "start_time": "2024-11-29T09:11:40.709Z"
   },
   {
    "duration": 8,
    "start_time": "2024-11-29T09:11:40.735Z"
   },
   {
    "duration": 16,
    "start_time": "2024-11-29T09:11:40.744Z"
   },
   {
    "duration": 214,
    "start_time": "2024-11-29T09:11:40.762Z"
   },
   {
    "duration": 154,
    "start_time": "2024-11-29T09:11:40.978Z"
   },
   {
    "duration": 5,
    "start_time": "2024-11-29T09:11:41.134Z"
   },
   {
    "duration": 192,
    "start_time": "2024-11-29T09:11:41.141Z"
   },
   {
    "duration": 151,
    "start_time": "2024-11-29T09:11:41.335Z"
   },
   {
    "duration": 139,
    "start_time": "2024-11-29T09:11:41.488Z"
   },
   {
    "duration": 4,
    "start_time": "2024-11-29T09:11:41.629Z"
   },
   {
    "duration": 116,
    "start_time": "2024-11-29T09:15:48.832Z"
   },
   {
    "duration": 250,
    "start_time": "2024-11-29T09:15:55.648Z"
   },
   {
    "duration": 1054,
    "start_time": "2024-11-29T09:17:06.816Z"
   },
   {
    "duration": 44,
    "start_time": "2024-11-29T09:17:07.872Z"
   },
   {
    "duration": 39,
    "start_time": "2024-11-29T09:17:07.917Z"
   },
   {
    "duration": 24,
    "start_time": "2024-11-29T09:17:07.958Z"
   },
   {
    "duration": 4,
    "start_time": "2024-11-29T09:17:07.983Z"
   },
   {
    "duration": 15,
    "start_time": "2024-11-29T09:17:07.989Z"
   },
   {
    "duration": 9,
    "start_time": "2024-11-29T09:17:08.006Z"
   },
   {
    "duration": 7,
    "start_time": "2024-11-29T09:17:08.016Z"
   },
   {
    "duration": 4,
    "start_time": "2024-11-29T09:17:08.024Z"
   },
   {
    "duration": 31,
    "start_time": "2024-11-29T09:17:08.031Z"
   },
   {
    "duration": 6,
    "start_time": "2024-11-29T09:17:08.063Z"
   },
   {
    "duration": 8,
    "start_time": "2024-11-29T09:17:08.071Z"
   },
   {
    "duration": 157,
    "start_time": "2024-11-29T09:17:08.080Z"
   },
   {
    "duration": 6,
    "start_time": "2024-11-29T09:17:08.239Z"
   },
   {
    "duration": 111,
    "start_time": "2024-11-29T09:17:08.246Z"
   },
   {
    "duration": 11,
    "start_time": "2024-11-29T09:17:08.359Z"
   },
   {
    "duration": 162,
    "start_time": "2024-11-29T09:17:08.375Z"
   },
   {
    "duration": 8,
    "start_time": "2024-11-29T09:17:08.539Z"
   },
   {
    "duration": 174,
    "start_time": "2024-11-29T09:17:08.549Z"
   },
   {
    "duration": 12,
    "start_time": "2024-11-29T09:17:08.725Z"
   },
   {
    "duration": 5,
    "start_time": "2024-11-29T09:17:08.739Z"
   },
   {
    "duration": 4,
    "start_time": "2024-11-29T09:17:08.758Z"
   },
   {
    "duration": 188,
    "start_time": "2024-11-29T09:17:08.763Z"
   },
   {
    "duration": 176,
    "start_time": "2024-11-29T09:17:08.953Z"
   },
   {
    "duration": 291,
    "start_time": "2024-11-29T09:17:09.131Z"
   },
   {
    "duration": 243,
    "start_time": "2024-11-29T09:17:09.423Z"
   },
   {
    "duration": 134,
    "start_time": "2024-11-29T09:17:09.667Z"
   },
   {
    "duration": 18,
    "start_time": "2024-11-29T09:17:09.805Z"
   },
   {
    "duration": 1240,
    "start_time": "2024-11-29T09:17:09.825Z"
   },
   {
    "duration": 243,
    "start_time": "2024-11-29T09:17:11.067Z"
   },
   {
    "duration": 145,
    "start_time": "2024-11-29T09:17:11.312Z"
   },
   {
    "duration": 168,
    "start_time": "2024-11-29T09:17:11.458Z"
   },
   {
    "duration": 5,
    "start_time": "2024-11-29T09:17:11.627Z"
   },
   {
    "duration": 24,
    "start_time": "2024-11-29T09:17:11.633Z"
   },
   {
    "duration": 5,
    "start_time": "2024-11-29T09:17:11.659Z"
   },
   {
    "duration": 211,
    "start_time": "2024-11-29T09:17:11.665Z"
   },
   {
    "duration": 20,
    "start_time": "2024-11-29T09:17:11.877Z"
   },
   {
    "duration": 20,
    "start_time": "2024-11-29T09:17:11.898Z"
   },
   {
    "duration": 4,
    "start_time": "2024-11-29T09:17:11.919Z"
   },
   {
    "duration": 9,
    "start_time": "2024-11-29T09:17:11.924Z"
   },
   {
    "duration": 34,
    "start_time": "2024-11-29T09:17:11.934Z"
   },
   {
    "duration": 20,
    "start_time": "2024-11-29T09:17:11.970Z"
   },
   {
    "duration": 3,
    "start_time": "2024-11-29T09:17:11.992Z"
   },
   {
    "duration": 281,
    "start_time": "2024-11-29T09:17:11.997Z"
   },
   {
    "duration": 270,
    "start_time": "2024-11-29T09:17:12.280Z"
   },
   {
    "duration": 69,
    "start_time": "2024-11-29T09:17:12.557Z"
   },
   {
    "duration": 192,
    "start_time": "2024-11-29T09:17:12.628Z"
   },
   {
    "duration": 26,
    "start_time": "2024-11-29T09:17:12.822Z"
   },
   {
    "duration": 165,
    "start_time": "2024-11-29T09:17:12.858Z"
   },
   {
    "duration": 17,
    "start_time": "2024-11-29T09:17:13.024Z"
   },
   {
    "duration": 34,
    "start_time": "2024-11-29T09:17:13.043Z"
   },
   {
    "duration": 13,
    "start_time": "2024-11-29T09:17:13.078Z"
   },
   {
    "duration": 14,
    "start_time": "2024-11-29T09:17:13.093Z"
   },
   {
    "duration": 25,
    "start_time": "2024-11-29T09:17:13.108Z"
   },
   {
    "duration": 12,
    "start_time": "2024-11-29T09:17:13.134Z"
   },
   {
    "duration": 118,
    "start_time": "2024-11-29T09:17:13.147Z"
   },
   {
    "duration": 11,
    "start_time": "2024-11-29T09:17:13.267Z"
   },
   {
    "duration": 14,
    "start_time": "2024-11-29T09:17:13.279Z"
   },
   {
    "duration": 220,
    "start_time": "2024-11-29T09:17:13.294Z"
   },
   {
    "duration": 153,
    "start_time": "2024-11-29T09:17:13.516Z"
   },
   {
    "duration": 5,
    "start_time": "2024-11-29T09:17:13.670Z"
   },
   {
    "duration": 136,
    "start_time": "2024-11-29T09:17:13.677Z"
   },
   {
    "duration": 127,
    "start_time": "2024-11-29T09:17:13.814Z"
   },
   {
    "duration": 139,
    "start_time": "2024-11-29T09:17:13.942Z"
   },
   {
    "duration": 5,
    "start_time": "2024-11-29T09:17:14.082Z"
   },
   {
    "duration": 315,
    "start_time": "2024-11-29T09:20:27.338Z"
   },
   {
    "duration": 224,
    "start_time": "2024-11-29T09:22:53.335Z"
   },
   {
    "duration": 1273,
    "start_time": "2024-11-29T10:56:28.572Z"
   },
   {
    "duration": 123,
    "start_time": "2024-11-29T10:56:29.847Z"
   },
   {
    "duration": 153,
    "start_time": "2024-11-29T10:56:29.972Z"
   },
   {
    "duration": 82,
    "start_time": "2024-11-29T10:56:30.127Z"
   },
   {
    "duration": 4,
    "start_time": "2024-11-29T10:56:30.210Z"
   },
   {
    "duration": 41,
    "start_time": "2024-11-29T10:56:30.215Z"
   },
   {
    "duration": 50,
    "start_time": "2024-11-29T10:56:30.258Z"
   },
   {
    "duration": 44,
    "start_time": "2024-11-29T10:56:30.310Z"
   },
   {
    "duration": 13,
    "start_time": "2024-11-29T10:56:30.356Z"
   },
   {
    "duration": 10,
    "start_time": "2024-11-29T10:56:30.372Z"
   },
   {
    "duration": 25,
    "start_time": "2024-11-29T10:56:30.383Z"
   },
   {
    "duration": 42,
    "start_time": "2024-11-29T10:56:30.410Z"
   },
   {
    "duration": 221,
    "start_time": "2024-11-29T10:56:30.453Z"
   },
   {
    "duration": 6,
    "start_time": "2024-11-29T10:56:30.676Z"
   },
   {
    "duration": 106,
    "start_time": "2024-11-29T10:56:30.683Z"
   },
   {
    "duration": 9,
    "start_time": "2024-11-29T10:56:30.791Z"
   },
   {
    "duration": 193,
    "start_time": "2024-11-29T10:56:30.802Z"
   },
   {
    "duration": 9,
    "start_time": "2024-11-29T10:56:30.997Z"
   },
   {
    "duration": 242,
    "start_time": "2024-11-29T10:56:31.009Z"
   },
   {
    "duration": 18,
    "start_time": "2024-11-29T10:56:31.253Z"
   },
   {
    "duration": 3,
    "start_time": "2024-11-29T10:56:31.272Z"
   },
   {
    "duration": 21,
    "start_time": "2024-11-29T10:56:31.277Z"
   },
   {
    "duration": 160,
    "start_time": "2024-11-29T10:56:31.300Z"
   },
   {
    "duration": 253,
    "start_time": "2024-11-29T10:56:31.461Z"
   },
   {
    "duration": 285,
    "start_time": "2024-11-29T10:56:31.716Z"
   },
   {
    "duration": 344,
    "start_time": "2024-11-29T10:56:32.003Z"
   },
   {
    "duration": 144,
    "start_time": "2024-11-29T10:56:32.348Z"
   },
   {
    "duration": 18,
    "start_time": "2024-11-29T10:56:32.495Z"
   },
   {
    "duration": 1395,
    "start_time": "2024-11-29T10:56:32.515Z"
   },
   {
    "duration": 268,
    "start_time": "2024-11-29T10:56:33.911Z"
   },
   {
    "duration": 162,
    "start_time": "2024-11-29T10:56:34.181Z"
   },
   {
    "duration": 184,
    "start_time": "2024-11-29T10:56:34.345Z"
   },
   {
    "duration": 4,
    "start_time": "2024-11-29T10:56:34.530Z"
   },
   {
    "duration": 15,
    "start_time": "2024-11-29T10:56:34.535Z"
   },
   {
    "duration": 20,
    "start_time": "2024-11-29T10:56:34.552Z"
   },
   {
    "duration": 214,
    "start_time": "2024-11-29T10:56:34.573Z"
   },
   {
    "duration": 19,
    "start_time": "2024-11-29T10:56:34.788Z"
   },
   {
    "duration": 62,
    "start_time": "2024-11-29T10:56:34.809Z"
   },
   {
    "duration": 10,
    "start_time": "2024-11-29T10:56:34.872Z"
   },
   {
    "duration": 12,
    "start_time": "2024-11-29T10:56:34.883Z"
   },
   {
    "duration": 30,
    "start_time": "2024-11-29T10:56:34.896Z"
   },
   {
    "duration": 24,
    "start_time": "2024-11-29T10:56:34.927Z"
   },
   {
    "duration": 3,
    "start_time": "2024-11-29T10:56:34.953Z"
   },
   {
    "duration": 329,
    "start_time": "2024-11-29T10:56:34.958Z"
   },
   {
    "duration": 311,
    "start_time": "2024-11-29T10:56:35.289Z"
   },
   {
    "duration": 169,
    "start_time": "2024-11-29T10:56:35.602Z"
   },
   {
    "duration": 135,
    "start_time": "2024-11-29T10:56:35.773Z"
   },
   {
    "duration": 28,
    "start_time": "2024-11-29T10:56:35.910Z"
   },
   {
    "duration": 178,
    "start_time": "2024-11-29T10:56:35.940Z"
   },
   {
    "duration": 17,
    "start_time": "2024-11-29T10:56:36.120Z"
   },
   {
    "duration": 33,
    "start_time": "2024-11-29T10:56:36.138Z"
   },
   {
    "duration": 15,
    "start_time": "2024-11-29T10:56:36.172Z"
   },
   {
    "duration": 17,
    "start_time": "2024-11-29T10:56:36.188Z"
   },
   {
    "duration": 17,
    "start_time": "2024-11-29T10:56:36.206Z"
   },
   {
    "duration": 10,
    "start_time": "2024-11-29T10:56:36.225Z"
   },
   {
    "duration": 23,
    "start_time": "2024-11-29T10:56:36.237Z"
   },
   {
    "duration": 7,
    "start_time": "2024-11-29T10:56:36.271Z"
   },
   {
    "duration": 54,
    "start_time": "2024-11-29T10:56:36.280Z"
   },
   {
    "duration": 234,
    "start_time": "2024-11-29T10:56:36.335Z"
   },
   {
    "duration": 161,
    "start_time": "2024-11-29T10:56:36.571Z"
   },
   {
    "duration": 4,
    "start_time": "2024-11-29T10:56:36.733Z"
   },
   {
    "duration": 120,
    "start_time": "2024-11-29T10:56:36.739Z"
   },
   {
    "duration": 149,
    "start_time": "2024-11-29T10:56:36.861Z"
   },
   {
    "duration": 145,
    "start_time": "2024-11-29T10:56:37.011Z"
   },
   {
    "duration": 13,
    "start_time": "2024-11-29T10:56:37.157Z"
   }
  ],
  "kernelspec": {
   "display_name": "Python 3 (ipykernel)",
   "language": "python",
   "name": "python3"
  },
  "language_info": {
   "codemirror_mode": {
    "name": "ipython",
    "version": 3
   },
   "file_extension": ".py",
   "mimetype": "text/x-python",
   "name": "python",
   "nbconvert_exporter": "python",
   "pygments_lexer": "ipython3",
   "version": "3.9.5"
  },
  "toc": {
   "base_numbering": 1,
   "nav_menu": {},
   "number_sections": true,
   "sideBar": true,
   "skip_h1_title": true,
   "title_cell": "Table of Contents",
   "title_sidebar": "Contents",
   "toc_cell": false,
   "toc_position": {
    "height": "calc(100% - 180px)",
    "left": "10px",
    "top": "150px",
    "width": "374.391px"
   },
   "toc_section_display": true,
   "toc_window_display": true
  }
 },
 "nbformat": 4,
 "nbformat_minor": 5
}
