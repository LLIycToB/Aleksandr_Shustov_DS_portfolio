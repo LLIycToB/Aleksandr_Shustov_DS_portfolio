{
 "cells": [
  {
   "cell_type": "markdown",
   "metadata": {
    "toc": true
   },
   "source": [
    "<h1>Содержание<span class=\"tocSkip\"></span></h1>\n",
    "<div class=\"toc\"><ul class=\"toc-item\"><li><span><a href=\"#Подготовка\" data-toc-modified-id=\"Подготовка-1\"><span class=\"toc-item-num\">1&nbsp;&nbsp;</span>Подготовка</a></span></li><li><span><a href=\"#Анализ\" data-toc-modified-id=\"Анализ-2\"><span class=\"toc-item-num\">2&nbsp;&nbsp;</span>Анализ</a></span></li><li><span><a href=\"#Обучение\" data-toc-modified-id=\"Обучение-3\"><span class=\"toc-item-num\">3&nbsp;&nbsp;</span>Обучение</a></span></li><li><span><a href=\"#Тестирование\" data-toc-modified-id=\"Тестирование-4\"><span class=\"toc-item-num\">4&nbsp;&nbsp;</span>Тестирование</a></span></li></ul></div>"
   ]
  },
  {
   "cell_type": "markdown",
   "metadata": {},
   "source": [
    "#  Прогнозирование заказов такси"
   ]
  },
  {
   "cell_type": "markdown",
   "metadata": {},
   "source": [
    "Компания «Чётенькое такси» собрала исторические данные о заказах такси в аэропортах. Чтобы привлекать больше водителей в период пиковой нагрузки, нужно спрогнозировать количество заказов такси на следующий час. Постройте модель для такого предсказания.\n",
    "\n",
    "Значение метрики *RMSE* на тестовой выборке должно быть не больше 48.\n",
    "\n",
    "Вам нужно:\n",
    "\n",
    "1. Загрузить данные и выполнить их ресемплирование по одному часу.\n",
    "2. Проанализировать данные.\n",
    "3. Обучить разные модели с различными гиперпараметрами. Сделать тестовую выборку размером 10% от исходных данных.\n",
    "4. Проверить данные на тестовой выборке и сделать выводы.\n",
    "\n",
    "\n",
    "Данные лежат в файле `taxi.csv`. Количество заказов находится в столбце `num_orders` (от англ. *number of orders*, «число заказов»)."
   ]
  },
  {
   "cell_type": "markdown",
   "metadata": {},
   "source": [
    "## Подготовка"
   ]
  },
  {
   "cell_type": "code",
   "execution_count": 1,
   "metadata": {},
   "outputs": [],
   "source": [
    "!pip install --upgrade scikit-learn -q\n",
    "#базовые\n",
    "import pandas as pd\n",
    "import numpy as np\n",
    "#генерация случайных чисел\n",
    "import random\n",
    "#учет времени выполнения\n",
    "import time\n",
    "# отключение ошибок\n",
    "import warnings\n",
    "# графики\n",
    "import seaborn as sns\n",
    "import matplotlib.pyplot as plt\n",
    "# преобразование данных\n",
    "from sklearn.model_selection import train_test_split, TimeSeriesSplit\n",
    "# Модели\n",
    "from sklearn.linear_model import LinearRegression, LogisticRegression\n",
    "from lightgbm import LGBMRegressor\n",
    "from sklearn.tree import DecisionTreeRegressor\n",
    "from sklearn.neighbors import KNeighborsRegressor\n",
    "#проверка адекватности модели\n",
    "from sklearn.dummy import DummyRegressor\n",
    "# Метрики\n",
    "from sklearn.metrics import root_mean_squared_error\n",
    "# Инструменты подбора гиперпараметров\n",
    "from sklearn.model_selection import GridSearchCV, RandomizedSearchCV, cross_val_score\n",
    "# пайплайны\n",
    "from sklearn.pipeline import Pipeline\n",
    "#временные ряды\n",
    "from statsmodels.tsa.seasonal import seasonal_decompose\n",
    "\n",
    "RANDOM_STATE = 88"
   ]
  },
  {
   "cell_type": "code",
   "execution_count": 2,
   "metadata": {},
   "outputs": [],
   "source": [
    "#функция печати графиков для исследовательского анализа данных\n",
    "def stat_plots(df, custom_bins={}, countplots=[]):\n",
    "    for column in countplots:\n",
    "        data = df[column]\n",
    "        sns.countplot(data, palette='GnBu_r')\n",
    "        plt.title(f'Количественный анализ дискретного признака {column}')\n",
    "        plt.xlabel('Значения')\n",
    "        plt.ylabel('Количество')\n",
    "        plt.show()\n",
    "    df = df.drop(countplots, axis=1)    \n",
    "    for column in df.select_dtypes(include='number').columns:\n",
    "        try:\n",
    "            nbins = custom_bins[column]\n",
    "        except:\n",
    "            nbins = 10\n",
    "        ind_label = df[column].name\n",
    "        print('=' * 110)\n",
    "        print(f'Статистический анализ показателя {ind_label}')\n",
    "        print('-' * 110)\n",
    "        fig, axes = plt.subplots(nrows=1, ncols=2, figsize=(15,5))\n",
    "        bins = axes[0].hist(df[column], bins=nbins)\n",
    "        axes[0].vlines(x=df[column].mean(), colors='red', ymin=0, ymax=bins[0].max(), label='Среднее')\n",
    "        axes[0].vlines(x=df[column].median(), colors='red', ymin=0, ymax=bins[0].max(), linestyles='--', label='Медиана')\n",
    "        axes[0].set_title('Гистограмма распределения')\n",
    "        axes[0].set_xlabel(ind_label)\n",
    "        axes[0].set_ylabel('Количество значений')\n",
    "        axes[0].legend()\n",
    "        axes[1].boxplot(df[column], vert=False)\n",
    "        axes[1].set_title('Диаграмма размаха')\n",
    "        axes[1].set_xlabel(ind_label)\n",
    "        plt.show()\n",
    "    for column in df.select_dtypes(include='object').columns:\n",
    "        ind_label = df[column].name\n",
    "        df[column].value_counts().plot(kind='pie', autopct='%.0f', subplots=True, legend=False, label=ind_label)\n",
    "        plt.title(f'Распределение долей по показателю {ind_label}')\n",
    "        plt.show()"
   ]
  },
  {
   "cell_type": "markdown",
   "metadata": {},
   "source": [
    "Загрузим и изучим данные"
   ]
  },
  {
   "cell_type": "code",
   "execution_count": 3,
   "metadata": {},
   "outputs": [],
   "source": [
    "data = pd.read_csv('/datasets/taxi.csv', index_col=[0], parse_dates=[0])\n",
    "data.sort_index(inplace=True)"
   ]
  },
  {
   "cell_type": "code",
   "execution_count": 4,
   "metadata": {},
   "outputs": [
    {
     "name": "stdout",
     "output_type": "stream",
     "text": [
      "<class 'pandas.core.frame.DataFrame'>\n",
      "DatetimeIndex: 26496 entries, 2018-03-01 00:00:00 to 2018-08-31 23:50:00\n",
      "Data columns (total 1 columns):\n",
      " #   Column      Non-Null Count  Dtype\n",
      "---  ------      --------------  -----\n",
      " 0   num_orders  26496 non-null  int64\n",
      "dtypes: int64(1)\n",
      "memory usage: 414.0 KB\n"
     ]
    }
   ],
   "source": [
    "data.info()"
   ]
  },
  {
   "cell_type": "markdown",
   "metadata": {},
   "source": [
    "Пропусков в данных не обнаружено, выполним ресэмплинг до 1 часа"
   ]
  },
  {
   "cell_type": "code",
   "execution_count": 5,
   "metadata": {},
   "outputs": [],
   "source": [
    "data = data.resample('1H').sum()"
   ]
  },
  {
   "cell_type": "markdown",
   "metadata": {},
   "source": [
    "## Анализ"
   ]
  },
  {
   "cell_type": "markdown",
   "metadata": {},
   "source": [
    "Изучим распределение данных"
   ]
  },
  {
   "cell_type": "code",
   "execution_count": 6,
   "metadata": {},
   "outputs": [
    {
     "name": "stdout",
     "output_type": "stream",
     "text": [
      "==============================================================================================================\n",
      "Статистический анализ показателя num_orders\n",
      "--------------------------------------------------------------------------------------------------------------\n"
     ]
    },
    {
     "data": {
      "image/png": "[encoded data removed]",
      "text/plain": [
       "<Figure size 1080x360 with 2 Axes>"
      ]
     },
     "metadata": {
      "needs_background": "light"
     },
     "output_type": "display_data"
    }
   ],
   "source": [
    "stat_plots(data)"
   ]
  },
  {
   "cell_type": "markdown",
   "metadata": {},
   "source": [
    "Распределение данных ненормальное из-за выбросов."
   ]
  },
  {
   "cell_type": "markdown",
   "metadata": {},
   "source": [
    "Изучим исследуемый временной ряд на предмет стационарности"
   ]
  },
  {
   "cell_type": "code",
   "execution_count": 7,
   "metadata": {},
   "outputs": [],
   "source": [
    "data['rolling_mean'] = data.num_orders.shift().rolling(24).mean()\n",
    "data['rolling_mean'] = data['rolling_mean'].fillna(0).astype('int32')\n",
    "data['std'] = data.num_orders.rolling(24).std()\n",
    "data['std'] = data['std'].fillna(0).astype('int32')"
   ]
  },
  {
   "cell_type": "code",
   "execution_count": 8,
   "metadata": {},
   "outputs": [
    {
     "data": {
      "image/png": "[encoded data removed]",
      "text/plain": [
       "<Figure size 1440x576 with 1 Axes>"
      ]
     },
     "metadata": {
      "needs_background": "light"
     },
     "output_type": "display_data"
    }
   ],
   "source": [
    "data.plot(figsize=(20, 8))\n",
    "plt.show()"
   ]
  },
  {
   "cell_type": "markdown",
   "metadata": {},
   "source": [
    "Как мы можем наблюдать на графике, исследуемый временной ряд не является стационарным, поскольку его скользящее среднее меняется."
   ]
  },
  {
   "cell_type": "code",
   "execution_count": 9,
   "metadata": {},
   "outputs": [],
   "source": [
    "# data.index = pd.DatetimeIndex(data.index).date"
   ]
  },
  {
   "cell_type": "code",
   "execution_count": 10,
   "metadata": {
    "scrolled": true
   },
   "outputs": [
    {
     "data": {
      "image/png": "[encoded data removed]",
      "text/plain": [
       "<Figure size 1440x1728 with 3 Axes>"
      ]
     },
     "metadata": {
      "needs_background": "light"
     },
     "output_type": "display_data"
    }
   ],
   "source": [
    "decomposed = seasonal_decompose(data.num_orders, period=168*4)\n",
    "\n",
    "plt.figure(figsize=(20, 24))\n",
    "plt.subplot(321)\n",
    "decomposed.trend.plot(ax=plt.gca())\n",
    "plt.title('Тренд')\n",
    "plt.subplot(322)\n",
    "decomposed.seasonal.plot(ax=plt.gca())\n",
    "plt.title('Сезонность')\n",
    "plt.subplot(312)\n",
    "decomposed.resid.plot(ax=plt.gca())\n",
    "plt.title('Остатки')\n",
    "plt.show()"
   ]
  },
  {
   "cell_type": "code",
   "execution_count": 11,
   "metadata": {},
   "outputs": [
    {
     "data": {
      "image/png": "[encoded data removed]",
      "text/plain": [
       "<Figure size 1152x576 with 1 Axes>"
      ]
     },
     "metadata": {
      "needs_background": "light"
     },
     "output_type": "display_data"
    }
   ],
   "source": [
    "decomposed.seasonal.tail(24*7).plot(title='Сезонность по часам дня', figsize=(16, 8))\n",
    "plt.show()"
   ]
  },
  {
   "cell_type": "code",
   "execution_count": 12,
   "metadata": {},
   "outputs": [],
   "source": [
    "data_days = data.resample('1D').sum()"
   ]
  },
  {
   "cell_type": "code",
   "execution_count": 13,
   "metadata": {
    "scrolled": true
   },
   "outputs": [
    {
     "data": {
      "image/png": "[encoded data removed]",
      "text/plain": [
       "<Figure size 1152x576 with 1 Axes>"
      ]
     },
     "metadata": {
      "needs_background": "light"
     },
     "output_type": "display_data"
    }
   ],
   "source": [
    "decomposed_daily = seasonal_decompose(data_days.num_orders)\n",
    "decomposed_daily.seasonal.head(30).plot(title='Сезонность по дням недели', figsize=(16, 8))\n",
    "plt.show()"
   ]
  },
  {
   "cell_type": "markdown",
   "metadata": {},
   "source": [
    "Как мы можем наблюдать на графиках сезонности, имеется явная сезонность по часам в сутках, и по дням недели. Сезонность по дням месяца отсутствует, а для определения сезонности по месяцам и неделям у нас недостаточно данных."
   ]
  },
  {
   "cell_type": "markdown",
   "metadata": {},
   "source": [
    "## Обучение"
   ]
  },
  {
   "cell_type": "markdown",
   "metadata": {},
   "source": [
    "Создадим функцию для добавления дополнительных вычисляемых признаков:"
   ]
  },
  {
   "cell_type": "code",
   "execution_count": 14,
   "metadata": {},
   "outputs": [],
   "source": [
    "def make_features(data, max_lag, rolling_mean_size):\n",
    "    data['day'] = data.index.day\n",
    "    data['dayofweek'] = data.index.dayofweek\n",
    "    data['hour'] = data.index.hour\n",
    "    \n",
    "    for lag in range(1, max_lag + 1):\n",
    "        data[f'lag_{lag}'] = data.num_orders.shift(lag)\n",
    "    \n",
    "    data['rolling_mean'] = data.num_orders.shift().rolling(rolling_mean_size).mean()"
   ]
  },
  {
   "cell_type": "markdown",
   "metadata": {},
   "source": [
    "Создадим признаки при помощи этой функции и заполним пропуски"
   ]
  },
  {
   "cell_type": "code",
   "execution_count": 15,
   "metadata": {},
   "outputs": [
    {
     "data": {
      "text/html": [
       "<div>\n",
       "<style scoped>\n",
       "    .dataframe tbody tr th:only-of-type {\n",
       "        vertical-align: middle;\n",
       "    }\n",
       "\n",
       "    .dataframe tbody tr th {\n",
       "        vertical-align: top;\n",
       "    }\n",
       "\n",
       "    .dataframe thead th {\n",
       "        text-align: right;\n",
       "    }\n",
       "</style>\n",
       "<table border=\"1\" class=\"dataframe\">\n",
       "  <thead>\n",
       "    <tr style=\"text-align: right;\">\n",
       "      <th></th>\n",
       "      <th>num_orders</th>\n",
       "      <th>rolling_mean</th>\n",
       "      <th>std</th>\n",
       "      <th>day</th>\n",
       "      <th>dayofweek</th>\n",
       "      <th>hour</th>\n",
       "      <th>lag_1</th>\n",
       "      <th>lag_2</th>\n",
       "      <th>lag_3</th>\n",
       "      <th>lag_4</th>\n",
       "      <th>lag_5</th>\n",
       "      <th>lag_6</th>\n",
       "      <th>lag_7</th>\n",
       "    </tr>\n",
       "    <tr>\n",
       "      <th>datetime</th>\n",
       "      <th></th>\n",
       "      <th></th>\n",
       "      <th></th>\n",
       "      <th></th>\n",
       "      <th></th>\n",
       "      <th></th>\n",
       "      <th></th>\n",
       "      <th></th>\n",
       "      <th></th>\n",
       "      <th></th>\n",
       "      <th></th>\n",
       "      <th></th>\n",
       "      <th></th>\n",
       "    </tr>\n",
       "  </thead>\n",
       "  <tbody>\n",
       "    <tr>\n",
       "      <th>2018-03-01 00:00:00</th>\n",
       "      <td>124</td>\n",
       "      <td>0.000000</td>\n",
       "      <td>0</td>\n",
       "      <td>1</td>\n",
       "      <td>3</td>\n",
       "      <td>0</td>\n",
       "      <td>0.0</td>\n",
       "      <td>0.0</td>\n",
       "      <td>0.0</td>\n",
       "      <td>0.0</td>\n",
       "      <td>0.0</td>\n",
       "      <td>0.0</td>\n",
       "      <td>0.0</td>\n",
       "    </tr>\n",
       "    <tr>\n",
       "      <th>2018-03-01 01:00:00</th>\n",
       "      <td>85</td>\n",
       "      <td>0.000000</td>\n",
       "      <td>0</td>\n",
       "      <td>1</td>\n",
       "      <td>3</td>\n",
       "      <td>1</td>\n",
       "      <td>124.0</td>\n",
       "      <td>0.0</td>\n",
       "      <td>0.0</td>\n",
       "      <td>0.0</td>\n",
       "      <td>0.0</td>\n",
       "      <td>0.0</td>\n",
       "      <td>0.0</td>\n",
       "    </tr>\n",
       "    <tr>\n",
       "      <th>2018-03-01 02:00:00</th>\n",
       "      <td>71</td>\n",
       "      <td>0.000000</td>\n",
       "      <td>0</td>\n",
       "      <td>1</td>\n",
       "      <td>3</td>\n",
       "      <td>2</td>\n",
       "      <td>85.0</td>\n",
       "      <td>124.0</td>\n",
       "      <td>0.0</td>\n",
       "      <td>0.0</td>\n",
       "      <td>0.0</td>\n",
       "      <td>0.0</td>\n",
       "      <td>0.0</td>\n",
       "    </tr>\n",
       "    <tr>\n",
       "      <th>2018-03-01 03:00:00</th>\n",
       "      <td>66</td>\n",
       "      <td>0.000000</td>\n",
       "      <td>0</td>\n",
       "      <td>1</td>\n",
       "      <td>3</td>\n",
       "      <td>3</td>\n",
       "      <td>71.0</td>\n",
       "      <td>85.0</td>\n",
       "      <td>124.0</td>\n",
       "      <td>0.0</td>\n",
       "      <td>0.0</td>\n",
       "      <td>0.0</td>\n",
       "      <td>0.0</td>\n",
       "    </tr>\n",
       "    <tr>\n",
       "      <th>2018-03-01 04:00:00</th>\n",
       "      <td>43</td>\n",
       "      <td>0.000000</td>\n",
       "      <td>0</td>\n",
       "      <td>1</td>\n",
       "      <td>3</td>\n",
       "      <td>4</td>\n",
       "      <td>66.0</td>\n",
       "      <td>71.0</td>\n",
       "      <td>85.0</td>\n",
       "      <td>124.0</td>\n",
       "      <td>0.0</td>\n",
       "      <td>0.0</td>\n",
       "      <td>0.0</td>\n",
       "    </tr>\n",
       "    <tr>\n",
       "      <th>...</th>\n",
       "      <td>...</td>\n",
       "      <td>...</td>\n",
       "      <td>...</td>\n",
       "      <td>...</td>\n",
       "      <td>...</td>\n",
       "      <td>...</td>\n",
       "      <td>...</td>\n",
       "      <td>...</td>\n",
       "      <td>...</td>\n",
       "      <td>...</td>\n",
       "      <td>...</td>\n",
       "      <td>...</td>\n",
       "      <td>...</td>\n",
       "    </tr>\n",
       "    <tr>\n",
       "      <th>2018-08-31 19:00:00</th>\n",
       "      <td>136</td>\n",
       "      <td>164.875000</td>\n",
       "      <td>63</td>\n",
       "      <td>31</td>\n",
       "      <td>4</td>\n",
       "      <td>19</td>\n",
       "      <td>207.0</td>\n",
       "      <td>217.0</td>\n",
       "      <td>197.0</td>\n",
       "      <td>116.0</td>\n",
       "      <td>133.0</td>\n",
       "      <td>166.0</td>\n",
       "      <td>136.0</td>\n",
       "    </tr>\n",
       "    <tr>\n",
       "      <th>2018-08-31 20:00:00</th>\n",
       "      <td>154</td>\n",
       "      <td>167.541667</td>\n",
       "      <td>63</td>\n",
       "      <td>31</td>\n",
       "      <td>4</td>\n",
       "      <td>20</td>\n",
       "      <td>136.0</td>\n",
       "      <td>207.0</td>\n",
       "      <td>217.0</td>\n",
       "      <td>197.0</td>\n",
       "      <td>116.0</td>\n",
       "      <td>133.0</td>\n",
       "      <td>166.0</td>\n",
       "    </tr>\n",
       "    <tr>\n",
       "      <th>2018-08-31 21:00:00</th>\n",
       "      <td>159</td>\n",
       "      <td>168.041667</td>\n",
       "      <td>62</td>\n",
       "      <td>31</td>\n",
       "      <td>4</td>\n",
       "      <td>21</td>\n",
       "      <td>154.0</td>\n",
       "      <td>136.0</td>\n",
       "      <td>207.0</td>\n",
       "      <td>217.0</td>\n",
       "      <td>197.0</td>\n",
       "      <td>116.0</td>\n",
       "      <td>133.0</td>\n",
       "    </tr>\n",
       "    <tr>\n",
       "      <th>2018-08-31 22:00:00</th>\n",
       "      <td>223</td>\n",
       "      <td>166.416667</td>\n",
       "      <td>63</td>\n",
       "      <td>31</td>\n",
       "      <td>4</td>\n",
       "      <td>22</td>\n",
       "      <td>159.0</td>\n",
       "      <td>154.0</td>\n",
       "      <td>136.0</td>\n",
       "      <td>207.0</td>\n",
       "      <td>217.0</td>\n",
       "      <td>197.0</td>\n",
       "      <td>116.0</td>\n",
       "    </tr>\n",
       "    <tr>\n",
       "      <th>2018-08-31 23:00:00</th>\n",
       "      <td>205</td>\n",
       "      <td>169.125000</td>\n",
       "      <td>62</td>\n",
       "      <td>31</td>\n",
       "      <td>4</td>\n",
       "      <td>23</td>\n",
       "      <td>223.0</td>\n",
       "      <td>159.0</td>\n",
       "      <td>154.0</td>\n",
       "      <td>136.0</td>\n",
       "      <td>207.0</td>\n",
       "      <td>217.0</td>\n",
       "      <td>197.0</td>\n",
       "    </tr>\n",
       "  </tbody>\n",
       "</table>\n",
       "<p>4416 rows × 13 columns</p>\n",
       "</div>"
      ],
      "text/plain": [
       "                     num_orders  rolling_mean  std  day  dayofweek  hour  \\\n",
       "datetime                                                                   \n",
       "2018-03-01 00:00:00         124      0.000000    0    1          3     0   \n",
       "2018-03-01 01:00:00          85      0.000000    0    1          3     1   \n",
       "2018-03-01 02:00:00          71      0.000000    0    1          3     2   \n",
       "2018-03-01 03:00:00          66      0.000000    0    1          3     3   \n",
       "2018-03-01 04:00:00          43      0.000000    0    1          3     4   \n",
       "...                         ...           ...  ...  ...        ...   ...   \n",
       "2018-08-31 19:00:00         136    164.875000   63   31          4    19   \n",
       "2018-08-31 20:00:00         154    167.541667   63   31          4    20   \n",
       "2018-08-31 21:00:00         159    168.041667   62   31          4    21   \n",
       "2018-08-31 22:00:00         223    166.416667   63   31          4    22   \n",
       "2018-08-31 23:00:00         205    169.125000   62   31          4    23   \n",
       "\n",
       "                     lag_1  lag_2  lag_3  lag_4  lag_5  lag_6  lag_7  \n",
       "datetime                                                              \n",
       "2018-03-01 00:00:00    0.0    0.0    0.0    0.0    0.0    0.0    0.0  \n",
       "2018-03-01 01:00:00  124.0    0.0    0.0    0.0    0.0    0.0    0.0  \n",
       "2018-03-01 02:00:00   85.0  124.0    0.0    0.0    0.0    0.0    0.0  \n",
       "2018-03-01 03:00:00   71.0   85.0  124.0    0.0    0.0    0.0    0.0  \n",
       "2018-03-01 04:00:00   66.0   71.0   85.0  124.0    0.0    0.0    0.0  \n",
       "...                    ...    ...    ...    ...    ...    ...    ...  \n",
       "2018-08-31 19:00:00  207.0  217.0  197.0  116.0  133.0  166.0  136.0  \n",
       "2018-08-31 20:00:00  136.0  207.0  217.0  197.0  116.0  133.0  166.0  \n",
       "2018-08-31 21:00:00  154.0  136.0  207.0  217.0  197.0  116.0  133.0  \n",
       "2018-08-31 22:00:00  159.0  154.0  136.0  207.0  217.0  197.0  116.0  \n",
       "2018-08-31 23:00:00  223.0  159.0  154.0  136.0  207.0  217.0  197.0  \n",
       "\n",
       "[4416 rows x 13 columns]"
      ]
     },
     "execution_count": 15,
     "metadata": {},
     "output_type": "execute_result"
    }
   ],
   "source": [
    "make_features(data, 7, 24)\n",
    "data = data.fillna(0)\n",
    "data"
   ]
  },
  {
   "cell_type": "markdown",
   "metadata": {},
   "source": [
    "Подготовим тренировочный датасет к обучению"
   ]
  },
  {
   "cell_type": "code",
   "execution_count": 16,
   "metadata": {},
   "outputs": [],
   "source": [
    "train, test = train_test_split(data, shuffle=False, test_size=0.1)"
   ]
  },
  {
   "cell_type": "code",
   "execution_count": 17,
   "metadata": {},
   "outputs": [],
   "source": [
    "X_train = train.drop('num_orders', axis=1)\n",
    "y_train = train.num_orders"
   ]
  },
  {
   "cell_type": "markdown",
   "metadata": {},
   "source": [
    "Составим пайплайны подбора модели и гиперпараметров"
   ]
  },
  {
   "cell_type": "code",
   "execution_count": 18,
   "metadata": {},
   "outputs": [],
   "source": [
    "pipe_train =  Pipeline([\n",
    "    ('models', 'passthrough')\n",
    "])"
   ]
  },
  {
   "cell_type": "code",
   "execution_count": 19,
   "metadata": {},
   "outputs": [],
   "source": [
    "param_grid = [   \n",
    "    {\n",
    "        'models': [DecisionTreeRegressor(random_state=RANDOM_STATE)],\n",
    "        'models__max_depth': range(2, 15),\n",
    "        'models__max_features': range(2, 15)\n",
    "    },\n",
    "    \n",
    "    {\n",
    "        'models': [LinearRegression()], \n",
    "        'models__n_jobs': range(2, 15)\n",
    "    },\n",
    "   \n",
    "    {\n",
    "        'models': [KNeighborsRegressor()], \n",
    "        'models__n_neighbors': range(5, 15)\n",
    "    },\n",
    "    \n",
    "    {\n",
    "       'models': [LGBMRegressor()]\n",
    "    }\n",
    "]"
   ]
  },
  {
   "cell_type": "markdown",
   "metadata": {},
   "source": [
    "Инициализируем инструмент подбора параметров с кросс-валидацией"
   ]
  },
  {
   "cell_type": "code",
   "execution_count": 20,
   "metadata": {},
   "outputs": [],
   "source": [
    "tscv = TimeSeriesSplit(n_splits=5)\n",
    "\n",
    "param_search = GridSearchCV(\n",
    "    pipe_train,\n",
    "    param_grid,\n",
    "    n_jobs=-1,\n",
    "    cv=tscv,\n",
    "    scoring='neg_root_mean_squared_error'\n",
    ")"
   ]
  },
  {
   "cell_type": "markdown",
   "metadata": {},
   "source": [
    "Выполним подбор гиперпараметров и определим наилучшую модель"
   ]
  },
  {
   "cell_type": "code",
   "execution_count": 21,
   "metadata": {
    "scrolled": true
   },
   "outputs": [
    {
     "data": {
      "text/html": [
       "<div>\n",
       "<style scoped>\n",
       "    .dataframe tbody tr th:only-of-type {\n",
       "        vertical-align: middle;\n",
       "    }\n",
       "\n",
       "    .dataframe tbody tr th {\n",
       "        vertical-align: top;\n",
       "    }\n",
       "\n",
       "    .dataframe thead th {\n",
       "        text-align: right;\n",
       "    }\n",
       "</style>\n",
       "<table border=\"1\" class=\"dataframe\">\n",
       "  <thead>\n",
       "    <tr style=\"text-align: right;\">\n",
       "      <th></th>\n",
       "      <th>rank_test_score</th>\n",
       "      <th>params</th>\n",
       "    </tr>\n",
       "  </thead>\n",
       "  <tbody>\n",
       "    <tr>\n",
       "      <th>192</th>\n",
       "      <td>1</td>\n",
       "      <td>{'models': LGBMRegressor()}</td>\n",
       "    </tr>\n",
       "    <tr>\n",
       "      <th>74</th>\n",
       "      <td>2</td>\n",
       "      <td>{'models': DecisionTreeRegressor(random_state=88), 'models__max_depth': 7, 'models__max_features': 11}</td>\n",
       "    </tr>\n",
       "    <tr>\n",
       "      <th>64</th>\n",
       "      <td>3</td>\n",
       "      <td>{'models': DecisionTreeRegressor(random_state=88), 'models__max_depth': 6, 'models__max_features': 14}</td>\n",
       "    </tr>\n",
       "    <tr>\n",
       "      <th>63</th>\n",
       "      <td>3</td>\n",
       "      <td>{'models': DecisionTreeRegressor(random_state=88), 'models__max_depth': 6, 'models__max_features': 13}</td>\n",
       "    </tr>\n",
       "    <tr>\n",
       "      <th>62</th>\n",
       "      <td>3</td>\n",
       "      <td>{'models': DecisionTreeRegressor(random_state=88), 'models__max_depth': 6, 'models__max_features': 12}</td>\n",
       "    </tr>\n",
       "  </tbody>\n",
       "</table>\n",
       "</div>"
      ],
      "text/plain": [
       "     rank_test_score  \\\n",
       "192                1   \n",
       "74                 2   \n",
       "64                 3   \n",
       "63                 3   \n",
       "62                 3   \n",
       "\n",
       "                                                                                                     params  \n",
       "192                                                                             {'models': LGBMRegressor()}  \n",
       "74   {'models': DecisionTreeRegressor(random_state=88), 'models__max_depth': 7, 'models__max_features': 11}  \n",
       "64   {'models': DecisionTreeRegressor(random_state=88), 'models__max_depth': 6, 'models__max_features': 14}  \n",
       "63   {'models': DecisionTreeRegressor(random_state=88), 'models__max_depth': 6, 'models__max_features': 13}  \n",
       "62   {'models': DecisionTreeRegressor(random_state=88), 'models__max_depth': 6, 'models__max_features': 12}  "
      ]
     },
     "execution_count": 21,
     "metadata": {},
     "output_type": "execute_result"
    }
   ],
   "source": [
    "warnings.filterwarnings('ignore')\n",
    "\n",
    "param_search.fit(X_train, y_train)\n",
    "\n",
    "pd.set_option('display.max_colwidth', None)\n",
    "result = pd.DataFrame(param_search.cv_results_)\n",
    "result[['rank_test_score', 'params']].sort_values('rank_test_score').head(5)"
   ]
  },
  {
   "cell_type": "markdown",
   "metadata": {},
   "source": [
    "## Тестирование"
   ]
  },
  {
   "cell_type": "markdown",
   "metadata": {},
   "source": [
    "Подготовим тестовый датасет"
   ]
  },
  {
   "cell_type": "code",
   "execution_count": 22,
   "metadata": {},
   "outputs": [],
   "source": [
    "X_test = test.drop('num_orders', axis=1)\n",
    "y_test = test.num_orders"
   ]
  },
  {
   "cell_type": "markdown",
   "metadata": {},
   "source": [
    "Обучим лучшую модель по результатам подбора гиперпараметров и кросс-валидации"
   ]
  },
  {
   "cell_type": "code",
   "execution_count": 23,
   "metadata": {},
   "outputs": [
    {
     "name": "stdout",
     "output_type": "stream",
     "text": [
      "Лучшая модель и ее параметры: LGBMRegressor()\n",
      "Ошибка RMSE лучшей модели на тестовых данных = 42\n"
     ]
    }
   ],
   "source": [
    "best_suite = param_search.best_estimator_\n",
    "best_suite.fit(X_train, y_train)\n",
    "y_pred = best_suite.predict(X_test)\n",
    "rmse = int(root_mean_squared_error(y_test, y_pred))\n",
    "print(f'Лучшая модель и ее параметры: {best_suite.named_steps[\"models\"]}')\n",
    "print(f'Ошибка RMSE лучшей модели на тестовых данных = {rmse}')"
   ]
  },
  {
   "cell_type": "markdown",
   "metadata": {},
   "source": [
    "Целевая метрика выбранной модели находится в пределах диапазона согласно требованиям Заказчика."
   ]
  }
 ],
 "metadata": {
  "ExecuteTimeLog": [
   {
    "duration": 9871,
    "start_time": "2025-05-13T05:44:35.633Z"
   },
   {
    "duration": 14,
    "start_time": "2025-05-13T05:45:12.652Z"
   },
   {
    "duration": 86,
    "start_time": "2025-05-13T05:45:16.812Z"
   },
   {
    "duration": 105,
    "start_time": "2025-05-13T05:45:32.347Z"
   },
   {
    "duration": 39,
    "start_time": "2025-05-13T05:46:34.451Z"
   },
   {
    "duration": 25,
    "start_time": "2025-05-13T05:46:37.451Z"
   },
   {
    "duration": 11,
    "start_time": "2025-05-13T05:49:06.271Z"
   },
   {
    "duration": 10,
    "start_time": "2025-05-13T05:51:30.920Z"
   },
   {
    "duration": 10,
    "start_time": "2025-05-13T05:51:41.235Z"
   },
   {
    "duration": 8,
    "start_time": "2025-05-13T05:52:10.827Z"
   },
   {
    "duration": 123,
    "start_time": "2025-05-13T05:53:44.915Z"
   },
   {
    "duration": 7,
    "start_time": "2025-05-13T05:53:59.353Z"
   },
   {
    "duration": 9,
    "start_time": "2025-05-13T05:54:05.362Z"
   },
   {
    "duration": 23,
    "start_time": "2025-05-13T05:54:30.002Z"
   },
   {
    "duration": 11,
    "start_time": "2025-05-13T05:54:44.010Z"
   },
   {
    "duration": 9,
    "start_time": "2025-05-13T05:54:47.129Z"
   },
   {
    "duration": 25,
    "start_time": "2025-05-13T05:55:41.164Z"
   },
   {
    "duration": 17,
    "start_time": "2025-05-13T05:56:15.158Z"
   },
   {
    "duration": 24,
    "start_time": "2025-05-13T05:58:02.900Z"
   },
   {
    "duration": 6,
    "start_time": "2025-05-13T05:58:19.524Z"
   },
   {
    "duration": 9,
    "start_time": "2025-05-13T05:58:32.187Z"
   },
   {
    "duration": 28,
    "start_time": "2025-05-13T05:58:51.311Z"
   },
   {
    "duration": 5,
    "start_time": "2025-05-13T06:01:11.913Z"
   },
   {
    "duration": 8,
    "start_time": "2025-05-13T06:01:16.064Z"
   },
   {
    "duration": 929,
    "start_time": "2025-05-13T06:02:06.198Z"
   },
   {
    "duration": 1079,
    "start_time": "2025-05-13T06:03:15.910Z"
   },
   {
    "duration": 1264,
    "start_time": "2025-05-13T06:03:28.076Z"
   },
   {
    "duration": 1245,
    "start_time": "2025-05-13T06:03:44.540Z"
   },
   {
    "duration": 1270,
    "start_time": "2025-05-13T06:04:03.643Z"
   },
   {
    "duration": 7,
    "start_time": "2025-05-13T06:05:19.489Z"
   },
   {
    "duration": 9,
    "start_time": "2025-05-13T06:05:38.849Z"
   },
   {
    "duration": 1243,
    "start_time": "2025-05-13T06:05:50.825Z"
   },
   {
    "duration": 1180,
    "start_time": "2025-05-13T06:06:04.793Z"
   },
   {
    "duration": 1128,
    "start_time": "2025-05-13T06:06:20.939Z"
   },
   {
    "duration": 1089,
    "start_time": "2025-05-13T06:06:39.976Z"
   },
   {
    "duration": 1013,
    "start_time": "2025-05-13T06:06:52.655Z"
   },
   {
    "duration": 1494,
    "start_time": "2025-05-13T06:07:18.084Z"
   },
   {
    "duration": 322,
    "start_time": "2025-05-13T06:10:27.050Z"
   },
   {
    "duration": 9,
    "start_time": "2025-05-13T06:11:41.689Z"
   },
   {
    "duration": 176,
    "start_time": "2025-05-13T06:12:08.140Z"
   },
   {
    "duration": 15,
    "start_time": "2025-05-13T06:15:15.763Z"
   },
   {
    "duration": 14,
    "start_time": "2025-05-13T06:15:23.887Z"
   },
   {
    "duration": 55,
    "start_time": "2025-05-13T06:15:29.126Z"
   },
   {
    "duration": 24,
    "start_time": "2025-05-13T06:15:30.292Z"
   },
   {
    "duration": 11,
    "start_time": "2025-05-13T06:15:32.357Z"
   },
   {
    "duration": 310,
    "start_time": "2025-05-13T06:15:48.028Z"
   },
   {
    "duration": 16,
    "start_time": "2025-05-13T06:16:19.012Z"
   },
   {
    "duration": 10,
    "start_time": "2025-05-13T06:19:36.312Z"
   },
   {
    "duration": 9,
    "start_time": "2025-05-13T06:19:52.758Z"
   },
   {
    "duration": 11,
    "start_time": "2025-05-13T06:20:06.438Z"
   },
   {
    "duration": 8,
    "start_time": "2025-05-13T06:20:15.336Z"
   },
   {
    "duration": 8,
    "start_time": "2025-05-13T06:21:15.941Z"
   },
   {
    "duration": 9,
    "start_time": "2025-05-13T06:21:19.573Z"
   },
   {
    "duration": 347,
    "start_time": "2025-05-13T06:21:29.423Z"
   },
   {
    "duration": 7,
    "start_time": "2025-05-13T06:22:14.356Z"
   },
   {
    "duration": 609,
    "start_time": "2025-05-13T06:22:17.462Z"
   },
   {
    "duration": 7,
    "start_time": "2025-05-13T06:22:33.372Z"
   },
   {
    "duration": 369,
    "start_time": "2025-05-13T06:22:37.451Z"
   },
   {
    "duration": 6,
    "start_time": "2025-05-13T06:24:55.160Z"
   },
   {
    "duration": 305,
    "start_time": "2025-05-13T06:24:57.640Z"
   },
   {
    "duration": 294,
    "start_time": "2025-05-13T06:26:00.839Z"
   },
   {
    "duration": 575,
    "start_time": "2025-05-13T06:26:20.223Z"
   },
   {
    "duration": 398,
    "start_time": "2025-05-13T06:26:28.663Z"
   },
   {
    "duration": 17,
    "start_time": "2025-05-13T06:27:36.140Z"
   },
   {
    "duration": 11,
    "start_time": "2025-05-13T06:30:00.045Z"
   },
   {
    "duration": 34,
    "start_time": "2025-05-13T06:30:27.385Z"
   },
   {
    "duration": 6,
    "start_time": "2025-05-13T06:30:45.842Z"
   },
   {
    "duration": 15,
    "start_time": "2025-05-13T06:30:49.826Z"
   },
   {
    "duration": 8,
    "start_time": "2025-05-13T06:33:11.779Z"
   },
   {
    "duration": 31,
    "start_time": "2025-05-13T06:33:13.965Z"
   },
   {
    "duration": 304,
    "start_time": "2025-05-13T06:39:11.848Z"
   },
   {
    "duration": 295,
    "start_time": "2025-05-13T06:39:23.074Z"
   },
   {
    "duration": 11,
    "start_time": "2025-05-13T06:39:43.683Z"
   },
   {
    "duration": 17,
    "start_time": "2025-05-13T06:39:52.739Z"
   },
   {
    "duration": 23,
    "start_time": "2025-05-13T06:40:36.108Z"
   },
   {
    "duration": 8,
    "start_time": "2025-05-13T06:43:24.186Z"
   },
   {
    "duration": 10,
    "start_time": "2025-05-13T06:43:34.308Z"
   },
   {
    "duration": 54,
    "start_time": "2025-05-13T06:44:11.984Z"
   },
   {
    "duration": 9,
    "start_time": "2025-05-13T06:44:15.665Z"
   },
   {
    "duration": 9,
    "start_time": "2025-05-13T06:44:24.152Z"
   },
   {
    "duration": 21,
    "start_time": "2025-05-13T06:44:29.737Z"
   },
   {
    "duration": 6,
    "start_time": "2025-05-13T06:45:13.639Z"
   },
   {
    "duration": 329,
    "start_time": "2025-05-13T06:45:22.767Z"
   },
   {
    "duration": 9,
    "start_time": "2025-05-13T06:48:03.738Z"
   },
   {
    "duration": 4,
    "start_time": "2025-05-13T06:48:54.794Z"
   },
   {
    "duration": 10,
    "start_time": "2025-05-13T06:49:07.310Z"
   },
   {
    "duration": 5,
    "start_time": "2025-05-13T06:50:12.959Z"
   },
   {
    "duration": 5,
    "start_time": "2025-05-13T06:50:16.055Z"
   },
   {
    "duration": 15,
    "start_time": "2025-05-13T06:50:18.342Z"
   },
   {
    "duration": 6,
    "start_time": "2025-05-13T06:52:16.466Z"
   },
   {
    "duration": 14,
    "start_time": "2025-05-13T06:52:27.245Z"
   },
   {
    "duration": 1345,
    "start_time": "2025-05-13T06:55:18.056Z"
   },
   {
    "duration": 9,
    "start_time": "2025-05-13T06:56:05.151Z"
   },
   {
    "duration": 16,
    "start_time": "2025-05-13T06:56:12.558Z"
   },
   {
    "duration": 3624,
    "start_time": "2025-05-13T06:57:48.837Z"
   },
   {
    "duration": 16,
    "start_time": "2025-05-13T06:57:52.465Z"
   },
   {
    "duration": 73,
    "start_time": "2025-05-13T06:57:52.483Z"
   },
   {
    "duration": 14,
    "start_time": "2025-05-13T06:57:52.558Z"
   },
   {
    "duration": 8,
    "start_time": "2025-05-13T06:57:52.574Z"
   },
   {
    "duration": 313,
    "start_time": "2025-05-13T06:57:52.584Z"
   },
   {
    "duration": 22,
    "start_time": "2025-05-13T06:57:52.903Z"
   },
   {
    "duration": 7,
    "start_time": "2025-05-13T06:57:52.928Z"
   },
   {
    "duration": 14,
    "start_time": "2025-05-13T06:57:52.937Z"
   },
   {
    "duration": 19,
    "start_time": "2025-05-13T06:57:52.953Z"
   },
   {
    "duration": 15,
    "start_time": "2025-05-13T06:57:52.974Z"
   },
   {
    "duration": 6,
    "start_time": "2025-05-13T06:57:53.006Z"
   },
   {
    "duration": 6,
    "start_time": "2025-05-13T06:57:56.844Z"
   },
   {
    "duration": 631,
    "start_time": "2025-05-13T06:58:07.852Z"
   },
   {
    "duration": 37,
    "start_time": "2025-05-13T06:59:35.553Z"
   },
   {
    "duration": 986,
    "start_time": "2025-05-13T06:59:52.402Z"
   },
   {
    "duration": 22,
    "start_time": "2025-05-13T07:00:40.592Z"
   },
   {
    "duration": 15,
    "start_time": "2025-05-13T07:01:12.767Z"
   },
   {
    "duration": 310,
    "start_time": "2025-05-13T07:01:35.337Z"
   },
   {
    "duration": 7,
    "start_time": "2025-05-13T07:02:23.191Z"
   },
   {
    "duration": 500,
    "start_time": "2025-05-13T07:02:27.887Z"
   },
   {
    "duration": 33,
    "start_time": "2025-05-13T07:03:13.693Z"
   },
   {
    "duration": 7,
    "start_time": "2025-05-13T07:03:39.837Z"
   },
   {
    "duration": 1462,
    "start_time": "2025-05-13T07:03:46.884Z"
   },
   {
    "duration": 9,
    "start_time": "2025-05-13T07:13:42.832Z"
   },
   {
    "duration": 668,
    "start_time": "2025-05-13T07:13:45.304Z"
   },
   {
    "duration": 6,
    "start_time": "2025-05-13T07:18:40.489Z"
   },
   {
    "duration": 8,
    "start_time": "2025-05-13T07:19:10.010Z"
   },
   {
    "duration": 481,
    "start_time": "2025-05-13T07:19:19.952Z"
   },
   {
    "duration": 3742,
    "start_time": "2025-05-13T07:27:30.912Z"
   },
   {
    "duration": 12,
    "start_time": "2025-05-13T07:27:34.658Z"
   },
   {
    "duration": 85,
    "start_time": "2025-05-13T07:27:34.672Z"
   },
   {
    "duration": 13,
    "start_time": "2025-05-13T07:27:34.760Z"
   },
   {
    "duration": 10,
    "start_time": "2025-05-13T07:27:34.776Z"
   },
   {
    "duration": 342,
    "start_time": "2025-05-13T07:27:34.788Z"
   },
   {
    "duration": 15,
    "start_time": "2025-05-13T07:27:35.131Z"
   },
   {
    "duration": 215,
    "start_time": "2025-05-13T07:27:35.148Z"
   },
   {
    "duration": 106,
    "start_time": "2025-05-13T07:27:35.365Z"
   },
   {
    "duration": 19,
    "start_time": "2025-05-13T07:27:35.474Z"
   },
   {
    "duration": 54,
    "start_time": "2025-05-13T07:27:35.495Z"
   },
   {
    "duration": 0,
    "start_time": "2025-05-13T07:27:35.551Z"
   },
   {
    "duration": 0,
    "start_time": "2025-05-13T07:27:35.554Z"
   },
   {
    "duration": 0,
    "start_time": "2025-05-13T07:27:35.556Z"
   },
   {
    "duration": 4,
    "start_time": "2025-05-13T07:28:23.295Z"
   },
   {
    "duration": 317,
    "start_time": "2025-05-13T07:28:25.445Z"
   },
   {
    "duration": 10,
    "start_time": "2025-05-13T07:28:29.710Z"
   },
   {
    "duration": 576,
    "start_time": "2025-05-13T07:28:32.068Z"
   },
   {
    "duration": 5,
    "start_time": "2025-05-13T07:28:36.029Z"
   },
   {
    "duration": 8,
    "start_time": "2025-05-13T07:28:38.732Z"
   },
   {
    "duration": 683,
    "start_time": "2025-05-13T07:28:41.572Z"
   },
   {
    "duration": 483,
    "start_time": "2025-05-13T07:28:53.788Z"
   },
   {
    "duration": 10,
    "start_time": "2025-05-13T07:32:48.025Z"
   },
   {
    "duration": 114,
    "start_time": "2025-05-13T07:33:27.263Z"
   },
   {
    "duration": 6,
    "start_time": "2025-05-13T07:33:29.390Z"
   },
   {
    "duration": 14,
    "start_time": "2025-05-13T07:34:33.709Z"
   },
   {
    "duration": 7,
    "start_time": "2025-05-13T07:38:27.255Z"
   },
   {
    "duration": 11,
    "start_time": "2025-05-13T07:38:35.031Z"
   },
   {
    "duration": 4,
    "start_time": "2025-05-13T07:46:53.782Z"
   },
   {
    "duration": 11,
    "start_time": "2025-05-13T07:47:28.766Z"
   },
   {
    "duration": 9,
    "start_time": "2025-05-13T07:47:35.454Z"
   },
   {
    "duration": 4060,
    "start_time": "2025-05-13T07:49:45.405Z"
   },
   {
    "duration": 44,
    "start_time": "2025-05-13T07:50:13.596Z"
   },
   {
    "duration": 15,
    "start_time": "2025-05-13T07:51:55.782Z"
   },
   {
    "duration": 15,
    "start_time": "2025-05-13T07:52:01.917Z"
   },
   {
    "duration": 24,
    "start_time": "2025-05-13T07:52:04.346Z"
   },
   {
    "duration": 34,
    "start_time": "2025-05-13T07:52:10.801Z"
   },
   {
    "duration": 4,
    "start_time": "2025-05-13T07:52:35.264Z"
   },
   {
    "duration": 7,
    "start_time": "2025-05-13T07:52:38.552Z"
   },
   {
    "duration": 34,
    "start_time": "2025-05-13T07:52:41.319Z"
   },
   {
    "duration": 7,
    "start_time": "2025-05-13T07:55:16.463Z"
   },
   {
    "duration": 14711,
    "start_time": "2025-05-13T07:57:31.802Z"
   },
   {
    "duration": 3,
    "start_time": "2025-05-13T07:58:51.782Z"
   },
   {
    "duration": 16,
    "start_time": "2025-05-13T07:59:03.257Z"
   },
   {
    "duration": 14,
    "start_time": "2025-05-13T07:59:34.895Z"
   },
   {
    "duration": 38,
    "start_time": "2025-05-13T08:00:14.391Z"
   },
   {
    "duration": 15,
    "start_time": "2025-05-13T08:00:51.304Z"
   },
   {
    "duration": 31,
    "start_time": "2025-05-13T08:00:53.894Z"
   },
   {
    "duration": 4460,
    "start_time": "2025-05-13T08:17:08.794Z"
   },
   {
    "duration": 20,
    "start_time": "2025-05-13T08:20:23.072Z"
   },
   {
    "duration": 5440,
    "start_time": "2025-05-13T08:21:56.800Z"
   },
   {
    "duration": 3,
    "start_time": "2025-05-13T08:22:09.182Z"
   },
   {
    "duration": 115,
    "start_time": "2025-05-13T08:22:13.825Z"
   },
   {
    "duration": 30,
    "start_time": "2025-05-13T08:22:25.414Z"
   },
   {
    "duration": 3,
    "start_time": "2025-05-13T08:23:06.972Z"
   },
   {
    "duration": 13,
    "start_time": "2025-05-13T08:23:13.137Z"
   },
   {
    "duration": 5,
    "start_time": "2025-05-13T08:23:36.340Z"
   },
   {
    "duration": 7,
    "start_time": "2025-05-13T08:25:24.792Z"
   },
   {
    "duration": 3,
    "start_time": "2025-05-13T08:25:53.377Z"
   },
   {
    "duration": 955,
    "start_time": "2025-05-13T08:27:16.904Z"
   },
   {
    "duration": 29,
    "start_time": "2025-05-13T08:31:19.992Z"
   },
   {
    "duration": 38,
    "start_time": "2025-05-13T08:32:19.158Z"
   },
   {
    "duration": 6,
    "start_time": "2025-05-13T08:32:39.130Z"
   },
   {
    "duration": 7,
    "start_time": "2025-05-13T08:32:53.757Z"
   },
   {
    "duration": 13,
    "start_time": "2025-05-13T08:33:02.801Z"
   },
   {
    "duration": 3,
    "start_time": "2025-05-13T08:34:23.891Z"
   },
   {
    "duration": 4,
    "start_time": "2025-05-13T08:34:30.147Z"
   },
   {
    "duration": 85584,
    "start_time": "2025-05-13T08:34:34.630Z"
   },
   {
    "duration": 3,
    "start_time": "2025-05-13T08:36:24.160Z"
   },
   {
    "duration": 4,
    "start_time": "2025-05-13T08:36:30.138Z"
   },
   {
    "duration": 538,
    "start_time": "2025-05-13T08:36:37.889Z"
   },
   {
    "duration": 6,
    "start_time": "2025-05-13T08:37:41.407Z"
   },
   {
    "duration": 4,
    "start_time": "2025-05-13T08:37:46.737Z"
   },
   {
    "duration": 254972,
    "start_time": "2025-05-13T08:37:51.294Z"
   },
   {
    "duration": 4,
    "start_time": "2025-05-13T08:42:42.495Z"
   },
   {
    "duration": 4,
    "start_time": "2025-05-13T08:42:47.294Z"
   },
   {
    "duration": 591,
    "start_time": "2025-05-13T08:42:50.160Z"
   },
   {
    "duration": 6,
    "start_time": "2025-05-13T08:43:28.542Z"
   },
   {
    "duration": 6,
    "start_time": "2025-05-13T08:46:04.059Z"
   },
   {
    "duration": 3,
    "start_time": "2025-05-13T08:46:07.867Z"
   },
   {
    "duration": 539,
    "start_time": "2025-05-13T08:46:10.421Z"
   },
   {
    "duration": 6,
    "start_time": "2025-05-13T08:46:14.467Z"
   },
   {
    "duration": 5,
    "start_time": "2025-05-13T08:47:09.265Z"
   },
   {
    "duration": 3,
    "start_time": "2025-05-13T08:47:14.081Z"
   },
   {
    "duration": 26,
    "start_time": "2025-05-13T08:47:17.238Z"
   },
   {
    "duration": 3,
    "start_time": "2025-05-13T08:48:08.696Z"
   },
   {
    "duration": 4,
    "start_time": "2025-05-13T08:48:11.688Z"
   },
   {
    "duration": 39,
    "start_time": "2025-05-13T08:48:18.259Z"
   },
   {
    "duration": 4,
    "start_time": "2025-05-13T08:50:05.590Z"
   },
   {
    "duration": 5,
    "start_time": "2025-05-13T08:50:14.671Z"
   },
   {
    "duration": 1242,
    "start_time": "2025-05-13T08:50:17.622Z"
   },
   {
    "duration": 6,
    "start_time": "2025-05-13T08:50:23.463Z"
   },
   {
    "duration": 6,
    "start_time": "2025-05-13T08:52:22.180Z"
   },
   {
    "duration": 3,
    "start_time": "2025-05-13T08:52:26.068Z"
   },
   {
    "duration": 193,
    "start_time": "2025-05-13T08:52:30.385Z"
   },
   {
    "duration": 9,
    "start_time": "2025-05-13T08:55:04.915Z"
   },
   {
    "duration": 3,
    "start_time": "2025-05-13T08:55:13.632Z"
   },
   {
    "duration": 796,
    "start_time": "2025-05-13T08:55:22.561Z"
   },
   {
    "duration": 6,
    "start_time": "2025-05-13T08:55:28.904Z"
   },
   {
    "duration": 5,
    "start_time": "2025-05-13T08:57:43.664Z"
   },
   {
    "duration": 3,
    "start_time": "2025-05-13T08:57:48.837Z"
   },
   {
    "duration": 416,
    "start_time": "2025-05-13T08:57:51.274Z"
   },
   {
    "duration": 6,
    "start_time": "2025-05-13T09:02:34.314Z"
   },
   {
    "duration": 4,
    "start_time": "2025-05-13T09:02:41.123Z"
   },
   {
    "duration": 295,
    "start_time": "2025-05-13T09:02:43.544Z"
   },
   {
    "duration": 6,
    "start_time": "2025-05-13T09:03:32.688Z"
   },
   {
    "duration": 4,
    "start_time": "2025-05-13T09:03:36.271Z"
   },
   {
    "duration": 761,
    "start_time": "2025-05-13T09:03:38.420Z"
   },
   {
    "duration": 6,
    "start_time": "2025-05-13T09:03:44.950Z"
   },
   {
    "duration": 4,
    "start_time": "2025-05-13T09:04:01.781Z"
   },
   {
    "duration": 9018,
    "start_time": "2025-05-13T09:04:03.302Z"
   },
   {
    "duration": 11,
    "start_time": "2025-05-13T09:04:16.701Z"
   },
   {
    "duration": 8,
    "start_time": "2025-05-13T09:04:47.821Z"
   },
   {
    "duration": 5,
    "start_time": "2025-05-13T09:04:52.016Z"
   },
   {
    "duration": 2232,
    "start_time": "2025-05-13T09:04:55.141Z"
   },
   {
    "duration": 6,
    "start_time": "2025-05-13T09:06:18.363Z"
   },
   {
    "duration": 3,
    "start_time": "2025-05-13T09:06:32.347Z"
   },
   {
    "duration": 6448,
    "start_time": "2025-05-13T09:06:34.468Z"
   },
   {
    "duration": 7,
    "start_time": "2025-05-13T09:06:48.516Z"
   },
   {
    "duration": 4,
    "start_time": "2025-05-13T09:07:29.058Z"
   },
   {
    "duration": 4,
    "start_time": "2025-05-13T09:07:31.345Z"
   },
   {
    "duration": 4624,
    "start_time": "2025-05-13T09:07:35.146Z"
   },
   {
    "duration": 5,
    "start_time": "2025-05-13T09:08:00.129Z"
   },
   {
    "duration": 4,
    "start_time": "2025-05-13T09:08:01.664Z"
   },
   {
    "duration": 4728,
    "start_time": "2025-05-13T09:08:03.466Z"
   },
   {
    "duration": 70,
    "start_time": "2025-05-13T09:08:26.232Z"
   },
   {
    "duration": 8,
    "start_time": "2025-05-13T09:10:23.320Z"
   },
   {
    "duration": 4,
    "start_time": "2025-05-13T09:11:27.917Z"
   },
   {
    "duration": 17508,
    "start_time": "2025-05-13T09:11:36.668Z"
   },
   {
    "duration": 83,
    "start_time": "2025-05-13T09:13:12.147Z"
   },
   {
    "duration": 19,
    "start_time": "2025-05-13T09:14:42.921Z"
   },
   {
    "duration": 5,
    "start_time": "2025-05-13T09:14:50.184Z"
   },
   {
    "duration": 10,
    "start_time": "2025-05-13T09:15:07.263Z"
   },
   {
    "duration": 8,
    "start_time": "2025-05-13T09:15:13.724Z"
   },
   {
    "duration": 92,
    "start_time": "2025-05-13T09:16:53.654Z"
   },
   {
    "duration": 89,
    "start_time": "2025-05-13T09:17:05.552Z"
   },
   {
    "duration": 90,
    "start_time": "2025-05-13T09:17:22.320Z"
   },
   {
    "duration": 5323,
    "start_time": "2025-05-13T09:18:24.523Z"
   },
   {
    "duration": 13,
    "start_time": "2025-05-13T09:18:29.849Z"
   },
   {
    "duration": 69,
    "start_time": "2025-05-13T09:18:29.868Z"
   },
   {
    "duration": 12,
    "start_time": "2025-05-13T09:18:29.940Z"
   },
   {
    "duration": 154,
    "start_time": "2025-05-13T09:18:29.954Z"
   },
   {
    "duration": 358,
    "start_time": "2025-05-13T09:18:30.111Z"
   },
   {
    "duration": 16,
    "start_time": "2025-05-13T09:18:30.472Z"
   },
   {
    "duration": 156,
    "start_time": "2025-05-13T09:18:30.489Z"
   },
   {
    "duration": 88,
    "start_time": "2025-05-13T09:18:30.647Z"
   },
   {
    "duration": 55,
    "start_time": "2025-05-13T09:18:30.738Z"
   },
   {
    "duration": 41,
    "start_time": "2025-05-13T09:18:30.796Z"
   },
   {
    "duration": 391,
    "start_time": "2025-05-13T09:18:30.840Z"
   },
   {
    "duration": 9,
    "start_time": "2025-05-13T09:18:31.235Z"
   },
   {
    "duration": 713,
    "start_time": "2025-05-13T09:18:31.246Z"
   },
   {
    "duration": 6,
    "start_time": "2025-05-13T09:18:31.961Z"
   },
   {
    "duration": 104,
    "start_time": "2025-05-13T09:18:31.969Z"
   },
   {
    "duration": 557,
    "start_time": "2025-05-13T09:18:32.075Z"
   },
   {
    "duration": 6,
    "start_time": "2025-05-13T09:18:32.634Z"
   },
   {
    "duration": 42,
    "start_time": "2025-05-13T09:18:32.642Z"
   },
   {
    "duration": 6,
    "start_time": "2025-05-13T09:18:32.686Z"
   },
   {
    "duration": 53,
    "start_time": "2025-05-13T09:18:32.694Z"
   },
   {
    "duration": 23,
    "start_time": "2025-05-13T09:18:32.750Z"
   },
   {
    "duration": 48,
    "start_time": "2025-05-13T09:18:32.775Z"
   },
   {
    "duration": 30,
    "start_time": "2025-05-13T09:18:32.825Z"
   },
   {
    "duration": 7653,
    "start_time": "2025-05-13T09:18:32.858Z"
   },
   {
    "duration": 14,
    "start_time": "2025-05-13T09:18:40.513Z"
   },
   {
    "duration": 109,
    "start_time": "2025-05-13T09:18:40.530Z"
   },
   {
    "duration": 7381,
    "start_time": "2025-05-13T11:10:57.996Z"
   },
   {
    "duration": 13,
    "start_time": "2025-05-13T11:11:05.381Z"
   },
   {
    "duration": 83,
    "start_time": "2025-05-13T11:11:05.396Z"
   },
   {
    "duration": 16,
    "start_time": "2025-05-13T11:11:05.482Z"
   },
   {
    "duration": 29,
    "start_time": "2025-05-13T11:11:05.500Z"
   },
   {
    "duration": 472,
    "start_time": "2025-05-13T11:11:05.531Z"
   },
   {
    "duration": 20,
    "start_time": "2025-05-13T11:11:06.005Z"
   },
   {
    "duration": 91,
    "start_time": "2025-05-13T11:11:06.028Z"
   },
   {
    "duration": 41,
    "start_time": "2025-05-13T11:11:06.127Z"
   },
   {
    "duration": 29,
    "start_time": "2025-05-13T11:11:06.170Z"
   },
   {
    "duration": 37,
    "start_time": "2025-05-13T11:11:06.202Z"
   },
   {
    "duration": 504,
    "start_time": "2025-05-13T11:11:06.241Z"
   },
   {
    "duration": 12,
    "start_time": "2025-05-13T11:11:06.748Z"
   },
   {
    "duration": 956,
    "start_time": "2025-05-13T11:11:06.765Z"
   },
   {
    "duration": 6,
    "start_time": "2025-05-13T11:11:07.724Z"
   },
   {
    "duration": 42,
    "start_time": "2025-05-13T11:11:07.733Z"
   },
   {
    "duration": 7,
    "start_time": "2025-05-13T11:11:07.778Z"
   },
   {
    "duration": 33,
    "start_time": "2025-05-13T11:11:07.788Z"
   },
   {
    "duration": 10,
    "start_time": "2025-05-13T11:11:07.824Z"
   },
   {
    "duration": 10,
    "start_time": "2025-05-13T11:11:07.836Z"
   },
   {
    "duration": 13,
    "start_time": "2025-05-13T11:11:07.849Z"
   },
   {
    "duration": 9445,
    "start_time": "2025-05-13T11:11:07.866Z"
   },
   {
    "duration": 18,
    "start_time": "2025-05-13T11:11:17.313Z"
   },
   {
    "duration": 91,
    "start_time": "2025-05-13T11:11:17.334Z"
   },
   {
    "duration": 8964,
    "start_time": "2025-05-14T07:38:29.755Z"
   },
   {
    "duration": 9,
    "start_time": "2025-05-14T07:38:38.721Z"
   },
   {
    "duration": 54,
    "start_time": "2025-05-14T07:38:38.732Z"
   },
   {
    "duration": 12,
    "start_time": "2025-05-14T07:38:38.788Z"
   },
   {
    "duration": 23,
    "start_time": "2025-05-14T07:38:38.801Z"
   },
   {
    "duration": 272,
    "start_time": "2025-05-14T07:38:38.826Z"
   },
   {
    "duration": 8,
    "start_time": "2025-05-14T07:39:06.926Z"
   },
   {
    "duration": 14,
    "start_time": "2025-05-14T07:39:17.444Z"
   },
   {
    "duration": 6,
    "start_time": "2025-05-14T07:39:42.317Z"
   },
   {
    "duration": 12,
    "start_time": "2025-05-14T07:39:44.876Z"
   },
   {
    "duration": 7,
    "start_time": "2025-05-14T07:41:46.072Z"
   },
   {
    "duration": 11,
    "start_time": "2025-05-14T07:41:47.297Z"
   },
   {
    "duration": 4,
    "start_time": "2025-05-14T07:42:55.991Z"
   },
   {
    "duration": 13,
    "start_time": "2025-05-14T07:42:57.160Z"
   },
   {
    "duration": 3,
    "start_time": "2025-05-14T07:43:13.127Z"
   },
   {
    "duration": 15,
    "start_time": "2025-05-14T07:43:16.287Z"
   },
   {
    "duration": 4,
    "start_time": "2025-05-14T07:43:23.558Z"
   },
   {
    "duration": 13,
    "start_time": "2025-05-14T07:43:24.487Z"
   },
   {
    "duration": 4,
    "start_time": "2025-05-14T07:43:38.255Z"
   },
   {
    "duration": 15,
    "start_time": "2025-05-14T07:43:39.134Z"
   },
   {
    "duration": 7,
    "start_time": "2025-05-14T07:44:26.774Z"
   },
   {
    "duration": 12,
    "start_time": "2025-05-14T07:44:29.470Z"
   },
   {
    "duration": 546,
    "start_time": "2025-05-14T07:46:21.803Z"
   },
   {
    "duration": 38,
    "start_time": "2025-05-14T07:46:40.618Z"
   },
   {
    "duration": 7,
    "start_time": "2025-05-14T07:46:44.090Z"
   },
   {
    "duration": 9,
    "start_time": "2025-05-14T07:46:48.106Z"
   },
   {
    "duration": 365,
    "start_time": "2025-05-14T07:46:50.570Z"
   },
   {
    "duration": 128,
    "start_time": "2025-05-14T07:51:30.020Z"
   },
   {
    "duration": 14,
    "start_time": "2025-05-14T07:52:38.986Z"
   },
   {
    "duration": 11,
    "start_time": "2025-05-14T07:53:13.228Z"
   },
   {
    "duration": 32,
    "start_time": "2025-05-14T07:53:21.026Z"
   },
   {
    "duration": 1294,
    "start_time": "2025-05-14T07:54:05.375Z"
   },
   {
    "duration": 927,
    "start_time": "2025-05-14T07:54:19.194Z"
   },
   {
    "duration": 21,
    "start_time": "2025-05-14T07:54:50.762Z"
   },
   {
    "duration": 641,
    "start_time": "2025-05-14T07:55:23.456Z"
   },
   {
    "duration": 784,
    "start_time": "2025-05-14T07:55:45.024Z"
   },
   {
    "duration": 821,
    "start_time": "2025-05-14T07:56:16.799Z"
   },
   {
    "duration": 623,
    "start_time": "2025-05-14T07:56:43.807Z"
   },
   {
    "duration": 413,
    "start_time": "2025-05-14T07:56:59.118Z"
   },
   {
    "duration": 885,
    "start_time": "2025-05-14T07:57:05.255Z"
   },
   {
    "duration": 104,
    "start_time": "2025-05-14T08:13:45.666Z"
   },
   {
    "duration": 972,
    "start_time": "2025-05-14T08:13:50.547Z"
   },
   {
    "duration": 897,
    "start_time": "2025-05-14T08:14:06.041Z"
   },
   {
    "duration": 765,
    "start_time": "2025-05-14T08:14:26.795Z"
   },
   {
    "duration": 84,
    "start_time": "2025-05-14T08:14:43.626Z"
   },
   {
    "duration": 91,
    "start_time": "2025-05-14T08:15:00.890Z"
   },
   {
    "duration": 198,
    "start_time": "2025-05-14T08:15:09.792Z"
   },
   {
    "duration": 1039,
    "start_time": "2025-05-14T08:15:31.161Z"
   },
   {
    "duration": 4,
    "start_time": "2025-05-14T08:40:02.330Z"
   },
   {
    "duration": 4,
    "start_time": "2025-05-14T08:42:11.599Z"
   },
   {
    "duration": 13,
    "start_time": "2025-05-14T08:42:28.647Z"
   },
   {
    "duration": 25,
    "start_time": "2025-05-14T08:43:24.365Z"
   },
   {
    "duration": 8,
    "start_time": "2025-05-14T08:45:31.636Z"
   },
   {
    "duration": 19,
    "start_time": "2025-05-14T08:45:42.805Z"
   },
   {
    "duration": 5,
    "start_time": "2025-05-14T08:46:31.514Z"
   },
   {
    "duration": 10,
    "start_time": "2025-05-14T08:52:08.667Z"
   },
   {
    "duration": 5,
    "start_time": "2025-05-14T08:52:17.531Z"
   },
   {
    "duration": 4,
    "start_time": "2025-05-14T08:52:20.475Z"
   },
   {
    "duration": 3,
    "start_time": "2025-05-14T08:52:24.381Z"
   },
   {
    "duration": 3,
    "start_time": "2025-05-14T08:52:28.149Z"
   },
   {
    "duration": 3,
    "start_time": "2025-05-14T08:52:31.059Z"
   },
   {
    "duration": 13,
    "start_time": "2025-05-14T11:00:01.973Z"
   },
   {
    "duration": 10,
    "start_time": "2025-05-14T11:09:06.498Z"
   },
   {
    "duration": 3290,
    "start_time": "2025-05-14T11:09:50.218Z"
   },
   {
    "duration": 4,
    "start_time": "2025-05-14T11:10:14.234Z"
   },
   {
    "duration": 6293,
    "start_time": "2025-05-14T11:10:19.320Z"
   },
   {
    "duration": 5,
    "start_time": "2025-05-14T11:10:38.600Z"
   },
   {
    "duration": 18,
    "start_time": "2025-05-14T11:10:41.024Z"
   },
   {
    "duration": 7,
    "start_time": "2025-05-14T11:17:56.345Z"
   },
   {
    "duration": 9,
    "start_time": "2025-05-14T11:20:27.931Z"
   },
   {
    "duration": 10,
    "start_time": "2025-05-14T11:20:57.258Z"
   },
   {
    "duration": 4549,
    "start_time": "2025-05-14T11:21:10.900Z"
   },
   {
    "duration": 10,
    "start_time": "2025-05-14T11:21:15.453Z"
   },
   {
    "duration": 159,
    "start_time": "2025-05-14T11:21:15.464Z"
   },
   {
    "duration": 11,
    "start_time": "2025-05-14T11:21:15.625Z"
   },
   {
    "duration": 43,
    "start_time": "2025-05-14T11:21:15.638Z"
   },
   {
    "duration": 311,
    "start_time": "2025-05-14T11:21:15.682Z"
   },
   {
    "duration": 14,
    "start_time": "2025-05-14T11:21:15.995Z"
   },
   {
    "duration": 25,
    "start_time": "2025-05-14T11:21:16.010Z"
   },
   {
    "duration": 548,
    "start_time": "2025-05-14T11:21:16.037Z"
   },
   {
    "duration": 880,
    "start_time": "2025-05-14T11:21:16.587Z"
   },
   {
    "duration": 5,
    "start_time": "2025-05-14T11:21:17.476Z"
   },
   {
    "duration": 98,
    "start_time": "2025-05-14T11:21:17.482Z"
   },
   {
    "duration": 20,
    "start_time": "2025-05-14T11:21:17.581Z"
   },
   {
    "duration": 31,
    "start_time": "2025-05-14T11:21:17.604Z"
   },
   {
    "duration": 24,
    "start_time": "2025-05-14T11:21:17.637Z"
   },
   {
    "duration": 21,
    "start_time": "2025-05-14T11:21:17.662Z"
   },
   {
    "duration": 21,
    "start_time": "2025-05-14T11:21:17.685Z"
   },
   {
    "duration": 33,
    "start_time": "2025-05-14T11:21:17.708Z"
   },
   {
    "duration": 4451,
    "start_time": "2025-05-14T11:21:17.743Z"
   },
   {
    "duration": 5,
    "start_time": "2025-05-14T11:21:22.196Z"
   },
   {
    "duration": 31,
    "start_time": "2025-05-14T11:21:22.203Z"
   },
   {
    "duration": 465,
    "start_time": "2025-05-14T16:41:05.242Z"
   },
   {
    "duration": 24,
    "start_time": "2025-05-14T16:41:07.312Z"
   },
   {
    "duration": 50359,
    "start_time": "2025-05-14T16:41:15.204Z"
   },
   {
    "duration": 87,
    "start_time": "2025-05-14T16:42:05.616Z"
   },
   {
    "duration": 260,
    "start_time": "2025-05-14T16:42:05.705Z"
   },
   {
    "duration": 46,
    "start_time": "2025-05-14T16:42:06.005Z"
   },
   {
    "duration": 284,
    "start_time": "2025-05-14T16:42:06.123Z"
   },
   {
    "duration": 5808,
    "start_time": "2025-05-14T16:42:42.107Z"
   },
   {
    "duration": 41,
    "start_time": "2025-05-14T16:43:01.106Z"
   },
   {
    "duration": 33,
    "start_time": "2025-05-14T16:43:07.719Z"
   },
   {
    "duration": 38,
    "start_time": "2025-05-14T16:43:11.712Z"
   },
   {
    "duration": 644,
    "start_time": "2025-05-14T16:43:16.705Z"
   },
   {
    "duration": 48,
    "start_time": "2025-05-15T05:27:20.480Z"
   },
   {
    "duration": 8508,
    "start_time": "2025-05-15T05:27:23.864Z"
   },
   {
    "duration": 12,
    "start_time": "2025-05-15T05:27:32.374Z"
   },
   {
    "duration": 134,
    "start_time": "2025-05-15T05:27:32.388Z"
   },
   {
    "duration": 71,
    "start_time": "2025-05-15T05:27:32.524Z"
   },
   {
    "duration": 106,
    "start_time": "2025-05-15T05:27:32.598Z"
   },
   {
    "duration": 443,
    "start_time": "2025-05-15T05:27:32.705Z"
   },
   {
    "duration": 20,
    "start_time": "2025-05-15T05:27:33.150Z"
   },
   {
    "duration": 15,
    "start_time": "2025-05-15T05:27:33.172Z"
   },
   {
    "duration": 708,
    "start_time": "2025-05-15T05:27:33.188Z"
   },
   {
    "duration": 970,
    "start_time": "2025-05-15T05:27:33.898Z"
   },
   {
    "duration": 242,
    "start_time": "2025-05-15T05:27:34.871Z"
   },
   {
    "duration": 3149,
    "start_time": "2025-05-15T06:07:58.877Z"
   },
   {
    "duration": 10,
    "start_time": "2025-05-15T06:08:02.029Z"
   },
   {
    "duration": 69,
    "start_time": "2025-05-15T06:08:02.040Z"
   },
   {
    "duration": 11,
    "start_time": "2025-05-15T06:08:02.110Z"
   },
   {
    "duration": 35,
    "start_time": "2025-05-15T06:08:02.123Z"
   },
   {
    "duration": 272,
    "start_time": "2025-05-15T06:08:02.160Z"
   },
   {
    "duration": 5,
    "start_time": "2025-05-15T06:08:06.729Z"
   },
   {
    "duration": 138,
    "start_time": "2025-05-15T06:08:34.432Z"
   },
   {
    "duration": 10,
    "start_time": "2025-05-15T06:08:59.392Z"
   },
   {
    "duration": 3,
    "start_time": "2025-05-15T06:10:40.565Z"
   },
   {
    "duration": 286,
    "start_time": "2025-05-15T06:10:57.021Z"
   },
   {
    "duration": 9,
    "start_time": "2025-05-15T06:11:07.260Z"
   },
   {
    "duration": 811,
    "start_time": "2025-05-15T06:12:45.692Z"
   },
   {
    "duration": 308,
    "start_time": "2025-05-15T06:12:59.042Z"
   },
   {
    "duration": 6,
    "start_time": "2025-05-15T06:25:53.746Z"
   },
   {
    "duration": 6,
    "start_time": "2025-05-15T06:28:30.231Z"
   },
   {
    "duration": 6,
    "start_time": "2025-05-15T06:29:24.721Z"
   },
   {
    "duration": 191,
    "start_time": "2025-05-15T06:29:50.973Z"
   },
   {
    "duration": 10,
    "start_time": "2025-05-15T06:30:37.814Z"
   },
   {
    "duration": 190,
    "start_time": "2025-05-15T06:31:01.836Z"
   },
   {
    "duration": 8,
    "start_time": "2025-05-15T06:33:23.632Z"
   },
   {
    "duration": 12,
    "start_time": "2025-05-15T06:33:45.520Z"
   },
   {
    "duration": 7,
    "start_time": "2025-05-15T06:34:59.342Z"
   },
   {
    "duration": 7,
    "start_time": "2025-05-15T06:35:14.559Z"
   },
   {
    "duration": 12,
    "start_time": "2025-05-15T06:35:16.888Z"
   },
   {
    "duration": 200,
    "start_time": "2025-05-15T06:39:35.754Z"
   },
   {
    "duration": 207,
    "start_time": "2025-05-15T06:40:37.376Z"
   },
   {
    "duration": 252,
    "start_time": "2025-05-15T06:41:01.102Z"
   },
   {
    "duration": 4,
    "start_time": "2025-05-15T07:01:24.613Z"
   },
   {
    "duration": 13,
    "start_time": "2025-05-15T07:01:27.909Z"
   },
   {
    "duration": 4,
    "start_time": "2025-05-15T07:01:33.933Z"
   },
   {
    "duration": 3,
    "start_time": "2025-05-15T07:01:36.292Z"
   },
   {
    "duration": 4,
    "start_time": "2025-05-15T07:01:38.382Z"
   },
   {
    "duration": 3,
    "start_time": "2025-05-15T07:01:39.933Z"
   },
   {
    "duration": 3915,
    "start_time": "2025-05-15T07:01:43.636Z"
   },
   {
    "duration": 4,
    "start_time": "2025-05-15T07:01:57.676Z"
   },
   {
    "duration": 128,
    "start_time": "2025-05-15T07:02:03.221Z"
   },
   {
    "duration": 14,
    "start_time": "2025-05-15T07:03:50.922Z"
   },
   {
    "duration": 7,
    "start_time": "2025-05-15T07:04:27.840Z"
   },
   {
    "duration": 3,
    "start_time": "2025-05-15T07:04:30.505Z"
   },
   {
    "duration": 5,
    "start_time": "2025-05-15T07:04:33.809Z"
   },
   {
    "duration": 4,
    "start_time": "2025-05-15T07:04:36.825Z"
   },
   {
    "duration": 5093,
    "start_time": "2025-05-15T07:04:43.694Z"
   },
   {
    "duration": 4,
    "start_time": "2025-05-15T07:04:55.953Z"
   },
   {
    "duration": 42,
    "start_time": "2025-05-15T07:04:59.377Z"
   },
   {
    "duration": 1218,
    "start_time": "2025-05-15T07:07:02.374Z"
   },
   {
    "duration": 5,
    "start_time": "2025-05-15T07:07:55.140Z"
   },
   {
    "duration": 4,
    "start_time": "2025-05-15T07:08:03.028Z"
   },
   {
    "duration": 4,
    "start_time": "2025-05-15T07:08:06.491Z"
   },
   {
    "duration": 5,
    "start_time": "2025-05-15T07:08:07.702Z"
   },
   {
    "duration": 4,
    "start_time": "2025-05-15T07:08:09.710Z"
   },
   {
    "duration": 4543,
    "start_time": "2025-05-15T07:08:12.293Z"
   },
   {
    "duration": 4,
    "start_time": "2025-05-15T07:08:31.964Z"
   },
   {
    "duration": 39,
    "start_time": "2025-05-15T07:08:34.068Z"
   },
   {
    "duration": 24,
    "start_time": "2025-05-15T07:08:52.443Z"
   },
   {
    "duration": 15,
    "start_time": "2025-05-15T07:09:09.931Z"
   },
   {
    "duration": 16,
    "start_time": "2025-05-15T07:09:22.690Z"
   },
   {
    "duration": 3375,
    "start_time": "2025-05-15T07:11:36.447Z"
   },
   {
    "duration": 4547,
    "start_time": "2025-05-15T07:12:56.294Z"
   },
   {
    "duration": 9,
    "start_time": "2025-05-15T07:13:00.844Z"
   },
   {
    "duration": 66,
    "start_time": "2025-05-15T07:13:00.854Z"
   },
   {
    "duration": 11,
    "start_time": "2025-05-15T07:13:00.921Z"
   },
   {
    "duration": 42,
    "start_time": "2025-05-15T07:13:00.934Z"
   },
   {
    "duration": 290,
    "start_time": "2025-05-15T07:13:00.978Z"
   },
   {
    "duration": 9,
    "start_time": "2025-05-15T07:13:01.270Z"
   },
   {
    "duration": 17,
    "start_time": "2025-05-15T07:13:01.281Z"
   },
   {
    "duration": 326,
    "start_time": "2025-05-15T07:13:01.300Z"
   },
   {
    "duration": 8,
    "start_time": "2025-05-15T07:13:01.628Z"
   },
   {
    "duration": 510,
    "start_time": "2025-05-15T07:13:01.638Z"
   },
   {
    "duration": 775,
    "start_time": "2025-05-15T07:13:02.150Z"
   },
   {
    "duration": 8,
    "start_time": "2025-05-15T07:13:02.927Z"
   },
   {
    "duration": 233,
    "start_time": "2025-05-15T07:13:02.938Z"
   },
   {
    "duration": 259,
    "start_time": "2025-05-15T07:13:03.176Z"
   },
   {
    "duration": 4,
    "start_time": "2025-05-15T07:13:03.437Z"
   },
   {
    "duration": 29,
    "start_time": "2025-05-15T07:13:03.442Z"
   },
   {
    "duration": 11,
    "start_time": "2025-05-15T07:13:03.472Z"
   },
   {
    "duration": 21,
    "start_time": "2025-05-15T07:13:03.485Z"
   },
   {
    "duration": 12,
    "start_time": "2025-05-15T07:13:03.508Z"
   },
   {
    "duration": 63,
    "start_time": "2025-05-15T07:13:03.522Z"
   },
   {
    "duration": 14,
    "start_time": "2025-05-15T07:13:03.587Z"
   },
   {
    "duration": 3850,
    "start_time": "2025-05-15T07:13:03.604Z"
   },
   {
    "duration": 4,
    "start_time": "2025-05-15T07:13:07.455Z"
   },
   {
    "duration": 37,
    "start_time": "2025-05-15T07:13:07.461Z"
   },
   {
    "duration": 4519,
    "start_time": "2025-05-15T07:16:34.315Z"
   },
   {
    "duration": 8,
    "start_time": "2025-05-15T07:16:38.836Z"
   },
   {
    "duration": 80,
    "start_time": "2025-05-15T07:16:38.846Z"
   },
   {
    "duration": 11,
    "start_time": "2025-05-15T07:16:38.928Z"
   },
   {
    "duration": 19,
    "start_time": "2025-05-15T07:16:38.941Z"
   },
   {
    "duration": 293,
    "start_time": "2025-05-15T07:16:38.961Z"
   },
   {
    "duration": 2,
    "start_time": "2025-05-15T07:16:39.256Z"
   },
   {
    "duration": 25,
    "start_time": "2025-05-15T07:16:39.260Z"
   },
   {
    "duration": 403,
    "start_time": "2025-05-15T07:16:39.287Z"
   },
   {
    "duration": 864,
    "start_time": "2025-05-15T07:16:39.693Z"
   },
   {
    "duration": 20,
    "start_time": "2025-05-15T07:16:40.558Z"
   },
   {
    "duration": 265,
    "start_time": "2025-05-15T07:16:40.580Z"
   },
   {
    "duration": 248,
    "start_time": "2025-05-15T07:16:40.847Z"
   },
   {
    "duration": 3,
    "start_time": "2025-05-15T07:16:41.097Z"
   },
   {
    "duration": 39,
    "start_time": "2025-05-15T07:16:41.102Z"
   },
   {
    "duration": 35,
    "start_time": "2025-05-15T07:16:41.143Z"
   },
   {
    "duration": 107,
    "start_time": "2025-05-15T07:16:41.180Z"
   },
   {
    "duration": 28,
    "start_time": "2025-05-15T07:16:41.289Z"
   },
   {
    "duration": 22,
    "start_time": "2025-05-15T07:16:41.319Z"
   },
   {
    "duration": 26,
    "start_time": "2025-05-15T07:16:41.343Z"
   },
   {
    "duration": 4538,
    "start_time": "2025-05-15T07:16:41.371Z"
   },
   {
    "duration": 5,
    "start_time": "2025-05-15T07:16:45.913Z"
   },
   {
    "duration": 38,
    "start_time": "2025-05-15T07:16:45.920Z"
   },
   {
    "duration": 4,
    "start_time": "2025-05-15T07:17:41.812Z"
   },
   {
    "duration": 4,
    "start_time": "2025-05-15T07:17:45.221Z"
   },
   {
    "duration": 21309,
    "start_time": "2025-05-15T07:17:48.323Z"
   },
   {
    "duration": 5,
    "start_time": "2025-05-15T07:18:16.147Z"
   },
   {
    "duration": 29,
    "start_time": "2025-05-15T07:18:17.916Z"
   },
   {
    "duration": 124,
    "start_time": "2025-05-15T07:19:52.953Z"
   },
   {
    "duration": 907,
    "start_time": "2025-05-15T07:20:02.977Z"
   },
   {
    "duration": 13,
    "start_time": "2025-05-15T07:20:43.800Z"
   },
   {
    "duration": 14662,
    "start_time": "2025-05-15T07:22:01.431Z"
   },
   {
    "duration": 782,
    "start_time": "2025-05-15T07:22:20.304Z"
   },
   {
    "duration": 12,
    "start_time": "2025-05-15T07:23:10.573Z"
   },
   {
    "duration": 4,
    "start_time": "2025-05-15T07:25:21.962Z"
   },
   {
    "duration": 3,
    "start_time": "2025-05-15T07:25:25.122Z"
   },
   {
    "duration": 20177,
    "start_time": "2025-05-15T07:25:27.916Z"
   },
   {
    "duration": 1177,
    "start_time": "2025-05-15T07:25:57.706Z"
   },
   {
    "duration": 4759,
    "start_time": "2025-05-15T07:45:18.217Z"
   },
   {
    "duration": 9,
    "start_time": "2025-05-15T07:45:22.979Z"
   },
   {
    "duration": 174,
    "start_time": "2025-05-15T07:45:22.990Z"
   },
   {
    "duration": 23,
    "start_time": "2025-05-15T07:45:23.166Z"
   },
   {
    "duration": 69,
    "start_time": "2025-05-15T07:45:23.191Z"
   },
   {
    "duration": 290,
    "start_time": "2025-05-15T07:45:23.262Z"
   },
   {
    "duration": 2,
    "start_time": "2025-05-15T07:45:23.554Z"
   },
   {
    "duration": 33,
    "start_time": "2025-05-15T07:45:23.558Z"
   },
   {
    "duration": 405,
    "start_time": "2025-05-15T07:45:23.592Z"
   },
   {
    "duration": 878,
    "start_time": "2025-05-15T07:45:23.998Z"
   },
   {
    "duration": 7,
    "start_time": "2025-05-15T07:45:24.878Z"
   },
   {
    "duration": 228,
    "start_time": "2025-05-15T07:45:24.887Z"
   },
   {
    "duration": 263,
    "start_time": "2025-05-15T07:45:25.117Z"
   },
   {
    "duration": 3,
    "start_time": "2025-05-15T07:45:25.383Z"
   },
   {
    "duration": 62,
    "start_time": "2025-05-15T07:45:25.388Z"
   },
   {
    "duration": 14,
    "start_time": "2025-05-15T07:45:25.452Z"
   },
   {
    "duration": 13,
    "start_time": "2025-05-15T07:45:25.467Z"
   },
   {
    "duration": 30,
    "start_time": "2025-05-15T07:45:25.482Z"
   },
   {
    "duration": 25,
    "start_time": "2025-05-15T07:45:25.514Z"
   },
   {
    "duration": 91,
    "start_time": "2025-05-15T07:45:25.540Z"
   },
   {
    "duration": 20463,
    "start_time": "2025-05-15T07:45:25.633Z"
   },
   {
    "duration": 4,
    "start_time": "2025-05-15T07:45:46.098Z"
   },
   {
    "duration": 1309,
    "start_time": "2025-05-15T07:45:46.177Z"
   },
   {
    "duration": 5281,
    "start_time": "2025-08-13T08:20:35.584Z"
   },
   {
    "duration": 12,
    "start_time": "2025-08-13T08:20:40.868Z"
   },
   {
    "duration": 83,
    "start_time": "2025-08-13T08:20:40.882Z"
   },
   {
    "duration": 11,
    "start_time": "2025-08-13T08:20:40.968Z"
   },
   {
    "duration": 21,
    "start_time": "2025-08-13T08:20:40.981Z"
   },
   {
    "duration": 315,
    "start_time": "2025-08-13T08:20:41.004Z"
   },
   {
    "duration": 3,
    "start_time": "2025-08-13T08:20:41.321Z"
   },
   {
    "duration": 25,
    "start_time": "2025-08-13T08:20:41.326Z"
   },
   {
    "duration": 412,
    "start_time": "2025-08-13T08:20:41.354Z"
   },
   {
    "duration": 871,
    "start_time": "2025-08-13T08:20:41.768Z"
   },
   {
    "duration": 221,
    "start_time": "2025-08-13T08:20:42.641Z"
   },
   {
    "duration": 285,
    "start_time": "2025-08-13T08:20:42.868Z"
   },
   {
    "duration": 8,
    "start_time": "2025-08-13T08:20:43.156Z"
   },
   {
    "duration": 16,
    "start_time": "2025-08-13T08:20:43.166Z"
   },
   {
    "duration": 7,
    "start_time": "2025-08-13T08:20:43.184Z"
   },
   {
    "duration": 5,
    "start_time": "2025-08-13T08:20:43.192Z"
   },
   {
    "duration": 4,
    "start_time": "2025-08-13T08:20:43.199Z"
   },
   {
    "duration": 5,
    "start_time": "2025-08-13T08:20:43.204Z"
   },
   {
    "duration": 7,
    "start_time": "2025-08-13T08:20:43.210Z"
   },
   {
    "duration": 902677,
    "start_time": "2025-08-13T08:20:43.218Z"
   },
   {
    "duration": 5,
    "start_time": "2025-08-13T08:35:45.896Z"
   },
   {
    "duration": 149549,
    "start_time": "2025-08-13T08:35:45.902Z"
   },
   {
    "duration": 8680,
    "start_time": "2025-08-14T06:22:24.773Z"
   },
   {
    "duration": 8,
    "start_time": "2025-08-14T06:22:33.456Z"
   },
   {
    "duration": 155,
    "start_time": "2025-08-14T06:22:33.465Z"
   },
   {
    "duration": 11,
    "start_time": "2025-08-14T06:22:33.621Z"
   },
   {
    "duration": 21,
    "start_time": "2025-08-14T06:22:33.635Z"
   },
   {
    "duration": 268,
    "start_time": "2025-08-14T06:22:33.658Z"
   },
   {
    "duration": 2,
    "start_time": "2025-08-14T06:22:33.927Z"
   },
   {
    "duration": 11,
    "start_time": "2025-08-14T06:22:33.931Z"
   },
   {
    "duration": 434,
    "start_time": "2025-08-14T06:22:33.943Z"
   },
   {
    "duration": 787,
    "start_time": "2025-08-14T06:22:34.378Z"
   },
   {
    "duration": 205,
    "start_time": "2025-08-14T06:22:35.166Z"
   },
   {
    "duration": 244,
    "start_time": "2025-08-14T06:22:35.373Z"
   },
   {
    "duration": 14,
    "start_time": "2025-08-14T06:23:38.056Z"
   },
   {
    "duration": 4,
    "start_time": "2025-08-14T06:40:48.148Z"
   },
   {
    "duration": 126,
    "start_time": "2025-08-14T06:40:52.732Z"
   },
   {
    "duration": 10,
    "start_time": "2025-08-14T07:38:09.073Z"
   },
   {
    "duration": 3183,
    "start_time": "2025-08-14T07:38:28.296Z"
   },
   {
    "duration": 11,
    "start_time": "2025-08-14T07:38:31.482Z"
   },
   {
    "duration": 62,
    "start_time": "2025-08-14T07:38:31.496Z"
   },
   {
    "duration": 13,
    "start_time": "2025-08-14T07:38:31.560Z"
   },
   {
    "duration": 59,
    "start_time": "2025-08-14T07:38:31.577Z"
   },
   {
    "duration": 307,
    "start_time": "2025-08-14T07:38:31.638Z"
   },
   {
    "duration": 13,
    "start_time": "2025-08-14T07:38:31.948Z"
   },
   {
    "duration": 62,
    "start_time": "2025-08-14T07:38:31.963Z"
   },
   {
    "duration": 387,
    "start_time": "2025-08-14T07:38:32.027Z"
   },
   {
    "duration": 16,
    "start_time": "2025-08-14T07:38:32.416Z"
   },
   {
    "duration": 32,
    "start_time": "2025-08-14T07:38:32.434Z"
   },
   {
    "duration": 22,
    "start_time": "2025-08-14T07:38:32.468Z"
   },
   {
    "duration": 0,
    "start_time": "2025-08-14T07:38:32.492Z"
   },
   {
    "duration": 0,
    "start_time": "2025-08-14T07:38:32.494Z"
   },
   {
    "duration": 0,
    "start_time": "2025-08-14T07:38:32.496Z"
   },
   {
    "duration": 0,
    "start_time": "2025-08-14T07:38:32.498Z"
   },
   {
    "duration": 12,
    "start_time": "2025-08-14T07:39:50.392Z"
   },
   {
    "duration": 797,
    "start_time": "2025-08-14T07:40:14.911Z"
   },
   {
    "duration": 576,
    "start_time": "2025-08-14T07:41:06.518Z"
   },
   {
    "duration": 536,
    "start_time": "2025-08-14T07:42:00.102Z"
   },
   {
    "duration": 588,
    "start_time": "2025-08-14T07:42:15.735Z"
   },
   {
    "duration": 4,
    "start_time": "2025-08-14T07:42:28.659Z"
   },
   {
    "duration": 15,
    "start_time": "2025-08-14T07:42:33.060Z"
   },
   {
    "duration": 95,
    "start_time": "2025-08-14T07:43:34.582Z"
   },
   {
    "duration": 4,
    "start_time": "2025-08-14T07:43:40.267Z"
   },
   {
    "duration": 18,
    "start_time": "2025-08-14T07:43:46.668Z"
   },
   {
    "duration": 5,
    "start_time": "2025-08-14T07:44:43.858Z"
   },
   {
    "duration": 11,
    "start_time": "2025-08-14T07:45:01.346Z"
   },
   {
    "duration": 8536,
    "start_time": "2025-09-10T06:18:11.436Z"
   },
   {
    "duration": 9,
    "start_time": "2025-09-10T06:18:19.975Z"
   },
   {
    "duration": 78,
    "start_time": "2025-09-10T06:18:19.985Z"
   },
   {
    "duration": 11,
    "start_time": "2025-09-10T06:18:20.064Z"
   },
   {
    "duration": 73,
    "start_time": "2025-09-10T06:18:20.077Z"
   },
   {
    "duration": 261,
    "start_time": "2025-09-10T06:18:20.152Z"
   },
   {
    "duration": 2,
    "start_time": "2025-09-10T06:18:20.414Z"
   },
   {
    "duration": 22,
    "start_time": "2025-09-10T06:18:20.418Z"
   },
   {
    "duration": 386,
    "start_time": "2025-09-10T06:18:20.441Z"
   },
   {
    "duration": 4,
    "start_time": "2025-09-10T06:18:20.829Z"
   },
   {
    "duration": 741,
    "start_time": "2025-09-10T06:18:20.835Z"
   },
   {
    "duration": 203,
    "start_time": "2025-09-10T06:18:21.577Z"
   },
   {
    "duration": 140,
    "start_time": "2025-09-10T06:18:21.781Z"
   },
   {
    "duration": 0,
    "start_time": "2025-09-10T06:18:21.923Z"
   },
   {
    "duration": 0,
    "start_time": "2025-09-10T06:18:21.924Z"
   },
   {
    "duration": 0,
    "start_time": "2025-09-10T06:18:21.925Z"
   },
   {
    "duration": 0,
    "start_time": "2025-09-10T06:18:21.934Z"
   },
   {
    "duration": 0,
    "start_time": "2025-09-10T06:18:21.936Z"
   },
   {
    "duration": 0,
    "start_time": "2025-09-10T06:18:21.937Z"
   },
   {
    "duration": 0,
    "start_time": "2025-09-10T06:18:21.938Z"
   },
   {
    "duration": 0,
    "start_time": "2025-09-10T06:18:21.939Z"
   },
   {
    "duration": 0,
    "start_time": "2025-09-10T06:18:21.940Z"
   },
   {
    "duration": 0,
    "start_time": "2025-09-10T06:18:21.941Z"
   },
   {
    "duration": 13,
    "start_time": "2025-09-10T06:19:26.990Z"
   },
   {
    "duration": 13,
    "start_time": "2025-09-10T06:19:45.719Z"
   },
   {
    "duration": 4695,
    "start_time": "2025-09-10T06:21:38.604Z"
   },
   {
    "duration": 10,
    "start_time": "2025-09-10T06:21:43.302Z"
   },
   {
    "duration": 66,
    "start_time": "2025-09-10T06:21:43.314Z"
   },
   {
    "duration": 10,
    "start_time": "2025-09-10T06:21:43.382Z"
   },
   {
    "duration": 14,
    "start_time": "2025-09-10T06:21:43.394Z"
   },
   {
    "duration": 13,
    "start_time": "2025-09-10T06:21:47.535Z"
   },
   {
    "duration": 276,
    "start_time": "2025-09-10T06:22:04.392Z"
   },
   {
    "duration": 9,
    "start_time": "2025-09-10T06:22:21.391Z"
   },
   {
    "duration": 416,
    "start_time": "2025-09-10T06:22:22.647Z"
   },
   {
    "duration": 840,
    "start_time": "2025-09-10T06:22:29.094Z"
   },
   {
    "duration": 199,
    "start_time": "2025-09-10T06:22:35.255Z"
   },
   {
    "duration": 18,
    "start_time": "2025-09-10T06:22:42.008Z"
   },
   {
    "duration": 252,
    "start_time": "2025-09-10T06:22:47.677Z"
   },
   {
    "duration": 4478,
    "start_time": "2025-09-10T06:23:25.433Z"
   },
   {
    "duration": 10,
    "start_time": "2025-09-10T06:23:29.913Z"
   },
   {
    "duration": 53,
    "start_time": "2025-09-10T06:23:29.925Z"
   },
   {
    "duration": 13,
    "start_time": "2025-09-10T06:23:29.980Z"
   },
   {
    "duration": 11,
    "start_time": "2025-09-10T06:23:29.995Z"
   },
   {
    "duration": 338,
    "start_time": "2025-09-10T06:23:30.007Z"
   },
   {
    "duration": 9,
    "start_time": "2025-09-10T06:23:30.347Z"
   },
   {
    "duration": 425,
    "start_time": "2025-09-10T06:23:30.358Z"
   },
   {
    "duration": 2,
    "start_time": "2025-09-10T06:23:30.785Z"
   },
   {
    "duration": 835,
    "start_time": "2025-09-10T06:23:30.790Z"
   },
   {
    "duration": 225,
    "start_time": "2025-09-10T06:23:31.627Z"
   },
   {
    "duration": 7,
    "start_time": "2025-09-10T06:23:31.854Z"
   },
   {
    "duration": 255,
    "start_time": "2025-09-10T06:23:31.863Z"
   },
   {
    "duration": 5,
    "start_time": "2025-09-10T06:23:32.119Z"
   },
   {
    "duration": 34,
    "start_time": "2025-09-10T06:23:32.134Z"
   },
   {
    "duration": 4,
    "start_time": "2025-09-10T06:23:32.170Z"
   },
   {
    "duration": 5,
    "start_time": "2025-09-10T06:23:32.176Z"
   },
   {
    "duration": 8,
    "start_time": "2025-09-10T06:23:32.182Z"
   },
   {
    "duration": 5,
    "start_time": "2025-09-10T06:23:32.191Z"
   },
   {
    "duration": 7,
    "start_time": "2025-09-10T06:23:32.197Z"
   },
   {
    "duration": 21045,
    "start_time": "2025-09-10T06:23:32.205Z"
   },
   {
    "duration": 4,
    "start_time": "2025-09-10T06:23:53.252Z"
   },
   {
    "duration": 983,
    "start_time": "2025-09-10T06:23:53.258Z"
   }
  ],
  "kernelspec": {
   "display_name": "Python 3 (ipykernel)",
   "language": "python",
   "name": "python3"
  },
  "language_info": {
   "codemirror_mode": {
    "name": "ipython",
    "version": 3
   },
   "file_extension": ".py",
   "mimetype": "text/x-python",
   "name": "python",
   "nbconvert_exporter": "python",
   "pygments_lexer": "ipython3",
   "version": "3.9.5"
  },
  "toc": {
   "base_numbering": 1,
   "nav_menu": {},
   "number_sections": true,
   "sideBar": true,
   "skip_h1_title": true,
   "title_cell": "Содержание",
   "title_sidebar": "Contents",
   "toc_cell": true,
   "toc_position": {
    "height": "calc(100% - 180px)",
    "left": "10px",
    "top": "150px",
    "width": "361.594px"
   },
   "toc_section_display": true,
   "toc_window_display": true
  }
 },
 "nbformat": 4,
 "nbformat_minor": 2
}
