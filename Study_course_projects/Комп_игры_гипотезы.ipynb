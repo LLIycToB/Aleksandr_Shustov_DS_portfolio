{
 "cells": [
  {
   "cell_type": "markdown",
   "metadata": {},
   "source": [
    "# Проект - компьютерный игры\n",
    "\n",
    "В этом проекте мы анализируем данные отчетности о продажах интернет-магазина компьютерных игр \"Стримчик\".\n",
    "\n",
    "В нашем распоряжении данные за несколько лет до 2016 года включительно, и задача подготовить эти данные для дальнейшего планирования продаж на 2017 год. Алгоритм подготовки данных должен поддерживать возможность переиспользования на данных за другие периоды при планировании последующих лет.\n",
    "\n",
    "В процессе подготовки к исследованию мы проведем предобработку данных путем выполнения следующих работ:\n",
    "- загрузка данных в формате CSV\n",
    "- проверка и устранение явных дубликатов в записях\n",
    "- проверка наличия пропусков в данных и их устранение\n",
    "- приведем данные к правильным форматам\n",
    "- добавим информацию об общем объеме продаж по всем регионам\n",
    "\n",
    "Затем мы проведем исследовательский анализ данных, и выполним следующие действия:\n",
    "- изучим данные о продажах за разные годы и по разным платформам\n",
    "- выясним срок жизни игровых платформ\n",
    "- определим Актуальный период для данных и очистим неактуальные данные\n",
    "- изучим тенденции продаж по платформам\n",
    "- исследуем корреляции продаж с отзывами игрроков и критиков\n",
    "\n",
    "После этого, мы составим портрет потенциального покупателя в каждом из регионов:\n",
    "- узнаем предпочтения по платформам\n",
    "- поймем какие жанры популярны в разных регионах\n",
    "- исследуем влияние рейтинга ESRB на продажи\n",
    "\n",
    "В завершение исследования, мы проверим некоторые гипотезы методами математической статистики, и сформулируем итоговый вывод."
   ]
  },
  {
   "cell_type": "markdown",
   "metadata": {},
   "source": [
    "## Загрузка и подготовка данных"
   ]
  },
  {
   "cell_type": "markdown",
   "metadata": {},
   "source": [
    "Импортируем необходимые библиотеки"
   ]
  },
  {
   "cell_type": "code",
   "execution_count": 1,
   "metadata": {},
   "outputs": [],
   "source": [
    "import pandas as pd\n",
    "import matplotlib.pyplot as plt\n",
    "import numpy as np\n",
    "from scipy import stats as st\n",
    "from scipy.stats import binom"
   ]
  },
  {
   "cell_type": "markdown",
   "metadata": {},
   "source": [
    "Загрузим данные в датафрейм pandas"
   ]
  },
  {
   "cell_type": "code",
   "execution_count": 2,
   "metadata": {},
   "outputs": [
    {
     "data": {
      "text/html": [
       "<div>\n",
       "<style scoped>\n",
       "    .dataframe tbody tr th:only-of-type {\n",
       "        vertical-align: middle;\n",
       "    }\n",
       "\n",
       "    .dataframe tbody tr th {\n",
       "        vertical-align: top;\n",
       "    }\n",
       "\n",
       "    .dataframe thead th {\n",
       "        text-align: right;\n",
       "    }\n",
       "</style>\n",
       "<table border=\"1\" class=\"dataframe\">\n",
       "  <thead>\n",
       "    <tr style=\"text-align: right;\">\n",
       "      <th></th>\n",
       "      <th>Name</th>\n",
       "      <th>Platform</th>\n",
       "      <th>Year_of_Release</th>\n",
       "      <th>Genre</th>\n",
       "      <th>NA_sales</th>\n",
       "      <th>EU_sales</th>\n",
       "      <th>JP_sales</th>\n",
       "      <th>Other_sales</th>\n",
       "      <th>Critic_Score</th>\n",
       "      <th>User_Score</th>\n",
       "      <th>Rating</th>\n",
       "    </tr>\n",
       "  </thead>\n",
       "  <tbody>\n",
       "    <tr>\n",
       "      <th>0</th>\n",
       "      <td>Wii Sports</td>\n",
       "      <td>Wii</td>\n",
       "      <td>2006.0</td>\n",
       "      <td>Sports</td>\n",
       "      <td>41.36</td>\n",
       "      <td>28.96</td>\n",
       "      <td>3.77</td>\n",
       "      <td>8.45</td>\n",
       "      <td>76.0</td>\n",
       "      <td>8</td>\n",
       "      <td>E</td>\n",
       "    </tr>\n",
       "    <tr>\n",
       "      <th>1</th>\n",
       "      <td>Super Mario Bros.</td>\n",
       "      <td>NES</td>\n",
       "      <td>1985.0</td>\n",
       "      <td>Platform</td>\n",
       "      <td>29.08</td>\n",
       "      <td>3.58</td>\n",
       "      <td>6.81</td>\n",
       "      <td>0.77</td>\n",
       "      <td>NaN</td>\n",
       "      <td>NaN</td>\n",
       "      <td>NaN</td>\n",
       "    </tr>\n",
       "    <tr>\n",
       "      <th>2</th>\n",
       "      <td>Mario Kart Wii</td>\n",
       "      <td>Wii</td>\n",
       "      <td>2008.0</td>\n",
       "      <td>Racing</td>\n",
       "      <td>15.68</td>\n",
       "      <td>12.76</td>\n",
       "      <td>3.79</td>\n",
       "      <td>3.29</td>\n",
       "      <td>82.0</td>\n",
       "      <td>8.3</td>\n",
       "      <td>E</td>\n",
       "    </tr>\n",
       "    <tr>\n",
       "      <th>3</th>\n",
       "      <td>Wii Sports Resort</td>\n",
       "      <td>Wii</td>\n",
       "      <td>2009.0</td>\n",
       "      <td>Sports</td>\n",
       "      <td>15.61</td>\n",
       "      <td>10.93</td>\n",
       "      <td>3.28</td>\n",
       "      <td>2.95</td>\n",
       "      <td>80.0</td>\n",
       "      <td>8</td>\n",
       "      <td>E</td>\n",
       "    </tr>\n",
       "    <tr>\n",
       "      <th>4</th>\n",
       "      <td>Pokemon Red/Pokemon Blue</td>\n",
       "      <td>GB</td>\n",
       "      <td>1996.0</td>\n",
       "      <td>Role-Playing</td>\n",
       "      <td>11.27</td>\n",
       "      <td>8.89</td>\n",
       "      <td>10.22</td>\n",
       "      <td>1.00</td>\n",
       "      <td>NaN</td>\n",
       "      <td>NaN</td>\n",
       "      <td>NaN</td>\n",
       "    </tr>\n",
       "  </tbody>\n",
       "</table>\n",
       "</div>"
      ],
      "text/plain": [
       "                       Name Platform  Year_of_Release         Genre  NA_sales  \\\n",
       "0                Wii Sports      Wii           2006.0        Sports     41.36   \n",
       "1         Super Mario Bros.      NES           1985.0      Platform     29.08   \n",
       "2            Mario Kart Wii      Wii           2008.0        Racing     15.68   \n",
       "3         Wii Sports Resort      Wii           2009.0        Sports     15.61   \n",
       "4  Pokemon Red/Pokemon Blue       GB           1996.0  Role-Playing     11.27   \n",
       "\n",
       "   EU_sales  JP_sales  Other_sales  Critic_Score User_Score Rating  \n",
       "0     28.96      3.77         8.45          76.0          8      E  \n",
       "1      3.58      6.81         0.77           NaN        NaN    NaN  \n",
       "2     12.76      3.79         3.29          82.0        8.3      E  \n",
       "3     10.93      3.28         2.95          80.0          8      E  \n",
       "4      8.89     10.22         1.00           NaN        NaN    NaN  "
      ]
     },
     "execution_count": 2,
     "metadata": {},
     "output_type": "execute_result"
    }
   ],
   "source": [
    "data = pd.read_csv('/datasets/games.csv')\n",
    "data.head()"
   ]
  },
  {
   "cell_type": "markdown",
   "metadata": {},
   "source": [
    "Переименуем колонки"
   ]
  },
  {
   "cell_type": "code",
   "execution_count": 3,
   "metadata": {},
   "outputs": [],
   "source": [
    "data = data.rename(columns=\n",
    "            {'Name': 'name',\n",
    "             'Platform': 'platform',\n",
    "             'Year_of_Release': 'year',\n",
    "             'Genre': 'genre',\n",
    "             'NA_sales': 'na_sales',\n",
    "             'EU_sales': 'eu_sales',\n",
    "             'JP_sales': 'jp_sales',\n",
    "             'Other_sales': 'other_sales',\n",
    "             'Critic_Score': 'critic_score',\n",
    "             'User_Score': 'user_score',\n",
    "             'Rating': 'rating'})"
   ]
  },
  {
   "cell_type": "markdown",
   "metadata": {},
   "source": [
    "Изучим информацию о данных"
   ]
  },
  {
   "cell_type": "code",
   "execution_count": 4,
   "metadata": {
    "scrolled": true
   },
   "outputs": [
    {
     "name": "stdout",
     "output_type": "stream",
     "text": [
      "<class 'pandas.core.frame.DataFrame'>\n",
      "RangeIndex: 16715 entries, 0 to 16714\n",
      "Data columns (total 11 columns):\n",
      " #   Column        Non-Null Count  Dtype  \n",
      "---  ------        --------------  -----  \n",
      " 0   name          16713 non-null  object \n",
      " 1   platform      16715 non-null  object \n",
      " 2   year          16446 non-null  float64\n",
      " 3   genre         16713 non-null  object \n",
      " 4   na_sales      16715 non-null  float64\n",
      " 5   eu_sales      16715 non-null  float64\n",
      " 6   jp_sales      16715 non-null  float64\n",
      " 7   other_sales   16715 non-null  float64\n",
      " 8   critic_score  8137 non-null   float64\n",
      " 9   user_score    10014 non-null  object \n",
      " 10  rating        9949 non-null   object \n",
      "dtypes: float64(6), object(5)\n",
      "memory usage: 1.4+ MB\n"
     ]
    }
   ],
   "source": [
    "data.info()"
   ]
  },
  {
   "cell_type": "markdown",
   "metadata": {},
   "source": [
    "Проверим наличие явных дубликатов"
   ]
  },
  {
   "cell_type": "code",
   "execution_count": 5,
   "metadata": {},
   "outputs": [
    {
     "data": {
      "text/plain": [
       "0"
      ]
     },
     "execution_count": 5,
     "metadata": {},
     "output_type": "execute_result"
    }
   ],
   "source": [
    "data.duplicated().sum()"
   ]
  },
  {
   "cell_type": "markdown",
   "metadata": {},
   "source": [
    "Проверим наличие неявных дубликатов - дублированных записей о продажах игр с одним наименованием в одном и том же году на одинаковых платформах:"
   ]
  },
  {
   "cell_type": "code",
   "execution_count": 6,
   "metadata": {
    "scrolled": true
   },
   "outputs": [
    {
     "data": {
      "text/plain": [
       "2"
      ]
     },
     "execution_count": 6,
     "metadata": {},
     "output_type": "execute_result"
    }
   ],
   "source": [
    "temp = data[['name', 'platform', 'year']]\n",
    "temp.duplicated().sum()"
   ]
  },
  {
   "cell_type": "code",
   "execution_count": 7,
   "metadata": {},
   "outputs": [
    {
     "data": {
      "text/html": [
       "<div>\n",
       "<style scoped>\n",
       "    .dataframe tbody tr th:only-of-type {\n",
       "        vertical-align: middle;\n",
       "    }\n",
       "\n",
       "    .dataframe tbody tr th {\n",
       "        vertical-align: top;\n",
       "    }\n",
       "\n",
       "    .dataframe thead th {\n",
       "        text-align: right;\n",
       "    }\n",
       "</style>\n",
       "<table border=\"1\" class=\"dataframe\">\n",
       "  <thead>\n",
       "    <tr style=\"text-align: right;\">\n",
       "      <th></th>\n",
       "      <th>name</th>\n",
       "      <th>platform</th>\n",
       "      <th>year</th>\n",
       "    </tr>\n",
       "  </thead>\n",
       "  <tbody>\n",
       "    <tr>\n",
       "      <th>14244</th>\n",
       "      <td>NaN</td>\n",
       "      <td>GEN</td>\n",
       "      <td>1993.0</td>\n",
       "    </tr>\n",
       "    <tr>\n",
       "      <th>16230</th>\n",
       "      <td>Madden NFL 13</td>\n",
       "      <td>PS3</td>\n",
       "      <td>2012.0</td>\n",
       "    </tr>\n",
       "  </tbody>\n",
       "</table>\n",
       "</div>"
      ],
      "text/plain": [
       "                name platform    year\n",
       "14244            NaN      GEN  1993.0\n",
       "16230  Madden NFL 13      PS3  2012.0"
      ]
     },
     "execution_count": 7,
     "metadata": {},
     "output_type": "execute_result"
    }
   ],
   "source": [
    "temp[temp.duplicated() == True]"
   ]
  },
  {
   "cell_type": "code",
   "execution_count": 8,
   "metadata": {},
   "outputs": [
    {
     "data": {
      "text/html": [
       "<div>\n",
       "<style scoped>\n",
       "    .dataframe tbody tr th:only-of-type {\n",
       "        vertical-align: middle;\n",
       "    }\n",
       "\n",
       "    .dataframe tbody tr th {\n",
       "        vertical-align: top;\n",
       "    }\n",
       "\n",
       "    .dataframe thead th {\n",
       "        text-align: right;\n",
       "    }\n",
       "</style>\n",
       "<table border=\"1\" class=\"dataframe\">\n",
       "  <thead>\n",
       "    <tr style=\"text-align: right;\">\n",
       "      <th></th>\n",
       "      <th>name</th>\n",
       "      <th>platform</th>\n",
       "      <th>year</th>\n",
       "      <th>genre</th>\n",
       "      <th>na_sales</th>\n",
       "      <th>eu_sales</th>\n",
       "      <th>jp_sales</th>\n",
       "      <th>other_sales</th>\n",
       "      <th>critic_score</th>\n",
       "      <th>user_score</th>\n",
       "      <th>rating</th>\n",
       "    </tr>\n",
       "  </thead>\n",
       "  <tbody>\n",
       "    <tr>\n",
       "      <th>604</th>\n",
       "      <td>Madden NFL 13</td>\n",
       "      <td>PS3</td>\n",
       "      <td>2012.0</td>\n",
       "      <td>Sports</td>\n",
       "      <td>2.11</td>\n",
       "      <td>0.22</td>\n",
       "      <td>0.0</td>\n",
       "      <td>0.23</td>\n",
       "      <td>83.0</td>\n",
       "      <td>5.5</td>\n",
       "      <td>E</td>\n",
       "    </tr>\n",
       "    <tr>\n",
       "      <th>16230</th>\n",
       "      <td>Madden NFL 13</td>\n",
       "      <td>PS3</td>\n",
       "      <td>2012.0</td>\n",
       "      <td>Sports</td>\n",
       "      <td>0.00</td>\n",
       "      <td>0.01</td>\n",
       "      <td>0.0</td>\n",
       "      <td>0.00</td>\n",
       "      <td>83.0</td>\n",
       "      <td>5.5</td>\n",
       "      <td>E</td>\n",
       "    </tr>\n",
       "  </tbody>\n",
       "</table>\n",
       "</div>"
      ],
      "text/plain": [
       "                name platform    year   genre  na_sales  eu_sales  jp_sales  \\\n",
       "604    Madden NFL 13      PS3  2012.0  Sports      2.11      0.22       0.0   \n",
       "16230  Madden NFL 13      PS3  2012.0  Sports      0.00      0.01       0.0   \n",
       "\n",
       "       other_sales  critic_score user_score rating  \n",
       "604           0.23          83.0        5.5      E  \n",
       "16230         0.00          83.0        5.5      E  "
      ]
     },
     "execution_count": 8,
     "metadata": {},
     "output_type": "execute_result"
    }
   ],
   "source": [
    "data.query('(name == \"Madden NFL 13\") & (platform == \"PS3\")')"
   ]
  },
  {
   "cell_type": "markdown",
   "metadata": {},
   "source": [
    "Мы нашли две дублированные записи о продажах - одна для игры без имени за очень старый год, другая для корректной записи игры, но с незначительным набором данных. Оставим эти данные в наборе, поскольку первая содержит пропуск и будет обработана на следующем шаге, а вторая не повлияет на результаты анализа, поскольку все остальные данные в этой строке корректные, а данные о продажах ничтожно малы."
   ]
  },
  {
   "cell_type": "markdown",
   "metadata": {},
   "source": [
    "Проверим наличие пропусков"
   ]
  },
  {
   "cell_type": "code",
   "execution_count": 9,
   "metadata": {},
   "outputs": [
    {
     "data": {
      "text/plain": [
       "name               2\n",
       "platform           0\n",
       "year             269\n",
       "genre              2\n",
       "na_sales           0\n",
       "eu_sales           0\n",
       "jp_sales           0\n",
       "other_sales        0\n",
       "critic_score    8578\n",
       "user_score      6701\n",
       "rating          6766\n",
       "dtype: int64"
      ]
     },
     "execution_count": 9,
     "metadata": {},
     "output_type": "execute_result"
    }
   ],
   "source": [
    "data.isna().sum()"
   ]
  },
  {
   "cell_type": "markdown",
   "metadata": {},
   "source": [
    "Заполним обнаруженные пропуски"
   ]
  },
  {
   "cell_type": "code",
   "execution_count": 10,
   "metadata": {},
   "outputs": [],
   "source": [
    "data = data.dropna(subset=['name']).reset_index(drop=True)\n",
    "data = data.dropna(subset=['year']).reset_index(drop=True)\n",
    "data['genre'] = data['genre'].fillna('Unknown')\n",
    "data['critic_score'] = data['critic_score'].fillna(-1)\n",
    "data['user_score'] = data['user_score'].fillna(-1)\n",
    "data['rating'] = data['rating'].fillna('Unknown')"
   ]
  },
  {
   "cell_type": "markdown",
   "metadata": {},
   "source": [
    "Проверим результат"
   ]
  },
  {
   "cell_type": "code",
   "execution_count": 11,
   "metadata": {},
   "outputs": [
    {
     "data": {
      "text/plain": [
       "name            0\n",
       "platform        0\n",
       "year            0\n",
       "genre           0\n",
       "na_sales        0\n",
       "eu_sales        0\n",
       "jp_sales        0\n",
       "other_sales     0\n",
       "critic_score    0\n",
       "user_score      0\n",
       "rating          0\n",
       "dtype: int64"
      ]
     },
     "execution_count": 11,
     "metadata": {},
     "output_type": "execute_result"
    }
   ],
   "source": [
    "data.isna().sum()"
   ]
  },
  {
   "cell_type": "markdown",
   "metadata": {},
   "source": [
    "Заменим на нулевые значения 'tbd' в поле оценки пользователей"
   ]
  },
  {
   "cell_type": "code",
   "execution_count": 12,
   "metadata": {},
   "outputs": [],
   "source": [
    "for row in data.index:\n",
    "    if data.loc[row, 'user_score'] == 'tbd':\n",
    "        data.loc[row, 'user_score'] = -1"
   ]
  },
  {
   "cell_type": "markdown",
   "metadata": {},
   "source": [
    "Приведем данные к правильному формату"
   ]
  },
  {
   "cell_type": "code",
   "execution_count": 13,
   "metadata": {},
   "outputs": [],
   "source": [
    "data['year'] = data['year'].astype('int32')\n",
    "data['critic_score'] = data['critic_score'].astype('int32')\n",
    "data['user_score'] = data['user_score'].astype('float32')"
   ]
  },
  {
   "cell_type": "markdown",
   "metadata": {},
   "source": [
    "Вычислим суммарные продажи и поместим в отдельный столбец"
   ]
  },
  {
   "cell_type": "code",
   "execution_count": 14,
   "metadata": {},
   "outputs": [],
   "source": [
    "#data['total_sales'] = data['na_sales'] + data['eu_sales'] + data['jp_sales'] + data['other_sales']\n",
    "data['total_sales'] = data.loc[:, ['na_sales','eu_sales', 'jp_sales', 'other_sales']].sum(axis=1)"
   ]
  },
  {
   "cell_type": "markdown",
   "metadata": {},
   "source": [
    "**Вывод по этапу предобработки данных**\n",
    "\n",
    "Данные в хорошем состоянии, без явных дубликатов, наличием неявных дубликатов можно пренебречь.\n",
    "\n",
    "Обнаружены пропуски, которые мы устранили следующим образом:\n",
    "- два пропуска в поле name (название игры) удалили в силу их немногочисленности\n",
    "- пропуски в следующих полях заменили на значение по-умолчанию, поскольку эти данные являются качественными характеристиками, и присвоение им какого-либо из имеющихся значений исказит отчетность:\n",
    " - genre (жанр)\n",
    " - rating (рейтинг ESRB)\n",
    "- пропуски в поле year (год продаж) - убрали эти данные из анализа, поскольку информация о годе продаж является ключевой для анализа, и ее отсутствие делает эти записи бесполезными\n",
    "- пропуски в оценках критиков и игроков заменили на нулевые значения, поскольку эти пропуски означают отсутствие оценки, а пропуск будет мешать дальнейшей работе с этими данными\n",
    "\n",
    "Предполагаемые причины возникновения этих пропусков:\n",
    "- пропуски в полях name, genre и year скорее всего носят технический характер\n",
    "- пропуски в поле rating (рейтинг ESRB) обусловлены тем, что этот рейтинг существует только для США и Канады\n",
    "- пропуски в оценках критиков и игроков скорее всего означают отсутствие оценки\n",
    "\n",
    "В поле пользовательских оценок также были обнаружены одинаковые значение \"tbd\", которые очевидно носят некий технический характер. Поскольку эти значения по уровню информативности для дальнейшего анализа идентичны пропускам, мы также заменили их на нулевые значения.\n",
    "\n",
    "Также мы привели данные к правильным форматам:\n",
    "- поле year из строки в целое число, для обеспечения возможности вычислений периодов по этим данным \n",
    "- поле critic_score из вещественного в целое число, поскольку этот рейтинг вычисляется путем сложения целых оценок по критериям, и в итого не имеет знаков после запятой\n",
    "- поле user_score из строки в вещественное число, для обеспечения возможности количественного анализа, и в соответствии с принципом формирования этого значения, как среднее значение набора целых числовых оценок. "
   ]
  },
  {
   "cell_type": "code",
   "execution_count": 15,
   "metadata": {},
   "outputs": [
    {
     "name": "stdout",
     "output_type": "stream",
     "text": [
      "<class 'pandas.core.frame.DataFrame'>\n",
      "RangeIndex: 16444 entries, 0 to 16443\n",
      "Data columns (total 12 columns):\n",
      " #   Column        Non-Null Count  Dtype  \n",
      "---  ------        --------------  -----  \n",
      " 0   name          16444 non-null  object \n",
      " 1   platform      16444 non-null  object \n",
      " 2   year          16444 non-null  int32  \n",
      " 3   genre         16444 non-null  object \n",
      " 4   na_sales      16444 non-null  float64\n",
      " 5   eu_sales      16444 non-null  float64\n",
      " 6   jp_sales      16444 non-null  float64\n",
      " 7   other_sales   16444 non-null  float64\n",
      " 8   critic_score  16444 non-null  int32  \n",
      " 9   user_score    16444 non-null  float32\n",
      " 10  rating        16444 non-null  object \n",
      " 11  total_sales   16444 non-null  float64\n",
      "dtypes: float32(1), float64(5), int32(2), object(4)\n",
      "memory usage: 1.3+ MB\n",
      "None\n",
      "-------------------------\n",
      "name [' Beyblade Burst' ' Fire Emblem Fates' \" Frozen: Olaf's Quest\" ...\n",
      " 'uDraw Studio' 'uDraw Studio: Instant Artist'\n",
      " '¡Shin Chan Flipa en colores!']\n",
      "name  : кол-во 0 0 , процент 0 0.0 %\n",
      "name : кол-во NaN 0 , процент NaN 0.0 %\n",
      "-------------------------\n",
      "platform ['2600' '3DO' '3DS' 'DC' 'DS' 'GB' 'GBA' 'GC' 'GEN' 'GG' 'N64' 'NES' 'NG'\n",
      " 'PC' 'PCFX' 'PS' 'PS2' 'PS3' 'PS4' 'PSP' 'PSV' 'SAT' 'SCD' 'SNES' 'TG16'\n",
      " 'WS' 'Wii' 'WiiU' 'X360' 'XB' 'XOne']\n",
      "platform  : кол-во 0 0 , процент 0 0.0 %\n",
      "platform : кол-во NaN 0 , процент NaN 0.0 %\n",
      "-------------------------\n",
      "year [1980 1981 1982 1983 1984 1985 1986 1987 1988 1989 1990 1991 1992 1993\n",
      " 1994 1995 1996 1997 1998 1999 2000 2001 2002 2003 2004 2005 2006 2007\n",
      " 2008 2009 2010 2011 2012 2013 2014 2015 2016]\n",
      "year  : кол-во 0 0 , процент 0 0.0 %\n",
      "year : кол-во NaN 0 , процент NaN 0.0 %\n",
      "-------------------------\n",
      "genre ['Action' 'Adventure' 'Fighting' 'Misc' 'Platform' 'Puzzle' 'Racing'\n",
      " 'Role-Playing' 'Shooter' 'Simulation' 'Sports' 'Strategy']\n",
      "genre  : кол-во 0 0 , процент 0 0.0 %\n",
      "genre : кол-во NaN 0 , процент NaN 0.0 %\n",
      "-------------------------\n",
      "critic_score [-1 13 17 19 20 21 23 24 25 26 27 28 29 30 31 32 33 34 35 36 37 38 39 40\n",
      " 41 42 43 44 45 46 47 48 49 50 51 52 53 54 55 56 57 58 59 60 61 62 63 64\n",
      " 65 66 67 68 69 70 71 72 73 74 75 76 77 78 79 80 81 82 83 84 85 86 87 88\n",
      " 89 90 91 92 93 94 95 96 97 98]\n",
      "critic_score  : кол-во 0 0 , процент 0 0.0 %\n",
      "critic_score : кол-во NaN 0 , процент NaN 0.0 %\n",
      "-------------------------\n",
      "user_score [-1.   0.   0.2  0.3  0.5  0.6  0.7  0.9  1.   1.1  1.2  1.3  1.4  1.5\n",
      "  1.6  1.7  1.8  1.9  2.   2.1  2.2  2.3  2.4  2.5  2.6  2.7  2.8  2.9\n",
      "  3.   3.1  3.2  3.3  3.4  3.5  3.6  3.7  3.8  3.9  4.   4.1  4.2  4.3\n",
      "  4.4  4.5  4.6  4.7  4.8  4.9  5.   5.1  5.2  5.3  5.4  5.5  5.6  5.7\n",
      "  5.8  5.9  6.   6.1  6.2  6.3  6.4  6.5  6.6  6.7  6.8  6.9  7.   7.1\n",
      "  7.2  7.3  7.4  7.5  7.6  7.7  7.8  7.9  8.   8.1  8.2  8.3  8.4  8.5\n",
      "  8.6  8.7  8.8  8.9  9.   9.1  9.2  9.3  9.4  9.5  9.6  9.7]\n",
      "user_score  : кол-во 0 1 , процент 0 0.01 %\n",
      "user_score : кол-во NaN 0 , процент NaN 0.0 %\n",
      "-------------------------\n",
      "rating ['AO' 'E' 'E10+' 'EC' 'K-A' 'M' 'RP' 'T' 'Unknown']\n",
      "rating  : кол-во 0 0 , процент 0 0.0 %\n",
      "rating : кол-во NaN 0 , процент NaN 0.0 %\n"
     ]
    }
   ],
   "source": [
    "# Комментарий ревьюера\n",
    "# Посмотрим, что осталось\n",
    "temp = data.copy() \n",
    "list_c = ['name', 'platform', 'year', 'genre', 'critic_score', 'user_score', 'rating']\n",
    "print(temp.info())\n",
    "for col_l in list_c:\n",
    "  print('-'* 25)\n",
    "  print(col_l, temp[col_l].sort_values().unique())\n",
    "  print(col_l,' : кол-во 0', temp[temp[col_l] == 0][col_l].count(),\n",
    "        ', процент 0', round(temp[temp[col_l] == 0][col_l].count()/len(temp)*100, 2),'%')\n",
    "  print(col_l,': кол-во NaN',temp[col_l].isna().sum(),\n",
    "        ', процент NaN', round(temp[col_l].isna().mean()*100,2),'%') "
   ]
  },
  {
   "cell_type": "markdown",
   "metadata": {},
   "source": [
    "## Исследовательский анализ данных"
   ]
  },
  {
   "cell_type": "markdown",
   "metadata": {},
   "source": [
    "Построим график по сводной таблице, в которой посчитаем количество игр по годам."
   ]
  },
  {
   "cell_type": "code",
   "execution_count": 16,
   "metadata": {},
   "outputs": [
    {
     "data": {
      "image/png": "[encoded data removed]",
      "text/plain": [
       "<Figure size 432x288 with 1 Axes>"
      ]
     },
     "metadata": {
      "needs_background": "light"
     },
     "output_type": "display_data"
    }
   ],
   "source": [
    "data.pivot_table(index='year', values='name', aggfunc='count').plot(kind='bar', legend=False)\n",
    "plt.title('Количество продаваемых игр по годам')\n",
    "plt.xlabel('Год продаж')\n",
    "plt.ylabel('Количество игр')\n",
    "plt.show()"
   ]
  },
  {
   "cell_type": "markdown",
   "metadata": {},
   "source": [
    "**Вывод**\n",
    "В разные периоды на платформе \"Стримчик\" продавалось разное количество игр. В период с 1980 до 1990 года выпускалось очень мало игр, очевидно в силу того, что игровая индустрия в этот период находилась на начальном уровне развития. В 90-х годах прошлого века наблюдался период развития этой отрасли, а бум продаж приходится на период с 2002 до 2012 года, с пиком в 2008-2009 годах, после чего продажи по всем платформам начали стремительно падать."
   ]
  },
  {
   "cell_type": "markdown",
   "metadata": {},
   "source": [
    "**Изучим динамику продаж по платформам**"
   ]
  },
  {
   "cell_type": "markdown",
   "metadata": {},
   "source": [
    "Выберем платформы с наибольшими суммарными продажами:"
   ]
  },
  {
   "cell_type": "code",
   "execution_count": 17,
   "metadata": {},
   "outputs": [
    {
     "data": {
      "text/plain": [
       "Index(['DS', 'GBA', 'PS', 'PS2', 'PS3', 'PS4', 'PSP', 'Wii', 'X360'], dtype='object', name='platform')"
      ]
     },
     "execution_count": 17,
     "metadata": {},
     "output_type": "execute_result"
    }
   ],
   "source": [
    "sales_by_platform = data.pivot_table(index='platform', values='total_sales', aggfunc='sum')\n",
    "mean_sales = sales_by_platform['total_sales'].mean()\n",
    "top_sellers = sales_by_platform.query('total_sales >= @mean_sales')\n",
    "top_sellers.index"
   ]
  },
  {
   "cell_type": "markdown",
   "metadata": {},
   "source": [
    "Построим распределение продаж по годам среди ведущих игровых платформ:"
   ]
  },
  {
   "cell_type": "code",
   "execution_count": 18,
   "metadata": {},
   "outputs": [
    {
     "data": {
      "image/png": "[encoded data removed]",
      "text/plain": [
       "<Figure size 432x288 with 1 Axes>"
      ]
     },
     "metadata": {
      "needs_background": "light"
     },
     "output_type": "display_data"
    }
   ],
   "source": [
    "top_sales = data.query('platform in @top_sellers.index')\n",
    "top_sales.pivot_table(index='year', values='total_sales', aggfunc='sum').plot(kind='bar', legend=False)\n",
    "plt.title('Продажи по годам среди ведущих игровых платформ')\n",
    "plt.xlabel('Год продаж')\n",
    "plt.ylabel('Продажи (млн копий)')\n",
    "plt.show()"
   ]
  },
  {
   "cell_type": "markdown",
   "metadata": {},
   "source": [
    "Рассчитаем типичный срок жизни игровых платформ"
   ]
  },
  {
   "cell_type": "code",
   "execution_count": 19,
   "metadata": {},
   "outputs": [
    {
     "name": "stdout",
     "output_type": "stream",
     "text": [
      "Характерный срок жизни платформы: 7 лет\n"
     ]
    }
   ],
   "source": [
    "platform_life = data.pivot_table(index='platform', values='year', aggfunc=['min', 'max'])\n",
    "platform_life.columns = ['start', 'end']\n",
    "platform_life['age'] = platform_life['end'] - platform_life['start'] + 1\n",
    "typical_age = int(platform_life['age'].median())\n",
    "print(f'Характерный срок жизни платформы: {typical_age} лет')"
   ]
  },
  {
   "cell_type": "code",
   "execution_count": 20,
   "metadata": {},
   "outputs": [
    {
     "data": {
      "text/plain": [
       "7.0"
      ]
     },
     "execution_count": 20,
     "metadata": {},
     "output_type": "execute_result"
    }
   ],
   "source": [
    "# Комментарий ревьюера\n",
    "temp = data.copy() \n",
    "time_life = temp.pivot_table(index='platform', values='year', aggfunc=['min', 'max']).reset_index()\n",
    "time_life['life'] = time_life['max'] - time_life['min'] + 1 # в срок жизни платформы, должны входить границы диапазона, \n",
    "                                                            # поэтому +1\n",
    "time_life['life'].median()"
   ]
  },
  {
   "cell_type": "markdown",
   "metadata": {},
   "source": [
    "**Вывод 2**\n",
    "\n",
    "Лидерами продаж являются игры для игровых приставок, такие как Play Station и XBox.\n",
    "\n",
    "Платформы обновляются в среднем каждые 7 лет."
   ]
  },
  {
   "cell_type": "markdown",
   "metadata": {},
   "source": [
    "Установим Актуальный период как 3 года и уберем данные за прошлые периоды"
   ]
  },
  {
   "cell_type": "code",
   "execution_count": 21,
   "metadata": {},
   "outputs": [],
   "source": [
    "actual_period = 3\n",
    "planned_year = 2017\n",
    "data = data[data['year'] >= (planned_year - actual_period)].reset_index(drop=True)"
   ]
  },
  {
   "cell_type": "markdown",
   "metadata": {},
   "source": [
    "Изучим общий объем продаж по платформам"
   ]
  },
  {
   "cell_type": "code",
   "execution_count": 23,
   "metadata": {},
   "outputs": [
    {
     "data": {
      "image/png": "[encoded data removed]",
      "text/plain": [
       "<Figure size 432x288 with 1 Axes>"
      ]
     },
     "metadata": {
      "needs_background": "light"
     },
     "output_type": "display_data"
    }
   ],
   "source": [
    "sales = data[['platform', 'year', 'total_sales', 'user_score', 'critic_score', 'genre']]\n",
    "platform_sales = data.pivot_table(index='platform', values='total_sales', aggfunc='sum')\n",
    "platform_sales.sort_values(by='total_sales', ascending=False).plot(kind='bar', legend=False)\n",
    "plt.title('Общий объем продаж по платформам')\n",
    "plt.xlabel('Платформа')\n",
    "plt.ylabel('Продажи (млн копий)')\n",
    "plt.show()"
   ]
  },
  {
   "cell_type": "markdown",
   "metadata": {},
   "source": [
    "Выявим лидеров по продажам - платформы с продажами выше медианы по всей выборке"
   ]
  },
  {
   "cell_type": "code",
   "execution_count": 24,
   "metadata": {},
   "outputs": [],
   "source": [
    "median_sales = platform_sales['total_sales'].median()\n",
    "top_sales = platform_sales.query('total_sales > @median_sales').sort_values(by='total_sales', ascending=False)"
   ]
  },
  {
   "cell_type": "markdown",
   "metadata": {},
   "source": [
    "Исследуем динамику продаж"
   ]
  },
  {
   "cell_type": "code",
   "execution_count": 25,
   "metadata": {},
   "outputs": [
    {
     "data": {
      "image/png": "[encoded data removed]",
      "text/plain": [
       "<Figure size 504x360 with 1 Axes>"
      ]
     },
     "metadata": {
      "needs_background": "light"
     },
     "output_type": "display_data"
    }
   ],
   "source": [
    "sales_trend = data.pivot_table(index='year', columns='platform', values='total_sales')\n",
    "sales_trend.plot(figsize=(7,5))\n",
    "plt.title('Динамика продаж по платформам')\n",
    "plt.xlabel('Год продаж')\n",
    "plt.ylabel('Продажи (млн копий)')\n",
    "plt.show()"
   ]
  },
  {
   "cell_type": "markdown",
   "metadata": {},
   "source": [
    "Выберем топ-3 платформы по продажам в 2016 году:"
   ]
  },
  {
   "cell_type": "code",
   "execution_count": 26,
   "metadata": {
    "scrolled": true
   },
   "outputs": [
    {
     "data": {
      "text/html": [
       "<div>\n",
       "<style scoped>\n",
       "    .dataframe tbody tr th:only-of-type {\n",
       "        vertical-align: middle;\n",
       "    }\n",
       "\n",
       "    .dataframe tbody tr th {\n",
       "        vertical-align: top;\n",
       "    }\n",
       "\n",
       "    .dataframe thead th {\n",
       "        text-align: right;\n",
       "    }\n",
       "</style>\n",
       "<table border=\"1\" class=\"dataframe\">\n",
       "  <thead>\n",
       "    <tr style=\"text-align: right;\">\n",
       "      <th></th>\n",
       "      <th>total_sales</th>\n",
       "    </tr>\n",
       "    <tr>\n",
       "      <th>platform</th>\n",
       "      <th></th>\n",
       "    </tr>\n",
       "  </thead>\n",
       "  <tbody>\n",
       "    <tr>\n",
       "      <th>PS4</th>\n",
       "      <td>69.25</td>\n",
       "    </tr>\n",
       "    <tr>\n",
       "      <th>XOne</th>\n",
       "      <td>26.15</td>\n",
       "    </tr>\n",
       "    <tr>\n",
       "      <th>3DS</th>\n",
       "      <td>15.14</td>\n",
       "    </tr>\n",
       "  </tbody>\n",
       "</table>\n",
       "</div>"
      ],
      "text/plain": [
       "          total_sales\n",
       "platform             \n",
       "PS4             69.25\n",
       "XOne            26.15\n",
       "3DS             15.14"
      ]
     },
     "execution_count": 26,
     "metadata": {},
     "output_type": "execute_result"
    }
   ],
   "source": [
    "data.query('year == 2016').pivot_table(index='platform', values='total_sales', aggfunc='sum').sort_values(by='total_sales', ascending=False).head(3)"
   ]
  },
  {
   "cell_type": "markdown",
   "metadata": {},
   "source": [
    "**Вывод**\n",
    "\n",
    "Динамика продаж почти по всем платформам демонстрирует тенденцию к падению. Незначительный рост показывает только платформа 3DS. \n",
    "\n",
    "Потенциально прибыльными платформами можно считать следующие:\n",
    "- PS4\n",
    "- XOne\n",
    "- 3DS"
   ]
  },
  {
   "cell_type": "markdown",
   "metadata": {},
   "source": [
    "Построим диаграммы размаха по глобальным продажам игр в разбивке по платформам."
   ]
  },
  {
   "cell_type": "code",
   "execution_count": 28,
   "metadata": {
    "scrolled": true
   },
   "outputs": [
    {
     "data": {
      "image/png": "[encoded data removed]",
      "text/plain": [
       "<Figure size 432x288 with 1 Axes>"
      ]
     },
     "metadata": {
      "needs_background": "light"
     },
     "output_type": "display_data"
    }
   ],
   "source": [
    "data.pivot_table(index='name', columns='platform', values='total_sales').plot(kind='box', ylim=(0, 2))\n",
    "plt.title('Глобальные продажи игр в разбивке по платформам')\n",
    "plt.xlabel('Платформа')\n",
    "plt.ylabel('Продажи (млн копий)')\n",
    "plt.show()"
   ]
  },
  {
   "cell_type": "markdown",
   "metadata": {},
   "source": [
    "**Вывод**\n",
    "\n",
    "На диаграммах размаха мы видим большое количество выбросов почти по всем платформам. Очевидно, эти выбросы означают \"дойных коров\" этих платформ - небольшое количество игр, которые приносят большую часть выручки. "
   ]
  },
  {
   "cell_type": "markdown",
   "metadata": {},
   "source": [
    "**Изучим как влияют на продажи внутри одной популярной платформы отзывы пользователей и критиков**"
   ]
  },
  {
   "cell_type": "markdown",
   "metadata": {},
   "source": [
    "Изучим корреляцию между отзывами игроков и продажами на платформе PS4 на диаграмме рассеяния"
   ]
  },
  {
   "cell_type": "code",
   "execution_count": 29,
   "metadata": {},
   "outputs": [
    {
     "data": {
      "image/png": "[encoded data removed]",
      "text/plain": [
       "<Figure size 432x288 with 1 Axes>"
      ]
     },
     "metadata": {
      "needs_background": "light"
     },
     "output_type": "display_data"
    }
   ],
   "source": [
    "check_platform = 'PS4'\n",
    "tmp_data = data.query('(platform == @check_platform) & (user_score != -1)')\n",
    "tmp_data.plot(x='total_sales', y='user_score', kind='scatter', alpha=0.3)\n",
    "plt.title('Зависимость продаж игр от отзывов игроков')\n",
    "plt.xlabel('Продажи')\n",
    "plt.ylabel('Оценки игроков')\n",
    "plt.show()"
   ]
  },
  {
   "cell_type": "markdown",
   "metadata": {},
   "source": [
    "Изучим корреляцию между оценками критиков и продажами на платформе PS4 на диаграмме рассеяния"
   ]
  },
  {
   "cell_type": "code",
   "execution_count": 30,
   "metadata": {},
   "outputs": [
    {
     "data": {
      "image/png": "[encoded data removed]",
      "text/plain": [
       "<Figure size 432x288 with 1 Axes>"
      ]
     },
     "metadata": {
      "needs_background": "light"
     },
     "output_type": "display_data"
    }
   ],
   "source": [
    "tmp_data2 = data.query('(platform == @check_platform) & (critic_score != -1)')\n",
    "tmp_data2.plot(x='total_sales', y='critic_score', kind='scatter', alpha=0.3)\n",
    "plt.title('Зависимость продаж игр от оценок критиков')\n",
    "plt.xlabel('Продажи')\n",
    "plt.ylabel('Оценки критиков')\n",
    "plt.show()"
   ]
  },
  {
   "cell_type": "markdown",
   "metadata": {},
   "source": [
    "Рассчитаем числовые значения этих корреляций:"
   ]
  },
  {
   "cell_type": "code",
   "execution_count": 31,
   "metadata": {},
   "outputs": [
    {
     "name": "stdout",
     "output_type": "stream",
     "text": [
      "Коэффициент корреляции продаж с отзывами игроков равен -0.04\n",
      "Коэффициент корреляции продаж с оценками критиков равен 0.4\n"
     ]
    }
   ],
   "source": [
    "usr_corr = round(tmp_data['total_sales'].corr(tmp_data['user_score']), 2)\n",
    "crt_corr = round(tmp_data2['total_sales'].corr(tmp_data2['critic_score']), 2)\n",
    "print(f'Коэффициент корреляции продаж с отзывами игроков равен {usr_corr}')\n",
    "print(f'Коэффициент корреляции продаж с оценками критиков равен {crt_corr}')"
   ]
  },
  {
   "cell_type": "markdown",
   "metadata": {},
   "source": [
    "**Вывод**\n",
    "Объем продаж игр на платформе PS4 практически совсем не сильно зависит от отзывов пользователей - это видно и на графике, и по числовому значению коэффициента корреляции. В то же время, зависимость продаж от оценок критиков существенно сильнее, что подтверждается числовым значением коэффициента.\n",
    "\n",
    "Получается, существенная часть пользователей ориентируются на отзывы критиков при покупке игр."
   ]
  },
  {
   "cell_type": "markdown",
   "metadata": {},
   "source": [
    "Подберем еще три лидирующие платформы для подтверждения результатов анализа: "
   ]
  },
  {
   "cell_type": "code",
   "execution_count": 32,
   "metadata": {},
   "outputs": [],
   "source": [
    "top_platforms = data.query('year == 2016').pivot_table(index='platform', values='total_sales', aggfunc='sum').sort_values(by='total_sales', ascending=False).head(4)"
   ]
  },
  {
   "cell_type": "markdown",
   "metadata": {},
   "source": [
    "Построим аналогичные диаграммы и рассчитаем значения корреляции для этих платформ"
   ]
  },
  {
   "cell_type": "code",
   "execution_count": 33,
   "metadata": {},
   "outputs": [
    {
     "data": {
      "image/png": "[encoded data removed]",
      "text/plain": [
       "<Figure size 432x288 with 1 Axes>"
      ]
     },
     "metadata": {
      "needs_background": "light"
     },
     "output_type": "display_data"
    },
    {
     "name": "stdout",
     "output_type": "stream",
     "text": [
      "Коэффициент корреляции: -0.07\n"
     ]
    },
    {
     "data": {
      "image/png": "[encoded data removed]",
      "text/plain": [
       "<Figure size 432x288 with 1 Axes>"
      ]
     },
     "metadata": {
      "needs_background": "light"
     },
     "output_type": "display_data"
    },
    {
     "name": "stdout",
     "output_type": "stream",
     "text": [
      "Коэффициент корреляции: 0.43\n"
     ]
    },
    {
     "data": {
      "image/png": "[encoded data removed]",
      "text/plain": [
       "<Figure size 432x288 with 1 Axes>"
      ]
     },
     "metadata": {
      "needs_background": "light"
     },
     "output_type": "display_data"
    },
    {
     "name": "stdout",
     "output_type": "stream",
     "text": [
      "Коэффициент корреляции: 0.22\n"
     ]
    },
    {
     "data": {
      "image/png": "[encoded data removed]",
      "text/plain": [
       "<Figure size 432x288 with 1 Axes>"
      ]
     },
     "metadata": {
      "needs_background": "light"
     },
     "output_type": "display_data"
    },
    {
     "name": "stdout",
     "output_type": "stream",
     "text": [
      "Коэффициент корреляции: 0.31\n"
     ]
    },
    {
     "data": {
      "image/png": "[encoded data removed]",
      "text/plain": [
       "<Figure size 432x288 with 1 Axes>"
      ]
     },
     "metadata": {
      "needs_background": "light"
     },
     "output_type": "display_data"
    },
    {
     "name": "stdout",
     "output_type": "stream",
     "text": [
      "Коэффициент корреляции: -0.07\n"
     ]
    },
    {
     "data": {
      "image/png": "[encoded data removed]",
      "text/plain": [
       "<Figure size 432x288 with 1 Axes>"
      ]
     },
     "metadata": {
      "needs_background": "light"
     },
     "output_type": "display_data"
    },
    {
     "name": "stdout",
     "output_type": "stream",
     "text": [
      "Коэффициент корреляции: 0.17\n"
     ]
    }
   ],
   "source": [
    "for check_platform in top_platforms.index[1:]:\n",
    "    #диаграмма по отзывам игроков\n",
    "    tmp_data = data.query('(platform == @check_platform) & (user_score != -1)')\n",
    "    tmp_data.plot(x='total_sales', y='user_score', kind='scatter', alpha=0.3)\n",
    "    plt.title(f'Зависимость продаж и отзывов игроков на {check_platform}')\n",
    "    plt.xlabel('Продажи')\n",
    "    plt.ylabel('Отзывы игроков')\n",
    "    plt.show()\n",
    "    #коэффициент корреляции по отзывам игроков\n",
    "    usr_corr = round(tmp_data['total_sales'].corr(tmp_data['user_score']), 2)\n",
    "    print(f'Коэффициент корреляции: {usr_corr}')\n",
    "    #диаграмма по оценкам критиков\n",
    "    tmp_data2 = data.query('(platform == @check_platform) & (critic_score != -1)')\n",
    "    tmp_data2.plot(x='total_sales', y='critic_score', kind='scatter', alpha=0.3)\n",
    "    plt.title(f'Зависимость продаж игр от оценок критиков на {check_platform}')\n",
    "    plt.xlabel('Продажи')\n",
    "    plt.ylabel('Оценки критиков')\n",
    "    plt.show()\n",
    "    #коэффициент корреляции по оценкам критиков\n",
    "    crt_corr = round(tmp_data2['total_sales'].corr(tmp_data2['critic_score']), 2)\n",
    "    print(f'Коэффициент корреляции: {crt_corr}')"
   ]
  },
  {
   "cell_type": "markdown",
   "metadata": {},
   "source": [
    "**Вывод**\n",
    "\n",
    "Для платформы XOne мы можем наблюдать полностью аналогичную ситуацию. В то же время, пользователи платформы 3DS гораздо больше ориентируются на отзывы других игроков, хотя оценки критиков имеют для них все же большее значение. А игроки на PC почти не смотрят ни на то ни на другое - очевидно для этой платформы большее значение имеет маркетинг."
   ]
  },
  {
   "cell_type": "markdown",
   "metadata": {},
   "source": [
    "**Изучим распределение игр по жанрам**"
   ]
  },
  {
   "cell_type": "markdown",
   "metadata": {},
   "source": [
    "Построим распределение суммарных продаж игр по жанрам:"
   ]
  },
  {
   "cell_type": "code",
   "execution_count": 34,
   "metadata": {
    "scrolled": true
   },
   "outputs": [
    {
     "data": {
      "image/png": "[encoded data removed]",
      "text/plain": [
       "<Figure size 864x288 with 1 Axes>"
      ]
     },
     "metadata": {
      "needs_background": "light"
     },
     "output_type": "display_data"
    }
   ],
   "source": [
    "genre_sales = data.pivot_table(index='genre', values='total_sales', aggfunc=\"sum\")\n",
    "genre_sales = genre_sales.sort_values(by='total_sales', ascending=False)\n",
    "genre_sales.plot(kind='bar', figsize=(12,4), legend=False)\n",
    "plt.title('Распределение суммарных продаж игр по жанрам')\n",
    "plt.xlabel('Жанр')\n",
    "plt.ylabel('Продажи игр (млн. копий)')\n",
    "plt.show()"
   ]
  },
  {
   "cell_type": "markdown",
   "metadata": {},
   "source": [
    "Как видно на графике, лидерами суммарных продаж являются игры в жанрах Action и Shooter, следом идут игры в жанрах Sports и Role-Playing. Игры в жанре Puzzle пользуются минимальным спросом. Самыми высокие продажи по всей выборке имеет жанр Action."
   ]
  },
  {
   "cell_type": "markdown",
   "metadata": {},
   "source": [
    "Проанализируем распределение медианных продаж игр по жанрам."
   ]
  },
  {
   "cell_type": "code",
   "execution_count": 35,
   "metadata": {
    "scrolled": false
   },
   "outputs": [
    {
     "data": {
      "image/png": "[encoded data removed]",
      "text/plain": [
       "<Figure size 864x288 with 1 Axes>"
      ]
     },
     "metadata": {
      "needs_background": "light"
     },
     "output_type": "display_data"
    }
   ],
   "source": [
    "genre_sales = data.pivot_table(index='genre', values='total_sales', aggfunc=\"median\")\n",
    "genre_sales = genre_sales.sort_values(by='total_sales', ascending=False)\n",
    "genre_sales.plot(kind='bar', figsize=(12,4), legend=False)\n",
    "plt.title('Распределение медианных продаж игр по жанрам')\n",
    "plt.xlabel('Жанр')\n",
    "plt.ylabel('Продажи игр (млн. копий)')\n",
    "plt.show()"
   ]
  },
  {
   "cell_type": "markdown",
   "metadata": {},
   "source": [
    "На этом распределении мы видим кардинально иную ситуацию - наибольшие медианные продажи с большим отрывом демонстрирует жанр Shooter, а из остальных лидирует жанр Sports.\n",
    "\n",
    "Проанализируем эти данные на диаграммах размаха: "
   ]
  },
  {
   "cell_type": "code",
   "execution_count": 36,
   "metadata": {
    "scrolled": true
   },
   "outputs": [
    {
     "data": {
      "image/png": "[encoded data removed]",
      "text/plain": [
       "<Figure size 864x288 with 1 Axes>"
      ]
     },
     "metadata": {
      "needs_background": "light"
     },
     "output_type": "display_data"
    }
   ],
   "source": [
    "data.pivot_table(index='name', columns='genre', values='total_sales', aggfunc=\"sum\").plot(kind='box',figsize=(12,4), ylim=(0,15))\n",
    "plt.title('Разброс общих продаж игр по жанрам')\n",
    "plt.xlabel('Жанр')\n",
    "plt.ylabel('Продажи (млн. копий)')\n",
    "plt.show()"
   ]
  },
  {
   "cell_type": "markdown",
   "metadata": {},
   "source": [
    "На диаграммах размаха мы можем наблюдать, что основной объем продаж игр в таких жанрах, как Action и RPG, создают отдельные удачные проекты, в то время как игры в таких жанрах как Shooter, Platform, Sports и Racing, хорошо продаются в основной своей массе."
   ]
  },
  {
   "cell_type": "markdown",
   "metadata": {},
   "source": [
    "**Вывод**\n",
    "\n",
    "Из проведенных исследований можно сделать вывод о том, что хотя игры в жанрах Action и Shooter демонстрируют наибольшие общие продажи, будут стабильно более прибыльными будут игры в жанрах Shooter, Platform, Sports и Racing, в том числе новые, в силу популярности этих жанров и независимости от качества отдельных проектов или поддерживаемых платформ."
   ]
  },
  {
   "cell_type": "markdown",
   "metadata": {},
   "source": [
    "**Общий вывод по этапу исследовательского анализа данных**\n",
    "\n",
    "В разные периоды на платформе \"Стримчик\" продавалось разное количество игр. В период с 1980 до 1990 года выпускалось очень мало игр, очевидно в силу того, что игровая индустрия в этот период находилась на начальном уровне развития. В 90-х годах прошлого века наблюдался период развития этой отрасли, а бум продаж приходится на период с 2002 до 2012 года, с пиком в 2008-2009 годах, после чего продажи по всем платформам начали стремительно падать.\n",
    "\n",
    "Лидерами продаж являются игры для игровых приставок, такие как Play Station и XBox.\n",
    "\n",
    "Платформы обновляются в среднем каждые 7 лет.\n",
    "\n",
    "Значение Актуального периода решено установить как 3 года, для того чтобы оценить, на каком этапе жизненного цикла находится та или иная платформа, для прогнозирования продаж.\n",
    "\n",
    "Динамика продаж почти по всем платформам демонстрирует тенденцию к падению. Эту информацию следует дополнительно  проанализировать на предмет того, является ли это признаком глобального заката мировой игровой индустрии или проблемами интернет-магазина \"Стримчик\".\n",
    "\n",
    "Потенциально прибыльными платформами в 2017 году могут стать PS4, XOne и 3DS.\n",
    "\n",
    "На диаграммах размаха мы видим большое количество выбросов почти по всем платформам. Очевидно, эти выбросы означают \"дойных коров\" этих платформ - небольшое количество игр, которые приносят большую часть выручки.\n",
    "\n",
    "Продажи игр в существенно большей степени зависят от оценок критиков, чем от отзывов отзывов пользователей, на платформах PS4 и XOne - очевидно в силу схожести их бизнес-модели. В то же время, пользователи платформы 3DS гораздо больше ориентируются на отзывы других игроков, хотя оценки критиков имеют для них все же большее значение. А игроки на PC почти не смотрят ни на то ни на другое - очевидно для этой платформы большее значение имеет маркетинг.\n",
    "\n",
    "Лидерами суммарных продаж являются игры в жанрах Action и Shooter, однако стабильно более прибыльными будут игры в жанрах Shooter, Platform, Sports и Racing, в том числе новые, в силу популярности этих жанров и независимости от качества отдельных проектов или поддерживаемых платформ."
   ]
  },
  {
   "cell_type": "markdown",
   "metadata": {},
   "source": [
    "## Портрет пользователя по регионам"
   ]
  },
  {
   "cell_type": "markdown",
   "metadata": {},
   "source": [
    "Построим сводную таблицу продаж в регионах по платформам и отобразим результаты в виде круговых диаграмм:"
   ]
  },
  {
   "cell_type": "code",
   "execution_count": 37,
   "metadata": {},
   "outputs": [
    {
     "data": {
      "image/png": "[encoded data removed]",
      "text/plain": [
       "<Figure size 432x288 with 1 Axes>"
      ]
     },
     "metadata": {},
     "output_type": "display_data"
    },
    {
     "data": {
      "image/png": "[encoded data removed]",
      "text/plain": [
       "<Figure size 432x288 with 1 Axes>"
      ]
     },
     "metadata": {},
     "output_type": "display_data"
    },
    {
     "data": {
      "image/png": "[encoded data removed]",
      "text/plain": [
       "<Figure size 432x288 with 1 Axes>"
      ]
     },
     "metadata": {},
     "output_type": "display_data"
    }
   ],
   "source": [
    "regions = ['na_sales', 'eu_sales', 'jp_sales']\n",
    "for region in regions:\n",
    "    region_sales = data.pivot_table(index='platform', values=region, aggfunc='sum')\n",
    "    region_sales.sort_values(by=region, ascending=False).head(5).plot(kind='pie', autopct='%.0f', subplots=True, legend=False)\n",
    "    plt.title(f'Распределение долей региона {region} по платформам')\n",
    "    plt.show()"
   ]
  },
  {
   "cell_type": "markdown",
   "metadata": {},
   "source": [
    "**Вывод**\n",
    "\n",
    "В Северной Америке и Европе наибольшую популярность имеют платформа PS4, на втором месте платформа XOne. В то же время, в Японии лидирует платформа 3DS, а платформа XOne вообще не представлена."
   ]
  },
  {
   "cell_type": "markdown",
   "metadata": {},
   "source": [
    "Построим сводные таблицы продаж в регионах по жанрам и отобразим результаты в виде круговых диаграмм:"
   ]
  },
  {
   "cell_type": "code",
   "execution_count": 38,
   "metadata": {},
   "outputs": [
    {
     "data": {
      "image/png": "[encoded data removed]",
      "text/plain": [
       "<Figure size 432x288 with 1 Axes>"
      ]
     },
     "metadata": {},
     "output_type": "display_data"
    },
    {
     "data": {
      "image/png": "[encoded data removed]",
      "text/plain": [
       "<Figure size 432x288 with 1 Axes>"
      ]
     },
     "metadata": {},
     "output_type": "display_data"
    },
    {
     "data": {
      "image/png": "[encoded data removed]",
      "text/plain": [
       "<Figure size 432x288 with 1 Axes>"
      ]
     },
     "metadata": {},
     "output_type": "display_data"
    }
   ],
   "source": [
    "regions = ['na_sales', 'eu_sales', 'jp_sales']\n",
    "for region in regions:\n",
    "    region_sales = data.pivot_table(index='genre', values=region, aggfunc='sum')\n",
    "    region_sales.sort_values(by=region, ascending=False).head(5).plot(kind='pie', normalize=True, autopct='%.0f', subplots=True, legend=False)\n",
    "    plt.title(f'Распределение жанровых предпочтений игроков региона {region}')\n",
    "    plt.show()"
   ]
  },
  {
   "cell_type": "markdown",
   "metadata": {},
   "source": [
    "**Вывод**\n",
    "\n",
    "Жанровые предпочтения пользователей Северной Америки и Европы схожи, очевидно в силу культурного сходства населения этих регионов - явное преимущество имеют игры в жанрах Action и Shooter. Пользователи из Японии, напротив, отдают наибольшее предпочтение ролевым играм, хотя жанр Action тоже пользуется существенной популярностью, а игры в жанре Shooter находятся только на четвертом месте по рейтингу."
   ]
  },
  {
   "cell_type": "markdown",
   "metadata": {},
   "source": [
    "**Задача 3**\n",
    "\n",
    "Влияет ли рейтинг ESRB на продажи в отдельном регионе?"
   ]
  },
  {
   "cell_type": "markdown",
   "metadata": {},
   "source": [
    "Построим графики продаж игр в зависимости от рейтинга ESRB по регионам"
   ]
  },
  {
   "cell_type": "code",
   "execution_count": 39,
   "metadata": {
    "scrolled": false
   },
   "outputs": [
    {
     "data": {
      "image/png": "[encoded data removed]",
      "text/plain": [
       "<Figure size 432x288 with 1 Axes>"
      ]
     },
     "metadata": {
      "needs_background": "light"
     },
     "output_type": "display_data"
    }
   ],
   "source": [
    "\n",
    "check_platform = 'XOne'\n",
    "data.pivot_table(index='rating', values=['na_sales', 'eu_sales', 'jp_sales'], aggfunc='sum').plot()\n",
    "plt.title('Зависимость продаж от рейтинга ESRB по регионам')\n",
    "plt.xlabel('рейтинг ESRB')\n",
    "plt.ylabel('Продажи')\n",
    "plt.show()"
   ]
  },
  {
   "cell_type": "markdown",
   "metadata": {},
   "source": [
    "**Описание портретов пользователей в регионах**\n",
    "\n",
    "Потребительское поведение пользователей в регионах демонстрирует предпочтение к национальным платформам, в частности XBox для Северной Америки и 3DS от Nintendo для Японии. В Европе нет крупных производителей игровых платформ, поэтому в этом регионе продажи распределены пропорционально маркетинговым усилиям японских и американских корпораций.\n",
    "\n",
    "Жанровые предпочтения пользователей Северной Америки и Европы схожи, очевидно в силу культурного сходства населения этих регионов - явное преимущество имеют игры в жанрах Action и Shooter. Пользователи из Японии, напротив, отдают наибольшее предпочтение ролевым играм, а игры в жанре Shooter находятся только на четвертом месте по рейтингу.\n",
    "\n",
    "Влияние рейтинга ESRB также более ярко выражено в Северной Америке и Европе, особенно у игр для взрослых. Поскольку рейтинг ESRB актуален только для США и Канады, а пользователи в Японии тяготеют к национальным игровым платформам, влияние этого рейтинга в этом регионе минимально.  "
   ]
  },
  {
   "cell_type": "markdown",
   "metadata": {},
   "source": [
    "## Проверка гипотез"
   ]
  },
  {
   "cell_type": "markdown",
   "metadata": {},
   "source": [
    "**Гипотеза 1**\n",
    "\n",
    "Средние пользовательские рейтинги платформ Xbox One и PC одинаковые."
   ]
  },
  {
   "cell_type": "markdown",
   "metadata": {},
   "source": [
    "Сначала рассчитаем средние пользовательские рейтинги по анализируемым платформам в имеющемся наборе данных:"
   ]
  },
  {
   "cell_type": "code",
   "execution_count": 40,
   "metadata": {},
   "outputs": [
    {
     "name": "stdout",
     "output_type": "stream",
     "text": [
      "Средний пользовательский рейтинг игр на платформе Xbox One: 7.0\n",
      "Средний пользовательский рейтинг игр на платформе PC: 7.0\n"
     ]
    }
   ],
   "source": [
    "XOne_score = data.query('(platform == \"XOne\") & (user_score != -1)')['user_score']\n",
    "PC_score = data.query('(platform == \"PC\") & (user_score != -1)')['user_score']\n",
    "print('Средний пользовательский рейтинг игр на платформе Xbox One:', np.ceil(np.mean(XOne_score)))\n",
    "print('Средний пользовательский рейтинг игр на платформе PC:', np.ceil(np.mean(PC_score)))"
   ]
  },
  {
   "cell_type": "markdown",
   "metadata": {},
   "source": [
    "Как мы можем видеть, средние рейтинги пользовательские рейтинги платформ Xbox One и PC в имеющемся датасете равны."
   ]
  },
  {
   "cell_type": "code",
   "execution_count": 41,
   "metadata": {
    "scrolled": true
   },
   "outputs": [
    {
     "data": {
      "text/plain": [
       "(1.6, 1.4)"
      ]
     },
     "execution_count": 41,
     "metadata": {},
     "output_type": "execute_result"
    }
   ],
   "source": [
    "# Комментарий ревьюера\n",
    "XOne_score.min(), PC_score.min()"
   ]
  },
  {
   "cell_type": "markdown",
   "metadata": {},
   "source": [
    "Теперь проверим эту гипотезу средствами математической статистики:\n",
    "Сформулируем статистические гипотезы:\n",
    "H0 = Средние пользовательские рейтинги платформ Xbox One и PC равны друг другу\n",
    "HA = Средние пользовательские рейтинги платформ Xbox One и PC различны"
   ]
  },
  {
   "cell_type": "markdown",
   "metadata": {},
   "source": [
    "Проверим нулевую гипотезу (H0) при помощи двустороннего T-теста, установив минимальный общепринятый порог значимости (5%)"
   ]
  },
  {
   "cell_type": "code",
   "execution_count": 42,
   "metadata": {},
   "outputs": [
    {
     "name": "stdout",
     "output_type": "stream",
     "text": [
      "p-value = 0.10450648833224654\n",
      "Нулевая гипотеза не отвергается\n"
     ]
    }
   ],
   "source": [
    "alpha = 0.05\n",
    " \n",
    "result = st.ttest_ind(XOne_score, PC_score, alternative='two-sided')\n",
    "if result.pvalue < alpha:\n",
    "    print('p-value =', result.pvalue)\n",
    "    print('Отвергаем нулевую гипотезу в пользу альтернативной')\n",
    "else:\n",
    "    print('p-value =', result.pvalue)\n",
    "    print('Нулевая гипотеза не отвергается')"
   ]
  },
  {
   "cell_type": "markdown",
   "metadata": {},
   "source": [
    "По результатам Т-теста нам не удалось опровергнуть нулевую гипотезу о том, что средние пользовательские рейтинги платформ Xbox One и PC равны друг другу."
   ]
  },
  {
   "cell_type": "markdown",
   "metadata": {},
   "source": [
    "**Гипотеза 2**\n",
    "\n",
    "Средние пользовательские рейтинги жанров Action (англ. «действие», экшен-игры) и Sports (англ. «спортивные соревнования») разные."
   ]
  },
  {
   "cell_type": "markdown",
   "metadata": {},
   "source": [
    "Сначала рассчитаем средние пользовательские рейтинги игр в жанрах Action и Sports в имеющемся наборе данных:"
   ]
  },
  {
   "cell_type": "code",
   "execution_count": 43,
   "metadata": {},
   "outputs": [
    {
     "name": "stdout",
     "output_type": "stream",
     "text": [
      "Средний пользовательский рейтинг игр в жанре Action: 7.0\n",
      "Средний пользовательский рейтинг игр в жанре Sports: 6.0\n"
     ]
    }
   ],
   "source": [
    "action_score = data.query('(genre == \"Action\") & (user_score != -1)')['user_score']\n",
    "sports_score = data.query('(genre == \"Sports\") & (user_score != -1)')['user_score']\n",
    "print('Средний пользовательский рейтинг игр в жанре Action:', np.ceil(np.mean(action_score)))\n",
    "print('Средний пользовательский рейтинг игр в жанре Sports:', np.ceil(np.mean(sports_score)))"
   ]
  },
  {
   "cell_type": "markdown",
   "metadata": {},
   "source": [
    "Как мы можем видеть, в имеющемся наборе данных средние пользовательские рейтинги игр в жанрах Action и Sports отличаются."
   ]
  },
  {
   "cell_type": "markdown",
   "metadata": {},
   "source": [
    "Теперь проверим эту гипотезу средствами математической статистики.\n",
    "Сформулируем статистические гипотезы:\n",
    "\n",
    "H0 = Средние пользовательские рейтинги игр в жанрах Action и Sports равны\n",
    "HA = Средние пользовательские рейтинги игр в жанрах Action и Sports различны"
   ]
  },
  {
   "cell_type": "markdown",
   "metadata": {},
   "source": [
    "Проверим нулевую гипотезу (H0) при помощи двустороннего T-теста, установив минимальный общепринятый порог значимости (5%)"
   ]
  },
  {
   "cell_type": "code",
   "execution_count": 44,
   "metadata": {},
   "outputs": [
    {
     "name": "stdout",
     "output_type": "stream",
     "text": [
      "p-value = 2.871146400695882e-19\n",
      "Отвергаем нулевую гипотезу в пользу альтернативной\n"
     ]
    }
   ],
   "source": [
    "alpha = 0.05\n",
    "\n",
    "result = st.ttest_ind(action_score, sports_score, alternative='two-sided')\n",
    "if result.pvalue < alpha:\n",
    "    print('p-value =', result.pvalue)\n",
    "    print('Отвергаем нулевую гипотезу в пользу альтернативной')\n",
    "else:\n",
    "    print('p-value =', result.pvalue)\n",
    "    print('Нулевая гипотеза не отвергается')"
   ]
  },
  {
   "cell_type": "markdown",
   "metadata": {},
   "source": [
    "По результатам Т-теста следует отвергнуть нулевую гипотезу о том, что средние пользовательские рейтинги игр в жанрах Action и Sports равны друг другу."
   ]
  },
  {
   "cell_type": "markdown",
   "metadata": {},
   "source": [
    "**Результаты проверки гипотез**\n",
    "\n",
    "Для проверки первой гипотезы о равенстве рейтингов платформ Xbox One и PC мы использовали двусторонний Т-тест, поскольку нам неважно было понимать, рейтинг какой платформы выше, а только оценить вероятность их отличия.\n",
    "\n",
    "Нулевая гипотеза для этого теста была сформулирована как \"Средние рейтинги платформ равны\", а Альтернативная гипотеза - \"Средние рейтинги платформ отличаются\".\n",
    "\n",
    "Несмотря на то, что по данным выборки средние рейтинги оцениваемых платформ явным образом отличались, результаты проведенного Т-теста показали, что рейтинги платформ Xbox One и PC на другой выборке с вероятностью порядка 25% будут равны. \n",
    "\n",
    "***Таким образом, Гипотеза 1 оказалась верной.***\n",
    "\n",
    "Для проверки второй гипотезы о различии пользовательских рейтингов игр в жанрах Action и Sports мы также использовали двусторонний Т-тест, по той же причине - для проверки неважно понимать рейтинг какого жанра может оказаться выше.\n",
    "\n",
    "Нулевая гипотеза для этого теста была сформулирована как \"Средние рейтинги по жанрам равны\", а Альтернативная гипотеза - \"Средние рейтинги по жанрам отличаются\".\n",
    "\n",
    "Результаты проведенного Т-теста показали, что рейтинги игр в жанрах Action и Sports на другой выборке с крайне низкой вероятностью будут равны, в связи с чем нам следует отвергнуть нулевую гипотезу о равенстве рейтингов, и принять альтернытивную гипотезу о том, что средние пользовательские рейтинги игр в жанрах Action и Sports различны.\n",
    "\n",
    "***Таким образом, Гипотеза 2 также оказалась верной.***"
   ]
  },
  {
   "cell_type": "markdown",
   "metadata": {},
   "source": [
    "## Общий вывод\n",
    "\n",
    "По результатам анализа данных отчетности о продажах интернет-магазина компьютерных игр \"Стримчик\" можно сообщить следующее:\n",
    "\n",
    "**Состояние данных**\n",
    "\n",
    "* Данные в хорошем состоянии, явные дубликаты не обнаружены, неявные дубликаты в ничтожном количестве.\n",
    "* Выявлено небольшое количество пропусков, которые были устранены без ущерба для пригодности данных к анализу\n",
    "* Имелись несколько фактов некорректного форматирования даных\n",
    "\n",
    "**Результаты исследовательского анализа данных**\n",
    "\n",
    "* В период с 1980 до 1990 года выпускалось очень мало игр\n",
    "* В 90-х годах прошлого века наблюдался период развития этой индустрии компьютерных игр\n",
    "* Бум продаж приходится на период с 2002 до 2012 года, с пиком в 2008-2009 годах\n",
    "* После 2009 года продажи по всем платформам начали стремительно падать.\n",
    "\n",
    "Лидерами продаж являются игры для игровых приставок, такие как Play Station и XBox.\n",
    "\n",
    "Динамика продаж почти по всем платформам демонстрирует тенденцию к падению. Незначительный рост показывает только платформа 3DS. Потенциально прибыльными платформами можно считать следующие:\n",
    "- PS4\n",
    "- XOne\n",
    "- 3DS\n",
    "\n",
    "На диаграммах размаха мы видим большое количество выбросов почти по всем платформам. Очевидно, эти выбросы означают \"дойных коров\" этих платформ - небольшое количество игр, которые приносят большую часть выручки.\n",
    "\n",
    "Объем продаж игр практически не зависит от отзывов пользователей на всех платформах, кроме 3DS. При этом, зависимость продаж от оценок критиков существенно сильнее. Получается, существенная часть пользователей ориентируются на отзывы критиков при покупке игр.\n",
    "\n",
    "Из проведенных исследований можно сделать вывод о том, что хотя игры в жанрах Action и Shooter демонстрируют наибольшие общие продажи, будут стабильно более прибыльными будут игры в жанрах Shooter, Platform, Sports и Racing, в том числе новые, в силу популярности этих жанров и независимости от качества отдельных проектов или поддерживаемых платформ.\n",
    "\n",
    "**Очистка данных**\n",
    "\n",
    "* Характерный срок жизни игровых платформ составляет 7 лет.\n",
    "* Для целей анализа принято решение установить Актуальный период как 3 года\n",
    "* Данные по продажам за пределами Актуального периода были исключены из анализа\n",
    "\n",
    "**Портреты пользователей по регионам**\n",
    "\n",
    "Потребительское поведение пользователей в регионах демонстрирует предпочтение к национальным платформам, в частности XBox для Северной Америки и 3DS от Nintendo для Японии. В Европе нет крупных производителей игровых платформ, поэтому в этом регионе продажи распределены пропорционально маркетинговым усилиям японских и американских корпораций.\n",
    "\n",
    "В Северной Америке и Европе наибольшую популярность имеют платформа PS4, на втором месте платформа XOne. В то же время, в Японии лидирует платформа 3DS, а платформа XOne вообще не представлена.\n",
    "\n",
    "Жанровые предпочтения пользователей Северной Америки и Европы также схожи, очевидно в силу культурного сходства населения этих регионов - явное преимущество имеют игры в жанрах Action и Shooter. Пользователи из Японии, напротив, отдают наибольшее предпочтение ролевым играм, а игры в жанре Shooter находятся только на четвертом месте по рейтингу.\n",
    "\n",
    "Влияние рейтинга ESRB также симметрично ярко выражено в Северной Америке и Европе, особенно у игр для взрослых. Поскольку рейтинг ESRB актуален только для США и Канады, а пользователи в Японии тяготеют к национальным игровым платформам, влияние этого рейтинга в этом регионе минимально.\n",
    "\n",
    "В процессе анализа данных были проверены следующие гипотезы:\n",
    "1. Средние пользовательские рейтинги платформ Xbox One и PC одинаковые\n",
    "2. Средние пользовательские рейтинги жанров Action и Sports разные\n",
    "\n",
    "Для проверки обеих гипотез мы использовали двусторонний Т-тест\n",
    "\n",
    "Результаты проверки гипотез:\n",
    "1. Гипотеза 1 верна\n",
    "2. Гипотеза 2 верна"
   ]
  }
 ],
 "metadata": {
  "ExecuteTimeLog": [
   {
    "duration": 62,
    "start_time": "2024-12-03T06:18:19.355Z"
   },
   {
    "duration": 408,
    "start_time": "2024-12-03T06:18:23.622Z"
   },
   {
    "duration": 247,
    "start_time": "2024-12-03T06:18:27.296Z"
   },
   {
    "duration": 80,
    "start_time": "2024-12-03T06:18:58.389Z"
   },
   {
    "duration": 16,
    "start_time": "2024-12-03T06:19:05.567Z"
   },
   {
    "duration": 10,
    "start_time": "2024-12-03T06:20:03.870Z"
   },
   {
    "duration": 18,
    "start_time": "2024-12-03T06:20:28.683Z"
   },
   {
    "duration": 15,
    "start_time": "2024-12-03T06:20:42.613Z"
   },
   {
    "duration": 16,
    "start_time": "2024-12-03T06:20:50.678Z"
   },
   {
    "duration": 21,
    "start_time": "2024-12-03T06:22:19.110Z"
   },
   {
    "duration": 44,
    "start_time": "2024-12-03T06:22:39.579Z"
   },
   {
    "duration": 30,
    "start_time": "2024-12-03T06:22:45.106Z"
   },
   {
    "duration": 11,
    "start_time": "2024-12-03T06:23:56.169Z"
   },
   {
    "duration": 493,
    "start_time": "2024-12-03T07:27:41.523Z"
   },
   {
    "duration": 80,
    "start_time": "2024-12-03T07:28:09.723Z"
   },
   {
    "duration": 5,
    "start_time": "2024-12-03T07:29:58.775Z"
   },
   {
    "duration": 15,
    "start_time": "2024-12-03T07:30:03.368Z"
   },
   {
    "duration": 1028,
    "start_time": "2024-12-03T07:33:35.952Z"
   },
   {
    "duration": 994,
    "start_time": "2024-12-03T07:33:53.678Z"
   },
   {
    "duration": 20,
    "start_time": "2024-12-03T07:34:05.606Z"
   },
   {
    "duration": 6,
    "start_time": "2024-12-03T07:34:26.245Z"
   },
   {
    "duration": 25,
    "start_time": "2024-12-03T07:36:38.120Z"
   },
   {
    "duration": 22,
    "start_time": "2024-12-03T07:36:59.463Z"
   },
   {
    "duration": 943,
    "start_time": "2024-12-03T07:41:43.881Z"
   },
   {
    "duration": 11,
    "start_time": "2024-12-03T07:41:59.007Z"
   },
   {
    "duration": 819,
    "start_time": "2024-12-03T07:42:54.713Z"
   },
   {
    "duration": 15,
    "start_time": "2024-12-03T07:43:05.143Z"
   },
   {
    "duration": 12,
    "start_time": "2024-12-03T07:44:17.928Z"
   },
   {
    "duration": 31,
    "start_time": "2024-12-03T07:46:47.132Z"
   },
   {
    "duration": 79,
    "start_time": "2024-12-03T07:47:24.363Z"
   },
   {
    "duration": 14,
    "start_time": "2024-12-03T07:47:34.823Z"
   },
   {
    "duration": 7,
    "start_time": "2024-12-03T07:49:19.685Z"
   },
   {
    "duration": 4,
    "start_time": "2024-12-03T07:49:28.990Z"
   },
   {
    "duration": 5,
    "start_time": "2024-12-03T07:49:42.206Z"
   },
   {
    "duration": 410,
    "start_time": "2024-12-03T07:50:17.009Z"
   },
   {
    "duration": 79,
    "start_time": "2024-12-03T07:50:17.421Z"
   },
   {
    "duration": 4,
    "start_time": "2024-12-03T07:50:17.501Z"
   },
   {
    "duration": 21,
    "start_time": "2024-12-03T07:50:17.507Z"
   },
   {
    "duration": 18,
    "start_time": "2024-12-03T07:50:17.531Z"
   },
   {
    "duration": 16,
    "start_time": "2024-12-03T07:50:17.551Z"
   },
   {
    "duration": 25,
    "start_time": "2024-12-03T07:50:17.569Z"
   },
   {
    "duration": 25,
    "start_time": "2024-12-03T07:50:17.595Z"
   },
   {
    "duration": 22,
    "start_time": "2024-12-03T07:50:38.685Z"
   },
   {
    "duration": 22,
    "start_time": "2024-12-03T07:53:34.577Z"
   },
   {
    "duration": 70,
    "start_time": "2024-12-03T07:55:37.735Z"
   },
   {
    "duration": 4,
    "start_time": "2024-12-03T07:55:54.996Z"
   },
   {
    "duration": 4,
    "start_time": "2024-12-03T07:56:26.126Z"
   },
   {
    "duration": 19,
    "start_time": "2024-12-03T07:56:48.824Z"
   },
   {
    "duration": 19,
    "start_time": "2024-12-03T07:57:47.932Z"
   },
   {
    "duration": 19,
    "start_time": "2024-12-03T07:58:53.936Z"
   },
   {
    "duration": 10,
    "start_time": "2024-12-03T08:00:28.385Z"
   },
   {
    "duration": 15,
    "start_time": "2024-12-03T08:01:19.399Z"
   },
   {
    "duration": 19,
    "start_time": "2024-12-03T08:02:26.014Z"
   },
   {
    "duration": 20,
    "start_time": "2024-12-03T08:03:08.732Z"
   },
   {
    "duration": 14,
    "start_time": "2024-12-03T08:14:38.581Z"
   },
   {
    "duration": 14,
    "start_time": "2024-12-03T08:15:20.420Z"
   },
   {
    "duration": 5,
    "start_time": "2024-12-03T08:17:47.455Z"
   },
   {
    "duration": 4,
    "start_time": "2024-12-03T08:18:11.447Z"
   },
   {
    "duration": 4,
    "start_time": "2024-12-03T08:19:58.773Z"
   },
   {
    "duration": 5,
    "start_time": "2024-12-03T08:20:29.079Z"
   },
   {
    "duration": 14,
    "start_time": "2024-12-03T08:21:52.495Z"
   },
   {
    "duration": 5,
    "start_time": "2024-12-03T08:22:42.136Z"
   },
   {
    "duration": 23,
    "start_time": "2024-12-03T08:24:08.000Z"
   },
   {
    "duration": 8,
    "start_time": "2024-12-04T14:33:43.625Z"
   },
   {
    "duration": 8,
    "start_time": "2024-12-04T14:36:05.762Z"
   },
   {
    "duration": 15,
    "start_time": "2024-12-04T14:39:13.434Z"
   },
   {
    "duration": 6,
    "start_time": "2024-12-04T14:41:38.721Z"
   },
   {
    "duration": 13,
    "start_time": "2024-12-04T14:42:56.932Z"
   },
   {
    "duration": 12,
    "start_time": "2024-12-04T14:43:14.815Z"
   },
   {
    "duration": 8,
    "start_time": "2024-12-04T14:43:42.949Z"
   },
   {
    "duration": 11,
    "start_time": "2024-12-04T14:43:59.629Z"
   },
   {
    "duration": 26,
    "start_time": "2024-12-04T14:48:57.631Z"
   },
   {
    "duration": 28,
    "start_time": "2024-12-04T14:52:02.915Z"
   },
   {
    "duration": 18,
    "start_time": "2024-12-04T14:53:23.646Z"
   },
   {
    "duration": 25,
    "start_time": "2024-12-04T14:55:17.184Z"
   },
   {
    "duration": 24,
    "start_time": "2024-12-04T14:56:47.607Z"
   },
   {
    "duration": 35,
    "start_time": "2024-12-04T14:57:36.182Z"
   },
   {
    "duration": 27,
    "start_time": "2024-12-05T06:36:22.688Z"
   },
   {
    "duration": 24,
    "start_time": "2024-12-05T06:36:43.077Z"
   },
   {
    "duration": 9,
    "start_time": "2024-12-05T06:45:00.310Z"
   },
   {
    "duration": 8,
    "start_time": "2024-12-05T06:45:18.971Z"
   },
   {
    "duration": 4,
    "start_time": "2024-12-05T06:46:15.258Z"
   },
   {
    "duration": 35906,
    "start_time": "2024-12-05T06:47:37.255Z"
   },
   {
    "duration": 39639,
    "start_time": "2024-12-05T06:48:44.320Z"
   },
   {
    "duration": 11,
    "start_time": "2024-12-05T07:01:17.443Z"
   },
   {
    "duration": 5,
    "start_time": "2024-12-05T07:01:22.032Z"
   },
   {
    "duration": 8,
    "start_time": "2024-12-05T07:01:26.009Z"
   },
   {
    "duration": 3,
    "start_time": "2024-12-05T07:03:33.950Z"
   },
   {
    "duration": 7,
    "start_time": "2024-12-05T07:03:36.444Z"
   },
   {
    "duration": 3,
    "start_time": "2024-12-05T07:05:23.091Z"
   },
   {
    "duration": 16,
    "start_time": "2024-12-05T07:05:25.561Z"
   },
   {
    "duration": 8,
    "start_time": "2024-12-05T07:05:39.475Z"
   },
   {
    "duration": 28,
    "start_time": "2024-12-05T07:08:47.396Z"
   },
   {
    "duration": 39602,
    "start_time": "2024-12-05T07:10:56.851Z"
   },
   {
    "duration": 440,
    "start_time": "2024-12-05T07:13:14.021Z"
   },
   {
    "duration": 78,
    "start_time": "2024-12-05T07:13:14.463Z"
   },
   {
    "duration": 5,
    "start_time": "2024-12-05T07:13:14.543Z"
   },
   {
    "duration": 50,
    "start_time": "2024-12-05T07:13:14.550Z"
   },
   {
    "duration": 23,
    "start_time": "2024-12-05T07:13:14.603Z"
   },
   {
    "duration": 26,
    "start_time": "2024-12-05T07:13:14.628Z"
   },
   {
    "duration": 25,
    "start_time": "2024-12-05T07:13:14.656Z"
   },
   {
    "duration": 44,
    "start_time": "2024-12-05T07:13:14.683Z"
   },
   {
    "duration": 25,
    "start_time": "2024-12-05T07:13:14.728Z"
   },
   {
    "duration": 28,
    "start_time": "2024-12-05T07:13:14.754Z"
   },
   {
    "duration": 17,
    "start_time": "2024-12-05T07:13:14.784Z"
   },
   {
    "duration": 18,
    "start_time": "2024-12-05T07:13:14.803Z"
   },
   {
    "duration": 45,
    "start_time": "2024-12-05T07:13:14.823Z"
   },
   {
    "duration": 7,
    "start_time": "2024-12-05T07:13:14.871Z"
   },
   {
    "duration": 32,
    "start_time": "2024-12-05T07:13:14.879Z"
   },
   {
    "duration": 16,
    "start_time": "2024-12-05T07:13:14.912Z"
   },
   {
    "duration": 39,
    "start_time": "2024-12-05T07:13:14.929Z"
   },
   {
    "duration": 41407,
    "start_time": "2024-12-05T07:13:14.970Z"
   },
   {
    "duration": 3,
    "start_time": "2024-12-05T07:13:56.379Z"
   },
   {
    "duration": 134,
    "start_time": "2024-12-05T07:13:56.384Z"
   },
   {
    "duration": 230,
    "start_time": "2024-12-05T07:20:44.281Z"
   },
   {
    "duration": 28,
    "start_time": "2024-12-05T07:20:54.440Z"
   },
   {
    "duration": 16,
    "start_time": "2024-12-05T07:26:06.514Z"
   },
   {
    "duration": 24,
    "start_time": "2024-12-05T07:30:49.885Z"
   },
   {
    "duration": 4,
    "start_time": "2024-12-05T07:32:14.084Z"
   },
   {
    "duration": 29270,
    "start_time": "2024-12-05T07:32:18.051Z"
   },
   {
    "duration": 10,
    "start_time": "2024-12-05T07:39:57.295Z"
   },
   {
    "duration": 20,
    "start_time": "2024-12-05T07:45:19.069Z"
   },
   {
    "duration": 840,
    "start_time": "2024-12-05T07:45:48.962Z"
   },
   {
    "duration": 897,
    "start_time": "2024-12-05T07:48:43.866Z"
   },
   {
    "duration": 5,
    "start_time": "2024-12-05T07:50:13.763Z"
   },
   {
    "duration": 18,
    "start_time": "2024-12-05T07:51:38.682Z"
   },
   {
    "duration": 22,
    "start_time": "2024-12-05T07:51:58.394Z"
   },
   {
    "duration": 17,
    "start_time": "2024-12-05T07:52:19.508Z"
   },
   {
    "duration": 16,
    "start_time": "2024-12-05T07:52:32.954Z"
   },
   {
    "duration": 19,
    "start_time": "2024-12-05T07:53:50.830Z"
   },
   {
    "duration": 18,
    "start_time": "2024-12-05T07:55:04.005Z"
   },
   {
    "duration": 44,
    "start_time": "2024-12-24T06:57:41.778Z"
   },
   {
    "duration": 408,
    "start_time": "2024-12-24T06:57:50.231Z"
   },
   {
    "duration": 123,
    "start_time": "2024-12-24T06:57:50.640Z"
   },
   {
    "duration": 4,
    "start_time": "2024-12-24T06:57:50.765Z"
   },
   {
    "duration": 45,
    "start_time": "2024-12-24T06:57:50.771Z"
   },
   {
    "duration": 29,
    "start_time": "2024-12-24T06:57:50.818Z"
   },
   {
    "duration": 13,
    "start_time": "2024-12-24T06:57:50.848Z"
   },
   {
    "duration": 23,
    "start_time": "2024-12-24T06:57:50.862Z"
   },
   {
    "duration": 17,
    "start_time": "2024-12-24T06:57:50.887Z"
   },
   {
    "duration": 11,
    "start_time": "2024-12-24T06:57:50.906Z"
   },
   {
    "duration": 14,
    "start_time": "2024-12-24T06:57:50.918Z"
   },
   {
    "duration": 6,
    "start_time": "2024-12-24T06:57:50.933Z"
   },
   {
    "duration": 6,
    "start_time": "2024-12-24T06:57:50.940Z"
   },
   {
    "duration": 19,
    "start_time": "2024-12-24T06:57:50.947Z"
   },
   {
    "duration": 6,
    "start_time": "2024-12-24T06:57:50.969Z"
   },
   {
    "duration": 23,
    "start_time": "2024-12-24T06:57:50.977Z"
   },
   {
    "duration": 6,
    "start_time": "2024-12-24T06:57:51.001Z"
   },
   {
    "duration": 31,
    "start_time": "2024-12-24T06:57:51.008Z"
   },
   {
    "duration": 14,
    "start_time": "2024-12-24T06:57:51.040Z"
   },
   {
    "duration": 25043,
    "start_time": "2024-12-24T06:57:51.055Z"
   },
   {
    "duration": 4,
    "start_time": "2024-12-24T06:58:16.100Z"
   },
   {
    "duration": 11,
    "start_time": "2024-12-24T06:58:16.105Z"
   },
   {
    "duration": 684,
    "start_time": "2024-12-24T06:58:16.118Z"
   },
   {
    "duration": 17,
    "start_time": "2024-12-24T06:58:16.804Z"
   },
   {
    "duration": 233,
    "start_time": "2024-12-24T06:58:30.070Z"
   },
   {
    "duration": 12,
    "start_time": "2024-12-24T06:59:16.614Z"
   },
   {
    "duration": 331,
    "start_time": "2024-12-24T07:01:58.202Z"
   },
   {
    "duration": 300,
    "start_time": "2024-12-24T07:03:36.679Z"
   },
   {
    "duration": 1464,
    "start_time": "2024-12-24T07:19:53.346Z"
   },
   {
    "duration": 1404,
    "start_time": "2024-12-24T07:20:37.956Z"
   },
   {
    "duration": 15,
    "start_time": "2024-12-24T07:21:18.042Z"
   },
   {
    "duration": 13,
    "start_time": "2024-12-24T07:22:11.073Z"
   },
   {
    "duration": 25,
    "start_time": "2024-12-24T07:25:13.397Z"
   },
   {
    "duration": 274,
    "start_time": "2024-12-24T07:26:31.946Z"
   },
   {
    "duration": 20,
    "start_time": "2024-12-24T07:31:46.714Z"
   },
   {
    "duration": 1439,
    "start_time": "2024-12-24T07:33:18.418Z"
   },
   {
    "duration": 10,
    "start_time": "2024-12-24T07:33:42.874Z"
   },
   {
    "duration": 129,
    "start_time": "2024-12-24T07:34:07.641Z"
   },
   {
    "duration": 289,
    "start_time": "2024-12-24T07:36:49.134Z"
   },
   {
    "duration": 1000,
    "start_time": "2024-12-24T07:37:00.925Z"
   },
   {
    "duration": 281,
    "start_time": "2024-12-24T07:37:27.598Z"
   },
   {
    "duration": 117,
    "start_time": "2024-12-24T07:38:00.052Z"
   },
   {
    "duration": 8,
    "start_time": "2024-12-24T07:38:31.415Z"
   },
   {
    "duration": 10,
    "start_time": "2024-12-24T07:40:20.233Z"
   },
   {
    "duration": 11,
    "start_time": "2024-12-24T07:41:33.886Z"
   },
   {
    "duration": 10,
    "start_time": "2024-12-24T07:42:43.757Z"
   },
   {
    "duration": 397,
    "start_time": "2024-12-24T07:43:16.571Z"
   },
   {
    "duration": 71,
    "start_time": "2024-12-24T07:43:16.970Z"
   },
   {
    "duration": 3,
    "start_time": "2024-12-24T07:43:17.043Z"
   },
   {
    "duration": 14,
    "start_time": "2024-12-24T07:43:17.048Z"
   },
   {
    "duration": 20,
    "start_time": "2024-12-24T07:43:17.063Z"
   },
   {
    "duration": 12,
    "start_time": "2024-12-24T07:43:17.084Z"
   },
   {
    "duration": 10,
    "start_time": "2024-12-24T07:43:17.097Z"
   },
   {
    "duration": 16,
    "start_time": "2024-12-24T07:43:17.108Z"
   },
   {
    "duration": 3,
    "start_time": "2024-12-24T07:43:17.125Z"
   },
   {
    "duration": 27,
    "start_time": "2024-12-24T07:43:17.130Z"
   },
   {
    "duration": 4,
    "start_time": "2024-12-24T07:43:17.158Z"
   },
   {
    "duration": 4,
    "start_time": "2024-12-24T07:43:17.164Z"
   },
   {
    "duration": 23,
    "start_time": "2024-12-24T07:43:17.169Z"
   },
   {
    "duration": 6,
    "start_time": "2024-12-24T07:43:17.194Z"
   },
   {
    "duration": 20,
    "start_time": "2024-12-24T07:43:17.201Z"
   },
   {
    "duration": 10,
    "start_time": "2024-12-24T07:43:17.223Z"
   },
   {
    "duration": 39,
    "start_time": "2024-12-24T07:43:17.234Z"
   },
   {
    "duration": 12,
    "start_time": "2024-12-24T07:43:17.274Z"
   },
   {
    "duration": 25094,
    "start_time": "2024-12-24T07:43:17.287Z"
   },
   {
    "duration": 4,
    "start_time": "2024-12-24T07:43:42.382Z"
   },
   {
    "duration": 25,
    "start_time": "2024-12-24T07:43:42.387Z"
   },
   {
    "duration": 506,
    "start_time": "2024-12-24T07:43:42.413Z"
   },
   {
    "duration": 48,
    "start_time": "2024-12-24T07:43:42.920Z"
   },
   {
    "duration": 2,
    "start_time": "2024-12-24T07:43:42.969Z"
   },
   {
    "duration": 72,
    "start_time": "2024-12-24T07:43:42.972Z"
   },
   {
    "duration": 576,
    "start_time": "2024-12-24T07:55:45.192Z"
   },
   {
    "duration": 1091,
    "start_time": "2024-12-24T07:59:05.075Z"
   },
   {
    "duration": 42,
    "start_time": "2024-12-24T07:59:14.024Z"
   },
   {
    "duration": 311,
    "start_time": "2024-12-24T07:59:47.296Z"
   },
   {
    "duration": 139,
    "start_time": "2024-12-24T08:00:26.167Z"
   },
   {
    "duration": 155,
    "start_time": "2024-12-24T08:02:00.869Z"
   },
   {
    "duration": 18,
    "start_time": "2024-12-24T08:02:27.422Z"
   },
   {
    "duration": 159,
    "start_time": "2024-12-24T08:03:49.797Z"
   },
   {
    "duration": 81,
    "start_time": "2024-12-24T08:07:39.094Z"
   },
   {
    "duration": 27,
    "start_time": "2024-12-24T08:07:53.549Z"
   },
   {
    "duration": 5,
    "start_time": "2024-12-24T08:09:30.629Z"
   },
   {
    "duration": 19,
    "start_time": "2024-12-24T08:09:45.659Z"
   },
   {
    "duration": 18,
    "start_time": "2024-12-24T08:11:57.096Z"
   },
   {
    "duration": 19,
    "start_time": "2024-12-24T08:12:14.570Z"
   },
   {
    "duration": 4,
    "start_time": "2024-12-24T08:13:05.055Z"
   },
   {
    "duration": 7,
    "start_time": "2024-12-24T08:13:13.179Z"
   },
   {
    "duration": 5,
    "start_time": "2024-12-24T08:13:55.758Z"
   },
   {
    "duration": 11,
    "start_time": "2024-12-24T08:16:18.978Z"
   },
   {
    "duration": 5,
    "start_time": "2024-12-24T08:16:45.539Z"
   },
   {
    "duration": 84,
    "start_time": "2024-12-24T08:18:04.553Z"
   },
   {
    "duration": 5,
    "start_time": "2024-12-24T08:19:01.832Z"
   },
   {
    "duration": 26,
    "start_time": "2024-12-24T08:20:25.975Z"
   },
   {
    "duration": 404,
    "start_time": "2024-12-24T08:27:02.355Z"
   },
   {
    "duration": 72,
    "start_time": "2024-12-24T08:27:02.762Z"
   },
   {
    "duration": 3,
    "start_time": "2024-12-24T08:27:02.836Z"
   },
   {
    "duration": 51,
    "start_time": "2024-12-24T08:27:02.841Z"
   },
   {
    "duration": 50,
    "start_time": "2024-12-24T08:27:02.894Z"
   },
   {
    "duration": 33,
    "start_time": "2024-12-24T08:27:02.945Z"
   },
   {
    "duration": 29,
    "start_time": "2024-12-24T08:27:02.980Z"
   },
   {
    "duration": 135,
    "start_time": "2024-12-24T08:27:03.010Z"
   },
   {
    "duration": 31,
    "start_time": "2024-12-24T08:27:03.147Z"
   },
   {
    "duration": 15,
    "start_time": "2024-12-24T08:27:03.181Z"
   },
   {
    "duration": 34,
    "start_time": "2024-12-24T08:27:03.198Z"
   },
   {
    "duration": 30,
    "start_time": "2024-12-24T08:27:03.233Z"
   },
   {
    "duration": 30,
    "start_time": "2024-12-24T08:27:03.265Z"
   },
   {
    "duration": 22,
    "start_time": "2024-12-24T08:27:03.297Z"
   },
   {
    "duration": 67,
    "start_time": "2024-12-24T08:27:03.321Z"
   },
   {
    "duration": 4,
    "start_time": "2024-12-24T08:27:03.390Z"
   },
   {
    "duration": 34,
    "start_time": "2024-12-24T08:27:03.396Z"
   },
   {
    "duration": 188,
    "start_time": "2024-12-24T08:27:03.432Z"
   },
   {
    "duration": 39,
    "start_time": "2024-12-24T08:27:03.622Z"
   },
   {
    "duration": 585,
    "start_time": "2024-12-24T08:27:03.663Z"
   },
   {
    "duration": 9,
    "start_time": "2024-12-24T08:27:04.254Z"
   },
   {
    "duration": 48,
    "start_time": "2024-12-24T08:27:04.264Z"
   },
   {
    "duration": 12,
    "start_time": "2024-12-24T08:27:04.314Z"
   },
   {
    "duration": 27454,
    "start_time": "2024-12-24T08:27:04.328Z"
   },
   {
    "duration": 13,
    "start_time": "2024-12-24T08:29:00.151Z"
   },
   {
    "duration": 142,
    "start_time": "2024-12-24T08:31:42.227Z"
   },
   {
    "duration": 8,
    "start_time": "2024-12-24T08:33:30.399Z"
   },
   {
    "duration": 8,
    "start_time": "2024-12-24T08:33:32.622Z"
   },
   {
    "duration": 67,
    "start_time": "2024-12-24T08:35:05.140Z"
   },
   {
    "duration": 7,
    "start_time": "2024-12-24T08:35:17.851Z"
   },
   {
    "duration": 10,
    "start_time": "2024-12-24T08:35:20.317Z"
   },
   {
    "duration": 6,
    "start_time": "2024-12-24T08:35:36.324Z"
   },
   {
    "duration": 136,
    "start_time": "2024-12-24T08:35:38.468Z"
   },
   {
    "duration": 139,
    "start_time": "2024-12-24T08:37:36.536Z"
   },
   {
    "duration": 196,
    "start_time": "2024-12-24T08:38:25.887Z"
   },
   {
    "duration": 132,
    "start_time": "2024-12-24T08:39:09.007Z"
   },
   {
    "duration": 53,
    "start_time": "2024-12-24T08:55:15.708Z"
   },
   {
    "duration": 15,
    "start_time": "2024-12-24T08:55:25.245Z"
   },
   {
    "duration": 119,
    "start_time": "2024-12-24T12:20:20.905Z"
   },
   {
    "duration": 18,
    "start_time": "2024-12-24T12:20:32.426Z"
   },
   {
    "duration": 1670,
    "start_time": "2024-12-24T12:24:39.076Z"
   },
   {
    "duration": 2523,
    "start_time": "2024-12-24T12:27:27.203Z"
   },
   {
    "duration": 8,
    "start_time": "2024-12-24T12:29:11.482Z"
   },
   {
    "duration": 9,
    "start_time": "2024-12-24T12:30:38.997Z"
   },
   {
    "duration": 144,
    "start_time": "2024-12-24T12:31:29.439Z"
   },
   {
    "duration": 8,
    "start_time": "2024-12-24T12:36:24.659Z"
   },
   {
    "duration": 142,
    "start_time": "2024-12-24T12:37:14.993Z"
   },
   {
    "duration": 146,
    "start_time": "2024-12-24T12:38:13.178Z"
   },
   {
    "duration": 146,
    "start_time": "2024-12-24T12:38:41.718Z"
   },
   {
    "duration": 139,
    "start_time": "2024-12-24T12:41:00.668Z"
   },
   {
    "duration": 98,
    "start_time": "2024-12-24T12:44:07.263Z"
   },
   {
    "duration": 1127,
    "start_time": "2024-12-24T12:53:07.468Z"
   },
   {
    "duration": 68,
    "start_time": "2024-12-24T12:54:22.398Z"
   },
   {
    "duration": 5,
    "start_time": "2024-12-24T12:55:14.055Z"
   },
   {
    "duration": 14,
    "start_time": "2024-12-24T12:55:18.283Z"
   },
   {
    "duration": 16,
    "start_time": "2024-12-24T12:55:28.139Z"
   },
   {
    "duration": 14,
    "start_time": "2024-12-24T12:55:31.195Z"
   },
   {
    "duration": 10,
    "start_time": "2024-12-24T12:55:50.853Z"
   },
   {
    "duration": 18,
    "start_time": "2024-12-24T12:57:02.955Z"
   },
   {
    "duration": 106,
    "start_time": "2024-12-24T12:58:35.910Z"
   },
   {
    "duration": 6,
    "start_time": "2024-12-24T12:59:51.462Z"
   },
   {
    "duration": 13,
    "start_time": "2024-12-24T13:01:32.661Z"
   },
   {
    "duration": 1438,
    "start_time": "2024-12-24T13:01:35.652Z"
   },
   {
    "duration": 19,
    "start_time": "2024-12-24T13:01:56.662Z"
   },
   {
    "duration": 9,
    "start_time": "2024-12-24T13:02:35.043Z"
   },
   {
    "duration": 12,
    "start_time": "2024-12-24T13:02:41.451Z"
   },
   {
    "duration": 13,
    "start_time": "2024-12-24T13:02:47.893Z"
   },
   {
    "duration": 11,
    "start_time": "2024-12-24T13:03:07.743Z"
   },
   {
    "duration": 10,
    "start_time": "2024-12-24T13:04:00.519Z"
   },
   {
    "duration": 9,
    "start_time": "2024-12-24T13:04:05.312Z"
   },
   {
    "duration": 13,
    "start_time": "2024-12-24T13:08:41.903Z"
   },
   {
    "duration": 9,
    "start_time": "2024-12-24T13:08:44.927Z"
   },
   {
    "duration": 5,
    "start_time": "2024-12-24T13:08:50.019Z"
   },
   {
    "duration": 24,
    "start_time": "2024-12-24T13:09:59.445Z"
   },
   {
    "duration": 8,
    "start_time": "2024-12-24T13:12:02.306Z"
   },
   {
    "duration": 117,
    "start_time": "2024-12-24T13:18:10.342Z"
   },
   {
    "duration": 5,
    "start_time": "2024-12-24T13:21:04.931Z"
   },
   {
    "duration": 14,
    "start_time": "2024-12-24T13:24:14.633Z"
   },
   {
    "duration": 21,
    "start_time": "2024-12-24T13:24:20.431Z"
   },
   {
    "duration": 10,
    "start_time": "2024-12-24T13:24:22.854Z"
   },
   {
    "duration": 398,
    "start_time": "2024-12-24T13:25:23.948Z"
   },
   {
    "duration": 96,
    "start_time": "2024-12-24T13:25:40.502Z"
   },
   {
    "duration": 382,
    "start_time": "2024-12-24T13:25:43.879Z"
   },
   {
    "duration": 32,
    "start_time": "2024-12-24T13:26:28.213Z"
   },
   {
    "duration": 895,
    "start_time": "2024-12-24T13:27:26.962Z"
   },
   {
    "duration": 10,
    "start_time": "2024-12-24T13:27:29.196Z"
   },
   {
    "duration": 354,
    "start_time": "2024-12-24T13:27:38.116Z"
   },
   {
    "duration": 6,
    "start_time": "2024-12-24T13:28:07.099Z"
   },
   {
    "duration": 14,
    "start_time": "2024-12-24T13:28:25.541Z"
   },
   {
    "duration": 154,
    "start_time": "2024-12-24T13:28:32.706Z"
   },
   {
    "duration": 7,
    "start_time": "2024-12-24T13:30:07.755Z"
   },
   {
    "duration": 21,
    "start_time": "2024-12-24T13:31:09.614Z"
   },
   {
    "duration": 324,
    "start_time": "2024-12-24T13:33:24.892Z"
   },
   {
    "duration": 30,
    "start_time": "2024-12-24T13:34:04.771Z"
   },
   {
    "duration": 135,
    "start_time": "2024-12-24T13:34:49.475Z"
   },
   {
    "duration": 140,
    "start_time": "2024-12-24T13:35:03.514Z"
   },
   {
    "duration": 304,
    "start_time": "2024-12-24T13:36:48.771Z"
   },
   {
    "duration": 267,
    "start_time": "2024-12-24T13:37:11.914Z"
   },
   {
    "duration": 11,
    "start_time": "2024-12-24T13:38:30.239Z"
   },
   {
    "duration": 17,
    "start_time": "2024-12-24T13:38:41.606Z"
   },
   {
    "duration": 18,
    "start_time": "2024-12-24T13:39:18.648Z"
   },
   {
    "duration": 17,
    "start_time": "2024-12-24T13:39:55.828Z"
   },
   {
    "duration": 17,
    "start_time": "2024-12-24T13:40:10.347Z"
   },
   {
    "duration": 23,
    "start_time": "2024-12-24T13:40:31.866Z"
   },
   {
    "duration": 1120,
    "start_time": "2024-12-24T13:43:20.283Z"
   },
   {
    "duration": 71,
    "start_time": "2024-12-24T13:43:21.404Z"
   },
   {
    "duration": 4,
    "start_time": "2024-12-24T13:43:21.477Z"
   },
   {
    "duration": 16,
    "start_time": "2024-12-24T13:43:21.483Z"
   },
   {
    "duration": 16,
    "start_time": "2024-12-24T13:43:21.501Z"
   },
   {
    "duration": 35,
    "start_time": "2024-12-24T13:43:21.518Z"
   },
   {
    "duration": 28,
    "start_time": "2024-12-24T13:43:21.555Z"
   },
   {
    "duration": 9,
    "start_time": "2024-12-24T13:43:21.584Z"
   },
   {
    "duration": 847,
    "start_time": "2024-12-24T13:43:21.595Z"
   },
   {
    "duration": 14,
    "start_time": "2024-12-24T13:43:22.443Z"
   },
   {
    "duration": 4,
    "start_time": "2024-12-24T13:43:22.458Z"
   },
   {
    "duration": 304,
    "start_time": "2024-12-24T13:43:22.463Z"
   },
   {
    "duration": 13,
    "start_time": "2024-12-24T13:43:22.768Z"
   },
   {
    "duration": 290,
    "start_time": "2024-12-24T13:43:22.783Z"
   },
   {
    "duration": 22,
    "start_time": "2024-12-24T13:43:23.075Z"
   },
   {
    "duration": 3,
    "start_time": "2024-12-24T13:43:23.098Z"
   },
   {
    "duration": 1618,
    "start_time": "2024-12-24T13:43:23.102Z"
   },
   {
    "duration": 0,
    "start_time": "2024-12-24T13:43:24.721Z"
   },
   {
    "duration": 0,
    "start_time": "2024-12-24T13:43:24.723Z"
   },
   {
    "duration": 0,
    "start_time": "2024-12-24T13:43:24.723Z"
   },
   {
    "duration": 0,
    "start_time": "2024-12-24T13:43:24.724Z"
   },
   {
    "duration": 17,
    "start_time": "2024-12-24T13:43:46.612Z"
   },
   {
    "duration": 5,
    "start_time": "2024-12-24T13:49:31.322Z"
   },
   {
    "duration": 56513,
    "start_time": "2024-12-24T13:50:11.992Z"
   },
   {
    "duration": 17,
    "start_time": "2024-12-24T13:51:35.170Z"
   },
   {
    "duration": 11,
    "start_time": "2024-12-24T13:52:40.705Z"
   },
   {
    "duration": 6,
    "start_time": "2024-12-24T13:53:15.062Z"
   },
   {
    "duration": 14,
    "start_time": "2024-12-24T13:53:18.960Z"
   },
   {
    "duration": 16,
    "start_time": "2024-12-24T13:53:56.358Z"
   },
   {
    "duration": 124,
    "start_time": "2024-12-24T13:54:06.578Z"
   },
   {
    "duration": 158,
    "start_time": "2024-12-24T13:54:18.040Z"
   },
   {
    "duration": 158,
    "start_time": "2024-12-24T13:55:54.727Z"
   },
   {
    "duration": 164,
    "start_time": "2024-12-24T13:57:06.484Z"
   },
   {
    "duration": 159,
    "start_time": "2024-12-24T13:57:19.148Z"
   },
   {
    "duration": 23,
    "start_time": "2024-12-25T08:28:28.093Z"
   },
   {
    "duration": 22,
    "start_time": "2024-12-25T08:29:05.385Z"
   },
   {
    "duration": 271,
    "start_time": "2024-12-25T08:29:48.747Z"
   },
   {
    "duration": 9,
    "start_time": "2024-12-25T08:33:37.143Z"
   },
   {
    "duration": 11,
    "start_time": "2024-12-25T08:34:14.462Z"
   },
   {
    "duration": 11,
    "start_time": "2024-12-25T08:35:01.901Z"
   },
   {
    "duration": 7,
    "start_time": "2024-12-25T08:41:16.829Z"
   },
   {
    "duration": 11,
    "start_time": "2024-12-25T08:41:33.279Z"
   },
   {
    "duration": 12,
    "start_time": "2024-12-25T08:42:23.195Z"
   },
   {
    "duration": 13,
    "start_time": "2024-12-25T08:44:28.022Z"
   },
   {
    "duration": 1507,
    "start_time": "2024-12-25T08:45:00.241Z"
   },
   {
    "duration": 13,
    "start_time": "2024-12-25T08:45:11.487Z"
   },
   {
    "duration": 1250,
    "start_time": "2024-12-25T08:46:47.181Z"
   },
   {
    "duration": 26,
    "start_time": "2024-12-25T08:47:14.916Z"
   },
   {
    "duration": 54,
    "start_time": "2024-12-25T08:47:29.622Z"
   },
   {
    "duration": 31,
    "start_time": "2024-12-25T08:49:39.698Z"
   },
   {
    "duration": 425,
    "start_time": "2024-12-25T08:51:54.995Z"
   },
   {
    "duration": 37,
    "start_time": "2024-12-25T08:56:49.549Z"
   },
   {
    "duration": 39,
    "start_time": "2024-12-25T08:58:18.574Z"
   },
   {
    "duration": 38,
    "start_time": "2024-12-25T08:59:02.799Z"
   },
   {
    "duration": 1531,
    "start_time": "2024-12-25T08:59:27.030Z"
   },
   {
    "duration": 30,
    "start_time": "2024-12-25T08:59:55.622Z"
   },
   {
    "duration": 31,
    "start_time": "2024-12-25T09:00:13.604Z"
   },
   {
    "duration": 35,
    "start_time": "2024-12-25T09:00:54.204Z"
   },
   {
    "duration": 11,
    "start_time": "2024-12-25T09:01:57.027Z"
   },
   {
    "duration": 235,
    "start_time": "2024-12-25T09:02:09.082Z"
   },
   {
    "duration": 122,
    "start_time": "2024-12-25T09:04:52.423Z"
   },
   {
    "duration": 232,
    "start_time": "2024-12-25T09:05:17.125Z"
   },
   {
    "duration": 244,
    "start_time": "2024-12-25T09:05:31.680Z"
   },
   {
    "duration": 252,
    "start_time": "2024-12-25T09:05:47.622Z"
   },
   {
    "duration": 235,
    "start_time": "2024-12-25T09:08:05.874Z"
   },
   {
    "duration": 194,
    "start_time": "2024-12-25T09:10:26.047Z"
   },
   {
    "duration": 21,
    "start_time": "2024-12-25T09:14:15.179Z"
   },
   {
    "duration": 1060,
    "start_time": "2024-12-25T09:15:47.786Z"
   },
   {
    "duration": 74,
    "start_time": "2024-12-25T09:15:48.848Z"
   },
   {
    "duration": 4,
    "start_time": "2024-12-25T09:15:48.924Z"
   },
   {
    "duration": 14,
    "start_time": "2024-12-25T09:15:48.929Z"
   },
   {
    "duration": 16,
    "start_time": "2024-12-25T09:15:48.945Z"
   },
   {
    "duration": 13,
    "start_time": "2024-12-25T09:15:48.963Z"
   },
   {
    "duration": 16,
    "start_time": "2024-12-25T09:15:48.977Z"
   },
   {
    "duration": 18,
    "start_time": "2024-12-25T09:15:48.994Z"
   },
   {
    "duration": 891,
    "start_time": "2024-12-25T09:15:49.013Z"
   },
   {
    "duration": 7,
    "start_time": "2024-12-25T09:15:49.906Z"
   },
   {
    "duration": 7,
    "start_time": "2024-12-25T09:15:49.914Z"
   },
   {
    "duration": 319,
    "start_time": "2024-12-25T09:15:49.923Z"
   },
   {
    "duration": 17,
    "start_time": "2024-12-25T09:15:50.244Z"
   },
   {
    "duration": 304,
    "start_time": "2024-12-25T09:15:50.263Z"
   },
   {
    "duration": 19,
    "start_time": "2024-12-25T09:15:50.568Z"
   },
   {
    "duration": 59,
    "start_time": "2024-12-25T09:15:50.589Z"
   },
   {
    "duration": 229,
    "start_time": "2024-12-25T09:15:50.650Z"
   },
   {
    "duration": 9,
    "start_time": "2024-12-25T09:15:50.881Z"
   },
   {
    "duration": 28,
    "start_time": "2024-12-25T09:15:50.892Z"
   },
   {
    "duration": 42,
    "start_time": "2024-12-25T09:15:50.922Z"
   },
   {
    "duration": 14,
    "start_time": "2024-12-25T09:15:50.966Z"
   },
   {
    "duration": 237,
    "start_time": "2024-12-25T09:15:50.982Z"
   },
   {
    "duration": 204,
    "start_time": "2024-12-25T09:15:51.220Z"
   },
   {
    "duration": 124,
    "start_time": "2024-12-25T09:18:41.942Z"
   },
   {
    "duration": 193,
    "start_time": "2024-12-25T09:20:36.403Z"
   },
   {
    "duration": 137,
    "start_time": "2024-12-25T09:22:17.288Z"
   },
   {
    "duration": 130,
    "start_time": "2024-12-25T09:23:08.383Z"
   },
   {
    "duration": 135,
    "start_time": "2024-12-25T09:23:41.223Z"
   },
   {
    "duration": 141,
    "start_time": "2024-12-25T09:24:22.374Z"
   },
   {
    "duration": 1063,
    "start_time": "2024-12-25T09:28:58.473Z"
   },
   {
    "duration": 72,
    "start_time": "2024-12-25T09:28:59.538Z"
   },
   {
    "duration": 5,
    "start_time": "2024-12-25T09:28:59.611Z"
   },
   {
    "duration": 28,
    "start_time": "2024-12-25T09:28:59.617Z"
   },
   {
    "duration": 50,
    "start_time": "2024-12-25T09:28:59.647Z"
   },
   {
    "duration": 10,
    "start_time": "2024-12-25T09:28:59.698Z"
   },
   {
    "duration": 24,
    "start_time": "2024-12-25T09:28:59.709Z"
   },
   {
    "duration": 8,
    "start_time": "2024-12-25T09:28:59.735Z"
   },
   {
    "duration": 902,
    "start_time": "2024-12-25T09:28:59.744Z"
   },
   {
    "duration": 12,
    "start_time": "2024-12-25T09:29:00.648Z"
   },
   {
    "duration": 5,
    "start_time": "2024-12-25T09:29:00.661Z"
   },
   {
    "duration": 367,
    "start_time": "2024-12-25T09:29:00.668Z"
   },
   {
    "duration": 22,
    "start_time": "2024-12-25T09:29:01.037Z"
   },
   {
    "duration": 306,
    "start_time": "2024-12-25T09:29:01.063Z"
   },
   {
    "duration": 18,
    "start_time": "2024-12-25T09:29:01.371Z"
   },
   {
    "duration": 19,
    "start_time": "2024-12-25T09:29:01.390Z"
   },
   {
    "duration": 162,
    "start_time": "2024-12-25T09:29:01.411Z"
   },
   {
    "duration": 10,
    "start_time": "2024-12-25T09:29:01.575Z"
   },
   {
    "duration": 44,
    "start_time": "2024-12-25T09:29:01.587Z"
   },
   {
    "duration": 47,
    "start_time": "2024-12-25T09:29:01.633Z"
   },
   {
    "duration": 6,
    "start_time": "2024-12-25T09:29:01.681Z"
   },
   {
    "duration": 297,
    "start_time": "2024-12-25T09:29:01.689Z"
   },
   {
    "duration": 210,
    "start_time": "2024-12-25T09:29:01.987Z"
   },
   {
    "duration": 150,
    "start_time": "2024-12-25T09:29:02.198Z"
   },
   {
    "duration": 219,
    "start_time": "2024-12-25T09:29:02.349Z"
   },
   {
    "duration": 150,
    "start_time": "2024-12-25T09:29:02.569Z"
   },
   {
    "duration": 145,
    "start_time": "2024-12-25T09:29:02.721Z"
   },
   {
    "duration": 2,
    "start_time": "2024-12-25T09:29:02.868Z"
   },
   {
    "duration": 18,
    "start_time": "2024-12-25T09:32:33.585Z"
   },
   {
    "duration": 151,
    "start_time": "2024-12-25T09:32:55.192Z"
   },
   {
    "duration": 187,
    "start_time": "2024-12-25T09:34:04.055Z"
   },
   {
    "duration": 182,
    "start_time": "2024-12-25T09:34:32.599Z"
   },
   {
    "duration": 195,
    "start_time": "2024-12-25T09:37:26.299Z"
   },
   {
    "duration": 199,
    "start_time": "2024-12-25T09:38:01.618Z"
   },
   {
    "duration": 185,
    "start_time": "2024-12-25T09:38:26.970Z"
   },
   {
    "duration": 5,
    "start_time": "2024-12-25T09:41:50.140Z"
   },
   {
    "duration": 92,
    "start_time": "2024-12-25T09:41:58.692Z"
   },
   {
    "duration": 5,
    "start_time": "2024-12-25T09:42:12.765Z"
   },
   {
    "duration": 167,
    "start_time": "2024-12-25T09:44:15.299Z"
   },
   {
    "duration": 17,
    "start_time": "2024-12-25T09:49:07.939Z"
   },
   {
    "duration": 16,
    "start_time": "2024-12-25T09:49:31.153Z"
   },
   {
    "duration": 185,
    "start_time": "2024-12-25T10:12:27.527Z"
   },
   {
    "duration": 1021,
    "start_time": "2024-12-25T10:14:07.804Z"
   },
   {
    "duration": 72,
    "start_time": "2024-12-25T10:14:08.827Z"
   },
   {
    "duration": 5,
    "start_time": "2024-12-25T10:14:08.901Z"
   },
   {
    "duration": 21,
    "start_time": "2024-12-25T10:14:08.907Z"
   },
   {
    "duration": 27,
    "start_time": "2024-12-25T10:14:08.930Z"
   },
   {
    "duration": 8,
    "start_time": "2024-12-25T10:14:08.959Z"
   },
   {
    "duration": 26,
    "start_time": "2024-12-25T10:14:08.969Z"
   },
   {
    "duration": 8,
    "start_time": "2024-12-25T10:14:08.997Z"
   },
   {
    "duration": 881,
    "start_time": "2024-12-25T10:14:09.006Z"
   },
   {
    "duration": 7,
    "start_time": "2024-12-25T10:14:09.889Z"
   },
   {
    "duration": 19,
    "start_time": "2024-12-25T10:14:09.897Z"
   },
   {
    "duration": 342,
    "start_time": "2024-12-25T10:14:09.917Z"
   },
   {
    "duration": 13,
    "start_time": "2024-12-25T10:14:10.260Z"
   },
   {
    "duration": 320,
    "start_time": "2024-12-25T10:14:10.275Z"
   },
   {
    "duration": 18,
    "start_time": "2024-12-25T10:14:10.596Z"
   },
   {
    "duration": 5,
    "start_time": "2024-12-25T10:14:10.615Z"
   },
   {
    "duration": 166,
    "start_time": "2024-12-25T10:14:10.621Z"
   },
   {
    "duration": 10,
    "start_time": "2024-12-25T10:14:10.788Z"
   },
   {
    "duration": 18,
    "start_time": "2024-12-25T10:14:10.800Z"
   },
   {
    "duration": 51,
    "start_time": "2024-12-25T10:14:10.819Z"
   },
   {
    "duration": 6,
    "start_time": "2024-12-25T10:14:10.871Z"
   },
   {
    "duration": 244,
    "start_time": "2024-12-25T10:14:10.878Z"
   },
   {
    "duration": 195,
    "start_time": "2024-12-25T10:14:11.123Z"
   },
   {
    "duration": 137,
    "start_time": "2024-12-25T10:14:11.320Z"
   },
   {
    "duration": 201,
    "start_time": "2024-12-25T10:14:11.459Z"
   },
   {
    "duration": 142,
    "start_time": "2024-12-25T10:14:11.661Z"
   },
   {
    "duration": 144,
    "start_time": "2024-12-25T10:14:11.805Z"
   },
   {
    "duration": 39068,
    "start_time": "2024-12-25T10:14:11.950Z"
   },
   {
    "duration": 92,
    "start_time": "2024-12-25T10:17:29.064Z"
   },
   {
    "duration": 31,
    "start_time": "2024-12-25T10:19:20.741Z"
   },
   {
    "duration": 1049,
    "start_time": "2024-12-25T10:19:46.001Z"
   },
   {
    "duration": 69,
    "start_time": "2024-12-25T10:19:47.054Z"
   },
   {
    "duration": 5,
    "start_time": "2024-12-25T10:19:47.125Z"
   },
   {
    "duration": 23,
    "start_time": "2024-12-25T10:19:47.132Z"
   },
   {
    "duration": 19,
    "start_time": "2024-12-25T10:19:47.158Z"
   },
   {
    "duration": 9,
    "start_time": "2024-12-25T10:19:47.178Z"
   },
   {
    "duration": 18,
    "start_time": "2024-12-25T10:19:47.188Z"
   },
   {
    "duration": 9,
    "start_time": "2024-12-25T10:19:47.207Z"
   },
   {
    "duration": 914,
    "start_time": "2024-12-25T10:19:47.217Z"
   },
   {
    "duration": 9,
    "start_time": "2024-12-25T10:19:48.132Z"
   },
   {
    "duration": 13,
    "start_time": "2024-12-25T10:19:48.142Z"
   },
   {
    "duration": 313,
    "start_time": "2024-12-25T10:19:48.157Z"
   },
   {
    "duration": 13,
    "start_time": "2024-12-25T10:19:48.471Z"
   },
   {
    "duration": 293,
    "start_time": "2024-12-25T10:19:48.486Z"
   },
   {
    "duration": 19,
    "start_time": "2024-12-25T10:19:48.780Z"
   },
   {
    "duration": 4,
    "start_time": "2024-12-25T10:19:48.800Z"
   },
   {
    "duration": 172,
    "start_time": "2024-12-25T10:19:48.806Z"
   },
   {
    "duration": 10,
    "start_time": "2024-12-25T10:19:48.979Z"
   },
   {
    "duration": 17,
    "start_time": "2024-12-25T10:19:48.991Z"
   },
   {
    "duration": 46,
    "start_time": "2024-12-25T10:19:49.010Z"
   },
   {
    "duration": 7,
    "start_time": "2024-12-25T10:19:49.058Z"
   },
   {
    "duration": 244,
    "start_time": "2024-12-25T10:19:49.066Z"
   },
   {
    "duration": 191,
    "start_time": "2024-12-25T10:19:49.311Z"
   },
   {
    "duration": 140,
    "start_time": "2024-12-25T10:19:49.504Z"
   },
   {
    "duration": 207,
    "start_time": "2024-12-25T10:19:49.645Z"
   },
   {
    "duration": 143,
    "start_time": "2024-12-25T10:19:49.853Z"
   },
   {
    "duration": 146,
    "start_time": "2024-12-25T10:19:49.998Z"
   },
   {
    "duration": 38696,
    "start_time": "2024-12-25T10:19:50.146Z"
   },
   {
    "duration": 32,
    "start_time": "2024-12-25T10:23:15.984Z"
   },
   {
    "duration": 27,
    "start_time": "2024-12-25T10:23:37.471Z"
   },
   {
    "duration": 3695,
    "start_time": "2024-12-25T10:24:52.405Z"
   },
   {
    "duration": 3806,
    "start_time": "2024-12-25T10:25:17.920Z"
   },
   {
    "duration": 41476,
    "start_time": "2024-12-25T10:25:35.766Z"
   },
   {
    "duration": 262,
    "start_time": "2024-12-25T10:27:56.222Z"
   },
   {
    "duration": 11,
    "start_time": "2024-12-25T10:29:01.865Z"
   },
   {
    "duration": 13,
    "start_time": "2024-12-25T10:29:14.656Z"
   },
   {
    "duration": 999,
    "start_time": "2024-12-25T10:30:23.004Z"
   },
   {
    "duration": 69,
    "start_time": "2024-12-25T10:30:24.005Z"
   },
   {
    "duration": 4,
    "start_time": "2024-12-25T10:30:24.075Z"
   },
   {
    "duration": 60,
    "start_time": "2024-12-25T10:30:24.081Z"
   },
   {
    "duration": 23,
    "start_time": "2024-12-25T10:30:24.143Z"
   },
   {
    "duration": 9,
    "start_time": "2024-12-25T10:30:24.167Z"
   },
   {
    "duration": 16,
    "start_time": "2024-12-25T10:30:24.178Z"
   },
   {
    "duration": 15,
    "start_time": "2024-12-25T10:30:24.196Z"
   },
   {
    "duration": 889,
    "start_time": "2024-12-25T10:30:24.213Z"
   },
   {
    "duration": 7,
    "start_time": "2024-12-25T10:30:25.104Z"
   },
   {
    "duration": 4,
    "start_time": "2024-12-25T10:30:25.112Z"
   },
   {
    "duration": 322,
    "start_time": "2024-12-25T10:30:25.117Z"
   },
   {
    "duration": 18,
    "start_time": "2024-12-25T10:30:25.441Z"
   },
   {
    "duration": 295,
    "start_time": "2024-12-25T10:30:25.460Z"
   },
   {
    "duration": 18,
    "start_time": "2024-12-25T10:30:25.757Z"
   },
   {
    "duration": 22,
    "start_time": "2024-12-25T10:30:25.777Z"
   },
   {
    "duration": 154,
    "start_time": "2024-12-25T10:30:25.800Z"
   },
   {
    "duration": 9,
    "start_time": "2024-12-25T10:30:25.955Z"
   },
   {
    "duration": 13,
    "start_time": "2024-12-25T10:30:25.965Z"
   },
   {
    "duration": 29,
    "start_time": "2024-12-25T10:30:25.979Z"
   },
   {
    "duration": 8,
    "start_time": "2024-12-25T10:30:26.009Z"
   },
   {
    "duration": 263,
    "start_time": "2024-12-25T10:30:26.019Z"
   },
   {
    "duration": 195,
    "start_time": "2024-12-25T10:30:26.285Z"
   },
   {
    "duration": 141,
    "start_time": "2024-12-25T10:30:26.482Z"
   },
   {
    "duration": 212,
    "start_time": "2024-12-25T10:30:26.624Z"
   },
   {
    "duration": 168,
    "start_time": "2024-12-25T10:30:26.838Z"
   },
   {
    "duration": 142,
    "start_time": "2024-12-25T10:30:27.007Z"
   },
   {
    "duration": 14,
    "start_time": "2024-12-25T10:30:27.150Z"
   },
   {
    "duration": 203,
    "start_time": "2024-12-25T10:30:27.165Z"
   },
   {
    "duration": 185,
    "start_time": "2024-12-25T10:30:47.719Z"
   },
   {
    "duration": 11,
    "start_time": "2024-12-25T10:31:52.885Z"
   },
   {
    "duration": 89,
    "start_time": "2024-12-25T10:32:10.340Z"
   },
   {
    "duration": 1287,
    "start_time": "2024-12-26T07:34:32.234Z"
   },
   {
    "duration": 125,
    "start_time": "2024-12-26T07:34:33.523Z"
   },
   {
    "duration": 5,
    "start_time": "2024-12-26T07:34:33.650Z"
   },
   {
    "duration": 32,
    "start_time": "2024-12-26T07:34:33.656Z"
   },
   {
    "duration": 17,
    "start_time": "2024-12-26T07:34:33.690Z"
   },
   {
    "duration": 10,
    "start_time": "2024-12-26T07:34:33.709Z"
   },
   {
    "duration": 46,
    "start_time": "2024-12-26T07:34:33.720Z"
   },
   {
    "duration": 17,
    "start_time": "2024-12-26T07:34:33.767Z"
   },
   {
    "duration": 986,
    "start_time": "2024-12-26T07:34:33.785Z"
   },
   {
    "duration": 7,
    "start_time": "2024-12-26T07:34:34.773Z"
   },
   {
    "duration": 10,
    "start_time": "2024-12-26T07:34:34.782Z"
   },
   {
    "duration": 338,
    "start_time": "2024-12-26T07:34:34.793Z"
   },
   {
    "duration": 13,
    "start_time": "2024-12-26T07:34:35.133Z"
   },
   {
    "duration": 323,
    "start_time": "2024-12-26T07:34:35.149Z"
   },
   {
    "duration": 19,
    "start_time": "2024-12-26T07:34:35.473Z"
   },
   {
    "duration": 19,
    "start_time": "2024-12-26T07:34:35.494Z"
   },
   {
    "duration": 221,
    "start_time": "2024-12-26T07:34:35.515Z"
   },
   {
    "duration": 11,
    "start_time": "2024-12-26T07:34:35.737Z"
   },
   {
    "duration": 42,
    "start_time": "2024-12-26T07:34:35.750Z"
   },
   {
    "duration": 63,
    "start_time": "2024-12-26T07:34:35.793Z"
   },
   {
    "duration": 7,
    "start_time": "2024-12-26T07:34:35.858Z"
   },
   {
    "duration": 271,
    "start_time": "2024-12-26T07:34:35.866Z"
   },
   {
    "duration": 208,
    "start_time": "2024-12-26T07:34:36.139Z"
   },
   {
    "duration": 148,
    "start_time": "2024-12-26T07:34:36.349Z"
   },
   {
    "duration": 225,
    "start_time": "2024-12-26T07:34:36.499Z"
   },
   {
    "duration": 149,
    "start_time": "2024-12-26T07:34:36.730Z"
   },
   {
    "duration": 149,
    "start_time": "2024-12-26T07:34:36.881Z"
   },
   {
    "duration": 15,
    "start_time": "2024-12-26T07:34:37.031Z"
   },
   {
    "duration": 226,
    "start_time": "2024-12-26T07:34:37.048Z"
   },
   {
    "duration": 102,
    "start_time": "2024-12-26T07:34:37.276Z"
   },
   {
    "duration": 15,
    "start_time": "2024-12-26T07:44:22.112Z"
   },
   {
    "duration": 16,
    "start_time": "2024-12-26T07:44:46.413Z"
   },
   {
    "duration": 108,
    "start_time": "2024-12-26T07:44:57.205Z"
   },
   {
    "duration": 164,
    "start_time": "2024-12-26T07:45:04.236Z"
   },
   {
    "duration": 16,
    "start_time": "2024-12-26T07:46:46.963Z"
   },
   {
    "duration": 17,
    "start_time": "2024-12-26T07:47:52.633Z"
   },
   {
    "duration": 11,
    "start_time": "2024-12-26T07:48:23.369Z"
   },
   {
    "duration": 16,
    "start_time": "2024-12-26T07:49:25.639Z"
   },
   {
    "duration": 3,
    "start_time": "2024-12-26T07:50:43.366Z"
   },
   {
    "duration": 4,
    "start_time": "2024-12-26T07:50:52.382Z"
   },
   {
    "duration": 9,
    "start_time": "2024-12-26T07:51:47.539Z"
   },
   {
    "duration": 10,
    "start_time": "2024-12-26T07:52:05.898Z"
   },
   {
    "duration": 5,
    "start_time": "2024-12-26T07:52:21.955Z"
   },
   {
    "duration": 4,
    "start_time": "2024-12-26T07:53:27.417Z"
   },
   {
    "duration": 4,
    "start_time": "2024-12-26T07:56:25.686Z"
   },
   {
    "duration": 10,
    "start_time": "2024-12-26T07:56:36.069Z"
   },
   {
    "duration": 4,
    "start_time": "2024-12-26T07:57:05.693Z"
   },
   {
    "duration": 11,
    "start_time": "2024-12-26T07:57:10.224Z"
   },
   {
    "duration": 5,
    "start_time": "2024-12-26T07:58:13.387Z"
   },
   {
    "duration": 8,
    "start_time": "2024-12-26T07:59:02.114Z"
   },
   {
    "duration": 12,
    "start_time": "2024-12-26T07:59:06.154Z"
   },
   {
    "duration": 7,
    "start_time": "2024-12-26T08:01:43.744Z"
   },
   {
    "duration": 84,
    "start_time": "2024-12-26T08:02:30.709Z"
   },
   {
    "duration": 5,
    "start_time": "2024-12-26T08:03:43.516Z"
   },
   {
    "duration": 86,
    "start_time": "2024-12-26T08:03:45.139Z"
   },
   {
    "duration": 13,
    "start_time": "2024-12-26T08:04:00.643Z"
   },
   {
    "duration": 83,
    "start_time": "2024-12-26T08:04:40.835Z"
   },
   {
    "duration": 89,
    "start_time": "2024-12-26T08:06:13.840Z"
   },
   {
    "duration": 83,
    "start_time": "2024-12-26T08:06:49.264Z"
   },
   {
    "duration": 10,
    "start_time": "2024-12-26T08:11:17.691Z"
   },
   {
    "duration": 17,
    "start_time": "2024-12-26T08:12:47.144Z"
   },
   {
    "duration": 9,
    "start_time": "2024-12-26T08:14:33.342Z"
   },
   {
    "duration": 4,
    "start_time": "2024-12-26T08:14:42.725Z"
   },
   {
    "duration": 5,
    "start_time": "2024-12-26T08:14:54.110Z"
   },
   {
    "duration": 11,
    "start_time": "2024-12-27T08:30:34.778Z"
   },
   {
    "duration": 13,
    "start_time": "2024-12-27T08:31:01.640Z"
   },
   {
    "duration": 132,
    "start_time": "2024-12-27T08:35:21.738Z"
   },
   {
    "duration": 109,
    "start_time": "2024-12-27T08:36:39.558Z"
   },
   {
    "duration": 164,
    "start_time": "2024-12-27T08:38:30.089Z"
   },
   {
    "duration": 12,
    "start_time": "2024-12-27T09:03:28.302Z"
   },
   {
    "duration": 5,
    "start_time": "2024-12-27T09:04:08.645Z"
   },
   {
    "duration": 11,
    "start_time": "2024-12-27T09:09:09.280Z"
   },
   {
    "duration": 5,
    "start_time": "2024-12-27T09:11:44.772Z"
   },
   {
    "duration": 216,
    "start_time": "2024-12-30T12:37:39.784Z"
   },
   {
    "duration": 10,
    "start_time": "2024-12-30T12:46:30.965Z"
   },
   {
    "duration": 9,
    "start_time": "2024-12-30T12:52:37.670Z"
   },
   {
    "duration": 9,
    "start_time": "2024-12-30T12:53:24.557Z"
   },
   {
    "duration": 19,
    "start_time": "2024-12-30T12:54:37.413Z"
   },
   {
    "duration": 4,
    "start_time": "2024-12-30T13:16:50.471Z"
   },
   {
    "duration": 5,
    "start_time": "2024-12-30T13:17:33.454Z"
   },
   {
    "duration": 1189,
    "start_time": "2024-12-30T13:20:25.015Z"
   },
   {
    "duration": 72,
    "start_time": "2024-12-30T13:20:26.206Z"
   },
   {
    "duration": 4,
    "start_time": "2024-12-30T13:20:26.280Z"
   },
   {
    "duration": 22,
    "start_time": "2024-12-30T13:20:26.286Z"
   },
   {
    "duration": 19,
    "start_time": "2024-12-30T13:20:26.310Z"
   },
   {
    "duration": 18,
    "start_time": "2024-12-30T13:20:26.331Z"
   },
   {
    "duration": 10,
    "start_time": "2024-12-30T13:20:26.350Z"
   },
   {
    "duration": 43,
    "start_time": "2024-12-30T13:20:26.362Z"
   },
   {
    "duration": 12,
    "start_time": "2024-12-30T13:20:26.407Z"
   },
   {
    "duration": 897,
    "start_time": "2024-12-30T13:20:26.421Z"
   },
   {
    "duration": 11,
    "start_time": "2024-12-30T13:20:27.319Z"
   },
   {
    "duration": 5,
    "start_time": "2024-12-30T13:20:27.332Z"
   },
   {
    "duration": 320,
    "start_time": "2024-12-30T13:20:27.338Z"
   },
   {
    "duration": 16,
    "start_time": "2024-12-30T13:20:27.661Z"
   },
   {
    "duration": 4,
    "start_time": "2024-12-30T13:20:27.679Z"
   },
   {
    "duration": 17,
    "start_time": "2024-12-30T13:20:27.684Z"
   },
   {
    "duration": 329,
    "start_time": "2024-12-30T13:20:27.702Z"
   },
   {
    "duration": 19,
    "start_time": "2024-12-30T13:20:28.033Z"
   },
   {
    "duration": 5,
    "start_time": "2024-12-30T13:20:28.054Z"
   },
   {
    "duration": 179,
    "start_time": "2024-12-30T13:20:28.060Z"
   },
   {
    "duration": 10,
    "start_time": "2024-12-30T13:20:28.240Z"
   },
   {
    "duration": 33,
    "start_time": "2024-12-30T13:20:28.252Z"
   },
   {
    "duration": 35,
    "start_time": "2024-12-30T13:20:28.286Z"
   },
   {
    "duration": 13,
    "start_time": "2024-12-30T13:20:28.323Z"
   },
   {
    "duration": 269,
    "start_time": "2024-12-30T13:20:28.337Z"
   },
   {
    "duration": 213,
    "start_time": "2024-12-30T13:20:28.608Z"
   },
   {
    "duration": 153,
    "start_time": "2024-12-30T13:20:28.823Z"
   },
   {
    "duration": 10,
    "start_time": "2024-12-30T13:20:28.977Z"
   },
   {
    "duration": 33,
    "start_time": "2024-12-30T13:20:28.988Z"
   },
   {
    "duration": 286,
    "start_time": "2024-12-30T13:20:29.022Z"
   },
   {
    "duration": 106,
    "start_time": "2024-12-30T13:20:29.309Z"
   },
   {
    "duration": 13,
    "start_time": "2024-12-30T13:20:29.417Z"
   },
   {
    "duration": 26,
    "start_time": "2024-12-30T13:20:29.432Z"
   },
   {
    "duration": 6,
    "start_time": "2024-12-30T13:20:29.460Z"
   },
   {
    "duration": 94,
    "start_time": "2024-12-30T13:20:29.468Z"
   },
   {
    "duration": 93,
    "start_time": "2024-12-30T13:20:29.564Z"
   },
   {
    "duration": 96,
    "start_time": "2024-12-30T13:20:29.659Z"
   },
   {
    "duration": 18,
    "start_time": "2024-12-30T13:20:29.756Z"
   },
   {
    "duration": 9,
    "start_time": "2024-12-30T13:20:29.775Z"
   },
   {
    "duration": 176,
    "start_time": "2024-12-30T13:20:29.786Z"
   },
   {
    "duration": 10,
    "start_time": "2024-12-30T13:20:29.966Z"
   },
   {
    "duration": 14,
    "start_time": "2024-12-30T13:20:29.978Z"
   },
   {
    "duration": 17,
    "start_time": "2024-12-30T13:20:29.994Z"
   },
   {
    "duration": 37,
    "start_time": "2024-12-30T13:20:30.012Z"
   },
   {
    "duration": 51,
    "start_time": "2025-01-03T11:37:24.410Z"
   },
   {
    "duration": 1341,
    "start_time": "2025-01-03T11:37:34.733Z"
   },
   {
    "duration": 124,
    "start_time": "2025-01-03T11:37:36.076Z"
   },
   {
    "duration": 5,
    "start_time": "2025-01-03T11:37:36.201Z"
   },
   {
    "duration": 24,
    "start_time": "2025-01-03T11:37:36.208Z"
   },
   {
    "duration": 46,
    "start_time": "2025-01-03T11:37:36.234Z"
   },
   {
    "duration": 10,
    "start_time": "2025-01-03T11:37:36.281Z"
   },
   {
    "duration": 25,
    "start_time": "2025-01-03T11:37:36.292Z"
   },
   {
    "duration": 13,
    "start_time": "2025-01-03T11:37:36.318Z"
   },
   {
    "duration": 992,
    "start_time": "2025-01-03T11:37:36.332Z"
   },
   {
    "duration": 7,
    "start_time": "2025-01-03T11:37:37.327Z"
   },
   {
    "duration": 7,
    "start_time": "2025-01-03T11:37:37.335Z"
   },
   {
    "duration": 348,
    "start_time": "2025-01-03T11:37:37.343Z"
   },
   {
    "duration": 14,
    "start_time": "2025-01-03T11:37:37.693Z"
   },
   {
    "duration": 198,
    "start_time": "2025-01-03T11:37:37.708Z"
   },
   {
    "duration": 20,
    "start_time": "2025-01-03T11:37:37.908Z"
   },
   {
    "duration": 66,
    "start_time": "2025-01-03T11:37:37.929Z"
   },
   {
    "duration": 166,
    "start_time": "2025-01-03T11:37:37.996Z"
   },
   {
    "duration": 10,
    "start_time": "2025-01-03T11:37:38.163Z"
   },
   {
    "duration": 12,
    "start_time": "2025-01-03T11:37:38.175Z"
   },
   {
    "duration": 32,
    "start_time": "2025-01-03T11:37:38.188Z"
   },
   {
    "duration": 6,
    "start_time": "2025-01-03T11:37:38.222Z"
   },
   {
    "duration": 269,
    "start_time": "2025-01-03T11:37:38.230Z"
   },
   {
    "duration": 213,
    "start_time": "2025-01-03T11:37:38.501Z"
   },
   {
    "duration": 157,
    "start_time": "2025-01-03T11:37:38.715Z"
   },
   {
    "duration": 11,
    "start_time": "2025-01-03T11:37:38.873Z"
   },
   {
    "duration": 50,
    "start_time": "2025-01-03T11:37:38.886Z"
   },
   {
    "duration": 203,
    "start_time": "2025-01-03T11:37:38.938Z"
   },
   {
    "duration": 173,
    "start_time": "2025-01-03T11:37:39.145Z"
   },
   {
    "duration": 4,
    "start_time": "2025-01-03T11:37:39.321Z"
   },
   {
    "duration": 12,
    "start_time": "2025-01-03T11:37:39.327Z"
   },
   {
    "duration": 6,
    "start_time": "2025-01-03T11:37:39.341Z"
   },
   {
    "duration": 109,
    "start_time": "2025-01-03T11:37:39.371Z"
   },
   {
    "duration": 99,
    "start_time": "2025-01-03T11:37:39.482Z"
   },
   {
    "duration": 93,
    "start_time": "2025-01-03T11:37:39.583Z"
   },
   {
    "duration": 25,
    "start_time": "2025-01-03T11:37:39.677Z"
   },
   {
    "duration": 106,
    "start_time": "2025-01-03T11:37:39.704Z"
   },
   {
    "duration": 160,
    "start_time": "2025-01-03T11:37:39.812Z"
   },
   {
    "duration": 10,
    "start_time": "2025-01-03T11:37:39.974Z"
   },
   {
    "duration": 44,
    "start_time": "2025-01-03T11:37:39.985Z"
   },
   {
    "duration": 20,
    "start_time": "2025-01-03T11:37:40.031Z"
   },
   {
    "duration": 15,
    "start_time": "2025-01-03T11:37:40.053Z"
   },
   {
    "duration": 14,
    "start_time": "2025-01-03T11:38:09.515Z"
   },
   {
    "duration": 14,
    "start_time": "2025-01-03T11:38:23.052Z"
   },
   {
    "duration": 14,
    "start_time": "2025-01-03T11:38:40.988Z"
   },
   {
    "duration": 18,
    "start_time": "2025-01-03T11:38:56.477Z"
   },
   {
    "duration": 152,
    "start_time": "2025-01-03T11:39:06.051Z"
   },
   {
    "duration": 111,
    "start_time": "2025-01-03T12:22:09.388Z"
   },
   {
    "duration": 34,
    "start_time": "2025-01-03T12:22:50.194Z"
   },
   {
    "duration": 180,
    "start_time": "2025-01-03T13:39:19.718Z"
   },
   {
    "duration": 163,
    "start_time": "2025-01-03T13:41:05.274Z"
   },
   {
    "duration": 146,
    "start_time": "2025-01-03T13:41:43.474Z"
   },
   {
    "duration": 148,
    "start_time": "2025-01-03T13:41:58.914Z"
   },
   {
    "duration": 146,
    "start_time": "2025-01-03T13:42:59.824Z"
   },
   {
    "duration": 5,
    "start_time": "2025-01-03T13:44:29.615Z"
   },
   {
    "duration": 259,
    "start_time": "2025-01-03T13:44:35.823Z"
   },
   {
    "duration": 355,
    "start_time": "2025-01-03T13:45:04.502Z"
   },
   {
    "duration": 211,
    "start_time": "2025-01-03T13:45:43.862Z"
   },
   {
    "duration": 218,
    "start_time": "2025-01-03T13:46:15.798Z"
   },
   {
    "duration": 190,
    "start_time": "2025-01-03T13:47:29.820Z"
   },
   {
    "duration": 186,
    "start_time": "2025-01-03T13:47:45.132Z"
   },
   {
    "duration": 185,
    "start_time": "2025-01-03T13:47:56.663Z"
   },
   {
    "duration": 110,
    "start_time": "2025-01-03T13:50:26.567Z"
   },
   {
    "duration": 106,
    "start_time": "2025-01-03T13:50:37.335Z"
   },
   {
    "duration": 93,
    "start_time": "2025-01-03T13:51:24.590Z"
   },
   {
    "duration": 200,
    "start_time": "2025-01-03T13:52:25.199Z"
   },
   {
    "duration": 100,
    "start_time": "2025-01-03T13:52:40.175Z"
   },
   {
    "duration": 104,
    "start_time": "2025-01-03T13:53:17.690Z"
   },
   {
    "duration": 108,
    "start_time": "2025-01-03T13:53:37.198Z"
   },
   {
    "duration": 167,
    "start_time": "2025-01-03T13:54:27.203Z"
   },
   {
    "duration": 1188,
    "start_time": "2025-01-03T13:55:03.950Z"
   },
   {
    "duration": 73,
    "start_time": "2025-01-03T13:55:05.140Z"
   },
   {
    "duration": 5,
    "start_time": "2025-01-03T13:55:05.214Z"
   },
   {
    "duration": 56,
    "start_time": "2025-01-03T13:55:05.220Z"
   },
   {
    "duration": 61,
    "start_time": "2025-01-03T13:55:05.279Z"
   },
   {
    "duration": 31,
    "start_time": "2025-01-03T13:55:05.341Z"
   },
   {
    "duration": 17,
    "start_time": "2025-01-03T13:55:05.374Z"
   },
   {
    "duration": 10,
    "start_time": "2025-01-03T13:55:05.393Z"
   },
   {
    "duration": 977,
    "start_time": "2025-01-03T13:55:05.404Z"
   },
   {
    "duration": 8,
    "start_time": "2025-01-03T13:55:06.383Z"
   },
   {
    "duration": 27,
    "start_time": "2025-01-03T13:55:06.392Z"
   },
   {
    "duration": 356,
    "start_time": "2025-01-03T13:55:06.421Z"
   },
   {
    "duration": 14,
    "start_time": "2025-01-03T13:55:06.779Z"
   },
   {
    "duration": 252,
    "start_time": "2025-01-03T13:55:06.796Z"
   },
   {
    "duration": 27,
    "start_time": "2025-01-03T13:55:07.050Z"
   },
   {
    "duration": 5,
    "start_time": "2025-01-03T13:55:07.079Z"
   },
   {
    "duration": 175,
    "start_time": "2025-01-03T13:55:07.085Z"
   },
   {
    "duration": 15,
    "start_time": "2025-01-03T13:55:07.262Z"
   },
   {
    "duration": 15,
    "start_time": "2025-01-03T13:55:07.278Z"
   },
   {
    "duration": 32,
    "start_time": "2025-01-03T13:55:07.295Z"
   },
   {
    "duration": 6,
    "start_time": "2025-01-03T13:55:07.329Z"
   },
   {
    "duration": 278,
    "start_time": "2025-01-03T13:55:07.336Z"
   },
   {
    "duration": 234,
    "start_time": "2025-01-03T13:55:07.616Z"
   },
   {
    "duration": 148,
    "start_time": "2025-01-03T13:55:07.851Z"
   },
   {
    "duration": 9,
    "start_time": "2025-01-03T13:55:08.001Z"
   },
   {
    "duration": 83,
    "start_time": "2025-01-03T13:55:08.012Z"
   },
   {
    "duration": 192,
    "start_time": "2025-01-03T13:55:08.096Z"
   },
   {
    "duration": 193,
    "start_time": "2025-01-03T13:55:08.290Z"
   },
   {
    "duration": 4,
    "start_time": "2025-01-03T13:55:08.485Z"
   },
   {
    "duration": 61,
    "start_time": "2025-01-03T13:55:08.490Z"
   },
   {
    "duration": 95,
    "start_time": "2025-01-03T13:55:08.553Z"
   },
   {
    "duration": 115,
    "start_time": "2025-01-03T13:55:08.650Z"
   },
   {
    "duration": 120,
    "start_time": "2025-01-03T13:55:08.770Z"
   },
   {
    "duration": 117,
    "start_time": "2025-01-03T13:55:08.891Z"
   },
   {
    "duration": 17,
    "start_time": "2025-01-03T13:55:09.010Z"
   },
   {
    "duration": 23,
    "start_time": "2025-01-03T13:55:09.029Z"
   },
   {
    "duration": 185,
    "start_time": "2025-01-03T13:55:09.054Z"
   },
   {
    "duration": 9,
    "start_time": "2025-01-03T13:55:09.241Z"
   },
   {
    "duration": 113,
    "start_time": "2025-01-03T13:55:09.252Z"
   },
   {
    "duration": 41,
    "start_time": "2025-01-03T13:55:09.367Z"
   },
   {
    "duration": 25,
    "start_time": "2025-01-03T13:55:09.412Z"
   },
   {
    "duration": 1131,
    "start_time": "2025-01-03T14:23:00.702Z"
   },
   {
    "duration": 123,
    "start_time": "2025-01-03T14:23:01.834Z"
   },
   {
    "duration": 5,
    "start_time": "2025-01-03T14:23:01.959Z"
   },
   {
    "duration": 17,
    "start_time": "2025-01-03T14:23:01.966Z"
   },
   {
    "duration": 18,
    "start_time": "2025-01-03T14:23:01.986Z"
   },
   {
    "duration": 14,
    "start_time": "2025-01-03T14:23:02.006Z"
   },
   {
    "duration": 36,
    "start_time": "2025-01-03T14:23:02.022Z"
   },
   {
    "duration": 86,
    "start_time": "2025-01-03T14:23:02.069Z"
   },
   {
    "duration": 928,
    "start_time": "2025-01-03T14:23:02.157Z"
   },
   {
    "duration": 9,
    "start_time": "2025-01-03T14:23:03.087Z"
   },
   {
    "duration": 21,
    "start_time": "2025-01-03T14:23:03.098Z"
   },
   {
    "duration": 327,
    "start_time": "2025-01-03T14:23:03.121Z"
   },
   {
    "duration": 29,
    "start_time": "2025-01-03T14:23:03.450Z"
   },
   {
    "duration": 267,
    "start_time": "2025-01-03T14:23:03.484Z"
   },
   {
    "duration": 32,
    "start_time": "2025-01-03T14:23:03.753Z"
   },
   {
    "duration": 33,
    "start_time": "2025-01-03T14:23:03.787Z"
   },
   {
    "duration": 179,
    "start_time": "2025-01-03T14:23:03.821Z"
   },
   {
    "duration": 11,
    "start_time": "2025-01-03T14:23:04.002Z"
   },
   {
    "duration": 183,
    "start_time": "2025-01-03T14:23:04.015Z"
   },
   {
    "duration": 53,
    "start_time": "2025-01-03T14:23:04.200Z"
   },
   {
    "duration": 9,
    "start_time": "2025-01-03T14:23:04.255Z"
   },
   {
    "duration": 267,
    "start_time": "2025-01-03T14:23:04.266Z"
   },
   {
    "duration": 230,
    "start_time": "2025-01-03T14:23:04.535Z"
   },
   {
    "duration": 145,
    "start_time": "2025-01-03T14:23:04.769Z"
   },
   {
    "duration": 12,
    "start_time": "2025-01-03T14:23:04.916Z"
   },
   {
    "duration": 44,
    "start_time": "2025-01-03T14:23:04.930Z"
   },
   {
    "duration": 197,
    "start_time": "2025-01-03T14:23:04.976Z"
   },
   {
    "duration": 195,
    "start_time": "2025-01-03T14:23:05.175Z"
   },
   {
    "duration": 5,
    "start_time": "2025-01-03T14:23:05.372Z"
   },
   {
    "duration": 95,
    "start_time": "2025-01-03T14:23:05.379Z"
   },
   {
    "duration": 14,
    "start_time": "2025-01-03T14:23:05.476Z"
   },
   {
    "duration": 126,
    "start_time": "2025-01-03T14:23:05.492Z"
   },
   {
    "duration": 131,
    "start_time": "2025-01-03T14:23:05.620Z"
   },
   {
    "duration": 136,
    "start_time": "2025-01-03T14:23:05.753Z"
   },
   {
    "duration": 16,
    "start_time": "2025-01-03T14:23:05.891Z"
   },
   {
    "duration": 28,
    "start_time": "2025-01-03T14:23:05.909Z"
   },
   {
    "duration": 182,
    "start_time": "2025-01-03T14:23:05.939Z"
   },
   {
    "duration": 11,
    "start_time": "2025-01-03T14:23:06.123Z"
   },
   {
    "duration": 31,
    "start_time": "2025-01-03T14:23:06.135Z"
   },
   {
    "duration": 20,
    "start_time": "2025-01-03T14:23:06.167Z"
   },
   {
    "duration": 11,
    "start_time": "2025-01-03T14:23:06.191Z"
   },
   {
    "duration": 1440,
    "start_time": "2025-01-03T15:31:45.648Z"
   },
   {
    "duration": 1151,
    "start_time": "2025-01-03T15:31:57.897Z"
   },
   {
    "duration": 74,
    "start_time": "2025-01-03T15:31:59.050Z"
   },
   {
    "duration": 6,
    "start_time": "2025-01-03T15:31:59.126Z"
   },
   {
    "duration": 16,
    "start_time": "2025-01-03T15:31:59.134Z"
   },
   {
    "duration": 29,
    "start_time": "2025-01-03T15:31:59.152Z"
   },
   {
    "duration": 9,
    "start_time": "2025-01-03T15:31:59.183Z"
   },
   {
    "duration": 30,
    "start_time": "2025-01-03T15:31:59.193Z"
   },
   {
    "duration": 9,
    "start_time": "2025-01-03T15:31:59.225Z"
   },
   {
    "duration": 946,
    "start_time": "2025-01-03T15:31:59.236Z"
   },
   {
    "duration": 7,
    "start_time": "2025-01-03T15:32:00.185Z"
   },
   {
    "duration": 25,
    "start_time": "2025-01-03T15:32:00.194Z"
   },
   {
    "duration": 1435,
    "start_time": "2025-01-03T15:32:00.221Z"
   },
   {
    "duration": 0,
    "start_time": "2025-01-03T15:32:01.658Z"
   },
   {
    "duration": 0,
    "start_time": "2025-01-03T15:32:01.659Z"
   },
   {
    "duration": 0,
    "start_time": "2025-01-03T15:32:01.660Z"
   },
   {
    "duration": 0,
    "start_time": "2025-01-03T15:32:01.661Z"
   },
   {
    "duration": 0,
    "start_time": "2025-01-03T15:32:01.662Z"
   },
   {
    "duration": 0,
    "start_time": "2025-01-03T15:32:01.671Z"
   },
   {
    "duration": 0,
    "start_time": "2025-01-03T15:32:01.672Z"
   },
   {
    "duration": 0,
    "start_time": "2025-01-03T15:32:01.673Z"
   },
   {
    "duration": 0,
    "start_time": "2025-01-03T15:32:01.674Z"
   },
   {
    "duration": 0,
    "start_time": "2025-01-03T15:32:01.675Z"
   },
   {
    "duration": 0,
    "start_time": "2025-01-03T15:32:01.676Z"
   },
   {
    "duration": 0,
    "start_time": "2025-01-03T15:32:01.677Z"
   },
   {
    "duration": 0,
    "start_time": "2025-01-03T15:32:01.678Z"
   },
   {
    "duration": 0,
    "start_time": "2025-01-03T15:32:01.679Z"
   },
   {
    "duration": 0,
    "start_time": "2025-01-03T15:32:01.680Z"
   },
   {
    "duration": 0,
    "start_time": "2025-01-03T15:32:01.681Z"
   },
   {
    "duration": 0,
    "start_time": "2025-01-03T15:32:01.681Z"
   },
   {
    "duration": 0,
    "start_time": "2025-01-03T15:32:01.682Z"
   },
   {
    "duration": 0,
    "start_time": "2025-01-03T15:32:01.683Z"
   },
   {
    "duration": 0,
    "start_time": "2025-01-03T15:32:01.684Z"
   },
   {
    "duration": 0,
    "start_time": "2025-01-03T15:32:01.685Z"
   },
   {
    "duration": 0,
    "start_time": "2025-01-03T15:32:01.686Z"
   },
   {
    "duration": 0,
    "start_time": "2025-01-03T15:32:01.687Z"
   },
   {
    "duration": 0,
    "start_time": "2025-01-03T15:32:01.688Z"
   },
   {
    "duration": 0,
    "start_time": "2025-01-03T15:32:01.689Z"
   },
   {
    "duration": 0,
    "start_time": "2025-01-03T15:32:01.690Z"
   },
   {
    "duration": 0,
    "start_time": "2025-01-03T15:32:01.691Z"
   },
   {
    "duration": 0,
    "start_time": "2025-01-03T15:32:01.691Z"
   },
   {
    "duration": 0,
    "start_time": "2025-01-03T15:32:01.692Z"
   },
   {
    "duration": 0,
    "start_time": "2025-01-03T15:32:01.693Z"
   },
   {
    "duration": 117,
    "start_time": "2025-01-03T15:32:38.364Z"
   },
   {
    "duration": 1155,
    "start_time": "2025-01-03T15:32:48.283Z"
   },
   {
    "duration": 73,
    "start_time": "2025-01-03T15:32:49.440Z"
   },
   {
    "duration": 5,
    "start_time": "2025-01-03T15:32:49.514Z"
   },
   {
    "duration": 28,
    "start_time": "2025-01-03T15:32:49.520Z"
   },
   {
    "duration": 22,
    "start_time": "2025-01-03T15:32:49.549Z"
   },
   {
    "duration": 13,
    "start_time": "2025-01-03T15:32:49.573Z"
   },
   {
    "duration": 56,
    "start_time": "2025-01-03T15:32:49.588Z"
   },
   {
    "duration": 10,
    "start_time": "2025-01-03T15:32:49.645Z"
   },
   {
    "duration": 971,
    "start_time": "2025-01-03T15:32:49.656Z"
   },
   {
    "duration": 7,
    "start_time": "2025-01-03T15:32:50.630Z"
   },
   {
    "duration": 56,
    "start_time": "2025-01-03T15:32:50.639Z"
   },
   {
    "duration": 135,
    "start_time": "2025-01-03T15:32:50.697Z"
   },
   {
    "duration": 342,
    "start_time": "2025-01-03T15:32:50.834Z"
   },
   {
    "duration": 15,
    "start_time": "2025-01-03T15:32:51.178Z"
   },
   {
    "duration": 262,
    "start_time": "2025-01-03T15:32:51.194Z"
   },
   {
    "duration": 24,
    "start_time": "2025-01-03T15:32:51.457Z"
   },
   {
    "duration": 5,
    "start_time": "2025-01-03T15:32:51.482Z"
   },
   {
    "duration": 173,
    "start_time": "2025-01-03T15:32:51.488Z"
   },
   {
    "duration": 10,
    "start_time": "2025-01-03T15:32:51.670Z"
   },
   {
    "duration": 105,
    "start_time": "2025-01-03T15:32:51.681Z"
   },
   {
    "duration": 34,
    "start_time": "2025-01-03T15:32:51.788Z"
   },
   {
    "duration": 7,
    "start_time": "2025-01-03T15:32:51.823Z"
   },
   {
    "duration": 272,
    "start_time": "2025-01-03T15:32:51.831Z"
   },
   {
    "duration": 228,
    "start_time": "2025-01-03T15:32:52.105Z"
   },
   {
    "duration": 155,
    "start_time": "2025-01-03T15:32:52.334Z"
   },
   {
    "duration": 10,
    "start_time": "2025-01-03T15:32:52.491Z"
   },
   {
    "duration": 19,
    "start_time": "2025-01-03T15:32:52.502Z"
   },
   {
    "duration": 210,
    "start_time": "2025-01-03T15:32:52.524Z"
   },
   {
    "duration": 353,
    "start_time": "2025-01-03T15:32:52.736Z"
   },
   {
    "duration": 4,
    "start_time": "2025-01-03T15:32:53.090Z"
   },
   {
    "duration": 21,
    "start_time": "2025-01-03T15:32:53.096Z"
   },
   {
    "duration": 54,
    "start_time": "2025-01-03T15:32:53.118Z"
   },
   {
    "duration": 208,
    "start_time": "2025-01-03T15:32:53.173Z"
   },
   {
    "duration": 215,
    "start_time": "2025-01-03T15:32:53.383Z"
   },
   {
    "duration": 206,
    "start_time": "2025-01-03T15:32:53.600Z"
   },
   {
    "duration": 70,
    "start_time": "2025-01-03T15:32:53.807Z"
   },
   {
    "duration": 9,
    "start_time": "2025-01-03T15:32:53.879Z"
   },
   {
    "duration": 396,
    "start_time": "2025-01-03T15:32:53.889Z"
   },
   {
    "duration": 11,
    "start_time": "2025-01-03T15:32:54.287Z"
   },
   {
    "duration": 45,
    "start_time": "2025-01-03T15:32:54.300Z"
   },
   {
    "duration": 14,
    "start_time": "2025-01-03T15:32:54.347Z"
   },
   {
    "duration": 5,
    "start_time": "2025-01-03T15:32:54.363Z"
   },
   {
    "duration": 108,
    "start_time": "2025-01-03T15:36:34.771Z"
   },
   {
    "duration": 25,
    "start_time": "2025-01-03T15:36:41.576Z"
   },
   {
    "duration": 1147,
    "start_time": "2025-01-03T15:37:07.405Z"
   },
   {
    "duration": 81,
    "start_time": "2025-01-03T15:37:08.554Z"
   },
   {
    "duration": 6,
    "start_time": "2025-01-03T15:37:08.637Z"
   },
   {
    "duration": 87,
    "start_time": "2025-01-03T15:37:08.645Z"
   },
   {
    "duration": 24,
    "start_time": "2025-01-03T15:37:08.735Z"
   },
   {
    "duration": 15,
    "start_time": "2025-01-03T15:37:08.761Z"
   },
   {
    "duration": 22,
    "start_time": "2025-01-03T15:37:08.778Z"
   },
   {
    "duration": 9,
    "start_time": "2025-01-03T15:37:08.802Z"
   },
   {
    "duration": 1691,
    "start_time": "2025-01-03T15:37:08.812Z"
   },
   {
    "duration": 11,
    "start_time": "2025-01-03T15:37:10.505Z"
   },
   {
    "duration": 7,
    "start_time": "2025-01-03T15:37:10.571Z"
   },
   {
    "duration": 331,
    "start_time": "2025-01-03T15:37:10.580Z"
   },
   {
    "duration": 417,
    "start_time": "2025-01-03T15:37:10.912Z"
   },
   {
    "duration": 14,
    "start_time": "2025-01-03T15:37:11.332Z"
   },
   {
    "duration": 266,
    "start_time": "2025-01-03T15:37:11.348Z"
   },
   {
    "duration": 20,
    "start_time": "2025-01-03T15:37:11.615Z"
   },
   {
    "duration": 48,
    "start_time": "2025-01-03T15:37:11.637Z"
   },
   {
    "duration": 5,
    "start_time": "2025-01-03T15:37:11.686Z"
   },
   {
    "duration": 249,
    "start_time": "2025-01-03T15:37:11.693Z"
   },
   {
    "duration": 10,
    "start_time": "2025-01-03T15:37:11.944Z"
   },
   {
    "duration": 23,
    "start_time": "2025-01-03T15:37:11.956Z"
   },
   {
    "duration": 74,
    "start_time": "2025-01-03T15:37:11.981Z"
   },
   {
    "duration": 7,
    "start_time": "2025-01-03T15:37:12.057Z"
   },
   {
    "duration": 272,
    "start_time": "2025-01-03T15:37:12.066Z"
   },
   {
    "duration": 240,
    "start_time": "2025-01-03T15:37:12.340Z"
   },
   {
    "duration": 157,
    "start_time": "2025-01-03T15:37:12.582Z"
   },
   {
    "duration": 9,
    "start_time": "2025-01-03T15:37:12.741Z"
   },
   {
    "duration": 44,
    "start_time": "2025-01-03T15:37:12.752Z"
   },
   {
    "duration": 192,
    "start_time": "2025-01-03T15:37:12.797Z"
   },
   {
    "duration": 206,
    "start_time": "2025-01-03T15:37:12.990Z"
   },
   {
    "duration": 6,
    "start_time": "2025-01-03T15:37:13.198Z"
   },
   {
    "duration": 15,
    "start_time": "2025-01-03T15:37:13.205Z"
   },
   {
    "duration": 9,
    "start_time": "2025-01-03T15:37:13.221Z"
   },
   {
    "duration": 118,
    "start_time": "2025-01-03T15:37:13.232Z"
   },
   {
    "duration": 122,
    "start_time": "2025-01-03T15:37:13.351Z"
   },
   {
    "duration": 120,
    "start_time": "2025-01-03T15:37:13.475Z"
   },
   {
    "duration": 16,
    "start_time": "2025-01-03T15:37:13.597Z"
   },
   {
    "duration": 18,
    "start_time": "2025-01-03T15:37:13.615Z"
   },
   {
    "duration": 196,
    "start_time": "2025-01-03T15:37:13.635Z"
   },
   {
    "duration": 11,
    "start_time": "2025-01-03T15:37:13.834Z"
   },
   {
    "duration": 5,
    "start_time": "2025-01-03T15:37:13.849Z"
   },
   {
    "duration": 14,
    "start_time": "2025-01-03T15:37:13.871Z"
   },
   {
    "duration": 7,
    "start_time": "2025-01-03T15:37:13.887Z"
   },
   {
    "duration": 24,
    "start_time": "2025-01-03T15:40:27.195Z"
   },
   {
    "duration": 7,
    "start_time": "2025-01-03T15:40:44.249Z"
   },
   {
    "duration": 4,
    "start_time": "2025-01-03T16:03:17.700Z"
   },
   {
    "duration": 5,
    "start_time": "2025-01-03T16:03:47.192Z"
   },
   {
    "duration": 51,
    "start_time": "2025-01-04T12:41:26.697Z"
   },
   {
    "duration": 1345,
    "start_time": "2025-01-04T12:41:37.575Z"
   },
   {
    "duration": 122,
    "start_time": "2025-01-04T12:41:38.922Z"
   },
   {
    "duration": 5,
    "start_time": "2025-01-04T12:41:39.047Z"
   },
   {
    "duration": 17,
    "start_time": "2025-01-04T12:41:39.054Z"
   },
   {
    "duration": 18,
    "start_time": "2025-01-04T12:41:39.074Z"
   },
   {
    "duration": 1500,
    "start_time": "2025-01-04T12:41:39.094Z"
   },
   {
    "duration": 0,
    "start_time": "2025-01-04T12:41:40.597Z"
   },
   {
    "duration": 0,
    "start_time": "2025-01-04T12:41:40.598Z"
   },
   {
    "duration": 0,
    "start_time": "2025-01-04T12:41:40.599Z"
   },
   {
    "duration": 0,
    "start_time": "2025-01-04T12:41:40.600Z"
   },
   {
    "duration": 0,
    "start_time": "2025-01-04T12:41:40.601Z"
   },
   {
    "duration": 0,
    "start_time": "2025-01-04T12:41:40.602Z"
   },
   {
    "duration": 0,
    "start_time": "2025-01-04T12:41:40.603Z"
   },
   {
    "duration": 0,
    "start_time": "2025-01-04T12:41:40.604Z"
   },
   {
    "duration": 0,
    "start_time": "2025-01-04T12:41:40.606Z"
   },
   {
    "duration": 0,
    "start_time": "2025-01-04T12:41:40.606Z"
   },
   {
    "duration": 0,
    "start_time": "2025-01-04T12:41:40.607Z"
   },
   {
    "duration": 0,
    "start_time": "2025-01-04T12:41:40.608Z"
   },
   {
    "duration": 0,
    "start_time": "2025-01-04T12:41:40.609Z"
   },
   {
    "duration": 0,
    "start_time": "2025-01-04T12:41:40.610Z"
   },
   {
    "duration": 0,
    "start_time": "2025-01-04T12:41:40.611Z"
   },
   {
    "duration": 0,
    "start_time": "2025-01-04T12:41:40.612Z"
   },
   {
    "duration": 0,
    "start_time": "2025-01-04T12:41:40.613Z"
   },
   {
    "duration": 0,
    "start_time": "2025-01-04T12:41:40.614Z"
   },
   {
    "duration": 0,
    "start_time": "2025-01-04T12:41:40.615Z"
   },
   {
    "duration": 0,
    "start_time": "2025-01-04T12:41:40.616Z"
   },
   {
    "duration": 0,
    "start_time": "2025-01-04T12:41:40.618Z"
   },
   {
    "duration": 0,
    "start_time": "2025-01-04T12:41:40.618Z"
   },
   {
    "duration": 0,
    "start_time": "2025-01-04T12:41:40.619Z"
   },
   {
    "duration": 0,
    "start_time": "2025-01-04T12:41:40.620Z"
   },
   {
    "duration": 0,
    "start_time": "2025-01-04T12:41:40.621Z"
   },
   {
    "duration": 0,
    "start_time": "2025-01-04T12:41:40.622Z"
   },
   {
    "duration": 0,
    "start_time": "2025-01-04T12:41:40.624Z"
   },
   {
    "duration": 0,
    "start_time": "2025-01-04T12:41:40.625Z"
   },
   {
    "duration": 0,
    "start_time": "2025-01-04T12:41:40.626Z"
   },
   {
    "duration": 0,
    "start_time": "2025-01-04T12:41:40.626Z"
   },
   {
    "duration": 0,
    "start_time": "2025-01-04T12:41:40.627Z"
   },
   {
    "duration": 0,
    "start_time": "2025-01-04T12:41:40.628Z"
   },
   {
    "duration": 0,
    "start_time": "2025-01-04T12:41:40.629Z"
   },
   {
    "duration": 0,
    "start_time": "2025-01-04T12:41:40.630Z"
   },
   {
    "duration": 0,
    "start_time": "2025-01-04T12:41:40.631Z"
   },
   {
    "duration": 0,
    "start_time": "2025-01-04T12:41:40.636Z"
   },
   {
    "duration": 0,
    "start_time": "2025-01-04T12:41:40.638Z"
   },
   {
    "duration": 0,
    "start_time": "2025-01-04T12:41:40.639Z"
   },
   {
    "duration": 0,
    "start_time": "2025-01-04T12:41:40.640Z"
   },
   {
    "duration": 0,
    "start_time": "2025-01-04T12:41:40.641Z"
   },
   {
    "duration": 12,
    "start_time": "2025-01-04T12:42:22.245Z"
   },
   {
    "duration": 24,
    "start_time": "2025-01-04T12:44:02.260Z"
   },
   {
    "duration": 39,
    "start_time": "2025-01-04T12:44:47.169Z"
   },
   {
    "duration": 10,
    "start_time": "2025-01-04T12:50:36.811Z"
   },
   {
    "duration": 31,
    "start_time": "2025-01-04T12:52:04.009Z"
   },
   {
    "duration": 15,
    "start_time": "2025-01-04T12:55:28.252Z"
   },
   {
    "duration": 16,
    "start_time": "2025-01-04T12:55:31.212Z"
   },
   {
    "duration": 905,
    "start_time": "2025-01-04T12:57:45.595Z"
   },
   {
    "duration": 81,
    "start_time": "2025-01-04T13:03:09.802Z"
   },
   {
    "duration": 5,
    "start_time": "2025-01-04T13:03:23.665Z"
   },
   {
    "duration": 18,
    "start_time": "2025-01-04T13:10:03.939Z"
   },
   {
    "duration": 355,
    "start_time": "2025-01-04T13:18:58.248Z"
   },
   {
    "duration": 15,
    "start_time": "2025-01-04T13:19:07.277Z"
   },
   {
    "duration": 4,
    "start_time": "2025-01-04T13:21:52.203Z"
   },
   {
    "duration": 95,
    "start_time": "2025-01-04T13:23:20.369Z"
   },
   {
    "duration": 264,
    "start_time": "2025-01-04T13:23:48.208Z"
   },
   {
    "duration": 20,
    "start_time": "2025-01-04T13:24:04.720Z"
   },
   {
    "duration": 18,
    "start_time": "2025-01-04T13:24:31.199Z"
   },
   {
    "duration": 19,
    "start_time": "2025-01-04T13:27:00.245Z"
   },
   {
    "duration": 5,
    "start_time": "2025-01-04T13:37:46.254Z"
   },
   {
    "duration": 150,
    "start_time": "2025-01-04T13:44:11.065Z"
   },
   {
    "duration": 5,
    "start_time": "2025-01-04T13:44:21.286Z"
   },
   {
    "duration": 154,
    "start_time": "2025-01-04T13:44:29.038Z"
   },
   {
    "duration": 10,
    "start_time": "2025-01-04T13:44:39.494Z"
   },
   {
    "duration": 275,
    "start_time": "2025-01-04T13:45:54.548Z"
   },
   {
    "duration": 1142,
    "start_time": "2025-01-04T13:52:09.154Z"
   },
   {
    "duration": 72,
    "start_time": "2025-01-04T13:52:10.298Z"
   },
   {
    "duration": 3,
    "start_time": "2025-01-04T13:52:10.372Z"
   },
   {
    "duration": 28,
    "start_time": "2025-01-04T13:52:10.377Z"
   },
   {
    "duration": 18,
    "start_time": "2025-01-04T13:52:10.407Z"
   },
   {
    "duration": 30,
    "start_time": "2025-01-04T13:52:10.427Z"
   },
   {
    "duration": 11,
    "start_time": "2025-01-04T13:52:10.459Z"
   },
   {
    "duration": 19,
    "start_time": "2025-01-04T13:52:10.472Z"
   },
   {
    "duration": 9,
    "start_time": "2025-01-04T13:52:10.493Z"
   },
   {
    "duration": 907,
    "start_time": "2025-01-04T13:52:10.503Z"
   },
   {
    "duration": 7,
    "start_time": "2025-01-04T13:52:11.412Z"
   },
   {
    "duration": 87,
    "start_time": "2025-01-04T13:52:11.420Z"
   },
   {
    "duration": 115,
    "start_time": "2025-01-04T13:52:11.508Z"
   },
   {
    "duration": 307,
    "start_time": "2025-01-04T13:52:11.636Z"
   },
   {
    "duration": 14,
    "start_time": "2025-01-04T13:52:11.945Z"
   },
   {
    "duration": 242,
    "start_time": "2025-01-04T13:52:11.961Z"
   },
   {
    "duration": 19,
    "start_time": "2025-01-04T13:52:12.204Z"
   },
   {
    "duration": 25,
    "start_time": "2025-01-04T13:52:12.237Z"
   },
   {
    "duration": 4,
    "start_time": "2025-01-04T13:52:12.264Z"
   },
   {
    "duration": 7,
    "start_time": "2025-01-04T13:52:12.269Z"
   },
   {
    "duration": 179,
    "start_time": "2025-01-04T13:52:12.277Z"
   },
   {
    "duration": 10,
    "start_time": "2025-01-04T13:52:12.457Z"
   },
   {
    "duration": 304,
    "start_time": "2025-01-04T13:52:12.470Z"
   },
   {
    "duration": 221,
    "start_time": "2025-01-04T13:52:12.775Z"
   },
   {
    "duration": 144,
    "start_time": "2025-01-04T13:52:12.997Z"
   },
   {
    "duration": 11,
    "start_time": "2025-01-04T13:52:13.143Z"
   },
   {
    "duration": 18,
    "start_time": "2025-01-04T13:52:13.155Z"
   },
   {
    "duration": 214,
    "start_time": "2025-01-04T13:52:13.174Z"
   },
   {
    "duration": 197,
    "start_time": "2025-01-04T13:52:13.390Z"
   },
   {
    "duration": 3,
    "start_time": "2025-01-04T13:52:13.589Z"
   },
   {
    "duration": 12,
    "start_time": "2025-01-04T13:52:13.593Z"
   },
   {
    "duration": 7,
    "start_time": "2025-01-04T13:52:13.606Z"
   },
   {
    "duration": 111,
    "start_time": "2025-01-04T13:52:13.615Z"
   },
   {
    "duration": 117,
    "start_time": "2025-01-04T13:52:13.728Z"
   },
   {
    "duration": 105,
    "start_time": "2025-01-04T13:52:13.847Z"
   },
   {
    "duration": 17,
    "start_time": "2025-01-04T13:52:13.953Z"
   },
   {
    "duration": 8,
    "start_time": "2025-01-04T13:52:13.972Z"
   },
   {
    "duration": 192,
    "start_time": "2025-01-04T13:52:13.982Z"
   },
   {
    "duration": 10,
    "start_time": "2025-01-04T13:52:14.177Z"
   },
   {
    "duration": 11,
    "start_time": "2025-01-04T13:52:14.189Z"
   },
   {
    "duration": 5,
    "start_time": "2025-01-04T13:52:14.204Z"
   },
   {
    "duration": 31,
    "start_time": "2025-01-04T13:52:14.211Z"
   },
   {
    "duration": 5,
    "start_time": "2025-01-04T13:52:14.243Z"
   },
   {
    "duration": 12,
    "start_time": "2025-01-04T13:56:52.585Z"
   },
   {
    "duration": 103,
    "start_time": "2025-01-04T14:01:08.780Z"
   },
   {
    "duration": 9,
    "start_time": "2025-01-04T14:01:53.985Z"
   },
   {
    "duration": 1637,
    "start_time": "2025-01-04T14:02:26.226Z"
   },
   {
    "duration": 12,
    "start_time": "2025-01-04T14:02:35.738Z"
   },
   {
    "duration": 12,
    "start_time": "2025-01-04T14:04:52.360Z"
   },
   {
    "duration": 15,
    "start_time": "2025-01-04T14:04:59.143Z"
   },
   {
    "duration": 16,
    "start_time": "2025-01-04T14:05:33.813Z"
   },
   {
    "duration": 16,
    "start_time": "2025-01-04T14:05:48.409Z"
   },
   {
    "duration": 117,
    "start_time": "2025-01-04T14:17:45.975Z"
   },
   {
    "duration": 118,
    "start_time": "2025-01-04T14:18:45.406Z"
   },
   {
    "duration": 117,
    "start_time": "2025-01-04T14:20:20.157Z"
   },
   {
    "duration": 227,
    "start_time": "2025-01-04T14:21:39.205Z"
   },
   {
    "duration": 119,
    "start_time": "2025-01-04T14:22:33.370Z"
   },
   {
    "duration": 295,
    "start_time": "2025-01-04T14:23:01.466Z"
   },
   {
    "duration": 123,
    "start_time": "2025-01-04T14:23:33.753Z"
   },
   {
    "duration": 225,
    "start_time": "2025-01-04T14:23:46.648Z"
   },
   {
    "duration": 216,
    "start_time": "2025-01-04T14:24:07.664Z"
   },
   {
    "duration": 236,
    "start_time": "2025-01-04T14:24:30.616Z"
   },
   {
    "duration": 230,
    "start_time": "2025-01-04T14:24:47.440Z"
   },
   {
    "duration": 324,
    "start_time": "2025-01-05T07:21:02.817Z"
   },
   {
    "duration": 153,
    "start_time": "2025-01-05T07:32:37.802Z"
   },
   {
    "duration": 150,
    "start_time": "2025-01-05T07:33:11.258Z"
   },
   {
    "duration": 147,
    "start_time": "2025-01-05T07:34:23.111Z"
   },
   {
    "duration": 140,
    "start_time": "2025-01-05T07:34:50.191Z"
   },
   {
    "duration": 140,
    "start_time": "2025-01-05T07:38:42.582Z"
   },
   {
    "duration": 134,
    "start_time": "2025-01-05T07:38:44.925Z"
   },
   {
    "duration": 133,
    "start_time": "2025-01-05T07:44:22.307Z"
   },
   {
    "duration": 6,
    "start_time": "2025-01-05T07:47:26.398Z"
   },
   {
    "duration": 5,
    "start_time": "2025-01-05T07:48:12.240Z"
   },
   {
    "duration": 6,
    "start_time": "2025-01-05T07:48:28.661Z"
   },
   {
    "duration": 6,
    "start_time": "2025-01-05T07:49:05.566Z"
   },
   {
    "duration": 148,
    "start_time": "2025-01-05T07:49:26.580Z"
   },
   {
    "duration": 143,
    "start_time": "2025-01-05T07:49:48.910Z"
   },
   {
    "duration": 217,
    "start_time": "2025-01-05T07:49:55.524Z"
   },
   {
    "duration": 15,
    "start_time": "2025-01-05T07:58:03.315Z"
   },
   {
    "duration": 14,
    "start_time": "2025-01-05T07:58:36.266Z"
   },
   {
    "duration": 18,
    "start_time": "2025-01-05T08:02:11.221Z"
   },
   {
    "duration": 18,
    "start_time": "2025-01-05T08:02:29.494Z"
   },
   {
    "duration": 15,
    "start_time": "2025-01-05T08:02:34.820Z"
   },
   {
    "duration": 13,
    "start_time": "2025-01-05T08:04:29.603Z"
   },
   {
    "duration": 12,
    "start_time": "2025-01-05T08:05:04.224Z"
   },
   {
    "duration": 1580,
    "start_time": "2025-01-05T08:06:34.303Z"
   },
   {
    "duration": 1468,
    "start_time": "2025-01-05T08:07:16.808Z"
   },
   {
    "duration": 3,
    "start_time": "2025-01-05T08:08:10.095Z"
   },
   {
    "duration": 4,
    "start_time": "2025-01-05T08:08:20.045Z"
   },
   {
    "duration": 3,
    "start_time": "2025-01-05T08:08:32.630Z"
   },
   {
    "duration": 446,
    "start_time": "2025-01-05T08:12:27.889Z"
   },
   {
    "duration": 838,
    "start_time": "2025-01-05T08:16:55.663Z"
   },
   {
    "duration": 958,
    "start_time": "2025-01-05T08:18:21.689Z"
   },
   {
    "duration": 871,
    "start_time": "2025-01-05T08:19:00.114Z"
   },
   {
    "duration": 18,
    "start_time": "2025-01-05T08:30:22.386Z"
   },
   {
    "duration": 297,
    "start_time": "2025-01-05T08:30:40.345Z"
   },
   {
    "duration": 198,
    "start_time": "2025-01-05T08:33:16.574Z"
   },
   {
    "duration": 120,
    "start_time": "2025-01-05T08:37:39.569Z"
   },
   {
    "duration": 195,
    "start_time": "2025-01-05T08:38:13.591Z"
   },
   {
    "duration": 15,
    "start_time": "2025-01-05T08:41:52.378Z"
   },
   {
    "duration": 251,
    "start_time": "2025-01-05T08:42:12.042Z"
   },
   {
    "duration": 267,
    "start_time": "2025-01-05T08:44:21.520Z"
   },
   {
    "duration": 125,
    "start_time": "2025-01-05T08:45:15.166Z"
   },
   {
    "duration": 104,
    "start_time": "2025-01-05T08:45:36.230Z"
   },
   {
    "duration": 130,
    "start_time": "2025-01-05T08:46:11.414Z"
   },
   {
    "duration": 381,
    "start_time": "2025-01-05T08:46:37.456Z"
   },
   {
    "duration": 277,
    "start_time": "2025-01-05T08:48:49.121Z"
   },
   {
    "duration": 192,
    "start_time": "2025-01-05T08:58:25.763Z"
   },
   {
    "duration": 223,
    "start_time": "2025-01-05T08:58:52.382Z"
   },
   {
    "duration": 220,
    "start_time": "2025-01-05T09:00:58.082Z"
   },
   {
    "duration": 22,
    "start_time": "2025-01-05T09:15:52.489Z"
   },
   {
    "duration": 29,
    "start_time": "2025-01-05T09:16:16.887Z"
   },
   {
    "duration": 25,
    "start_time": "2025-01-05T09:17:02.991Z"
   },
   {
    "duration": 131,
    "start_time": "2025-01-05T09:17:26.934Z"
   },
   {
    "duration": 532,
    "start_time": "2025-01-05T09:17:54.845Z"
   },
   {
    "duration": 281,
    "start_time": "2025-01-05T09:18:14.948Z"
   },
   {
    "duration": 425,
    "start_time": "2025-01-05T09:21:22.368Z"
   },
   {
    "duration": 84,
    "start_time": "2025-01-08T05:53:44.329Z"
   },
   {
    "duration": 1345,
    "start_time": "2025-01-08T05:55:37.770Z"
   },
   {
    "duration": 126,
    "start_time": "2025-01-08T05:55:39.117Z"
   },
   {
    "duration": 4,
    "start_time": "2025-01-08T05:55:39.245Z"
   },
   {
    "duration": 76,
    "start_time": "2025-01-08T05:55:39.251Z"
   },
   {
    "duration": 16,
    "start_time": "2025-01-08T05:55:39.328Z"
   },
   {
    "duration": 1509,
    "start_time": "2025-01-08T05:55:39.346Z"
   },
   {
    "duration": 0,
    "start_time": "2025-01-08T05:55:40.858Z"
   },
   {
    "duration": 0,
    "start_time": "2025-01-08T05:55:40.859Z"
   },
   {
    "duration": 0,
    "start_time": "2025-01-08T05:55:40.860Z"
   },
   {
    "duration": 0,
    "start_time": "2025-01-08T05:55:40.861Z"
   },
   {
    "duration": 0,
    "start_time": "2025-01-08T05:55:40.862Z"
   },
   {
    "duration": 0,
    "start_time": "2025-01-08T05:55:40.863Z"
   },
   {
    "duration": 0,
    "start_time": "2025-01-08T05:55:40.864Z"
   },
   {
    "duration": 0,
    "start_time": "2025-01-08T05:55:40.865Z"
   },
   {
    "duration": 0,
    "start_time": "2025-01-08T05:55:40.867Z"
   },
   {
    "duration": 1,
    "start_time": "2025-01-08T05:55:40.867Z"
   },
   {
    "duration": 0,
    "start_time": "2025-01-08T05:55:40.868Z"
   },
   {
    "duration": 0,
    "start_time": "2025-01-08T05:55:40.869Z"
   },
   {
    "duration": 0,
    "start_time": "2025-01-08T05:55:40.870Z"
   },
   {
    "duration": 0,
    "start_time": "2025-01-08T05:55:40.871Z"
   },
   {
    "duration": 0,
    "start_time": "2025-01-08T05:55:40.872Z"
   },
   {
    "duration": 0,
    "start_time": "2025-01-08T05:55:40.873Z"
   },
   {
    "duration": 0,
    "start_time": "2025-01-08T05:55:40.875Z"
   },
   {
    "duration": 0,
    "start_time": "2025-01-08T05:55:40.876Z"
   },
   {
    "duration": 0,
    "start_time": "2025-01-08T05:55:40.877Z"
   },
   {
    "duration": 0,
    "start_time": "2025-01-08T05:55:40.878Z"
   },
   {
    "duration": 0,
    "start_time": "2025-01-08T05:55:40.879Z"
   },
   {
    "duration": 0,
    "start_time": "2025-01-08T05:55:40.880Z"
   },
   {
    "duration": 0,
    "start_time": "2025-01-08T05:55:40.881Z"
   },
   {
    "duration": 0,
    "start_time": "2025-01-08T05:55:40.882Z"
   },
   {
    "duration": 0,
    "start_time": "2025-01-08T05:55:40.884Z"
   },
   {
    "duration": 0,
    "start_time": "2025-01-08T05:55:40.885Z"
   },
   {
    "duration": 0,
    "start_time": "2025-01-08T05:55:40.886Z"
   },
   {
    "duration": 0,
    "start_time": "2025-01-08T05:55:40.887Z"
   },
   {
    "duration": 0,
    "start_time": "2025-01-08T05:55:40.888Z"
   },
   {
    "duration": 0,
    "start_time": "2025-01-08T05:55:40.889Z"
   },
   {
    "duration": 0,
    "start_time": "2025-01-08T05:55:40.890Z"
   },
   {
    "duration": 0,
    "start_time": "2025-01-08T05:55:40.891Z"
   },
   {
    "duration": 0,
    "start_time": "2025-01-08T05:55:40.892Z"
   },
   {
    "duration": 0,
    "start_time": "2025-01-08T05:55:40.893Z"
   },
   {
    "duration": 0,
    "start_time": "2025-01-08T05:55:40.937Z"
   },
   {
    "duration": 0,
    "start_time": "2025-01-08T05:55:40.939Z"
   },
   {
    "duration": 0,
    "start_time": "2025-01-08T05:55:40.939Z"
   },
   {
    "duration": 12,
    "start_time": "2025-01-08T05:56:09.386Z"
   },
   {
    "duration": 12,
    "start_time": "2025-01-08T05:56:21.965Z"
   },
   {
    "duration": 34,
    "start_time": "2025-01-08T05:57:11.731Z"
   },
   {
    "duration": 32,
    "start_time": "2025-01-08T05:57:35.227Z"
   },
   {
    "duration": 19,
    "start_time": "2025-01-08T05:57:50.084Z"
   },
   {
    "duration": 1148,
    "start_time": "2025-01-08T05:59:01.963Z"
   },
   {
    "duration": 72,
    "start_time": "2025-01-08T05:59:03.113Z"
   },
   {
    "duration": 6,
    "start_time": "2025-01-08T05:59:03.186Z"
   },
   {
    "duration": 39,
    "start_time": "2025-01-08T05:59:03.193Z"
   },
   {
    "duration": 52,
    "start_time": "2025-01-08T05:59:03.234Z"
   },
   {
    "duration": 44,
    "start_time": "2025-01-08T05:59:03.288Z"
   },
   {
    "duration": 38,
    "start_time": "2025-01-08T05:59:03.334Z"
   },
   {
    "duration": 9,
    "start_time": "2025-01-08T05:59:03.374Z"
   },
   {
    "duration": 913,
    "start_time": "2025-01-08T05:59:03.385Z"
   },
   {
    "duration": 7,
    "start_time": "2025-01-08T05:59:04.301Z"
   },
   {
    "duration": 42,
    "start_time": "2025-01-08T05:59:04.309Z"
   },
   {
    "duration": 106,
    "start_time": "2025-01-08T05:59:04.352Z"
   },
   {
    "duration": 321,
    "start_time": "2025-01-08T05:59:04.460Z"
   },
   {
    "duration": 13,
    "start_time": "2025-01-08T05:59:04.783Z"
   },
   {
    "duration": 255,
    "start_time": "2025-01-08T05:59:04.798Z"
   },
   {
    "duration": 20,
    "start_time": "2025-01-08T05:59:05.055Z"
   },
   {
    "duration": 26,
    "start_time": "2025-01-08T05:59:05.076Z"
   },
   {
    "duration": 5,
    "start_time": "2025-01-08T05:59:05.103Z"
   },
   {
    "duration": 28,
    "start_time": "2025-01-08T05:59:05.109Z"
   },
   {
    "duration": 168,
    "start_time": "2025-01-08T05:59:05.138Z"
   },
   {
    "duration": 6,
    "start_time": "2025-01-08T05:59:05.308Z"
   },
   {
    "duration": 284,
    "start_time": "2025-01-08T05:59:05.316Z"
   },
   {
    "duration": 18,
    "start_time": "2025-01-08T05:59:05.601Z"
   },
   {
    "duration": 260,
    "start_time": "2025-01-08T05:59:05.621Z"
   },
   {
    "duration": 243,
    "start_time": "2025-01-08T05:59:05.882Z"
   },
   {
    "duration": 238,
    "start_time": "2025-01-08T05:59:06.127Z"
   },
   {
    "duration": 160,
    "start_time": "2025-01-08T05:59:06.367Z"
   },
   {
    "duration": 10,
    "start_time": "2025-01-08T05:59:06.530Z"
   },
   {
    "duration": 81,
    "start_time": "2025-01-08T05:59:06.541Z"
   },
   {
    "duration": 884,
    "start_time": "2025-01-08T05:59:06.624Z"
   },
   {
    "duration": 203,
    "start_time": "2025-01-08T05:59:07.510Z"
   },
   {
    "duration": 186,
    "start_time": "2025-01-08T05:59:07.715Z"
   },
   {
    "duration": 360,
    "start_time": "2025-01-08T05:59:07.902Z"
   },
   {
    "duration": 355,
    "start_time": "2025-01-08T05:59:08.265Z"
   },
   {
    "duration": 25,
    "start_time": "2025-01-08T05:59:08.622Z"
   },
   {
    "duration": 35,
    "start_time": "2025-01-08T05:59:08.649Z"
   },
   {
    "duration": 181,
    "start_time": "2025-01-08T05:59:08.686Z"
   },
   {
    "duration": 9,
    "start_time": "2025-01-08T05:59:08.869Z"
   },
   {
    "duration": 5,
    "start_time": "2025-01-08T05:59:08.880Z"
   },
   {
    "duration": 9,
    "start_time": "2025-01-08T05:59:08.886Z"
   },
   {
    "duration": 17,
    "start_time": "2025-01-08T05:59:08.896Z"
   },
   {
    "duration": 24,
    "start_time": "2025-01-08T05:59:08.915Z"
   },
   {
    "duration": 11,
    "start_time": "2025-01-08T05:59:47.178Z"
   },
   {
    "duration": 7,
    "start_time": "2025-01-08T06:00:01.305Z"
   },
   {
    "duration": 5,
    "start_time": "2025-01-08T06:09:06.302Z"
   },
   {
    "duration": 5,
    "start_time": "2025-01-08T06:09:15.646Z"
   },
   {
    "duration": 4,
    "start_time": "2025-01-08T06:09:26.343Z"
   },
   {
    "duration": 17,
    "start_time": "2025-01-08T06:15:04.262Z"
   },
   {
    "duration": 93,
    "start_time": "2025-01-08T06:18:21.389Z"
   },
   {
    "duration": 352,
    "start_time": "2025-01-08T06:18:35.908Z"
   },
   {
    "duration": 324,
    "start_time": "2025-01-08T06:19:05.562Z"
   },
   {
    "duration": 411,
    "start_time": "2025-01-08T06:20:03.017Z"
   },
   {
    "duration": 315,
    "start_time": "2025-01-08T06:21:49.742Z"
   },
   {
    "duration": 164,
    "start_time": "2025-01-08T06:30:28.573Z"
   },
   {
    "duration": 13,
    "start_time": "2025-01-08T06:39:18.065Z"
   },
   {
    "duration": 4,
    "start_time": "2025-01-08T06:41:04.521Z"
   },
   {
    "duration": 10,
    "start_time": "2025-01-08T06:54:11.129Z"
   },
   {
    "duration": 5,
    "start_time": "2025-01-08T06:58:26.213Z"
   },
   {
    "duration": 5,
    "start_time": "2025-01-08T06:58:41.227Z"
   },
   {
    "duration": 5,
    "start_time": "2025-01-08T07:02:17.052Z"
   },
   {
    "duration": 1154,
    "start_time": "2025-01-08T07:37:36.035Z"
   },
   {
    "duration": 71,
    "start_time": "2025-01-08T07:37:37.190Z"
   },
   {
    "duration": 5,
    "start_time": "2025-01-08T07:37:37.262Z"
   },
   {
    "duration": 17,
    "start_time": "2025-01-08T07:37:37.269Z"
   },
   {
    "duration": 28,
    "start_time": "2025-01-08T07:37:37.288Z"
   },
   {
    "duration": 10,
    "start_time": "2025-01-08T07:37:37.318Z"
   },
   {
    "duration": 9,
    "start_time": "2025-01-08T07:37:37.337Z"
   },
   {
    "duration": 21,
    "start_time": "2025-01-08T07:37:37.348Z"
   },
   {
    "duration": 9,
    "start_time": "2025-01-08T07:37:37.370Z"
   },
   {
    "duration": 945,
    "start_time": "2025-01-08T07:37:37.382Z"
   },
   {
    "duration": 11,
    "start_time": "2025-01-08T07:37:38.328Z"
   },
   {
    "duration": 6,
    "start_time": "2025-01-08T07:37:38.340Z"
   },
   {
    "duration": 120,
    "start_time": "2025-01-08T07:37:38.347Z"
   },
   {
    "duration": 321,
    "start_time": "2025-01-08T07:37:38.468Z"
   },
   {
    "duration": 13,
    "start_time": "2025-01-08T07:37:38.791Z"
   },
   {
    "duration": 245,
    "start_time": "2025-01-08T07:37:38.805Z"
   },
   {
    "duration": 18,
    "start_time": "2025-01-08T07:37:39.052Z"
   },
   {
    "duration": 23,
    "start_time": "2025-01-08T07:37:39.072Z"
   },
   {
    "duration": 5,
    "start_time": "2025-01-08T07:37:39.097Z"
   },
   {
    "duration": 24,
    "start_time": "2025-01-08T07:37:39.103Z"
   },
   {
    "duration": 163,
    "start_time": "2025-01-08T07:37:39.137Z"
   },
   {
    "duration": 6,
    "start_time": "2025-01-08T07:37:39.302Z"
   },
   {
    "duration": 286,
    "start_time": "2025-01-08T07:37:39.309Z"
   },
   {
    "duration": 16,
    "start_time": "2025-01-08T07:37:39.596Z"
   },
   {
    "duration": 240,
    "start_time": "2025-01-08T07:37:39.614Z"
   },
   {
    "duration": 249,
    "start_time": "2025-01-08T07:37:39.856Z"
   },
   {
    "duration": 233,
    "start_time": "2025-01-08T07:37:40.107Z"
   },
   {
    "duration": 157,
    "start_time": "2025-01-08T07:37:40.344Z"
   },
   {
    "duration": 5,
    "start_time": "2025-01-08T07:37:40.503Z"
   },
   {
    "duration": 16,
    "start_time": "2025-01-08T07:37:40.510Z"
   },
   {
    "duration": 868,
    "start_time": "2025-01-08T07:37:40.537Z"
   },
   {
    "duration": 207,
    "start_time": "2025-01-08T07:37:41.407Z"
   },
   {
    "duration": 194,
    "start_time": "2025-01-08T07:37:41.616Z"
   },
   {
    "duration": 343,
    "start_time": "2025-01-08T07:37:41.811Z"
   },
   {
    "duration": 321,
    "start_time": "2025-01-08T07:37:42.156Z"
   },
   {
    "duration": 354,
    "start_time": "2025-01-08T07:37:42.478Z"
   },
   {
    "duration": 167,
    "start_time": "2025-01-08T07:37:42.836Z"
   },
   {
    "duration": 10,
    "start_time": "2025-01-08T07:37:43.005Z"
   },
   {
    "duration": 10,
    "start_time": "2025-01-08T07:37:43.016Z"
   },
   {
    "duration": 13,
    "start_time": "2025-01-08T07:37:43.027Z"
   },
   {
    "duration": 26,
    "start_time": "2025-01-08T07:37:43.041Z"
   },
   {
    "duration": 5,
    "start_time": "2025-01-08T07:37:43.068Z"
   },
   {
    "duration": 18,
    "start_time": "2025-01-08T07:38:49.236Z"
   },
   {
    "duration": 15,
    "start_time": "2025-01-08T07:39:09.887Z"
   },
   {
    "duration": 117,
    "start_time": "2025-01-08T07:39:49.220Z"
   },
   {
    "duration": 21,
    "start_time": "2025-01-08T07:39:56.974Z"
   },
   {
    "duration": 16,
    "start_time": "2025-01-08T07:40:33.563Z"
   },
   {
    "duration": 20,
    "start_time": "2025-01-08T07:40:43.925Z"
   },
   {
    "duration": 14,
    "start_time": "2025-01-08T07:41:35.993Z"
   },
   {
    "duration": 18,
    "start_time": "2025-01-08T07:41:46.274Z"
   },
   {
    "duration": 10,
    "start_time": "2025-01-08T07:45:15.422Z"
   },
   {
    "duration": 14,
    "start_time": "2025-01-08T07:45:37.709Z"
   },
   {
    "duration": 30,
    "start_time": "2025-01-08T07:46:53.484Z"
   },
   {
    "duration": 21,
    "start_time": "2025-01-08T07:47:00.316Z"
   },
   {
    "duration": 18,
    "start_time": "2025-01-08T07:48:20.602Z"
   },
   {
    "duration": 22,
    "start_time": "2025-01-08T07:49:03.377Z"
   },
   {
    "duration": 24,
    "start_time": "2025-01-08T07:49:18.450Z"
   },
   {
    "duration": 23,
    "start_time": "2025-01-08T07:49:25.456Z"
   },
   {
    "duration": 23,
    "start_time": "2025-01-08T07:52:30.493Z"
   },
   {
    "duration": 16,
    "start_time": "2025-01-08T07:52:38.310Z"
   },
   {
    "duration": 20,
    "start_time": "2025-01-08T08:04:12.310Z"
   },
   {
    "duration": 1109,
    "start_time": "2025-01-08T08:04:34.692Z"
   },
   {
    "duration": 73,
    "start_time": "2025-01-08T08:04:35.803Z"
   },
   {
    "duration": 4,
    "start_time": "2025-01-08T08:04:35.877Z"
   },
   {
    "duration": 63,
    "start_time": "2025-01-08T08:04:35.883Z"
   },
   {
    "duration": 43,
    "start_time": "2025-01-08T08:04:35.948Z"
   },
   {
    "duration": 35,
    "start_time": "2025-01-08T08:04:35.993Z"
   },
   {
    "duration": 13,
    "start_time": "2025-01-08T08:04:41.781Z"
   },
   {
    "duration": 16,
    "start_time": "2025-01-08T08:05:35.205Z"
   },
   {
    "duration": 1233,
    "start_time": "2025-01-08T08:15:37.224Z"
   },
   {
    "duration": 94,
    "start_time": "2025-01-08T08:15:38.459Z"
   },
   {
    "duration": 8,
    "start_time": "2025-01-08T08:15:38.555Z"
   },
   {
    "duration": 30,
    "start_time": "2025-01-08T08:15:38.566Z"
   },
   {
    "duration": 18,
    "start_time": "2025-01-08T08:15:38.598Z"
   },
   {
    "duration": 34,
    "start_time": "2025-01-08T08:15:38.618Z"
   },
   {
    "duration": 18,
    "start_time": "2025-01-08T08:15:38.657Z"
   },
   {
    "duration": 26,
    "start_time": "2025-01-08T08:15:38.677Z"
   },
   {
    "duration": 57,
    "start_time": "2025-01-08T08:15:38.704Z"
   },
   {
    "duration": 20,
    "start_time": "2025-01-08T08:15:38.764Z"
   },
   {
    "duration": 9,
    "start_time": "2025-01-08T08:15:38.786Z"
   },
   {
    "duration": 956,
    "start_time": "2025-01-08T08:15:38.797Z"
   },
   {
    "duration": 7,
    "start_time": "2025-01-08T08:15:39.755Z"
   },
   {
    "duration": 5,
    "start_time": "2025-01-08T08:15:39.764Z"
   },
   {
    "duration": 130,
    "start_time": "2025-01-08T08:15:39.771Z"
   },
   {
    "duration": 372,
    "start_time": "2025-01-08T08:15:39.902Z"
   },
   {
    "duration": 14,
    "start_time": "2025-01-08T08:15:40.276Z"
   },
   {
    "duration": 268,
    "start_time": "2025-01-08T08:15:40.291Z"
   },
   {
    "duration": 24,
    "start_time": "2025-01-08T08:15:40.561Z"
   },
   {
    "duration": 29,
    "start_time": "2025-01-08T08:15:40.587Z"
   },
   {
    "duration": 11,
    "start_time": "2025-01-08T08:15:40.639Z"
   },
   {
    "duration": 5,
    "start_time": "2025-01-08T08:15:40.654Z"
   },
   {
    "duration": 169,
    "start_time": "2025-01-08T08:15:40.661Z"
   },
   {
    "duration": 18,
    "start_time": "2025-01-08T08:15:40.831Z"
   },
   {
    "duration": 276,
    "start_time": "2025-01-08T08:15:40.855Z"
   },
   {
    "duration": 23,
    "start_time": "2025-01-08T08:15:41.138Z"
   },
   {
    "duration": 254,
    "start_time": "2025-01-08T08:15:41.163Z"
   },
   {
    "duration": 266,
    "start_time": "2025-01-08T08:15:41.421Z"
   },
   {
    "duration": 251,
    "start_time": "2025-01-08T08:15:41.689Z"
   },
   {
    "duration": 159,
    "start_time": "2025-01-08T08:15:41.953Z"
   },
   {
    "duration": 6,
    "start_time": "2025-01-08T08:15:42.114Z"
   },
   {
    "duration": 56,
    "start_time": "2025-01-08T08:15:42.122Z"
   },
   {
    "duration": 937,
    "start_time": "2025-01-08T08:15:42.180Z"
   },
   {
    "duration": 234,
    "start_time": "2025-01-08T08:15:43.119Z"
   },
   {
    "duration": 199,
    "start_time": "2025-01-08T08:15:43.355Z"
   },
   {
    "duration": 351,
    "start_time": "2025-01-08T08:15:43.556Z"
   },
   {
    "duration": 364,
    "start_time": "2025-01-08T08:15:43.909Z"
   },
   {
    "duration": 380,
    "start_time": "2025-01-08T08:15:44.275Z"
   },
   {
    "duration": 194,
    "start_time": "2025-01-08T08:15:44.657Z"
   },
   {
    "duration": 11,
    "start_time": "2025-01-08T08:15:44.854Z"
   },
   {
    "duration": 18,
    "start_time": "2025-01-08T08:15:44.866Z"
   },
   {
    "duration": 5,
    "start_time": "2025-01-08T08:15:44.886Z"
   },
   {
    "duration": 15,
    "start_time": "2025-01-08T08:15:44.893Z"
   },
   {
    "duration": 8,
    "start_time": "2025-01-08T08:15:44.910Z"
   },
   {
    "duration": 11,
    "start_time": "2025-01-08T08:16:42.563Z"
   },
   {
    "duration": 1205,
    "start_time": "2025-01-08T08:16:49.909Z"
   },
   {
    "duration": 80,
    "start_time": "2025-01-08T08:16:51.117Z"
   },
   {
    "duration": 4,
    "start_time": "2025-01-08T08:16:51.199Z"
   },
   {
    "duration": 38,
    "start_time": "2025-01-08T08:16:51.205Z"
   },
   {
    "duration": 21,
    "start_time": "2025-01-08T08:16:51.246Z"
   },
   {
    "duration": 10,
    "start_time": "2025-01-08T08:16:51.268Z"
   },
   {
    "duration": 14,
    "start_time": "2025-01-08T08:16:51.279Z"
   },
   {
    "duration": 17,
    "start_time": "2025-01-08T08:16:51.294Z"
   },
   {
    "duration": 19,
    "start_time": "2025-01-08T08:16:51.339Z"
   },
   {
    "duration": 20,
    "start_time": "2025-01-08T08:16:51.360Z"
   },
   {
    "duration": 9,
    "start_time": "2025-01-08T08:16:51.382Z"
   },
   {
    "duration": 1027,
    "start_time": "2025-01-08T08:16:51.393Z"
   },
   {
    "duration": 22,
    "start_time": "2025-01-08T08:16:52.422Z"
   },
   {
    "duration": 8,
    "start_time": "2025-01-08T08:16:52.445Z"
   },
   {
    "duration": 133,
    "start_time": "2025-01-08T08:16:52.455Z"
   },
   {
    "duration": 342,
    "start_time": "2025-01-08T08:16:52.590Z"
   },
   {
    "duration": 21,
    "start_time": "2025-01-08T08:16:52.934Z"
   },
   {
    "duration": 257,
    "start_time": "2025-01-08T08:16:52.957Z"
   },
   {
    "duration": 36,
    "start_time": "2025-01-08T08:16:53.216Z"
   },
   {
    "duration": 26,
    "start_time": "2025-01-08T08:16:53.254Z"
   },
   {
    "duration": 6,
    "start_time": "2025-01-08T08:16:53.282Z"
   },
   {
    "duration": 5,
    "start_time": "2025-01-08T08:16:53.289Z"
   },
   {
    "duration": 194,
    "start_time": "2025-01-08T08:16:53.296Z"
   },
   {
    "duration": 7,
    "start_time": "2025-01-08T08:16:53.492Z"
   },
   {
    "duration": 309,
    "start_time": "2025-01-08T08:16:53.501Z"
   },
   {
    "duration": 37,
    "start_time": "2025-01-08T08:16:53.812Z"
   },
   {
    "duration": 242,
    "start_time": "2025-01-08T08:16:53.851Z"
   },
   {
    "duration": 266,
    "start_time": "2025-01-08T08:16:54.096Z"
   },
   {
    "duration": 249,
    "start_time": "2025-01-08T08:16:54.364Z"
   },
   {
    "duration": 443,
    "start_time": "2025-01-08T08:16:54.615Z"
   },
   {
    "duration": 7,
    "start_time": "2025-01-08T08:16:55.061Z"
   },
   {
    "duration": 73,
    "start_time": "2025-01-08T08:16:55.070Z"
   },
   {
    "duration": 1688,
    "start_time": "2025-01-08T08:16:55.145Z"
   },
   {
    "duration": 235,
    "start_time": "2025-01-08T08:16:56.838Z"
   },
   {
    "duration": 209,
    "start_time": "2025-01-08T08:16:57.075Z"
   },
   {
    "duration": 379,
    "start_time": "2025-01-08T08:16:57.286Z"
   },
   {
    "duration": 340,
    "start_time": "2025-01-08T08:16:57.667Z"
   },
   {
    "duration": 407,
    "start_time": "2025-01-08T08:16:58.009Z"
   },
   {
    "duration": 177,
    "start_time": "2025-01-08T08:16:58.418Z"
   },
   {
    "duration": 11,
    "start_time": "2025-01-08T08:16:58.596Z"
   },
   {
    "duration": 9,
    "start_time": "2025-01-08T08:16:58.610Z"
   },
   {
    "duration": 10,
    "start_time": "2025-01-08T08:16:58.645Z"
   },
   {
    "duration": 15,
    "start_time": "2025-01-08T08:16:58.656Z"
   },
   {
    "duration": 17,
    "start_time": "2025-01-08T08:16:58.672Z"
   },
   {
    "duration": 1113,
    "start_time": "2025-01-08T08:17:32.485Z"
   },
   {
    "duration": 72,
    "start_time": "2025-01-08T08:17:33.600Z"
   },
   {
    "duration": 5,
    "start_time": "2025-01-08T08:17:33.673Z"
   },
   {
    "duration": 16,
    "start_time": "2025-01-08T08:17:33.680Z"
   },
   {
    "duration": 17,
    "start_time": "2025-01-08T08:17:33.698Z"
   },
   {
    "duration": 12,
    "start_time": "2025-01-08T08:17:33.736Z"
   },
   {
    "duration": 61,
    "start_time": "2025-01-08T08:17:33.749Z"
   },
   {
    "duration": 18,
    "start_time": "2025-01-08T08:17:37.312Z"
   },
   {
    "duration": 17,
    "start_time": "2025-01-08T08:18:42.678Z"
   },
   {
    "duration": 1224,
    "start_time": "2025-01-08T08:20:05.282Z"
   },
   {
    "duration": 77,
    "start_time": "2025-01-08T08:20:06.508Z"
   },
   {
    "duration": 5,
    "start_time": "2025-01-08T08:20:06.587Z"
   },
   {
    "duration": 37,
    "start_time": "2025-01-08T08:20:06.594Z"
   },
   {
    "duration": 38,
    "start_time": "2025-01-08T08:20:06.633Z"
   },
   {
    "duration": 77,
    "start_time": "2025-01-08T08:20:06.674Z"
   },
   {
    "duration": 34,
    "start_time": "2025-01-08T08:20:06.752Z"
   },
   {
    "duration": 31,
    "start_time": "2025-01-08T08:20:06.788Z"
   },
   {
    "duration": 34,
    "start_time": "2025-01-08T08:20:06.820Z"
   },
   {
    "duration": 57,
    "start_time": "2025-01-08T08:20:06.857Z"
   },
   {
    "duration": 19,
    "start_time": "2025-01-08T08:20:06.917Z"
   },
   {
    "duration": 983,
    "start_time": "2025-01-08T08:20:06.938Z"
   },
   {
    "duration": 16,
    "start_time": "2025-01-08T08:20:07.922Z"
   },
   {
    "duration": 128,
    "start_time": "2025-01-08T08:20:07.939Z"
   },
   {
    "duration": 114,
    "start_time": "2025-01-08T08:20:08.070Z"
   },
   {
    "duration": 382,
    "start_time": "2025-01-08T08:20:08.186Z"
   },
   {
    "duration": 14,
    "start_time": "2025-01-08T08:20:08.569Z"
   },
   {
    "duration": 262,
    "start_time": "2025-01-08T08:20:08.585Z"
   },
   {
    "duration": 20,
    "start_time": "2025-01-08T08:20:08.850Z"
   },
   {
    "duration": 27,
    "start_time": "2025-01-08T08:20:08.871Z"
   },
   {
    "duration": 5,
    "start_time": "2025-01-08T08:20:08.899Z"
   },
   {
    "duration": 34,
    "start_time": "2025-01-08T08:20:08.906Z"
   },
   {
    "duration": 170,
    "start_time": "2025-01-08T08:20:08.942Z"
   },
   {
    "duration": 7,
    "start_time": "2025-01-08T08:20:09.114Z"
   },
   {
    "duration": 314,
    "start_time": "2025-01-08T08:20:09.123Z"
   },
   {
    "duration": 17,
    "start_time": "2025-01-08T08:20:09.439Z"
   },
   {
    "duration": 254,
    "start_time": "2025-01-08T08:20:09.458Z"
   },
   {
    "duration": 248,
    "start_time": "2025-01-08T08:20:09.716Z"
   },
   {
    "duration": 263,
    "start_time": "2025-01-08T08:20:09.966Z"
   },
   {
    "duration": 162,
    "start_time": "2025-01-08T08:20:10.237Z"
   },
   {
    "duration": 7,
    "start_time": "2025-01-08T08:20:10.401Z"
   },
   {
    "duration": 33,
    "start_time": "2025-01-08T08:20:10.410Z"
   },
   {
    "duration": 918,
    "start_time": "2025-01-08T08:20:10.446Z"
   },
   {
    "duration": 222,
    "start_time": "2025-01-08T08:20:11.365Z"
   },
   {
    "duration": 204,
    "start_time": "2025-01-08T08:20:11.589Z"
   },
   {
    "duration": 373,
    "start_time": "2025-01-08T08:20:11.795Z"
   },
   {
    "duration": 352,
    "start_time": "2025-01-08T08:20:12.170Z"
   },
   {
    "duration": 355,
    "start_time": "2025-01-08T08:20:12.524Z"
   },
   {
    "duration": 204,
    "start_time": "2025-01-08T08:20:12.881Z"
   },
   {
    "duration": 12,
    "start_time": "2025-01-08T08:20:13.087Z"
   },
   {
    "duration": 18,
    "start_time": "2025-01-08T08:20:13.100Z"
   },
   {
    "duration": 15,
    "start_time": "2025-01-08T08:20:13.119Z"
   },
   {
    "duration": 12,
    "start_time": "2025-01-08T08:20:13.137Z"
   },
   {
    "duration": 11,
    "start_time": "2025-01-08T08:20:13.150Z"
   },
   {
    "duration": 1159,
    "start_time": "2025-01-08T11:00:20.889Z"
   },
   {
    "duration": 126,
    "start_time": "2025-01-08T11:00:22.050Z"
   },
   {
    "duration": 5,
    "start_time": "2025-01-08T11:00:22.177Z"
   },
   {
    "duration": 19,
    "start_time": "2025-01-08T11:00:22.184Z"
   },
   {
    "duration": 18,
    "start_time": "2025-01-08T11:00:22.205Z"
   },
   {
    "duration": 12,
    "start_time": "2025-01-08T11:00:22.224Z"
   },
   {
    "duration": 44,
    "start_time": "2025-01-08T11:00:22.237Z"
   },
   {
    "duration": 19,
    "start_time": "2025-01-08T11:00:22.283Z"
   },
   {
    "duration": 102,
    "start_time": "2025-01-08T11:00:22.303Z"
   },
   {
    "duration": 34,
    "start_time": "2025-01-08T11:00:22.407Z"
   },
   {
    "duration": 11,
    "start_time": "2025-01-08T11:00:22.443Z"
   },
   {
    "duration": 957,
    "start_time": "2025-01-08T11:00:22.455Z"
   },
   {
    "duration": 7,
    "start_time": "2025-01-08T11:00:23.414Z"
   },
   {
    "duration": 16,
    "start_time": "2025-01-08T11:00:23.422Z"
   },
   {
    "duration": 111,
    "start_time": "2025-01-08T11:00:23.439Z"
   },
   {
    "duration": 345,
    "start_time": "2025-01-08T11:00:23.551Z"
   },
   {
    "duration": 13,
    "start_time": "2025-01-08T11:00:23.898Z"
   },
   {
    "duration": 272,
    "start_time": "2025-01-08T11:00:23.912Z"
   },
   {
    "duration": 21,
    "start_time": "2025-01-08T11:00:24.186Z"
   },
   {
    "duration": 26,
    "start_time": "2025-01-08T11:00:24.209Z"
   },
   {
    "duration": 4,
    "start_time": "2025-01-08T11:00:24.237Z"
   },
   {
    "duration": 32,
    "start_time": "2025-01-08T11:00:24.242Z"
   },
   {
    "duration": 319,
    "start_time": "2025-01-08T11:00:24.275Z"
   },
   {
    "duration": 6,
    "start_time": "2025-01-08T11:00:24.596Z"
   },
   {
    "duration": 305,
    "start_time": "2025-01-08T11:00:24.604Z"
   },
   {
    "duration": 16,
    "start_time": "2025-01-08T11:00:24.911Z"
   },
   {
    "duration": 260,
    "start_time": "2025-01-08T11:00:24.928Z"
   },
   {
    "duration": 264,
    "start_time": "2025-01-08T11:00:25.193Z"
   },
   {
    "duration": 237,
    "start_time": "2025-01-08T11:00:25.459Z"
   },
   {
    "duration": 202,
    "start_time": "2025-01-08T11:00:25.698Z"
   },
   {
    "duration": 7,
    "start_time": "2025-01-08T11:00:25.902Z"
   },
   {
    "duration": 14,
    "start_time": "2025-01-08T11:00:25.910Z"
   },
   {
    "duration": 955,
    "start_time": "2025-01-08T11:00:25.926Z"
   },
   {
    "duration": 223,
    "start_time": "2025-01-08T11:00:26.883Z"
   },
   {
    "duration": 214,
    "start_time": "2025-01-08T11:00:27.108Z"
   },
   {
    "duration": 355,
    "start_time": "2025-01-08T11:00:27.324Z"
   },
   {
    "duration": 353,
    "start_time": "2025-01-08T11:00:27.680Z"
   },
   {
    "duration": 361,
    "start_time": "2025-01-08T11:00:28.035Z"
   },
   {
    "duration": 177,
    "start_time": "2025-01-08T11:00:28.398Z"
   },
   {
    "duration": 11,
    "start_time": "2025-01-08T11:00:28.576Z"
   },
   {
    "duration": 53,
    "start_time": "2025-01-08T11:00:28.588Z"
   },
   {
    "duration": 5,
    "start_time": "2025-01-08T11:00:28.643Z"
   },
   {
    "duration": 10,
    "start_time": "2025-01-08T11:00:28.650Z"
   },
   {
    "duration": 6,
    "start_time": "2025-01-08T11:00:28.662Z"
   },
   {
    "duration": 977,
    "start_time": "2025-01-08T11:27:06.305Z"
   }
  ],
  "kernelspec": {
   "display_name": "Python 3 (ipykernel)",
   "language": "python",
   "name": "python3"
  },
  "language_info": {
   "codemirror_mode": {
    "name": "ipython",
    "version": 3
   },
   "file_extension": ".py",
   "mimetype": "text/x-python",
   "name": "python",
   "nbconvert_exporter": "python",
   "pygments_lexer": "ipython3",
   "version": "3.9.5"
  },
  "toc": {
   "base_numbering": 1,
   "nav_menu": {},
   "number_sections": true,
   "sideBar": true,
   "skip_h1_title": true,
   "title_cell": "Table of Contents",
   "title_sidebar": "Contents",
   "toc_cell": false,
   "toc_position": {
    "height": "calc(100% - 180px)",
    "left": "10px",
    "top": "150px",
    "width": "169.938px"
   },
   "toc_section_display": true,
   "toc_window_display": true
  }
 },
 "nbformat": 4,
 "nbformat_minor": 2
}
