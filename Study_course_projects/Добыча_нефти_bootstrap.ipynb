{
 "cells": [
  {
   "cell_type": "markdown",
   "metadata": {},
   "source": [
    "# Выбор локации для скважины"
   ]
  },
  {
   "cell_type": "markdown",
   "metadata": {},
   "source": [
    "Допустим, вы работаете в добывающей компании «ГлавРосГосНефть». Нужно решить, где бурить новую скважину.\n",
    "\n",
    "Вам предоставлены пробы нефти в трёх регионах: в каждом 10 000 месторождений, где измерили качество нефти и объём её запасов. Постройте модель машинного обучения, которая поможет определить регион, где добыча принесёт наибольшую прибыль. Проанализируйте возможную прибыль и риски техникой *Bootstrap.*\n",
    "\n",
    "Шаги для выбора локации:\n",
    "\n",
    "- В избранном регионе ищут месторождения, для каждого определяют значения признаков;\n",
    "- Строят модель и оценивают объём запасов;\n",
    "- Выбирают месторождения с самым высокими оценками значений. Количество месторождений зависит от бюджета компании и стоимости разработки одной скважины;\n",
    "- Прибыль равна суммарной прибыли отобранных месторождений."
   ]
  },
  {
   "cell_type": "markdown",
   "metadata": {},
   "source": [
    "## Загрузка и подготовка данных"
   ]
  },
  {
   "cell_type": "markdown",
   "metadata": {},
   "source": [
    "### Импорт библиотек и функций"
   ]
  },
  {
   "cell_type": "code",
   "execution_count": 1,
   "metadata": {},
   "outputs": [],
   "source": [
    "!pip install --upgrade scikit-learn -q"
   ]
  },
  {
   "cell_type": "code",
   "execution_count": 2,
   "metadata": {},
   "outputs": [],
   "source": [
    "#базовые\n",
    "import pandas as pd\n",
    "import numpy as np\n",
    "from scipy import stats as st\n",
    "# графики\n",
    "import seaborn as sns\n",
    "import matplotlib.pyplot as plt\n",
    "#анализ корреляции Phi_K \n",
    "!pip install phik -q\n",
    "import phik\n",
    "from phik import phik_matrix\n",
    "from phik.report import plot_correlation_matrix\n",
    "# преобразование данных\n",
    "from sklearn.model_selection import train_test_split, cross_val_score\n",
    "# Модели\n",
    "from sklearn.linear_model import LinearRegression\n",
    "# Метрики\n",
    "from sklearn.metrics import mean_squared_error, root_mean_squared_error\n",
    "\n",
    "RANDOM_STATE = 88"
   ]
  },
  {
   "cell_type": "code",
   "execution_count": 3,
   "metadata": {},
   "outputs": [],
   "source": [
    "#функция первичного анализа данных\n",
    "def data_report(df, show_info=True):\n",
    "    temp = df.copy() \n",
    "    col_list = temp.columns\n",
    "    print('='* 90)\n",
    "    if show_info == True:\n",
    "        print(temp.info())\n",
    "#Поиск нулевых значений\n",
    "    counter = 0\n",
    "    for column in col_list:\n",
    "        if (temp[temp[column] == 0][column].count() > 0) | (\n",
    "            temp[temp[column] == ' '][column].count() > 0):\n",
    "            counter += 1\n",
    "    print('-'* 90)    \n",
    "    print(f'Столбцов с пустыми и нулевыми значениями: {counter}')\n",
    "    print('-'* 90)    \n",
    "    if counter > 0:\n",
    "        print(f'Перечень столбцов с пустыми и нулевыми значениями:')\n",
    "        print('-'* 45)\n",
    "        print(f'{\"Имя поля\":<40}{\"Кол-во значений\":<25}{\"Процент к общему\":<25}')\n",
    "        print('-'* 90)\n",
    "        for column in col_list:\n",
    "            if (temp[temp[column] == 0][column].count() > 0) | (\n",
    "               temp[temp[column] == ' '][column].count() > 0):\n",
    "                print(f'{column :<40}'\n",
    "                      f'{temp[temp[column] == 0][column].count():<25}'\n",
    "                      f'{temp[temp[column] == 0][column].count()/len(temp):.2%}')                \n",
    "#Поиск пропусков\n",
    "    counter = 0\n",
    "    for column in col_list:\n",
    "        if temp[column].isna().sum() > 0:\n",
    "            counter += 1\n",
    "    print('-'* 90)    \n",
    "    print(f'Столбцов с пропусками: {counter}')\n",
    "    print('-'* 90)    \n",
    "    if counter > 0:\n",
    "        print(f'Перечень столбцов с пропусками:')\n",
    "        print('-'* 45)\n",
    "        print(f'{\"Имя поля\":<40}{\"Кол-во пропусков\":<25}{\"Процент к общему\":<25}')\n",
    "        print('-'* 90)\n",
    "        for column in col_list:\n",
    "            if temp[column].isna().sum() > 0:\n",
    "                print(f'{column :<40}'\n",
    "                      f'{temp[column].isna().sum():<25}'\n",
    "                      f'{temp[column].isna().mean():.2%}')                \n",
    "#Поиск явных дубликатов\n",
    "    duplicates = temp.duplicated().sum()\n",
    "    print('='* 90)\n",
    "    print(f'Количество дубликатов по строкам: {duplicates}')\n",
    "    print('='* 90)\n",
    "    if duplicates > 0:\n",
    "        print('Дублированные строки:')\n",
    "        print('-'* 90)\n",
    "        print(temp[temp.duplicated()==True][col_list[:3]])\n",
    "        print('='* 90)\n",
    "#Поиск неявных дубликатов\n",
    "    string_columns = temp.select_dtypes(include='object').columns.tolist()\n",
    "    print('Уникальные значения в тестовых полях')\n",
    "    print('='* 90)\n",
    "    for column in string_columns:\n",
    "        values = temp[column].unique()\n",
    "        if len(values) <= 25:\n",
    "            print(f'{column}: {values}')\n",
    "            print('-'* 90)\n",
    "        else:\n",
    "            print(f'В поле {column} слишком много значений')\n",
    "            print('-'* 90)"
   ]
  },
  {
   "cell_type": "code",
   "execution_count": 4,
   "metadata": {},
   "outputs": [],
   "source": [
    "#функция печати графиков для исследовательского анализа данных\n",
    "def stat_plots(df, custom_bins={}, countplots=[]):\n",
    "    for column in countplots:\n",
    "        data = df[column]\n",
    "        sns.countplot(data, palette='GnBu_r')\n",
    "        plt.title(f'Количественный анализ дискретного признака {column}')\n",
    "        plt.xlabel('Значения')\n",
    "        plt.ylabel('Количество')\n",
    "        plt.show()\n",
    "    df = df.drop(countplots, axis=1)    \n",
    "    for column in df.select_dtypes(include='number').columns:\n",
    "        try:\n",
    "            nbins = custom_bins[column]\n",
    "        except:\n",
    "            nbins = 10\n",
    "        ind_label = df[column].name\n",
    "        print('=' * 110)\n",
    "        print(f'Статистический анализ показателя {ind_label}')\n",
    "        print('-' * 110)\n",
    "        fig, axes = plt.subplots(nrows=1, ncols=2, figsize=(15,5))\n",
    "        bins = axes[0].hist(df[column], bins=nbins)\n",
    "        axes[0].vlines(x=df[column].mean(), colors='red', ymin=0, ymax=bins[0].max(), label='Среднее')\n",
    "        axes[0].vlines(x=df[column].median(), colors='red', ymin=0, ymax=bins[0].max(), linestyles='--', label='Медиана')\n",
    "        axes[0].set_title('Гистограмма распределения')\n",
    "        axes[0].set_xlabel(ind_label)\n",
    "        axes[0].set_ylabel('Количество значений')\n",
    "        axes[0].legend()\n",
    "        axes[1].boxplot(df[column], vert=False)\n",
    "        axes[1].set_title('Диаграмма размаха')\n",
    "        axes[1].set_xlabel(ind_label)\n",
    "        plt.show()\n",
    "    for column in df.select_dtypes(include='object').columns:\n",
    "        ind_label = df[column].name\n",
    "        df[column].value_counts().plot(kind='pie', autopct='%.0f', subplots=True, legend=False, label=ind_label)\n",
    "        plt.title(f'Распределение долей по показателю {ind_label}')\n",
    "        plt.show()"
   ]
  },
  {
   "cell_type": "code",
   "execution_count": 5,
   "metadata": {},
   "outputs": [],
   "source": [
    "#матрица корреляции phi_k\n",
    "def phik_corr(df):\n",
    "    size = len(df.columns) + 1\n",
    "    phik_overview = phik_matrix(df)\n",
    "    plot_correlation_matrix(\n",
    "        phik_overview.values,\n",
    "        x_labels=phik_overview.columns,\n",
    "        y_labels=phik_overview.index,\n",
    "        vmin=0, vmax=1, color_map='Greens',\n",
    "        title=r'correlation $\\phi_K$',\n",
    "        fontsize_factor=1.5,\n",
    "        figsize=(size, size)\n",
    "    )"
   ]
  },
  {
   "cell_type": "markdown",
   "metadata": {},
   "source": [
    "### Загрузка и предобработка данных"
   ]
  },
  {
   "cell_type": "code",
   "execution_count": 6,
   "metadata": {},
   "outputs": [],
   "source": [
    "region_1 = pd.read_csv('/datasets/geo_data_0.csv', index_col = 'id')\n",
    "region_2 = pd.read_csv('/datasets/geo_data_1.csv', index_col = 'id')\n",
    "region_3 = pd.read_csv('/datasets/geo_data_2.csv', index_col = 'id')"
   ]
  },
  {
   "cell_type": "code",
   "execution_count": 7,
   "metadata": {},
   "outputs": [
    {
     "name": "stdout",
     "output_type": "stream",
     "text": [
      "==========================================================================================\n",
      "<class 'pandas.core.frame.DataFrame'>\n",
      "Index: 100000 entries, txEyH to 1CWhH\n",
      "Data columns (total 4 columns):\n",
      " #   Column   Non-Null Count   Dtype  \n",
      "---  ------   --------------   -----  \n",
      " 0   f0       100000 non-null  float64\n",
      " 1   f1       100000 non-null  float64\n",
      " 2   f2       100000 non-null  float64\n",
      " 3   product  100000 non-null  float64\n",
      "dtypes: float64(4)\n",
      "memory usage: 3.8+ MB\n",
      "None\n",
      "------------------------------------------------------------------------------------------\n",
      "Столбцов с пустыми и нулевыми значениями: 1\n",
      "------------------------------------------------------------------------------------------\n",
      "Перечень столбцов с пустыми и нулевыми значениями:\n",
      "---------------------------------------------\n",
      "Имя поля                                Кол-во значений          Процент к общему         \n",
      "------------------------------------------------------------------------------------------\n",
      "product                                 1                        0.00%\n",
      "------------------------------------------------------------------------------------------\n",
      "Столбцов с пропусками: 0\n",
      "------------------------------------------------------------------------------------------\n",
      "==========================================================================================\n",
      "Количество дубликатов по строкам: 0\n",
      "==========================================================================================\n",
      "Уникальные значения в тестовых полях\n",
      "==========================================================================================\n"
     ]
    }
   ],
   "source": [
    "data_report(region_1)"
   ]
  },
  {
   "cell_type": "markdown",
   "metadata": {},
   "source": [
    "Проверим поле id на наличие неявных дубликатов:"
   ]
  },
  {
   "cell_type": "code",
   "execution_count": 8,
   "metadata": {},
   "outputs": [
    {
     "data": {
      "text/plain": [
       "(10,)"
      ]
     },
     "execution_count": 8,
     "metadata": {},
     "output_type": "execute_result"
    }
   ],
   "source": [
    "duplicates = region_1[region_1.index.duplicated() == True].index\n",
    "duplicates.shape"
   ]
  },
  {
   "cell_type": "markdown",
   "metadata": {},
   "source": [
    "Дубликатов всего 20 штук, что составляет ничтожную долю от общего объема данных, поэтому мы можем их удалить без снижения качества прогнозирования."
   ]
  },
  {
   "cell_type": "code",
   "execution_count": 9,
   "metadata": {},
   "outputs": [
    {
     "data": {
      "text/plain": [
       "(99980, 4)"
      ]
     },
     "execution_count": 9,
     "metadata": {},
     "output_type": "execute_result"
    }
   ],
   "source": [
    "region_1 = region_1.drop(duplicates, axis=0)\n",
    "region_1.shape"
   ]
  },
  {
   "cell_type": "code",
   "execution_count": 10,
   "metadata": {
    "scrolled": true
   },
   "outputs": [
    {
     "name": "stdout",
     "output_type": "stream",
     "text": [
      "==========================================================================================\n",
      "<class 'pandas.core.frame.DataFrame'>\n",
      "Index: 100000 entries, kBEdx to relB0\n",
      "Data columns (total 4 columns):\n",
      " #   Column   Non-Null Count   Dtype  \n",
      "---  ------   --------------   -----  \n",
      " 0   f0       100000 non-null  float64\n",
      " 1   f1       100000 non-null  float64\n",
      " 2   f2       100000 non-null  float64\n",
      " 3   product  100000 non-null  float64\n",
      "dtypes: float64(4)\n",
      "memory usage: 3.8+ MB\n",
      "None\n",
      "------------------------------------------------------------------------------------------\n",
      "Столбцов с пустыми и нулевыми значениями: 1\n",
      "------------------------------------------------------------------------------------------\n",
      "Перечень столбцов с пустыми и нулевыми значениями:\n",
      "---------------------------------------------\n",
      "Имя поля                                Кол-во значений          Процент к общему         \n",
      "------------------------------------------------------------------------------------------\n",
      "product                                 8235                     8.24%\n",
      "------------------------------------------------------------------------------------------\n",
      "Столбцов с пропусками: 0\n",
      "------------------------------------------------------------------------------------------\n",
      "==========================================================================================\n",
      "Количество дубликатов по строкам: 0\n",
      "==========================================================================================\n",
      "Уникальные значения в тестовых полях\n",
      "==========================================================================================\n"
     ]
    }
   ],
   "source": [
    "data_report(region_2)"
   ]
  },
  {
   "cell_type": "markdown",
   "metadata": {},
   "source": [
    "Выполним для этого датасета аналогичную проверку и сброс неявных дубликатов в поле id:"
   ]
  },
  {
   "cell_type": "code",
   "execution_count": 11,
   "metadata": {},
   "outputs": [
    {
     "data": {
      "text/plain": [
       "(4,)"
      ]
     },
     "execution_count": 11,
     "metadata": {},
     "output_type": "execute_result"
    }
   ],
   "source": [
    "duplicates = region_2[region_2.index.duplicated() == True].index\n",
    "duplicates.shape"
   ]
  },
  {
   "cell_type": "markdown",
   "metadata": {},
   "source": [
    "Дубликатов всего 8 штук, что составляет ничтожную долю от общего объема данных, поэтому мы можем их удалить без снижения качества прогнозирования."
   ]
  },
  {
   "cell_type": "code",
   "execution_count": 12,
   "metadata": {},
   "outputs": [
    {
     "data": {
      "text/plain": [
       "(99992, 4)"
      ]
     },
     "execution_count": 12,
     "metadata": {},
     "output_type": "execute_result"
    }
   ],
   "source": [
    "region_2 = region_2.drop(duplicates, axis=0)\n",
    "region_2.shape"
   ]
  },
  {
   "cell_type": "code",
   "execution_count": 13,
   "metadata": {
    "scrolled": true
   },
   "outputs": [
    {
     "name": "stdout",
     "output_type": "stream",
     "text": [
      "==========================================================================================\n",
      "<class 'pandas.core.frame.DataFrame'>\n",
      "Index: 100000 entries, fwXo0 to V9kWn\n",
      "Data columns (total 4 columns):\n",
      " #   Column   Non-Null Count   Dtype  \n",
      "---  ------   --------------   -----  \n",
      " 0   f0       100000 non-null  float64\n",
      " 1   f1       100000 non-null  float64\n",
      " 2   f2       100000 non-null  float64\n",
      " 3   product  100000 non-null  float64\n",
      "dtypes: float64(4)\n",
      "memory usage: 3.8+ MB\n",
      "None\n",
      "------------------------------------------------------------------------------------------\n",
      "Столбцов с пустыми и нулевыми значениями: 1\n",
      "------------------------------------------------------------------------------------------\n",
      "Перечень столбцов с пустыми и нулевыми значениями:\n",
      "---------------------------------------------\n",
      "Имя поля                                Кол-во значений          Процент к общему         \n",
      "------------------------------------------------------------------------------------------\n",
      "product                                 1                        0.00%\n",
      "------------------------------------------------------------------------------------------\n",
      "Столбцов с пропусками: 0\n",
      "------------------------------------------------------------------------------------------\n",
      "==========================================================================================\n",
      "Количество дубликатов по строкам: 0\n",
      "==========================================================================================\n",
      "Уникальные значения в тестовых полях\n",
      "==========================================================================================\n"
     ]
    }
   ],
   "source": [
    "data_report(region_3)"
   ]
  },
  {
   "cell_type": "markdown",
   "metadata": {},
   "source": [
    "Выполним для этого датасета проверку неявных дубликатов в поле id:"
   ]
  },
  {
   "cell_type": "code",
   "execution_count": 14,
   "metadata": {},
   "outputs": [
    {
     "data": {
      "text/plain": [
       "(4,)"
      ]
     },
     "execution_count": 14,
     "metadata": {},
     "output_type": "execute_result"
    }
   ],
   "source": [
    "duplicates = region_3[region_3.index.duplicated() == True].index\n",
    "duplicates.shape"
   ]
  },
  {
   "cell_type": "markdown",
   "metadata": {},
   "source": [
    "Дубликатов всего 8 штук, что составляет ничтожную долю от общего объема данных, поэтому мы можем их удалить без снижения качества прогнозирования."
   ]
  },
  {
   "cell_type": "code",
   "execution_count": 15,
   "metadata": {},
   "outputs": [
    {
     "data": {
      "text/plain": [
       "(99992, 4)"
      ]
     },
     "execution_count": 15,
     "metadata": {},
     "output_type": "execute_result"
    }
   ],
   "source": [
    "region_3 = region_3.drop(duplicates, axis=0)\n",
    "region_3.shape"
   ]
  },
  {
   "cell_type": "markdown",
   "metadata": {},
   "source": [
    "### Исследовательский анализ данных"
   ]
  },
  {
   "cell_type": "markdown",
   "metadata": {},
   "source": [
    "#### Регион 1"
   ]
  },
  {
   "cell_type": "code",
   "execution_count": 16,
   "metadata": {},
   "outputs": [
    {
     "name": "stdout",
     "output_type": "stream",
     "text": [
      "==============================================================================================================\n",
      "Статистический анализ показателя f0\n",
      "--------------------------------------------------------------------------------------------------------------\n"
     ]
    },
    {
     "data": {
      "image/png": "[encoded data removed]",
      "text/plain": [
       "<Figure size 1080x360 with 2 Axes>"
      ]
     },
     "metadata": {
      "needs_background": "light"
     },
     "output_type": "display_data"
    },
    {
     "name": "stdout",
     "output_type": "stream",
     "text": [
      "==============================================================================================================\n",
      "Статистический анализ показателя f1\n",
      "--------------------------------------------------------------------------------------------------------------\n"
     ]
    },
    {
     "data": {
      "image/png": "[encoded data removed]",
      "text/plain": [
       "<Figure size 1080x360 with 2 Axes>"
      ]
     },
     "metadata": {
      "needs_background": "light"
     },
     "output_type": "display_data"
    },
    {
     "name": "stdout",
     "output_type": "stream",
     "text": [
      "==============================================================================================================\n",
      "Статистический анализ показателя f2\n",
      "--------------------------------------------------------------------------------------------------------------\n"
     ]
    },
    {
     "data": {
      "image/png": "[encoded data removed]",
      "text/plain": [
       "<Figure size 1080x360 with 2 Axes>"
      ]
     },
     "metadata": {
      "needs_background": "light"
     },
     "output_type": "display_data"
    },
    {
     "name": "stdout",
     "output_type": "stream",
     "text": [
      "==============================================================================================================\n",
      "Статистический анализ показателя product\n",
      "--------------------------------------------------------------------------------------------------------------\n"
     ]
    },
    {
     "data": {
      "image/png": "[encoded data removed]",
      "text/plain": [
       "<Figure size 1080x360 with 2 Axes>"
      ]
     },
     "metadata": {
      "needs_background": "light"
     },
     "output_type": "display_data"
    }
   ],
   "source": [
    "stat_plots(region_1, custom_bins={\n",
    "    'f0': 7,\n",
    "    'f1': 20\n",
    "})"
   ]
  },
  {
   "cell_type": "markdown",
   "metadata": {},
   "source": [
    "#### Регион 2"
   ]
  },
  {
   "cell_type": "code",
   "execution_count": 17,
   "metadata": {},
   "outputs": [
    {
     "name": "stdout",
     "output_type": "stream",
     "text": [
      "==============================================================================================================\n",
      "Статистический анализ показателя f0\n",
      "--------------------------------------------------------------------------------------------------------------\n"
     ]
    },
    {
     "data": {
      "image/png": "[encoded data removed]",
      "text/plain": [
       "<Figure size 1080x360 with 2 Axes>"
      ]
     },
     "metadata": {
      "needs_background": "light"
     },
     "output_type": "display_data"
    },
    {
     "name": "stdout",
     "output_type": "stream",
     "text": [
      "==============================================================================================================\n",
      "Статистический анализ показателя f1\n",
      "--------------------------------------------------------------------------------------------------------------\n"
     ]
    },
    {
     "data": {
      "image/png": "[encoded data removed]",
      "text/plain": [
       "<Figure size 1080x360 with 2 Axes>"
      ]
     },
     "metadata": {
      "needs_background": "light"
     },
     "output_type": "display_data"
    },
    {
     "name": "stdout",
     "output_type": "stream",
     "text": [
      "==============================================================================================================\n",
      "Статистический анализ показателя f2\n",
      "--------------------------------------------------------------------------------------------------------------\n"
     ]
    },
    {
     "data": {
      "image/png": "[encoded data removed]",
      "text/plain": [
       "<Figure size 1080x360 with 2 Axes>"
      ]
     },
     "metadata": {
      "needs_background": "light"
     },
     "output_type": "display_data"
    },
    {
     "name": "stdout",
     "output_type": "stream",
     "text": [
      "==============================================================================================================\n",
      "Статистический анализ показателя product\n",
      "--------------------------------------------------------------------------------------------------------------\n"
     ]
    },
    {
     "data": {
      "image/png": "[encoded data removed]",
      "text/plain": [
       "<Figure size 1080x360 with 2 Axes>"
      ]
     },
     "metadata": {
      "needs_background": "light"
     },
     "output_type": "display_data"
    }
   ],
   "source": [
    "stat_plots(\n",
    "    region_2,\n",
    "    custom_bins={\n",
    "        'f0': 20,\n",
    "        'f2': 5,\n",
    "        'product':15\n",
    "    }\n",
    ")"
   ]
  },
  {
   "cell_type": "markdown",
   "metadata": {},
   "source": [
    "#### Регион 3"
   ]
  },
  {
   "cell_type": "code",
   "execution_count": 18,
   "metadata": {},
   "outputs": [
    {
     "name": "stdout",
     "output_type": "stream",
     "text": [
      "==============================================================================================================\n",
      "Статистический анализ показателя f0\n",
      "--------------------------------------------------------------------------------------------------------------\n"
     ]
    },
    {
     "data": {
      "image/png": "[encoded data removed]",
      "text/plain": [
       "<Figure size 1080x360 with 2 Axes>"
      ]
     },
     "metadata": {
      "needs_background": "light"
     },
     "output_type": "display_data"
    },
    {
     "name": "stdout",
     "output_type": "stream",
     "text": [
      "==============================================================================================================\n",
      "Статистический анализ показателя f1\n",
      "--------------------------------------------------------------------------------------------------------------\n"
     ]
    },
    {
     "data": {
      "image/png": "[encoded data removed]",
      "text/plain": [
       "<Figure size 1080x360 with 2 Axes>"
      ]
     },
     "metadata": {
      "needs_background": "light"
     },
     "output_type": "display_data"
    },
    {
     "name": "stdout",
     "output_type": "stream",
     "text": [
      "==============================================================================================================\n",
      "Статистический анализ показателя f2\n",
      "--------------------------------------------------------------------------------------------------------------\n"
     ]
    },
    {
     "data": {
      "image/png": "[encoded data removed]",
      "text/plain": [
       "<Figure size 1080x360 with 2 Axes>"
      ]
     },
     "metadata": {
      "needs_background": "light"
     },
     "output_type": "display_data"
    },
    {
     "name": "stdout",
     "output_type": "stream",
     "text": [
      "==============================================================================================================\n",
      "Статистический анализ показателя product\n",
      "--------------------------------------------------------------------------------------------------------------\n"
     ]
    },
    {
     "data": {
      "image/png": "[encoded data removed]",
      "text/plain": [
       "<Figure size 1080x360 with 2 Axes>"
      ]
     },
     "metadata": {
      "needs_background": "light"
     },
     "output_type": "display_data"
    }
   ],
   "source": [
    "stat_plots(region_3)"
   ]
  },
  {
   "cell_type": "markdown",
   "metadata": {},
   "source": [
    "### Анализ корреляций"
   ]
  },
  {
   "cell_type": "code",
   "execution_count": 19,
   "metadata": {},
   "outputs": [
    {
     "name": "stdout",
     "output_type": "stream",
     "text": [
      "interval columns not set, guessing: ['f0', 'f1', 'f2', 'product']\n"
     ]
    },
    {
     "data": {
      "image/png": "[encoded data removed]",
      "text/plain": [
       "<Figure size 360x360 with 2 Axes>"
      ]
     },
     "metadata": {
      "needs_background": "light"
     },
     "output_type": "display_data"
    }
   ],
   "source": [
    "phik_corr(region_1)"
   ]
  },
  {
   "cell_type": "code",
   "execution_count": 20,
   "metadata": {},
   "outputs": [
    {
     "name": "stdout",
     "output_type": "stream",
     "text": [
      "interval columns not set, guessing: ['f0', 'f1', 'f2', 'product']\n"
     ]
    },
    {
     "data": {
      "image/png": "[encoded data removed]",
      "text/plain": [
       "<Figure size 360x360 with 2 Axes>"
      ]
     },
     "metadata": {
      "needs_background": "light"
     },
     "output_type": "display_data"
    }
   ],
   "source": [
    "phik_corr(region_2)"
   ]
  },
  {
   "cell_type": "code",
   "execution_count": 21,
   "metadata": {},
   "outputs": [
    {
     "name": "stdout",
     "output_type": "stream",
     "text": [
      "interval columns not set, guessing: ['f0', 'f1', 'f2', 'product']\n"
     ]
    },
    {
     "data": {
      "image/png": "[encoded data removed]",
      "text/plain": [
       "<Figure size 360x360 with 2 Axes>"
      ]
     },
     "metadata": {
      "needs_background": "light"
     },
     "output_type": "display_data"
    }
   ],
   "source": [
    "phik_corr(region_3)"
   ]
  },
  {
   "cell_type": "markdown",
   "metadata": {},
   "source": [
    "### Промежуточный вывод"
   ]
  },
  {
   "cell_type": "markdown",
   "metadata": {
    "scrolled": true
   },
   "source": [
    "Исходные данные в порядке, предобработка не требуется.\\\n",
    "Распределение признаков в датасетах Регионов 1 и 3 похожее, и отличается от Региона 2.\\\n",
    "Целевой признак в Регионе 2 дискретный и имеет ненормальное распределение.\\\n",
    "Во всех датасетах имелись ненормально распределенные признаки, поэтому мы использовали методику Phi_K для оценки корреляции.\\\n",
    "Корреляционный анализ показал наличие умеренной корреляции входных признаков с целевым в регионах 1 и 3.\\\n",
    "В регионе 2 прослеживается весьма высокая корреляция входного признака f2 с целевым. "
   ]
  },
  {
   "cell_type": "markdown",
   "metadata": {},
   "source": [
    "## Обучение и проверка модели"
   ]
  },
  {
   "cell_type": "markdown",
   "metadata": {},
   "source": [
    "Определим функцию для оперативного разделения данных на выборки по заданным параметрам"
   ]
  },
  {
   "cell_type": "code",
   "execution_count": 22,
   "metadata": {
    "scrolled": true
   },
   "outputs": [],
   "source": [
    "def split(dataset, target_col, test_size):\n",
    "    X = dataset.drop(target_col, axis=1)\n",
    "    y = dataset[target_col]\n",
    "    X_train, X_test, y_train, y_test = train_test_split(X, y, test_size=test_size, random_state=RANDOM_STATE)\n",
    "    return X_train, X_test, y_train, y_test"
   ]
  },
  {
   "cell_type": "markdown",
   "metadata": {},
   "source": [
    "Подготовим данные и модель для обучения"
   ]
  },
  {
   "cell_type": "code",
   "execution_count": 23,
   "metadata": {},
   "outputs": [],
   "source": [
    "dataset = [region_1, region_2, region_3]\n",
    "model = LinearRegression()\n",
    "rmse = []\n",
    "test_preds = []\n",
    "output_preds = []\n",
    "output_facts = []\n",
    "region_capacity = []"
   ]
  },
  {
   "cell_type": "markdown",
   "metadata": {},
   "source": [
    "Обучим модель и получим предсказания в цикле по всем регионам"
   ]
  },
  {
   "cell_type": "code",
   "execution_count": 24,
   "metadata": {},
   "outputs": [],
   "source": [
    "for region in dataset:\n",
    "    X_train, X_test, y_train, y_test = split(region, 'product', 0.25)\n",
    "    #обучим модель и вычислим ее показатели\n",
    "    model.fit(X_train, y_train)\n",
    "    y_pred = model.predict(X_test)\n",
    "    region_capacity.append(int(y_pred.mean() / 1000))\n",
    "    rmse.append(round(root_mean_squared_error(y_test, y_pred), 2))\n",
    "    #вычислим и сохраним предсказания для дальнейшей обработки техникой bootstrap\n",
    "    output_preds.append(pd.Series(y_pred, index=y_test.index))\n",
    "    #сохраним фактические значения запасов для дальнейшей обработки техникой bootstrap\n",
    "    output_facts.append(y_test)"
   ]
  },
  {
   "cell_type": "markdown",
   "metadata": {},
   "source": [
    "Сведем результаты в таблицу и выведем на экран"
   ]
  },
  {
   "cell_type": "code",
   "execution_count": 25,
   "metadata": {},
   "outputs": [
    {
     "data": {
      "text/html": [
       "<div>\n",
       "<style scoped>\n",
       "    .dataframe tbody tr th:only-of-type {\n",
       "        vertical-align: middle;\n",
       "    }\n",
       "\n",
       "    .dataframe tbody tr th {\n",
       "        vertical-align: top;\n",
       "    }\n",
       "\n",
       "    .dataframe thead th {\n",
       "        text-align: right;\n",
       "    }\n",
       "</style>\n",
       "<table border=\"1\" class=\"dataframe\">\n",
       "  <thead>\n",
       "    <tr style=\"text-align: right;\">\n",
       "      <th></th>\n",
       "      <th>Регион 1</th>\n",
       "      <th>Регион 2</th>\n",
       "      <th>Регион 3</th>\n",
       "    </tr>\n",
       "  </thead>\n",
       "  <tbody>\n",
       "    <tr>\n",
       "      <th>Средний предсказанный объем запасов на скважину (млн. баррелей)</th>\n",
       "      <td>0.00</td>\n",
       "      <td>0.00</td>\n",
       "      <td>0.00</td>\n",
       "    </tr>\n",
       "    <tr>\n",
       "      <th>Ошибка RMSE обученной модели на тестовых данных</th>\n",
       "      <td>37.43</td>\n",
       "      <td>0.89</td>\n",
       "      <td>40.03</td>\n",
       "    </tr>\n",
       "  </tbody>\n",
       "</table>\n",
       "</div>"
      ],
      "text/plain": [
       "                                                    Регион 1  Регион 2  \\\n",
       "Средний предсказанный объем запасов на скважину...      0.00      0.00   \n",
       "Ошибка RMSE обученной модели на тестовых данных        37.43      0.89   \n",
       "\n",
       "                                                    Регион 3  \n",
       "Средний предсказанный объем запасов на скважину...      0.00  \n",
       "Ошибка RMSE обученной модели на тестовых данных        40.03  "
      ]
     },
     "execution_count": 25,
     "metadata": {},
     "output_type": "execute_result"
    }
   ],
   "source": [
    "model_results = pd.DataFrame(\n",
    "    [region_capacity, rmse],\n",
    "    index=['Средний предсказанный объем запасов на скважину (млн. баррелей)',\n",
    "           'Ошибка RMSE обученной модели на тестовых данных'],\n",
    "    columns=['Регион 1', 'Регион 2', 'Регион 3']\n",
    ")\n",
    "model_results"
   ]
  },
  {
   "cell_type": "markdown",
   "metadata": {},
   "source": [
    "### Промежуточный вывод"
   ]
  },
  {
   "cell_type": "markdown",
   "metadata": {},
   "source": [
    "Предсказания по регионам 1 и 3 показали очень низкий уровень точности, в то время как для региона 2 уровень точности чрезвычайно высок. Похоже, это объясняется весьма высокой корреляцией целевого признака с одним из входных, которую мы зафиксировали на этапе корреляционного анализа."
   ]
  },
  {
   "cell_type": "markdown",
   "metadata": {},
   "source": [
    "## Подготовка к расчёту прибыли"
   ]
  },
  {
   "cell_type": "markdown",
   "metadata": {},
   "source": [
    "### Достаточный объём сырья"
   ]
  },
  {
   "cell_type": "markdown",
   "metadata": {},
   "source": [
    "Объявим константы для всех фиксированных бизнес-показателей. "
   ]
  },
  {
   "cell_type": "code",
   "execution_count": 26,
   "metadata": {},
   "outputs": [],
   "source": [
    "BUDGET = 10000\n",
    "BEST_WELLS_NUMBER = 200\n",
    "UNIT_PRICE = 0.45\n",
    "TARGET_OUTPUT = round(BUDGET / BEST_WELLS_NUMBER / UNIT_PRICE, 2)"
   ]
  },
  {
   "cell_type": "markdown",
   "metadata": {},
   "source": [
    "Рассчитаем достаточный объём сырья для безубыточной разработки новой скважины и равним его со средним запасом в каждом регионе. "
   ]
  },
  {
   "cell_type": "code",
   "execution_count": 27,
   "metadata": {
    "scrolled": true
   },
   "outputs": [
    {
     "data": {
      "text/html": [
       "<div>\n",
       "<style scoped>\n",
       "    .dataframe tbody tr th:only-of-type {\n",
       "        vertical-align: middle;\n",
       "    }\n",
       "\n",
       "    .dataframe tbody tr th {\n",
       "        vertical-align: top;\n",
       "    }\n",
       "\n",
       "    .dataframe thead th {\n",
       "        text-align: right;\n",
       "    }\n",
       "</style>\n",
       "<table border=\"1\" class=\"dataframe\">\n",
       "  <thead>\n",
       "    <tr style=\"text-align: right;\">\n",
       "      <th></th>\n",
       "      <th>Регион</th>\n",
       "      <th>Средний объем добычи со скважины (тыс. бар.)</th>\n",
       "      <th>План добычи (тыс. бар.)</th>\n",
       "      <th>Разница (тыс. бар.)</th>\n",
       "    </tr>\n",
       "  </thead>\n",
       "  <tbody>\n",
       "    <tr>\n",
       "      <th>0</th>\n",
       "      <td>1</td>\n",
       "      <td>92</td>\n",
       "      <td>111.11</td>\n",
       "      <td>-19.11</td>\n",
       "    </tr>\n",
       "    <tr>\n",
       "      <th>1</th>\n",
       "      <td>2</td>\n",
       "      <td>68</td>\n",
       "      <td>111.11</td>\n",
       "      <td>-43.11</td>\n",
       "    </tr>\n",
       "    <tr>\n",
       "      <th>2</th>\n",
       "      <td>3</td>\n",
       "      <td>94</td>\n",
       "      <td>111.11</td>\n",
       "      <td>-17.11</td>\n",
       "    </tr>\n",
       "  </tbody>\n",
       "</table>\n",
       "</div>"
      ],
      "text/plain": [
       "   Регион  Средний объем добычи со скважины (тыс. бар.)  \\\n",
       "0       1                                            92   \n",
       "1       2                                            68   \n",
       "2       3                                            94   \n",
       "\n",
       "   План добычи (тыс. бар.)  Разница (тыс. бар.)  \n",
       "0                   111.11               -19.11  \n",
       "1                   111.11               -43.11  \n",
       "2                   111.11               -17.11  "
      ]
     },
     "execution_count": 27,
     "metadata": {},
     "output_type": "execute_result"
    }
   ],
   "source": [
    "opt_reg1 = int(np.mean(region_1['product']))\n",
    "opt_reg2 = int(np.mean(region_2['product']))\n",
    "opt_reg3 = int(np.mean(region_3['product']))\n",
    "\n",
    "mean_outputs = pd.DataFrame({'Регион': [1, 2, 3]})\n",
    "mean_outputs['Средний объем добычи со скважины (тыс. бар.)'] = [opt_reg1, opt_reg2, opt_reg3]\n",
    "mean_outputs['План добычи (тыс. бар.)'] = TARGET_OUTPUT\n",
    "mean_outputs['Разница (тыс. бар.)'] = \\\n",
    "    mean_outputs['Средний объем добычи со скважины (тыс. бар.)'] - mean_outputs['План добычи (тыс. бар.)']\n",
    "mean_outputs"
   ]
  },
  {
   "cell_type": "markdown",
   "metadata": {},
   "source": [
    "### Выводы"
   ]
  },
  {
   "cell_type": "markdown",
   "metadata": {},
   "source": [
    "Случайный выбор скважин для разработки не обеспечит безубыточности."
   ]
  },
  {
   "cell_type": "markdown",
   "metadata": {},
   "source": [
    "## Расчёт прибыли и рисков "
   ]
  },
  {
   "cell_type": "markdown",
   "metadata": {},
   "source": [
    "### Функция расчета прибыли"
   ]
  },
  {
   "cell_type": "code",
   "execution_count": 28,
   "metadata": {},
   "outputs": [],
   "source": [
    "def calc_profit(preds_sample, fact_data):\n",
    "    sample_best_preds = preds_sample.sort_values(ascending=False)[:BEST_WELLS_NUMBER]\n",
    "    sample_fact_revenue = (fact_data[sample_best_preds.index] * UNIT_PRICE).sum()\n",
    "    sample_profit = sample_fact_revenue - BUDGET\n",
    "    return sample_profit"
   ]
  },
  {
   "cell_type": "markdown",
   "metadata": {},
   "source": [
    "### Расчет прогноза прибыльности по регионам"
   ]
  },
  {
   "cell_type": "markdown",
   "metadata": {},
   "source": [
    "Применим методику bootstrap для расчета вероятности выхода на показатели безубыточности по регионам"
   ]
  },
  {
   "cell_type": "code",
   "execution_count": 29,
   "metadata": {},
   "outputs": [],
   "source": [
    "results_mean = []\n",
    "results_ci = []\n",
    "profit_distr = []\n",
    "risk = []\n",
    "\n",
    "#выполним цикл по регионам\n",
    "for region in range(len(output_preds)):\n",
    "    region_data = output_preds[region]\n",
    "    fact_output = output_facts[region]\n",
    "    state = np.random.RandomState(12345)\n",
    "    loss_count = 0\n",
    "    bootstrap_profit = []\n",
    "    #для каждого региона выполним расчет вариантов прибыльности методом bootstrap\n",
    "    for i in range(1000):\n",
    "        subsample = region_data.sample(n=500, replace=True, random_state=state)\n",
    "        #вычислим прибыль при помощи ранее определенной функции\n",
    "        profit = calc_profit(subsample, fact_output)\n",
    "        bootstrap_profit.append(profit)\n",
    "    #запишем распределение прибыльности по регионам\n",
    "    profit_distr.append(bootstrap_profit)\n",
    "    #вычислим результаты для каждого региона       \n",
    "    bootstrap_profit = pd.Series(bootstrap_profit)\n",
    "    results_mean.append(int(bootstrap_profit.mean()))\n",
    "    ci = []\n",
    "    ci.append(int(bootstrap_profit.quantile(0.025)))\n",
    "    ci.append(int(bootstrap_profit.quantile(0.975)))\n",
    "    results_ci.append(ci)\n",
    "    risk.append((bootstrap_profit < 0).mean() * 100)"
   ]
  },
  {
   "cell_type": "markdown",
   "metadata": {},
   "source": [
    "Соберем результаты в общую таблицу и выведем ее на экран"
   ]
  },
  {
   "cell_type": "code",
   "execution_count": 30,
   "metadata": {},
   "outputs": [
    {
     "data": {
      "text/html": [
       "<div>\n",
       "<style scoped>\n",
       "    .dataframe tbody tr th:only-of-type {\n",
       "        vertical-align: middle;\n",
       "    }\n",
       "\n",
       "    .dataframe tbody tr th {\n",
       "        vertical-align: top;\n",
       "    }\n",
       "\n",
       "    .dataframe thead th {\n",
       "        text-align: right;\n",
       "    }\n",
       "</style>\n",
       "<table border=\"1\" class=\"dataframe\">\n",
       "  <thead>\n",
       "    <tr style=\"text-align: right;\">\n",
       "      <th></th>\n",
       "      <th>Средняя прибыль (млн.р.)</th>\n",
       "      <th>95% доверительный интервал (млн.р.)</th>\n",
       "      <th>Риск убыточности добычи (%)</th>\n",
       "    </tr>\n",
       "  </thead>\n",
       "  <tbody>\n",
       "    <tr>\n",
       "      <th>Регион 1</th>\n",
       "      <td>447</td>\n",
       "      <td>[-70, 943]</td>\n",
       "      <td>4.7</td>\n",
       "    </tr>\n",
       "    <tr>\n",
       "      <th>Регион 2</th>\n",
       "      <td>450</td>\n",
       "      <td>[37, 856]</td>\n",
       "      <td>1.6</td>\n",
       "    </tr>\n",
       "    <tr>\n",
       "      <th>Регион 3</th>\n",
       "      <td>414</td>\n",
       "      <td>[-117, 937]</td>\n",
       "      <td>6.3</td>\n",
       "    </tr>\n",
       "  </tbody>\n",
       "</table>\n",
       "</div>"
      ],
      "text/plain": [
       "          Средняя прибыль (млн.р.) 95% доверительный интервал (млн.р.)  \\\n",
       "Регион 1                       447                          [-70, 943]   \n",
       "Регион 2                       450                           [37, 856]   \n",
       "Регион 3                       414                         [-117, 937]   \n",
       "\n",
       "          Риск убыточности добычи (%)  \n",
       "Регион 1                          4.7  \n",
       "Регион 2                          1.6  \n",
       "Регион 3                          6.3  "
      ]
     },
     "execution_count": 30,
     "metadata": {},
     "output_type": "execute_result"
    }
   ],
   "source": [
    "results = pd.DataFrame(\n",
    "    {'Средняя прибыль (млн.р.)': results_mean,\n",
    "     '95% доверительный интервал (млн.р.)': results_ci,\n",
    "    'Риск убыточности добычи (%)': risk},\n",
    "    index=['Регион 1', 'Регион 2', 'Регион 3']\n",
    ")\n",
    "#округлим данные доверительного интервала\n",
    "results['95% доверительный интервал (млн.р.)'] = results['95% доверительный интервал (млн.р.)'].apply(lambda x: np.round(x, 0))\n",
    "results"
   ]
  },
  {
   "cell_type": "markdown",
   "metadata": {},
   "source": [
    "Визуализируем распределение прогнозов прибыльности добычи по регионам"
   ]
  },
  {
   "cell_type": "code",
   "execution_count": 31,
   "metadata": {},
   "outputs": [
    {
     "data": {
      "image/png": "[encoded data removed]",
      "text/plain": [
       "<Figure size 432x288 with 1 Axes>"
      ]
     },
     "metadata": {
      "needs_background": "light"
     },
     "output_type": "display_data"
    },
    {
     "data": {
      "image/png": "[encoded data removed]",
      "text/plain": [
       "<Figure size 432x288 with 1 Axes>"
      ]
     },
     "metadata": {
      "needs_background": "light"
     },
     "output_type": "display_data"
    },
    {
     "data": {
      "image/png": "[encoded data removed]",
      "text/plain": [
       "<Figure size 432x288 with 1 Axes>"
      ]
     },
     "metadata": {
      "needs_background": "light"
     },
     "output_type": "display_data"
    }
   ],
   "source": [
    "for nreg in range(1, 4):\n",
    "    reg = profit_distr[nreg-1]\n",
    "    ci_l = results.iloc[nreg-1, 1][0]\n",
    "    ci_h = results.iloc[nreg-1, 1][1]\n",
    "\n",
    "    sns.histplot(data=reg, color='blue', bins=10)\n",
    "    plt.axvline(x=ci_l, color='red', label='Нижний квантиль', linestyle='--')\n",
    "    plt.axvline(x=ci_h, color='red', label='Верхний квантиль', linestyle='--')\n",
    "    plt.axvline(x=0, color='red', label='Точка безубыточности', linestyle='-')\n",
    "    plt.legend(loc='upper left')\n",
    "    plt.axis([-300, 1000, 0, 250])\n",
    "    plt.title(f'Распределение прогноза прибыльности добычи по региону {nreg}')\n",
    "    plt.xlabel('Уровень прибыли (млн.руб.)')\n",
    "    plt.ylabel('Количество прогнозов')\n",
    "    plt.show()"
   ]
  },
  {
   "cell_type": "markdown",
   "metadata": {},
   "source": [
    "## Итоговый вывод"
   ]
  },
  {
   "cell_type": "markdown",
   "metadata": {},
   "source": [
    "При работе над проектом мы использовали данные о пробах нефти в трёх регионах по 10 000 месторождений в каждом.\\\n",
    "Целью работы было - при помощи машинного обучения определить регион, где добыча принесёт наибольшую прибыль с минимальным уровнем риска.\n",
    "\n",
    "Исходные данные содержали 36 дублированных идентификаторов скважин, которые были исключены из анализа в силу их малочисленности.\n",
    "\n",
    "Исследовательский анализ данных показал схожесть картины распределения признаков в датасетах Регионов 1 и 3 похожее, в отличие  от Региона 2. Во всех датасетах имелись ненормально распределенные признаки, включая целевой признак в Регионе 2.\\\n",
    "Корреляционный анализ методикой Phi_K показал наличие умеренной корреляции входных признаков с целевым в регионах 1 и 3.\n",
    "В регионе 2 отмечена весьма высокая корреляция входного признака f2 с целевым.\n",
    "\n",
    "Для формирования предсказаний была обучена модель линейной регрессии, оценка качества модели на тестовых данных производилась метрикой RMSE.\\\n",
    "По результатам обучения, модели показали следующие значения RMSE по регионам:\n",
    "- Регион 1 - 37.43 тыс. баррелей\n",
    "- Регион 2 - 0.89 тыс. баррелей\n",
    "- Регион 3 - 40.03 тыс. баррелей\n",
    "\n",
    "Для анализа возможной прибыли и рисков разработки скважин в регионах была применена техника Bootstrap на 1000 случайных выборок по 500 скважин из каждого региона. Результаты показали следующее:\n",
    "- самая высокая средняя прибыльность прогнозируется в регионе 2\n",
    "- самый низкий риск убыточной разработки скважин также зарегистрирован для региона 2\n",
    "- риск убытка по региону 2 находится в пределах допустимого согласно требованиям бизнеса\n",
    "\n",
    "**Рекомендации бизнесу**\\\n",
    "По результатам проведенного моделирования и анализа можно рекомендовать для разработки Регион №2 как регион с наибольшей прогнозируемой прибыльностью, высоким качеством прогнозирования, и приемлемым согласно требованиям риском убытков в размере 1,6 %."
   ]
  }
 ],
 "metadata": {
  "ExecuteTimeLog": [
   {
    "duration": 10812,
    "start_time": "2025-03-18T14:43:09.388Z"
   },
   {
    "duration": 1529,
    "start_time": "2025-03-18T14:43:32.431Z"
   },
   {
    "duration": 402,
    "start_time": "2025-03-18T14:48:55.366Z"
   },
   {
    "duration": 9,
    "start_time": "2025-03-18T14:49:34.669Z"
   },
   {
    "duration": 120,
    "start_time": "2025-03-18T14:49:54.041Z"
   },
   {
    "duration": 13,
    "start_time": "2025-03-18T14:50:54.185Z"
   },
   {
    "duration": 118,
    "start_time": "2025-03-18T14:52:16.854Z"
   },
   {
    "duration": 15,
    "start_time": "2025-03-18T14:53:03.654Z"
   },
   {
    "duration": 117,
    "start_time": "2025-03-18T14:53:27.317Z"
   },
   {
    "duration": 8,
    "start_time": "2025-03-18T14:56:40.706Z"
   },
   {
    "duration": 1304,
    "start_time": "2025-03-18T15:00:59.717Z"
   },
   {
    "duration": 11,
    "start_time": "2025-03-18T15:01:01.022Z"
   },
   {
    "duration": 13,
    "start_time": "2025-03-18T15:01:01.034Z"
   },
   {
    "duration": 469,
    "start_time": "2025-03-18T15:01:01.048Z"
   },
   {
    "duration": 60,
    "start_time": "2025-03-18T15:01:01.519Z"
   },
   {
    "duration": 73,
    "start_time": "2025-03-18T15:01:01.581Z"
   },
   {
    "duration": 47,
    "start_time": "2025-03-18T15:01:01.656Z"
   },
   {
    "duration": 153,
    "start_time": "2025-03-18T15:01:01.705Z"
   },
   {
    "duration": 1074,
    "start_time": "2025-03-18T15:01:15.520Z"
   },
   {
    "duration": 1069,
    "start_time": "2025-03-18T15:01:34.135Z"
   },
   {
    "duration": 1083,
    "start_time": "2025-03-18T15:02:02.095Z"
   },
   {
    "duration": 1061,
    "start_time": "2025-03-18T15:04:48.597Z"
   },
   {
    "duration": 972,
    "start_time": "2025-03-18T15:05:07.771Z"
   },
   {
    "duration": 1068,
    "start_time": "2025-03-18T15:05:25.337Z"
   },
   {
    "duration": 945,
    "start_time": "2025-03-18T15:05:40.803Z"
   },
   {
    "duration": 1066,
    "start_time": "2025-03-18T15:06:20.121Z"
   },
   {
    "duration": 1224,
    "start_time": "2025-03-18T15:06:26.897Z"
   },
   {
    "duration": 1214,
    "start_time": "2025-03-18T15:08:22.776Z"
   },
   {
    "duration": 1261,
    "start_time": "2025-03-18T15:08:37.190Z"
   },
   {
    "duration": 1208,
    "start_time": "2025-03-18T15:08:42.814Z"
   },
   {
    "duration": 1315,
    "start_time": "2025-03-18T15:09:01.734Z"
   },
   {
    "duration": 159,
    "start_time": "2025-03-18T15:09:43.910Z"
   },
   {
    "duration": 1151,
    "start_time": "2025-03-18T15:09:57.148Z"
   },
   {
    "duration": 1260,
    "start_time": "2025-03-18T15:10:15.687Z"
   },
   {
    "duration": 1116,
    "start_time": "2025-03-18T15:10:23.517Z"
   },
   {
    "duration": 1302,
    "start_time": "2025-03-18T15:11:02.668Z"
   },
   {
    "duration": 763,
    "start_time": "2025-03-18T15:14:46.671Z"
   },
   {
    "duration": 582,
    "start_time": "2025-03-18T15:14:58.847Z"
   },
   {
    "duration": 567,
    "start_time": "2025-03-18T15:15:08.766Z"
   },
   {
    "duration": 702,
    "start_time": "2025-03-18T15:16:15.813Z"
   },
   {
    "duration": 571,
    "start_time": "2025-03-18T15:16:24.862Z"
   },
   {
    "duration": 566,
    "start_time": "2025-03-18T15:17:02.460Z"
   },
   {
    "duration": 589,
    "start_time": "2025-03-18T15:22:14.225Z"
   },
   {
    "duration": 95,
    "start_time": "2025-03-18T15:31:17.963Z"
   },
   {
    "duration": 12,
    "start_time": "2025-03-18T15:31:29.372Z"
   },
   {
    "duration": 5,
    "start_time": "2025-03-18T15:32:10.060Z"
   },
   {
    "duration": 8,
    "start_time": "2025-03-18T15:35:09.007Z"
   },
   {
    "duration": 45,
    "start_time": "2025-03-18T15:35:15.432Z"
   },
   {
    "duration": 2180,
    "start_time": "2025-03-18T15:35:23.046Z"
   },
   {
    "duration": 10,
    "start_time": "2025-03-18T15:35:25.228Z"
   },
   {
    "duration": 11,
    "start_time": "2025-03-18T15:35:25.240Z"
   },
   {
    "duration": 6,
    "start_time": "2025-03-18T15:35:25.252Z"
   },
   {
    "duration": 509,
    "start_time": "2025-03-18T15:35:25.261Z"
   },
   {
    "duration": 58,
    "start_time": "2025-03-18T15:35:25.772Z"
   },
   {
    "duration": 70,
    "start_time": "2025-03-18T15:35:25.832Z"
   },
   {
    "duration": 62,
    "start_time": "2025-03-18T15:35:25.904Z"
   },
   {
    "duration": 1319,
    "start_time": "2025-03-18T15:35:25.968Z"
   },
   {
    "duration": 1211,
    "start_time": "2025-03-18T15:35:27.289Z"
   },
   {
    "duration": 1303,
    "start_time": "2025-03-18T15:35:28.502Z"
   },
   {
    "duration": 485,
    "start_time": "2025-03-18T15:35:29.807Z"
   },
   {
    "duration": 0,
    "start_time": "2025-03-18T15:35:30.294Z"
   },
   {
    "duration": 0,
    "start_time": "2025-03-18T15:35:30.295Z"
   },
   {
    "duration": 0,
    "start_time": "2025-03-18T15:35:30.296Z"
   },
   {
    "duration": 5,
    "start_time": "2025-03-18T15:36:16.874Z"
   },
   {
    "duration": 5,
    "start_time": "2025-03-18T15:36:28.842Z"
   },
   {
    "duration": 4,
    "start_time": "2025-03-18T15:36:37.108Z"
   },
   {
    "duration": 739,
    "start_time": "2025-03-18T15:36:44.483Z"
   },
   {
    "duration": 617,
    "start_time": "2025-03-18T15:37:08.297Z"
   },
   {
    "duration": 16,
    "start_time": "2025-03-18T15:37:39.440Z"
   },
   {
    "duration": 3,
    "start_time": "2025-03-18T15:38:32.847Z"
   },
   {
    "duration": 788,
    "start_time": "2025-03-18T15:38:36.631Z"
   },
   {
    "duration": 666,
    "start_time": "2025-03-18T15:39:17.518Z"
   },
   {
    "duration": 694,
    "start_time": "2025-03-18T15:39:28.886Z"
   },
   {
    "duration": 9,
    "start_time": "2025-03-18T15:51:58.449Z"
   },
   {
    "duration": 15,
    "start_time": "2025-03-18T15:52:44.263Z"
   },
   {
    "duration": 4,
    "start_time": "2025-03-18T15:53:34.182Z"
   },
   {
    "duration": 18,
    "start_time": "2025-03-18T15:54:39.126Z"
   },
   {
    "duration": 5,
    "start_time": "2025-03-18T15:54:40.189Z"
   },
   {
    "duration": 9,
    "start_time": "2025-03-18T15:55:25.432Z"
   },
   {
    "duration": 17,
    "start_time": "2025-03-18T15:55:27.876Z"
   },
   {
    "duration": 4,
    "start_time": "2025-03-18T15:55:30.349Z"
   },
   {
    "duration": 9,
    "start_time": "2025-03-18T15:57:51.041Z"
   },
   {
    "duration": 14,
    "start_time": "2025-03-18T15:57:52.434Z"
   },
   {
    "duration": 4,
    "start_time": "2025-03-18T15:57:57.193Z"
   },
   {
    "duration": 25,
    "start_time": "2025-03-18T15:58:35.529Z"
   },
   {
    "duration": 26,
    "start_time": "2025-03-18T15:59:14.033Z"
   },
   {
    "duration": 24,
    "start_time": "2025-03-18T16:00:53.359Z"
   },
   {
    "duration": 11,
    "start_time": "2025-03-18T16:01:09.182Z"
   },
   {
    "duration": 13,
    "start_time": "2025-03-18T16:03:03.354Z"
   },
   {
    "duration": 15,
    "start_time": "2025-03-18T16:03:36.385Z"
   },
   {
    "duration": 65,
    "start_time": "2025-03-18T16:03:51.504Z"
   },
   {
    "duration": 143,
    "start_time": "2025-03-18T16:05:17.817Z"
   },
   {
    "duration": 63,
    "start_time": "2025-03-18T16:05:30.261Z"
   },
   {
    "duration": 63,
    "start_time": "2025-03-18T16:07:04.265Z"
   },
   {
    "duration": 62,
    "start_time": "2025-03-18T16:07:32.329Z"
   },
   {
    "duration": 149,
    "start_time": "2025-03-18T16:08:55.446Z"
   },
   {
    "duration": 67,
    "start_time": "2025-03-18T16:08:58.163Z"
   },
   {
    "duration": 131,
    "start_time": "2025-03-18T16:09:09.198Z"
   },
   {
    "duration": 70,
    "start_time": "2025-03-18T16:09:11.533Z"
   },
   {
    "duration": 52,
    "start_time": "2025-03-19T06:49:44.833Z"
   },
   {
    "duration": 1495,
    "start_time": "2025-03-19T06:50:00.238Z"
   },
   {
    "duration": 0,
    "start_time": "2025-03-19T06:50:01.735Z"
   },
   {
    "duration": 0,
    "start_time": "2025-03-19T06:50:01.736Z"
   },
   {
    "duration": 0,
    "start_time": "2025-03-19T06:50:01.737Z"
   },
   {
    "duration": 0,
    "start_time": "2025-03-19T06:50:01.738Z"
   },
   {
    "duration": 0,
    "start_time": "2025-03-19T06:50:01.739Z"
   },
   {
    "duration": 0,
    "start_time": "2025-03-19T06:50:01.741Z"
   },
   {
    "duration": 0,
    "start_time": "2025-03-19T06:50:01.742Z"
   },
   {
    "duration": 0,
    "start_time": "2025-03-19T06:50:01.743Z"
   },
   {
    "duration": 0,
    "start_time": "2025-03-19T06:50:01.744Z"
   },
   {
    "duration": 0,
    "start_time": "2025-03-19T06:50:01.746Z"
   },
   {
    "duration": 0,
    "start_time": "2025-03-19T06:50:01.747Z"
   },
   {
    "duration": 0,
    "start_time": "2025-03-19T06:50:01.748Z"
   },
   {
    "duration": 0,
    "start_time": "2025-03-19T06:50:01.774Z"
   },
   {
    "duration": 0,
    "start_time": "2025-03-19T06:50:01.775Z"
   },
   {
    "duration": 10743,
    "start_time": "2025-03-19T06:50:22.855Z"
   },
   {
    "duration": 1416,
    "start_time": "2025-03-19T06:50:33.600Z"
   },
   {
    "duration": 11,
    "start_time": "2025-03-19T06:50:35.018Z"
   },
   {
    "duration": 22,
    "start_time": "2025-03-19T06:50:35.031Z"
   },
   {
    "duration": 19,
    "start_time": "2025-03-19T06:50:35.057Z"
   },
   {
    "duration": 515,
    "start_time": "2025-03-19T06:50:35.078Z"
   },
   {
    "duration": 56,
    "start_time": "2025-03-19T06:50:35.595Z"
   },
   {
    "duration": 66,
    "start_time": "2025-03-19T06:50:35.653Z"
   },
   {
    "duration": 75,
    "start_time": "2025-03-19T06:50:35.721Z"
   },
   {
    "duration": 1268,
    "start_time": "2025-03-19T06:50:35.799Z"
   },
   {
    "duration": 1181,
    "start_time": "2025-03-19T06:50:37.073Z"
   },
   {
    "duration": 1218,
    "start_time": "2025-03-19T06:50:38.255Z"
   },
   {
    "duration": 758,
    "start_time": "2025-03-19T06:50:39.475Z"
   },
   {
    "duration": 732,
    "start_time": "2025-03-19T06:50:40.235Z"
   },
   {
    "duration": 686,
    "start_time": "2025-03-19T06:50:40.973Z"
   },
   {
    "duration": 14,
    "start_time": "2025-03-19T06:50:41.661Z"
   },
   {
    "duration": 54,
    "start_time": "2025-03-19T06:59:31.124Z"
   },
   {
    "duration": 3,
    "start_time": "2025-03-19T07:02:33.791Z"
   },
   {
    "duration": 134,
    "start_time": "2025-03-19T07:03:02.103Z"
   },
   {
    "duration": 4,
    "start_time": "2025-03-19T07:03:24.886Z"
   },
   {
    "duration": 59,
    "start_time": "2025-03-19T07:03:30.270Z"
   },
   {
    "duration": 38,
    "start_time": "2025-03-19T07:04:22.442Z"
   },
   {
    "duration": 35,
    "start_time": "2025-03-19T07:04:49.044Z"
   },
   {
    "duration": 50,
    "start_time": "2025-03-19T07:05:19.059Z"
   },
   {
    "duration": 9,
    "start_time": "2025-03-19T07:19:14.869Z"
   },
   {
    "duration": 6,
    "start_time": "2025-03-19T07:19:21.084Z"
   },
   {
    "duration": 19,
    "start_time": "2025-03-19T07:19:25.428Z"
   },
   {
    "duration": 12,
    "start_time": "2025-03-19T07:21:50.898Z"
   },
   {
    "duration": 11,
    "start_time": "2025-03-19T07:22:34.587Z"
   },
   {
    "duration": 14,
    "start_time": "2025-03-19T07:23:24.167Z"
   },
   {
    "duration": 10,
    "start_time": "2025-03-19T07:23:36.232Z"
   },
   {
    "duration": 11,
    "start_time": "2025-03-19T07:24:07.512Z"
   },
   {
    "duration": 965,
    "start_time": "2025-03-19T07:24:40.510Z"
   },
   {
    "duration": 881,
    "start_time": "2025-03-19T07:25:38.694Z"
   },
   {
    "duration": 753,
    "start_time": "2025-03-19T07:33:16.740Z"
   },
   {
    "duration": 779,
    "start_time": "2025-03-19T07:33:30.907Z"
   },
   {
    "duration": 883,
    "start_time": "2025-03-19T07:34:51.492Z"
   },
   {
    "duration": 845,
    "start_time": "2025-03-19T07:35:27.249Z"
   },
   {
    "duration": 6,
    "start_time": "2025-03-19T07:37:22.326Z"
   },
   {
    "duration": 92,
    "start_time": "2025-03-19T07:38:01.590Z"
   },
   {
    "duration": 4,
    "start_time": "2025-03-19T07:44:59.615Z"
   },
   {
    "duration": 139,
    "start_time": "2025-03-19T07:45:28.336Z"
   },
   {
    "duration": 3,
    "start_time": "2025-03-19T07:46:56.133Z"
   },
   {
    "duration": 54,
    "start_time": "2025-03-19T07:47:00.324Z"
   },
   {
    "duration": 4,
    "start_time": "2025-03-19T07:47:44.151Z"
   },
   {
    "duration": 39,
    "start_time": "2025-03-19T07:47:47.659Z"
   },
   {
    "duration": 3,
    "start_time": "2025-03-19T07:48:50.050Z"
   },
   {
    "duration": 58,
    "start_time": "2025-03-19T07:48:53.219Z"
   },
   {
    "duration": 4,
    "start_time": "2025-03-19T07:49:19.353Z"
   },
   {
    "duration": 4,
    "start_time": "2025-03-19T07:49:28.209Z"
   },
   {
    "duration": 149,
    "start_time": "2025-03-19T07:49:32.825Z"
   },
   {
    "duration": 42,
    "start_time": "2025-03-19T07:52:21.535Z"
   },
   {
    "duration": 43,
    "start_time": "2025-03-19T07:52:30.831Z"
   },
   {
    "duration": 846,
    "start_time": "2025-03-19T07:52:50.527Z"
   },
   {
    "duration": 42,
    "start_time": "2025-03-19T07:53:01.133Z"
   },
   {
    "duration": 18,
    "start_time": "2025-03-19T07:53:19.633Z"
   },
   {
    "duration": 80,
    "start_time": "2025-03-19T07:53:31.096Z"
   },
   {
    "duration": 89,
    "start_time": "2025-03-19T07:53:49.487Z"
   },
   {
    "duration": 24,
    "start_time": "2025-03-19T07:54:11.965Z"
   },
   {
    "duration": 7,
    "start_time": "2025-03-19T07:55:15.372Z"
   },
   {
    "duration": 7,
    "start_time": "2025-03-19T07:56:51.778Z"
   },
   {
    "duration": 14,
    "start_time": "2025-03-19T07:59:22.999Z"
   },
   {
    "duration": 4,
    "start_time": "2025-03-19T08:06:01.474Z"
   },
   {
    "duration": 4,
    "start_time": "2025-03-19T08:06:10.038Z"
   },
   {
    "duration": 3,
    "start_time": "2025-03-19T08:06:20.495Z"
   },
   {
    "duration": 4,
    "start_time": "2025-03-19T08:06:42.748Z"
   },
   {
    "duration": 31,
    "start_time": "2025-03-19T08:06:50.020Z"
   },
   {
    "duration": 821,
    "start_time": "2025-03-19T08:06:50.053Z"
   },
   {
    "duration": 108,
    "start_time": "2025-03-19T08:06:50.881Z"
   },
   {
    "duration": 79,
    "start_time": "2025-03-19T08:06:50.996Z"
   },
   {
    "duration": 3,
    "start_time": "2025-03-19T08:08:14.914Z"
   },
   {
    "duration": 51,
    "start_time": "2025-03-19T08:08:14.919Z"
   },
   {
    "duration": 812,
    "start_time": "2025-03-19T08:08:14.972Z"
   },
   {
    "duration": 109,
    "start_time": "2025-03-19T08:08:15.786Z"
   },
   {
    "duration": 6,
    "start_time": "2025-03-19T08:08:15.975Z"
   },
   {
    "duration": 3,
    "start_time": "2025-03-19T08:09:54.527Z"
   },
   {
    "duration": 40,
    "start_time": "2025-03-19T08:09:54.531Z"
   },
   {
    "duration": 800,
    "start_time": "2025-03-19T08:09:54.574Z"
   },
   {
    "duration": 105,
    "start_time": "2025-03-19T08:09:55.390Z"
   },
   {
    "duration": 87,
    "start_time": "2025-03-19T08:09:55.588Z"
   },
   {
    "duration": 9,
    "start_time": "2025-03-19T08:11:49.800Z"
   },
   {
    "duration": 5,
    "start_time": "2025-03-19T08:12:13.350Z"
   },
   {
    "duration": 7,
    "start_time": "2025-03-19T08:12:22.374Z"
   },
   {
    "duration": 5,
    "start_time": "2025-03-19T08:12:29.741Z"
   },
   {
    "duration": 1376,
    "start_time": "2025-03-19T08:13:47.833Z"
   },
   {
    "duration": 11,
    "start_time": "2025-03-19T08:13:49.211Z"
   },
   {
    "duration": 8,
    "start_time": "2025-03-19T08:13:49.224Z"
   },
   {
    "duration": 7,
    "start_time": "2025-03-19T08:13:49.233Z"
   },
   {
    "duration": 4,
    "start_time": "2025-03-19T08:13:49.242Z"
   },
   {
    "duration": 490,
    "start_time": "2025-03-19T08:13:49.247Z"
   },
   {
    "duration": 70,
    "start_time": "2025-03-19T08:13:49.739Z"
   },
   {
    "duration": 43,
    "start_time": "2025-03-19T08:13:49.811Z"
   },
   {
    "duration": 65,
    "start_time": "2025-03-19T08:13:49.856Z"
   },
   {
    "duration": 1250,
    "start_time": "2025-03-19T08:13:49.923Z"
   },
   {
    "duration": 1165,
    "start_time": "2025-03-19T08:13:51.180Z"
   },
   {
    "duration": 1293,
    "start_time": "2025-03-19T08:13:52.347Z"
   },
   {
    "duration": 762,
    "start_time": "2025-03-19T08:13:53.641Z"
   },
   {
    "duration": 659,
    "start_time": "2025-03-19T08:13:54.406Z"
   },
   {
    "duration": 645,
    "start_time": "2025-03-19T08:13:55.067Z"
   },
   {
    "duration": 3,
    "start_time": "2025-03-19T08:13:55.713Z"
   },
   {
    "duration": 21,
    "start_time": "2025-03-19T08:13:55.718Z"
   },
   {
    "duration": 165,
    "start_time": "2025-03-19T08:13:55.741Z"
   },
   {
    "duration": 0,
    "start_time": "2025-03-19T08:13:55.908Z"
   },
   {
    "duration": 1,
    "start_time": "2025-03-19T08:13:55.909Z"
   },
   {
    "duration": 0,
    "start_time": "2025-03-19T08:13:55.911Z"
   },
   {
    "duration": 0,
    "start_time": "2025-03-19T08:13:55.913Z"
   },
   {
    "duration": 0,
    "start_time": "2025-03-19T08:13:55.914Z"
   },
   {
    "duration": 0,
    "start_time": "2025-03-19T08:13:55.915Z"
   },
   {
    "duration": 0,
    "start_time": "2025-03-19T08:13:55.917Z"
   },
   {
    "duration": 0,
    "start_time": "2025-03-19T08:13:55.918Z"
   },
   {
    "duration": 0,
    "start_time": "2025-03-19T08:13:55.920Z"
   },
   {
    "duration": 0,
    "start_time": "2025-03-19T08:13:55.921Z"
   },
   {
    "duration": 0,
    "start_time": "2025-03-19T08:13:55.923Z"
   },
   {
    "duration": 0,
    "start_time": "2025-03-19T08:13:55.924Z"
   },
   {
    "duration": 0,
    "start_time": "2025-03-19T08:13:55.926Z"
   },
   {
    "duration": 0,
    "start_time": "2025-03-19T08:13:55.927Z"
   },
   {
    "duration": 46,
    "start_time": "2025-03-19T08:14:29.862Z"
   },
   {
    "duration": 59,
    "start_time": "2025-03-19T08:14:36.244Z"
   },
   {
    "duration": 9,
    "start_time": "2025-03-19T08:15:01.438Z"
   },
   {
    "duration": 45,
    "start_time": "2025-03-19T08:15:16.165Z"
   },
   {
    "duration": 10,
    "start_time": "2025-03-19T08:15:19.957Z"
   },
   {
    "duration": 48,
    "start_time": "2025-03-19T08:15:59.764Z"
   },
   {
    "duration": 27,
    "start_time": "2025-03-19T08:16:14.606Z"
   },
   {
    "duration": 1374,
    "start_time": "2025-03-19T08:16:59.424Z"
   },
   {
    "duration": 10,
    "start_time": "2025-03-19T08:17:00.800Z"
   },
   {
    "duration": 26,
    "start_time": "2025-03-19T08:17:00.812Z"
   },
   {
    "duration": 15,
    "start_time": "2025-03-19T08:17:00.840Z"
   },
   {
    "duration": 22,
    "start_time": "2025-03-19T08:17:00.857Z"
   },
   {
    "duration": 481,
    "start_time": "2025-03-19T08:17:00.883Z"
   },
   {
    "duration": 60,
    "start_time": "2025-03-19T08:17:01.366Z"
   },
   {
    "duration": 70,
    "start_time": "2025-03-19T08:17:01.428Z"
   },
   {
    "duration": 51,
    "start_time": "2025-03-19T08:17:01.500Z"
   },
   {
    "duration": 1300,
    "start_time": "2025-03-19T08:17:01.552Z"
   },
   {
    "duration": 1163,
    "start_time": "2025-03-19T08:17:02.854Z"
   },
   {
    "duration": 1252,
    "start_time": "2025-03-19T08:17:04.018Z"
   },
   {
    "duration": 803,
    "start_time": "2025-03-19T08:17:05.274Z"
   },
   {
    "duration": 673,
    "start_time": "2025-03-19T08:17:06.082Z"
   },
   {
    "duration": 669,
    "start_time": "2025-03-19T08:17:06.757Z"
   },
   {
    "duration": 3,
    "start_time": "2025-03-19T08:17:07.428Z"
   },
   {
    "duration": 22,
    "start_time": "2025-03-19T08:17:07.432Z"
   },
   {
    "duration": 44,
    "start_time": "2025-03-19T08:17:07.456Z"
   },
   {
    "duration": 781,
    "start_time": "2025-03-19T08:17:07.501Z"
   },
   {
    "duration": 107,
    "start_time": "2025-03-19T08:17:08.284Z"
   },
   {
    "duration": 81,
    "start_time": "2025-03-19T08:17:08.394Z"
   },
   {
    "duration": 14,
    "start_time": "2025-03-19T08:17:08.480Z"
   },
   {
    "duration": 4,
    "start_time": "2025-03-19T08:17:08.576Z"
   },
   {
    "duration": 40,
    "start_time": "2025-03-19T08:17:08.583Z"
   },
   {
    "duration": 666,
    "start_time": "2025-03-19T08:17:08.625Z"
   },
   {
    "duration": 99,
    "start_time": "2025-03-19T08:17:09.294Z"
   },
   {
    "duration": 80,
    "start_time": "2025-03-19T08:17:09.395Z"
   },
   {
    "duration": 16,
    "start_time": "2025-03-19T08:17:09.478Z"
   },
   {
    "duration": 139,
    "start_time": "2025-03-19T08:17:09.496Z"
   },
   {
    "duration": 741,
    "start_time": "2025-03-19T08:17:09.637Z"
   },
   {
    "duration": 115,
    "start_time": "2025-03-19T08:17:10.380Z"
   },
   {
    "duration": 84,
    "start_time": "2025-03-19T08:17:10.589Z"
   },
   {
    "duration": 4,
    "start_time": "2025-03-19T08:35:21.281Z"
   },
   {
    "duration": 5,
    "start_time": "2025-03-19T08:35:27.461Z"
   },
   {
    "duration": 1409,
    "start_time": "2025-03-19T10:59:02.184Z"
   },
   {
    "duration": 11,
    "start_time": "2025-03-19T10:59:03.595Z"
   },
   {
    "duration": 30,
    "start_time": "2025-03-19T10:59:03.607Z"
   },
   {
    "duration": 17,
    "start_time": "2025-03-19T10:59:03.639Z"
   },
   {
    "duration": 4,
    "start_time": "2025-03-19T10:59:03.659Z"
   },
   {
    "duration": 537,
    "start_time": "2025-03-19T10:59:03.665Z"
   },
   {
    "duration": 55,
    "start_time": "2025-03-19T10:59:04.204Z"
   },
   {
    "duration": 63,
    "start_time": "2025-03-19T10:59:04.261Z"
   },
   {
    "duration": 76,
    "start_time": "2025-03-19T10:59:04.326Z"
   },
   {
    "duration": 1348,
    "start_time": "2025-03-19T10:59:04.403Z"
   },
   {
    "duration": 1198,
    "start_time": "2025-03-19T10:59:05.752Z"
   },
   {
    "duration": 1271,
    "start_time": "2025-03-19T10:59:06.952Z"
   },
   {
    "duration": 746,
    "start_time": "2025-03-19T10:59:08.225Z"
   },
   {
    "duration": 650,
    "start_time": "2025-03-19T10:59:08.978Z"
   },
   {
    "duration": 627,
    "start_time": "2025-03-19T10:59:09.630Z"
   },
   {
    "duration": 4,
    "start_time": "2025-03-19T10:59:10.258Z"
   },
   {
    "duration": 26,
    "start_time": "2025-03-19T10:59:10.263Z"
   },
   {
    "duration": 40,
    "start_time": "2025-03-19T10:59:10.291Z"
   },
   {
    "duration": 759,
    "start_time": "2025-03-19T10:59:10.332Z"
   },
   {
    "duration": 181,
    "start_time": "2025-03-19T10:59:11.093Z"
   },
   {
    "duration": 5,
    "start_time": "2025-03-19T10:59:11.282Z"
   },
   {
    "duration": 79,
    "start_time": "2025-03-19T10:59:11.295Z"
   },
   {
    "duration": 41,
    "start_time": "2025-03-19T10:59:11.383Z"
   },
   {
    "duration": 669,
    "start_time": "2025-03-19T10:59:11.425Z"
   },
   {
    "duration": 119,
    "start_time": "2025-03-19T10:59:12.175Z"
   },
   {
    "duration": 77,
    "start_time": "2025-03-19T10:59:12.297Z"
   },
   {
    "duration": 10,
    "start_time": "2025-03-19T10:59:12.378Z"
   },
   {
    "duration": 128,
    "start_time": "2025-03-19T10:59:12.393Z"
   },
   {
    "duration": 764,
    "start_time": "2025-03-19T10:59:12.523Z"
   },
   {
    "duration": 181,
    "start_time": "2025-03-19T10:59:13.293Z"
   },
   {
    "duration": 6,
    "start_time": "2025-03-19T10:59:13.480Z"
   },
   {
    "duration": 236,
    "start_time": "2025-03-19T10:59:13.490Z"
   },
   {
    "duration": 5,
    "start_time": "2025-03-19T10:59:43.245Z"
   },
   {
    "duration": 26,
    "start_time": "2025-03-19T11:00:07.278Z"
   },
   {
    "duration": 909,
    "start_time": "2025-03-19T11:00:23.204Z"
   },
   {
    "duration": 27,
    "start_time": "2025-03-19T11:02:24.647Z"
   },
   {
    "duration": 10,
    "start_time": "2025-03-19T11:06:56.062Z"
   },
   {
    "duration": 5,
    "start_time": "2025-03-19T11:07:00.498Z"
   },
   {
    "duration": 6,
    "start_time": "2025-03-19T11:07:10.876Z"
   },
   {
    "duration": 3,
    "start_time": "2025-03-19T11:07:21.307Z"
   },
   {
    "duration": 2,
    "start_time": "2025-03-19T11:07:32.450Z"
   },
   {
    "duration": 4,
    "start_time": "2025-03-19T11:07:48.802Z"
   },
   {
    "duration": 3,
    "start_time": "2025-03-19T11:08:01.517Z"
   },
   {
    "duration": 9,
    "start_time": "2025-03-19T11:08:21.713Z"
   },
   {
    "duration": 11,
    "start_time": "2025-03-19T11:08:28.185Z"
   },
   {
    "duration": 9,
    "start_time": "2025-03-19T11:09:26.608Z"
   },
   {
    "duration": 9,
    "start_time": "2025-03-19T11:11:14.518Z"
   },
   {
    "duration": 10,
    "start_time": "2025-03-19T11:11:34.800Z"
   },
   {
    "duration": 4,
    "start_time": "2025-03-19T11:11:43.261Z"
   },
   {
    "duration": 3,
    "start_time": "2025-03-19T11:11:51.492Z"
   },
   {
    "duration": 9,
    "start_time": "2025-03-19T11:12:05.348Z"
   },
   {
    "duration": 3,
    "start_time": "2025-03-19T11:12:30.411Z"
   },
   {
    "duration": 3,
    "start_time": "2025-03-19T11:12:43.435Z"
   },
   {
    "duration": 36,
    "start_time": "2025-03-19T11:12:43.440Z"
   },
   {
    "duration": 710,
    "start_time": "2025-03-19T11:12:43.478Z"
   },
   {
    "duration": 187,
    "start_time": "2025-03-19T11:12:44.193Z"
   },
   {
    "duration": 4,
    "start_time": "2025-03-19T11:12:44.386Z"
   },
   {
    "duration": 5,
    "start_time": "2025-03-19T11:12:50.173Z"
   },
   {
    "duration": 5,
    "start_time": "2025-03-19T11:13:14.582Z"
   },
   {
    "duration": 18,
    "start_time": "2025-03-19T11:13:17.475Z"
   },
   {
    "duration": 15,
    "start_time": "2025-03-19T11:13:28.107Z"
   },
   {
    "duration": 10,
    "start_time": "2025-03-19T11:14:32.217Z"
   },
   {
    "duration": 9,
    "start_time": "2025-03-19T11:14:45.706Z"
   },
   {
    "duration": 10,
    "start_time": "2025-03-19T11:15:15.625Z"
   },
   {
    "duration": 5,
    "start_time": "2025-03-19T11:15:41.616Z"
   },
   {
    "duration": 9,
    "start_time": "2025-03-19T11:15:51.199Z"
   },
   {
    "duration": 3,
    "start_time": "2025-03-19T11:16:13.590Z"
   },
   {
    "duration": 6,
    "start_time": "2025-03-19T11:16:19.880Z"
   },
   {
    "duration": 7,
    "start_time": "2025-03-19T11:18:10.836Z"
   },
   {
    "duration": 13,
    "start_time": "2025-03-19T11:18:12.077Z"
   },
   {
    "duration": 12,
    "start_time": "2025-03-19T11:18:55.732Z"
   },
   {
    "duration": 10,
    "start_time": "2025-03-19T11:20:51.226Z"
   },
   {
    "duration": 5,
    "start_time": "2025-03-19T11:22:03.298Z"
   },
   {
    "duration": 5,
    "start_time": "2025-03-19T11:22:38.734Z"
   },
   {
    "duration": 10,
    "start_time": "2025-03-19T11:25:57.123Z"
   },
   {
    "duration": 5,
    "start_time": "2025-03-19T11:26:01.382Z"
   },
   {
    "duration": 8,
    "start_time": "2025-03-19T11:26:03.394Z"
   },
   {
    "duration": 5,
    "start_time": "2025-03-19T11:26:57.738Z"
   },
   {
    "duration": 10,
    "start_time": "2025-03-19T11:26:59.202Z"
   },
   {
    "duration": 4,
    "start_time": "2025-03-19T11:28:03.104Z"
   },
   {
    "duration": 13,
    "start_time": "2025-03-19T11:28:03.779Z"
   },
   {
    "duration": 7,
    "start_time": "2025-03-19T11:28:43.415Z"
   },
   {
    "duration": 9,
    "start_time": "2025-03-19T11:28:57.409Z"
   },
   {
    "duration": 85,
    "start_time": "2025-03-19T11:31:17.035Z"
   },
   {
    "duration": 86,
    "start_time": "2025-03-19T11:31:22.508Z"
   },
   {
    "duration": 26,
    "start_time": "2025-03-19T11:31:25.972Z"
   },
   {
    "duration": 22,
    "start_time": "2025-03-19T11:31:44.236Z"
   },
   {
    "duration": 25,
    "start_time": "2025-03-19T11:33:36.443Z"
   },
   {
    "duration": 7,
    "start_time": "2025-03-19T11:36:17.445Z"
   },
   {
    "duration": 4,
    "start_time": "2025-03-19T11:37:42.284Z"
   },
   {
    "duration": 11,
    "start_time": "2025-03-19T11:38:24.108Z"
   },
   {
    "duration": 8,
    "start_time": "2025-03-19T11:38:42.827Z"
   },
   {
    "duration": 8,
    "start_time": "2025-03-19T11:38:53.387Z"
   },
   {
    "duration": 13,
    "start_time": "2025-03-19T11:39:41.306Z"
   },
   {
    "duration": 10,
    "start_time": "2025-03-19T11:40:27.564Z"
   },
   {
    "duration": 3,
    "start_time": "2025-03-19T11:41:08.705Z"
   },
   {
    "duration": 4,
    "start_time": "2025-03-19T11:41:46.614Z"
   },
   {
    "duration": 7,
    "start_time": "2025-03-19T11:41:56.222Z"
   },
   {
    "duration": 2,
    "start_time": "2025-03-19T11:47:57.040Z"
   },
   {
    "duration": 4,
    "start_time": "2025-03-19T11:48:04.303Z"
   },
   {
    "duration": 4,
    "start_time": "2025-03-19T11:48:45.813Z"
   },
   {
    "duration": 2,
    "start_time": "2025-03-19T11:48:49.958Z"
   },
   {
    "duration": 3,
    "start_time": "2025-03-19T11:48:50.638Z"
   },
   {
    "duration": 15,
    "start_time": "2025-03-19T11:50:02.876Z"
   },
   {
    "duration": 19,
    "start_time": "2025-03-19T11:51:22.476Z"
   },
   {
    "duration": 4,
    "start_time": "2025-03-19T11:51:51.601Z"
   },
   {
    "duration": 12,
    "start_time": "2025-03-19T11:52:25.035Z"
   },
   {
    "duration": 13,
    "start_time": "2025-03-19T11:52:32.097Z"
   },
   {
    "duration": 4,
    "start_time": "2025-03-19T11:52:37.736Z"
   },
   {
    "duration": 5,
    "start_time": "2025-03-19T11:53:59.671Z"
   },
   {
    "duration": 8,
    "start_time": "2025-03-19T11:54:02.064Z"
   },
   {
    "duration": 15,
    "start_time": "2025-03-19T12:01:24.878Z"
   },
   {
    "duration": 18,
    "start_time": "2025-03-19T12:01:35.966Z"
   },
   {
    "duration": 11,
    "start_time": "2025-03-19T12:02:19.382Z"
   },
   {
    "duration": 1098,
    "start_time": "2025-03-19T12:02:41.475Z"
   },
   {
    "duration": 12,
    "start_time": "2025-03-19T12:03:05.106Z"
   },
   {
    "duration": 11,
    "start_time": "2025-03-19T12:03:46.095Z"
   },
   {
    "duration": 12,
    "start_time": "2025-03-19T12:06:37.617Z"
   },
   {
    "duration": 1373,
    "start_time": "2025-03-19T12:18:13.034Z"
   },
   {
    "duration": 10,
    "start_time": "2025-03-19T12:18:14.409Z"
   },
   {
    "duration": 21,
    "start_time": "2025-03-19T12:18:14.420Z"
   },
   {
    "duration": 7,
    "start_time": "2025-03-19T12:18:14.442Z"
   },
   {
    "duration": 6,
    "start_time": "2025-03-19T12:18:14.451Z"
   },
   {
    "duration": 542,
    "start_time": "2025-03-19T12:18:14.459Z"
   },
   {
    "duration": 57,
    "start_time": "2025-03-19T12:18:15.002Z"
   },
   {
    "duration": 64,
    "start_time": "2025-03-19T12:18:15.060Z"
   },
   {
    "duration": 77,
    "start_time": "2025-03-19T12:18:15.126Z"
   },
   {
    "duration": 1234,
    "start_time": "2025-03-19T12:18:15.204Z"
   },
   {
    "duration": 1120,
    "start_time": "2025-03-19T12:18:16.440Z"
   },
   {
    "duration": 1237,
    "start_time": "2025-03-19T12:18:17.562Z"
   },
   {
    "duration": 747,
    "start_time": "2025-03-19T12:18:18.801Z"
   },
   {
    "duration": 622,
    "start_time": "2025-03-19T12:18:19.551Z"
   },
   {
    "duration": 653,
    "start_time": "2025-03-19T12:18:20.176Z"
   },
   {
    "duration": 3,
    "start_time": "2025-03-19T12:18:20.831Z"
   },
   {
    "duration": 15,
    "start_time": "2025-03-19T12:18:20.835Z"
   },
   {
    "duration": 45,
    "start_time": "2025-03-19T12:18:20.851Z"
   },
   {
    "duration": 596,
    "start_time": "2025-03-19T12:18:20.898Z"
   },
   {
    "duration": 278,
    "start_time": "2025-03-19T12:18:21.496Z"
   },
   {
    "duration": 7,
    "start_time": "2025-03-19T12:18:21.776Z"
   },
   {
    "duration": 8,
    "start_time": "2025-03-19T12:18:21.785Z"
   },
   {
    "duration": 42,
    "start_time": "2025-03-19T12:18:21.877Z"
   },
   {
    "duration": 772,
    "start_time": "2025-03-19T12:18:21.920Z"
   },
   {
    "duration": 118,
    "start_time": "2025-03-19T12:18:22.774Z"
   },
   {
    "duration": 8,
    "start_time": "2025-03-19T12:18:22.974Z"
   },
   {
    "duration": 3,
    "start_time": "2025-03-19T12:18:22.988Z"
   },
   {
    "duration": 85,
    "start_time": "2025-03-19T12:18:22.993Z"
   },
   {
    "duration": 696,
    "start_time": "2025-03-19T12:18:23.081Z"
   },
   {
    "duration": 195,
    "start_time": "2025-03-19T12:18:23.779Z"
   },
   {
    "duration": 3,
    "start_time": "2025-03-19T12:18:23.977Z"
   },
   {
    "duration": 4,
    "start_time": "2025-03-19T12:18:27.093Z"
   },
   {
    "duration": 5,
    "start_time": "2025-03-19T12:18:33.965Z"
   },
   {
    "duration": 194,
    "start_time": "2025-03-19T12:18:54.556Z"
   },
   {
    "duration": 120,
    "start_time": "2025-03-19T12:19:11.580Z"
   },
   {
    "duration": 4,
    "start_time": "2025-03-19T12:19:21.763Z"
   },
   {
    "duration": 3,
    "start_time": "2025-03-19T12:20:03.260Z"
   },
   {
    "duration": 4,
    "start_time": "2025-03-19T12:20:10.513Z"
   },
   {
    "duration": 1432,
    "start_time": "2025-03-20T06:19:08.166Z"
   },
   {
    "duration": 0,
    "start_time": "2025-03-20T06:19:09.601Z"
   },
   {
    "duration": 0,
    "start_time": "2025-03-20T06:19:09.603Z"
   },
   {
    "duration": 0,
    "start_time": "2025-03-20T06:19:09.605Z"
   },
   {
    "duration": 0,
    "start_time": "2025-03-20T06:19:09.606Z"
   },
   {
    "duration": 0,
    "start_time": "2025-03-20T06:19:09.608Z"
   },
   {
    "duration": 0,
    "start_time": "2025-03-20T06:19:09.609Z"
   },
   {
    "duration": 0,
    "start_time": "2025-03-20T06:19:09.611Z"
   },
   {
    "duration": 0,
    "start_time": "2025-03-20T06:19:09.612Z"
   },
   {
    "duration": 0,
    "start_time": "2025-03-20T06:19:09.614Z"
   },
   {
    "duration": 0,
    "start_time": "2025-03-20T06:19:09.615Z"
   },
   {
    "duration": 0,
    "start_time": "2025-03-20T06:19:09.617Z"
   },
   {
    "duration": 0,
    "start_time": "2025-03-20T06:19:09.618Z"
   },
   {
    "duration": 0,
    "start_time": "2025-03-20T06:19:09.620Z"
   },
   {
    "duration": 0,
    "start_time": "2025-03-20T06:19:09.621Z"
   },
   {
    "duration": 0,
    "start_time": "2025-03-20T06:19:09.623Z"
   },
   {
    "duration": 0,
    "start_time": "2025-03-20T06:19:09.662Z"
   },
   {
    "duration": 0,
    "start_time": "2025-03-20T06:19:09.663Z"
   },
   {
    "duration": 0,
    "start_time": "2025-03-20T06:19:09.665Z"
   },
   {
    "duration": 0,
    "start_time": "2025-03-20T06:19:09.667Z"
   },
   {
    "duration": 0,
    "start_time": "2025-03-20T06:19:09.668Z"
   },
   {
    "duration": 0,
    "start_time": "2025-03-20T06:19:09.669Z"
   },
   {
    "duration": 0,
    "start_time": "2025-03-20T06:19:09.671Z"
   },
   {
    "duration": 0,
    "start_time": "2025-03-20T06:19:09.673Z"
   },
   {
    "duration": 0,
    "start_time": "2025-03-20T06:19:09.674Z"
   },
   {
    "duration": 0,
    "start_time": "2025-03-20T06:19:09.675Z"
   },
   {
    "duration": 0,
    "start_time": "2025-03-20T06:19:09.677Z"
   },
   {
    "duration": 0,
    "start_time": "2025-03-20T06:19:09.679Z"
   },
   {
    "duration": 0,
    "start_time": "2025-03-20T06:19:09.680Z"
   },
   {
    "duration": 0,
    "start_time": "2025-03-20T06:19:09.681Z"
   },
   {
    "duration": 0,
    "start_time": "2025-03-20T06:19:09.683Z"
   },
   {
    "duration": 0,
    "start_time": "2025-03-20T06:19:09.685Z"
   },
   {
    "duration": 0,
    "start_time": "2025-03-20T06:19:09.686Z"
   },
   {
    "duration": 0,
    "start_time": "2025-03-20T06:19:09.688Z"
   },
   {
    "duration": 0,
    "start_time": "2025-03-20T06:19:09.689Z"
   },
   {
    "duration": 0,
    "start_time": "2025-03-20T06:19:09.691Z"
   },
   {
    "duration": 0,
    "start_time": "2025-03-20T06:19:09.692Z"
   },
   {
    "duration": 0,
    "start_time": "2025-03-20T06:19:09.693Z"
   },
   {
    "duration": 0,
    "start_time": "2025-03-20T06:19:09.694Z"
   },
   {
    "duration": 0,
    "start_time": "2025-03-20T06:19:09.695Z"
   },
   {
    "duration": 0,
    "start_time": "2025-03-20T06:19:09.697Z"
   },
   {
    "duration": 0,
    "start_time": "2025-03-20T06:19:09.698Z"
   },
   {
    "duration": 10397,
    "start_time": "2025-03-20T06:19:24.874Z"
   },
   {
    "duration": 1488,
    "start_time": "2025-03-20T06:19:35.274Z"
   },
   {
    "duration": 9,
    "start_time": "2025-03-20T06:19:36.764Z"
   },
   {
    "duration": 39,
    "start_time": "2025-03-20T06:19:36.775Z"
   },
   {
    "duration": 27,
    "start_time": "2025-03-20T06:19:36.817Z"
   },
   {
    "duration": 17,
    "start_time": "2025-03-20T06:19:36.845Z"
   },
   {
    "duration": 480,
    "start_time": "2025-03-20T06:19:36.863Z"
   },
   {
    "duration": 56,
    "start_time": "2025-03-20T06:19:37.344Z"
   },
   {
    "duration": 45,
    "start_time": "2025-03-20T06:19:37.401Z"
   },
   {
    "duration": 85,
    "start_time": "2025-03-20T06:19:37.448Z"
   },
   {
    "duration": 1140,
    "start_time": "2025-03-20T06:19:37.535Z"
   },
   {
    "duration": 1018,
    "start_time": "2025-03-20T06:19:38.677Z"
   },
   {
    "duration": 1130,
    "start_time": "2025-03-20T06:19:39.696Z"
   },
   {
    "duration": 711,
    "start_time": "2025-03-20T06:19:40.829Z"
   },
   {
    "duration": 590,
    "start_time": "2025-03-20T06:19:41.542Z"
   },
   {
    "duration": 611,
    "start_time": "2025-03-20T06:19:42.134Z"
   },
   {
    "duration": 4,
    "start_time": "2025-03-20T06:19:42.746Z"
   },
   {
    "duration": 11,
    "start_time": "2025-03-20T06:19:42.762Z"
   },
   {
    "duration": 58,
    "start_time": "2025-03-20T06:19:42.774Z"
   },
   {
    "duration": 932,
    "start_time": "2025-03-20T06:19:42.833Z"
   },
   {
    "duration": 22,
    "start_time": "2025-03-20T06:19:43.861Z"
   },
   {
    "duration": 96,
    "start_time": "2025-03-20T06:19:43.966Z"
   },
   {
    "duration": 2,
    "start_time": "2025-03-20T06:19:44.064Z"
   },
   {
    "duration": 55,
    "start_time": "2025-03-20T06:19:44.068Z"
   },
   {
    "duration": 858,
    "start_time": "2025-03-20T06:19:44.125Z"
   },
   {
    "duration": 113,
    "start_time": "2025-03-20T06:19:45.064Z"
   },
   {
    "duration": 189,
    "start_time": "2025-03-20T06:19:45.179Z"
   },
   {
    "duration": 142,
    "start_time": "2025-03-20T06:19:45.371Z"
   },
   {
    "duration": 63,
    "start_time": "2025-03-20T06:19:45.515Z"
   },
   {
    "duration": 882,
    "start_time": "2025-03-20T06:19:45.579Z"
   },
   {
    "duration": 113,
    "start_time": "2025-03-20T06:19:46.464Z"
   },
   {
    "duration": 84,
    "start_time": "2025-03-20T06:19:46.580Z"
   },
   {
    "duration": 5,
    "start_time": "2025-03-20T06:19:46.670Z"
   },
   {
    "duration": 99,
    "start_time": "2025-03-20T06:19:46.676Z"
   },
   {
    "duration": 13,
    "start_time": "2025-03-20T06:19:46.777Z"
   },
   {
    "duration": 16,
    "start_time": "2025-03-20T06:19:46.792Z"
   },
   {
    "duration": 40,
    "start_time": "2025-03-20T06:19:46.810Z"
   },
   {
    "duration": 13,
    "start_time": "2025-03-20T06:19:46.852Z"
   },
   {
    "duration": 12,
    "start_time": "2025-03-20T06:19:46.867Z"
   },
   {
    "duration": 15,
    "start_time": "2025-03-20T06:19:46.881Z"
   },
   {
    "duration": 34,
    "start_time": "2025-03-20T06:19:46.899Z"
   },
   {
    "duration": 17,
    "start_time": "2025-03-20T06:19:46.935Z"
   },
   {
    "duration": 67,
    "start_time": "2025-03-20T06:19:46.954Z"
   },
   {
    "duration": 11,
    "start_time": "2025-03-20T06:32:32.453Z"
   },
   {
    "duration": 1306,
    "start_time": "2025-03-20T06:34:33.576Z"
   },
   {
    "duration": 10,
    "start_time": "2025-03-20T06:34:34.885Z"
   },
   {
    "duration": 49,
    "start_time": "2025-03-20T06:34:34.897Z"
   },
   {
    "duration": 7,
    "start_time": "2025-03-20T06:34:34.948Z"
   },
   {
    "duration": 17,
    "start_time": "2025-03-20T06:34:34.957Z"
   },
   {
    "duration": 500,
    "start_time": "2025-03-20T06:34:34.975Z"
   },
   {
    "duration": 57,
    "start_time": "2025-03-20T06:34:35.477Z"
   },
   {
    "duration": 73,
    "start_time": "2025-03-20T06:34:35.535Z"
   },
   {
    "duration": 61,
    "start_time": "2025-03-20T06:34:35.610Z"
   },
   {
    "duration": 1249,
    "start_time": "2025-03-20T06:34:35.673Z"
   },
   {
    "duration": 1113,
    "start_time": "2025-03-20T06:34:36.924Z"
   },
   {
    "duration": 1261,
    "start_time": "2025-03-20T06:34:38.038Z"
   },
   {
    "duration": 726,
    "start_time": "2025-03-20T06:34:39.301Z"
   },
   {
    "duration": 635,
    "start_time": "2025-03-20T06:34:40.030Z"
   },
   {
    "duration": 598,
    "start_time": "2025-03-20T06:34:40.667Z"
   },
   {
    "duration": 3,
    "start_time": "2025-03-20T06:34:41.267Z"
   },
   {
    "duration": 35,
    "start_time": "2025-03-20T06:34:41.271Z"
   },
   {
    "duration": 82,
    "start_time": "2025-03-20T06:34:41.308Z"
   },
   {
    "duration": 891,
    "start_time": "2025-03-20T06:34:41.391Z"
   },
   {
    "duration": 205,
    "start_time": "2025-03-20T06:34:42.364Z"
   },
   {
    "duration": 90,
    "start_time": "2025-03-20T06:34:42.573Z"
   },
   {
    "duration": 8,
    "start_time": "2025-03-20T06:34:42.665Z"
   },
   {
    "duration": 46,
    "start_time": "2025-03-20T06:34:42.674Z"
   },
   {
    "duration": 945,
    "start_time": "2025-03-20T06:34:42.722Z"
   },
   {
    "duration": 197,
    "start_time": "2025-03-20T06:34:43.669Z"
   },
   {
    "duration": 90,
    "start_time": "2025-03-20T06:34:43.873Z"
   },
   {
    "duration": 34,
    "start_time": "2025-03-20T06:34:43.965Z"
   },
   {
    "duration": 45,
    "start_time": "2025-03-20T06:34:44.001Z"
   },
   {
    "duration": 818,
    "start_time": "2025-03-20T06:34:44.048Z"
   },
   {
    "duration": 198,
    "start_time": "2025-03-20T06:34:44.868Z"
   },
   {
    "duration": 181,
    "start_time": "2025-03-20T06:34:45.071Z"
   },
   {
    "duration": 47,
    "start_time": "2025-03-20T06:34:45.254Z"
   },
   {
    "duration": 311,
    "start_time": "2025-03-20T06:34:45.302Z"
   },
   {
    "duration": 0,
    "start_time": "2025-03-20T06:34:45.615Z"
   },
   {
    "duration": 0,
    "start_time": "2025-03-20T06:34:45.616Z"
   },
   {
    "duration": 0,
    "start_time": "2025-03-20T06:34:45.617Z"
   },
   {
    "duration": 0,
    "start_time": "2025-03-20T06:34:45.618Z"
   },
   {
    "duration": 0,
    "start_time": "2025-03-20T06:34:45.619Z"
   },
   {
    "duration": 0,
    "start_time": "2025-03-20T06:34:45.621Z"
   },
   {
    "duration": 0,
    "start_time": "2025-03-20T06:34:45.622Z"
   },
   {
    "duration": 0,
    "start_time": "2025-03-20T06:34:45.623Z"
   },
   {
    "duration": 0,
    "start_time": "2025-03-20T06:34:45.624Z"
   },
   {
    "duration": 0,
    "start_time": "2025-03-20T06:34:45.626Z"
   },
   {
    "duration": 0,
    "start_time": "2025-03-20T06:34:45.627Z"
   },
   {
    "duration": 7,
    "start_time": "2025-03-20T06:35:22.202Z"
   },
   {
    "duration": 35,
    "start_time": "2025-03-20T06:35:22.211Z"
   },
   {
    "duration": 39,
    "start_time": "2025-03-20T06:35:22.248Z"
   },
   {
    "duration": 57,
    "start_time": "2025-03-20T06:35:22.288Z"
   },
   {
    "duration": 14,
    "start_time": "2025-03-20T06:35:22.347Z"
   },
   {
    "duration": 5,
    "start_time": "2025-03-20T06:35:22.362Z"
   },
   {
    "duration": 35,
    "start_time": "2025-03-20T06:35:22.368Z"
   },
   {
    "duration": 31,
    "start_time": "2025-03-20T06:35:22.405Z"
   },
   {
    "duration": 13,
    "start_time": "2025-03-20T06:35:22.438Z"
   },
   {
    "duration": 10,
    "start_time": "2025-03-20T06:35:22.453Z"
   },
   {
    "duration": 100,
    "start_time": "2025-03-20T06:35:22.464Z"
   },
   {
    "duration": 0,
    "start_time": "2025-03-20T06:35:22.565Z"
   },
   {
    "duration": 5,
    "start_time": "2025-03-20T06:35:29.320Z"
   },
   {
    "duration": 12,
    "start_time": "2025-03-20T06:37:37.430Z"
   },
   {
    "duration": 9,
    "start_time": "2025-03-20T06:38:00.710Z"
   },
   {
    "duration": 13,
    "start_time": "2025-03-20T06:41:21.178Z"
   },
   {
    "duration": 8,
    "start_time": "2025-03-20T06:41:32.561Z"
   },
   {
    "duration": 8,
    "start_time": "2025-03-20T06:41:52.415Z"
   },
   {
    "duration": 8,
    "start_time": "2025-03-20T06:42:29.688Z"
   },
   {
    "duration": 7,
    "start_time": "2025-03-20T06:42:36.551Z"
   },
   {
    "duration": 7,
    "start_time": "2025-03-20T06:43:02.168Z"
   },
   {
    "duration": 3,
    "start_time": "2025-03-20T06:43:58.966Z"
   },
   {
    "duration": 6,
    "start_time": "2025-03-20T06:45:15.158Z"
   },
   {
    "duration": 11,
    "start_time": "2025-03-20T06:46:49.826Z"
   },
   {
    "duration": 62,
    "start_time": "2025-03-20T06:47:17.730Z"
   },
   {
    "duration": 13,
    "start_time": "2025-03-20T06:53:27.451Z"
   },
   {
    "duration": 1297,
    "start_time": "2025-03-20T06:53:41.171Z"
   },
   {
    "duration": 11,
    "start_time": "2025-03-20T06:53:42.470Z"
   },
   {
    "duration": 9,
    "start_time": "2025-03-20T06:53:42.483Z"
   },
   {
    "duration": 24,
    "start_time": "2025-03-20T06:53:42.494Z"
   },
   {
    "duration": 15,
    "start_time": "2025-03-20T06:53:42.520Z"
   },
   {
    "duration": 467,
    "start_time": "2025-03-20T06:53:42.537Z"
   },
   {
    "duration": 65,
    "start_time": "2025-03-20T06:53:43.005Z"
   },
   {
    "duration": 48,
    "start_time": "2025-03-20T06:53:43.072Z"
   },
   {
    "duration": 66,
    "start_time": "2025-03-20T06:53:43.121Z"
   },
   {
    "duration": 1198,
    "start_time": "2025-03-20T06:53:43.189Z"
   },
   {
    "duration": 1059,
    "start_time": "2025-03-20T06:53:44.388Z"
   },
   {
    "duration": 1194,
    "start_time": "2025-03-20T06:53:45.449Z"
   },
   {
    "duration": 687,
    "start_time": "2025-03-20T06:53:46.644Z"
   },
   {
    "duration": 602,
    "start_time": "2025-03-20T06:53:47.334Z"
   },
   {
    "duration": 602,
    "start_time": "2025-03-20T06:53:47.938Z"
   },
   {
    "duration": 3,
    "start_time": "2025-03-20T06:53:48.542Z"
   },
   {
    "duration": 37,
    "start_time": "2025-03-20T06:53:48.546Z"
   },
   {
    "duration": 63,
    "start_time": "2025-03-20T06:53:48.585Z"
   },
   {
    "duration": 1013,
    "start_time": "2025-03-20T06:53:48.650Z"
   },
   {
    "duration": 106,
    "start_time": "2025-03-20T06:53:49.665Z"
   },
   {
    "duration": 3,
    "start_time": "2025-03-20T06:53:49.862Z"
   },
   {
    "duration": 83,
    "start_time": "2025-03-20T06:53:49.867Z"
   },
   {
    "duration": 67,
    "start_time": "2025-03-20T06:53:49.952Z"
   },
   {
    "duration": 941,
    "start_time": "2025-03-20T06:53:50.021Z"
   },
   {
    "duration": 110,
    "start_time": "2025-03-20T06:53:50.965Z"
   },
   {
    "duration": 3,
    "start_time": "2025-03-20T06:53:51.164Z"
   },
   {
    "duration": 94,
    "start_time": "2025-03-20T06:53:51.169Z"
   },
   {
    "duration": 128,
    "start_time": "2025-03-20T06:53:51.265Z"
   },
   {
    "duration": 884,
    "start_time": "2025-03-20T06:53:51.395Z"
   },
   {
    "duration": 111,
    "start_time": "2025-03-20T06:53:52.364Z"
   },
   {
    "duration": 100,
    "start_time": "2025-03-20T06:53:52.563Z"
   },
   {
    "duration": 14,
    "start_time": "2025-03-20T06:53:52.664Z"
   },
   {
    "duration": 11,
    "start_time": "2025-03-20T06:53:52.679Z"
   },
   {
    "duration": 47,
    "start_time": "2025-03-20T06:53:52.692Z"
   },
   {
    "duration": 26,
    "start_time": "2025-03-20T06:53:52.740Z"
   },
   {
    "duration": 19,
    "start_time": "2025-03-20T06:53:52.768Z"
   },
   {
    "duration": 12,
    "start_time": "2025-03-20T06:53:52.789Z"
   },
   {
    "duration": 31,
    "start_time": "2025-03-20T06:53:52.803Z"
   },
   {
    "duration": 32,
    "start_time": "2025-03-20T06:53:52.835Z"
   },
   {
    "duration": 30,
    "start_time": "2025-03-20T06:53:52.868Z"
   },
   {
    "duration": 31,
    "start_time": "2025-03-20T06:53:52.903Z"
   },
   {
    "duration": 11,
    "start_time": "2025-03-20T06:53:52.935Z"
   },
   {
    "duration": 9,
    "start_time": "2025-03-20T06:53:52.947Z"
   },
   {
    "duration": 57,
    "start_time": "2025-03-20T06:53:52.958Z"
   },
   {
    "duration": 4,
    "start_time": "2025-03-20T06:53:53.018Z"
   },
   {
    "duration": 124,
    "start_time": "2025-03-20T06:53:53.024Z"
   },
   {
    "duration": 0,
    "start_time": "2025-03-20T06:53:53.149Z"
   },
   {
    "duration": 10,
    "start_time": "2025-03-20T06:54:06.725Z"
   },
   {
    "duration": 10,
    "start_time": "2025-03-20T06:54:59.142Z"
   },
   {
    "duration": 4,
    "start_time": "2025-03-20T06:55:14.253Z"
   },
   {
    "duration": 11,
    "start_time": "2025-03-20T06:55:16.492Z"
   },
   {
    "duration": 4,
    "start_time": "2025-03-20T06:56:04.005Z"
   },
   {
    "duration": 17,
    "start_time": "2025-03-20T06:56:05.227Z"
   },
   {
    "duration": 665,
    "start_time": "2025-03-20T06:58:58.727Z"
   },
   {
    "duration": 29,
    "start_time": "2025-03-20T07:00:12.681Z"
   },
   {
    "duration": 15,
    "start_time": "2025-03-20T07:00:38.728Z"
   },
   {
    "duration": 12,
    "start_time": "2025-03-20T07:01:16.735Z"
   },
   {
    "duration": 5,
    "start_time": "2025-03-20T07:01:26.055Z"
   },
   {
    "duration": 5,
    "start_time": "2025-03-20T07:01:46.188Z"
   },
   {
    "duration": 11,
    "start_time": "2025-03-20T07:02:22.365Z"
   },
   {
    "duration": 53,
    "start_time": "2025-03-20T07:02:54.972Z"
   },
   {
    "duration": 56,
    "start_time": "2025-03-20T07:05:00.375Z"
   },
   {
    "duration": 499,
    "start_time": "2025-03-20T07:06:07.032Z"
   },
   {
    "duration": 446,
    "start_time": "2025-03-20T07:06:28.575Z"
   },
   {
    "duration": 598,
    "start_time": "2025-03-20T07:13:32.887Z"
   },
   {
    "duration": 608,
    "start_time": "2025-03-20T07:17:11.027Z"
   },
   {
    "duration": 591,
    "start_time": "2025-03-20T07:17:31.078Z"
   },
   {
    "duration": 592,
    "start_time": "2025-03-20T07:17:58.711Z"
   },
   {
    "duration": 608,
    "start_time": "2025-03-20T07:23:12.155Z"
   },
   {
    "duration": 618,
    "start_time": "2025-03-20T07:24:15.123Z"
   },
   {
    "duration": 18,
    "start_time": "2025-03-20T07:24:42.384Z"
   },
   {
    "duration": 606,
    "start_time": "2025-03-20T07:25:36.487Z"
   },
   {
    "duration": 4,
    "start_time": "2025-03-20T07:25:54.075Z"
   },
   {
    "duration": 603,
    "start_time": "2025-03-20T07:26:48.142Z"
   },
   {
    "duration": 6,
    "start_time": "2025-03-20T07:27:26.229Z"
   },
   {
    "duration": 613,
    "start_time": "2025-03-20T07:27:47.596Z"
   },
   {
    "duration": 4,
    "start_time": "2025-03-20T07:27:54.875Z"
   },
   {
    "duration": 8,
    "start_time": "2025-03-20T07:28:12.367Z"
   },
   {
    "duration": 616,
    "start_time": "2025-03-20T07:28:20.758Z"
   },
   {
    "duration": 3,
    "start_time": "2025-03-20T07:28:26.907Z"
   },
   {
    "duration": 5,
    "start_time": "2025-03-20T07:28:31.346Z"
   },
   {
    "duration": 6,
    "start_time": "2025-03-20T07:31:35.570Z"
   },
   {
    "duration": 5,
    "start_time": "2025-03-20T07:31:57.919Z"
   },
   {
    "duration": 5,
    "start_time": "2025-03-20T07:32:23.399Z"
   },
   {
    "duration": 583,
    "start_time": "2025-03-20T07:37:27.761Z"
   },
   {
    "duration": 592,
    "start_time": "2025-03-20T07:37:43.985Z"
   },
   {
    "duration": 5,
    "start_time": "2025-03-20T07:37:48.264Z"
   },
   {
    "duration": 4,
    "start_time": "2025-03-20T07:38:15.135Z"
   },
   {
    "duration": 4,
    "start_time": "2025-03-20T07:38:39.926Z"
   },
   {
    "duration": 621,
    "start_time": "2025-03-20T07:38:46.266Z"
   },
   {
    "duration": 4,
    "start_time": "2025-03-20T07:38:48.839Z"
   },
   {
    "duration": 5,
    "start_time": "2025-03-20T07:39:19.174Z"
   },
   {
    "duration": 4,
    "start_time": "2025-03-20T07:39:38.613Z"
   },
   {
    "duration": 10,
    "start_time": "2025-03-20T07:44:17.984Z"
   },
   {
    "duration": 647,
    "start_time": "2025-03-20T07:45:05.990Z"
   },
   {
    "duration": 14,
    "start_time": "2025-03-20T07:45:39.757Z"
   },
   {
    "duration": 3,
    "start_time": "2025-03-20T07:55:55.838Z"
   },
   {
    "duration": 13,
    "start_time": "2025-03-20T07:55:58.278Z"
   },
   {
    "duration": 3,
    "start_time": "2025-03-20T07:56:51.822Z"
   },
   {
    "duration": 12,
    "start_time": "2025-03-20T07:56:56.325Z"
   },
   {
    "duration": 2,
    "start_time": "2025-03-20T07:57:44.115Z"
   },
   {
    "duration": 10,
    "start_time": "2025-03-20T07:57:56.555Z"
   },
   {
    "duration": 6,
    "start_time": "2025-03-20T07:58:09.475Z"
   },
   {
    "duration": 3,
    "start_time": "2025-03-20T07:59:04.601Z"
   },
   {
    "duration": 6,
    "start_time": "2025-03-20T07:59:45.042Z"
   },
   {
    "duration": 13,
    "start_time": "2025-03-20T08:00:08.769Z"
   },
   {
    "duration": 10,
    "start_time": "2025-03-20T08:01:14.064Z"
   },
   {
    "duration": 3,
    "start_time": "2025-03-20T08:01:50.558Z"
   },
   {
    "duration": 5,
    "start_time": "2025-03-20T08:01:53.232Z"
   },
   {
    "duration": 12,
    "start_time": "2025-03-20T08:02:05.646Z"
   },
   {
    "duration": 3,
    "start_time": "2025-03-20T08:02:36.766Z"
   },
   {
    "duration": 6,
    "start_time": "2025-03-20T08:02:39.284Z"
   },
   {
    "duration": 12,
    "start_time": "2025-03-20T08:02:45.576Z"
   },
   {
    "duration": 12,
    "start_time": "2025-03-20T08:04:24.138Z"
   },
   {
    "duration": 4,
    "start_time": "2025-03-20T08:04:28.475Z"
   },
   {
    "duration": 11,
    "start_time": "2025-03-20T08:04:31.084Z"
   },
   {
    "duration": 4,
    "start_time": "2025-03-20T08:04:33.666Z"
   },
   {
    "duration": 3192,
    "start_time": "2025-03-20T08:06:27.289Z"
   },
   {
    "duration": 5,
    "start_time": "2025-03-20T08:08:17.478Z"
   },
   {
    "duration": 31,
    "start_time": "2025-03-20T08:30:58.369Z"
   },
   {
    "duration": 4,
    "start_time": "2025-03-20T08:31:06.238Z"
   },
   {
    "duration": 49,
    "start_time": "2025-03-20T08:37:05.664Z"
   },
   {
    "duration": 38,
    "start_time": "2025-03-20T08:38:04.598Z"
   },
   {
    "duration": 371,
    "start_time": "2025-03-20T08:39:00.621Z"
   },
   {
    "duration": 36,
    "start_time": "2025-03-20T08:39:18.900Z"
   },
   {
    "duration": 84,
    "start_time": "2025-03-20T08:40:44.553Z"
   },
   {
    "duration": 87,
    "start_time": "2025-03-20T08:40:52.258Z"
   },
   {
    "duration": 123,
    "start_time": "2025-03-20T08:41:57.958Z"
   },
   {
    "duration": 39,
    "start_time": "2025-03-20T08:42:13.393Z"
   },
   {
    "duration": 10,
    "start_time": "2025-03-20T08:42:21.360Z"
   },
   {
    "duration": 5,
    "start_time": "2025-03-20T08:42:32.023Z"
   },
   {
    "duration": 4,
    "start_time": "2025-03-20T08:42:40.079Z"
   },
   {
    "duration": 9,
    "start_time": "2025-03-20T08:42:54.630Z"
   },
   {
    "duration": 4,
    "start_time": "2025-03-20T08:46:52.770Z"
   },
   {
    "duration": 10,
    "start_time": "2025-03-20T08:47:10.561Z"
   },
   {
    "duration": 9,
    "start_time": "2025-03-20T08:49:10.416Z"
   },
   {
    "duration": 88,
    "start_time": "2025-03-20T08:50:23.837Z"
   },
   {
    "duration": 10,
    "start_time": "2025-03-20T08:50:29.053Z"
   },
   {
    "duration": 22,
    "start_time": "2025-03-20T08:51:17.053Z"
   },
   {
    "duration": 42,
    "start_time": "2025-03-20T08:51:29.876Z"
   },
   {
    "duration": 41,
    "start_time": "2025-03-20T08:51:49.588Z"
   },
   {
    "duration": 39,
    "start_time": "2025-03-20T08:52:09.892Z"
   },
   {
    "duration": 47,
    "start_time": "2025-03-20T08:52:43.354Z"
   },
   {
    "duration": 41,
    "start_time": "2025-03-20T08:53:16.937Z"
   },
   {
    "duration": 40,
    "start_time": "2025-03-20T08:54:06.383Z"
   },
   {
    "duration": 38,
    "start_time": "2025-03-20T08:54:33.537Z"
   },
   {
    "duration": 380,
    "start_time": "2025-03-20T08:55:14.168Z"
   },
   {
    "duration": 32,
    "start_time": "2025-03-20T08:55:41.854Z"
   },
   {
    "duration": 419,
    "start_time": "2025-03-20T08:56:26.167Z"
   },
   {
    "duration": 326,
    "start_time": "2025-03-20T08:56:35.916Z"
   },
   {
    "duration": 4,
    "start_time": "2025-03-20T08:56:58.356Z"
   },
   {
    "duration": 4,
    "start_time": "2025-03-20T08:57:22.283Z"
   },
   {
    "duration": 8,
    "start_time": "2025-03-20T08:57:27.919Z"
   },
   {
    "duration": 38,
    "start_time": "2025-03-20T10:21:32.150Z"
   },
   {
    "duration": 4,
    "start_time": "2025-03-20T10:21:37.262Z"
   },
   {
    "duration": 8,
    "start_time": "2025-03-20T10:21:39.901Z"
   },
   {
    "duration": 38,
    "start_time": "2025-03-20T10:22:22.093Z"
   },
   {
    "duration": 40,
    "start_time": "2025-03-20T10:22:46.642Z"
   },
   {
    "duration": 8,
    "start_time": "2025-03-20T10:22:49.452Z"
   },
   {
    "duration": 326,
    "start_time": "2025-03-20T10:29:55.298Z"
   },
   {
    "duration": 1362,
    "start_time": "2025-03-20T10:31:31.034Z"
   },
   {
    "duration": 12,
    "start_time": "2025-03-20T10:31:32.398Z"
   },
   {
    "duration": 78,
    "start_time": "2025-03-20T10:31:32.412Z"
   },
   {
    "duration": 18,
    "start_time": "2025-03-20T10:31:32.492Z"
   },
   {
    "duration": 6,
    "start_time": "2025-03-20T10:31:32.512Z"
   },
   {
    "duration": 472,
    "start_time": "2025-03-20T10:31:32.520Z"
   },
   {
    "duration": 54,
    "start_time": "2025-03-20T10:31:32.994Z"
   },
   {
    "duration": 57,
    "start_time": "2025-03-20T10:31:33.050Z"
   },
   {
    "duration": 73,
    "start_time": "2025-03-20T10:31:33.110Z"
   },
   {
    "duration": 1150,
    "start_time": "2025-03-20T10:31:33.187Z"
   },
   {
    "duration": 1082,
    "start_time": "2025-03-20T10:31:34.339Z"
   },
   {
    "duration": 1169,
    "start_time": "2025-03-20T10:31:35.423Z"
   },
   {
    "duration": 708,
    "start_time": "2025-03-20T10:31:36.594Z"
   },
   {
    "duration": 619,
    "start_time": "2025-03-20T10:31:37.304Z"
   },
   {
    "duration": 605,
    "start_time": "2025-03-20T10:31:37.925Z"
   },
   {
    "duration": 4,
    "start_time": "2025-03-20T10:31:38.532Z"
   },
   {
    "duration": 5,
    "start_time": "2025-03-20T10:31:38.537Z"
   },
   {
    "duration": 52,
    "start_time": "2025-03-20T10:31:38.543Z"
   },
   {
    "duration": 966,
    "start_time": "2025-03-20T10:31:38.597Z"
   },
   {
    "duration": 114,
    "start_time": "2025-03-20T10:31:39.565Z"
   },
   {
    "duration": 3,
    "start_time": "2025-03-20T10:31:39.764Z"
   },
   {
    "duration": 424,
    "start_time": "2025-03-20T10:31:39.769Z"
   },
   {
    "duration": 3,
    "start_time": "2025-03-20T10:31:40.194Z"
   },
   {
    "duration": 52,
    "start_time": "2025-03-20T10:31:40.198Z"
   },
   {
    "duration": 827,
    "start_time": "2025-03-20T10:31:40.252Z"
   },
   {
    "duration": 113,
    "start_time": "2025-03-20T10:31:41.163Z"
   },
   {
    "duration": 85,
    "start_time": "2025-03-20T10:31:41.278Z"
   },
   {
    "duration": 416,
    "start_time": "2025-03-20T10:31:41.369Z"
   },
   {
    "duration": 2,
    "start_time": "2025-03-20T10:31:41.787Z"
   },
   {
    "duration": 44,
    "start_time": "2025-03-20T10:31:41.790Z"
   },
   {
    "duration": 928,
    "start_time": "2025-03-20T10:31:41.835Z"
   },
   {
    "duration": 197,
    "start_time": "2025-03-20T10:31:42.766Z"
   },
   {
    "duration": 3,
    "start_time": "2025-03-20T10:31:42.965Z"
   },
   {
    "duration": 416,
    "start_time": "2025-03-20T10:31:42.970Z"
   },
   {
    "duration": 4,
    "start_time": "2025-03-20T10:31:43.387Z"
   },
   {
    "duration": 9,
    "start_time": "2025-03-20T10:31:43.392Z"
   },
   {
    "duration": 21,
    "start_time": "2025-03-20T10:31:43.402Z"
   },
   {
    "duration": 27,
    "start_time": "2025-03-20T10:31:43.425Z"
   },
   {
    "duration": 24,
    "start_time": "2025-03-20T10:31:43.453Z"
   },
   {
    "duration": 12,
    "start_time": "2025-03-20T10:31:43.479Z"
   },
   {
    "duration": 22,
    "start_time": "2025-03-20T10:31:43.492Z"
   },
   {
    "duration": 4,
    "start_time": "2025-03-20T10:31:43.516Z"
   },
   {
    "duration": 19,
    "start_time": "2025-03-20T10:31:43.522Z"
   },
   {
    "duration": 41,
    "start_time": "2025-03-20T10:31:43.543Z"
   },
   {
    "duration": 28,
    "start_time": "2025-03-20T10:31:43.586Z"
   },
   {
    "duration": 4,
    "start_time": "2025-03-20T10:31:43.615Z"
   },
   {
    "duration": 14,
    "start_time": "2025-03-20T10:31:43.620Z"
   },
   {
    "duration": 15,
    "start_time": "2025-03-20T10:31:43.635Z"
   },
   {
    "duration": 12,
    "start_time": "2025-03-20T10:31:43.651Z"
   },
   {
    "duration": 8,
    "start_time": "2025-03-20T10:31:43.664Z"
   },
   {
    "duration": 41,
    "start_time": "2025-03-20T10:31:43.674Z"
   },
   {
    "duration": 8,
    "start_time": "2025-03-20T10:31:43.716Z"
   },
   {
    "duration": 7,
    "start_time": "2025-03-20T10:31:43.726Z"
   },
   {
    "duration": 34,
    "start_time": "2025-03-20T10:31:43.734Z"
   },
   {
    "duration": 4,
    "start_time": "2025-03-20T10:31:43.770Z"
   },
   {
    "duration": 15,
    "start_time": "2025-03-20T10:31:43.776Z"
   },
   {
    "duration": 598,
    "start_time": "2025-03-20T10:31:43.793Z"
   },
   {
    "duration": 4,
    "start_time": "2025-03-20T10:31:44.392Z"
   },
   {
    "duration": 77,
    "start_time": "2025-03-20T10:31:44.397Z"
   },
   {
    "duration": 37,
    "start_time": "2025-03-20T10:31:44.475Z"
   },
   {
    "duration": 40,
    "start_time": "2025-03-20T10:36:14.985Z"
   },
   {
    "duration": 9,
    "start_time": "2025-03-20T10:36:18.273Z"
   },
   {
    "duration": 2266,
    "start_time": "2025-03-20T10:52:38.443Z"
   },
   {
    "duration": 13,
    "start_time": "2025-03-20T10:58:24.196Z"
   },
   {
    "duration": 3,
    "start_time": "2025-03-20T10:59:26.828Z"
   },
   {
    "duration": 1431,
    "start_time": "2025-03-20T11:05:29.076Z"
   },
   {
    "duration": 11,
    "start_time": "2025-03-20T11:05:30.510Z"
   },
   {
    "duration": 164,
    "start_time": "2025-03-20T11:05:30.523Z"
   },
   {
    "duration": 136,
    "start_time": "2025-03-20T11:05:30.690Z"
   },
   {
    "duration": 104,
    "start_time": "2025-03-20T11:05:30.828Z"
   },
   {
    "duration": 544,
    "start_time": "2025-03-20T11:05:30.934Z"
   },
   {
    "duration": 57,
    "start_time": "2025-03-20T11:05:31.479Z"
   },
   {
    "duration": 74,
    "start_time": "2025-03-20T11:05:31.537Z"
   },
   {
    "duration": 64,
    "start_time": "2025-03-20T11:05:31.613Z"
   },
   {
    "duration": 1163,
    "start_time": "2025-03-20T11:05:31.679Z"
   },
   {
    "duration": 1048,
    "start_time": "2025-03-20T11:05:32.844Z"
   },
   {
    "duration": 1162,
    "start_time": "2025-03-20T11:05:33.894Z"
   },
   {
    "duration": 713,
    "start_time": "2025-03-20T11:05:35.062Z"
   },
   {
    "duration": 637,
    "start_time": "2025-03-20T11:05:35.777Z"
   },
   {
    "duration": 618,
    "start_time": "2025-03-20T11:05:36.416Z"
   },
   {
    "duration": 3,
    "start_time": "2025-03-20T11:05:37.036Z"
   },
   {
    "duration": 4,
    "start_time": "2025-03-20T11:05:37.041Z"
   },
   {
    "duration": 52,
    "start_time": "2025-03-20T11:05:37.046Z"
   },
   {
    "duration": 965,
    "start_time": "2025-03-20T11:05:37.099Z"
   },
   {
    "duration": 196,
    "start_time": "2025-03-20T11:05:38.067Z"
   },
   {
    "duration": 91,
    "start_time": "2025-03-20T11:05:38.271Z"
   },
   {
    "duration": 402,
    "start_time": "2025-03-20T11:05:38.364Z"
   },
   {
    "duration": 2,
    "start_time": "2025-03-20T11:05:38.768Z"
   },
   {
    "duration": 50,
    "start_time": "2025-03-20T11:05:38.771Z"
   },
   {
    "duration": 943,
    "start_time": "2025-03-20T11:05:38.823Z"
   },
   {
    "duration": 195,
    "start_time": "2025-03-20T11:05:39.769Z"
   },
   {
    "duration": 100,
    "start_time": "2025-03-20T11:05:39.966Z"
   },
   {
    "duration": 348,
    "start_time": "2025-03-20T11:05:40.070Z"
   },
   {
    "duration": 2,
    "start_time": "2025-03-20T11:05:40.420Z"
   },
   {
    "duration": 74,
    "start_time": "2025-03-20T11:05:40.423Z"
   },
   {
    "duration": 864,
    "start_time": "2025-03-20T11:05:40.499Z"
   },
   {
    "duration": 195,
    "start_time": "2025-03-20T11:05:41.367Z"
   },
   {
    "duration": 93,
    "start_time": "2025-03-20T11:05:41.571Z"
   },
   {
    "duration": 343,
    "start_time": "2025-03-20T11:05:41.666Z"
   },
   {
    "duration": 14,
    "start_time": "2025-03-20T11:05:42.010Z"
   },
   {
    "duration": 75,
    "start_time": "2025-03-20T11:05:42.026Z"
   },
   {
    "duration": 76,
    "start_time": "2025-03-20T11:05:42.103Z"
   },
   {
    "duration": 59,
    "start_time": "2025-03-20T11:05:42.181Z"
   },
   {
    "duration": 150,
    "start_time": "2025-03-20T11:05:42.242Z"
   },
   {
    "duration": 179,
    "start_time": "2025-03-20T11:05:42.394Z"
   },
   {
    "duration": 0,
    "start_time": "2025-03-20T11:05:42.575Z"
   },
   {
    "duration": 0,
    "start_time": "2025-03-20T11:05:42.576Z"
   },
   {
    "duration": 0,
    "start_time": "2025-03-20T11:05:42.577Z"
   },
   {
    "duration": 0,
    "start_time": "2025-03-20T11:05:42.578Z"
   },
   {
    "duration": 0,
    "start_time": "2025-03-20T11:05:42.579Z"
   },
   {
    "duration": 0,
    "start_time": "2025-03-20T11:05:42.579Z"
   },
   {
    "duration": 0,
    "start_time": "2025-03-20T11:05:42.580Z"
   },
   {
    "duration": 0,
    "start_time": "2025-03-20T11:05:42.582Z"
   },
   {
    "duration": 0,
    "start_time": "2025-03-20T11:05:42.583Z"
   },
   {
    "duration": 0,
    "start_time": "2025-03-20T11:05:42.584Z"
   },
   {
    "duration": 0,
    "start_time": "2025-03-20T11:05:42.585Z"
   },
   {
    "duration": 0,
    "start_time": "2025-03-20T11:05:42.586Z"
   },
   {
    "duration": 0,
    "start_time": "2025-03-20T11:05:42.587Z"
   },
   {
    "duration": 0,
    "start_time": "2025-03-20T11:05:42.588Z"
   },
   {
    "duration": 0,
    "start_time": "2025-03-20T11:05:42.589Z"
   },
   {
    "duration": 0,
    "start_time": "2025-03-20T11:05:42.589Z"
   },
   {
    "duration": 4,
    "start_time": "2025-03-20T11:08:10.673Z"
   },
   {
    "duration": 12,
    "start_time": "2025-03-20T11:08:12.943Z"
   },
   {
    "duration": 1322,
    "start_time": "2025-03-20T11:17:18.869Z"
   },
   {
    "duration": 10,
    "start_time": "2025-03-20T11:17:20.193Z"
   },
   {
    "duration": 15,
    "start_time": "2025-03-20T11:17:20.205Z"
   },
   {
    "duration": 5,
    "start_time": "2025-03-20T11:17:20.222Z"
   },
   {
    "duration": 8,
    "start_time": "2025-03-20T11:17:20.228Z"
   },
   {
    "duration": 476,
    "start_time": "2025-03-20T11:17:20.238Z"
   },
   {
    "duration": 62,
    "start_time": "2025-03-20T11:17:20.716Z"
   },
   {
    "duration": 51,
    "start_time": "2025-03-20T11:17:20.780Z"
   },
   {
    "duration": 65,
    "start_time": "2025-03-20T11:17:20.833Z"
   },
   {
    "duration": 1166,
    "start_time": "2025-03-20T11:17:20.901Z"
   },
   {
    "duration": 1058,
    "start_time": "2025-03-20T11:17:22.068Z"
   },
   {
    "duration": 1166,
    "start_time": "2025-03-20T11:17:23.128Z"
   },
   {
    "duration": 684,
    "start_time": "2025-03-20T11:17:24.296Z"
   },
   {
    "duration": 602,
    "start_time": "2025-03-20T11:17:24.982Z"
   },
   {
    "duration": 642,
    "start_time": "2025-03-20T11:17:25.586Z"
   },
   {
    "duration": 4,
    "start_time": "2025-03-20T11:17:26.229Z"
   },
   {
    "duration": 21,
    "start_time": "2025-03-20T11:17:26.234Z"
   },
   {
    "duration": 45,
    "start_time": "2025-03-20T11:17:26.256Z"
   },
   {
    "duration": 861,
    "start_time": "2025-03-20T11:17:26.303Z"
   },
   {
    "duration": 198,
    "start_time": "2025-03-20T11:17:27.166Z"
   },
   {
    "duration": 92,
    "start_time": "2025-03-20T11:17:27.372Z"
   },
   {
    "duration": 355,
    "start_time": "2025-03-20T11:17:27.467Z"
   },
   {
    "duration": 2,
    "start_time": "2025-03-20T11:17:27.824Z"
   },
   {
    "duration": 91,
    "start_time": "2025-03-20T11:17:27.828Z"
   },
   {
    "duration": 942,
    "start_time": "2025-03-20T11:17:27.921Z"
   },
   {
    "duration": 111,
    "start_time": "2025-03-20T11:17:28.869Z"
   },
   {
    "duration": 181,
    "start_time": "2025-03-20T11:17:28.982Z"
   },
   {
    "duration": 344,
    "start_time": "2025-03-20T11:17:29.166Z"
   },
   {
    "duration": 2,
    "start_time": "2025-03-20T11:17:29.512Z"
   },
   {
    "duration": 59,
    "start_time": "2025-03-20T11:17:29.516Z"
   },
   {
    "duration": 890,
    "start_time": "2025-03-20T11:17:29.577Z"
   },
   {
    "duration": 196,
    "start_time": "2025-03-20T11:17:30.470Z"
   },
   {
    "duration": 117,
    "start_time": "2025-03-20T11:17:30.671Z"
   },
   {
    "duration": 532,
    "start_time": "2025-03-20T11:17:30.790Z"
   },
   {
    "duration": 13,
    "start_time": "2025-03-20T11:17:31.324Z"
   },
   {
    "duration": 7,
    "start_time": "2025-03-20T11:17:31.339Z"
   },
   {
    "duration": 142,
    "start_time": "2025-03-20T11:17:31.347Z"
   },
   {
    "duration": 81,
    "start_time": "2025-03-20T11:17:31.491Z"
   },
   {
    "duration": 943,
    "start_time": "2025-03-20T11:17:31.574Z"
   },
   {
    "duration": 2323,
    "start_time": "2025-03-20T11:18:04.543Z"
   },
   {
    "duration": 2275,
    "start_time": "2025-03-20T11:18:48.317Z"
   },
   {
    "duration": 2300,
    "start_time": "2025-03-20T11:19:23.745Z"
   },
   {
    "duration": 12,
    "start_time": "2025-03-20T11:34:40.655Z"
   },
   {
    "duration": 14,
    "start_time": "2025-03-20T11:35:37.085Z"
   },
   {
    "duration": 14,
    "start_time": "2025-03-20T11:35:58.038Z"
   },
   {
    "duration": 10,
    "start_time": "2025-03-20T11:40:12.455Z"
   },
   {
    "duration": 3790,
    "start_time": "2025-03-20T11:42:47.555Z"
   },
   {
    "duration": 16,
    "start_time": "2025-03-20T11:42:51.348Z"
   },
   {
    "duration": 25,
    "start_time": "2025-03-20T11:42:51.366Z"
   },
   {
    "duration": 9,
    "start_time": "2025-03-20T11:42:51.393Z"
   },
   {
    "duration": 14,
    "start_time": "2025-03-20T11:42:51.404Z"
   },
   {
    "duration": 486,
    "start_time": "2025-03-20T11:42:51.419Z"
   },
   {
    "duration": 71,
    "start_time": "2025-03-20T11:42:51.906Z"
   },
   {
    "duration": 51,
    "start_time": "2025-03-20T11:42:51.979Z"
   },
   {
    "duration": 72,
    "start_time": "2025-03-20T11:42:52.032Z"
   },
   {
    "duration": 1195,
    "start_time": "2025-03-20T11:42:52.106Z"
   },
   {
    "duration": 1052,
    "start_time": "2025-03-20T11:42:53.304Z"
   },
   {
    "duration": 1165,
    "start_time": "2025-03-20T11:42:54.361Z"
   },
   {
    "duration": 750,
    "start_time": "2025-03-20T11:42:55.528Z"
   },
   {
    "duration": 610,
    "start_time": "2025-03-20T11:42:56.283Z"
   },
   {
    "duration": 659,
    "start_time": "2025-03-20T11:42:56.895Z"
   },
   {
    "duration": 7,
    "start_time": "2025-03-20T11:42:57.556Z"
   },
   {
    "duration": 8,
    "start_time": "2025-03-20T11:42:57.565Z"
   },
   {
    "duration": 4,
    "start_time": "2025-03-20T11:42:57.574Z"
   },
   {
    "duration": 50,
    "start_time": "2025-03-20T11:42:57.580Z"
   },
   {
    "duration": 1029,
    "start_time": "2025-03-20T11:42:57.634Z"
   },
   {
    "duration": 199,
    "start_time": "2025-03-20T11:42:58.666Z"
   },
   {
    "duration": 3,
    "start_time": "2025-03-20T11:42:58.961Z"
   },
   {
    "duration": 472,
    "start_time": "2025-03-20T11:42:58.966Z"
   },
   {
    "duration": 2,
    "start_time": "2025-03-20T11:42:59.440Z"
   },
   {
    "duration": 57,
    "start_time": "2025-03-20T11:42:59.443Z"
   },
   {
    "duration": 861,
    "start_time": "2025-03-20T11:42:59.502Z"
   },
   {
    "duration": 107,
    "start_time": "2025-03-20T11:43:00.365Z"
   },
   {
    "duration": 89,
    "start_time": "2025-03-20T11:43:00.475Z"
   },
   {
    "duration": 569,
    "start_time": "2025-03-20T11:43:00.567Z"
   },
   {
    "duration": 2,
    "start_time": "2025-03-20T11:43:01.138Z"
   },
   {
    "duration": 60,
    "start_time": "2025-03-20T11:43:01.141Z"
   },
   {
    "duration": 859,
    "start_time": "2025-03-20T11:43:01.203Z"
   },
   {
    "duration": 198,
    "start_time": "2025-03-20T11:43:02.066Z"
   },
   {
    "duration": 122,
    "start_time": "2025-03-20T11:43:02.269Z"
   },
   {
    "duration": 364,
    "start_time": "2025-03-20T11:43:02.393Z"
   },
   {
    "duration": 13,
    "start_time": "2025-03-20T11:43:02.761Z"
   },
   {
    "duration": 175,
    "start_time": "2025-03-20T11:43:02.776Z"
   },
   {
    "duration": 58,
    "start_time": "2025-03-20T11:43:02.952Z"
   },
   {
    "duration": 2295,
    "start_time": "2025-03-20T11:43:03.012Z"
   },
   {
    "duration": 8,
    "start_time": "2025-03-20T11:43:05.309Z"
   },
   {
    "duration": 3807,
    "start_time": "2025-03-20T12:08:56.432Z"
   },
   {
    "duration": 11,
    "start_time": "2025-03-20T12:09:00.241Z"
   },
   {
    "duration": 68,
    "start_time": "2025-03-20T12:09:00.261Z"
   },
   {
    "duration": 64,
    "start_time": "2025-03-20T12:09:00.331Z"
   },
   {
    "duration": 512,
    "start_time": "2025-03-20T12:09:00.397Z"
   },
   {
    "duration": 60,
    "start_time": "2025-03-20T12:09:00.911Z"
   },
   {
    "duration": 49,
    "start_time": "2025-03-20T12:09:00.972Z"
   },
   {
    "duration": 64,
    "start_time": "2025-03-20T12:09:01.023Z"
   },
   {
    "duration": 1088,
    "start_time": "2025-03-20T12:09:01.089Z"
   },
   {
    "duration": 1147,
    "start_time": "2025-03-20T12:09:02.180Z"
   },
   {
    "duration": 1189,
    "start_time": "2025-03-20T12:09:03.329Z"
   },
   {
    "duration": 761,
    "start_time": "2025-03-20T12:09:04.520Z"
   },
   {
    "duration": 682,
    "start_time": "2025-03-20T12:09:05.282Z"
   },
   {
    "duration": 660,
    "start_time": "2025-03-20T12:09:05.965Z"
   },
   {
    "duration": 3,
    "start_time": "2025-03-20T12:09:06.627Z"
   },
   {
    "duration": 36,
    "start_time": "2025-03-20T12:09:06.631Z"
   },
   {
    "duration": 47,
    "start_time": "2025-03-20T12:09:06.668Z"
   },
   {
    "duration": 275,
    "start_time": "2025-03-20T12:09:06.716Z"
   },
   {
    "duration": 0,
    "start_time": "2025-03-20T12:09:06.993Z"
   },
   {
    "duration": 0,
    "start_time": "2025-03-20T12:09:06.994Z"
   },
   {
    "duration": 0,
    "start_time": "2025-03-20T12:09:06.995Z"
   },
   {
    "duration": 0,
    "start_time": "2025-03-20T12:09:06.996Z"
   },
   {
    "duration": 0,
    "start_time": "2025-03-20T12:09:06.997Z"
   },
   {
    "duration": 0,
    "start_time": "2025-03-20T12:09:06.998Z"
   },
   {
    "duration": 0,
    "start_time": "2025-03-20T12:09:06.999Z"
   },
   {
    "duration": 0,
    "start_time": "2025-03-20T12:09:07.000Z"
   },
   {
    "duration": 0,
    "start_time": "2025-03-20T12:09:07.002Z"
   },
   {
    "duration": 0,
    "start_time": "2025-03-20T12:09:07.002Z"
   },
   {
    "duration": 0,
    "start_time": "2025-03-20T12:09:07.003Z"
   },
   {
    "duration": 0,
    "start_time": "2025-03-20T12:09:07.005Z"
   },
   {
    "duration": 0,
    "start_time": "2025-03-20T12:09:07.005Z"
   },
   {
    "duration": 0,
    "start_time": "2025-03-20T12:09:07.007Z"
   },
   {
    "duration": 0,
    "start_time": "2025-03-20T12:09:07.008Z"
   },
   {
    "duration": 0,
    "start_time": "2025-03-20T12:09:07.008Z"
   },
   {
    "duration": 0,
    "start_time": "2025-03-20T12:09:07.010Z"
   },
   {
    "duration": 0,
    "start_time": "2025-03-20T12:09:07.011Z"
   },
   {
    "duration": 0,
    "start_time": "2025-03-20T12:09:07.012Z"
   },
   {
    "duration": 0,
    "start_time": "2025-03-20T12:09:07.013Z"
   },
   {
    "duration": 3712,
    "start_time": "2025-03-20T12:10:50.675Z"
   },
   {
    "duration": 11,
    "start_time": "2025-03-20T12:10:54.389Z"
   },
   {
    "duration": 35,
    "start_time": "2025-03-20T12:10:54.402Z"
   },
   {
    "duration": 8,
    "start_time": "2025-03-20T12:10:54.439Z"
   },
   {
    "duration": 462,
    "start_time": "2025-03-20T12:10:54.449Z"
   },
   {
    "duration": 61,
    "start_time": "2025-03-20T12:10:54.913Z"
   },
   {
    "duration": 50,
    "start_time": "2025-03-20T12:10:54.975Z"
   },
   {
    "duration": 68,
    "start_time": "2025-03-20T12:10:55.027Z"
   },
   {
    "duration": 1098,
    "start_time": "2025-03-20T12:10:55.096Z"
   },
   {
    "duration": 1134,
    "start_time": "2025-03-20T12:10:56.196Z"
   },
   {
    "duration": 1191,
    "start_time": "2025-03-20T12:10:57.332Z"
   },
   {
    "duration": 757,
    "start_time": "2025-03-20T12:10:58.525Z"
   },
   {
    "duration": 597,
    "start_time": "2025-03-20T12:10:59.284Z"
   },
   {
    "duration": 642,
    "start_time": "2025-03-20T12:10:59.884Z"
   },
   {
    "duration": 4,
    "start_time": "2025-03-20T12:11:00.527Z"
   },
   {
    "duration": 68,
    "start_time": "2025-03-20T12:11:00.532Z"
   },
   {
    "duration": 43,
    "start_time": "2025-03-20T12:11:00.601Z"
   },
   {
    "duration": 919,
    "start_time": "2025-03-20T12:11:00.645Z"
   },
   {
    "duration": 109,
    "start_time": "2025-03-20T12:11:01.567Z"
   },
   {
    "duration": 111,
    "start_time": "2025-03-20T12:11:01.768Z"
   },
   {
    "duration": 368,
    "start_time": "2025-03-20T12:11:01.881Z"
   },
   {
    "duration": 3,
    "start_time": "2025-03-20T12:11:02.251Z"
   },
   {
    "duration": 64,
    "start_time": "2025-03-20T12:11:02.262Z"
   },
   {
    "duration": 935,
    "start_time": "2025-03-20T12:11:02.327Z"
   },
   {
    "duration": 109,
    "start_time": "2025-03-20T12:11:03.265Z"
   },
   {
    "duration": 179,
    "start_time": "2025-03-20T12:11:03.464Z"
   },
   {
    "duration": 386,
    "start_time": "2025-03-20T12:11:03.646Z"
   },
   {
    "duration": 2,
    "start_time": "2025-03-20T12:11:04.034Z"
   },
   {
    "duration": 84,
    "start_time": "2025-03-20T12:11:04.038Z"
   },
   {
    "duration": 940,
    "start_time": "2025-03-20T12:11:04.123Z"
   },
   {
    "duration": 196,
    "start_time": "2025-03-20T12:11:05.066Z"
   },
   {
    "duration": 98,
    "start_time": "2025-03-20T12:11:05.265Z"
   },
   {
    "duration": 376,
    "start_time": "2025-03-20T12:11:05.365Z"
   },
   {
    "duration": 24,
    "start_time": "2025-03-20T12:11:05.743Z"
   },
   {
    "duration": 24,
    "start_time": "2025-03-20T12:11:05.769Z"
   },
   {
    "duration": 31,
    "start_time": "2025-03-20T12:11:05.795Z"
   },
   {
    "duration": 2372,
    "start_time": "2025-03-20T12:11:05.828Z"
   },
   {
    "duration": 10,
    "start_time": "2025-03-20T12:11:08.202Z"
   },
   {
    "duration": 6652,
    "start_time": "2025-03-20T14:33:17.968Z"
   },
   {
    "duration": 2466,
    "start_time": "2025-03-20T14:33:43.347Z"
   },
   {
    "duration": 4313,
    "start_time": "2025-03-20T14:34:00.978Z"
   },
   {
    "duration": 11,
    "start_time": "2025-03-20T14:34:09.525Z"
   },
   {
    "duration": 9,
    "start_time": "2025-03-20T14:34:12.936Z"
   },
   {
    "duration": 4,
    "start_time": "2025-03-20T14:34:14.519Z"
   },
   {
    "duration": 460,
    "start_time": "2025-03-20T14:34:18.924Z"
   },
   {
    "duration": 18,
    "start_time": "2025-03-20T14:34:27.777Z"
   },
   {
    "duration": 11,
    "start_time": "2025-03-20T14:34:32.525Z"
   },
   {
    "duration": 5889,
    "start_time": "2025-03-21T05:50:51.640Z"
   },
   {
    "duration": 11878,
    "start_time": "2025-03-21T05:51:55.437Z"
   },
   {
    "duration": 2920,
    "start_time": "2025-03-21T05:52:15.071Z"
   },
   {
    "duration": 2834,
    "start_time": "2025-03-21T05:53:17.989Z"
   },
   {
    "duration": 3464,
    "start_time": "2025-03-21T05:54:02.649Z"
   },
   {
    "duration": 4059,
    "start_time": "2025-03-21T05:54:06.115Z"
   },
   {
    "duration": 13,
    "start_time": "2025-03-21T05:54:10.177Z"
   },
   {
    "duration": 11,
    "start_time": "2025-03-21T05:54:10.193Z"
   },
   {
    "duration": 8,
    "start_time": "2025-03-21T05:54:10.206Z"
   },
   {
    "duration": 747,
    "start_time": "2025-03-21T05:54:10.215Z"
   },
   {
    "duration": 65,
    "start_time": "2025-03-21T05:54:10.965Z"
   },
   {
    "duration": 75,
    "start_time": "2025-03-21T05:54:11.032Z"
   },
   {
    "duration": 58,
    "start_time": "2025-03-21T05:54:11.109Z"
   },
   {
    "duration": 1249,
    "start_time": "2025-03-21T05:54:11.172Z"
   },
   {
    "duration": 1284,
    "start_time": "2025-03-21T05:54:12.423Z"
   },
   {
    "duration": 1298,
    "start_time": "2025-03-21T05:54:13.708Z"
   },
   {
    "duration": 879,
    "start_time": "2025-03-21T05:54:15.009Z"
   },
   {
    "duration": 1468,
    "start_time": "2025-03-21T05:54:15.892Z"
   },
   {
    "duration": 980,
    "start_time": "2025-03-21T05:54:17.366Z"
   },
   {
    "duration": 12,
    "start_time": "2025-03-21T05:54:18.347Z"
   },
   {
    "duration": 3,
    "start_time": "2025-03-21T05:54:18.361Z"
   },
   {
    "duration": 45,
    "start_time": "2025-03-21T05:54:18.366Z"
   },
   {
    "duration": 852,
    "start_time": "2025-03-21T05:54:18.413Z"
   },
   {
    "duration": 124,
    "start_time": "2025-03-21T05:54:19.268Z"
   },
   {
    "duration": 6,
    "start_time": "2025-03-21T05:54:19.458Z"
   },
   {
    "duration": 489,
    "start_time": "2025-03-21T05:54:19.471Z"
   },
   {
    "duration": 3,
    "start_time": "2025-03-21T05:54:19.964Z"
   },
   {
    "duration": 49,
    "start_time": "2025-03-21T05:54:19.970Z"
   },
   {
    "duration": 842,
    "start_time": "2025-03-21T05:54:20.021Z"
   },
   {
    "duration": 114,
    "start_time": "2025-03-21T05:54:20.867Z"
   },
   {
    "duration": 73,
    "start_time": "2025-03-21T05:54:20.986Z"
   },
   {
    "duration": 456,
    "start_time": "2025-03-21T05:54:21.072Z"
   },
   {
    "duration": 3,
    "start_time": "2025-03-21T05:54:21.530Z"
   },
   {
    "duration": 82,
    "start_time": "2025-03-21T05:54:21.534Z"
   },
   {
    "duration": 679,
    "start_time": "2025-03-21T05:54:21.618Z"
   },
   {
    "duration": 121,
    "start_time": "2025-03-21T05:54:22.369Z"
   },
   {
    "duration": 8,
    "start_time": "2025-03-21T05:54:22.560Z"
   },
   {
    "duration": 452,
    "start_time": "2025-03-21T05:54:22.572Z"
   },
   {
    "duration": 15,
    "start_time": "2025-03-21T05:54:23.026Z"
   },
   {
    "duration": 35,
    "start_time": "2025-03-21T05:54:23.043Z"
   },
   {
    "duration": 5,
    "start_time": "2025-03-21T05:54:23.080Z"
   },
   {
    "duration": 2751,
    "start_time": "2025-03-21T05:54:23.087Z"
   },
   {
    "duration": 17,
    "start_time": "2025-03-21T05:54:25.840Z"
   },
   {
    "duration": 492,
    "start_time": "2025-03-21T06:00:33.366Z"
   },
   {
    "duration": 144,
    "start_time": "2025-03-21T06:00:35.983Z"
   },
   {
    "duration": 79,
    "start_time": "2025-03-21T06:01:26.986Z"
   },
   {
    "duration": 300,
    "start_time": "2025-03-21T06:01:56.005Z"
   },
   {
    "duration": 152,
    "start_time": "2025-03-21T06:02:04.239Z"
   },
   {
    "duration": 84,
    "start_time": "2025-03-21T06:02:37.011Z"
   },
   {
    "duration": 96,
    "start_time": "2025-03-21T06:04:08.281Z"
   },
   {
    "duration": 164,
    "start_time": "2025-03-21T06:04:33.361Z"
   },
   {
    "duration": 132,
    "start_time": "2025-03-21T06:04:59.706Z"
   },
   {
    "duration": 1600,
    "start_time": "2025-03-21T06:05:15.891Z"
   },
   {
    "duration": 165,
    "start_time": "2025-03-21T06:05:26.919Z"
   },
   {
    "duration": 149,
    "start_time": "2025-03-21T06:05:37.168Z"
   },
   {
    "duration": 151,
    "start_time": "2025-03-21T06:06:42.384Z"
   },
   {
    "duration": 156,
    "start_time": "2025-03-21T06:07:09.487Z"
   },
   {
    "duration": 16,
    "start_time": "2025-03-21T06:09:25.603Z"
   },
   {
    "duration": 15,
    "start_time": "2025-03-21T06:09:34.939Z"
   },
   {
    "duration": 19,
    "start_time": "2025-03-21T06:10:07.291Z"
   },
   {
    "duration": 13,
    "start_time": "2025-03-21T06:10:16.441Z"
   },
   {
    "duration": 3,
    "start_time": "2025-03-21T06:10:21.939Z"
   },
   {
    "duration": 20,
    "start_time": "2025-03-21T06:11:01.985Z"
   },
   {
    "duration": 4,
    "start_time": "2025-03-21T06:11:03.128Z"
   },
   {
    "duration": 22,
    "start_time": "2025-03-21T06:13:53.430Z"
   },
   {
    "duration": 20,
    "start_time": "2025-03-21T06:14:11.741Z"
   },
   {
    "duration": 9,
    "start_time": "2025-03-21T06:14:15.940Z"
   },
   {
    "duration": 9,
    "start_time": "2025-03-21T06:14:29.781Z"
   },
   {
    "duration": 149,
    "start_time": "2025-03-21T06:14:43.887Z"
   },
   {
    "duration": 17,
    "start_time": "2025-03-21T06:17:18.898Z"
   },
   {
    "duration": 520,
    "start_time": "2025-03-21T06:17:24.083Z"
   },
   {
    "duration": 171,
    "start_time": "2025-03-21T06:17:26.071Z"
   },
   {
    "duration": 35,
    "start_time": "2025-03-21T06:17:29.070Z"
   },
   {
    "duration": 558,
    "start_time": "2025-03-21T06:21:47.281Z"
   },
   {
    "duration": 18,
    "start_time": "2025-03-21T06:22:13.598Z"
   },
   {
    "duration": 30,
    "start_time": "2025-03-21T06:22:30.667Z"
   },
   {
    "duration": 41,
    "start_time": "2025-03-21T06:24:03.945Z"
   },
   {
    "duration": 22,
    "start_time": "2025-03-21T06:25:35.626Z"
   },
   {
    "duration": 141,
    "start_time": "2025-03-21T06:25:45.825Z"
   },
   {
    "duration": 9,
    "start_time": "2025-03-21T06:27:19.309Z"
   },
   {
    "duration": 151,
    "start_time": "2025-03-21T06:27:24.062Z"
   },
   {
    "duration": 8,
    "start_time": "2025-03-21T06:27:37.319Z"
   },
   {
    "duration": 76,
    "start_time": "2025-03-21T06:27:46.941Z"
   },
   {
    "duration": 3,
    "start_time": "2025-03-21T06:28:10.306Z"
   },
   {
    "duration": 544,
    "start_time": "2025-03-21T06:33:07.542Z"
   },
   {
    "duration": 10,
    "start_time": "2025-03-21T06:33:25.230Z"
   },
   {
    "duration": 550,
    "start_time": "2025-03-21T06:33:55.301Z"
   },
   {
    "duration": 53,
    "start_time": "2025-03-21T06:34:03.151Z"
   },
   {
    "duration": 19,
    "start_time": "2025-03-21T06:34:43.812Z"
   },
   {
    "duration": 565,
    "start_time": "2025-03-21T06:35:10.253Z"
   },
   {
    "duration": 50,
    "start_time": "2025-03-21T06:35:15.692Z"
   },
   {
    "duration": 71,
    "start_time": "2025-03-21T06:35:31.140Z"
   },
   {
    "duration": 24,
    "start_time": "2025-03-21T06:35:46.443Z"
   },
   {
    "duration": 29,
    "start_time": "2025-03-21T06:36:08.140Z"
   },
   {
    "duration": 39,
    "start_time": "2025-03-21T06:38:48.145Z"
   },
   {
    "duration": 19,
    "start_time": "2025-03-21T06:39:12.631Z"
   },
   {
    "duration": 37,
    "start_time": "2025-03-21T06:39:35.974Z"
   },
   {
    "duration": 33,
    "start_time": "2025-03-21T06:39:54.168Z"
   },
   {
    "duration": 15,
    "start_time": "2025-03-21T06:40:01.808Z"
   },
   {
    "duration": 18,
    "start_time": "2025-03-21T06:40:14.630Z"
   },
   {
    "duration": 524,
    "start_time": "2025-03-21T06:41:16.478Z"
   },
   {
    "duration": 55,
    "start_time": "2025-03-21T06:41:17.005Z"
   },
   {
    "duration": 55,
    "start_time": "2025-03-21T06:41:17.062Z"
   },
   {
    "duration": 18,
    "start_time": "2025-03-21T06:41:17.119Z"
   },
   {
    "duration": 68,
    "start_time": "2025-03-21T06:41:17.139Z"
   },
   {
    "duration": 29,
    "start_time": "2025-03-21T06:41:17.209Z"
   },
   {
    "duration": 52,
    "start_time": "2025-03-21T06:41:17.239Z"
   },
   {
    "duration": 53,
    "start_time": "2025-03-21T06:41:17.296Z"
   },
   {
    "duration": 56,
    "start_time": "2025-03-21T06:41:17.350Z"
   },
   {
    "duration": 18,
    "start_time": "2025-03-21T06:41:17.407Z"
   },
   {
    "duration": 2053,
    "start_time": "2025-03-21T07:44:40.468Z"
   },
   {
    "duration": 11,
    "start_time": "2025-03-21T07:44:48.889Z"
   },
   {
    "duration": 9,
    "start_time": "2025-03-21T07:46:04.571Z"
   },
   {
    "duration": 1928,
    "start_time": "2025-03-21T07:46:13.688Z"
   },
   {
    "duration": 11,
    "start_time": "2025-03-21T07:46:48.142Z"
   },
   {
    "duration": 1959,
    "start_time": "2025-03-21T07:47:38.918Z"
   },
   {
    "duration": 10,
    "start_time": "2025-03-21T07:47:45.785Z"
   },
   {
    "duration": 9,
    "start_time": "2025-03-21T07:49:07.229Z"
   },
   {
    "duration": 1987,
    "start_time": "2025-03-21T07:52:17.422Z"
   },
   {
    "duration": 8,
    "start_time": "2025-03-21T07:52:34.745Z"
   },
   {
    "duration": 338,
    "start_time": "2025-03-21T07:58:55.905Z"
   },
   {
    "duration": 13,
    "start_time": "2025-03-21T08:03:15.497Z"
   },
   {
    "duration": 4,
    "start_time": "2025-03-21T08:03:45.935Z"
   },
   {
    "duration": 5,
    "start_time": "2025-03-21T08:04:04.238Z"
   },
   {
    "duration": 4,
    "start_time": "2025-03-21T08:05:47.915Z"
   },
   {
    "duration": 326,
    "start_time": "2025-03-21T08:08:20.503Z"
   },
   {
    "duration": 308,
    "start_time": "2025-03-21T08:11:16.132Z"
   },
   {
    "duration": 355,
    "start_time": "2025-03-21T08:11:30.836Z"
   },
   {
    "duration": 337,
    "start_time": "2025-03-21T08:12:40.553Z"
   },
   {
    "duration": 358,
    "start_time": "2025-03-21T08:13:06.208Z"
   },
   {
    "duration": 338,
    "start_time": "2025-03-21T08:16:13.357Z"
   },
   {
    "duration": 332,
    "start_time": "2025-03-21T08:16:24.388Z"
   },
   {
    "duration": 380,
    "start_time": "2025-03-21T08:16:30.715Z"
   },
   {
    "duration": 342,
    "start_time": "2025-03-21T08:21:55.940Z"
   },
   {
    "duration": 342,
    "start_time": "2025-03-21T08:26:18.432Z"
   },
   {
    "duration": 453,
    "start_time": "2025-03-21T08:26:32.199Z"
   },
   {
    "duration": 917,
    "start_time": "2025-03-21T08:28:50.633Z"
   },
   {
    "duration": 92,
    "start_time": "2025-03-21T08:32:41.287Z"
   },
   {
    "duration": 295,
    "start_time": "2025-03-21T08:32:56.757Z"
   },
   {
    "duration": 297,
    "start_time": "2025-03-21T08:34:37.493Z"
   },
   {
    "duration": 296,
    "start_time": "2025-03-21T08:34:57.844Z"
   },
   {
    "duration": 936,
    "start_time": "2025-03-21T08:35:07.029Z"
   },
   {
    "duration": 715,
    "start_time": "2025-03-21T08:35:34.766Z"
   },
   {
    "duration": 906,
    "start_time": "2025-03-21T08:35:45.883Z"
   },
   {
    "duration": 317,
    "start_time": "2025-03-21T08:42:38.724Z"
   },
   {
    "duration": 958,
    "start_time": "2025-03-21T08:42:56.607Z"
   },
   {
    "duration": 884,
    "start_time": "2025-03-21T08:43:27.162Z"
   },
   {
    "duration": 1030,
    "start_time": "2025-03-21T08:47:29.645Z"
   },
   {
    "duration": 1832,
    "start_time": "2025-03-21T08:58:32.618Z"
   },
   {
    "duration": 111,
    "start_time": "2025-03-21T08:58:38.190Z"
   },
   {
    "duration": 11,
    "start_time": "2025-03-21T08:58:47.593Z"
   },
   {
    "duration": 1907,
    "start_time": "2025-03-21T09:00:12.558Z"
   },
   {
    "duration": 12,
    "start_time": "2025-03-21T09:00:18.244Z"
   },
   {
    "duration": 12,
    "start_time": "2025-03-21T09:01:42.579Z"
   },
   {
    "duration": 12,
    "start_time": "2025-03-21T09:12:34.814Z"
   },
   {
    "duration": 15,
    "start_time": "2025-03-21T09:13:28.255Z"
   },
   {
    "duration": 14,
    "start_time": "2025-03-21T09:13:32.605Z"
   },
   {
    "duration": 2658,
    "start_time": "2025-03-21T09:14:02.975Z"
   },
   {
    "duration": 1340,
    "start_time": "2025-03-21T09:14:12.389Z"
   },
   {
    "duration": 15,
    "start_time": "2025-03-21T09:14:36.675Z"
   },
   {
    "duration": 12,
    "start_time": "2025-03-21T09:16:46.882Z"
   },
   {
    "duration": 1325,
    "start_time": "2025-03-21T09:17:16.231Z"
   },
   {
    "duration": 13,
    "start_time": "2025-03-21T09:18:13.121Z"
   },
   {
    "duration": 4253,
    "start_time": "2025-03-21T09:20:03.378Z"
   },
   {
    "duration": 12,
    "start_time": "2025-03-21T09:20:07.634Z"
   },
   {
    "duration": 25,
    "start_time": "2025-03-21T09:20:07.648Z"
   },
   {
    "duration": 5,
    "start_time": "2025-03-21T09:20:07.678Z"
   },
   {
    "duration": 553,
    "start_time": "2025-03-21T09:20:07.684Z"
   },
   {
    "duration": 68,
    "start_time": "2025-03-21T09:20:08.239Z"
   },
   {
    "duration": 33,
    "start_time": "2025-03-21T09:20:08.309Z"
   },
   {
    "duration": 25,
    "start_time": "2025-03-21T09:20:08.369Z"
   },
   {
    "duration": 69,
    "start_time": "2025-03-21T09:20:08.396Z"
   },
   {
    "duration": 34,
    "start_time": "2025-03-21T09:20:08.471Z"
   },
   {
    "duration": 20,
    "start_time": "2025-03-21T09:20:08.507Z"
   },
   {
    "duration": 85,
    "start_time": "2025-03-21T09:20:08.528Z"
   },
   {
    "duration": 52,
    "start_time": "2025-03-21T09:20:08.615Z"
   },
   {
    "duration": 28,
    "start_time": "2025-03-21T09:20:08.669Z"
   },
   {
    "duration": 1289,
    "start_time": "2025-03-21T09:20:08.700Z"
   },
   {
    "duration": 1384,
    "start_time": "2025-03-21T09:20:09.991Z"
   },
   {
    "duration": 1412,
    "start_time": "2025-03-21T09:20:11.377Z"
   },
   {
    "duration": 893,
    "start_time": "2025-03-21T09:20:12.791Z"
   },
   {
    "duration": 722,
    "start_time": "2025-03-21T09:20:13.686Z"
   },
   {
    "duration": 748,
    "start_time": "2025-03-21T09:20:14.411Z"
   },
   {
    "duration": 8,
    "start_time": "2025-03-21T09:20:15.161Z"
   },
   {
    "duration": 102,
    "start_time": "2025-03-21T09:20:15.172Z"
   },
   {
    "duration": 70,
    "start_time": "2025-03-21T09:20:15.276Z"
   },
   {
    "duration": 1017,
    "start_time": "2025-03-21T09:20:15.348Z"
   },
   {
    "duration": 191,
    "start_time": "2025-03-21T09:20:16.370Z"
   },
   {
    "duration": 9,
    "start_time": "2025-03-21T09:20:16.573Z"
   },
   {
    "duration": 395,
    "start_time": "2025-03-21T09:20:16.658Z"
   },
   {
    "duration": 11,
    "start_time": "2025-03-21T09:20:17.057Z"
   },
   {
    "duration": 56,
    "start_time": "2025-03-21T09:20:17.073Z"
   },
   {
    "duration": 852,
    "start_time": "2025-03-21T09:20:17.130Z"
   },
   {
    "duration": 197,
    "start_time": "2025-03-21T09:20:17.984Z"
   },
   {
    "duration": 4,
    "start_time": "2025-03-21T09:20:18.259Z"
   },
   {
    "duration": 471,
    "start_time": "2025-03-21T09:20:18.265Z"
   },
   {
    "duration": 3,
    "start_time": "2025-03-21T09:20:18.738Z"
   },
   {
    "duration": 71,
    "start_time": "2025-03-21T09:20:18.743Z"
   },
   {
    "duration": 945,
    "start_time": "2025-03-21T09:20:18.815Z"
   },
   {
    "duration": 118,
    "start_time": "2025-03-21T09:20:19.763Z"
   },
   {
    "duration": 83,
    "start_time": "2025-03-21T09:20:19.884Z"
   },
   {
    "duration": 470,
    "start_time": "2025-03-21T09:20:19.975Z"
   },
   {
    "duration": 32,
    "start_time": "2025-03-21T09:20:20.447Z"
   },
   {
    "duration": 16,
    "start_time": "2025-03-21T09:20:20.481Z"
   },
   {
    "duration": 4,
    "start_time": "2025-03-21T09:20:20.499Z"
   },
   {
    "duration": 2060,
    "start_time": "2025-03-21T09:20:20.504Z"
   },
   {
    "duration": 14,
    "start_time": "2025-03-21T09:20:22.570Z"
   },
   {
    "duration": 1206,
    "start_time": "2025-03-21T09:20:22.586Z"
   },
   {
    "duration": 9,
    "start_time": "2025-03-21T11:11:26.789Z"
   },
   {
    "duration": 4280,
    "start_time": "2025-03-21T11:12:28.202Z"
   },
   {
    "duration": 14,
    "start_time": "2025-03-21T11:12:32.485Z"
   },
   {
    "duration": 77,
    "start_time": "2025-03-21T11:12:32.501Z"
   },
   {
    "duration": 11,
    "start_time": "2025-03-21T11:12:32.582Z"
   },
   {
    "duration": 576,
    "start_time": "2025-03-21T11:12:32.595Z"
   },
   {
    "duration": 62,
    "start_time": "2025-03-21T11:12:33.173Z"
   },
   {
    "duration": 61,
    "start_time": "2025-03-21T11:12:33.237Z"
   },
   {
    "duration": 20,
    "start_time": "2025-03-21T11:12:33.300Z"
   },
   {
    "duration": 85,
    "start_time": "2025-03-21T11:12:33.322Z"
   },
   {
    "duration": 27,
    "start_time": "2025-03-21T11:12:33.410Z"
   },
   {
    "duration": 45,
    "start_time": "2025-03-21T11:12:33.438Z"
   },
   {
    "duration": 57,
    "start_time": "2025-03-21T11:12:33.486Z"
   },
   {
    "duration": 69,
    "start_time": "2025-03-21T11:12:33.546Z"
   },
   {
    "duration": 20,
    "start_time": "2025-03-21T11:12:33.617Z"
   },
   {
    "duration": 1331,
    "start_time": "2025-03-21T11:12:33.639Z"
   },
   {
    "duration": 1375,
    "start_time": "2025-03-21T11:12:34.974Z"
   },
   {
    "duration": 1368,
    "start_time": "2025-03-21T11:12:36.351Z"
   },
   {
    "duration": 867,
    "start_time": "2025-03-21T11:12:37.721Z"
   },
   {
    "duration": 700,
    "start_time": "2025-03-21T11:12:38.590Z"
   },
   {
    "duration": 682,
    "start_time": "2025-03-21T11:12:39.292Z"
   },
   {
    "duration": 7,
    "start_time": "2025-03-21T11:12:39.976Z"
   },
   {
    "duration": 85,
    "start_time": "2025-03-21T11:12:39.985Z"
   },
   {
    "duration": 489,
    "start_time": "2025-03-21T11:12:40.074Z"
   },
   {
    "duration": 98,
    "start_time": "2025-03-21T11:12:40.565Z"
   },
   {
    "duration": 28,
    "start_time": "2025-03-21T11:12:40.665Z"
   },
   {
    "duration": 3,
    "start_time": "2025-03-21T11:12:40.695Z"
   },
   {
    "duration": 147,
    "start_time": "2025-03-21T11:12:40.700Z"
   },
   {
    "duration": 0,
    "start_time": "2025-03-21T11:12:40.850Z"
   },
   {
    "duration": 0,
    "start_time": "2025-03-21T11:12:40.852Z"
   },
   {
    "duration": 5,
    "start_time": "2025-03-21T11:13:07.511Z"
   },
   {
    "duration": 2033,
    "start_time": "2025-03-21T11:14:27.584Z"
   },
   {
    "duration": 19,
    "start_time": "2025-03-21T11:14:36.157Z"
   },
   {
    "duration": 559,
    "start_time": "2025-03-21T11:18:38.319Z"
   },
   {
    "duration": 23,
    "start_time": "2025-03-21T11:18:41.033Z"
   },
   {
    "duration": 4297,
    "start_time": "2025-03-21T11:19:19.441Z"
   },
   {
    "duration": 10,
    "start_time": "2025-03-21T11:19:23.741Z"
   },
   {
    "duration": 15,
    "start_time": "2025-03-21T11:19:23.753Z"
   },
   {
    "duration": 9,
    "start_time": "2025-03-21T11:19:23.771Z"
   },
   {
    "duration": 535,
    "start_time": "2025-03-21T11:19:23.782Z"
   },
   {
    "duration": 82,
    "start_time": "2025-03-21T11:19:24.319Z"
   },
   {
    "duration": 25,
    "start_time": "2025-03-21T11:19:24.403Z"
   },
   {
    "duration": 45,
    "start_time": "2025-03-21T11:19:24.430Z"
   },
   {
    "duration": 54,
    "start_time": "2025-03-21T11:19:24.477Z"
   },
   {
    "duration": 46,
    "start_time": "2025-03-21T11:19:24.534Z"
   },
   {
    "duration": 21,
    "start_time": "2025-03-21T11:19:24.584Z"
   },
   {
    "duration": 78,
    "start_time": "2025-03-21T11:19:24.607Z"
   },
   {
    "duration": 46,
    "start_time": "2025-03-21T11:19:24.691Z"
   },
   {
    "duration": 32,
    "start_time": "2025-03-21T11:19:24.739Z"
   },
   {
    "duration": 1369,
    "start_time": "2025-03-21T11:19:24.774Z"
   },
   {
    "duration": 1352,
    "start_time": "2025-03-21T11:19:26.145Z"
   },
   {
    "duration": 1371,
    "start_time": "2025-03-21T11:19:27.498Z"
   },
   {
    "duration": 865,
    "start_time": "2025-03-21T11:19:28.871Z"
   },
   {
    "duration": 718,
    "start_time": "2025-03-21T11:19:29.738Z"
   },
   {
    "duration": 695,
    "start_time": "2025-03-21T11:19:30.457Z"
   },
   {
    "duration": 9,
    "start_time": "2025-03-21T11:19:31.158Z"
   },
   {
    "duration": 6,
    "start_time": "2025-03-21T11:19:31.169Z"
   },
   {
    "duration": 689,
    "start_time": "2025-03-21T11:19:31.177Z"
   },
   {
    "duration": 26,
    "start_time": "2025-03-21T11:19:31.869Z"
   },
   {
    "duration": 29,
    "start_time": "2025-03-21T11:19:31.960Z"
   },
   {
    "duration": 4,
    "start_time": "2025-03-21T11:19:31.991Z"
   },
   {
    "duration": 6,
    "start_time": "2025-03-21T11:19:31.997Z"
   },
   {
    "duration": 2044,
    "start_time": "2025-03-21T11:19:32.007Z"
   },
   {
    "duration": 21,
    "start_time": "2025-03-21T11:19:34.053Z"
   },
   {
    "duration": 1013,
    "start_time": "2025-03-21T11:19:34.077Z"
   },
   {
    "duration": 4261,
    "start_time": "2025-03-21T11:36:25.922Z"
   },
   {
    "duration": 14,
    "start_time": "2025-03-21T11:36:30.186Z"
   },
   {
    "duration": 10,
    "start_time": "2025-03-21T11:36:30.202Z"
   },
   {
    "duration": 6,
    "start_time": "2025-03-21T11:36:30.215Z"
   },
   {
    "duration": 570,
    "start_time": "2025-03-21T11:36:30.224Z"
   },
   {
    "duration": 73,
    "start_time": "2025-03-21T11:36:30.795Z"
   },
   {
    "duration": 37,
    "start_time": "2025-03-21T11:36:30.870Z"
   },
   {
    "duration": 21,
    "start_time": "2025-03-21T11:36:30.908Z"
   },
   {
    "duration": 122,
    "start_time": "2025-03-21T11:36:30.931Z"
   },
   {
    "duration": 43,
    "start_time": "2025-03-21T11:36:31.057Z"
   },
   {
    "duration": 18,
    "start_time": "2025-03-21T11:36:31.101Z"
   },
   {
    "duration": 82,
    "start_time": "2025-03-21T11:36:31.121Z"
   },
   {
    "duration": 25,
    "start_time": "2025-03-21T11:36:31.205Z"
   },
   {
    "duration": 74,
    "start_time": "2025-03-21T11:36:31.232Z"
   },
   {
    "duration": 1312,
    "start_time": "2025-03-21T11:36:31.307Z"
   },
   {
    "duration": 1357,
    "start_time": "2025-03-21T11:36:32.621Z"
   },
   {
    "duration": 1412,
    "start_time": "2025-03-21T11:36:33.984Z"
   },
   {
    "duration": 870,
    "start_time": "2025-03-21T11:36:35.398Z"
   },
   {
    "duration": 700,
    "start_time": "2025-03-21T11:36:36.269Z"
   },
   {
    "duration": 700,
    "start_time": "2025-03-21T11:36:36.973Z"
   },
   {
    "duration": 13,
    "start_time": "2025-03-21T11:36:37.679Z"
   },
   {
    "duration": 2,
    "start_time": "2025-03-21T11:36:37.694Z"
   },
   {
    "duration": 454,
    "start_time": "2025-03-21T11:36:37.698Z"
   },
   {
    "duration": 0,
    "start_time": "2025-03-21T11:36:38.153Z"
   },
   {
    "duration": 0,
    "start_time": "2025-03-21T11:36:38.158Z"
   },
   {
    "duration": 0,
    "start_time": "2025-03-21T11:36:38.159Z"
   },
   {
    "duration": 0,
    "start_time": "2025-03-21T11:36:38.160Z"
   },
   {
    "duration": 0,
    "start_time": "2025-03-21T11:36:38.163Z"
   },
   {
    "duration": 0,
    "start_time": "2025-03-21T11:36:38.166Z"
   },
   {
    "duration": 0,
    "start_time": "2025-03-21T11:36:38.166Z"
   },
   {
    "duration": 498,
    "start_time": "2025-03-21T11:37:33.262Z"
   },
   {
    "duration": 11,
    "start_time": "2025-03-21T11:37:36.597Z"
   },
   {
    "duration": 4448,
    "start_time": "2025-03-21T11:38:56.463Z"
   },
   {
    "duration": 15,
    "start_time": "2025-03-21T11:39:00.914Z"
   },
   {
    "duration": 115,
    "start_time": "2025-03-21T11:39:00.931Z"
   },
   {
    "duration": 33,
    "start_time": "2025-03-21T11:39:01.049Z"
   },
   {
    "duration": 584,
    "start_time": "2025-03-21T11:39:01.085Z"
   },
   {
    "duration": 67,
    "start_time": "2025-03-21T11:39:01.672Z"
   },
   {
    "duration": 39,
    "start_time": "2025-03-21T11:39:01.741Z"
   },
   {
    "duration": 82,
    "start_time": "2025-03-21T11:39:01.782Z"
   },
   {
    "duration": 61,
    "start_time": "2025-03-21T11:39:01.870Z"
   },
   {
    "duration": 42,
    "start_time": "2025-03-21T11:39:01.934Z"
   },
   {
    "duration": 26,
    "start_time": "2025-03-21T11:39:01.977Z"
   },
   {
    "duration": 79,
    "start_time": "2025-03-21T11:39:02.005Z"
   },
   {
    "duration": 27,
    "start_time": "2025-03-21T11:39:02.088Z"
   },
   {
    "duration": 103,
    "start_time": "2025-03-21T11:39:02.116Z"
   },
   {
    "duration": 1295,
    "start_time": "2025-03-21T11:39:02.220Z"
   },
   {
    "duration": 1374,
    "start_time": "2025-03-21T11:39:03.516Z"
   },
   {
    "duration": 1391,
    "start_time": "2025-03-21T11:39:04.892Z"
   },
   {
    "duration": 877,
    "start_time": "2025-03-21T11:39:06.287Z"
   },
   {
    "duration": 703,
    "start_time": "2025-03-21T11:39:07.168Z"
   },
   {
    "duration": 711,
    "start_time": "2025-03-21T11:39:07.879Z"
   },
   {
    "duration": 5,
    "start_time": "2025-03-21T11:39:08.592Z"
   },
   {
    "duration": 57,
    "start_time": "2025-03-21T11:39:08.598Z"
   },
   {
    "duration": 601,
    "start_time": "2025-03-21T11:39:08.657Z"
   },
   {
    "duration": 27,
    "start_time": "2025-03-21T11:39:09.261Z"
   },
   {
    "duration": 31,
    "start_time": "2025-03-21T11:39:09.357Z"
   },
   {
    "duration": 3,
    "start_time": "2025-03-21T11:39:09.392Z"
   },
   {
    "duration": 5,
    "start_time": "2025-03-21T11:39:09.397Z"
   },
   {
    "duration": 2077,
    "start_time": "2025-03-21T11:39:09.405Z"
   },
   {
    "duration": 11,
    "start_time": "2025-03-21T11:39:11.492Z"
   },
   {
    "duration": 989,
    "start_time": "2025-03-21T11:39:11.505Z"
   },
   {
    "duration": 11266,
    "start_time": "2025-03-23T07:41:50.391Z"
   },
   {
    "duration": 5323,
    "start_time": "2025-03-23T07:42:01.659Z"
   },
   {
    "duration": 10,
    "start_time": "2025-03-23T07:42:06.984Z"
   },
   {
    "duration": 17,
    "start_time": "2025-03-23T07:42:06.996Z"
   },
   {
    "duration": 8,
    "start_time": "2025-03-23T07:42:07.015Z"
   },
   {
    "duration": 449,
    "start_time": "2025-03-23T07:42:07.025Z"
   },
   {
    "duration": 53,
    "start_time": "2025-03-23T07:42:07.475Z"
   },
   {
    "duration": 33,
    "start_time": "2025-03-23T07:42:07.530Z"
   },
   {
    "duration": 86,
    "start_time": "2025-03-23T07:42:07.565Z"
   },
   {
    "duration": 73,
    "start_time": "2025-03-23T07:42:07.653Z"
   },
   {
    "duration": 23,
    "start_time": "2025-03-23T07:42:07.728Z"
   },
   {
    "duration": 17,
    "start_time": "2025-03-23T07:42:07.752Z"
   },
   {
    "duration": 48,
    "start_time": "2025-03-23T07:42:07.771Z"
   },
   {
    "duration": 41,
    "start_time": "2025-03-23T07:42:07.820Z"
   },
   {
    "duration": 17,
    "start_time": "2025-03-23T07:42:07.862Z"
   },
   {
    "duration": 1078,
    "start_time": "2025-03-23T07:42:07.880Z"
   },
   {
    "duration": 1127,
    "start_time": "2025-03-23T07:42:08.959Z"
   },
   {
    "duration": 1160,
    "start_time": "2025-03-23T07:42:10.087Z"
   },
   {
    "duration": 813,
    "start_time": "2025-03-23T07:42:11.249Z"
   },
   {
    "duration": 579,
    "start_time": "2025-03-23T07:42:12.064Z"
   },
   {
    "duration": 589,
    "start_time": "2025-03-23T07:42:12.644Z"
   },
   {
    "duration": 3,
    "start_time": "2025-03-23T07:42:13.235Z"
   },
   {
    "duration": 18,
    "start_time": "2025-03-23T07:42:13.240Z"
   },
   {
    "duration": 500,
    "start_time": "2025-03-23T07:42:13.260Z"
   },
   {
    "duration": 103,
    "start_time": "2025-03-23T07:42:13.762Z"
   },
   {
    "duration": 19,
    "start_time": "2025-03-23T07:42:13.866Z"
   },
   {
    "duration": 128,
    "start_time": "2025-03-23T07:42:13.886Z"
   },
   {
    "duration": 0,
    "start_time": "2025-03-23T07:42:14.015Z"
   },
   {
    "duration": 0,
    "start_time": "2025-03-23T07:42:14.017Z"
   },
   {
    "duration": 0,
    "start_time": "2025-03-23T07:42:14.018Z"
   },
   {
    "duration": 0,
    "start_time": "2025-03-23T07:42:14.019Z"
   },
   {
    "duration": 0,
    "start_time": "2025-03-23T07:42:14.021Z"
   },
   {
    "duration": 3,
    "start_time": "2025-03-23T07:42:36.394Z"
   },
   {
    "duration": 13,
    "start_time": "2025-03-23T07:42:41.081Z"
   },
   {
    "duration": 8,
    "start_time": "2025-03-23T07:43:20.512Z"
   },
   {
    "duration": 2941,
    "start_time": "2025-03-23T07:48:36.645Z"
   },
   {
    "duration": 3687,
    "start_time": "2025-03-23T07:48:39.588Z"
   },
   {
    "duration": 11,
    "start_time": "2025-03-23T07:48:43.278Z"
   },
   {
    "duration": 7,
    "start_time": "2025-03-23T07:48:43.292Z"
   },
   {
    "duration": 5,
    "start_time": "2025-03-23T07:48:43.301Z"
   },
   {
    "duration": 590,
    "start_time": "2025-03-23T07:48:43.307Z"
   },
   {
    "duration": 61,
    "start_time": "2025-03-23T07:48:43.899Z"
   },
   {
    "duration": 27,
    "start_time": "2025-03-23T07:48:43.961Z"
   },
   {
    "duration": 21,
    "start_time": "2025-03-23T07:48:43.990Z"
   },
   {
    "duration": 112,
    "start_time": "2025-03-23T07:48:44.014Z"
   },
   {
    "duration": 23,
    "start_time": "2025-03-23T07:48:44.128Z"
   },
   {
    "duration": 17,
    "start_time": "2025-03-23T07:48:44.153Z"
   },
   {
    "duration": 51,
    "start_time": "2025-03-23T07:48:44.172Z"
   },
   {
    "duration": 36,
    "start_time": "2025-03-23T07:48:44.225Z"
   },
   {
    "duration": 17,
    "start_time": "2025-03-23T07:48:44.262Z"
   },
   {
    "duration": 1133,
    "start_time": "2025-03-23T07:48:44.280Z"
   },
   {
    "duration": 1133,
    "start_time": "2025-03-23T07:48:45.414Z"
   },
   {
    "duration": 1158,
    "start_time": "2025-03-23T07:48:46.549Z"
   },
   {
    "duration": 786,
    "start_time": "2025-03-23T07:48:47.709Z"
   },
   {
    "duration": 625,
    "start_time": "2025-03-23T07:48:48.497Z"
   },
   {
    "duration": 610,
    "start_time": "2025-03-23T07:48:49.124Z"
   },
   {
    "duration": 5,
    "start_time": "2025-03-23T07:48:49.736Z"
   },
   {
    "duration": 16,
    "start_time": "2025-03-23T07:48:49.742Z"
   },
   {
    "duration": 498,
    "start_time": "2025-03-23T07:48:49.760Z"
   },
   {
    "duration": 102,
    "start_time": "2025-03-23T07:48:50.261Z"
   },
   {
    "duration": 18,
    "start_time": "2025-03-23T07:48:50.365Z"
   },
   {
    "duration": 16,
    "start_time": "2025-03-23T07:48:50.384Z"
   },
   {
    "duration": 128,
    "start_time": "2025-03-23T07:48:50.403Z"
   },
   {
    "duration": 0,
    "start_time": "2025-03-23T07:48:50.533Z"
   },
   {
    "duration": 0,
    "start_time": "2025-03-23T07:48:50.534Z"
   },
   {
    "duration": 0,
    "start_time": "2025-03-23T07:48:50.536Z"
   },
   {
    "duration": 0,
    "start_time": "2025-03-23T07:48:50.537Z"
   },
   {
    "duration": 0,
    "start_time": "2025-03-23T07:48:50.538Z"
   },
   {
    "duration": 8,
    "start_time": "2025-03-23T07:49:55.195Z"
   },
   {
    "duration": 14,
    "start_time": "2025-03-23T07:50:12.210Z"
   },
   {
    "duration": 25,
    "start_time": "2025-03-23T07:50:43.104Z"
   },
   {
    "duration": 21,
    "start_time": "2025-03-23T07:58:43.472Z"
   },
   {
    "duration": 15,
    "start_time": "2025-03-23T07:59:16.903Z"
   },
   {
    "duration": 9,
    "start_time": "2025-03-23T07:59:35.102Z"
   },
   {
    "duration": 329,
    "start_time": "2025-03-23T07:59:53.806Z"
   },
   {
    "duration": 70,
    "start_time": "2025-03-23T08:03:27.889Z"
   },
   {
    "duration": 14,
    "start_time": "2025-03-23T08:05:12.918Z"
   },
   {
    "duration": 13,
    "start_time": "2025-03-23T08:05:32.116Z"
   },
   {
    "duration": 5,
    "start_time": "2025-03-23T08:08:26.720Z"
   },
   {
    "duration": 88,
    "start_time": "2025-03-23T08:11:02.076Z"
   },
   {
    "duration": 8,
    "start_time": "2025-03-23T08:11:10.955Z"
   },
   {
    "duration": 8,
    "start_time": "2025-03-23T08:11:39.749Z"
   },
   {
    "duration": 6,
    "start_time": "2025-03-23T08:13:18.385Z"
   },
   {
    "duration": 34,
    "start_time": "2025-03-23T08:13:33.186Z"
   },
   {
    "duration": 47,
    "start_time": "2025-03-23T08:15:02.702Z"
   },
   {
    "duration": 35,
    "start_time": "2025-03-23T08:15:15.510Z"
   },
   {
    "duration": 38,
    "start_time": "2025-03-23T08:15:34.742Z"
   },
   {
    "duration": 43,
    "start_time": "2025-03-23T08:17:12.971Z"
   },
   {
    "duration": 32,
    "start_time": "2025-03-23T08:19:40.584Z"
   },
   {
    "duration": 3,
    "start_time": "2025-03-23T08:30:01.094Z"
   },
   {
    "duration": 5,
    "start_time": "2025-03-23T08:31:11.492Z"
   },
   {
    "duration": 8,
    "start_time": "2025-03-23T08:31:39.547Z"
   },
   {
    "duration": 7,
    "start_time": "2025-03-23T08:33:29.204Z"
   },
   {
    "duration": 7,
    "start_time": "2025-03-23T08:36:15.253Z"
   },
   {
    "duration": 8,
    "start_time": "2025-03-23T08:39:17.144Z"
   },
   {
    "duration": 8,
    "start_time": "2025-03-23T08:39:31.943Z"
   },
   {
    "duration": 48,
    "start_time": "2025-03-23T08:42:23.211Z"
   },
   {
    "duration": 7,
    "start_time": "2025-03-23T08:42:28.380Z"
   },
   {
    "duration": 8,
    "start_time": "2025-03-23T08:42:54.883Z"
   },
   {
    "duration": 9,
    "start_time": "2025-03-23T08:43:07.146Z"
   },
   {
    "duration": 8,
    "start_time": "2025-03-23T08:43:45.473Z"
   },
   {
    "duration": 87,
    "start_time": "2025-03-23T08:44:13.681Z"
   },
   {
    "duration": 22,
    "start_time": "2025-03-23T08:44:41.239Z"
   },
   {
    "duration": 3,
    "start_time": "2025-03-23T08:44:48.352Z"
   },
   {
    "duration": 19,
    "start_time": "2025-03-23T08:46:52.102Z"
   },
   {
    "duration": 3,
    "start_time": "2025-03-23T08:48:02.403Z"
   },
   {
    "duration": 1541,
    "start_time": "2025-03-23T08:48:08.339Z"
   },
   {
    "duration": 3,
    "start_time": "2025-03-23T08:49:39.624Z"
   },
   {
    "duration": 12556,
    "start_time": "2025-03-23T08:49:43.337Z"
   },
   {
    "duration": 10,
    "start_time": "2025-03-23T08:50:01.764Z"
   },
   {
    "duration": 890,
    "start_time": "2025-03-23T08:50:22.056Z"
   },
   {
    "duration": 12,
    "start_time": "2025-03-23T10:47:46.457Z"
   },
   {
    "duration": 7,
    "start_time": "2025-03-23T10:48:02.194Z"
   },
   {
    "duration": 5,
    "start_time": "2025-03-23T10:48:30.624Z"
   },
   {
    "duration": 63,
    "start_time": "2025-03-23T10:49:14.520Z"
   },
   {
    "duration": 139,
    "start_time": "2025-03-23T10:49:30.679Z"
   },
   {
    "duration": 4,
    "start_time": "2025-03-23T10:49:38.823Z"
   },
   {
    "duration": 3,
    "start_time": "2025-03-23T10:49:56.375Z"
   },
   {
    "duration": 12566,
    "start_time": "2025-03-23T10:50:50.750Z"
   },
   {
    "duration": 12,
    "start_time": "2025-03-23T10:52:35.849Z"
   },
   {
    "duration": 12761,
    "start_time": "2025-03-23T10:53:31.676Z"
   },
   {
    "duration": 12,
    "start_time": "2025-03-23T10:53:48.935Z"
   },
   {
    "duration": 2985,
    "start_time": "2025-03-23T10:59:05.349Z"
   },
   {
    "duration": 3742,
    "start_time": "2025-03-23T10:59:08.337Z"
   },
   {
    "duration": 11,
    "start_time": "2025-03-23T10:59:12.081Z"
   },
   {
    "duration": 81,
    "start_time": "2025-03-23T10:59:12.094Z"
   },
   {
    "duration": 4,
    "start_time": "2025-03-23T10:59:12.178Z"
   },
   {
    "duration": 485,
    "start_time": "2025-03-23T10:59:12.183Z"
   },
   {
    "duration": 51,
    "start_time": "2025-03-23T10:59:12.670Z"
   },
   {
    "duration": 38,
    "start_time": "2025-03-23T10:59:12.723Z"
   },
   {
    "duration": 18,
    "start_time": "2025-03-23T10:59:12.763Z"
   },
   {
    "duration": 47,
    "start_time": "2025-03-23T10:59:12.783Z"
   },
   {
    "duration": 49,
    "start_time": "2025-03-23T10:59:12.832Z"
   },
   {
    "duration": 27,
    "start_time": "2025-03-23T10:59:12.882Z"
   },
   {
    "duration": 60,
    "start_time": "2025-03-23T10:59:12.912Z"
   },
   {
    "duration": 22,
    "start_time": "2025-03-23T10:59:12.975Z"
   },
   {
    "duration": 19,
    "start_time": "2025-03-23T10:59:12.998Z"
   },
   {
    "duration": 1082,
    "start_time": "2025-03-23T10:59:13.018Z"
   },
   {
    "duration": 1134,
    "start_time": "2025-03-23T10:59:14.102Z"
   },
   {
    "duration": 1154,
    "start_time": "2025-03-23T10:59:15.239Z"
   },
   {
    "duration": 779,
    "start_time": "2025-03-23T10:59:16.394Z"
   },
   {
    "duration": 561,
    "start_time": "2025-03-23T10:59:17.175Z"
   },
   {
    "duration": 606,
    "start_time": "2025-03-23T10:59:17.737Z"
   },
   {
    "duration": 3,
    "start_time": "2025-03-23T10:59:18.345Z"
   },
   {
    "duration": 3,
    "start_time": "2025-03-23T10:59:18.358Z"
   },
   {
    "duration": 495,
    "start_time": "2025-03-23T10:59:18.363Z"
   },
   {
    "duration": 103,
    "start_time": "2025-03-23T10:59:18.862Z"
   },
   {
    "duration": 3,
    "start_time": "2025-03-23T10:59:18.967Z"
   },
   {
    "duration": 11,
    "start_time": "2025-03-23T10:59:18.971Z"
   },
   {
    "duration": 4,
    "start_time": "2025-03-23T10:59:18.983Z"
   },
   {
    "duration": 13,
    "start_time": "2025-03-23T10:59:18.988Z"
   },
   {
    "duration": 3,
    "start_time": "2025-03-23T10:59:19.003Z"
   },
   {
    "duration": 5,
    "start_time": "2025-03-23T10:59:19.008Z"
   },
   {
    "duration": 144,
    "start_time": "2025-03-23T10:59:19.015Z"
   },
   {
    "duration": 0,
    "start_time": "2025-03-23T10:59:19.160Z"
   },
   {
    "duration": 0,
    "start_time": "2025-03-23T10:59:19.162Z"
   },
   {
    "duration": 4,
    "start_time": "2025-03-23T11:00:12.198Z"
   },
   {
    "duration": 3143,
    "start_time": "2025-03-23T11:01:29.021Z"
   },
   {
    "duration": 3760,
    "start_time": "2025-03-23T11:01:32.167Z"
   },
   {
    "duration": 11,
    "start_time": "2025-03-23T11:01:35.928Z"
   },
   {
    "duration": 17,
    "start_time": "2025-03-23T11:01:35.941Z"
   },
   {
    "duration": 87,
    "start_time": "2025-03-23T11:01:35.959Z"
   },
   {
    "duration": 461,
    "start_time": "2025-03-23T11:01:36.048Z"
   },
   {
    "duration": 60,
    "start_time": "2025-03-23T11:01:36.511Z"
   },
   {
    "duration": 28,
    "start_time": "2025-03-23T11:01:36.572Z"
   },
   {
    "duration": 26,
    "start_time": "2025-03-23T11:01:36.601Z"
   },
   {
    "duration": 64,
    "start_time": "2025-03-23T11:01:36.629Z"
   },
   {
    "duration": 22,
    "start_time": "2025-03-23T11:01:36.694Z"
   },
   {
    "duration": 18,
    "start_time": "2025-03-23T11:01:36.718Z"
   },
   {
    "duration": 67,
    "start_time": "2025-03-23T11:01:36.737Z"
   },
   {
    "duration": 23,
    "start_time": "2025-03-23T11:01:36.806Z"
   },
   {
    "duration": 40,
    "start_time": "2025-03-23T11:01:36.831Z"
   },
   {
    "duration": 1096,
    "start_time": "2025-03-23T11:01:36.873Z"
   },
   {
    "duration": 1155,
    "start_time": "2025-03-23T11:01:37.971Z"
   },
   {
    "duration": 1175,
    "start_time": "2025-03-23T11:01:39.128Z"
   },
   {
    "duration": 779,
    "start_time": "2025-03-23T11:01:40.305Z"
   },
   {
    "duration": 648,
    "start_time": "2025-03-23T11:01:41.085Z"
   },
   {
    "duration": 605,
    "start_time": "2025-03-23T11:01:41.735Z"
   },
   {
    "duration": 4,
    "start_time": "2025-03-23T11:01:42.342Z"
   },
   {
    "duration": 3,
    "start_time": "2025-03-23T11:01:42.358Z"
   },
   {
    "duration": 498,
    "start_time": "2025-03-23T11:01:42.362Z"
   },
   {
    "duration": 103,
    "start_time": "2025-03-23T11:01:42.863Z"
   },
   {
    "duration": 3,
    "start_time": "2025-03-23T11:01:42.967Z"
   },
   {
    "duration": 3,
    "start_time": "2025-03-23T11:01:42.971Z"
   },
   {
    "duration": 2,
    "start_time": "2025-03-23T11:01:42.977Z"
   },
   {
    "duration": 15,
    "start_time": "2025-03-23T11:01:42.981Z"
   },
   {
    "duration": 3,
    "start_time": "2025-03-23T11:01:42.998Z"
   },
   {
    "duration": 8,
    "start_time": "2025-03-23T11:01:43.002Z"
   },
   {
    "duration": 7258,
    "start_time": "2025-03-23T11:01:43.011Z"
   },
   {
    "duration": 11,
    "start_time": "2025-03-23T11:01:50.270Z"
   },
   {
    "duration": 952,
    "start_time": "2025-03-23T11:01:50.283Z"
   },
   {
    "duration": 6,
    "start_time": "2025-03-23T11:02:24.409Z"
   },
   {
    "duration": 6,
    "start_time": "2025-03-23T11:03:13.391Z"
   },
   {
    "duration": 3105,
    "start_time": "2025-03-23T11:04:13.941Z"
   },
   {
    "duration": 3943,
    "start_time": "2025-03-23T11:04:17.049Z"
   },
   {
    "duration": 12,
    "start_time": "2025-03-23T11:04:20.995Z"
   },
   {
    "duration": 11,
    "start_time": "2025-03-23T11:04:21.010Z"
   },
   {
    "duration": 7,
    "start_time": "2025-03-23T11:04:21.023Z"
   },
   {
    "duration": 473,
    "start_time": "2025-03-23T11:04:21.031Z"
   },
   {
    "duration": 77,
    "start_time": "2025-03-23T11:04:21.505Z"
   },
   {
    "duration": 36,
    "start_time": "2025-03-23T11:04:21.584Z"
   },
   {
    "duration": 37,
    "start_time": "2025-03-23T11:04:21.622Z"
   },
   {
    "duration": 46,
    "start_time": "2025-03-23T11:04:21.661Z"
   },
   {
    "duration": 24,
    "start_time": "2025-03-23T11:04:21.708Z"
   },
   {
    "duration": 46,
    "start_time": "2025-03-23T11:04:21.734Z"
   },
   {
    "duration": 113,
    "start_time": "2025-03-23T11:04:21.782Z"
   },
   {
    "duration": 24,
    "start_time": "2025-03-23T11:04:21.897Z"
   },
   {
    "duration": 17,
    "start_time": "2025-03-23T11:04:21.922Z"
   },
   {
    "duration": 1150,
    "start_time": "2025-03-23T11:04:21.941Z"
   },
   {
    "duration": 1174,
    "start_time": "2025-03-23T11:04:23.093Z"
   },
   {
    "duration": 1214,
    "start_time": "2025-03-23T11:04:24.269Z"
   },
   {
    "duration": 799,
    "start_time": "2025-03-23T11:04:25.484Z"
   },
   {
    "duration": 642,
    "start_time": "2025-03-23T11:04:26.285Z"
   },
   {
    "duration": 608,
    "start_time": "2025-03-23T11:04:26.929Z"
   },
   {
    "duration": 4,
    "start_time": "2025-03-23T11:04:27.539Z"
   },
   {
    "duration": 15,
    "start_time": "2025-03-23T11:04:27.544Z"
   },
   {
    "duration": 506,
    "start_time": "2025-03-23T11:04:27.561Z"
   },
   {
    "duration": 96,
    "start_time": "2025-03-23T11:04:28.069Z"
   },
   {
    "duration": 19,
    "start_time": "2025-03-23T11:04:28.167Z"
   },
   {
    "duration": 3,
    "start_time": "2025-03-23T11:04:28.187Z"
   },
   {
    "duration": 2,
    "start_time": "2025-03-23T11:04:28.193Z"
   },
   {
    "duration": 62,
    "start_time": "2025-03-23T11:04:28.197Z"
   },
   {
    "duration": 3,
    "start_time": "2025-03-23T11:04:28.261Z"
   },
   {
    "duration": 104,
    "start_time": "2025-03-23T11:04:28.265Z"
   },
   {
    "duration": 9,
    "start_time": "2025-03-23T11:04:28.371Z"
   },
   {
    "duration": 7738,
    "start_time": "2025-03-23T11:04:28.382Z"
   },
   {
    "duration": 11,
    "start_time": "2025-03-23T11:04:36.121Z"
   },
   {
    "duration": 901,
    "start_time": "2025-03-23T11:04:36.134Z"
   },
   {
    "duration": 2985,
    "start_time": "2025-03-23T11:14:26.022Z"
   },
   {
    "duration": 3696,
    "start_time": "2025-03-23T11:14:29.009Z"
   },
   {
    "duration": 10,
    "start_time": "2025-03-23T11:14:32.706Z"
   },
   {
    "duration": 21,
    "start_time": "2025-03-23T11:14:32.718Z"
   },
   {
    "duration": 7,
    "start_time": "2025-03-23T11:14:32.741Z"
   },
   {
    "duration": 463,
    "start_time": "2025-03-23T11:14:32.750Z"
   },
   {
    "duration": 60,
    "start_time": "2025-03-23T11:14:33.215Z"
   },
   {
    "duration": 24,
    "start_time": "2025-03-23T11:14:33.277Z"
   },
   {
    "duration": 56,
    "start_time": "2025-03-23T11:14:33.303Z"
   },
   {
    "duration": 132,
    "start_time": "2025-03-23T11:14:33.362Z"
   },
   {
    "duration": 24,
    "start_time": "2025-03-23T11:14:33.496Z"
   },
   {
    "duration": 29,
    "start_time": "2025-03-23T11:14:33.522Z"
   },
   {
    "duration": 56,
    "start_time": "2025-03-23T11:14:33.552Z"
   },
   {
    "duration": 26,
    "start_time": "2025-03-23T11:14:33.609Z"
   },
   {
    "duration": 38,
    "start_time": "2025-03-23T11:14:33.636Z"
   },
   {
    "duration": 1103,
    "start_time": "2025-03-23T11:14:33.676Z"
   },
   {
    "duration": 1156,
    "start_time": "2025-03-23T11:14:34.781Z"
   },
   {
    "duration": 1190,
    "start_time": "2025-03-23T11:14:35.939Z"
   },
   {
    "duration": 753,
    "start_time": "2025-03-23T11:14:37.130Z"
   },
   {
    "duration": 621,
    "start_time": "2025-03-23T11:14:37.885Z"
   },
   {
    "duration": 611,
    "start_time": "2025-03-23T11:14:38.508Z"
   },
   {
    "duration": 3,
    "start_time": "2025-03-23T11:14:39.121Z"
   },
   {
    "duration": 4,
    "start_time": "2025-03-23T11:14:39.126Z"
   },
   {
    "duration": 531,
    "start_time": "2025-03-23T11:14:39.131Z"
   },
   {
    "duration": 101,
    "start_time": "2025-03-23T11:14:39.665Z"
   },
   {
    "duration": 100,
    "start_time": "2025-03-23T11:14:39.768Z"
   },
   {
    "duration": 89,
    "start_time": "2025-03-23T11:14:39.870Z"
   },
   {
    "duration": 93,
    "start_time": "2025-03-23T11:14:39.964Z"
   },
   {
    "duration": 35,
    "start_time": "2025-03-23T11:14:40.059Z"
   },
   {
    "duration": 3,
    "start_time": "2025-03-23T11:14:40.096Z"
   },
   {
    "duration": 12579,
    "start_time": "2025-03-23T11:14:40.101Z"
   },
   {
    "duration": 12,
    "start_time": "2025-03-23T11:14:52.681Z"
   },
   {
    "duration": 952,
    "start_time": "2025-03-23T11:14:52.695Z"
   },
   {
    "duration": 94,
    "start_time": "2025-03-23T11:34:29.259Z"
   },
   {
    "duration": 3143,
    "start_time": "2025-03-23T11:41:41.635Z"
   },
   {
    "duration": 3826,
    "start_time": "2025-03-23T11:41:44.781Z"
   },
   {
    "duration": 11,
    "start_time": "2025-03-23T11:41:48.609Z"
   },
   {
    "duration": 19,
    "start_time": "2025-03-23T11:41:48.622Z"
   },
   {
    "duration": 5,
    "start_time": "2025-03-23T11:41:48.643Z"
   },
   {
    "duration": 499,
    "start_time": "2025-03-23T11:41:48.649Z"
   },
   {
    "duration": 62,
    "start_time": "2025-03-23T11:41:49.149Z"
   },
   {
    "duration": 29,
    "start_time": "2025-03-23T11:41:49.213Z"
   },
   {
    "duration": 21,
    "start_time": "2025-03-23T11:41:49.257Z"
   },
   {
    "duration": 48,
    "start_time": "2025-03-23T11:41:49.281Z"
   },
   {
    "duration": 46,
    "start_time": "2025-03-23T11:41:49.331Z"
   },
   {
    "duration": 120,
    "start_time": "2025-03-23T11:41:49.379Z"
   },
   {
    "duration": 58,
    "start_time": "2025-03-23T11:41:49.500Z"
   },
   {
    "duration": 24,
    "start_time": "2025-03-23T11:41:49.559Z"
   },
   {
    "duration": 18,
    "start_time": "2025-03-23T11:41:49.585Z"
   },
   {
    "duration": 1104,
    "start_time": "2025-03-23T11:41:49.604Z"
   },
   {
    "duration": 1143,
    "start_time": "2025-03-23T11:41:50.709Z"
   },
   {
    "duration": 1164,
    "start_time": "2025-03-23T11:41:51.858Z"
   },
   {
    "duration": 759,
    "start_time": "2025-03-23T11:41:53.024Z"
   },
   {
    "duration": 635,
    "start_time": "2025-03-23T11:41:53.784Z"
   },
   {
    "duration": 620,
    "start_time": "2025-03-23T11:41:54.420Z"
   },
   {
    "duration": 4,
    "start_time": "2025-03-23T11:41:55.041Z"
   },
   {
    "duration": 16,
    "start_time": "2025-03-23T11:41:55.046Z"
   },
   {
    "duration": 595,
    "start_time": "2025-03-23T11:41:55.063Z"
   },
   {
    "duration": 103,
    "start_time": "2025-03-23T11:41:55.661Z"
   },
   {
    "duration": 93,
    "start_time": "2025-03-23T11:41:55.766Z"
   },
   {
    "duration": 5,
    "start_time": "2025-03-23T11:41:55.861Z"
   },
   {
    "duration": 94,
    "start_time": "2025-03-23T11:41:55.870Z"
   },
   {
    "duration": 106,
    "start_time": "2025-03-23T11:41:55.967Z"
   },
   {
    "duration": 66,
    "start_time": "2025-03-23T11:41:56.074Z"
   },
   {
    "duration": 12986,
    "start_time": "2025-03-23T11:41:56.142Z"
   },
   {
    "duration": 12,
    "start_time": "2025-03-23T11:42:09.130Z"
   },
   {
    "duration": 906,
    "start_time": "2025-03-23T11:42:09.144Z"
   },
   {
    "duration": 2984,
    "start_time": "2025-03-23T12:08:39.295Z"
   },
   {
    "duration": 3710,
    "start_time": "2025-03-23T12:08:42.281Z"
   },
   {
    "duration": 10,
    "start_time": "2025-03-23T12:08:45.993Z"
   },
   {
    "duration": 8,
    "start_time": "2025-03-23T12:08:46.006Z"
   },
   {
    "duration": 6,
    "start_time": "2025-03-23T12:08:46.015Z"
   },
   {
    "duration": 467,
    "start_time": "2025-03-23T12:08:46.022Z"
   },
   {
    "duration": 54,
    "start_time": "2025-03-23T12:08:46.490Z"
   },
   {
    "duration": 26,
    "start_time": "2025-03-23T12:08:46.557Z"
   },
   {
    "duration": 24,
    "start_time": "2025-03-23T12:08:46.584Z"
   },
   {
    "duration": 105,
    "start_time": "2025-03-23T12:08:46.611Z"
   },
   {
    "duration": 23,
    "start_time": "2025-03-23T12:08:46.717Z"
   },
   {
    "duration": 17,
    "start_time": "2025-03-23T12:08:46.742Z"
   },
   {
    "duration": 49,
    "start_time": "2025-03-23T12:08:46.760Z"
   },
   {
    "duration": 23,
    "start_time": "2025-03-23T12:08:46.810Z"
   },
   {
    "duration": 17,
    "start_time": "2025-03-23T12:08:46.859Z"
   },
   {
    "duration": 1087,
    "start_time": "2025-03-23T12:08:46.878Z"
   },
   {
    "duration": 1121,
    "start_time": "2025-03-23T12:08:47.967Z"
   },
   {
    "duration": 1145,
    "start_time": "2025-03-23T12:08:49.089Z"
   },
   {
    "duration": 747,
    "start_time": "2025-03-23T12:08:50.236Z"
   },
   {
    "duration": 681,
    "start_time": "2025-03-23T12:08:50.984Z"
   },
   {
    "duration": 574,
    "start_time": "2025-03-23T12:08:51.667Z"
   },
   {
    "duration": 15,
    "start_time": "2025-03-23T12:08:52.243Z"
   },
   {
    "duration": 27,
    "start_time": "2025-03-23T12:08:52.260Z"
   },
   {
    "duration": 872,
    "start_time": "2025-03-23T12:08:52.288Z"
   },
   {
    "duration": 102,
    "start_time": "2025-03-23T12:08:53.162Z"
   },
   {
    "duration": 92,
    "start_time": "2025-03-23T12:08:53.267Z"
   },
   {
    "duration": 4,
    "start_time": "2025-03-23T12:08:53.360Z"
   },
   {
    "duration": 3,
    "start_time": "2025-03-23T12:08:53.367Z"
   },
   {
    "duration": 13,
    "start_time": "2025-03-23T12:08:53.371Z"
   },
   {
    "duration": 2,
    "start_time": "2025-03-23T12:08:53.386Z"
   },
   {
    "duration": 6221,
    "start_time": "2025-03-23T12:08:53.390Z"
   },
   {
    "duration": 11,
    "start_time": "2025-03-23T12:08:59.612Z"
   },
   {
    "duration": 909,
    "start_time": "2025-03-23T12:08:59.624Z"
   },
   {
    "duration": 8,
    "start_time": "2025-03-23T12:09:26.609Z"
   },
   {
    "duration": 7,
    "start_time": "2025-03-23T12:09:47.489Z"
   },
   {
    "duration": 3165,
    "start_time": "2025-03-23T12:12:06.479Z"
   },
   {
    "duration": 3767,
    "start_time": "2025-03-23T12:12:09.646Z"
   },
   {
    "duration": 11,
    "start_time": "2025-03-23T12:12:13.415Z"
   },
   {
    "duration": 12,
    "start_time": "2025-03-23T12:12:13.428Z"
   },
   {
    "duration": 33,
    "start_time": "2025-03-23T12:12:13.441Z"
   },
   {
    "duration": 565,
    "start_time": "2025-03-23T12:12:13.475Z"
   },
   {
    "duration": 58,
    "start_time": "2025-03-23T12:12:14.041Z"
   },
   {
    "duration": 24,
    "start_time": "2025-03-23T12:12:14.101Z"
   },
   {
    "duration": 32,
    "start_time": "2025-03-23T12:12:14.127Z"
   },
   {
    "duration": 48,
    "start_time": "2025-03-23T12:12:14.161Z"
   },
   {
    "duration": 50,
    "start_time": "2025-03-23T12:12:14.210Z"
   },
   {
    "duration": 17,
    "start_time": "2025-03-23T12:12:14.262Z"
   },
   {
    "duration": 113,
    "start_time": "2025-03-23T12:12:14.280Z"
   },
   {
    "duration": 24,
    "start_time": "2025-03-23T12:12:14.395Z"
   },
   {
    "duration": 18,
    "start_time": "2025-03-23T12:12:14.420Z"
   },
   {
    "duration": 1100,
    "start_time": "2025-03-23T12:12:14.457Z"
   },
   {
    "duration": 1151,
    "start_time": "2025-03-23T12:12:15.559Z"
   },
   {
    "duration": 1153,
    "start_time": "2025-03-23T12:12:16.712Z"
   },
   {
    "duration": 753,
    "start_time": "2025-03-23T12:12:17.867Z"
   },
   {
    "duration": 606,
    "start_time": "2025-03-23T12:12:18.622Z"
   },
   {
    "duration": 600,
    "start_time": "2025-03-23T12:12:19.230Z"
   },
   {
    "duration": 4,
    "start_time": "2025-03-23T12:12:19.832Z"
   },
   {
    "duration": 4,
    "start_time": "2025-03-23T12:12:19.837Z"
   },
   {
    "duration": 1878,
    "start_time": "2025-03-23T12:12:19.857Z"
   },
   {
    "duration": 0,
    "start_time": "2025-03-23T12:12:21.737Z"
   },
   {
    "duration": 0,
    "start_time": "2025-03-23T12:12:21.738Z"
   },
   {
    "duration": 0,
    "start_time": "2025-03-23T12:12:21.740Z"
   },
   {
    "duration": 0,
    "start_time": "2025-03-23T12:12:21.741Z"
   },
   {
    "duration": 0,
    "start_time": "2025-03-23T12:12:21.742Z"
   },
   {
    "duration": 0,
    "start_time": "2025-03-23T12:12:21.743Z"
   },
   {
    "duration": 0,
    "start_time": "2025-03-23T12:12:21.745Z"
   },
   {
    "duration": 0,
    "start_time": "2025-03-23T12:12:21.746Z"
   },
   {
    "duration": 0,
    "start_time": "2025-03-23T12:12:21.748Z"
   },
   {
    "duration": 0,
    "start_time": "2025-03-23T12:12:21.749Z"
   },
   {
    "duration": 0,
    "start_time": "2025-03-23T12:12:21.751Z"
   },
   {
    "duration": 2956,
    "start_time": "2025-03-23T12:13:09.593Z"
   },
   {
    "duration": 3724,
    "start_time": "2025-03-23T12:13:12.552Z"
   },
   {
    "duration": 10,
    "start_time": "2025-03-23T12:13:16.279Z"
   },
   {
    "duration": 64,
    "start_time": "2025-03-23T12:13:16.291Z"
   },
   {
    "duration": 4,
    "start_time": "2025-03-23T12:13:16.356Z"
   },
   {
    "duration": 460,
    "start_time": "2025-03-23T12:13:16.361Z"
   },
   {
    "duration": 63,
    "start_time": "2025-03-23T12:13:16.823Z"
   },
   {
    "duration": 24,
    "start_time": "2025-03-23T12:13:16.887Z"
   },
   {
    "duration": 19,
    "start_time": "2025-03-23T12:13:16.913Z"
   },
   {
    "duration": 65,
    "start_time": "2025-03-23T12:13:16.935Z"
   },
   {
    "duration": 22,
    "start_time": "2025-03-23T12:13:17.002Z"
   },
   {
    "duration": 16,
    "start_time": "2025-03-23T12:13:17.025Z"
   },
   {
    "duration": 48,
    "start_time": "2025-03-23T12:13:17.057Z"
   },
   {
    "duration": 22,
    "start_time": "2025-03-23T12:13:17.107Z"
   },
   {
    "duration": 39,
    "start_time": "2025-03-23T12:13:17.130Z"
   },
   {
    "duration": 1071,
    "start_time": "2025-03-23T12:13:17.171Z"
   },
   {
    "duration": 1131,
    "start_time": "2025-03-23T12:13:18.244Z"
   },
   {
    "duration": 1147,
    "start_time": "2025-03-23T12:13:19.377Z"
   },
   {
    "duration": 757,
    "start_time": "2025-03-23T12:13:20.525Z"
   },
   {
    "duration": 634,
    "start_time": "2025-03-23T12:13:21.284Z"
   },
   {
    "duration": 605,
    "start_time": "2025-03-23T12:13:21.920Z"
   },
   {
    "duration": 4,
    "start_time": "2025-03-23T12:13:22.527Z"
   },
   {
    "duration": 30,
    "start_time": "2025-03-23T12:13:22.532Z"
   },
   {
    "duration": 801,
    "start_time": "2025-03-23T12:13:22.563Z"
   },
   {
    "duration": 192,
    "start_time": "2025-03-23T12:13:23.367Z"
   },
   {
    "duration": 25,
    "start_time": "2025-03-23T12:13:23.561Z"
   },
   {
    "duration": 3,
    "start_time": "2025-03-23T12:13:23.587Z"
   },
   {
    "duration": 3,
    "start_time": "2025-03-23T12:13:23.593Z"
   },
   {
    "duration": 16,
    "start_time": "2025-03-23T12:13:23.597Z"
   },
   {
    "duration": 3,
    "start_time": "2025-03-23T12:13:23.615Z"
   },
   {
    "duration": 9,
    "start_time": "2025-03-23T12:13:23.619Z"
   },
   {
    "duration": 8,
    "start_time": "2025-03-23T12:13:23.629Z"
   },
   {
    "duration": 12181,
    "start_time": "2025-03-23T12:13:23.657Z"
   },
   {
    "duration": 20,
    "start_time": "2025-03-23T12:13:35.840Z"
   },
   {
    "duration": 871,
    "start_time": "2025-03-23T12:13:35.862Z"
   },
   {
    "duration": 3053,
    "start_time": "2025-03-23T12:16:23.209Z"
   },
   {
    "duration": 3817,
    "start_time": "2025-03-23T12:16:26.264Z"
   },
   {
    "duration": 10,
    "start_time": "2025-03-23T12:16:30.083Z"
   },
   {
    "duration": 13,
    "start_time": "2025-03-23T12:16:30.096Z"
   },
   {
    "duration": 26,
    "start_time": "2025-03-23T12:16:30.110Z"
   },
   {
    "duration": 489,
    "start_time": "2025-03-23T12:16:30.138Z"
   },
   {
    "duration": 62,
    "start_time": "2025-03-23T12:16:30.628Z"
   },
   {
    "duration": 23,
    "start_time": "2025-03-23T12:16:30.692Z"
   },
   {
    "duration": 45,
    "start_time": "2025-03-23T12:16:30.717Z"
   },
   {
    "duration": 49,
    "start_time": "2025-03-23T12:16:30.765Z"
   },
   {
    "duration": 25,
    "start_time": "2025-03-23T12:16:30.815Z"
   },
   {
    "duration": 18,
    "start_time": "2025-03-23T12:16:30.858Z"
   },
   {
    "duration": 50,
    "start_time": "2025-03-23T12:16:30.877Z"
   },
   {
    "duration": 43,
    "start_time": "2025-03-23T12:16:30.928Z"
   },
   {
    "duration": 17,
    "start_time": "2025-03-23T12:16:30.972Z"
   },
   {
    "duration": 1149,
    "start_time": "2025-03-23T12:16:30.991Z"
   },
   {
    "duration": 1191,
    "start_time": "2025-03-23T12:16:32.141Z"
   },
   {
    "duration": 1197,
    "start_time": "2025-03-23T12:16:33.334Z"
   },
   {
    "duration": 799,
    "start_time": "2025-03-23T12:16:34.532Z"
   },
   {
    "duration": 598,
    "start_time": "2025-03-23T12:16:35.332Z"
   },
   {
    "duration": 598,
    "start_time": "2025-03-23T12:16:35.931Z"
   },
   {
    "duration": 4,
    "start_time": "2025-03-23T12:16:36.530Z"
   },
   {
    "duration": 13,
    "start_time": "2025-03-23T12:16:36.536Z"
   },
   {
    "duration": 817,
    "start_time": "2025-03-23T12:16:36.550Z"
   },
   {
    "duration": 103,
    "start_time": "2025-03-23T12:16:37.459Z"
   },
   {
    "duration": 26,
    "start_time": "2025-03-23T12:16:37.564Z"
   },
   {
    "duration": 14,
    "start_time": "2025-03-23T12:16:37.592Z"
   },
   {
    "duration": 3,
    "start_time": "2025-03-23T12:16:37.610Z"
   },
   {
    "duration": 12187,
    "start_time": "2025-03-23T12:16:37.614Z"
   },
   {
    "duration": 11,
    "start_time": "2025-03-23T12:16:49.802Z"
   },
   {
    "duration": 924,
    "start_time": "2025-03-23T12:16:49.815Z"
   },
   {
    "duration": 3053,
    "start_time": "2025-03-23T12:21:02.113Z"
   },
   {
    "duration": 3718,
    "start_time": "2025-03-23T12:21:05.170Z"
   },
   {
    "duration": 11,
    "start_time": "2025-03-23T12:21:08.890Z"
   },
   {
    "duration": 9,
    "start_time": "2025-03-23T12:21:08.903Z"
   },
   {
    "duration": 4,
    "start_time": "2025-03-23T12:21:08.915Z"
   },
   {
    "duration": 463,
    "start_time": "2025-03-23T12:21:08.921Z"
   },
   {
    "duration": 55,
    "start_time": "2025-03-23T12:21:09.386Z"
   },
   {
    "duration": 25,
    "start_time": "2025-03-23T12:21:09.457Z"
   },
   {
    "duration": 33,
    "start_time": "2025-03-23T12:21:09.484Z"
   },
   {
    "duration": 140,
    "start_time": "2025-03-23T12:21:09.519Z"
   },
   {
    "duration": 24,
    "start_time": "2025-03-23T12:21:09.660Z"
   },
   {
    "duration": 16,
    "start_time": "2025-03-23T12:21:09.685Z"
   },
   {
    "duration": 65,
    "start_time": "2025-03-23T12:21:09.702Z"
   },
   {
    "duration": 23,
    "start_time": "2025-03-23T12:21:09.770Z"
   },
   {
    "duration": 17,
    "start_time": "2025-03-23T12:21:09.794Z"
   },
   {
    "duration": 1116,
    "start_time": "2025-03-23T12:21:09.812Z"
   },
   {
    "duration": 1153,
    "start_time": "2025-03-23T12:21:10.931Z"
   },
   {
    "duration": 1155,
    "start_time": "2025-03-23T12:21:12.086Z"
   },
   {
    "duration": 737,
    "start_time": "2025-03-23T12:21:13.242Z"
   },
   {
    "duration": 618,
    "start_time": "2025-03-23T12:21:13.981Z"
   },
   {
    "duration": 631,
    "start_time": "2025-03-23T12:21:14.601Z"
   },
   {
    "duration": 3,
    "start_time": "2025-03-23T12:21:15.233Z"
   },
   {
    "duration": 11,
    "start_time": "2025-03-23T12:21:15.238Z"
   },
   {
    "duration": 712,
    "start_time": "2025-03-23T12:21:15.250Z"
   },
   {
    "duration": 194,
    "start_time": "2025-03-23T12:21:15.965Z"
   },
   {
    "duration": 3,
    "start_time": "2025-03-23T12:21:16.161Z"
   },
   {
    "duration": 14,
    "start_time": "2025-03-23T12:21:16.165Z"
   },
   {
    "duration": 2,
    "start_time": "2025-03-23T12:21:16.182Z"
   },
   {
    "duration": 12374,
    "start_time": "2025-03-23T12:21:16.186Z"
   },
   {
    "duration": 10,
    "start_time": "2025-03-23T12:21:28.563Z"
   },
   {
    "duration": 953,
    "start_time": "2025-03-23T12:21:28.574Z"
   },
   {
    "duration": 6727,
    "start_time": "2025-03-24T08:49:56.903Z"
   },
   {
    "duration": 4534,
    "start_time": "2025-03-24T08:50:03.632Z"
   },
   {
    "duration": 11,
    "start_time": "2025-03-24T08:50:08.167Z"
   },
   {
    "duration": 13,
    "start_time": "2025-03-24T08:50:08.181Z"
   },
   {
    "duration": 6,
    "start_time": "2025-03-24T08:50:08.196Z"
   },
   {
    "duration": 452,
    "start_time": "2025-03-24T08:50:08.204Z"
   },
   {
    "duration": 53,
    "start_time": "2025-03-24T08:50:08.658Z"
   },
   {
    "duration": 35,
    "start_time": "2025-03-24T08:50:08.713Z"
   },
   {
    "duration": 86,
    "start_time": "2025-03-24T08:50:08.749Z"
   },
   {
    "duration": 43,
    "start_time": "2025-03-24T08:50:08.838Z"
   },
   {
    "duration": 23,
    "start_time": "2025-03-24T08:50:08.883Z"
   },
   {
    "duration": 34,
    "start_time": "2025-03-24T08:50:08.908Z"
   },
   {
    "duration": 47,
    "start_time": "2025-03-24T08:50:08.944Z"
   },
   {
    "duration": 43,
    "start_time": "2025-03-24T08:50:08.993Z"
   },
   {
    "duration": 16,
    "start_time": "2025-03-24T08:50:09.038Z"
   },
   {
    "duration": 1054,
    "start_time": "2025-03-24T08:50:09.056Z"
   },
   {
    "duration": 1086,
    "start_time": "2025-03-24T08:50:10.111Z"
   },
   {
    "duration": 1080,
    "start_time": "2025-03-24T08:50:11.198Z"
   },
   {
    "duration": 761,
    "start_time": "2025-03-24T08:50:12.280Z"
   },
   {
    "duration": 560,
    "start_time": "2025-03-24T08:50:13.043Z"
   },
   {
    "duration": 598,
    "start_time": "2025-03-24T08:50:13.605Z"
   },
   {
    "duration": 4,
    "start_time": "2025-03-24T08:50:14.204Z"
   },
   {
    "duration": 4,
    "start_time": "2025-03-24T08:50:14.209Z"
   },
   {
    "duration": 826,
    "start_time": "2025-03-24T08:50:14.214Z"
   },
   {
    "duration": 104,
    "start_time": "2025-03-24T08:50:15.042Z"
   },
   {
    "duration": 85,
    "start_time": "2025-03-24T08:50:15.237Z"
   },
   {
    "duration": 64,
    "start_time": "2025-03-24T08:50:15.324Z"
   },
   {
    "duration": 3,
    "start_time": "2025-03-24T08:50:15.391Z"
   },
   {
    "duration": 11422,
    "start_time": "2025-03-24T08:50:15.396Z"
   },
   {
    "duration": 16,
    "start_time": "2025-03-24T08:50:26.820Z"
   },
   {
    "duration": 871,
    "start_time": "2025-03-24T08:50:26.838Z"
   },
   {
    "duration": 10,
    "start_time": "2025-03-24T08:51:25.086Z"
   },
   {
    "duration": 11,
    "start_time": "2025-03-24T08:51:36.172Z"
   },
   {
    "duration": 6,
    "start_time": "2025-03-24T08:51:48.524Z"
   },
   {
    "duration": 4,
    "start_time": "2025-03-24T08:52:24.020Z"
   },
   {
    "duration": 556,
    "start_time": "2025-03-24T08:53:20.482Z"
   },
   {
    "duration": 14,
    "start_time": "2025-03-24T08:53:27.210Z"
   },
   {
    "duration": 11,
    "start_time": "2025-03-24T08:53:39.011Z"
   },
   {
    "duration": 2947,
    "start_time": "2025-03-24T08:54:14.920Z"
   },
   {
    "duration": 3611,
    "start_time": "2025-03-24T08:54:17.870Z"
   },
   {
    "duration": 11,
    "start_time": "2025-03-24T08:54:21.482Z"
   },
   {
    "duration": 19,
    "start_time": "2025-03-24T08:54:21.494Z"
   },
   {
    "duration": 5,
    "start_time": "2025-03-24T08:54:21.515Z"
   },
   {
    "duration": 453,
    "start_time": "2025-03-24T08:54:21.521Z"
   },
   {
    "duration": 51,
    "start_time": "2025-03-24T08:54:21.976Z"
   },
   {
    "duration": 24,
    "start_time": "2025-03-24T08:54:22.035Z"
   },
   {
    "duration": 19,
    "start_time": "2025-03-24T08:54:22.061Z"
   },
   {
    "duration": 67,
    "start_time": "2025-03-24T08:54:22.081Z"
   },
   {
    "duration": 25,
    "start_time": "2025-03-24T08:54:22.149Z"
   },
   {
    "duration": 18,
    "start_time": "2025-03-24T08:54:22.176Z"
   },
   {
    "duration": 69,
    "start_time": "2025-03-24T08:54:22.195Z"
   },
   {
    "duration": 23,
    "start_time": "2025-03-24T08:54:22.267Z"
   },
   {
    "duration": 17,
    "start_time": "2025-03-24T08:54:22.292Z"
   },
   {
    "duration": 1054,
    "start_time": "2025-03-24T08:54:22.310Z"
   },
   {
    "duration": 1086,
    "start_time": "2025-03-24T08:54:23.366Z"
   },
   {
    "duration": 1123,
    "start_time": "2025-03-24T08:54:24.453Z"
   },
   {
    "duration": 773,
    "start_time": "2025-03-24T08:54:25.578Z"
   },
   {
    "duration": 668,
    "start_time": "2025-03-24T08:54:26.353Z"
   },
   {
    "duration": 590,
    "start_time": "2025-03-24T08:54:27.022Z"
   },
   {
    "duration": 4,
    "start_time": "2025-03-24T08:54:27.613Z"
   },
   {
    "duration": 5,
    "start_time": "2025-03-24T08:54:27.618Z"
   },
   {
    "duration": 702,
    "start_time": "2025-03-24T08:54:27.635Z"
   },
   {
    "duration": 97,
    "start_time": "2025-03-24T08:54:28.340Z"
   },
   {
    "duration": 4,
    "start_time": "2025-03-24T08:54:28.439Z"
   },
   {
    "duration": 13,
    "start_time": "2025-03-24T08:54:28.445Z"
   },
   {
    "duration": 4,
    "start_time": "2025-03-24T08:54:28.460Z"
   },
   {
    "duration": 7204,
    "start_time": "2025-03-24T08:54:28.466Z"
   },
   {
    "duration": 11,
    "start_time": "2025-03-24T08:54:35.672Z"
   },
   {
    "duration": 1030,
    "start_time": "2025-03-24T08:54:35.685Z"
   },
   {
    "duration": 2931,
    "start_time": "2025-03-24T09:09:41.987Z"
   },
   {
    "duration": 3690,
    "start_time": "2025-03-24T09:09:44.921Z"
   },
   {
    "duration": 11,
    "start_time": "2025-03-24T09:09:48.612Z"
   },
   {
    "duration": 9,
    "start_time": "2025-03-24T09:09:48.634Z"
   },
   {
    "duration": 9,
    "start_time": "2025-03-24T09:09:48.645Z"
   },
   {
    "duration": 456,
    "start_time": "2025-03-24T09:09:48.656Z"
   },
   {
    "duration": 58,
    "start_time": "2025-03-24T09:09:49.114Z"
   },
   {
    "duration": 25,
    "start_time": "2025-03-24T09:09:49.173Z"
   },
   {
    "duration": 19,
    "start_time": "2025-03-24T09:09:49.199Z"
   },
   {
    "duration": 46,
    "start_time": "2025-03-24T09:09:49.236Z"
   },
   {
    "duration": 22,
    "start_time": "2025-03-24T09:09:49.284Z"
   },
   {
    "duration": 129,
    "start_time": "2025-03-24T09:09:49.307Z"
   },
   {
    "duration": 57,
    "start_time": "2025-03-24T09:09:49.438Z"
   },
   {
    "duration": 21,
    "start_time": "2025-03-24T09:09:49.498Z"
   },
   {
    "duration": 20,
    "start_time": "2025-03-24T09:09:49.520Z"
   },
   {
    "duration": 1032,
    "start_time": "2025-03-24T09:09:49.542Z"
   },
   {
    "duration": 1075,
    "start_time": "2025-03-24T09:09:50.576Z"
   },
   {
    "duration": 1093,
    "start_time": "2025-03-24T09:09:51.653Z"
   },
   {
    "duration": 775,
    "start_time": "2025-03-24T09:09:52.748Z"
   },
   {
    "duration": 592,
    "start_time": "2025-03-24T09:09:53.525Z"
   },
   {
    "duration": 586,
    "start_time": "2025-03-24T09:09:54.118Z"
   },
   {
    "duration": 4,
    "start_time": "2025-03-24T09:09:54.705Z"
   },
   {
    "duration": 4,
    "start_time": "2025-03-24T09:09:54.710Z"
   },
   {
    "duration": 621,
    "start_time": "2025-03-24T09:09:54.715Z"
   },
   {
    "duration": 103,
    "start_time": "2025-03-24T09:09:55.338Z"
   },
   {
    "duration": 3,
    "start_time": "2025-03-24T09:09:55.442Z"
   },
   {
    "duration": 19,
    "start_time": "2025-03-24T09:09:55.446Z"
   },
   {
    "duration": 6,
    "start_time": "2025-03-24T09:09:55.467Z"
   },
   {
    "duration": 7301,
    "start_time": "2025-03-24T09:09:55.474Z"
   },
   {
    "duration": 11,
    "start_time": "2025-03-24T09:10:02.777Z"
   },
   {
    "duration": 1031,
    "start_time": "2025-03-24T09:10:02.790Z"
   },
   {
    "duration": 976,
    "start_time": "2025-03-24T09:11:25.428Z"
   },
   {
    "duration": 3,
    "start_time": "2025-03-25T07:19:45.034Z"
   },
   {
    "duration": 2425,
    "start_time": "2025-03-25T07:19:53.938Z"
   },
   {
    "duration": 10,
    "start_time": "2025-03-25T07:20:14.545Z"
   },
   {
    "duration": 862,
    "start_time": "2025-03-25T07:20:20.425Z"
   },
   {
    "duration": 3081,
    "start_time": "2025-03-25T07:21:14.724Z"
   },
   {
    "duration": 3871,
    "start_time": "2025-03-25T07:21:17.807Z"
   },
   {
    "duration": 10,
    "start_time": "2025-03-25T07:21:21.680Z"
   },
   {
    "duration": 19,
    "start_time": "2025-03-25T07:21:21.692Z"
   },
   {
    "duration": 29,
    "start_time": "2025-03-25T07:21:21.712Z"
   },
   {
    "duration": 469,
    "start_time": "2025-03-25T07:21:21.742Z"
   },
   {
    "duration": 61,
    "start_time": "2025-03-25T07:21:22.213Z"
   },
   {
    "duration": 19,
    "start_time": "2025-03-25T07:21:22.275Z"
   },
   {
    "duration": 18,
    "start_time": "2025-03-25T07:21:22.296Z"
   },
   {
    "duration": 62,
    "start_time": "2025-03-25T07:21:22.316Z"
   },
   {
    "duration": 18,
    "start_time": "2025-03-25T07:21:22.379Z"
   },
   {
    "duration": 65,
    "start_time": "2025-03-25T07:21:22.398Z"
   },
   {
    "duration": 47,
    "start_time": "2025-03-25T07:21:22.465Z"
   },
   {
    "duration": 17,
    "start_time": "2025-03-25T07:21:22.513Z"
   },
   {
    "duration": 132,
    "start_time": "2025-03-25T07:21:22.531Z"
   },
   {
    "duration": 970,
    "start_time": "2025-03-25T07:21:22.665Z"
   },
   {
    "duration": 996,
    "start_time": "2025-03-25T07:21:23.637Z"
   },
   {
    "duration": 1012,
    "start_time": "2025-03-25T07:21:24.635Z"
   },
   {
    "duration": 680,
    "start_time": "2025-03-25T07:21:25.648Z"
   },
   {
    "duration": 528,
    "start_time": "2025-03-25T07:21:26.330Z"
   },
   {
    "duration": 553,
    "start_time": "2025-03-25T07:21:26.860Z"
   },
   {
    "duration": 4,
    "start_time": "2025-03-25T07:21:27.414Z"
   },
   {
    "duration": 4,
    "start_time": "2025-03-25T07:21:27.419Z"
   },
   {
    "duration": 461,
    "start_time": "2025-03-25T07:21:27.425Z"
   },
   {
    "duration": 102,
    "start_time": "2025-03-25T07:21:27.955Z"
   },
   {
    "duration": 3,
    "start_time": "2025-03-25T07:21:28.059Z"
   },
   {
    "duration": 17,
    "start_time": "2025-03-25T07:21:28.063Z"
   },
   {
    "duration": 3,
    "start_time": "2025-03-25T07:21:28.083Z"
   },
   {
    "duration": 2335,
    "start_time": "2025-03-25T07:21:28.088Z"
   },
   {
    "duration": 10,
    "start_time": "2025-03-25T07:21:30.424Z"
   },
   {
    "duration": 1058,
    "start_time": "2025-03-25T07:21:30.436Z"
   }
  ],
  "kernelspec": {
   "display_name": "Python 3 (ipykernel)",
   "language": "python",
   "name": "python3"
  },
  "language_info": {
   "codemirror_mode": {
    "name": "ipython",
    "version": 3
   },
   "file_extension": ".py",
   "mimetype": "text/x-python",
   "name": "python",
   "nbconvert_exporter": "python",
   "pygments_lexer": "ipython3",
   "version": "3.9.5"
  },
  "toc": {
   "base_numbering": 1,
   "nav_menu": {},
   "number_sections": true,
   "sideBar": true,
   "skip_h1_title": true,
   "title_cell": "Table of Contents",
   "title_sidebar": "Contents",
   "toc_cell": false,
   "toc_position": {
    "height": "calc(100% - 180px)",
    "left": "10px",
    "top": "150px",
    "width": "285.594px"
   },
   "toc_section_display": true,
   "toc_window_display": true
  }
 },
 "nbformat": 4,
 "nbformat_minor": 2
}
