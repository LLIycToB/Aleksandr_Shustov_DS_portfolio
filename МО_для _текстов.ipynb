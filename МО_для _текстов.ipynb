{
 "cells": [
  {
   "cell_type": "markdown",
   "metadata": {
    "toc": true
   },
   "source": [
    "<h1>Содержание<span class=\"tocSkip\"></span></h1>\n",
    "<div class=\"toc\"><ul class=\"toc-item\"><li><span><a href=\"#Подготовка\" data-toc-modified-id=\"Подготовка-1\"><span class=\"toc-item-num\">1&nbsp;&nbsp;</span>Подготовка</a></span></li><li><span><a href=\"#Обучение\" data-toc-modified-id=\"Обучение-2\"><span class=\"toc-item-num\">2&nbsp;&nbsp;</span>Обучение</a></span></li><li><span><a href=\"#Выводы\" data-toc-modified-id=\"Выводы-3\"><span class=\"toc-item-num\">3&nbsp;&nbsp;</span>Выводы</a></span></li></ul></div>"
   ]
  },
  {
   "cell_type": "markdown",
   "metadata": {},
   "source": [
    "# Проект для «Викишоп»"
   ]
  },
  {
   "cell_type": "markdown",
   "metadata": {},
   "source": [
    "Интернет-магазин «Викишоп» запускает новый сервис. Теперь пользователи могут редактировать и дополнять описания товаров, как в вики-сообществах. То есть клиенты предлагают свои правки и комментируют изменения других. Магазину нужен инструмент, который будет искать токсичные комментарии и отправлять их на модерацию. \n",
    "\n",
    "Задача этого проекта - обучить модель классифицировать комментарии на позитивные и негативные. В нашем распоряжении набор данных с разметкой о токсичности.\n",
    "\n",
    "Целевое значением метрики качества *F1* не меньше 0.75"
   ]
  },
  {
   "cell_type": "markdown",
   "metadata": {},
   "source": [
    "## Подготовка"
   ]
  },
  {
   "cell_type": "code",
   "execution_count": 1,
   "metadata": {},
   "outputs": [],
   "source": [
    "!pip install spacy -q"
   ]
  },
  {
   "cell_type": "code",
   "execution_count": 2,
   "metadata": {},
   "outputs": [
    {
     "name": "stderr",
     "output_type": "stream",
     "text": [
      "[nltk_data] Downloading package stopwords to /home/jovyan/nltk_data...\n",
      "[nltk_data]   Package stopwords is already up-to-date!\n"
     ]
    }
   ],
   "source": [
    "import numpy as np\n",
    "import pandas as pd\n",
    "#учет времени выполнения\n",
    "import time\n",
    "from tqdm.notebook import tqdm\n",
    "tqdm.pandas()\n",
    "# Инструменты подбора гиперпараметров\n",
    "from sklearn.model_selection import GridSearchCV, RandomizedSearchCV\n",
    "# пайплайны\n",
    "from sklearn.pipeline import Pipeline\n",
    "from sklearn.model_selection import train_test_split\n",
    "# Модели\n",
    "from sklearn.linear_model import LogisticRegression\n",
    "from sklearn.neighbors import KNeighborsClassifier\n",
    "from sklearn.tree import DecisionTreeClassifier\n",
    "from lightgbm import LGBMClassifier\n",
    "# метрики\n",
    "from sklearn.metrics import f1_score\n",
    "#обработка текстов\n",
    "import re\n",
    "import nltk\n",
    "nltk.download('stopwords')\n",
    "from nltk.corpus import stopwords\n",
    "from pymystem3 import Mystem\n",
    "from sklearn.feature_extraction.text import CountVectorizer\n",
    "from lightgbm import LGBMClassifier\n",
    "import warnings\n",
    "\n",
    "import spacy\n",
    "spcy = spacy.load('en_core_web_sm', disable=['parser', 'ner'])\n",
    "\n",
    "RANDOM_STATE = 88"
   ]
  },
  {
   "cell_type": "code",
   "execution_count": 3,
   "metadata": {},
   "outputs": [
    {
     "name": "stdout",
     "output_type": "stream",
     "text": [
      "<class 'pandas.core.frame.DataFrame'>\n",
      "RangeIndex: 159292 entries, 0 to 159291\n",
      "Data columns (total 3 columns):\n",
      " #   Column      Non-Null Count   Dtype \n",
      "---  ------      --------------   ----- \n",
      " 0   Unnamed: 0  159292 non-null  int64 \n",
      " 1   text        159292 non-null  object\n",
      " 2   toxic       159292 non-null  int64 \n",
      "dtypes: int64(2), object(1)\n",
      "memory usage: 3.6+ MB\n"
     ]
    },
    {
     "data": {
      "text/plain": [
       "None"
      ]
     },
     "metadata": {},
     "output_type": "display_data"
    },
    {
     "data": {
      "text/html": [
       "<div>\n",
       "<style scoped>\n",
       "    .dataframe tbody tr th:only-of-type {\n",
       "        vertical-align: middle;\n",
       "    }\n",
       "\n",
       "    .dataframe tbody tr th {\n",
       "        vertical-align: top;\n",
       "    }\n",
       "\n",
       "    .dataframe thead th {\n",
       "        text-align: right;\n",
       "    }\n",
       "</style>\n",
       "<table border=\"1\" class=\"dataframe\">\n",
       "  <thead>\n",
       "    <tr style=\"text-align: right;\">\n",
       "      <th></th>\n",
       "      <th>Unnamed: 0</th>\n",
       "      <th>text</th>\n",
       "      <th>toxic</th>\n",
       "    </tr>\n",
       "  </thead>\n",
       "  <tbody>\n",
       "    <tr>\n",
       "      <th>0</th>\n",
       "      <td>0</td>\n",
       "      <td>Explanation\\nWhy the edits made under my usern...</td>\n",
       "      <td>0</td>\n",
       "    </tr>\n",
       "    <tr>\n",
       "      <th>1</th>\n",
       "      <td>1</td>\n",
       "      <td>D'aww! He matches this background colour I'm s...</td>\n",
       "      <td>0</td>\n",
       "    </tr>\n",
       "    <tr>\n",
       "      <th>2</th>\n",
       "      <td>2</td>\n",
       "      <td>Hey man, I'm really not trying to edit war. It...</td>\n",
       "      <td>0</td>\n",
       "    </tr>\n",
       "    <tr>\n",
       "      <th>3</th>\n",
       "      <td>3</td>\n",
       "      <td>\"\\nMore\\nI can't make any real suggestions on ...</td>\n",
       "      <td>0</td>\n",
       "    </tr>\n",
       "    <tr>\n",
       "      <th>4</th>\n",
       "      <td>4</td>\n",
       "      <td>You, sir, are my hero. Any chance you remember...</td>\n",
       "      <td>0</td>\n",
       "    </tr>\n",
       "  </tbody>\n",
       "</table>\n",
       "</div>"
      ],
      "text/plain": [
       "   Unnamed: 0                                               text  toxic\n",
       "0           0  Explanation\\nWhy the edits made under my usern...      0\n",
       "1           1  D'aww! He matches this background colour I'm s...      0\n",
       "2           2  Hey man, I'm really not trying to edit war. It...      0\n",
       "3           3  \"\\nMore\\nI can't make any real suggestions on ...      0\n",
       "4           4  You, sir, are my hero. Any chance you remember...      0"
      ]
     },
     "execution_count": 3,
     "metadata": {},
     "output_type": "execute_result"
    }
   ],
   "source": [
    "data = pd.read_csv('/datasets/toxic_comments.csv')\n",
    "display(data.info())\n",
    "data.head()"
   ]
  },
  {
   "cell_type": "code",
   "execution_count": 4,
   "metadata": {},
   "outputs": [],
   "source": [
    "data = data.drop('Unnamed: 0', axis=1)"
   ]
  },
  {
   "cell_type": "markdown",
   "metadata": {},
   "source": [
    "Очистим текст от элементов разметки и прочего мусора:"
   ]
  },
  {
   "cell_type": "code",
   "execution_count": 5,
   "metadata": {},
   "outputs": [],
   "source": [
    "data['clean_text'] = data.text.transform(lambda x: re.sub(r'\\W+|\\d+|_+', ' ', x))\n",
    "data['clean_text'] = data.clean_text.transform(lambda x: re.sub(r'\\s{2,}', ' ', x))"
   ]
  },
  {
   "cell_type": "markdown",
   "metadata": {},
   "source": [
    "Выполним лемматизацию:"
   ]
  },
  {
   "cell_type": "code",
   "execution_count": 6,
   "metadata": {},
   "outputs": [
    {
     "data": {
      "application/vnd.jupyter.widget-view+json": {
       "model_id": "f09701fe723e474daad82a844ec562d6",
       "version_major": 2,
       "version_minor": 0
      },
      "text/plain": [
       "  0%|          | 0/159292 [00:00<?, ?it/s]"
      ]
     },
     "metadata": {},
     "output_type": "display_data"
    },
    {
     "name": "stdout",
     "output_type": "stream",
     "text": [
      "Время выполнения лемматизации 10 минут\n"
     ]
    }
   ],
   "source": [
    "lemm_texts = []\n",
    "total = data.shape[0]\n",
    "nlp_pipe = spcy.pipe(data.clean_text.values, disable = ['ner', 'parser'])\n",
    "\n",
    "start = time.time()\n",
    "\n",
    "for doc in tqdm(nlp_pipe, total=total):\n",
    "    lemm_text = \" \".join([token.lemma_ for token in doc])    \n",
    "    lemm_texts.append(lemm_text) \n",
    "\n",
    "data['lemm_text'] = lemm_texts\n",
    "\n",
    "finish = time.time()\n",
    "exec_time = int((finish - start) // 60)\n",
    "print(f'Время выполнения лемматизации {exec_time} минут')"
   ]
  },
  {
   "cell_type": "code",
   "execution_count": 7,
   "metadata": {},
   "outputs": [],
   "source": [
    "data = data[['lemm_text', 'toxic']]"
   ]
  },
  {
   "cell_type": "code",
   "execution_count": 9,
   "metadata": {},
   "outputs": [],
   "source": [
    "train, test = train_test_split(data, test_size = 0.2)\n",
    "X_train, y_train = train.drop('toxic', axis=1), train.toxic\n",
    "X_test, y_test = test.drop('toxic', axis=1), test.toxic"
   ]
  },
  {
   "cell_type": "code",
   "execution_count": 10,
   "metadata": {},
   "outputs": [],
   "source": [
    "corpus_train = X_train['lemm_text'].values"
   ]
  },
  {
   "cell_type": "code",
   "execution_count": 11,
   "metadata": {},
   "outputs": [],
   "source": [
    "pipe_train =  Pipeline([\n",
    "    ('vectorizer', CountVectorizer(stop_words='english')),\n",
    "    ('models', 'passthrough')\n",
    "])"
   ]
  },
  {
   "cell_type": "code",
   "execution_count": 12,
   "metadata": {},
   "outputs": [],
   "source": [
    "param_grid = [\n",
    "    # словарь для модели DecisionTreeClassifier()\n",
    "    {\n",
    "        'models': [DecisionTreeClassifier(random_state=RANDOM_STATE)],\n",
    "        'models__min_samples_split': range(2, 5),\n",
    "         'models__min_samples_leaf': range(2, 5),\n",
    "         'models__max_depth': range(2, 5),\n",
    "        'models__max_features': range(2, 5)\n",
    "    },\n",
    "    \n",
    "    # словарь для модели LogisticRegression()\n",
    "    {\n",
    "        'models': [LogisticRegression(random_state=RANDOM_STATE)],\n",
    "        'models__penalty': ['l1','l2','elasticnet', None],\n",
    "        'models__C': range(1, 5)\n",
    "    },\n",
    "    \n",
    "    # словарь для модели KNeighborsClassifier()\n",
    "    {\n",
    "        'models': [KNeighborsClassifier()],\n",
    "        'models__n_neighbors': range(2, 10)\n",
    "    },\n",
    "    \n",
    "    # словарь для модели LGBMClassifier()\n",
    "    {\n",
    "        'models': [LGBMClassifier()],\n",
    "    },\n",
    "]"
   ]
  },
  {
   "cell_type": "code",
   "execution_count": 13,
   "metadata": {},
   "outputs": [],
   "source": [
    "cv_train = RandomizedSearchCV(\n",
    "    pipe_train,\n",
    "    param_grid,\n",
    "    n_jobs=1,\n",
    "    cv=5,\n",
    "    n_iter=10,\n",
    "    scoring='f1'\n",
    ")"
   ]
  },
  {
   "cell_type": "markdown",
   "metadata": {},
   "source": [
    "## Обучение"
   ]
  },
  {
   "cell_type": "code",
   "execution_count": 14,
   "metadata": {},
   "outputs": [
    {
     "data": {
      "text/html": [
       "<style>#sk-container-id-1 {\n",
       "  /* Definition of color scheme common for light and dark mode */\n",
       "  --sklearn-color-text: #000;\n",
       "  --sklearn-color-text-muted: #666;\n",
       "  --sklearn-color-line: gray;\n",
       "  /* Definition of color scheme for unfitted estimators */\n",
       "  --sklearn-color-unfitted-level-0: #fff5e6;\n",
       "  --sklearn-color-unfitted-level-1: #f6e4d2;\n",
       "  --sklearn-color-unfitted-level-2: #ffe0b3;\n",
       "  --sklearn-color-unfitted-level-3: chocolate;\n",
       "  /* Definition of color scheme for fitted estimators */\n",
       "  --sklearn-color-fitted-level-0: #f0f8ff;\n",
       "  --sklearn-color-fitted-level-1: #d4ebff;\n",
       "  --sklearn-color-fitted-level-2: #b3dbfd;\n",
       "  --sklearn-color-fitted-level-3: cornflowerblue;\n",
       "\n",
       "  /* Specific color for light theme */\n",
       "  --sklearn-color-text-on-default-background: var(--sg-text-color, var(--theme-code-foreground, var(--jp-content-font-color1, black)));\n",
       "  --sklearn-color-background: var(--sg-background-color, var(--theme-background, var(--jp-layout-color0, white)));\n",
       "  --sklearn-color-border-box: var(--sg-text-color, var(--theme-code-foreground, var(--jp-content-font-color1, black)));\n",
       "  --sklearn-color-icon: #696969;\n",
       "\n",
       "  @media (prefers-color-scheme: dark) {\n",
       "    /* Redefinition of color scheme for dark theme */\n",
       "    --sklearn-color-text-on-default-background: var(--sg-text-color, var(--theme-code-foreground, var(--jp-content-font-color1, white)));\n",
       "    --sklearn-color-background: var(--sg-background-color, var(--theme-background, var(--jp-layout-color0, #111)));\n",
       "    --sklearn-color-border-box: var(--sg-text-color, var(--theme-code-foreground, var(--jp-content-font-color1, white)));\n",
       "    --sklearn-color-icon: #878787;\n",
       "  }\n",
       "}\n",
       "\n",
       "#sk-container-id-1 {\n",
       "  color: var(--sklearn-color-text);\n",
       "}\n",
       "\n",
       "#sk-container-id-1 pre {\n",
       "  padding: 0;\n",
       "}\n",
       "\n",
       "#sk-container-id-1 input.sk-hidden--visually {\n",
       "  border: 0;\n",
       "  clip: rect(1px 1px 1px 1px);\n",
       "  clip: rect(1px, 1px, 1px, 1px);\n",
       "  height: 1px;\n",
       "  margin: -1px;\n",
       "  overflow: hidden;\n",
       "  padding: 0;\n",
       "  position: absolute;\n",
       "  width: 1px;\n",
       "}\n",
       "\n",
       "#sk-container-id-1 div.sk-dashed-wrapped {\n",
       "  border: 1px dashed var(--sklearn-color-line);\n",
       "  margin: 0 0.4em 0.5em 0.4em;\n",
       "  box-sizing: border-box;\n",
       "  padding-bottom: 0.4em;\n",
       "  background-color: var(--sklearn-color-background);\n",
       "}\n",
       "\n",
       "#sk-container-id-1 div.sk-container {\n",
       "  /* jupyter's `normalize.less` sets `[hidden] { display: none; }`\n",
       "     but bootstrap.min.css set `[hidden] { display: none !important; }`\n",
       "     so we also need the `!important` here to be able to override the\n",
       "     default hidden behavior on the sphinx rendered scikit-learn.org.\n",
       "     See: https://github.com/scikit-learn/scikit-learn/issues/21755 */\n",
       "  display: inline-block !important;\n",
       "  position: relative;\n",
       "}\n",
       "\n",
       "#sk-container-id-1 div.sk-text-repr-fallback {\n",
       "  display: none;\n",
       "}\n",
       "\n",
       "div.sk-parallel-item,\n",
       "div.sk-serial,\n",
       "div.sk-item {\n",
       "  /* draw centered vertical line to link estimators */\n",
       "  background-image: linear-gradient(var(--sklearn-color-text-on-default-background), var(--sklearn-color-text-on-default-background));\n",
       "  background-size: 2px 100%;\n",
       "  background-repeat: no-repeat;\n",
       "  background-position: center center;\n",
       "}\n",
       "\n",
       "/* Parallel-specific style estimator block */\n",
       "\n",
       "#sk-container-id-1 div.sk-parallel-item::after {\n",
       "  content: \"\";\n",
       "  width: 100%;\n",
       "  border-bottom: 2px solid var(--sklearn-color-text-on-default-background);\n",
       "  flex-grow: 1;\n",
       "}\n",
       "\n",
       "#sk-container-id-1 div.sk-parallel {\n",
       "  display: flex;\n",
       "  align-items: stretch;\n",
       "  justify-content: center;\n",
       "  background-color: var(--sklearn-color-background);\n",
       "  position: relative;\n",
       "}\n",
       "\n",
       "#sk-container-id-1 div.sk-parallel-item {\n",
       "  display: flex;\n",
       "  flex-direction: column;\n",
       "}\n",
       "\n",
       "#sk-container-id-1 div.sk-parallel-item:first-child::after {\n",
       "  align-self: flex-end;\n",
       "  width: 50%;\n",
       "}\n",
       "\n",
       "#sk-container-id-1 div.sk-parallel-item:last-child::after {\n",
       "  align-self: flex-start;\n",
       "  width: 50%;\n",
       "}\n",
       "\n",
       "#sk-container-id-1 div.sk-parallel-item:only-child::after {\n",
       "  width: 0;\n",
       "}\n",
       "\n",
       "/* Serial-specific style estimator block */\n",
       "\n",
       "#sk-container-id-1 div.sk-serial {\n",
       "  display: flex;\n",
       "  flex-direction: column;\n",
       "  align-items: center;\n",
       "  background-color: var(--sklearn-color-background);\n",
       "  padding-right: 1em;\n",
       "  padding-left: 1em;\n",
       "}\n",
       "\n",
       "\n",
       "/* Toggleable style: style used for estimator/Pipeline/ColumnTransformer box that is\n",
       "clickable and can be expanded/collapsed.\n",
       "- Pipeline and ColumnTransformer use this feature and define the default style\n",
       "- Estimators will overwrite some part of the style using the `sk-estimator` class\n",
       "*/\n",
       "\n",
       "/* Pipeline and ColumnTransformer style (default) */\n",
       "\n",
       "#sk-container-id-1 div.sk-toggleable {\n",
       "  /* Default theme specific background. It is overwritten whether we have a\n",
       "  specific estimator or a Pipeline/ColumnTransformer */\n",
       "  background-color: var(--sklearn-color-background);\n",
       "}\n",
       "\n",
       "/* Toggleable label */\n",
       "#sk-container-id-1 label.sk-toggleable__label {\n",
       "  cursor: pointer;\n",
       "  display: flex;\n",
       "  width: 100%;\n",
       "  margin-bottom: 0;\n",
       "  padding: 0.5em;\n",
       "  box-sizing: border-box;\n",
       "  text-align: center;\n",
       "  align-items: start;\n",
       "  justify-content: space-between;\n",
       "  gap: 0.5em;\n",
       "}\n",
       "\n",
       "#sk-container-id-1 label.sk-toggleable__label .caption {\n",
       "  font-size: 0.6rem;\n",
       "  font-weight: lighter;\n",
       "  color: var(--sklearn-color-text-muted);\n",
       "}\n",
       "\n",
       "#sk-container-id-1 label.sk-toggleable__label-arrow:before {\n",
       "  /* Arrow on the left of the label */\n",
       "  content: \"▸\";\n",
       "  float: left;\n",
       "  margin-right: 0.25em;\n",
       "  color: var(--sklearn-color-icon);\n",
       "}\n",
       "\n",
       "#sk-container-id-1 label.sk-toggleable__label-arrow:hover:before {\n",
       "  color: var(--sklearn-color-text);\n",
       "}\n",
       "\n",
       "/* Toggleable content - dropdown */\n",
       "\n",
       "#sk-container-id-1 div.sk-toggleable__content {\n",
       "  max-height: 0;\n",
       "  max-width: 0;\n",
       "  overflow: hidden;\n",
       "  text-align: left;\n",
       "  /* unfitted */\n",
       "  background-color: var(--sklearn-color-unfitted-level-0);\n",
       "}\n",
       "\n",
       "#sk-container-id-1 div.sk-toggleable__content.fitted {\n",
       "  /* fitted */\n",
       "  background-color: var(--sklearn-color-fitted-level-0);\n",
       "}\n",
       "\n",
       "#sk-container-id-1 div.sk-toggleable__content pre {\n",
       "  margin: 0.2em;\n",
       "  border-radius: 0.25em;\n",
       "  color: var(--sklearn-color-text);\n",
       "  /* unfitted */\n",
       "  background-color: var(--sklearn-color-unfitted-level-0);\n",
       "}\n",
       "\n",
       "#sk-container-id-1 div.sk-toggleable__content.fitted pre {\n",
       "  /* unfitted */\n",
       "  background-color: var(--sklearn-color-fitted-level-0);\n",
       "}\n",
       "\n",
       "#sk-container-id-1 input.sk-toggleable__control:checked~div.sk-toggleable__content {\n",
       "  /* Expand drop-down */\n",
       "  max-height: 200px;\n",
       "  max-width: 100%;\n",
       "  overflow: auto;\n",
       "}\n",
       "\n",
       "#sk-container-id-1 input.sk-toggleable__control:checked~label.sk-toggleable__label-arrow:before {\n",
       "  content: \"▾\";\n",
       "}\n",
       "\n",
       "/* Pipeline/ColumnTransformer-specific style */\n",
       "\n",
       "#sk-container-id-1 div.sk-label input.sk-toggleable__control:checked~label.sk-toggleable__label {\n",
       "  color: var(--sklearn-color-text);\n",
       "  background-color: var(--sklearn-color-unfitted-level-2);\n",
       "}\n",
       "\n",
       "#sk-container-id-1 div.sk-label.fitted input.sk-toggleable__control:checked~label.sk-toggleable__label {\n",
       "  background-color: var(--sklearn-color-fitted-level-2);\n",
       "}\n",
       "\n",
       "/* Estimator-specific style */\n",
       "\n",
       "/* Colorize estimator box */\n",
       "#sk-container-id-1 div.sk-estimator input.sk-toggleable__control:checked~label.sk-toggleable__label {\n",
       "  /* unfitted */\n",
       "  background-color: var(--sklearn-color-unfitted-level-2);\n",
       "}\n",
       "\n",
       "#sk-container-id-1 div.sk-estimator.fitted input.sk-toggleable__control:checked~label.sk-toggleable__label {\n",
       "  /* fitted */\n",
       "  background-color: var(--sklearn-color-fitted-level-2);\n",
       "}\n",
       "\n",
       "#sk-container-id-1 div.sk-label label.sk-toggleable__label,\n",
       "#sk-container-id-1 div.sk-label label {\n",
       "  /* The background is the default theme color */\n",
       "  color: var(--sklearn-color-text-on-default-background);\n",
       "}\n",
       "\n",
       "/* On hover, darken the color of the background */\n",
       "#sk-container-id-1 div.sk-label:hover label.sk-toggleable__label {\n",
       "  color: var(--sklearn-color-text);\n",
       "  background-color: var(--sklearn-color-unfitted-level-2);\n",
       "}\n",
       "\n",
       "/* Label box, darken color on hover, fitted */\n",
       "#sk-container-id-1 div.sk-label.fitted:hover label.sk-toggleable__label.fitted {\n",
       "  color: var(--sklearn-color-text);\n",
       "  background-color: var(--sklearn-color-fitted-level-2);\n",
       "}\n",
       "\n",
       "/* Estimator label */\n",
       "\n",
       "#sk-container-id-1 div.sk-label label {\n",
       "  font-family: monospace;\n",
       "  font-weight: bold;\n",
       "  display: inline-block;\n",
       "  line-height: 1.2em;\n",
       "}\n",
       "\n",
       "#sk-container-id-1 div.sk-label-container {\n",
       "  text-align: center;\n",
       "}\n",
       "\n",
       "/* Estimator-specific */\n",
       "#sk-container-id-1 div.sk-estimator {\n",
       "  font-family: monospace;\n",
       "  border: 1px dotted var(--sklearn-color-border-box);\n",
       "  border-radius: 0.25em;\n",
       "  box-sizing: border-box;\n",
       "  margin-bottom: 0.5em;\n",
       "  /* unfitted */\n",
       "  background-color: var(--sklearn-color-unfitted-level-0);\n",
       "}\n",
       "\n",
       "#sk-container-id-1 div.sk-estimator.fitted {\n",
       "  /* fitted */\n",
       "  background-color: var(--sklearn-color-fitted-level-0);\n",
       "}\n",
       "\n",
       "/* on hover */\n",
       "#sk-container-id-1 div.sk-estimator:hover {\n",
       "  /* unfitted */\n",
       "  background-color: var(--sklearn-color-unfitted-level-2);\n",
       "}\n",
       "\n",
       "#sk-container-id-1 div.sk-estimator.fitted:hover {\n",
       "  /* fitted */\n",
       "  background-color: var(--sklearn-color-fitted-level-2);\n",
       "}\n",
       "\n",
       "/* Specification for estimator info (e.g. \"i\" and \"?\") */\n",
       "\n",
       "/* Common style for \"i\" and \"?\" */\n",
       "\n",
       ".sk-estimator-doc-link,\n",
       "a:link.sk-estimator-doc-link,\n",
       "a:visited.sk-estimator-doc-link {\n",
       "  float: right;\n",
       "  font-size: smaller;\n",
       "  line-height: 1em;\n",
       "  font-family: monospace;\n",
       "  background-color: var(--sklearn-color-background);\n",
       "  border-radius: 1em;\n",
       "  height: 1em;\n",
       "  width: 1em;\n",
       "  text-decoration: none !important;\n",
       "  margin-left: 0.5em;\n",
       "  text-align: center;\n",
       "  /* unfitted */\n",
       "  border: var(--sklearn-color-unfitted-level-1) 1pt solid;\n",
       "  color: var(--sklearn-color-unfitted-level-1);\n",
       "}\n",
       "\n",
       ".sk-estimator-doc-link.fitted,\n",
       "a:link.sk-estimator-doc-link.fitted,\n",
       "a:visited.sk-estimator-doc-link.fitted {\n",
       "  /* fitted */\n",
       "  border: var(--sklearn-color-fitted-level-1) 1pt solid;\n",
       "  color: var(--sklearn-color-fitted-level-1);\n",
       "}\n",
       "\n",
       "/* On hover */\n",
       "div.sk-estimator:hover .sk-estimator-doc-link:hover,\n",
       ".sk-estimator-doc-link:hover,\n",
       "div.sk-label-container:hover .sk-estimator-doc-link:hover,\n",
       ".sk-estimator-doc-link:hover {\n",
       "  /* unfitted */\n",
       "  background-color: var(--sklearn-color-unfitted-level-3);\n",
       "  color: var(--sklearn-color-background);\n",
       "  text-decoration: none;\n",
       "}\n",
       "\n",
       "div.sk-estimator.fitted:hover .sk-estimator-doc-link.fitted:hover,\n",
       ".sk-estimator-doc-link.fitted:hover,\n",
       "div.sk-label-container:hover .sk-estimator-doc-link.fitted:hover,\n",
       ".sk-estimator-doc-link.fitted:hover {\n",
       "  /* fitted */\n",
       "  background-color: var(--sklearn-color-fitted-level-3);\n",
       "  color: var(--sklearn-color-background);\n",
       "  text-decoration: none;\n",
       "}\n",
       "\n",
       "/* Span, style for the box shown on hovering the info icon */\n",
       ".sk-estimator-doc-link span {\n",
       "  display: none;\n",
       "  z-index: 9999;\n",
       "  position: relative;\n",
       "  font-weight: normal;\n",
       "  right: .2ex;\n",
       "  padding: .5ex;\n",
       "  margin: .5ex;\n",
       "  width: min-content;\n",
       "  min-width: 20ex;\n",
       "  max-width: 50ex;\n",
       "  color: var(--sklearn-color-text);\n",
       "  box-shadow: 2pt 2pt 4pt #999;\n",
       "  /* unfitted */\n",
       "  background: var(--sklearn-color-unfitted-level-0);\n",
       "  border: .5pt solid var(--sklearn-color-unfitted-level-3);\n",
       "}\n",
       "\n",
       ".sk-estimator-doc-link.fitted span {\n",
       "  /* fitted */\n",
       "  background: var(--sklearn-color-fitted-level-0);\n",
       "  border: var(--sklearn-color-fitted-level-3);\n",
       "}\n",
       "\n",
       ".sk-estimator-doc-link:hover span {\n",
       "  display: block;\n",
       "}\n",
       "\n",
       "/* \"?\"-specific style due to the `<a>` HTML tag */\n",
       "\n",
       "#sk-container-id-1 a.estimator_doc_link {\n",
       "  float: right;\n",
       "  font-size: 1rem;\n",
       "  line-height: 1em;\n",
       "  font-family: monospace;\n",
       "  background-color: var(--sklearn-color-background);\n",
       "  border-radius: 1rem;\n",
       "  height: 1rem;\n",
       "  width: 1rem;\n",
       "  text-decoration: none;\n",
       "  /* unfitted */\n",
       "  color: var(--sklearn-color-unfitted-level-1);\n",
       "  border: var(--sklearn-color-unfitted-level-1) 1pt solid;\n",
       "}\n",
       "\n",
       "#sk-container-id-1 a.estimator_doc_link.fitted {\n",
       "  /* fitted */\n",
       "  border: var(--sklearn-color-fitted-level-1) 1pt solid;\n",
       "  color: var(--sklearn-color-fitted-level-1);\n",
       "}\n",
       "\n",
       "/* On hover */\n",
       "#sk-container-id-1 a.estimator_doc_link:hover {\n",
       "  /* unfitted */\n",
       "  background-color: var(--sklearn-color-unfitted-level-3);\n",
       "  color: var(--sklearn-color-background);\n",
       "  text-decoration: none;\n",
       "}\n",
       "\n",
       "#sk-container-id-1 a.estimator_doc_link.fitted:hover {\n",
       "  /* fitted */\n",
       "  background-color: var(--sklearn-color-fitted-level-3);\n",
       "}\n",
       "</style><div id=\"sk-container-id-1\" class=\"sk-top-container\"><div class=\"sk-text-repr-fallback\"><pre>RandomizedSearchCV(cv=5,\n",
       "                   estimator=Pipeline(steps=[(&#x27;vectorizer&#x27;,\n",
       "                                              CountVectorizer(stop_words=&#x27;english&#x27;)),\n",
       "                                             (&#x27;models&#x27;, &#x27;passthrough&#x27;)]),\n",
       "                   n_jobs=1,\n",
       "                   param_distributions=[{&#x27;models&#x27;: [DecisionTreeClassifier(random_state=88)],\n",
       "                                         &#x27;models__max_depth&#x27;: range(2, 5),\n",
       "                                         &#x27;models__max_features&#x27;: range(2, 5),\n",
       "                                         &#x27;models__min_samples_leaf&#x27;: range(2, 5),\n",
       "                                         &#x27;models__min_samples_split&#x27;: range(2, 5)},\n",
       "                                        {&#x27;models&#x27;: [LogisticRegression(random_state=88)],\n",
       "                                         &#x27;models__C&#x27;: range(1, 5),\n",
       "                                         &#x27;models__penalty&#x27;: [&#x27;l1&#x27;, &#x27;l2&#x27;,\n",
       "                                                             &#x27;elasticnet&#x27;,\n",
       "                                                             None]},\n",
       "                                        {&#x27;models&#x27;: [KNeighborsClassifier()],\n",
       "                                         &#x27;models__n_neighbors&#x27;: range(2, 10)},\n",
       "                                        {&#x27;models&#x27;: [LGBMClassifier()]}],\n",
       "                   scoring=&#x27;f1&#x27;)</pre><b>In a Jupyter environment, please rerun this cell to show the HTML representation or trust the notebook. <br />On GitHub, the HTML representation is unable to render, please try loading this page with nbviewer.org.</b></div><div class=\"sk-container\" hidden><div class=\"sk-item sk-dashed-wrapped\"><div class=\"sk-label-container\"><div class=\"sk-label fitted sk-toggleable\"><input class=\"sk-toggleable__control sk-hidden--visually\" id=\"sk-estimator-id-1\" type=\"checkbox\" ><label for=\"sk-estimator-id-1\" class=\"sk-toggleable__label fitted sk-toggleable__label-arrow\"><div><div>RandomizedSearchCV</div></div><div><a class=\"sk-estimator-doc-link fitted\" rel=\"noreferrer\" target=\"_blank\" href=\"https://scikit-learn.org/1.6/modules/generated/sklearn.model_selection.RandomizedSearchCV.html\">?<span>Documentation for RandomizedSearchCV</span></a><span class=\"sk-estimator-doc-link fitted\">i<span>Fitted</span></span></div></label><div class=\"sk-toggleable__content fitted\"><pre>RandomizedSearchCV(cv=5,\n",
       "                   estimator=Pipeline(steps=[(&#x27;vectorizer&#x27;,\n",
       "                                              CountVectorizer(stop_words=&#x27;english&#x27;)),\n",
       "                                             (&#x27;models&#x27;, &#x27;passthrough&#x27;)]),\n",
       "                   n_jobs=1,\n",
       "                   param_distributions=[{&#x27;models&#x27;: [DecisionTreeClassifier(random_state=88)],\n",
       "                                         &#x27;models__max_depth&#x27;: range(2, 5),\n",
       "                                         &#x27;models__max_features&#x27;: range(2, 5),\n",
       "                                         &#x27;models__min_samples_leaf&#x27;: range(2, 5),\n",
       "                                         &#x27;models__min_samples_split&#x27;: range(2, 5)},\n",
       "                                        {&#x27;models&#x27;: [LogisticRegression(random_state=88)],\n",
       "                                         &#x27;models__C&#x27;: range(1, 5),\n",
       "                                         &#x27;models__penalty&#x27;: [&#x27;l1&#x27;, &#x27;l2&#x27;,\n",
       "                                                             &#x27;elasticnet&#x27;,\n",
       "                                                             None]},\n",
       "                                        {&#x27;models&#x27;: [KNeighborsClassifier()],\n",
       "                                         &#x27;models__n_neighbors&#x27;: range(2, 10)},\n",
       "                                        {&#x27;models&#x27;: [LGBMClassifier()]}],\n",
       "                   scoring=&#x27;f1&#x27;)</pre></div> </div></div><div class=\"sk-parallel\"><div class=\"sk-parallel-item\"><div class=\"sk-item\"><div class=\"sk-label-container\"><div class=\"sk-label fitted sk-toggleable\"><input class=\"sk-toggleable__control sk-hidden--visually\" id=\"sk-estimator-id-2\" type=\"checkbox\" ><label for=\"sk-estimator-id-2\" class=\"sk-toggleable__label fitted sk-toggleable__label-arrow\"><div><div>best_estimator_: Pipeline</div></div></label><div class=\"sk-toggleable__content fitted\"><pre>Pipeline(steps=[(&#x27;vectorizer&#x27;, CountVectorizer(stop_words=&#x27;english&#x27;)),\n",
       "                (&#x27;models&#x27;,\n",
       "                 LogisticRegression(C=1, penalty=None, random_state=88))])</pre></div> </div></div><div class=\"sk-serial\"><div class=\"sk-item\"><div class=\"sk-serial\"><div class=\"sk-item\"><div class=\"sk-estimator fitted sk-toggleable\"><input class=\"sk-toggleable__control sk-hidden--visually\" id=\"sk-estimator-id-3\" type=\"checkbox\" ><label for=\"sk-estimator-id-3\" class=\"sk-toggleable__label fitted sk-toggleable__label-arrow\"><div><div>CountVectorizer</div></div><div><a class=\"sk-estimator-doc-link fitted\" rel=\"noreferrer\" target=\"_blank\" href=\"https://scikit-learn.org/1.6/modules/generated/sklearn.feature_extraction.text.CountVectorizer.html\">?<span>Documentation for CountVectorizer</span></a></div></label><div class=\"sk-toggleable__content fitted\"><pre>CountVectorizer(stop_words=&#x27;english&#x27;)</pre></div> </div></div><div class=\"sk-item\"><div class=\"sk-estimator fitted sk-toggleable\"><input class=\"sk-toggleable__control sk-hidden--visually\" id=\"sk-estimator-id-4\" type=\"checkbox\" ><label for=\"sk-estimator-id-4\" class=\"sk-toggleable__label fitted sk-toggleable__label-arrow\"><div><div>LogisticRegression</div></div><div><a class=\"sk-estimator-doc-link fitted\" rel=\"noreferrer\" target=\"_blank\" href=\"https://scikit-learn.org/1.6/modules/generated/sklearn.linear_model.LogisticRegression.html\">?<span>Documentation for LogisticRegression</span></a></div></label><div class=\"sk-toggleable__content fitted\"><pre>LogisticRegression(C=1, penalty=None, random_state=88)</pre></div> </div></div></div></div></div></div></div></div></div></div></div>"
      ],
      "text/plain": [
       "RandomizedSearchCV(cv=5,\n",
       "                   estimator=Pipeline(steps=[('vectorizer',\n",
       "                                              CountVectorizer(stop_words='english')),\n",
       "                                             ('models', 'passthrough')]),\n",
       "                   n_jobs=1,\n",
       "                   param_distributions=[{'models': [DecisionTreeClassifier(random_state=88)],\n",
       "                                         'models__max_depth': range(2, 5),\n",
       "                                         'models__max_features': range(2, 5),\n",
       "                                         'models__min_samples_leaf': range(2, 5),\n",
       "                                         'models__min_samples_split': range(2, 5)},\n",
       "                                        {'models': [LogisticRegression(random_state=88)],\n",
       "                                         'models__C': range(1, 5),\n",
       "                                         'models__penalty': ['l1', 'l2',\n",
       "                                                             'elasticnet',\n",
       "                                                             None]},\n",
       "                                        {'models': [KNeighborsClassifier()],\n",
       "                                         'models__n_neighbors': range(2, 10)},\n",
       "                                        {'models': [LGBMClassifier()]}],\n",
       "                   scoring='f1')"
      ]
     },
     "execution_count": 14,
     "metadata": {},
     "output_type": "execute_result"
    }
   ],
   "source": [
    "warnings.filterwarnings('ignore')\n",
    "cv_train.fit(corpus_train, y_train)"
   ]
  },
  {
   "cell_type": "code",
   "execution_count": 15,
   "metadata": {
    "scrolled": true
   },
   "outputs": [
    {
     "data": {
      "text/html": [
       "<div>\n",
       "<style scoped>\n",
       "    .dataframe tbody tr th:only-of-type {\n",
       "        vertical-align: middle;\n",
       "    }\n",
       "\n",
       "    .dataframe tbody tr th {\n",
       "        vertical-align: top;\n",
       "    }\n",
       "\n",
       "    .dataframe thead th {\n",
       "        text-align: right;\n",
       "    }\n",
       "</style>\n",
       "<table border=\"1\" class=\"dataframe\">\n",
       "  <thead>\n",
       "    <tr style=\"text-align: right;\">\n",
       "      <th></th>\n",
       "      <th>rank_test_score</th>\n",
       "      <th>params</th>\n",
       "    </tr>\n",
       "  </thead>\n",
       "  <tbody>\n",
       "    <tr>\n",
       "      <th>6</th>\n",
       "      <td>1</td>\n",
       "      <td>{'models__penalty': None, 'models__C': 1, 'models': LogisticRegression(random_state=88)}</td>\n",
       "    </tr>\n",
       "    <tr>\n",
       "      <th>5</th>\n",
       "      <td>2</td>\n",
       "      <td>{'models__n_neighbors': 3, 'models': KNeighborsClassifier()}</td>\n",
       "    </tr>\n",
       "    <tr>\n",
       "      <th>0</th>\n",
       "      <td>3</td>\n",
       "      <td>{'models__min_samples_split': 4, 'models__min_samples_leaf': 2, 'models__max_features': 3, 'models__max_depth': 3, 'models': DecisionTreeClassifier(random_state=88)}</td>\n",
       "    </tr>\n",
       "    <tr>\n",
       "      <th>1</th>\n",
       "      <td>3</td>\n",
       "      <td>{'models__min_samples_split': 2, 'models__min_samples_leaf': 4, 'models__max_features': 4, 'models__max_depth': 3, 'models': DecisionTreeClassifier(random_state=88)}</td>\n",
       "    </tr>\n",
       "    <tr>\n",
       "      <th>2</th>\n",
       "      <td>3</td>\n",
       "      <td>{'models__min_samples_split': 4, 'models__min_samples_leaf': 4, 'models__max_features': 2, 'models__max_depth': 4, 'models': DecisionTreeClassifier(random_state=88)}</td>\n",
       "    </tr>\n",
       "  </tbody>\n",
       "</table>\n",
       "</div>"
      ],
      "text/plain": [
       "   rank_test_score  \\\n",
       "6                1   \n",
       "5                2   \n",
       "0                3   \n",
       "1                3   \n",
       "2                3   \n",
       "\n",
       "                                                                                                                                                                  params  \n",
       "6                                                                               {'models__penalty': None, 'models__C': 1, 'models': LogisticRegression(random_state=88)}  \n",
       "5                                                                                                           {'models__n_neighbors': 3, 'models': KNeighborsClassifier()}  \n",
       "0  {'models__min_samples_split': 4, 'models__min_samples_leaf': 2, 'models__max_features': 3, 'models__max_depth': 3, 'models': DecisionTreeClassifier(random_state=88)}  \n",
       "1  {'models__min_samples_split': 2, 'models__min_samples_leaf': 4, 'models__max_features': 4, 'models__max_depth': 3, 'models': DecisionTreeClassifier(random_state=88)}  \n",
       "2  {'models__min_samples_split': 4, 'models__min_samples_leaf': 4, 'models__max_features': 2, 'models__max_depth': 4, 'models': DecisionTreeClassifier(random_state=88)}  "
      ]
     },
     "execution_count": 15,
     "metadata": {},
     "output_type": "execute_result"
    }
   ],
   "source": [
    "pd.set_option('display.max_colwidth', None)\n",
    "result = pd.DataFrame(cv_train.cv_results_)\n",
    "result[\n",
    "    ['rank_test_score', 'params']\n",
    "].sort_values('rank_test_score').head(5)"
   ]
  },
  {
   "cell_type": "code",
   "execution_count": 16,
   "metadata": {},
   "outputs": [
    {
     "data": {
      "text/html": [
       "<style>#sk-container-id-2 {\n",
       "  /* Definition of color scheme common for light and dark mode */\n",
       "  --sklearn-color-text: #000;\n",
       "  --sklearn-color-text-muted: #666;\n",
       "  --sklearn-color-line: gray;\n",
       "  /* Definition of color scheme for unfitted estimators */\n",
       "  --sklearn-color-unfitted-level-0: #fff5e6;\n",
       "  --sklearn-color-unfitted-level-1: #f6e4d2;\n",
       "  --sklearn-color-unfitted-level-2: #ffe0b3;\n",
       "  --sklearn-color-unfitted-level-3: chocolate;\n",
       "  /* Definition of color scheme for fitted estimators */\n",
       "  --sklearn-color-fitted-level-0: #f0f8ff;\n",
       "  --sklearn-color-fitted-level-1: #d4ebff;\n",
       "  --sklearn-color-fitted-level-2: #b3dbfd;\n",
       "  --sklearn-color-fitted-level-3: cornflowerblue;\n",
       "\n",
       "  /* Specific color for light theme */\n",
       "  --sklearn-color-text-on-default-background: var(--sg-text-color, var(--theme-code-foreground, var(--jp-content-font-color1, black)));\n",
       "  --sklearn-color-background: var(--sg-background-color, var(--theme-background, var(--jp-layout-color0, white)));\n",
       "  --sklearn-color-border-box: var(--sg-text-color, var(--theme-code-foreground, var(--jp-content-font-color1, black)));\n",
       "  --sklearn-color-icon: #696969;\n",
       "\n",
       "  @media (prefers-color-scheme: dark) {\n",
       "    /* Redefinition of color scheme for dark theme */\n",
       "    --sklearn-color-text-on-default-background: var(--sg-text-color, var(--theme-code-foreground, var(--jp-content-font-color1, white)));\n",
       "    --sklearn-color-background: var(--sg-background-color, var(--theme-background, var(--jp-layout-color0, #111)));\n",
       "    --sklearn-color-border-box: var(--sg-text-color, var(--theme-code-foreground, var(--jp-content-font-color1, white)));\n",
       "    --sklearn-color-icon: #878787;\n",
       "  }\n",
       "}\n",
       "\n",
       "#sk-container-id-2 {\n",
       "  color: var(--sklearn-color-text);\n",
       "}\n",
       "\n",
       "#sk-container-id-2 pre {\n",
       "  padding: 0;\n",
       "}\n",
       "\n",
       "#sk-container-id-2 input.sk-hidden--visually {\n",
       "  border: 0;\n",
       "  clip: rect(1px 1px 1px 1px);\n",
       "  clip: rect(1px, 1px, 1px, 1px);\n",
       "  height: 1px;\n",
       "  margin: -1px;\n",
       "  overflow: hidden;\n",
       "  padding: 0;\n",
       "  position: absolute;\n",
       "  width: 1px;\n",
       "}\n",
       "\n",
       "#sk-container-id-2 div.sk-dashed-wrapped {\n",
       "  border: 1px dashed var(--sklearn-color-line);\n",
       "  margin: 0 0.4em 0.5em 0.4em;\n",
       "  box-sizing: border-box;\n",
       "  padding-bottom: 0.4em;\n",
       "  background-color: var(--sklearn-color-background);\n",
       "}\n",
       "\n",
       "#sk-container-id-2 div.sk-container {\n",
       "  /* jupyter's `normalize.less` sets `[hidden] { display: none; }`\n",
       "     but bootstrap.min.css set `[hidden] { display: none !important; }`\n",
       "     so we also need the `!important` here to be able to override the\n",
       "     default hidden behavior on the sphinx rendered scikit-learn.org.\n",
       "     See: https://github.com/scikit-learn/scikit-learn/issues/21755 */\n",
       "  display: inline-block !important;\n",
       "  position: relative;\n",
       "}\n",
       "\n",
       "#sk-container-id-2 div.sk-text-repr-fallback {\n",
       "  display: none;\n",
       "}\n",
       "\n",
       "div.sk-parallel-item,\n",
       "div.sk-serial,\n",
       "div.sk-item {\n",
       "  /* draw centered vertical line to link estimators */\n",
       "  background-image: linear-gradient(var(--sklearn-color-text-on-default-background), var(--sklearn-color-text-on-default-background));\n",
       "  background-size: 2px 100%;\n",
       "  background-repeat: no-repeat;\n",
       "  background-position: center center;\n",
       "}\n",
       "\n",
       "/* Parallel-specific style estimator block */\n",
       "\n",
       "#sk-container-id-2 div.sk-parallel-item::after {\n",
       "  content: \"\";\n",
       "  width: 100%;\n",
       "  border-bottom: 2px solid var(--sklearn-color-text-on-default-background);\n",
       "  flex-grow: 1;\n",
       "}\n",
       "\n",
       "#sk-container-id-2 div.sk-parallel {\n",
       "  display: flex;\n",
       "  align-items: stretch;\n",
       "  justify-content: center;\n",
       "  background-color: var(--sklearn-color-background);\n",
       "  position: relative;\n",
       "}\n",
       "\n",
       "#sk-container-id-2 div.sk-parallel-item {\n",
       "  display: flex;\n",
       "  flex-direction: column;\n",
       "}\n",
       "\n",
       "#sk-container-id-2 div.sk-parallel-item:first-child::after {\n",
       "  align-self: flex-end;\n",
       "  width: 50%;\n",
       "}\n",
       "\n",
       "#sk-container-id-2 div.sk-parallel-item:last-child::after {\n",
       "  align-self: flex-start;\n",
       "  width: 50%;\n",
       "}\n",
       "\n",
       "#sk-container-id-2 div.sk-parallel-item:only-child::after {\n",
       "  width: 0;\n",
       "}\n",
       "\n",
       "/* Serial-specific style estimator block */\n",
       "\n",
       "#sk-container-id-2 div.sk-serial {\n",
       "  display: flex;\n",
       "  flex-direction: column;\n",
       "  align-items: center;\n",
       "  background-color: var(--sklearn-color-background);\n",
       "  padding-right: 1em;\n",
       "  padding-left: 1em;\n",
       "}\n",
       "\n",
       "\n",
       "/* Toggleable style: style used for estimator/Pipeline/ColumnTransformer box that is\n",
       "clickable and can be expanded/collapsed.\n",
       "- Pipeline and ColumnTransformer use this feature and define the default style\n",
       "- Estimators will overwrite some part of the style using the `sk-estimator` class\n",
       "*/\n",
       "\n",
       "/* Pipeline and ColumnTransformer style (default) */\n",
       "\n",
       "#sk-container-id-2 div.sk-toggleable {\n",
       "  /* Default theme specific background. It is overwritten whether we have a\n",
       "  specific estimator or a Pipeline/ColumnTransformer */\n",
       "  background-color: var(--sklearn-color-background);\n",
       "}\n",
       "\n",
       "/* Toggleable label */\n",
       "#sk-container-id-2 label.sk-toggleable__label {\n",
       "  cursor: pointer;\n",
       "  display: flex;\n",
       "  width: 100%;\n",
       "  margin-bottom: 0;\n",
       "  padding: 0.5em;\n",
       "  box-sizing: border-box;\n",
       "  text-align: center;\n",
       "  align-items: start;\n",
       "  justify-content: space-between;\n",
       "  gap: 0.5em;\n",
       "}\n",
       "\n",
       "#sk-container-id-2 label.sk-toggleable__label .caption {\n",
       "  font-size: 0.6rem;\n",
       "  font-weight: lighter;\n",
       "  color: var(--sklearn-color-text-muted);\n",
       "}\n",
       "\n",
       "#sk-container-id-2 label.sk-toggleable__label-arrow:before {\n",
       "  /* Arrow on the left of the label */\n",
       "  content: \"▸\";\n",
       "  float: left;\n",
       "  margin-right: 0.25em;\n",
       "  color: var(--sklearn-color-icon);\n",
       "}\n",
       "\n",
       "#sk-container-id-2 label.sk-toggleable__label-arrow:hover:before {\n",
       "  color: var(--sklearn-color-text);\n",
       "}\n",
       "\n",
       "/* Toggleable content - dropdown */\n",
       "\n",
       "#sk-container-id-2 div.sk-toggleable__content {\n",
       "  max-height: 0;\n",
       "  max-width: 0;\n",
       "  overflow: hidden;\n",
       "  text-align: left;\n",
       "  /* unfitted */\n",
       "  background-color: var(--sklearn-color-unfitted-level-0);\n",
       "}\n",
       "\n",
       "#sk-container-id-2 div.sk-toggleable__content.fitted {\n",
       "  /* fitted */\n",
       "  background-color: var(--sklearn-color-fitted-level-0);\n",
       "}\n",
       "\n",
       "#sk-container-id-2 div.sk-toggleable__content pre {\n",
       "  margin: 0.2em;\n",
       "  border-radius: 0.25em;\n",
       "  color: var(--sklearn-color-text);\n",
       "  /* unfitted */\n",
       "  background-color: var(--sklearn-color-unfitted-level-0);\n",
       "}\n",
       "\n",
       "#sk-container-id-2 div.sk-toggleable__content.fitted pre {\n",
       "  /* unfitted */\n",
       "  background-color: var(--sklearn-color-fitted-level-0);\n",
       "}\n",
       "\n",
       "#sk-container-id-2 input.sk-toggleable__control:checked~div.sk-toggleable__content {\n",
       "  /* Expand drop-down */\n",
       "  max-height: 200px;\n",
       "  max-width: 100%;\n",
       "  overflow: auto;\n",
       "}\n",
       "\n",
       "#sk-container-id-2 input.sk-toggleable__control:checked~label.sk-toggleable__label-arrow:before {\n",
       "  content: \"▾\";\n",
       "}\n",
       "\n",
       "/* Pipeline/ColumnTransformer-specific style */\n",
       "\n",
       "#sk-container-id-2 div.sk-label input.sk-toggleable__control:checked~label.sk-toggleable__label {\n",
       "  color: var(--sklearn-color-text);\n",
       "  background-color: var(--sklearn-color-unfitted-level-2);\n",
       "}\n",
       "\n",
       "#sk-container-id-2 div.sk-label.fitted input.sk-toggleable__control:checked~label.sk-toggleable__label {\n",
       "  background-color: var(--sklearn-color-fitted-level-2);\n",
       "}\n",
       "\n",
       "/* Estimator-specific style */\n",
       "\n",
       "/* Colorize estimator box */\n",
       "#sk-container-id-2 div.sk-estimator input.sk-toggleable__control:checked~label.sk-toggleable__label {\n",
       "  /* unfitted */\n",
       "  background-color: var(--sklearn-color-unfitted-level-2);\n",
       "}\n",
       "\n",
       "#sk-container-id-2 div.sk-estimator.fitted input.sk-toggleable__control:checked~label.sk-toggleable__label {\n",
       "  /* fitted */\n",
       "  background-color: var(--sklearn-color-fitted-level-2);\n",
       "}\n",
       "\n",
       "#sk-container-id-2 div.sk-label label.sk-toggleable__label,\n",
       "#sk-container-id-2 div.sk-label label {\n",
       "  /* The background is the default theme color */\n",
       "  color: var(--sklearn-color-text-on-default-background);\n",
       "}\n",
       "\n",
       "/* On hover, darken the color of the background */\n",
       "#sk-container-id-2 div.sk-label:hover label.sk-toggleable__label {\n",
       "  color: var(--sklearn-color-text);\n",
       "  background-color: var(--sklearn-color-unfitted-level-2);\n",
       "}\n",
       "\n",
       "/* Label box, darken color on hover, fitted */\n",
       "#sk-container-id-2 div.sk-label.fitted:hover label.sk-toggleable__label.fitted {\n",
       "  color: var(--sklearn-color-text);\n",
       "  background-color: var(--sklearn-color-fitted-level-2);\n",
       "}\n",
       "\n",
       "/* Estimator label */\n",
       "\n",
       "#sk-container-id-2 div.sk-label label {\n",
       "  font-family: monospace;\n",
       "  font-weight: bold;\n",
       "  display: inline-block;\n",
       "  line-height: 1.2em;\n",
       "}\n",
       "\n",
       "#sk-container-id-2 div.sk-label-container {\n",
       "  text-align: center;\n",
       "}\n",
       "\n",
       "/* Estimator-specific */\n",
       "#sk-container-id-2 div.sk-estimator {\n",
       "  font-family: monospace;\n",
       "  border: 1px dotted var(--sklearn-color-border-box);\n",
       "  border-radius: 0.25em;\n",
       "  box-sizing: border-box;\n",
       "  margin-bottom: 0.5em;\n",
       "  /* unfitted */\n",
       "  background-color: var(--sklearn-color-unfitted-level-0);\n",
       "}\n",
       "\n",
       "#sk-container-id-2 div.sk-estimator.fitted {\n",
       "  /* fitted */\n",
       "  background-color: var(--sklearn-color-fitted-level-0);\n",
       "}\n",
       "\n",
       "/* on hover */\n",
       "#sk-container-id-2 div.sk-estimator:hover {\n",
       "  /* unfitted */\n",
       "  background-color: var(--sklearn-color-unfitted-level-2);\n",
       "}\n",
       "\n",
       "#sk-container-id-2 div.sk-estimator.fitted:hover {\n",
       "  /* fitted */\n",
       "  background-color: var(--sklearn-color-fitted-level-2);\n",
       "}\n",
       "\n",
       "/* Specification for estimator info (e.g. \"i\" and \"?\") */\n",
       "\n",
       "/* Common style for \"i\" and \"?\" */\n",
       "\n",
       ".sk-estimator-doc-link,\n",
       "a:link.sk-estimator-doc-link,\n",
       "a:visited.sk-estimator-doc-link {\n",
       "  float: right;\n",
       "  font-size: smaller;\n",
       "  line-height: 1em;\n",
       "  font-family: monospace;\n",
       "  background-color: var(--sklearn-color-background);\n",
       "  border-radius: 1em;\n",
       "  height: 1em;\n",
       "  width: 1em;\n",
       "  text-decoration: none !important;\n",
       "  margin-left: 0.5em;\n",
       "  text-align: center;\n",
       "  /* unfitted */\n",
       "  border: var(--sklearn-color-unfitted-level-1) 1pt solid;\n",
       "  color: var(--sklearn-color-unfitted-level-1);\n",
       "}\n",
       "\n",
       ".sk-estimator-doc-link.fitted,\n",
       "a:link.sk-estimator-doc-link.fitted,\n",
       "a:visited.sk-estimator-doc-link.fitted {\n",
       "  /* fitted */\n",
       "  border: var(--sklearn-color-fitted-level-1) 1pt solid;\n",
       "  color: var(--sklearn-color-fitted-level-1);\n",
       "}\n",
       "\n",
       "/* On hover */\n",
       "div.sk-estimator:hover .sk-estimator-doc-link:hover,\n",
       ".sk-estimator-doc-link:hover,\n",
       "div.sk-label-container:hover .sk-estimator-doc-link:hover,\n",
       ".sk-estimator-doc-link:hover {\n",
       "  /* unfitted */\n",
       "  background-color: var(--sklearn-color-unfitted-level-3);\n",
       "  color: var(--sklearn-color-background);\n",
       "  text-decoration: none;\n",
       "}\n",
       "\n",
       "div.sk-estimator.fitted:hover .sk-estimator-doc-link.fitted:hover,\n",
       ".sk-estimator-doc-link.fitted:hover,\n",
       "div.sk-label-container:hover .sk-estimator-doc-link.fitted:hover,\n",
       ".sk-estimator-doc-link.fitted:hover {\n",
       "  /* fitted */\n",
       "  background-color: var(--sklearn-color-fitted-level-3);\n",
       "  color: var(--sklearn-color-background);\n",
       "  text-decoration: none;\n",
       "}\n",
       "\n",
       "/* Span, style for the box shown on hovering the info icon */\n",
       ".sk-estimator-doc-link span {\n",
       "  display: none;\n",
       "  z-index: 9999;\n",
       "  position: relative;\n",
       "  font-weight: normal;\n",
       "  right: .2ex;\n",
       "  padding: .5ex;\n",
       "  margin: .5ex;\n",
       "  width: min-content;\n",
       "  min-width: 20ex;\n",
       "  max-width: 50ex;\n",
       "  color: var(--sklearn-color-text);\n",
       "  box-shadow: 2pt 2pt 4pt #999;\n",
       "  /* unfitted */\n",
       "  background: var(--sklearn-color-unfitted-level-0);\n",
       "  border: .5pt solid var(--sklearn-color-unfitted-level-3);\n",
       "}\n",
       "\n",
       ".sk-estimator-doc-link.fitted span {\n",
       "  /* fitted */\n",
       "  background: var(--sklearn-color-fitted-level-0);\n",
       "  border: var(--sklearn-color-fitted-level-3);\n",
       "}\n",
       "\n",
       ".sk-estimator-doc-link:hover span {\n",
       "  display: block;\n",
       "}\n",
       "\n",
       "/* \"?\"-specific style due to the `<a>` HTML tag */\n",
       "\n",
       "#sk-container-id-2 a.estimator_doc_link {\n",
       "  float: right;\n",
       "  font-size: 1rem;\n",
       "  line-height: 1em;\n",
       "  font-family: monospace;\n",
       "  background-color: var(--sklearn-color-background);\n",
       "  border-radius: 1rem;\n",
       "  height: 1rem;\n",
       "  width: 1rem;\n",
       "  text-decoration: none;\n",
       "  /* unfitted */\n",
       "  color: var(--sklearn-color-unfitted-level-1);\n",
       "  border: var(--sklearn-color-unfitted-level-1) 1pt solid;\n",
       "}\n",
       "\n",
       "#sk-container-id-2 a.estimator_doc_link.fitted {\n",
       "  /* fitted */\n",
       "  border: var(--sklearn-color-fitted-level-1) 1pt solid;\n",
       "  color: var(--sklearn-color-fitted-level-1);\n",
       "}\n",
       "\n",
       "/* On hover */\n",
       "#sk-container-id-2 a.estimator_doc_link:hover {\n",
       "  /* unfitted */\n",
       "  background-color: var(--sklearn-color-unfitted-level-3);\n",
       "  color: var(--sklearn-color-background);\n",
       "  text-decoration: none;\n",
       "}\n",
       "\n",
       "#sk-container-id-2 a.estimator_doc_link.fitted:hover {\n",
       "  /* fitted */\n",
       "  background-color: var(--sklearn-color-fitted-level-3);\n",
       "}\n",
       "</style><div id=\"sk-container-id-2\" class=\"sk-top-container\"><div class=\"sk-text-repr-fallback\"><pre>Pipeline(steps=[(&#x27;vectorizer&#x27;, CountVectorizer(stop_words=&#x27;english&#x27;)),\n",
       "                (&#x27;models&#x27;,\n",
       "                 LogisticRegression(C=1, penalty=None, random_state=88))])</pre><b>In a Jupyter environment, please rerun this cell to show the HTML representation or trust the notebook. <br />On GitHub, the HTML representation is unable to render, please try loading this page with nbviewer.org.</b></div><div class=\"sk-container\" hidden><div class=\"sk-item sk-dashed-wrapped\"><div class=\"sk-label-container\"><div class=\"sk-label fitted sk-toggleable\"><input class=\"sk-toggleable__control sk-hidden--visually\" id=\"sk-estimator-id-5\" type=\"checkbox\" ><label for=\"sk-estimator-id-5\" class=\"sk-toggleable__label fitted sk-toggleable__label-arrow\"><div><div>Pipeline</div></div><div><a class=\"sk-estimator-doc-link fitted\" rel=\"noreferrer\" target=\"_blank\" href=\"https://scikit-learn.org/1.6/modules/generated/sklearn.pipeline.Pipeline.html\">?<span>Documentation for Pipeline</span></a><span class=\"sk-estimator-doc-link fitted\">i<span>Fitted</span></span></div></label><div class=\"sk-toggleable__content fitted\"><pre>Pipeline(steps=[(&#x27;vectorizer&#x27;, CountVectorizer(stop_words=&#x27;english&#x27;)),\n",
       "                (&#x27;models&#x27;,\n",
       "                 LogisticRegression(C=1, penalty=None, random_state=88))])</pre></div> </div></div><div class=\"sk-serial\"><div class=\"sk-item\"><div class=\"sk-estimator fitted sk-toggleable\"><input class=\"sk-toggleable__control sk-hidden--visually\" id=\"sk-estimator-id-6\" type=\"checkbox\" ><label for=\"sk-estimator-id-6\" class=\"sk-toggleable__label fitted sk-toggleable__label-arrow\"><div><div>CountVectorizer</div></div><div><a class=\"sk-estimator-doc-link fitted\" rel=\"noreferrer\" target=\"_blank\" href=\"https://scikit-learn.org/1.6/modules/generated/sklearn.feature_extraction.text.CountVectorizer.html\">?<span>Documentation for CountVectorizer</span></a></div></label><div class=\"sk-toggleable__content fitted\"><pre>CountVectorizer(stop_words=&#x27;english&#x27;)</pre></div> </div></div><div class=\"sk-item\"><div class=\"sk-estimator fitted sk-toggleable\"><input class=\"sk-toggleable__control sk-hidden--visually\" id=\"sk-estimator-id-7\" type=\"checkbox\" ><label for=\"sk-estimator-id-7\" class=\"sk-toggleable__label fitted sk-toggleable__label-arrow\"><div><div>LogisticRegression</div></div><div><a class=\"sk-estimator-doc-link fitted\" rel=\"noreferrer\" target=\"_blank\" href=\"https://scikit-learn.org/1.6/modules/generated/sklearn.linear_model.LogisticRegression.html\">?<span>Documentation for LogisticRegression</span></a></div></label><div class=\"sk-toggleable__content fitted\"><pre>LogisticRegression(C=1, penalty=None, random_state=88)</pre></div> </div></div></div></div></div></div>"
      ],
      "text/plain": [
       "Pipeline(steps=[('vectorizer', CountVectorizer(stop_words='english')),\n",
       "                ('models',\n",
       "                 LogisticRegression(C=1, penalty=None, random_state=88))])"
      ]
     },
     "execution_count": 16,
     "metadata": {},
     "output_type": "execute_result"
    }
   ],
   "source": [
    "warnings.filterwarnings('ignore')\n",
    "best_suite = cv_train.best_estimator_\n",
    "best_suite.fit(corpus_train, y_train)"
   ]
  },
  {
   "cell_type": "code",
   "execution_count": 17,
   "metadata": {},
   "outputs": [
    {
     "name": "stdout",
     "output_type": "stream",
     "text": [
      "F1-мера обученной модели на тестовых данных: 0.75\n"
     ]
    }
   ],
   "source": [
    "corpus_test = X_test['lemm_text'].values\n",
    "y_pred = best_suite.predict(corpus_test)\n",
    "f1 = f1_score(y_test, y_pred)\n",
    "print(f'F1-мера обученной модели на тестовых данных: {round(f1,2)}')"
   ]
  },
  {
   "cell_type": "markdown",
   "metadata": {},
   "source": [
    "## Выводы"
   ]
  },
  {
   "cell_type": "markdown",
   "metadata": {},
   "source": [
    "В процессе работы над проектом мы выполнили следующие шаги:\n",
    "* Предобработка данных\n",
    "* Трансформация данных для обучения\n",
    "* Настройка пайплайнов\n",
    "* Подбор лучшей модели и ее гиперпараметров\n",
    "* Обучение лучшей модели и проверка ее на тестовых данных\n",
    "\n",
    "В процессе предобработки данных, мы очистили датасет от ненужных данных, а также почистили текст от спецсимволов и другого мусора.\n",
    "\n",
    "Обработанные таким образом данные мы подвергли лемматизации при помощи библиотеки spaCy, после чего преобразовали в корпус слов для передачи в пайплайн обучения.\n",
    "\n",
    "При построении пайплайна был добавлен шаг векторизации входящего корпуса слов при помощи инструмента CountVectorizer.\n",
    "\n",
    "Для подбора гиперпараметров пайплайну были переданы несколько моделей:\n",
    "- DecisionTreeClassifier\n",
    "- LogisticRegression\n",
    "- KNeighborsClassifier\n",
    "- LGBMClassifier\n",
    "\n",
    "Подбор гиперпараметров выполнялся методом Randomized Search с кросс-валидацией.\n",
    "\n",
    "Лучшая модель по результатам подбора гиперпараметров показала значение контрольной метрики F1 на тестовых данных выше целевого порога 0,75 согласно требованиям."
   ]
  }
 ],
 "metadata": {
  "ExecuteTimeLog": [
   {
    "duration": 2450,
    "start_time": "2025-05-18T06:23:29.329Z"
   },
   {
    "duration": 1007,
    "start_time": "2025-05-18T06:23:41.680Z"
   },
   {
    "duration": 18,
    "start_time": "2025-05-18T06:23:45.818Z"
   },
   {
    "duration": 34,
    "start_time": "2025-05-18T06:25:15.026Z"
   },
   {
    "duration": 149,
    "start_time": "2025-05-18T06:26:02.541Z"
   },
   {
    "duration": 12,
    "start_time": "2025-05-18T06:26:14.837Z"
   },
   {
    "duration": 10,
    "start_time": "2025-05-18T06:27:18.068Z"
   },
   {
    "duration": 5,
    "start_time": "2025-05-18T06:34:12.932Z"
   },
   {
    "duration": 4831,
    "start_time": "2025-05-21T10:26:09.691Z"
   },
   {
    "duration": 19,
    "start_time": "2025-05-21T10:28:38.726Z"
   },
   {
    "duration": 21,
    "start_time": "2025-05-21T10:28:47.701Z"
   },
   {
    "duration": 23528,
    "start_time": "2025-05-21T10:29:24.853Z"
   },
   {
    "duration": 436,
    "start_time": "2025-05-21T10:34:30.373Z"
   },
   {
    "duration": 4034,
    "start_time": "2025-05-21T10:34:36.623Z"
   },
   {
    "duration": 2964,
    "start_time": "2025-05-21T10:36:45.931Z"
   },
   {
    "duration": 3,
    "start_time": "2025-05-21T10:37:12.722Z"
   },
   {
    "duration": 3224,
    "start_time": "2025-05-21T10:37:42.098Z"
   },
   {
    "duration": 19972,
    "start_time": "2025-05-21T10:38:27.545Z"
   },
   {
    "duration": 1228,
    "start_time": "2025-05-21T10:40:47.232Z"
   },
   {
    "duration": 8,
    "start_time": "2025-05-21T10:40:59.343Z"
   },
   {
    "duration": 96,
    "start_time": "2025-05-21T10:41:31.384Z"
   },
   {
    "duration": 4,
    "start_time": "2025-05-21T10:41:48.731Z"
   },
   {
    "duration": 107,
    "start_time": "2025-05-21T10:42:48.434Z"
   },
   {
    "duration": 4,
    "start_time": "2025-05-21T10:42:50.952Z"
   },
   {
    "duration": 228,
    "start_time": "2025-05-21T10:45:20.120Z"
   },
   {
    "duration": 19,
    "start_time": "2025-05-21T10:46:09.912Z"
   },
   {
    "duration": 244537,
    "start_time": "2025-05-21T10:46:36.838Z"
   },
   {
    "duration": 45,
    "start_time": "2025-05-21T10:51:48.400Z"
   },
   {
    "duration": 3869,
    "start_time": "2025-05-21T10:52:18.200Z"
   },
   {
    "duration": 2353,
    "start_time": "2025-05-21T10:52:30.151Z"
   },
   {
    "duration": 1428,
    "start_time": "2025-05-21T10:52:45.135Z"
   },
   {
    "duration": 29,
    "start_time": "2025-05-21T10:54:25.606Z"
   },
   {
    "duration": 3,
    "start_time": "2025-05-21T10:56:17.369Z"
   },
   {
    "duration": 20,
    "start_time": "2025-05-21T10:56:21.134Z"
   },
   {
    "duration": 4,
    "start_time": "2025-05-21T10:56:32.097Z"
   },
   {
    "duration": 3,
    "start_time": "2025-05-21T10:57:21.409Z"
   },
   {
    "duration": 140,
    "start_time": "2025-05-21T10:57:48.776Z"
   },
   {
    "duration": 135,
    "start_time": "2025-05-21T10:58:19.415Z"
   },
   {
    "duration": 7597,
    "start_time": "2025-05-21T10:59:36.610Z"
   },
   {
    "duration": 227287,
    "start_time": "2025-05-21T11:00:22.422Z"
   },
   {
    "duration": 877,
    "start_time": "2025-05-21T11:04:55.295Z"
   },
   {
    "duration": 3659,
    "start_time": "2025-05-21T11:12:11.514Z"
   },
   {
    "duration": 446,
    "start_time": "2025-05-21T11:13:23.668Z"
   },
   {
    "duration": 2,
    "start_time": "2025-05-21T11:13:25.669Z"
   },
   {
    "duration": 5010,
    "start_time": "2025-05-21T11:13:27.868Z"
   },
   {
    "duration": 3396,
    "start_time": "2025-05-21T11:13:34.148Z"
   },
   {
    "duration": 2895,
    "start_time": "2025-05-21T11:13:39.087Z"
   },
   {
    "duration": 19078,
    "start_time": "2025-05-21T11:17:22.856Z"
   },
   {
    "duration": 7723,
    "start_time": "2025-05-21T11:23:00.728Z"
   },
   {
    "duration": 6829,
    "start_time": "2025-05-21T11:23:13.448Z"
   },
   {
    "duration": 13906,
    "start_time": "2025-05-21T11:24:29.910Z"
   },
   {
    "duration": 8182,
    "start_time": "2025-05-21T11:30:23.241Z"
   },
   {
    "duration": 10220,
    "start_time": "2025-05-21T11:34:50.032Z"
   },
   {
    "duration": 13412,
    "start_time": "2025-05-21T11:35:05.735Z"
   },
   {
    "duration": 3839,
    "start_time": "2025-05-21T11:40:09.532Z"
   },
   {
    "duration": 8211,
    "start_time": "2025-05-21T11:41:32.217Z"
   },
   {
    "duration": 3257,
    "start_time": "2025-05-21T11:42:17.183Z"
   },
   {
    "duration": 9,
    "start_time": "2025-05-21T11:42:23.766Z"
   },
   {
    "duration": 155087,
    "start_time": "2025-05-21T11:42:27.535Z"
   },
   {
    "duration": 3521,
    "start_time": "2025-05-21T11:45:19.042Z"
   },
   {
    "duration": 910,
    "start_time": "2025-05-21T11:45:30.474Z"
   },
   {
    "duration": 42,
    "start_time": "2025-05-21T11:45:34.465Z"
   },
   {
    "duration": 4,
    "start_time": "2025-05-21T11:45:38.163Z"
   },
   {
    "duration": 22,
    "start_time": "2025-05-21T11:45:40.927Z"
   },
   {
    "duration": 121,
    "start_time": "2025-05-21T11:45:43.298Z"
   },
   {
    "duration": 998,
    "start_time": "2025-05-21T11:49:59.438Z"
   },
   {
    "duration": 89,
    "start_time": "2025-05-21T11:50:46.131Z"
   },
   {
    "duration": 24,
    "start_time": "2025-05-21T11:51:11.379Z"
   },
   {
    "duration": 11,
    "start_time": "2025-05-21T11:53:29.088Z"
   },
   {
    "duration": 23,
    "start_time": "2025-05-21T11:53:37.376Z"
   },
   {
    "duration": 771,
    "start_time": "2025-05-21T11:54:18.310Z"
   },
   {
    "duration": 4,
    "start_time": "2025-05-21T11:54:21.719Z"
   },
   {
    "duration": 149273,
    "start_time": "2025-05-21T11:54:33.440Z"
   },
   {
    "duration": 817,
    "start_time": "2025-05-21T11:57:23.475Z"
   },
   {
    "duration": 23,
    "start_time": "2025-05-21T11:57:32.091Z"
   },
   {
    "duration": 7,
    "start_time": "2025-05-21T11:57:38.875Z"
   },
   {
    "duration": 79,
    "start_time": "2025-05-21T11:57:44.219Z"
   },
   {
    "duration": 9070,
    "start_time": "2025-05-21T13:28:29.778Z"
   },
   {
    "duration": 8661,
    "start_time": "2025-05-21T13:28:38.851Z"
   },
   {
    "duration": 948,
    "start_time": "2025-05-21T13:28:47.514Z"
   },
   {
    "duration": 10,
    "start_time": "2025-05-21T13:28:48.465Z"
   },
   {
    "duration": 792,
    "start_time": "2025-05-21T13:28:48.477Z"
   },
   {
    "duration": 4,
    "start_time": "2025-05-21T13:28:49.271Z"
   },
   {
    "duration": 150184,
    "start_time": "2025-05-21T13:28:49.277Z"
   },
   {
    "duration": 3780,
    "start_time": "2025-05-21T13:31:19.463Z"
   },
   {
    "duration": 983,
    "start_time": "2025-05-21T13:31:23.245Z"
   },
   {
    "duration": 12,
    "start_time": "2025-05-21T13:31:24.230Z"
   },
   {
    "duration": 7,
    "start_time": "2025-05-21T13:31:24.244Z"
   },
   {
    "duration": 11,
    "start_time": "2025-05-21T13:31:24.253Z"
   },
   {
    "duration": 424,
    "start_time": "2025-05-21T13:31:24.266Z"
   },
   {
    "duration": 1143,
    "start_time": "2025-05-22T11:34:39.372Z"
   },
   {
    "duration": 986,
    "start_time": "2025-05-22T11:34:43.615Z"
   },
   {
    "duration": 11,
    "start_time": "2025-05-22T11:34:48.342Z"
   },
   {
    "duration": 113,
    "start_time": "2025-05-22T11:35:02.638Z"
   },
   {
    "duration": 10,
    "start_time": "2025-05-22T11:35:23.726Z"
   },
   {
    "duration": 934,
    "start_time": "2025-05-22T11:37:09.719Z"
   },
   {
    "duration": 4,
    "start_time": "2025-05-22T11:39:33.935Z"
   },
   {
    "duration": 751,
    "start_time": "2025-05-22T11:39:49.272Z"
   },
   {
    "duration": 93,
    "start_time": "2025-05-22T11:44:50.657Z"
   },
   {
    "duration": 19,
    "start_time": "2025-05-22T11:45:11.313Z"
   },
   {
    "duration": 3,
    "start_time": "2025-05-22T11:45:31.449Z"
   },
   {
    "duration": 4,
    "start_time": "2025-05-22T11:45:39.913Z"
   },
   {
    "duration": 3,
    "start_time": "2025-05-22T11:45:54.585Z"
   },
   {
    "duration": 4,
    "start_time": "2025-05-22T11:45:57.520Z"
   },
   {
    "duration": 2,
    "start_time": "2025-05-22T11:49:08.998Z"
   },
   {
    "duration": 4,
    "start_time": "2025-05-22T11:49:11.002Z"
   },
   {
    "duration": 3,
    "start_time": "2025-05-22T11:49:58.795Z"
   },
   {
    "duration": 4,
    "start_time": "2025-05-22T11:50:01.331Z"
   },
   {
    "duration": 3,
    "start_time": "2025-05-22T11:59:37.654Z"
   },
   {
    "duration": 3,
    "start_time": "2025-05-22T11:59:39.903Z"
   },
   {
    "duration": 2,
    "start_time": "2025-05-22T11:59:53.119Z"
   },
   {
    "duration": 4,
    "start_time": "2025-05-22T11:59:56.734Z"
   },
   {
    "duration": 3,
    "start_time": "2025-05-22T12:01:30.180Z"
   },
   {
    "duration": 4,
    "start_time": "2025-05-22T12:01:32.804Z"
   },
   {
    "duration": 6,
    "start_time": "2025-05-22T12:03:11.360Z"
   },
   {
    "duration": 3,
    "start_time": "2025-05-22T12:04:51.592Z"
   },
   {
    "duration": 4,
    "start_time": "2025-05-22T12:04:59.984Z"
   },
   {
    "duration": 3,
    "start_time": "2025-05-22T12:05:34.718Z"
   },
   {
    "duration": 3,
    "start_time": "2025-05-22T12:05:42.039Z"
   },
   {
    "duration": 3,
    "start_time": "2025-05-22T12:07:43.116Z"
   },
   {
    "duration": 3,
    "start_time": "2025-05-22T12:07:46.029Z"
   },
   {
    "duration": 2,
    "start_time": "2025-05-22T12:07:51.012Z"
   },
   {
    "duration": 4,
    "start_time": "2025-05-22T12:07:53.252Z"
   },
   {
    "duration": 4,
    "start_time": "2025-05-22T12:08:46.107Z"
   },
   {
    "duration": 9,
    "start_time": "2025-05-22T12:10:10.810Z"
   },
   {
    "duration": 3,
    "start_time": "2025-05-22T12:10:17.945Z"
   },
   {
    "duration": 4,
    "start_time": "2025-05-22T12:10:19.905Z"
   },
   {
    "duration": 3,
    "start_time": "2025-05-22T12:10:33.808Z"
   },
   {
    "duration": 4,
    "start_time": "2025-05-22T12:10:35.944Z"
   },
   {
    "duration": 4,
    "start_time": "2025-05-22T12:10:40.858Z"
   },
   {
    "duration": 4,
    "start_time": "2025-05-22T12:10:57.929Z"
   },
   {
    "duration": 5,
    "start_time": "2025-05-22T12:11:10.487Z"
   },
   {
    "duration": 4,
    "start_time": "2025-05-22T12:14:14.965Z"
   },
   {
    "duration": 4,
    "start_time": "2025-05-22T12:15:17.812Z"
   },
   {
    "duration": 5,
    "start_time": "2025-05-22T12:15:30.942Z"
   },
   {
    "duration": 5,
    "start_time": "2025-05-22T12:15:51.729Z"
   },
   {
    "duration": 3,
    "start_time": "2025-05-22T12:16:12.730Z"
   },
   {
    "duration": 4,
    "start_time": "2025-05-22T12:16:22.265Z"
   },
   {
    "duration": 4,
    "start_time": "2025-05-22T12:16:30.257Z"
   },
   {
    "duration": 5,
    "start_time": "2025-05-22T12:16:34.544Z"
   },
   {
    "duration": 4,
    "start_time": "2025-05-22T12:20:08.756Z"
   },
   {
    "duration": 3,
    "start_time": "2025-05-22T12:23:55.271Z"
   },
   {
    "duration": 5,
    "start_time": "2025-05-22T12:23:56.416Z"
   },
   {
    "duration": 3,
    "start_time": "2025-05-22T12:24:09.927Z"
   },
   {
    "duration": 6,
    "start_time": "2025-05-22T12:24:10.984Z"
   },
   {
    "duration": 3,
    "start_time": "2025-05-22T12:24:40.551Z"
   },
   {
    "duration": 5,
    "start_time": "2025-05-22T12:24:56.510Z"
   },
   {
    "duration": 4,
    "start_time": "2025-05-22T12:25:13.566Z"
   },
   {
    "duration": 3,
    "start_time": "2025-05-22T12:26:10.865Z"
   },
   {
    "duration": 5,
    "start_time": "2025-05-22T12:26:13.188Z"
   },
   {
    "duration": 3,
    "start_time": "2025-05-22T12:26:19.908Z"
   },
   {
    "duration": 5,
    "start_time": "2025-05-22T12:26:21.932Z"
   },
   {
    "duration": 3,
    "start_time": "2025-05-22T12:26:31.140Z"
   },
   {
    "duration": 5,
    "start_time": "2025-05-22T12:26:33.141Z"
   },
   {
    "duration": 3,
    "start_time": "2025-05-22T12:27:13.932Z"
   },
   {
    "duration": 4,
    "start_time": "2025-05-22T12:27:16.435Z"
   },
   {
    "duration": 4,
    "start_time": "2025-05-22T12:27:36.323Z"
   },
   {
    "duration": 4,
    "start_time": "2025-05-22T12:27:48.451Z"
   },
   {
    "duration": 6,
    "start_time": "2025-05-22T12:28:07.242Z"
   },
   {
    "duration": 4,
    "start_time": "2025-05-22T12:29:05.921Z"
   },
   {
    "duration": 1007,
    "start_time": "2025-05-22T12:30:04.552Z"
   },
   {
    "duration": 129,
    "start_time": "2025-05-22T12:30:20.911Z"
   },
   {
    "duration": 538,
    "start_time": "2025-05-22T12:30:25.184Z"
   },
   {
    "duration": 109,
    "start_time": "2025-05-22T12:30:43.991Z"
   },
   {
    "duration": 607,
    "start_time": "2025-05-22T12:31:14.334Z"
   },
   {
    "duration": 907,
    "start_time": "2025-05-22T12:31:39.750Z"
   },
   {
    "duration": 8,
    "start_time": "2025-05-22T12:31:51.678Z"
   },
   {
    "duration": 8,
    "start_time": "2025-05-22T12:31:57.701Z"
   },
   {
    "duration": 4,
    "start_time": "2025-05-22T12:32:59.332Z"
   },
   {
    "duration": 14,
    "start_time": "2025-05-22T12:38:28.078Z"
   },
   {
    "duration": 118,
    "start_time": "2025-05-22T12:40:48.315Z"
   },
   {
    "duration": 11,
    "start_time": "2025-05-22T12:40:55.186Z"
   },
   {
    "duration": 16,
    "start_time": "2025-05-22T12:41:15.250Z"
   },
   {
    "duration": 33,
    "start_time": "2025-05-22T12:49:03.336Z"
   },
   {
    "duration": 30,
    "start_time": "2025-05-22T12:49:21.287Z"
   },
   {
    "duration": 12,
    "start_time": "2025-05-22T12:49:26.101Z"
   },
   {
    "duration": 4,
    "start_time": "2025-05-22T12:50:01.031Z"
   },
   {
    "duration": 6,
    "start_time": "2025-05-22T12:51:20.525Z"
   },
   {
    "duration": 4,
    "start_time": "2025-05-22T12:52:22.636Z"
   },
   {
    "duration": 5,
    "start_time": "2025-05-22T12:52:25.164Z"
   },
   {
    "duration": 4,
    "start_time": "2025-05-22T12:53:22.795Z"
   },
   {
    "duration": 5,
    "start_time": "2025-05-22T12:54:49.168Z"
   },
   {
    "duration": 4,
    "start_time": "2025-05-22T12:56:09.014Z"
   },
   {
    "duration": 5,
    "start_time": "2025-05-22T12:56:11.615Z"
   },
   {
    "duration": 4,
    "start_time": "2025-05-22T12:57:01.630Z"
   },
   {
    "duration": 5,
    "start_time": "2025-05-22T12:57:04.014Z"
   },
   {
    "duration": 3,
    "start_time": "2025-05-22T12:57:10.726Z"
   },
   {
    "duration": 4,
    "start_time": "2025-05-22T12:57:15.438Z"
   },
   {
    "duration": 5,
    "start_time": "2025-05-22T12:57:22.765Z"
   },
   {
    "duration": 2184,
    "start_time": "2025-05-22T12:59:21.604Z"
   },
   {
    "duration": 16,
    "start_time": "2025-05-22T12:59:30.894Z"
   },
   {
    "duration": 24,
    "start_time": "2025-05-22T13:01:39.696Z"
   },
   {
    "duration": 4,
    "start_time": "2025-05-22T13:02:21.456Z"
   },
   {
    "duration": 719,
    "start_time": "2025-05-22T13:02:51.408Z"
   },
   {
    "duration": 227,
    "start_time": "2025-05-22T13:06:52.457Z"
   },
   {
    "duration": 4,
    "start_time": "2025-05-22T13:14:25.824Z"
   },
   {
    "duration": 26714,
    "start_time": "2025-05-22T13:14:29.136Z"
   },
   {
    "duration": 20,
    "start_time": "2025-05-22T13:15:06.111Z"
   },
   {
    "duration": 39,
    "start_time": "2025-05-22T13:16:02.094Z"
   },
   {
    "duration": 25219,
    "start_time": "2025-05-22T13:16:51.676Z"
   },
   {
    "duration": 5,
    "start_time": "2025-05-22T13:17:21.012Z"
   },
   {
    "duration": 25482,
    "start_time": "2025-05-22T13:17:55.835Z"
   },
   {
    "duration": 4,
    "start_time": "2025-05-22T13:18:24.707Z"
   },
   {
    "duration": 294,
    "start_time": "2025-05-22T13:21:12.319Z"
   },
   {
    "duration": 182,
    "start_time": "2025-05-22T13:22:02.463Z"
   },
   {
    "duration": 268,
    "start_time": "2025-05-22T13:22:20.069Z"
   },
   {
    "duration": 6,
    "start_time": "2025-05-22T13:22:34.861Z"
   },
   {
    "duration": 10,
    "start_time": "2025-05-22T13:22:57.045Z"
   },
   {
    "duration": 6,
    "start_time": "2025-05-22T13:23:36.708Z"
   },
   {
    "duration": 9,
    "start_time": "2025-05-22T13:23:57.857Z"
   },
   {
    "duration": 1658,
    "start_time": "2025-05-22T13:25:29.718Z"
   },
   {
    "duration": 1066,
    "start_time": "2025-05-22T13:25:31.378Z"
   },
   {
    "duration": 12,
    "start_time": "2025-05-22T13:25:32.445Z"
   },
   {
    "duration": 14,
    "start_time": "2025-05-22T13:25:32.460Z"
   },
   {
    "duration": 119,
    "start_time": "2025-05-22T13:25:32.477Z"
   },
   {
    "duration": 17,
    "start_time": "2025-05-22T13:25:32.598Z"
   },
   {
    "duration": 63,
    "start_time": "2025-05-22T13:25:32.616Z"
   },
   {
    "duration": 2134,
    "start_time": "2025-05-22T13:25:32.680Z"
   },
   {
    "duration": 26585,
    "start_time": "2025-05-22T13:25:34.815Z"
   },
   {
    "duration": 231,
    "start_time": "2025-05-22T13:26:01.402Z"
   },
   {
    "duration": 51,
    "start_time": "2025-05-22T13:26:26.424Z"
   },
   {
    "duration": 1305,
    "start_time": "2025-05-22T13:26:40.674Z"
   },
   {
    "duration": 995,
    "start_time": "2025-05-22T13:26:41.982Z"
   },
   {
    "duration": 11,
    "start_time": "2025-05-22T13:26:42.979Z"
   },
   {
    "duration": 16,
    "start_time": "2025-05-22T13:26:42.992Z"
   },
   {
    "duration": 101,
    "start_time": "2025-05-22T13:26:43.010Z"
   },
   {
    "duration": 15,
    "start_time": "2025-05-22T13:26:43.113Z"
   },
   {
    "duration": 53,
    "start_time": "2025-05-22T13:26:43.138Z"
   },
   {
    "duration": 2067,
    "start_time": "2025-05-22T13:26:43.193Z"
   },
   {
    "duration": 27647,
    "start_time": "2025-05-22T13:26:45.262Z"
   },
   {
    "duration": 237,
    "start_time": "2025-05-22T13:27:12.912Z"
   },
   {
    "duration": 3694,
    "start_time": "2025-05-22T13:27:21.967Z"
   },
   {
    "duration": 1467,
    "start_time": "2025-05-22T13:28:40.542Z"
   },
   {
    "duration": 1085,
    "start_time": "2025-05-22T13:28:42.011Z"
   },
   {
    "duration": 16,
    "start_time": "2025-05-22T13:28:43.099Z"
   },
   {
    "duration": 22,
    "start_time": "2025-05-22T13:28:43.117Z"
   },
   {
    "duration": 108,
    "start_time": "2025-05-22T13:28:43.142Z"
   },
   {
    "duration": 16,
    "start_time": "2025-05-22T13:28:43.252Z"
   },
   {
    "duration": 56,
    "start_time": "2025-05-22T13:28:43.269Z"
   },
   {
    "duration": 2157,
    "start_time": "2025-05-22T13:28:43.327Z"
   },
   {
    "duration": 27400,
    "start_time": "2025-05-22T13:28:45.486Z"
   },
   {
    "duration": 224,
    "start_time": "2025-05-22T13:29:12.888Z"
   },
   {
    "duration": 3366,
    "start_time": "2025-05-22T13:29:13.113Z"
   },
   {
    "duration": 48,
    "start_time": "2025-05-22T13:35:57.044Z"
   },
   {
    "duration": 1396,
    "start_time": "2025-05-22T13:36:02.324Z"
   },
   {
    "duration": 1008,
    "start_time": "2025-05-22T13:36:03.723Z"
   },
   {
    "duration": 15,
    "start_time": "2025-05-22T13:36:04.732Z"
   },
   {
    "duration": 31,
    "start_time": "2025-05-22T13:36:04.748Z"
   },
   {
    "duration": 111,
    "start_time": "2025-05-22T13:36:04.781Z"
   },
   {
    "duration": 14,
    "start_time": "2025-05-22T13:36:04.894Z"
   },
   {
    "duration": 57,
    "start_time": "2025-05-22T13:36:04.910Z"
   },
   {
    "duration": 2030,
    "start_time": "2025-05-22T13:36:04.969Z"
   },
   {
    "duration": 26895,
    "start_time": "2025-05-22T13:36:07.000Z"
   },
   {
    "duration": 215,
    "start_time": "2025-05-22T13:36:33.897Z"
   },
   {
    "duration": 3573,
    "start_time": "2025-05-22T13:36:34.113Z"
   },
   {
    "duration": 4,
    "start_time": "2025-05-22T13:36:53.691Z"
   },
   {
    "duration": 92,
    "start_time": "2025-05-22T13:37:39.370Z"
   },
   {
    "duration": 109,
    "start_time": "2025-05-22T13:37:49.090Z"
   },
   {
    "duration": 5,
    "start_time": "2025-05-22T13:39:19.407Z"
   },
   {
    "duration": 942,
    "start_time": "2025-05-22T13:39:19.415Z"
   },
   {
    "duration": 12,
    "start_time": "2025-05-22T13:39:20.360Z"
   },
   {
    "duration": 26,
    "start_time": "2025-05-22T13:39:20.373Z"
   },
   {
    "duration": 89,
    "start_time": "2025-05-22T13:39:20.402Z"
   },
   {
    "duration": 14,
    "start_time": "2025-05-22T13:39:20.493Z"
   },
   {
    "duration": 152,
    "start_time": "2025-05-22T13:39:20.509Z"
   },
   {
    "duration": 1996,
    "start_time": "2025-05-22T13:39:20.663Z"
   },
   {
    "duration": 8133,
    "start_time": "2025-05-22T13:39:22.661Z"
   },
   {
    "duration": 219,
    "start_time": "2025-05-22T13:39:30.797Z"
   },
   {
    "duration": 1121,
    "start_time": "2025-05-22T13:39:31.018Z"
   },
   {
    "duration": 153,
    "start_time": "2025-05-22T13:39:34.952Z"
   },
   {
    "duration": 480,
    "start_time": "2025-05-22T13:40:42.526Z"
   },
   {
    "duration": 4,
    "start_time": "2025-05-22T13:40:54.978Z"
   },
   {
    "duration": 923,
    "start_time": "2025-05-22T13:40:54.984Z"
   },
   {
    "duration": 11,
    "start_time": "2025-05-22T13:40:55.909Z"
   },
   {
    "duration": 18,
    "start_time": "2025-05-22T13:40:55.921Z"
   },
   {
    "duration": 89,
    "start_time": "2025-05-22T13:40:55.941Z"
   },
   {
    "duration": 15,
    "start_time": "2025-05-22T13:40:56.039Z"
   },
   {
    "duration": 33,
    "start_time": "2025-05-22T13:40:56.056Z"
   },
   {
    "duration": 2698,
    "start_time": "2025-05-22T13:40:56.091Z"
   },
   {
    "duration": 26857,
    "start_time": "2025-05-22T13:40:58.791Z"
   },
   {
    "duration": 239,
    "start_time": "2025-05-22T13:41:25.650Z"
   },
   {
    "duration": 3582,
    "start_time": "2025-05-22T13:41:25.891Z"
   },
   {
    "duration": 116,
    "start_time": "2025-05-22T13:41:32.629Z"
   },
   {
    "duration": 6,
    "start_time": "2025-05-22T13:42:21.671Z"
   },
   {
    "duration": 4,
    "start_time": "2025-05-22T13:42:34.083Z"
   },
   {
    "duration": 4,
    "start_time": "2025-05-22T13:42:51.099Z"
   },
   {
    "duration": 5,
    "start_time": "2025-05-22T13:42:55.619Z"
   },
   {
    "duration": 4,
    "start_time": "2025-05-22T13:43:22.875Z"
   },
   {
    "duration": 4,
    "start_time": "2025-05-22T13:46:04.595Z"
   },
   {
    "duration": 993,
    "start_time": "2025-05-22T13:46:04.601Z"
   },
   {
    "duration": 11,
    "start_time": "2025-05-22T13:46:05.595Z"
   },
   {
    "duration": 67,
    "start_time": "2025-05-22T13:46:05.608Z"
   },
   {
    "duration": 140,
    "start_time": "2025-05-22T13:46:05.677Z"
   },
   {
    "duration": 13,
    "start_time": "2025-05-22T13:46:05.819Z"
   },
   {
    "duration": 72,
    "start_time": "2025-05-22T13:46:05.839Z"
   },
   {
    "duration": 3032,
    "start_time": "2025-05-22T13:46:05.913Z"
   },
   {
    "duration": 19,
    "start_time": "2025-05-22T13:46:08.947Z"
   },
   {
    "duration": 12,
    "start_time": "2025-05-22T13:46:15.687Z"
   },
   {
    "duration": 28133,
    "start_time": "2025-05-22T13:46:32.334Z"
   },
   {
    "duration": 234,
    "start_time": "2025-05-22T13:47:03.127Z"
   },
   {
    "duration": 3461,
    "start_time": "2025-05-22T13:47:05.935Z"
   },
   {
    "duration": 118,
    "start_time": "2025-05-22T13:47:12.230Z"
   },
   {
    "duration": 109,
    "start_time": "2025-05-22T13:47:50.469Z"
   },
   {
    "duration": 1361,
    "start_time": "2025-05-22T13:48:43.191Z"
   },
   {
    "duration": 1039,
    "start_time": "2025-05-22T13:48:44.555Z"
   },
   {
    "duration": 12,
    "start_time": "2025-05-22T13:48:45.595Z"
   },
   {
    "duration": 31,
    "start_time": "2025-05-22T13:48:45.608Z"
   },
   {
    "duration": 121,
    "start_time": "2025-05-22T13:48:45.642Z"
   },
   {
    "duration": 16,
    "start_time": "2025-05-22T13:48:45.764Z"
   },
   {
    "duration": 39,
    "start_time": "2025-05-22T13:48:45.782Z"
   },
   {
    "duration": 3059,
    "start_time": "2025-05-22T13:48:45.823Z"
   },
   {
    "duration": 27421,
    "start_time": "2025-05-22T13:48:48.884Z"
   },
   {
    "duration": 224,
    "start_time": "2025-05-22T13:49:16.308Z"
   },
   {
    "duration": 3474,
    "start_time": "2025-05-22T13:49:16.534Z"
   },
   {
    "duration": 106,
    "start_time": "2025-05-22T13:49:20.010Z"
   },
   {
    "duration": 48,
    "start_time": "2025-05-22T13:49:56.650Z"
   },
   {
    "duration": 7,
    "start_time": "2025-05-22T13:50:01.426Z"
   },
   {
    "duration": 7,
    "start_time": "2025-05-22T13:50:07.290Z"
   },
   {
    "duration": 1503,
    "start_time": "2025-05-22T13:51:50.109Z"
   },
   {
    "duration": 1064,
    "start_time": "2025-05-22T13:51:51.614Z"
   },
   {
    "duration": 12,
    "start_time": "2025-05-22T13:51:52.679Z"
   },
   {
    "duration": 51,
    "start_time": "2025-05-22T13:51:52.693Z"
   },
   {
    "duration": 144,
    "start_time": "2025-05-22T13:51:52.746Z"
   },
   {
    "duration": 16,
    "start_time": "2025-05-22T13:51:52.892Z"
   },
   {
    "duration": 50,
    "start_time": "2025-05-22T13:51:52.909Z"
   },
   {
    "duration": 3110,
    "start_time": "2025-05-22T13:51:52.962Z"
   },
   {
    "duration": 27052,
    "start_time": "2025-05-22T13:51:56.073Z"
   },
   {
    "duration": 228,
    "start_time": "2025-05-22T13:52:23.127Z"
   },
   {
    "duration": 3416,
    "start_time": "2025-05-22T13:52:23.357Z"
   },
   {
    "duration": 1420,
    "start_time": "2025-05-23T08:17:08.926Z"
   },
   {
    "duration": 1092,
    "start_time": "2025-05-23T08:17:10.348Z"
   },
   {
    "duration": 12,
    "start_time": "2025-05-23T08:17:11.442Z"
   },
   {
    "duration": 122,
    "start_time": "2025-05-23T08:17:11.455Z"
   },
   {
    "duration": 21,
    "start_time": "2025-05-23T08:17:11.579Z"
   },
   {
    "duration": 56,
    "start_time": "2025-05-23T08:17:11.602Z"
   },
   {
    "duration": 2945,
    "start_time": "2025-05-23T08:17:11.660Z"
   },
   {
    "duration": 27653,
    "start_time": "2025-05-23T08:17:14.607Z"
   },
   {
    "duration": 228,
    "start_time": "2025-05-23T08:17:42.263Z"
   },
   {
    "duration": 3376,
    "start_time": "2025-05-23T08:17:42.493Z"
   },
   {
    "duration": 1311,
    "start_time": "2025-05-23T08:18:09.695Z"
   },
   {
    "duration": 1134,
    "start_time": "2025-05-23T08:18:11.008Z"
   },
   {
    "duration": 16,
    "start_time": "2025-05-23T08:18:12.144Z"
   },
   {
    "duration": 129,
    "start_time": "2025-05-23T08:18:12.161Z"
   },
   {
    "duration": 21,
    "start_time": "2025-05-23T08:18:12.293Z"
   },
   {
    "duration": 50,
    "start_time": "2025-05-23T08:18:12.316Z"
   },
   {
    "duration": 2836,
    "start_time": "2025-05-23T08:18:12.370Z"
   },
   {
    "duration": 27102,
    "start_time": "2025-05-23T08:18:15.208Z"
   },
   {
    "duration": 216,
    "start_time": "2025-05-23T08:18:42.312Z"
   },
   {
    "duration": 3275,
    "start_time": "2025-05-23T08:18:42.538Z"
   },
   {
    "duration": 4,
    "start_time": "2025-05-23T08:18:45.815Z"
   },
   {
    "duration": 3,
    "start_time": "2025-05-23T08:20:07.480Z"
   },
   {
    "duration": 5,
    "start_time": "2025-05-23T08:20:19.558Z"
   },
   {
    "duration": 9,
    "start_time": "2025-05-23T08:20:51.950Z"
   },
   {
    "duration": 4,
    "start_time": "2025-05-23T08:20:53.822Z"
   },
   {
    "duration": 1412,
    "start_time": "2025-05-23T08:21:03.542Z"
   },
   {
    "duration": 103,
    "start_time": "2025-05-23T08:21:15.909Z"
   },
   {
    "duration": 129,
    "start_time": "2025-05-23T08:22:38.734Z"
   },
   {
    "duration": 3,
    "start_time": "2025-05-23T08:22:56.069Z"
   },
   {
    "duration": 4,
    "start_time": "2025-05-23T08:23:11.788Z"
   },
   {
    "duration": 4,
    "start_time": "2025-05-23T08:23:16.317Z"
   },
   {
    "duration": 4,
    "start_time": "2025-05-23T08:23:25.180Z"
   },
   {
    "duration": 4,
    "start_time": "2025-05-23T08:25:06.041Z"
   },
   {
    "duration": 12,
    "start_time": "2025-05-23T08:27:45.583Z"
   },
   {
    "duration": 12,
    "start_time": "2025-05-23T08:28:06.341Z"
   },
   {
    "duration": 10,
    "start_time": "2025-05-23T08:28:24.821Z"
   },
   {
    "duration": 7,
    "start_time": "2025-05-23T08:54:35.686Z"
   },
   {
    "duration": 83,
    "start_time": "2025-05-23T11:16:11.454Z"
   },
   {
    "duration": 1402,
    "start_time": "2025-05-23T11:17:32.903Z"
   },
   {
    "duration": 1071,
    "start_time": "2025-05-23T11:17:34.307Z"
   },
   {
    "duration": 15,
    "start_time": "2025-05-23T11:17:35.380Z"
   },
   {
    "duration": 104,
    "start_time": "2025-05-23T11:17:35.396Z"
   },
   {
    "duration": 18,
    "start_time": "2025-05-23T11:17:35.503Z"
   },
   {
    "duration": 104,
    "start_time": "2025-05-23T11:17:35.523Z"
   },
   {
    "duration": 2645,
    "start_time": "2025-05-23T11:17:35.629Z"
   },
   {
    "duration": 26263,
    "start_time": "2025-05-23T11:17:38.276Z"
   },
   {
    "duration": 210,
    "start_time": "2025-05-23T11:18:04.541Z"
   },
   {
    "duration": 3334,
    "start_time": "2025-05-23T11:18:04.753Z"
   },
   {
    "duration": 8,
    "start_time": "2025-05-23T11:18:08.089Z"
   },
   {
    "duration": 31,
    "start_time": "2025-05-23T11:18:08.099Z"
   },
   {
    "duration": 1410,
    "start_time": "2025-05-23T11:18:23.363Z"
   },
   {
    "duration": 126,
    "start_time": "2025-05-23T11:20:41.472Z"
   },
   {
    "duration": 12,
    "start_time": "2025-05-23T11:21:05.055Z"
   },
   {
    "duration": 12,
    "start_time": "2025-05-23T11:21:54.606Z"
   },
   {
    "duration": 1381,
    "start_time": "2025-05-23T11:24:27.510Z"
   },
   {
    "duration": 1074,
    "start_time": "2025-05-23T11:24:28.893Z"
   },
   {
    "duration": 15,
    "start_time": "2025-05-23T11:24:29.969Z"
   },
   {
    "duration": 143,
    "start_time": "2025-05-23T11:24:29.985Z"
   },
   {
    "duration": 23,
    "start_time": "2025-05-23T11:24:30.130Z"
   },
   {
    "duration": 97,
    "start_time": "2025-05-23T11:24:30.155Z"
   },
   {
    "duration": 2887,
    "start_time": "2025-05-23T11:24:30.255Z"
   },
   {
    "duration": 26537,
    "start_time": "2025-05-23T11:24:33.144Z"
   },
   {
    "duration": 222,
    "start_time": "2025-05-23T11:24:59.683Z"
   },
   {
    "duration": 3325,
    "start_time": "2025-05-23T11:24:59.907Z"
   },
   {
    "duration": 13,
    "start_time": "2025-05-23T11:25:03.234Z"
   },
   {
    "duration": 43,
    "start_time": "2025-05-23T11:25:03.249Z"
   },
   {
    "duration": 49,
    "start_time": "2025-05-23T11:25:58.154Z"
   },
   {
    "duration": 1431,
    "start_time": "2025-05-23T11:26:18.043Z"
   },
   {
    "duration": 1109,
    "start_time": "2025-05-23T11:26:19.476Z"
   },
   {
    "duration": 16,
    "start_time": "2025-05-23T11:26:20.586Z"
   },
   {
    "duration": 127,
    "start_time": "2025-05-23T11:26:20.604Z"
   },
   {
    "duration": 21,
    "start_time": "2025-05-23T11:26:20.734Z"
   },
   {
    "duration": 130,
    "start_time": "2025-05-23T11:26:20.757Z"
   },
   {
    "duration": 2822,
    "start_time": "2025-05-23T11:26:20.888Z"
   },
   {
    "duration": 1319,
    "start_time": "2025-05-23T11:26:28.767Z"
   },
   {
    "duration": 1044,
    "start_time": "2025-05-23T11:26:30.088Z"
   },
   {
    "duration": 20,
    "start_time": "2025-05-23T11:26:31.133Z"
   },
   {
    "duration": 117,
    "start_time": "2025-05-23T11:26:31.156Z"
   },
   {
    "duration": 21,
    "start_time": "2025-05-23T11:26:31.275Z"
   },
   {
    "duration": 56,
    "start_time": "2025-05-23T11:26:31.298Z"
   },
   {
    "duration": 2897,
    "start_time": "2025-05-23T11:26:31.357Z"
   },
   {
    "duration": 26327,
    "start_time": "2025-05-23T11:26:34.256Z"
   },
   {
    "duration": 219,
    "start_time": "2025-05-23T11:27:00.585Z"
   },
   {
    "duration": 3414,
    "start_time": "2025-05-23T11:27:00.806Z"
   },
   {
    "duration": 17,
    "start_time": "2025-05-23T11:27:04.222Z"
   },
   {
    "duration": 22,
    "start_time": "2025-05-23T11:27:04.241Z"
   },
   {
    "duration": 2266,
    "start_time": "2025-05-23T11:31:27.135Z"
   },
   {
    "duration": 1424,
    "start_time": "2025-05-23T11:35:08.729Z"
   },
   {
    "duration": 114,
    "start_time": "2025-05-23T11:35:46.775Z"
   },
   {
    "duration": 9,
    "start_time": "2025-05-23T11:36:13.072Z"
   },
   {
    "duration": 8,
    "start_time": "2025-05-23T11:38:27.618Z"
   },
   {
    "duration": 10,
    "start_time": "2025-05-23T11:38:57.666Z"
   },
   {
    "duration": 248,
    "start_time": "2025-05-23T11:40:37.887Z"
   },
   {
    "duration": 1133,
    "start_time": "2025-05-23T11:40:38.140Z"
   },
   {
    "duration": 16,
    "start_time": "2025-05-23T11:40:39.275Z"
   },
   {
    "duration": 133,
    "start_time": "2025-05-23T11:40:39.293Z"
   },
   {
    "duration": 20,
    "start_time": "2025-05-23T11:40:39.429Z"
   },
   {
    "duration": 46,
    "start_time": "2025-05-23T11:40:39.451Z"
   },
   {
    "duration": 2950,
    "start_time": "2025-05-23T11:40:39.501Z"
   },
   {
    "duration": 26917,
    "start_time": "2025-05-23T11:40:42.453Z"
   },
   {
    "duration": 228,
    "start_time": "2025-05-23T11:41:09.372Z"
   },
   {
    "duration": 84,
    "start_time": "2025-05-23T11:41:09.601Z"
   },
   {
    "duration": 3927,
    "start_time": "2025-05-23T11:41:09.686Z"
   },
   {
    "duration": 12,
    "start_time": "2025-05-23T11:41:13.615Z"
   },
   {
    "duration": 8,
    "start_time": "2025-05-23T11:41:13.629Z"
   },
   {
    "duration": 3,
    "start_time": "2025-05-23T11:41:20.159Z"
   },
   {
    "duration": 3187,
    "start_time": "2025-05-23T11:41:22.401Z"
   },
   {
    "duration": 4,
    "start_time": "2025-05-23T11:41:29.091Z"
   },
   {
    "duration": 1468,
    "start_time": "2025-05-23T11:48:46.539Z"
   },
   {
    "duration": 1067,
    "start_time": "2025-05-23T11:48:48.009Z"
   },
   {
    "duration": 14,
    "start_time": "2025-05-23T11:48:49.078Z"
   },
   {
    "duration": 98,
    "start_time": "2025-05-23T11:48:49.094Z"
   },
   {
    "duration": 20,
    "start_time": "2025-05-23T11:48:49.195Z"
   },
   {
    "duration": 54,
    "start_time": "2025-05-23T11:48:49.217Z"
   },
   {
    "duration": 2933,
    "start_time": "2025-05-23T11:48:49.274Z"
   },
   {
    "duration": 28382,
    "start_time": "2025-05-23T11:48:52.208Z"
   },
   {
    "duration": 230,
    "start_time": "2025-05-23T11:49:20.592Z"
   },
   {
    "duration": 43,
    "start_time": "2025-05-23T11:49:20.824Z"
   },
   {
    "duration": 3224,
    "start_time": "2025-05-23T11:49:20.868Z"
   },
   {
    "duration": 4,
    "start_time": "2025-05-23T11:49:24.094Z"
   },
   {
    "duration": 4,
    "start_time": "2025-05-23T11:51:03.842Z"
   },
   {
    "duration": 53,
    "start_time": "2025-05-23T11:51:58.610Z"
   },
   {
    "duration": 16,
    "start_time": "2025-05-23T11:52:29.065Z"
   },
   {
    "duration": 8226,
    "start_time": "2025-05-23T11:52:31.216Z"
   },
   {
    "duration": 67,
    "start_time": "2025-05-23T11:52:40.577Z"
   },
   {
    "duration": 827,
    "start_time": "2025-05-23T11:52:48.456Z"
   },
   {
    "duration": 4,
    "start_time": "2025-05-23T11:52:52.327Z"
   },
   {
    "duration": 995,
    "start_time": "2025-05-23T11:53:01.394Z"
   },
   {
    "duration": 138,
    "start_time": "2025-05-23T11:56:42.715Z"
   },
   {
    "duration": 4,
    "start_time": "2025-05-23T11:56:58.588Z"
   },
   {
    "duration": 55,
    "start_time": "2025-05-23T12:00:16.848Z"
   },
   {
    "duration": 1515,
    "start_time": "2025-05-23T12:01:58.224Z"
   },
   {
    "duration": 1125,
    "start_time": "2025-05-23T12:01:59.741Z"
   },
   {
    "duration": 14,
    "start_time": "2025-05-23T12:02:00.868Z"
   },
   {
    "duration": 126,
    "start_time": "2025-05-23T12:02:00.884Z"
   },
   {
    "duration": 21,
    "start_time": "2025-05-23T12:02:01.012Z"
   },
   {
    "duration": 43,
    "start_time": "2025-05-23T12:02:01.039Z"
   },
   {
    "duration": 2866,
    "start_time": "2025-05-23T12:02:01.085Z"
   },
   {
    "duration": 26,
    "start_time": "2025-05-23T12:02:03.953Z"
   },
   {
    "duration": 7389,
    "start_time": "2025-05-23T12:02:03.981Z"
   },
   {
    "duration": 56,
    "start_time": "2025-05-23T12:02:11.372Z"
   },
   {
    "duration": 12,
    "start_time": "2025-05-23T12:02:11.429Z"
   },
   {
    "duration": 772,
    "start_time": "2025-05-23T12:02:11.443Z"
   },
   {
    "duration": 976,
    "start_time": "2025-05-23T12:02:12.217Z"
   },
   {
    "duration": 3,
    "start_time": "2025-05-23T12:02:13.196Z"
   },
   {
    "duration": 1659,
    "start_time": "2025-05-23T12:04:03.217Z"
   },
   {
    "duration": 1071,
    "start_time": "2025-05-23T12:04:04.878Z"
   },
   {
    "duration": 14,
    "start_time": "2025-05-23T12:04:05.951Z"
   },
   {
    "duration": 126,
    "start_time": "2025-05-23T12:04:05.967Z"
   },
   {
    "duration": 20,
    "start_time": "2025-05-23T12:04:06.095Z"
   },
   {
    "duration": 70,
    "start_time": "2025-05-23T12:04:06.117Z"
   },
   {
    "duration": 2791,
    "start_time": "2025-05-23T12:04:06.191Z"
   },
   {
    "duration": 27,
    "start_time": "2025-05-23T12:04:08.984Z"
   },
   {
    "duration": 6197,
    "start_time": "2025-05-23T12:04:09.012Z"
   },
   {
    "duration": 51,
    "start_time": "2025-05-23T12:04:15.212Z"
   },
   {
    "duration": 68,
    "start_time": "2025-05-23T12:04:15.265Z"
   },
   {
    "duration": 671,
    "start_time": "2025-05-23T12:04:15.334Z"
   },
   {
    "duration": 784,
    "start_time": "2025-05-23T12:04:16.007Z"
   },
   {
    "duration": 4,
    "start_time": "2025-05-23T12:04:16.794Z"
   },
   {
    "duration": 1476,
    "start_time": "2025-05-23T12:04:47.914Z"
   },
   {
    "duration": 1034,
    "start_time": "2025-05-23T12:04:49.392Z"
   },
   {
    "duration": 14,
    "start_time": "2025-05-23T12:04:50.428Z"
   },
   {
    "duration": 106,
    "start_time": "2025-05-23T12:04:50.445Z"
   },
   {
    "duration": 19,
    "start_time": "2025-05-23T12:04:50.554Z"
   },
   {
    "duration": 67,
    "start_time": "2025-05-23T12:04:50.575Z"
   },
   {
    "duration": 2866,
    "start_time": "2025-05-23T12:04:50.645Z"
   },
   {
    "duration": 30,
    "start_time": "2025-05-23T12:04:53.512Z"
   },
   {
    "duration": 2119,
    "start_time": "2025-05-23T12:04:53.544Z"
   },
   {
    "duration": 13,
    "start_time": "2025-05-23T12:04:55.665Z"
   },
   {
    "duration": 19,
    "start_time": "2025-05-23T12:04:55.680Z"
   },
   {
    "duration": 157,
    "start_time": "2025-05-23T12:04:55.700Z"
   },
   {
    "duration": 146,
    "start_time": "2025-05-23T12:04:55.859Z"
   },
   {
    "duration": 5,
    "start_time": "2025-05-23T12:04:56.008Z"
   },
   {
    "duration": 1350,
    "start_time": "2025-05-23T12:04:56.015Z"
   },
   {
    "duration": 117,
    "start_time": "2025-05-23T12:06:50.369Z"
   },
   {
    "duration": 418,
    "start_time": "2025-05-23T12:07:11.487Z"
   },
   {
    "duration": 242,
    "start_time": "2025-05-23T12:08:27.728Z"
   },
   {
    "duration": 93,
    "start_time": "2025-05-23T12:09:48.939Z"
   },
   {
    "duration": 13,
    "start_time": "2025-05-23T12:10:32.891Z"
   },
   {
    "duration": 20,
    "start_time": "2025-05-23T12:11:00.954Z"
   },
   {
    "duration": 369,
    "start_time": "2025-05-23T12:11:38.561Z"
   },
   {
    "duration": 424,
    "start_time": "2025-05-23T12:11:41.107Z"
   },
   {
    "duration": 232,
    "start_time": "2025-05-23T12:11:43.378Z"
   },
   {
    "duration": 3638,
    "start_time": "2025-05-23T12:11:48.009Z"
   },
   {
    "duration": 363,
    "start_time": "2025-05-23T12:12:45.889Z"
   },
   {
    "duration": 4,
    "start_time": "2025-05-23T12:12:52.311Z"
   },
   {
    "duration": 3,
    "start_time": "2025-05-23T12:13:50.445Z"
   },
   {
    "duration": 352,
    "start_time": "2025-05-23T12:14:04.695Z"
   },
   {
    "duration": 3,
    "start_time": "2025-05-23T12:14:08.255Z"
   },
   {
    "duration": 2,
    "start_time": "2025-05-23T12:14:56.341Z"
   },
   {
    "duration": 428,
    "start_time": "2025-05-23T12:16:01.619Z"
   },
   {
    "duration": 6,
    "start_time": "2025-05-23T12:16:58.500Z"
   },
   {
    "duration": 4,
    "start_time": "2025-05-23T12:17:21.258Z"
   },
   {
    "duration": 4,
    "start_time": "2025-05-23T12:17:41.050Z"
   },
   {
    "duration": 4,
    "start_time": "2025-05-23T12:17:51.898Z"
   },
   {
    "duration": 4,
    "start_time": "2025-05-23T12:18:24.834Z"
   },
   {
    "duration": 59,
    "start_time": "2025-05-23T12:20:06.534Z"
   },
   {
    "duration": 5,
    "start_time": "2025-05-23T12:20:09.399Z"
   },
   {
    "duration": 9,
    "start_time": "2025-05-23T12:20:40.297Z"
   },
   {
    "duration": 4,
    "start_time": "2025-05-23T12:20:41.328Z"
   },
   {
    "duration": 26,
    "start_time": "2025-05-23T12:21:46.069Z"
   },
   {
    "duration": 12,
    "start_time": "2025-05-23T12:22:00.951Z"
   },
   {
    "duration": 29,
    "start_time": "2025-05-23T12:23:27.422Z"
   },
   {
    "duration": 5,
    "start_time": "2025-05-23T12:23:29.938Z"
   },
   {
    "duration": 26,
    "start_time": "2025-05-23T12:24:02.867Z"
   },
   {
    "duration": 5,
    "start_time": "2025-05-23T12:24:07.378Z"
   },
   {
    "duration": 3052,
    "start_time": "2025-05-23T12:24:21.042Z"
   },
   {
    "duration": 24,
    "start_time": "2025-05-23T12:24:24.097Z"
   },
   {
    "duration": 66,
    "start_time": "2025-05-23T12:24:24.123Z"
   },
   {
    "duration": 304,
    "start_time": "2025-05-23T12:24:24.191Z"
   },
   {
    "duration": 313,
    "start_time": "2025-05-23T12:24:24.498Z"
   },
   {
    "duration": 1749,
    "start_time": "2025-05-23T12:25:10.253Z"
   },
   {
    "duration": 1178,
    "start_time": "2025-05-23T12:25:12.004Z"
   },
   {
    "duration": 15,
    "start_time": "2025-05-23T12:25:13.184Z"
   },
   {
    "duration": 141,
    "start_time": "2025-05-23T12:25:13.202Z"
   },
   {
    "duration": 22,
    "start_time": "2025-05-23T12:25:13.345Z"
   },
   {
    "duration": 46,
    "start_time": "2025-05-23T12:25:13.369Z"
   },
   {
    "duration": 2991,
    "start_time": "2025-05-23T12:25:13.417Z"
   },
   {
    "duration": 5,
    "start_time": "2025-05-23T12:25:16.409Z"
   },
   {
    "duration": 61,
    "start_time": "2025-05-23T12:25:16.415Z"
   },
   {
    "duration": 2494,
    "start_time": "2025-05-23T12:25:16.479Z"
   },
   {
    "duration": 16,
    "start_time": "2025-05-23T12:25:18.975Z"
   },
   {
    "duration": 48,
    "start_time": "2025-05-23T12:25:18.993Z"
   },
   {
    "duration": 210,
    "start_time": "2025-05-23T12:25:19.043Z"
   },
   {
    "duration": 203,
    "start_time": "2025-05-23T12:25:19.254Z"
   },
   {
    "duration": 8,
    "start_time": "2025-05-23T12:25:19.458Z"
   },
   {
    "duration": 2826,
    "start_time": "2025-05-23T12:25:19.468Z"
   },
   {
    "duration": 740,
    "start_time": "2025-05-23T12:25:22.296Z"
   },
   {
    "duration": 582,
    "start_time": "2025-05-23T12:25:23.039Z"
   },
   {
    "duration": 6,
    "start_time": "2025-05-23T12:25:23.623Z"
   },
   {
    "duration": 11,
    "start_time": "2025-05-23T12:25:23.630Z"
   },
   {
    "duration": 1628,
    "start_time": "2025-05-23T12:25:51.086Z"
   },
   {
    "duration": 1093,
    "start_time": "2025-05-23T12:25:52.717Z"
   },
   {
    "duration": 14,
    "start_time": "2025-05-23T12:25:53.812Z"
   },
   {
    "duration": 120,
    "start_time": "2025-05-23T12:25:53.827Z"
   },
   {
    "duration": 19,
    "start_time": "2025-05-23T12:25:53.950Z"
   },
   {
    "duration": 42,
    "start_time": "2025-05-23T12:25:53.971Z"
   },
   {
    "duration": 2707,
    "start_time": "2025-05-23T12:25:54.017Z"
   },
   {
    "duration": 4,
    "start_time": "2025-05-23T12:25:56.726Z"
   },
   {
    "duration": 52,
    "start_time": "2025-05-23T12:25:56.738Z"
   },
   {
    "duration": 1774,
    "start_time": "2025-05-23T12:25:56.792Z"
   },
   {
    "duration": 12,
    "start_time": "2025-05-23T12:25:58.568Z"
   },
   {
    "duration": 28,
    "start_time": "2025-05-23T12:25:58.581Z"
   },
   {
    "duration": 123,
    "start_time": "2025-05-23T12:25:58.611Z"
   },
   {
    "duration": 138,
    "start_time": "2025-05-23T12:25:58.738Z"
   },
   {
    "duration": 1284,
    "start_time": "2025-05-23T12:25:58.877Z"
   },
   {
    "duration": 291,
    "start_time": "2025-05-23T12:26:00.162Z"
   },
   {
    "duration": 406,
    "start_time": "2025-05-23T12:26:00.456Z"
   },
   {
    "duration": 237,
    "start_time": "2025-05-23T12:26:00.863Z"
   },
   {
    "duration": 5,
    "start_time": "2025-05-23T12:26:01.102Z"
   },
   {
    "duration": 54,
    "start_time": "2025-05-23T12:26:01.108Z"
   },
   {
    "duration": 3277,
    "start_time": "2025-05-23T12:26:01.163Z"
   },
   {
    "duration": 2,
    "start_time": "2025-05-23T12:26:04.442Z"
   },
   {
    "duration": 313,
    "start_time": "2025-05-23T12:26:04.446Z"
   },
   {
    "duration": 208,
    "start_time": "2025-05-23T12:26:04.760Z"
   },
   {
    "duration": 5,
    "start_time": "2025-05-23T12:28:09.271Z"
   },
   {
    "duration": 4,
    "start_time": "2025-05-23T12:29:03.173Z"
   },
   {
    "duration": 4,
    "start_time": "2025-05-23T12:29:52.220Z"
   },
   {
    "duration": 15,
    "start_time": "2025-05-23T12:32:04.825Z"
   },
   {
    "duration": 5,
    "start_time": "2025-05-23T12:33:40.959Z"
   },
   {
    "duration": 4,
    "start_time": "2025-05-23T12:33:54.471Z"
   },
   {
    "duration": 51,
    "start_time": "2025-05-23T12:34:42.909Z"
   },
   {
    "duration": 5,
    "start_time": "2025-05-23T12:34:43.804Z"
   },
   {
    "duration": 1680,
    "start_time": "2025-05-23T12:34:48.966Z"
   },
   {
    "duration": 14,
    "start_time": "2025-05-23T12:34:51.701Z"
   },
   {
    "duration": 13,
    "start_time": "2025-05-23T12:34:56.950Z"
   },
   {
    "duration": 4,
    "start_time": "2025-05-23T12:35:00.678Z"
   },
   {
    "duration": 3,
    "start_time": "2025-05-23T12:35:01.957Z"
   },
   {
    "duration": 141,
    "start_time": "2025-05-23T12:35:02.764Z"
   },
   {
    "duration": 4,
    "start_time": "2025-05-23T12:35:03.756Z"
   },
   {
    "duration": 143,
    "start_time": "2025-05-23T12:35:05.541Z"
   },
   {
    "duration": 3,
    "start_time": "2025-05-23T12:35:08.854Z"
   },
   {
    "duration": 16,
    "start_time": "2025-05-23T12:35:10.724Z"
   },
   {
    "duration": 5,
    "start_time": "2025-05-23T12:35:11.581Z"
   },
   {
    "duration": 1373,
    "start_time": "2025-05-23T12:35:18.452Z"
   },
   {
    "duration": 405,
    "start_time": "2025-05-23T12:35:24.820Z"
   },
   {
    "duration": 243,
    "start_time": "2025-05-23T12:35:25.227Z"
   },
   {
    "duration": 4,
    "start_time": "2025-05-23T12:35:25.472Z"
   },
   {
    "duration": 3,
    "start_time": "2025-05-23T12:35:39.061Z"
   },
   {
    "duration": 3495,
    "start_time": "2025-05-23T12:35:39.066Z"
   },
   {
    "duration": 3,
    "start_time": "2025-05-23T12:35:42.639Z"
   },
   {
    "duration": 399,
    "start_time": "2025-05-23T12:35:42.644Z"
   },
   {
    "duration": 6,
    "start_time": "2025-05-23T12:36:21.372Z"
   },
   {
    "duration": 360,
    "start_time": "2025-05-23T12:39:27.290Z"
   },
   {
    "duration": 91,
    "start_time": "2025-05-23T12:41:18.917Z"
   },
   {
    "duration": 1622,
    "start_time": "2025-05-23T12:55:43.029Z"
   },
   {
    "duration": 994,
    "start_time": "2025-05-23T12:55:44.653Z"
   },
   {
    "duration": 13,
    "start_time": "2025-05-23T12:55:45.648Z"
   },
   {
    "duration": 114,
    "start_time": "2025-05-23T12:55:45.663Z"
   },
   {
    "duration": 22,
    "start_time": "2025-05-23T12:55:45.780Z"
   },
   {
    "duration": 61,
    "start_time": "2025-05-23T12:55:45.803Z"
   },
   {
    "duration": 2781,
    "start_time": "2025-05-23T12:55:45.866Z"
   },
   {
    "duration": 42,
    "start_time": "2025-05-23T12:55:48.649Z"
   },
   {
    "duration": 1716,
    "start_time": "2025-05-23T12:55:48.693Z"
   },
   {
    "duration": 161,
    "start_time": "2025-05-23T12:55:50.412Z"
   },
   {
    "duration": 1722,
    "start_time": "2025-05-23T12:55:50.575Z"
   },
   {
    "duration": 648,
    "start_time": "2025-05-23T12:55:52.299Z"
   },
   {
    "duration": 4,
    "start_time": "2025-05-23T12:55:52.949Z"
   },
   {
    "duration": 3398,
    "start_time": "2025-05-23T12:55:52.955Z"
   },
   {
    "duration": 396,
    "start_time": "2025-05-23T12:55:56.355Z"
   },
   {
    "duration": 367,
    "start_time": "2025-05-23T12:56:24.573Z"
   },
   {
    "duration": 1682,
    "start_time": "2025-05-25T06:39:55.865Z"
   },
   {
    "duration": 945,
    "start_time": "2025-05-25T06:41:17.470Z"
   },
   {
    "duration": 956,
    "start_time": "2025-05-25T06:42:28.364Z"
   },
   {
    "duration": 910,
    "start_time": "2025-05-25T06:42:37.148Z"
   },
   {
    "duration": 2876,
    "start_time": "2025-05-25T07:05:14.368Z"
   },
   {
    "duration": 5200,
    "start_time": "2025-05-25T07:05:50.424Z"
   },
   {
    "duration": 294,
    "start_time": "2025-05-25T07:08:37.387Z"
   },
   {
    "duration": 87,
    "start_time": "2025-05-25T07:09:04.251Z"
   },
   {
    "duration": 17,
    "start_time": "2025-05-25T07:09:58.363Z"
   },
   {
    "duration": 110,
    "start_time": "2025-05-25T07:11:54.922Z"
   },
   {
    "duration": 86,
    "start_time": "2025-05-25T07:13:53.549Z"
   },
   {
    "duration": 543,
    "start_time": "2025-05-25T07:14:21.171Z"
   },
   {
    "duration": 33,
    "start_time": "2025-05-25T07:14:54.942Z"
   },
   {
    "duration": 80,
    "start_time": "2025-05-25T07:15:03.677Z"
   },
   {
    "duration": 2,
    "start_time": "2025-05-25T07:15:21.419Z"
   },
   {
    "duration": 7131,
    "start_time": "2025-05-25T07:15:27.684Z"
   },
   {
    "duration": 726,
    "start_time": "2025-05-25T07:15:39.941Z"
   },
   {
    "duration": 959646,
    "start_time": "2025-05-25T07:17:39.848Z"
   },
   {
    "duration": 16,
    "start_time": "2025-05-25T07:54:00.828Z"
   },
   {
    "duration": 470,
    "start_time": "2025-05-25T07:57:10.530Z"
   },
   {
    "duration": 3,
    "start_time": "2025-05-25T07:59:26.651Z"
   },
   {
    "duration": 968322,
    "start_time": "2025-05-25T07:59:33.464Z"
   },
   {
    "duration": 12,
    "start_time": "2025-05-25T08:16:39.417Z"
   },
   {
    "duration": 6692,
    "start_time": "2025-05-25T08:18:37.424Z"
   },
   {
    "duration": 14,
    "start_time": "2025-05-25T08:20:57.387Z"
   },
   {
    "duration": 19,
    "start_time": "2025-05-25T08:23:35.888Z"
   },
   {
    "duration": 48,
    "start_time": "2025-05-25T08:23:47.151Z"
   },
   {
    "duration": 43,
    "start_time": "2025-05-25T08:25:00.421Z"
   },
   {
    "duration": 7,
    "start_time": "2025-05-25T08:30:04.702Z"
   },
   {
    "duration": 4,
    "start_time": "2025-05-25T08:32:23.715Z"
   },
   {
    "duration": 4,
    "start_time": "2025-05-25T08:34:14.009Z"
   },
   {
    "duration": 4,
    "start_time": "2025-05-25T08:34:17.137Z"
   },
   {
    "duration": 3,
    "start_time": "2025-05-25T08:42:51.654Z"
   },
   {
    "duration": 3,
    "start_time": "2025-05-25T08:45:54.302Z"
   },
   {
    "duration": 19,
    "start_time": "2025-05-25T08:47:03.841Z"
   },
   {
    "duration": 3,
    "start_time": "2025-05-25T08:47:07.849Z"
   },
   {
    "duration": 2,
    "start_time": "2025-05-25T08:47:09.954Z"
   },
   {
    "duration": 3,
    "start_time": "2025-05-25T08:49:37.693Z"
   },
   {
    "duration": 21,
    "start_time": "2025-05-25T08:51:13.133Z"
   },
   {
    "duration": 22,
    "start_time": "2025-05-25T08:53:29.865Z"
   },
   {
    "duration": 5,
    "start_time": "2025-05-25T08:53:35.904Z"
   },
   {
    "duration": 3,
    "start_time": "2025-05-25T08:55:37.358Z"
   },
   {
    "duration": 28,
    "start_time": "2025-05-25T08:56:21.030Z"
   },
   {
    "duration": 17,
    "start_time": "2025-05-25T08:56:43.931Z"
   },
   {
    "duration": 4,
    "start_time": "2025-05-25T08:57:44.589Z"
   },
   {
    "duration": 8617,
    "start_time": "2025-05-26T07:05:18.734Z"
   },
   {
    "duration": 1156,
    "start_time": "2025-05-26T07:05:27.353Z"
   },
   {
    "duration": 11,
    "start_time": "2025-05-26T07:05:28.511Z"
   },
   {
    "duration": 7955,
    "start_time": "2025-05-26T07:05:28.524Z"
   },
   {
    "duration": 1100604,
    "start_time": "2025-05-26T07:05:36.482Z"
   },
   {
    "duration": 93,
    "start_time": "2025-05-26T07:23:57.087Z"
   },
   {
    "duration": 60,
    "start_time": "2025-05-26T07:23:57.183Z"
   },
   {
    "duration": 3,
    "start_time": "2025-05-26T07:23:57.245Z"
   },
   {
    "duration": 7,
    "start_time": "2025-05-26T07:23:57.262Z"
   },
   {
    "duration": 19,
    "start_time": "2025-05-26T07:23:57.271Z"
   },
   {
    "duration": 76,
    "start_time": "2025-05-26T07:23:57.292Z"
   },
   {
    "duration": 7,
    "start_time": "2025-05-26T07:23:57.370Z"
   },
   {
    "duration": 11,
    "start_time": "2025-05-26T07:23:57.378Z"
   },
   {
    "duration": 6144,
    "start_time": "2025-05-26T07:23:57.392Z"
   },
   {
    "duration": 0,
    "start_time": "2025-05-26T07:24:03.537Z"
   },
   {
    "duration": 0,
    "start_time": "2025-05-26T07:24:03.538Z"
   },
   {
    "duration": 0,
    "start_time": "2025-05-26T07:24:03.540Z"
   },
   {
    "duration": 0,
    "start_time": "2025-05-26T07:24:03.540Z"
   },
   {
    "duration": 9,
    "start_time": "2025-05-26T07:51:54.791Z"
   },
   {
    "duration": 12,
    "start_time": "2025-05-26T07:52:12.700Z"
   },
   {
    "duration": 6,
    "start_time": "2025-05-26T07:52:40.077Z"
   },
   {
    "duration": 4,
    "start_time": "2025-05-26T07:54:01.370Z"
   },
   {
    "duration": 84,
    "start_time": "2025-05-26T07:55:34.922Z"
   },
   {
    "duration": 84,
    "start_time": "2025-05-26T07:55:57.720Z"
   },
   {
    "duration": 53,
    "start_time": "2025-05-26T07:57:05.294Z"
   },
   {
    "duration": 88,
    "start_time": "2025-05-26T07:57:31.935Z"
   },
   {
    "duration": 22,
    "start_time": "2025-05-26T07:58:38.316Z"
   },
   {
    "duration": 25,
    "start_time": "2025-05-26T07:58:50.013Z"
   },
   {
    "duration": 4,
    "start_time": "2025-05-26T07:58:53.164Z"
   },
   {
    "duration": 18,
    "start_time": "2025-05-26T07:59:04.189Z"
   },
   {
    "duration": 5,
    "start_time": "2025-05-26T07:59:04.892Z"
   },
   {
    "duration": 22,
    "start_time": "2025-05-26T07:59:31.411Z"
   },
   {
    "duration": 5554,
    "start_time": "2025-05-26T07:59:42.588Z"
   },
   {
    "duration": 5612,
    "start_time": "2025-05-26T08:00:26.292Z"
   },
   {
    "duration": 15,
    "start_time": "2025-05-26T08:00:50.014Z"
   },
   {
    "duration": 16,
    "start_time": "2025-05-26T08:00:50.685Z"
   },
   {
    "duration": 4,
    "start_time": "2025-05-26T08:00:52.452Z"
   },
   {
    "duration": 5185,
    "start_time": "2025-05-26T08:01:14.808Z"
   },
   {
    "duration": 69,
    "start_time": "2025-05-26T08:02:23.828Z"
   },
   {
    "duration": 5,
    "start_time": "2025-05-26T08:02:29.380Z"
   },
   {
    "duration": 4,
    "start_time": "2025-05-26T08:02:34.242Z"
   },
   {
    "duration": 3,
    "start_time": "2025-05-26T08:03:01.394Z"
   },
   {
    "duration": 6334,
    "start_time": "2025-05-26T08:03:35.593Z"
   },
   {
    "duration": 3,
    "start_time": "2025-05-26T08:04:26.263Z"
   },
   {
    "duration": 5,
    "start_time": "2025-05-26T08:04:38.584Z"
   },
   {
    "duration": 5,
    "start_time": "2025-05-26T08:04:55.025Z"
   },
   {
    "duration": 5831,
    "start_time": "2025-05-26T08:05:26.057Z"
   },
   {
    "duration": 4,
    "start_time": "2025-05-26T08:15:31.052Z"
   },
   {
    "duration": 5,
    "start_time": "2025-05-26T08:15:42.522Z"
   },
   {
    "duration": 5,
    "start_time": "2025-05-26T08:16:17.395Z"
   },
   {
    "duration": 23,
    "start_time": "2025-05-26T08:16:28.514Z"
   },
   {
    "duration": 23,
    "start_time": "2025-05-26T08:16:34.346Z"
   },
   {
    "duration": 20,
    "start_time": "2025-05-26T08:16:41.538Z"
   },
   {
    "duration": 4,
    "start_time": "2025-05-26T08:16:50.601Z"
   },
   {
    "duration": 54,
    "start_time": "2025-05-26T08:18:28.910Z"
   },
   {
    "duration": 7978,
    "start_time": "2025-05-26T08:23:17.270Z"
   },
   {
    "duration": 1147,
    "start_time": "2025-05-26T08:23:25.250Z"
   },
   {
    "duration": 10,
    "start_time": "2025-05-26T08:23:26.398Z"
   },
   {
    "duration": 7739,
    "start_time": "2025-05-26T08:23:26.410Z"
   },
   {
    "duration": 1103033,
    "start_time": "2025-05-26T08:23:34.152Z"
   },
   {
    "duration": 82,
    "start_time": "2025-05-26T08:41:57.186Z"
   },
   {
    "duration": 50,
    "start_time": "2025-05-26T08:41:57.270Z"
   },
   {
    "duration": 3,
    "start_time": "2025-05-26T08:41:57.322Z"
   },
   {
    "duration": 17,
    "start_time": "2025-05-26T08:41:57.327Z"
   },
   {
    "duration": 7594,
    "start_time": "2025-05-26T08:41:57.346Z"
   },
   {
    "duration": 380,
    "start_time": "2025-05-26T08:42:04.942Z"
   },
   {
    "duration": 0,
    "start_time": "2025-05-26T08:42:05.324Z"
   },
   {
    "duration": 0,
    "start_time": "2025-05-26T08:42:05.326Z"
   },
   {
    "duration": 0,
    "start_time": "2025-05-26T08:42:05.327Z"
   },
   {
    "duration": 0,
    "start_time": "2025-05-26T08:42:05.329Z"
   },
   {
    "duration": 0,
    "start_time": "2025-05-26T08:42:05.331Z"
   },
   {
    "duration": 0,
    "start_time": "2025-05-26T08:42:05.333Z"
   },
   {
    "duration": 0,
    "start_time": "2025-05-26T08:42:05.334Z"
   },
   {
    "duration": 0,
    "start_time": "2025-05-26T08:42:05.336Z"
   },
   {
    "duration": 0,
    "start_time": "2025-05-26T08:42:05.361Z"
   },
   {
    "duration": 22,
    "start_time": "2025-05-26T11:43:24.549Z"
   },
   {
    "duration": 22,
    "start_time": "2025-05-26T11:43:33.804Z"
   },
   {
    "duration": 4,
    "start_time": "2025-05-26T11:43:38.661Z"
   },
   {
    "duration": 49298,
    "start_time": "2025-05-26T11:44:45.469Z"
   },
   {
    "duration": 5,
    "start_time": "2025-05-26T12:06:03.874Z"
   },
   {
    "duration": 4,
    "start_time": "2025-05-26T12:07:13.713Z"
   },
   {
    "duration": 6,
    "start_time": "2025-05-26T12:07:14.784Z"
   },
   {
    "duration": 3,
    "start_time": "2025-05-26T12:07:16.768Z"
   },
   {
    "duration": 22,
    "start_time": "2025-05-26T12:07:20.600Z"
   },
   {
    "duration": 5925,
    "start_time": "2025-05-26T12:08:12.588Z"
   },
   {
    "duration": 11137,
    "start_time": "2025-05-26T18:15:54.817Z"
   },
   {
    "duration": 992,
    "start_time": "2025-05-26T18:16:05.956Z"
   },
   {
    "duration": 22,
    "start_time": "2025-05-26T18:16:06.950Z"
   },
   {
    "duration": 7950,
    "start_time": "2025-05-26T18:16:06.974Z"
   },
   {
    "duration": 10299,
    "start_time": "2025-05-26T18:32:15.826Z"
   },
   {
    "duration": 956,
    "start_time": "2025-05-26T18:32:26.128Z"
   },
   {
    "duration": 11,
    "start_time": "2025-05-26T18:32:27.086Z"
   },
   {
    "duration": 7626,
    "start_time": "2025-05-26T18:32:27.099Z"
   },
   {
    "duration": 10271,
    "start_time": "2025-05-26T18:46:38.792Z"
   },
   {
    "duration": 934,
    "start_time": "2025-05-26T18:46:49.065Z"
   },
   {
    "duration": 11,
    "start_time": "2025-05-26T18:46:50.001Z"
   },
   {
    "duration": 7850,
    "start_time": "2025-05-26T18:46:50.014Z"
   },
   {
    "duration": 1042305,
    "start_time": "2025-05-26T18:46:57.867Z"
   },
   {
    "duration": 71,
    "start_time": "2025-05-26T19:04:20.174Z"
   },
   {
    "duration": 63,
    "start_time": "2025-05-26T19:04:20.247Z"
   },
   {
    "duration": 3,
    "start_time": "2025-05-26T19:04:20.312Z"
   },
   {
    "duration": 9,
    "start_time": "2025-05-26T19:04:20.317Z"
   },
   {
    "duration": 7314,
    "start_time": "2025-05-26T19:04:20.329Z"
   },
   {
    "duration": 4,
    "start_time": "2025-05-26T19:04:27.645Z"
   },
   {
    "duration": 10,
    "start_time": "2025-05-26T19:04:27.651Z"
   },
   {
    "duration": 5,
    "start_time": "2025-05-26T19:04:27.670Z"
   },
   {
    "duration": 6,
    "start_time": "2025-05-26T19:04:27.677Z"
   },
   {
    "duration": 5768,
    "start_time": "2025-05-26T19:04:27.684Z"
   },
   {
    "duration": 0,
    "start_time": "2025-05-26T19:04:33.454Z"
   },
   {
    "duration": 0,
    "start_time": "2025-05-26T19:04:33.455Z"
   },
   {
    "duration": 9,
    "start_time": "2025-05-26T19:06:40.604Z"
   },
   {
    "duration": 25,
    "start_time": "2025-05-26T19:07:07.972Z"
   },
   {
    "duration": 4,
    "start_time": "2025-05-26T19:07:11.829Z"
   },
   {
    "duration": 5411,
    "start_time": "2025-05-26T19:07:31.307Z"
   },
   {
    "duration": 4,
    "start_time": "2025-05-27T09:53:59.721Z"
   },
   {
    "duration": 7998,
    "start_time": "2025-05-27T10:09:16.638Z"
   },
   {
    "duration": 1014,
    "start_time": "2025-05-27T10:09:24.639Z"
   },
   {
    "duration": 13,
    "start_time": "2025-05-27T10:09:25.660Z"
   },
   {
    "duration": 7963,
    "start_time": "2025-05-27T10:09:25.675Z"
   },
   {
    "duration": 1233279,
    "start_time": "2025-05-27T10:09:33.640Z"
   },
   {
    "duration": 104,
    "start_time": "2025-05-27T10:30:06.921Z"
   },
   {
    "duration": 93,
    "start_time": "2025-05-27T10:30:07.028Z"
   },
   {
    "duration": 7,
    "start_time": "2025-05-27T10:30:07.124Z"
   },
   {
    "duration": 6963,
    "start_time": "2025-05-27T10:30:07.132Z"
   },
   {
    "duration": 3,
    "start_time": "2025-05-27T10:30:14.098Z"
   },
   {
    "duration": 5,
    "start_time": "2025-05-27T10:30:14.103Z"
   },
   {
    "duration": 4,
    "start_time": "2025-05-27T10:30:14.109Z"
   },
   {
    "duration": 1760511,
    "start_time": "2025-05-27T10:30:14.115Z"
   },
   {
    "duration": 0,
    "start_time": "2025-05-27T10:59:34.627Z"
   },
   {
    "duration": 0,
    "start_time": "2025-05-27T10:59:34.629Z"
   },
   {
    "duration": 30,
    "start_time": "2025-05-27T11:06:51.685Z"
   },
   {
    "duration": 16,
    "start_time": "2025-05-27T11:07:15.850Z"
   },
   {
    "duration": 59324,
    "start_time": "2025-05-27T11:12:52.740Z"
   },
   {
    "duration": 1535,
    "start_time": "2025-05-27T11:14:18.590Z"
   },
   {
    "duration": 38,
    "start_time": "2025-05-27T11:30:13.786Z"
   },
   {
    "duration": 109225,
    "start_time": "2025-05-27T11:30:24.338Z"
   },
   {
    "duration": 29,
    "start_time": "2025-05-27T11:33:59.479Z"
   },
   {
    "duration": 1767,
    "start_time": "2025-05-27T11:35:15.527Z"
   },
   {
    "duration": 1591,
    "start_time": "2025-05-27T11:44:54.458Z"
   },
   {
    "duration": 8167,
    "start_time": "2025-05-28T08:06:22.154Z"
   },
   {
    "duration": 937,
    "start_time": "2025-05-28T08:06:30.323Z"
   },
   {
    "duration": 15,
    "start_time": "2025-05-28T08:06:31.262Z"
   },
   {
    "duration": 7534,
    "start_time": "2025-05-28T08:06:31.279Z"
   },
   {
    "duration": 1093391,
    "start_time": "2025-05-28T08:06:38.815Z"
   },
   {
    "duration": 79,
    "start_time": "2025-05-28T08:24:52.208Z"
   },
   {
    "duration": 59,
    "start_time": "2025-05-28T08:24:52.289Z"
   },
   {
    "duration": 7,
    "start_time": "2025-05-28T08:24:52.351Z"
   },
   {
    "duration": 5936,
    "start_time": "2025-05-28T08:24:52.376Z"
   },
   {
    "duration": 3,
    "start_time": "2025-05-28T08:24:58.315Z"
   },
   {
    "duration": 5,
    "start_time": "2025-05-28T08:24:58.320Z"
   },
   {
    "duration": 8,
    "start_time": "2025-05-28T08:24:58.327Z"
   },
   {
    "duration": 1539160,
    "start_time": "2025-05-28T08:24:58.336Z"
   },
   {
    "duration": 16,
    "start_time": "2025-05-28T08:50:37.497Z"
   },
   {
    "duration": 83818,
    "start_time": "2025-05-28T08:50:37.514Z"
   },
   {
    "duration": 2143,
    "start_time": "2025-05-28T08:52:01.334Z"
   },
   {
    "duration": 0,
    "start_time": "2025-05-28T08:52:03.479Z"
   },
   {
    "duration": 0,
    "start_time": "2025-05-28T08:52:03.480Z"
   },
   {
    "duration": 53257,
    "start_time": "2025-05-28T08:57:31.521Z"
   },
   {
    "duration": 1312,
    "start_time": "2025-05-28T08:58:29.208Z"
   },
   {
    "duration": 2584,
    "start_time": "2025-05-28T12:09:33.403Z"
   },
   {
    "duration": 5040,
    "start_time": "2025-05-28T12:09:35.990Z"
   },
   {
    "duration": 944,
    "start_time": "2025-05-28T12:09:41.033Z"
   },
   {
    "duration": 11,
    "start_time": "2025-05-28T12:09:41.979Z"
   },
   {
    "duration": 7520,
    "start_time": "2025-05-28T12:09:41.992Z"
   },
   {
    "duration": 632810,
    "start_time": "2025-05-28T12:09:49.513Z"
   },
   {
    "duration": 86,
    "start_time": "2025-05-28T12:20:22.325Z"
   },
   {
    "duration": 46,
    "start_time": "2025-05-28T12:20:22.413Z"
   },
   {
    "duration": 3,
    "start_time": "2025-05-28T12:20:22.461Z"
   },
   {
    "duration": 5521,
    "start_time": "2025-05-28T12:20:22.466Z"
   },
   {
    "duration": 352,
    "start_time": "2025-05-28T12:20:27.988Z"
   },
   {
    "duration": 0,
    "start_time": "2025-05-28T12:20:28.342Z"
   },
   {
    "duration": 0,
    "start_time": "2025-05-28T12:20:28.344Z"
   },
   {
    "duration": 0,
    "start_time": "2025-05-28T12:20:28.345Z"
   },
   {
    "duration": 0,
    "start_time": "2025-05-28T12:20:28.347Z"
   },
   {
    "duration": 0,
    "start_time": "2025-05-28T12:20:28.348Z"
   },
   {
    "duration": 0,
    "start_time": "2025-05-28T12:20:28.348Z"
   },
   {
    "duration": 17,
    "start_time": "2025-05-28T12:26:09.899Z"
   },
   {
    "duration": 3,
    "start_time": "2025-05-28T12:26:24.154Z"
   },
   {
    "duration": 5,
    "start_time": "2025-05-28T12:26:43.371Z"
   },
   {
    "duration": 3,
    "start_time": "2025-05-28T12:26:48.091Z"
   },
   {
    "duration": 748,
    "start_time": "2025-05-28T12:26:55.300Z"
   },
   {
    "duration": 3,
    "start_time": "2025-05-28T12:27:31.019Z"
   },
   {
    "duration": 5,
    "start_time": "2025-05-28T12:27:32.403Z"
   },
   {
    "duration": 4,
    "start_time": "2025-05-28T12:27:34.960Z"
   },
   {
    "duration": 2628,
    "start_time": "2025-05-28T12:34:26.140Z"
   },
   {
    "duration": 6451,
    "start_time": "2025-05-28T12:34:28.771Z"
   },
   {
    "duration": 960,
    "start_time": "2025-05-28T12:34:35.224Z"
   },
   {
    "duration": 11,
    "start_time": "2025-05-28T12:34:36.187Z"
   },
   {
    "duration": 7488,
    "start_time": "2025-05-28T12:34:36.200Z"
   },
   {
    "duration": 622011,
    "start_time": "2025-05-28T12:34:43.689Z"
   },
   {
    "duration": 80,
    "start_time": "2025-05-28T12:45:05.702Z"
   },
   {
    "duration": 50,
    "start_time": "2025-05-28T12:45:05.784Z"
   },
   {
    "duration": 193,
    "start_time": "2025-05-28T12:45:05.836Z"
   },
   {
    "duration": 36,
    "start_time": "2025-05-28T12:45:06.032Z"
   },
   {
    "duration": 15,
    "start_time": "2025-05-28T12:45:06.070Z"
   },
   {
    "duration": 17,
    "start_time": "2025-05-28T12:45:06.087Z"
   },
   {
    "duration": 2934,
    "start_time": "2025-05-28T15:29:17.323Z"
   },
   {
    "duration": 8669,
    "start_time": "2025-05-28T15:29:20.260Z"
   },
   {
    "duration": 916,
    "start_time": "2025-05-28T15:29:28.931Z"
   },
   {
    "duration": 21,
    "start_time": "2025-05-28T15:29:29.849Z"
   },
   {
    "duration": 7581,
    "start_time": "2025-05-28T15:29:29.872Z"
   },
   {
    "duration": 612216,
    "start_time": "2025-05-28T15:29:37.455Z"
   },
   {
    "duration": 65,
    "start_time": "2025-05-28T15:39:49.672Z"
   },
   {
    "duration": 65,
    "start_time": "2025-05-28T15:39:49.739Z"
   },
   {
    "duration": 3,
    "start_time": "2025-05-28T15:39:49.805Z"
   },
   {
    "duration": 10,
    "start_time": "2025-05-28T15:39:49.810Z"
   },
   {
    "duration": 5,
    "start_time": "2025-05-28T15:39:49.821Z"
   },
   {
    "duration": 7,
    "start_time": "2025-05-28T15:39:49.828Z"
   },
   {
    "duration": 803969,
    "start_time": "2025-05-28T15:39:49.837Z"
   },
   {
    "duration": 14,
    "start_time": "2025-05-28T15:53:13.807Z"
   },
   {
    "duration": 5751,
    "start_time": "2025-05-28T15:53:13.822Z"
   },
   {
    "duration": 170324,
    "start_time": "2025-05-28T15:53:19.576Z"
   },
   {
    "duration": 6,
    "start_time": "2025-05-28T15:58:14.336Z"
   },
   {
    "duration": 5,
    "start_time": "2025-05-28T15:58:32.229Z"
   },
   {
    "duration": 5,
    "start_time": "2025-05-28T15:58:35.640Z"
   },
   {
    "duration": 32,
    "start_time": "2025-05-28T15:58:41.855Z"
   },
   {
    "duration": 4,
    "start_time": "2025-05-28T15:59:25.304Z"
   },
   {
    "duration": 2794,
    "start_time": "2025-05-28T16:02:44.463Z"
   },
   {
    "duration": 7497,
    "start_time": "2025-05-28T16:02:47.260Z"
   },
   {
    "duration": 889,
    "start_time": "2025-05-28T16:02:54.761Z"
   },
   {
    "duration": 18,
    "start_time": "2025-05-28T16:02:55.652Z"
   },
   {
    "duration": 7142,
    "start_time": "2025-05-28T16:02:55.672Z"
   },
   {
    "duration": 593326,
    "start_time": "2025-05-28T16:03:02.816Z"
   },
   {
    "duration": 79,
    "start_time": "2025-05-28T16:12:56.144Z"
   },
   {
    "duration": 59,
    "start_time": "2025-05-28T16:12:56.225Z"
   },
   {
    "duration": 3,
    "start_time": "2025-05-28T16:12:56.286Z"
   },
   {
    "duration": 4,
    "start_time": "2025-05-28T16:12:56.292Z"
   },
   {
    "duration": 6,
    "start_time": "2025-05-28T16:12:56.297Z"
   },
   {
    "duration": 5,
    "start_time": "2025-05-28T16:12:56.304Z"
   },
   {
    "duration": 1734067,
    "start_time": "2025-05-28T16:12:56.311Z"
   },
   {
    "duration": 23,
    "start_time": "2025-05-28T16:41:50.380Z"
   },
   {
    "duration": 56771,
    "start_time": "2025-05-28T16:41:50.405Z"
   },
   {
    "duration": 1498,
    "start_time": "2025-05-28T16:42:47.178Z"
   },
   {
    "duration": 2536,
    "start_time": "2025-09-10T06:38:09.665Z"
   },
   {
    "duration": 5346,
    "start_time": "2025-09-10T06:38:12.203Z"
   },
   {
    "duration": 978,
    "start_time": "2025-09-10T06:38:17.551Z"
   },
   {
    "duration": 12,
    "start_time": "2025-09-10T06:38:18.534Z"
   },
   {
    "duration": 348,
    "start_time": "2025-09-10T06:38:18.548Z"
   },
   {
    "duration": 0,
    "start_time": "2025-09-10T06:38:18.898Z"
   },
   {
    "duration": 0,
    "start_time": "2025-09-10T06:38:18.899Z"
   },
   {
    "duration": 0,
    "start_time": "2025-09-10T06:38:18.900Z"
   },
   {
    "duration": 0,
    "start_time": "2025-09-10T06:38:18.901Z"
   },
   {
    "duration": 0,
    "start_time": "2025-09-10T06:38:18.902Z"
   },
   {
    "duration": 0,
    "start_time": "2025-09-10T06:38:18.903Z"
   },
   {
    "duration": 0,
    "start_time": "2025-09-10T06:38:18.904Z"
   },
   {
    "duration": 0,
    "start_time": "2025-09-10T06:38:18.905Z"
   },
   {
    "duration": 0,
    "start_time": "2025-09-10T06:38:18.906Z"
   },
   {
    "duration": 0,
    "start_time": "2025-09-10T06:38:18.907Z"
   },
   {
    "duration": 23,
    "start_time": "2025-09-10T06:38:52.745Z"
   },
   {
    "duration": 10,
    "start_time": "2025-09-10T06:39:19.272Z"
   },
   {
    "duration": 2570,
    "start_time": "2025-09-10T06:40:35.417Z"
   },
   {
    "duration": 4907,
    "start_time": "2025-09-10T06:40:37.990Z"
   },
   {
    "duration": 962,
    "start_time": "2025-09-10T06:40:42.899Z"
   },
   {
    "duration": 12,
    "start_time": "2025-09-10T06:40:43.863Z"
   },
   {
    "duration": 762916,
    "start_time": "2025-09-10T06:40:43.877Z"
   },
   {
    "duration": 63,
    "start_time": "2025-09-10T06:53:26.795Z"
   },
   {
    "duration": 45,
    "start_time": "2025-09-10T06:53:26.860Z"
   },
   {
    "duration": 3,
    "start_time": "2025-09-10T06:53:26.907Z"
   },
   {
    "duration": 23,
    "start_time": "2025-09-10T06:53:26.911Z"
   },
   {
    "duration": 5,
    "start_time": "2025-09-10T06:53:26.937Z"
   },
   {
    "duration": 3,
    "start_time": "2025-09-10T06:53:26.944Z"
   },
   {
    "duration": 313742,
    "start_time": "2025-09-10T06:53:26.948Z"
   },
   {
    "duration": 14,
    "start_time": "2025-09-10T06:58:40.692Z"
   },
   {
    "duration": 6457,
    "start_time": "2025-09-10T06:58:40.707Z"
   },
   {
    "duration": 1486,
    "start_time": "2025-09-10T06:58:47.166Z"
   },
   {
    "duration": 31,
    "start_time": "2025-09-10T07:10:32.323Z"
   },
   {
    "duration": 2582,
    "start_time": "2025-09-10T07:17:43.280Z"
   },
   {
    "duration": 4966,
    "start_time": "2025-09-10T07:17:45.865Z"
   },
   {
    "duration": 985,
    "start_time": "2025-09-10T07:17:50.837Z"
   },
   {
    "duration": 11,
    "start_time": "2025-09-10T07:17:51.834Z"
   },
   {
    "duration": 7581,
    "start_time": "2025-09-10T07:17:51.847Z"
   },
   {
    "duration": 627975,
    "start_time": "2025-09-10T07:17:59.434Z"
   },
   {
    "duration": 78,
    "start_time": "2025-09-10T07:28:27.410Z"
   },
   {
    "duration": 362,
    "start_time": "2025-09-10T07:28:27.490Z"
   },
   {
    "duration": 0,
    "start_time": "2025-09-10T07:28:27.854Z"
   },
   {
    "duration": 0,
    "start_time": "2025-09-10T07:28:27.855Z"
   },
   {
    "duration": 0,
    "start_time": "2025-09-10T07:28:27.856Z"
   },
   {
    "duration": 0,
    "start_time": "2025-09-10T07:28:27.858Z"
   },
   {
    "duration": 0,
    "start_time": "2025-09-10T07:28:27.859Z"
   },
   {
    "duration": 0,
    "start_time": "2025-09-10T07:28:27.860Z"
   },
   {
    "duration": 0,
    "start_time": "2025-09-10T07:28:27.861Z"
   },
   {
    "duration": 0,
    "start_time": "2025-09-10T07:28:27.862Z"
   },
   {
    "duration": 41,
    "start_time": "2025-09-10T07:35:28.835Z"
   },
   {
    "duration": 4,
    "start_time": "2025-09-10T07:35:31.059Z"
   },
   {
    "duration": 3,
    "start_time": "2025-09-10T07:35:31.651Z"
   },
   {
    "duration": 5,
    "start_time": "2025-09-10T07:35:32.379Z"
   },
   {
    "duration": 3,
    "start_time": "2025-09-10T07:35:33.315Z"
   },
   {
    "duration": 988879,
    "start_time": "2025-09-10T07:35:35.972Z"
   },
   {
    "duration": 16,
    "start_time": "2025-09-10T07:55:00.988Z"
   },
   {
    "duration": 49984,
    "start_time": "2025-09-10T07:55:05.060Z"
   },
   {
    "duration": 1331,
    "start_time": "2025-09-10T08:01:28.604Z"
   }
  ],
  "kernelspec": {
   "display_name": "Python 3 (ipykernel)",
   "language": "python",
   "name": "python3"
  },
  "language_info": {
   "codemirror_mode": {
    "name": "ipython",
    "version": 3
   },
   "file_extension": ".py",
   "mimetype": "text/x-python",
   "name": "python",
   "nbconvert_exporter": "python",
   "pygments_lexer": "ipython3",
   "version": "3.9.5"
  },
  "toc": {
   "base_numbering": 1,
   "nav_menu": {},
   "number_sections": true,
   "sideBar": true,
   "skip_h1_title": true,
   "title_cell": "Содержание",
   "title_sidebar": "Contents",
   "toc_cell": true,
   "toc_position": {
    "height": "calc(100% - 180px)",
    "left": "10px",
    "top": "150px",
    "width": "302.391px"
   },
   "toc_section_display": true,
   "toc_window_display": true
  }
 },
 "nbformat": 4,
 "nbformat_minor": 2
}
