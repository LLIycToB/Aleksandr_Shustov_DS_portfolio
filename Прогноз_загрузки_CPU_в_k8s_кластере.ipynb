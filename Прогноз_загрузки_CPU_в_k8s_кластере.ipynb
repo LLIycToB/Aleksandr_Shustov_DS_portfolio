{
 "cells": [
  {
   "cell_type": "markdown",
   "metadata": {
    "toc": true
   },
   "source": [
    "<h1>Содержание<span class=\"tocSkip\"></span></h1>\n",
    "<div class=\"toc\"><ul class=\"toc-item\"><li><span><a href=\"#Прогнозирование-использования-вычислительных-ресурсов-в-кластере-k8s\" data-toc-modified-id=\"Прогнозирование-использования-вычислительных-ресурсов-в-кластере-k8s-1\"><span class=\"toc-item-num\">1&nbsp;&nbsp;</span>Прогнозирование использования вычислительных ресурсов в кластере k8s</a></span><ul class=\"toc-item\"><li><span><a href=\"#Загрузка-библиотек-и-функций\" data-toc-modified-id=\"Загрузка-библиотек-и-функций-1.1\"><span class=\"toc-item-num\">1.1&nbsp;&nbsp;</span>Загрузка библиотек и функций</a></span></li><li><span><a href=\"#Загрузка-данных\" data-toc-modified-id=\"Загрузка-данных-1.2\"><span class=\"toc-item-num\">1.2&nbsp;&nbsp;</span>Загрузка данных</a></span><ul class=\"toc-item\"><li><span><a href=\"#Функции-загрузки\" data-toc-modified-id=\"Функции-загрузки-1.2.1\"><span class=\"toc-item-num\">1.2.1&nbsp;&nbsp;</span>Функции загрузки</a></span></li><li><span><a href=\"#Загрузка-данных-по-месяцам\" data-toc-modified-id=\"Загрузка-данных-по-месяцам-1.2.2\"><span class=\"toc-item-num\">1.2.2&nbsp;&nbsp;</span>Загрузка данных по месяцам</a></span></li><li><span><a href=\"#Объединение-данных-по-году\" data-toc-modified-id=\"Объединение-данных-по-году-1.2.3\"><span class=\"toc-item-num\">1.2.3&nbsp;&nbsp;</span>Объединение данных по году</a></span></li><li><span><a href=\"#Консолидация-метрик-по-поду\" data-toc-modified-id=\"Консолидация-метрик-по-поду-1.2.4\"><span class=\"toc-item-num\">1.2.4&nbsp;&nbsp;</span>Консолидация метрик по поду</a></span></li></ul></li><li><span><a href=\"#Исследовательский-анализ\" data-toc-modified-id=\"Исследовательский-анализ-1.3\"><span class=\"toc-item-num\">1.3&nbsp;&nbsp;</span>Исследовательский анализ</a></span></li><li><span><a href=\"#Добавление-признаков\" data-toc-modified-id=\"Добавление-признаков-1.4\"><span class=\"toc-item-num\">1.4&nbsp;&nbsp;</span>Добавление признаков</a></span></li><li><span><a href=\"#Подготовка-пайплайна\" data-toc-modified-id=\"Подготовка-пайплайна-1.5\"><span class=\"toc-item-num\">1.5&nbsp;&nbsp;</span>Подготовка пайплайна</a></span></li><li><span><a href=\"#Подбор-гиперпараметров\" data-toc-modified-id=\"Подбор-гиперпараметров-1.6\"><span class=\"toc-item-num\">1.6&nbsp;&nbsp;</span>Подбор гиперпараметров</a></span></li><li><span><a href=\"#Расчет-ориентира-контрольной-метрики\" data-toc-modified-id=\"Расчет-ориентира-контрольной-метрики-1.7\"><span class=\"toc-item-num\">1.7&nbsp;&nbsp;</span>Расчет ориентира контрольной метрики</a></span></li><li><span><a href=\"#Тестирование-лучшей-модели\" data-toc-modified-id=\"Тестирование-лучшей-модели-1.8\"><span class=\"toc-item-num\">1.8&nbsp;&nbsp;</span>Тестирование лучшей модели</a></span></li><li><span><a href=\"#Итоговый-вывод\" data-toc-modified-id=\"Итоговый-вывод-1.9\"><span class=\"toc-item-num\">1.9&nbsp;&nbsp;</span>Итоговый вывод</a></span></li></ul></li></ul></div>"
   ]
  },
  {
   "cell_type": "markdown",
   "metadata": {},
   "source": [
    "## Прогнозирование использования вычислительных ресурсов в кластере k8s"
   ]
  },
  {
   "cell_type": "markdown",
   "metadata": {},
   "source": [
    "В этом проекте мы исследуем возможность прогнозирования объема фактического потребления vCPU контейнерами приложений, запускаемых в кластере Kubernetes.\\\n",
    "Цель данного исследования - создание прототипа вычислительного ядра системы предсказательного мониторинга, которая позволит оптимизировать баланс реквестов и фактического потребления вычислительного ресурса в кластере. "
   ]
  },
  {
   "cell_type": "markdown",
   "metadata": {},
   "source": [
    "### Загрузка библиотек и функций"
   ]
  },
  {
   "cell_type": "code",
   "execution_count": 2,
   "metadata": {},
   "outputs": [],
   "source": [
    "!pip install --upgrade scikit-learn -q"
   ]
  },
  {
   "cell_type": "code",
   "execution_count": 3,
   "metadata": {},
   "outputs": [],
   "source": [
    "#базовые\n",
    "import pandas as pd\n",
    "import numpy as np\n",
    "import re\n",
    "#генерация случайных чисел\n",
    "import random\n",
    "#учет времени выполнения\n",
    "import time\n",
    "# отключение ошибок\n",
    "import warnings\n",
    "# графики\n",
    "import seaborn as sns\n",
    "import matplotlib.pyplot as plt\n",
    "# преобразование данных\n",
    "from sklearn.model_selection import train_test_split, TimeSeriesSplit\n",
    "# Модели\n",
    "from sklearn.linear_model import LinearRegression, LogisticRegression\n",
    "from lightgbm import LGBMRegressor\n",
    "from sklearn.tree import DecisionTreeRegressor\n",
    "from sklearn.neighbors import KNeighborsRegressor\n",
    "#проверка адекватности модели\n",
    "from sklearn.dummy import DummyRegressor\n",
    "# Метрики\n",
    "from sklearn.metrics import root_mean_squared_error\n",
    "# Инструменты подбора гиперпараметров\n",
    "from sklearn.model_selection import GridSearchCV, RandomizedSearchCV, cross_val_score\n",
    "# пайплайны\n",
    "from sklearn.pipeline import Pipeline\n",
    "#временные ряды\n",
    "from statsmodels.tsa.seasonal import seasonal_decompose\n",
    "\n",
    "RANDOM_STATE = 88"
   ]
  },
  {
   "cell_type": "code",
   "execution_count": 4,
   "metadata": {},
   "outputs": [],
   "source": [
    "#функция печати графиков для исследовательского анализа данных\n",
    "def stat_plots(df, custom_bins={}, countplots=[]):\n",
    "    for column in countplots:\n",
    "        data = df[column]\n",
    "        sns.countplot(data, palette='GnBu_r')\n",
    "        plt.title(f'Количественный анализ дискретного признака {column}')\n",
    "        plt.xlabel('Значения')\n",
    "        plt.ylabel('Количество')\n",
    "        plt.show()\n",
    "    df = df.drop(countplots, axis=1)    \n",
    "    for column in df.select_dtypes(include='number').columns:\n",
    "        try:\n",
    "            nbins = custom_bins[column]\n",
    "        except:\n",
    "            nbins = 10\n",
    "        ind_label = df[column].name\n",
    "        print('=' * 110)\n",
    "        print(f'Статистический анализ показателя {ind_label}')\n",
    "        print('-' * 110)\n",
    "        fig, axes = plt.subplots(nrows=1, ncols=2, figsize=(9,2))\n",
    "        bins = axes[0].hist(df[column], bins=nbins)\n",
    "        axes[0].vlines(x=df[column].mean(), colors='red', ymin=0, ymax=bins[0].max(), label='Среднее')\n",
    "        axes[0].vlines(x=df[column].median(), colors='red', ymin=0, ymax=bins[0].max(), linestyles='--', label='Медиана')\n",
    "        axes[0].set_title('Гистограмма распределения')\n",
    "        axes[0].set_xlabel(ind_label)\n",
    "        axes[0].set_ylabel('Количество значений')\n",
    "        axes[0].legend()\n",
    "        axes[1].boxplot(df[column], vert=False)\n",
    "        axes[1].set_title('Диаграмма размаха')\n",
    "        axes[1].set_xlabel(ind_label)\n",
    "        plt.show()\n",
    "    for column in df.select_dtypes(include='object').columns:\n",
    "        ind_label = df[column].name\n",
    "        df[column].value_counts().plot(kind='pie', autopct='%.0f', subplots=True, legend=False, label=ind_label)\n",
    "        plt.title(f'Распределение долей по показателю {ind_label}')\n",
    "        plt.show()"
   ]
  },
  {
   "cell_type": "markdown",
   "metadata": {},
   "source": [
    "### Загрузка данных"
   ]
  },
  {
   "cell_type": "markdown",
   "metadata": {},
   "source": [
    "#### Функции загрузки"
   ]
  },
  {
   "cell_type": "markdown",
   "metadata": {},
   "source": [
    "Функция load_data загружает файл csv, полученный из БД Prometheus и конвертирует его в формат, необходимый для дальнейшей обработки:"
   ]
  },
  {
   "cell_type": "code",
   "execution_count": 5,
   "metadata": {},
   "outputs": [],
   "source": [
    "def load_data(file_name, dates=1):\n",
    "    start = time.time()\n",
    "    dataframe = pd.read_csv(file_name, parse_dates=[dates]).sort_values(by='datetime').reset_index(drop=True)\n",
    "    dataframe.value = dataframe.value.round(3)\n",
    "    dataframe.datetime = dataframe.datetime.dt.round('1T')\n",
    "    dataframe = dataframe[['datetime', 'value', 'container_name', 'pod_name']]\n",
    "    end = time.time()\n",
    "    print(f'Файл {file_name} успешно загружен за {round((end-start), 2)} сек.')\n",
    "    return dataframe"
   ]
  },
  {
   "cell_type": "markdown",
   "metadata": {},
   "source": [
    "Функция update_pods_list добавляет уникальные сочетания подов и контейнеров из файла данных в единый реестр"
   ]
  },
  {
   "cell_type": "code",
   "execution_count": 6,
   "metadata": {},
   "outputs": [],
   "source": [
    "def update_pods_list(df, registry):\n",
    "    registry = pd.concat((registry, df[['container_name', 'pod_name']]), axis=0)\n",
    "    registry = registry.drop_duplicates().sort_values(by='container_name').reset_index(drop=True)\n",
    "    print(f'В реестре подов {len(registry)} записей.')\n",
    "    return registry"
   ]
  },
  {
   "cell_type": "markdown",
   "metadata": {},
   "source": [
    "Функция get_pod_id выполняет сопоставление названия пода и названия контейнера строке реестра подов"
   ]
  },
  {
   "cell_type": "code",
   "execution_count": 7,
   "metadata": {},
   "outputs": [],
   "source": [
    "def get_pod_id(row):\n",
    "    pod_id = pods_registry[\n",
    "        (pods_registry.container_name == row.container_name)\n",
    "        & (pods_registry.pod_name == row.pod_name)].index[0]\n",
    "    return pod_id"
   ]
  },
  {
   "cell_type": "markdown",
   "metadata": {},
   "source": [
    "Функция mark_pods размечает файл данных уникальными идентификаторами под/контейнер"
   ]
  },
  {
   "cell_type": "code",
   "execution_count": 8,
   "metadata": {},
   "outputs": [],
   "source": [
    "def mark_pods(df):\n",
    "    start = time.time()\n",
    "    df['pod_id'] = df.apply(get_pod_id, axis=1)\n",
    "    end = time.time()\n",
    "    print(f'Маркировка подов выполнена за {round((end-start), 2)} сек.')\n",
    "    return df"
   ]
  },
  {
   "cell_type": "markdown",
   "metadata": {},
   "source": [
    "Функция load_period загружает файлы по всем метрикам за определенный период"
   ]
  },
  {
   "cell_type": "code",
   "execution_count": 9,
   "metadata": {},
   "outputs": [],
   "source": [
    "pods_registry = pd.DataFrame(columns=['container_name', 'pod_name'])\n",
    "\n",
    "def load_period(sources, pods_registry):\n",
    "    cpu_request=pd.DataFrame()\n",
    "    cpu_req_util=pd.DataFrame()\n",
    "    cpu_usage_time=pd.DataFrame()\n",
    "    metrics = [cpu_request, cpu_req_util, cpu_usage_time]\n",
    "\n",
    "    for i in range(0, len(sources)):\n",
    "        metrics[i] = load_data(sources[i])\n",
    "        pods_registry = update_pods_list(metrics[i], pods_registry)\n",
    "    return metrics, pods_registry"
   ]
  },
  {
   "cell_type": "markdown",
   "metadata": {},
   "source": [
    "#### Загрузка данных по месяцам"
   ]
  },
  {
   "cell_type": "markdown",
   "metadata": {},
   "source": [
    "Зададим в качестве источника Prometheus выгрузки за сентябрь и октябрь"
   ]
  },
  {
   "cell_type": "code",
   "execution_count": 10,
   "metadata": {},
   "outputs": [],
   "source": [
    "monthly_sources = [\n",
    "    ['cpu_request_09.csv', 'cpu_util_09.csv', 'cpu_usage_09.csv'],\n",
    "    ['cpu_request_10.csv', 'cpu_req_util_10.csv', 'cpu_usage_time_10.csv']\n",
    "]"
   ]
  },
  {
   "cell_type": "markdown",
   "metadata": {},
   "source": [
    "Загрузим данные из источника с одновременным формированием реестра подов/контейнеров и разметкой файлов данный уникальными идентификаторами из этого реестра."
   ]
  },
  {
   "cell_type": "code",
   "execution_count": 11,
   "metadata": {},
   "outputs": [
    {
     "name": "stdout",
     "output_type": "stream",
     "text": [
      "Файл cpu_request_09.csv успешно загружен за 0.63 сек.\n",
      "В реестре подов 471 записей.\n",
      "Файл cpu_util_09.csv успешно загружен за 0.63 сек.\n",
      "В реестре подов 471 записей.\n",
      "Файл cpu_usage_09.csv успешно загружен за 0.63 сек.\n",
      "В реестре подов 479 записей.\n",
      "Маркировка подов выполнена за 84.63 сек.\n",
      "Маркировка подов выполнена за 75.37 сек.\n",
      "Маркировка подов выполнена за 84.64 сек.\n",
      "Файл cpu_request_10.csv успешно загружен за 0.64 сек.\n",
      "В реестре подов 936 записей.\n",
      "Файл cpu_req_util_10.csv успешно загружен за 0.62 сек.\n",
      "В реестре подов 936 записей.\n",
      "Файл cpu_usage_time_10.csv успешно загружен за 0.78 сек.\n",
      "В реестре подов 937 записей.\n",
      "Маркировка подов выполнена за 96.83 сек.\n",
      "Маркировка подов выполнена за 86.48 сек.\n",
      "Маркировка подов выполнена за 97.14 сек.\n"
     ]
    }
   ],
   "source": [
    "monthly_metrics = []\n",
    "for month in monthly_sources:\n",
    "    metrics_month, pods_registry = load_period(month, pods_registry)\n",
    "    for metric in metrics_month:\n",
    "        mark_pods(metric)\n",
    "    monthly_metrics.append(metrics_month)"
   ]
  },
  {
   "cell_type": "markdown",
   "metadata": {},
   "source": [
    "#### Объединение данных по году"
   ]
  },
  {
   "cell_type": "markdown",
   "metadata": {},
   "source": [
    "Объединим данные по месяцам в единый датасет для каждой метрики Prometheus"
   ]
  },
  {
   "cell_type": "code",
   "execution_count": 12,
   "metadata": {},
   "outputs": [],
   "source": [
    "dataset = []\n",
    "m = 0\n",
    "for i in range(0, len(monthly_sources) - 1):\n",
    "    annual_metrics = []\n",
    "    for m in range(0, 3):\n",
    "        long_metric = pd.concat([monthly_metrics[i][m], monthly_metrics[i+1][m]], axis=0)\n",
    "        annual_metrics.append(long_metric)\n",
    "    dataset.append(annual_metrics)"
   ]
  },
  {
   "cell_type": "markdown",
   "metadata": {},
   "source": [
    "#### Консолидация метрик по поду"
   ]
  },
  {
   "cell_type": "markdown",
   "metadata": {},
   "source": [
    "Функция compile_pod_metrics консолидирует все загруженные метрики Prometheus в единый файл данных для конкретного контейнера определенного пода. "
   ]
  },
  {
   "cell_type": "code",
   "execution_count": 13,
   "metadata": {},
   "outputs": [],
   "source": [
    "def compile_pod_metrics(pod_id):\n",
    "    base = dataset[0][0]\n",
    "    timeline = base[base['pod_id'] == pod_id].sort_values(by='datetime').set_index('datetime').index\n",
    "    pod_data = pd.DataFrame(index=timeline)\n",
    "    col_names = ['cpu_request', 'cpu_req_util', 'cpu_usage_time']\n",
    "    i = 0\n",
    "    for df in dataset[0]:\n",
    "        metric = df[df['pod_id'] == pod_id][['datetime', 'value']].sort_values(by='datetime').set_index('datetime')\n",
    "        metric.columns = metric.columns.str.replace('value', col_names[i])\n",
    "        pod_data = pod_data.join(metric, how='left')\n",
    "        i += 1\n",
    "    return pod_data"
   ]
  },
  {
   "cell_type": "markdown",
   "metadata": {},
   "source": [
    "Сформируем датасет из метрик для одного из контейнеров:"
   ]
  },
  {
   "cell_type": "code",
   "execution_count": 14,
   "metadata": {},
   "outputs": [
    {
     "data": {
      "text/html": [
       "<div>\n",
       "<style scoped>\n",
       "    .dataframe tbody tr th:only-of-type {\n",
       "        vertical-align: middle;\n",
       "    }\n",
       "\n",
       "    .dataframe tbody tr th {\n",
       "        vertical-align: top;\n",
       "    }\n",
       "\n",
       "    .dataframe thead th {\n",
       "        text-align: right;\n",
       "    }\n",
       "</style>\n",
       "<table border=\"1\" class=\"dataframe\">\n",
       "  <thead>\n",
       "    <tr style=\"text-align: right;\">\n",
       "      <th></th>\n",
       "      <th>cpu_request</th>\n",
       "      <th>cpu_req_util</th>\n",
       "      <th>cpu_usage_time</th>\n",
       "    </tr>\n",
       "    <tr>\n",
       "      <th>datetime</th>\n",
       "      <th></th>\n",
       "      <th></th>\n",
       "      <th></th>\n",
       "    </tr>\n",
       "  </thead>\n",
       "  <tbody>\n",
       "    <tr>\n",
       "      <th>2024-09-17 15:07:00</th>\n",
       "      <td>2.0</td>\n",
       "      <td>0.134</td>\n",
       "      <td>0.563</td>\n",
       "    </tr>\n",
       "    <tr>\n",
       "      <th>2024-09-17 15:17:00</th>\n",
       "      <td>2.0</td>\n",
       "      <td>0.153</td>\n",
       "      <td>0.548</td>\n",
       "    </tr>\n",
       "    <tr>\n",
       "      <th>2024-09-17 15:27:00</th>\n",
       "      <td>2.0</td>\n",
       "      <td>0.154</td>\n",
       "      <td>0.556</td>\n",
       "    </tr>\n",
       "    <tr>\n",
       "      <th>2024-09-17 15:37:00</th>\n",
       "      <td>2.0</td>\n",
       "      <td>0.128</td>\n",
       "      <td>0.565</td>\n",
       "    </tr>\n",
       "    <tr>\n",
       "      <th>2024-09-17 15:47:00</th>\n",
       "      <td>2.0</td>\n",
       "      <td>0.202</td>\n",
       "      <td>0.564</td>\n",
       "    </tr>\n",
       "    <tr>\n",
       "      <th>...</th>\n",
       "      <td>...</td>\n",
       "      <td>...</td>\n",
       "      <td>...</td>\n",
       "    </tr>\n",
       "    <tr>\n",
       "      <th>2024-11-16 14:17:00</th>\n",
       "      <td>2.0</td>\n",
       "      <td>0.163</td>\n",
       "      <td>0.477</td>\n",
       "    </tr>\n",
       "    <tr>\n",
       "      <th>2024-11-16 14:27:00</th>\n",
       "      <td>2.0</td>\n",
       "      <td>0.113</td>\n",
       "      <td>0.498</td>\n",
       "    </tr>\n",
       "    <tr>\n",
       "      <th>2024-11-16 14:37:00</th>\n",
       "      <td>2.0</td>\n",
       "      <td>0.154</td>\n",
       "      <td>0.467</td>\n",
       "    </tr>\n",
       "    <tr>\n",
       "      <th>2024-11-16 14:47:00</th>\n",
       "      <td>2.0</td>\n",
       "      <td>0.076</td>\n",
       "      <td>0.508</td>\n",
       "    </tr>\n",
       "    <tr>\n",
       "      <th>2024-11-16 14:57:00</th>\n",
       "      <td>2.0</td>\n",
       "      <td>0.217</td>\n",
       "      <td>0.483</td>\n",
       "    </tr>\n",
       "  </tbody>\n",
       "</table>\n",
       "<p>8730 rows × 3 columns</p>\n",
       "</div>"
      ],
      "text/plain": [
       "                     cpu_request  cpu_req_util  cpu_usage_time\n",
       "datetime                                                      \n",
       "2024-09-17 15:07:00          2.0         0.134           0.563\n",
       "2024-09-17 15:17:00          2.0         0.153           0.548\n",
       "2024-09-17 15:27:00          2.0         0.154           0.556\n",
       "2024-09-17 15:37:00          2.0         0.128           0.565\n",
       "2024-09-17 15:47:00          2.0         0.202           0.564\n",
       "...                          ...           ...             ...\n",
       "2024-11-16 14:17:00          2.0         0.163           0.477\n",
       "2024-11-16 14:27:00          2.0         0.113           0.498\n",
       "2024-11-16 14:37:00          2.0         0.154           0.467\n",
       "2024-11-16 14:47:00          2.0         0.076           0.508\n",
       "2024-11-16 14:57:00          2.0         0.217           0.483\n",
       "\n",
       "[8730 rows x 3 columns]"
      ]
     },
     "execution_count": 14,
     "metadata": {},
     "output_type": "execute_result"
    }
   ],
   "source": [
    "data = compile_pod_metrics(0)\n",
    "data"
   ]
  },
  {
   "cell_type": "markdown",
   "metadata": {},
   "source": [
    "### Исследовательский анализ"
   ]
  },
  {
   "cell_type": "markdown",
   "metadata": {},
   "source": [
    "Изучим распределения метрик для выбранного контейнера и пода:"
   ]
  },
  {
   "cell_type": "code",
   "execution_count": 15,
   "metadata": {
    "scrolled": true
   },
   "outputs": [
    {
     "name": "stdout",
     "output_type": "stream",
     "text": [
      "==============================================================================================================\n",
      "Статистический анализ показателя cpu_request\n",
      "--------------------------------------------------------------------------------------------------------------\n"
     ]
    },
    {
     "data": {
      "image/png": "[encoded data removed]",
      "text/plain": [
       "<Figure size 648x144 with 2 Axes>"
      ]
     },
     "metadata": {
      "needs_background": "light"
     },
     "output_type": "display_data"
    },
    {
     "name": "stdout",
     "output_type": "stream",
     "text": [
      "==============================================================================================================\n",
      "Статистический анализ показателя cpu_req_util\n",
      "--------------------------------------------------------------------------------------------------------------\n"
     ]
    },
    {
     "data": {
      "image/png": "[encoded data removed]",
      "text/plain": [
       "<Figure size 648x144 with 2 Axes>"
      ]
     },
     "metadata": {
      "needs_background": "light"
     },
     "output_type": "display_data"
    },
    {
     "name": "stdout",
     "output_type": "stream",
     "text": [
      "==============================================================================================================\n",
      "Статистический анализ показателя cpu_usage_time\n",
      "--------------------------------------------------------------------------------------------------------------\n"
     ]
    },
    {
     "data": {
      "image/png": "[encoded data removed]",
      "text/plain": [
       "<Figure size 648x144 with 2 Axes>"
      ]
     },
     "metadata": {
      "needs_background": "light"
     },
     "output_type": "display_data"
    }
   ],
   "source": [
    "stat_plots(data)"
   ]
  },
  {
   "cell_type": "markdown",
   "metadata": {},
   "source": [
    "Изучим исследуемый временной ряд на предмет стационарности"
   ]
  },
  {
   "cell_type": "code",
   "execution_count": 16,
   "metadata": {},
   "outputs": [
    {
     "data": {
      "image/png": "[encoded data removed]",
      "text/plain": [
       "<Figure size 1440x576 with 1 Axes>"
      ]
     },
     "metadata": {
      "needs_background": "light"
     },
     "output_type": "display_data"
    }
   ],
   "source": [
    "data['rolling_mean'] = data.cpu_req_util.shift().rolling(6).mean()\n",
    "data['rolling_mean'] = data['rolling_mean'].fillna(0)\n",
    "data['std'] = data.cpu_req_util.rolling(6).std()\n",
    "data['std'] = data['std'].fillna(0)\n",
    "\n",
    "data[24:].plot(figsize=(20, 8))\n",
    "plt.show()"
   ]
  },
  {
   "cell_type": "markdown",
   "metadata": {},
   "source": [
    "Как мы можем наблюдать, временной ряд значений утилизации реквестов не является стационарным, поскольку его скользящая средняя меняется."
   ]
  },
  {
   "cell_type": "markdown",
   "metadata": {},
   "source": [
    "Исследуем наличие сезонности в имеющихся данных:"
   ]
  },
  {
   "cell_type": "code",
   "execution_count": 17,
   "metadata": {},
   "outputs": [
    {
     "data": {
      "image/png": "[encoded data removed]",
      "text/plain": [
       "<Figure size 1440x1728 with 3 Axes>"
      ]
     },
     "metadata": {
      "needs_background": "light"
     },
     "output_type": "display_data"
    }
   ],
   "source": [
    "data.index = pd.PeriodIndex(data.index, freq='D')\n",
    "decomposed = seasonal_decompose(data.cpu_req_util, period=48)\n",
    "\n",
    "plt.figure(figsize=(20, 24))\n",
    "plt.subplot(321)\n",
    "decomposed.trend.plot(ax=plt.gca())\n",
    "plt.title('Тренд')\n",
    "plt.subplot(322)\n",
    "decomposed.seasonal.plot(ax=plt.gca())\n",
    "plt.title('Сезонность')\n",
    "plt.subplot(312)\n",
    "decomposed.resid.plot(ax=plt.gca())\n",
    "plt.title('Остатки')\n",
    "plt.show()"
   ]
  },
  {
   "cell_type": "code",
   "execution_count": 18,
   "metadata": {},
   "outputs": [],
   "source": [
    "october = decomposed.seasonal[(decomposed.seasonal.index >= '2024-10-01') & (decomposed.seasonal.index <= '2024-10-31')]"
   ]
  },
  {
   "cell_type": "code",
   "execution_count": 19,
   "metadata": {},
   "outputs": [
    {
     "data": {
      "image/png": "[encoded data removed]",
      "text/plain": [
       "<Figure size 576x288 with 1 Axes>"
      ]
     },
     "metadata": {
      "needs_background": "light"
     },
     "output_type": "display_data"
    }
   ],
   "source": [
    "october.plot(title='Сезонность по месяцу', figsize=(8, 4))\n",
    "plt.show()"
   ]
  },
  {
   "cell_type": "markdown",
   "metadata": {},
   "source": [
    "### Добавление признаков"
   ]
  },
  {
   "cell_type": "code",
   "execution_count": 20,
   "metadata": {},
   "outputs": [],
   "source": [
    "data = compile_pod_metrics(0)"
   ]
  },
  {
   "cell_type": "markdown",
   "metadata": {},
   "source": [
    "Для целей настоящего исследования будем прогнозировать признак cpu_request_util - утилизация реквеста vCPU"
   ]
  },
  {
   "cell_type": "code",
   "execution_count": 21,
   "metadata": {},
   "outputs": [],
   "source": [
    "data = data.drop(['cpu_request', 'cpu_usage_time'], axis=1)"
   ]
  },
  {
   "cell_type": "markdown",
   "metadata": {},
   "source": [
    "Функция make_features добавляет новые признаки в виде смещенного по времени значения целевого признака на заданное количество шагов max_lag, а также скользящую среднюю по всему периоду смещения."
   ]
  },
  {
   "cell_type": "code",
   "execution_count": 22,
   "metadata": {},
   "outputs": [],
   "source": [
    "def make_features(data, max_lag):\n",
    "    for lag in range(1, max_lag + 1):\n",
    "        data[f'lag_{lag}'] = data.cpu_req_util.shift(lag)\n",
    "    data['rolling_mean'] = data.cpu_req_util.shift().rolling(max_lag).mean()"
   ]
  },
  {
   "cell_type": "markdown",
   "metadata": {},
   "source": [
    "Создадим дополнительные признаки:"
   ]
  },
  {
   "cell_type": "code",
   "execution_count": 23,
   "metadata": {},
   "outputs": [
    {
     "data": {
      "text/html": [
       "<div>\n",
       "<style scoped>\n",
       "    .dataframe tbody tr th:only-of-type {\n",
       "        vertical-align: middle;\n",
       "    }\n",
       "\n",
       "    .dataframe tbody tr th {\n",
       "        vertical-align: top;\n",
       "    }\n",
       "\n",
       "    .dataframe thead th {\n",
       "        text-align: right;\n",
       "    }\n",
       "</style>\n",
       "<table border=\"1\" class=\"dataframe\">\n",
       "  <thead>\n",
       "    <tr style=\"text-align: right;\">\n",
       "      <th></th>\n",
       "      <th>cpu_req_util</th>\n",
       "      <th>lag_1</th>\n",
       "      <th>lag_2</th>\n",
       "      <th>lag_3</th>\n",
       "      <th>lag_4</th>\n",
       "      <th>lag_5</th>\n",
       "      <th>lag_6</th>\n",
       "      <th>lag_7</th>\n",
       "      <th>rolling_mean</th>\n",
       "    </tr>\n",
       "    <tr>\n",
       "      <th>datetime</th>\n",
       "      <th></th>\n",
       "      <th></th>\n",
       "      <th></th>\n",
       "      <th></th>\n",
       "      <th></th>\n",
       "      <th></th>\n",
       "      <th></th>\n",
       "      <th></th>\n",
       "      <th></th>\n",
       "    </tr>\n",
       "  </thead>\n",
       "  <tbody>\n",
       "    <tr>\n",
       "      <th>2024-09-17 15:07:00</th>\n",
       "      <td>0.134</td>\n",
       "      <td>0.000</td>\n",
       "      <td>0.000</td>\n",
       "      <td>0.000</td>\n",
       "      <td>0.000</td>\n",
       "      <td>0.000</td>\n",
       "      <td>0.000</td>\n",
       "      <td>0.000</td>\n",
       "      <td>0.000000</td>\n",
       "    </tr>\n",
       "    <tr>\n",
       "      <th>2024-09-17 15:17:00</th>\n",
       "      <td>0.153</td>\n",
       "      <td>0.134</td>\n",
       "      <td>0.000</td>\n",
       "      <td>0.000</td>\n",
       "      <td>0.000</td>\n",
       "      <td>0.000</td>\n",
       "      <td>0.000</td>\n",
       "      <td>0.000</td>\n",
       "      <td>0.000000</td>\n",
       "    </tr>\n",
       "    <tr>\n",
       "      <th>2024-09-17 15:27:00</th>\n",
       "      <td>0.154</td>\n",
       "      <td>0.153</td>\n",
       "      <td>0.134</td>\n",
       "      <td>0.000</td>\n",
       "      <td>0.000</td>\n",
       "      <td>0.000</td>\n",
       "      <td>0.000</td>\n",
       "      <td>0.000</td>\n",
       "      <td>0.000000</td>\n",
       "    </tr>\n",
       "    <tr>\n",
       "      <th>2024-09-17 15:37:00</th>\n",
       "      <td>0.128</td>\n",
       "      <td>0.154</td>\n",
       "      <td>0.153</td>\n",
       "      <td>0.134</td>\n",
       "      <td>0.000</td>\n",
       "      <td>0.000</td>\n",
       "      <td>0.000</td>\n",
       "      <td>0.000</td>\n",
       "      <td>0.000000</td>\n",
       "    </tr>\n",
       "    <tr>\n",
       "      <th>2024-09-17 15:47:00</th>\n",
       "      <td>0.202</td>\n",
       "      <td>0.128</td>\n",
       "      <td>0.154</td>\n",
       "      <td>0.153</td>\n",
       "      <td>0.134</td>\n",
       "      <td>0.000</td>\n",
       "      <td>0.000</td>\n",
       "      <td>0.000</td>\n",
       "      <td>0.000000</td>\n",
       "    </tr>\n",
       "    <tr>\n",
       "      <th>2024-09-17 15:57:00</th>\n",
       "      <td>0.197</td>\n",
       "      <td>0.202</td>\n",
       "      <td>0.128</td>\n",
       "      <td>0.154</td>\n",
       "      <td>0.153</td>\n",
       "      <td>0.134</td>\n",
       "      <td>0.000</td>\n",
       "      <td>0.000</td>\n",
       "      <td>0.000000</td>\n",
       "    </tr>\n",
       "    <tr>\n",
       "      <th>2024-09-17 16:07:00</th>\n",
       "      <td>0.141</td>\n",
       "      <td>0.197</td>\n",
       "      <td>0.202</td>\n",
       "      <td>0.128</td>\n",
       "      <td>0.154</td>\n",
       "      <td>0.153</td>\n",
       "      <td>0.134</td>\n",
       "      <td>0.000</td>\n",
       "      <td>0.000000</td>\n",
       "    </tr>\n",
       "    <tr>\n",
       "      <th>2024-09-17 16:17:00</th>\n",
       "      <td>0.146</td>\n",
       "      <td>0.141</td>\n",
       "      <td>0.197</td>\n",
       "      <td>0.202</td>\n",
       "      <td>0.128</td>\n",
       "      <td>0.154</td>\n",
       "      <td>0.153</td>\n",
       "      <td>0.134</td>\n",
       "      <td>0.158429</td>\n",
       "    </tr>\n",
       "    <tr>\n",
       "      <th>2024-09-17 16:27:00</th>\n",
       "      <td>0.215</td>\n",
       "      <td>0.146</td>\n",
       "      <td>0.141</td>\n",
       "      <td>0.197</td>\n",
       "      <td>0.202</td>\n",
       "      <td>0.128</td>\n",
       "      <td>0.154</td>\n",
       "      <td>0.153</td>\n",
       "      <td>0.160143</td>\n",
       "    </tr>\n",
       "    <tr>\n",
       "      <th>2024-09-17 16:37:00</th>\n",
       "      <td>0.110</td>\n",
       "      <td>0.215</td>\n",
       "      <td>0.146</td>\n",
       "      <td>0.141</td>\n",
       "      <td>0.197</td>\n",
       "      <td>0.202</td>\n",
       "      <td>0.128</td>\n",
       "      <td>0.154</td>\n",
       "      <td>0.169000</td>\n",
       "    </tr>\n",
       "    <tr>\n",
       "      <th>2024-09-17 16:47:00</th>\n",
       "      <td>0.152</td>\n",
       "      <td>0.110</td>\n",
       "      <td>0.215</td>\n",
       "      <td>0.146</td>\n",
       "      <td>0.141</td>\n",
       "      <td>0.197</td>\n",
       "      <td>0.202</td>\n",
       "      <td>0.128</td>\n",
       "      <td>0.162714</td>\n",
       "    </tr>\n",
       "    <tr>\n",
       "      <th>2024-09-17 16:57:00</th>\n",
       "      <td>0.190</td>\n",
       "      <td>0.152</td>\n",
       "      <td>0.110</td>\n",
       "      <td>0.215</td>\n",
       "      <td>0.146</td>\n",
       "      <td>0.141</td>\n",
       "      <td>0.197</td>\n",
       "      <td>0.202</td>\n",
       "      <td>0.166143</td>\n",
       "    </tr>\n",
       "    <tr>\n",
       "      <th>2024-09-17 17:07:00</th>\n",
       "      <td>0.116</td>\n",
       "      <td>0.190</td>\n",
       "      <td>0.152</td>\n",
       "      <td>0.110</td>\n",
       "      <td>0.215</td>\n",
       "      <td>0.146</td>\n",
       "      <td>0.141</td>\n",
       "      <td>0.197</td>\n",
       "      <td>0.164429</td>\n",
       "    </tr>\n",
       "    <tr>\n",
       "      <th>2024-09-17 17:17:00</th>\n",
       "      <td>0.198</td>\n",
       "      <td>0.116</td>\n",
       "      <td>0.190</td>\n",
       "      <td>0.152</td>\n",
       "      <td>0.110</td>\n",
       "      <td>0.215</td>\n",
       "      <td>0.146</td>\n",
       "      <td>0.141</td>\n",
       "      <td>0.152857</td>\n",
       "    </tr>\n",
       "    <tr>\n",
       "      <th>2024-09-17 17:27:00</th>\n",
       "      <td>0.200</td>\n",
       "      <td>0.198</td>\n",
       "      <td>0.116</td>\n",
       "      <td>0.190</td>\n",
       "      <td>0.152</td>\n",
       "      <td>0.110</td>\n",
       "      <td>0.215</td>\n",
       "      <td>0.146</td>\n",
       "      <td>0.161000</td>\n",
       "    </tr>\n",
       "  </tbody>\n",
       "</table>\n",
       "</div>"
      ],
      "text/plain": [
       "                     cpu_req_util  lag_1  lag_2  lag_3  lag_4  lag_5  lag_6  \\\n",
       "datetime                                                                      \n",
       "2024-09-17 15:07:00         0.134  0.000  0.000  0.000  0.000  0.000  0.000   \n",
       "2024-09-17 15:17:00         0.153  0.134  0.000  0.000  0.000  0.000  0.000   \n",
       "2024-09-17 15:27:00         0.154  0.153  0.134  0.000  0.000  0.000  0.000   \n",
       "2024-09-17 15:37:00         0.128  0.154  0.153  0.134  0.000  0.000  0.000   \n",
       "2024-09-17 15:47:00         0.202  0.128  0.154  0.153  0.134  0.000  0.000   \n",
       "2024-09-17 15:57:00         0.197  0.202  0.128  0.154  0.153  0.134  0.000   \n",
       "2024-09-17 16:07:00         0.141  0.197  0.202  0.128  0.154  0.153  0.134   \n",
       "2024-09-17 16:17:00         0.146  0.141  0.197  0.202  0.128  0.154  0.153   \n",
       "2024-09-17 16:27:00         0.215  0.146  0.141  0.197  0.202  0.128  0.154   \n",
       "2024-09-17 16:37:00         0.110  0.215  0.146  0.141  0.197  0.202  0.128   \n",
       "2024-09-17 16:47:00         0.152  0.110  0.215  0.146  0.141  0.197  0.202   \n",
       "2024-09-17 16:57:00         0.190  0.152  0.110  0.215  0.146  0.141  0.197   \n",
       "2024-09-17 17:07:00         0.116  0.190  0.152  0.110  0.215  0.146  0.141   \n",
       "2024-09-17 17:17:00         0.198  0.116  0.190  0.152  0.110  0.215  0.146   \n",
       "2024-09-17 17:27:00         0.200  0.198  0.116  0.190  0.152  0.110  0.215   \n",
       "\n",
       "                     lag_7  rolling_mean  \n",
       "datetime                                  \n",
       "2024-09-17 15:07:00  0.000      0.000000  \n",
       "2024-09-17 15:17:00  0.000      0.000000  \n",
       "2024-09-17 15:27:00  0.000      0.000000  \n",
       "2024-09-17 15:37:00  0.000      0.000000  \n",
       "2024-09-17 15:47:00  0.000      0.000000  \n",
       "2024-09-17 15:57:00  0.000      0.000000  \n",
       "2024-09-17 16:07:00  0.000      0.000000  \n",
       "2024-09-17 16:17:00  0.134      0.158429  \n",
       "2024-09-17 16:27:00  0.153      0.160143  \n",
       "2024-09-17 16:37:00  0.154      0.169000  \n",
       "2024-09-17 16:47:00  0.128      0.162714  \n",
       "2024-09-17 16:57:00  0.202      0.166143  \n",
       "2024-09-17 17:07:00  0.197      0.164429  \n",
       "2024-09-17 17:17:00  0.141      0.152857  \n",
       "2024-09-17 17:27:00  0.146      0.161000  "
      ]
     },
     "execution_count": 23,
     "metadata": {},
     "output_type": "execute_result"
    }
   ],
   "source": [
    "make_features(data, 7)\n",
    "data = data.fillna(0)\n",
    "data.head(15)"
   ]
  },
  {
   "cell_type": "markdown",
   "metadata": {},
   "source": [
    "### Подготовка пайплайна"
   ]
  },
  {
   "cell_type": "code",
   "execution_count": 24,
   "metadata": {},
   "outputs": [],
   "source": [
    "train, test = train_test_split(data, shuffle=False, test_size=0.12)\n",
    "X_train, y_train = train.drop('cpu_req_util', axis=1), train.cpu_req_util\n",
    "X_test, y_test = test.drop('cpu_req_util', axis=1), test.cpu_req_util"
   ]
  },
  {
   "cell_type": "code",
   "execution_count": 25,
   "metadata": {},
   "outputs": [],
   "source": [
    "pipe_train =  Pipeline([\n",
    "    ('models', 'passthrough')\n",
    "])"
   ]
  },
  {
   "cell_type": "code",
   "execution_count": 26,
   "metadata": {},
   "outputs": [],
   "source": [
    "linear = [\n",
    "    {\n",
    "        'models': [LinearRegression()],\n",
    "        'models__n_jobs': range(2, 15)\n",
    "    }\n",
    "]"
   ]
  },
  {
   "cell_type": "code",
   "execution_count": 27,
   "metadata": {},
   "outputs": [],
   "source": [
    "tree = [\n",
    "    {\n",
    "        'models': [DecisionTreeRegressor(random_state=RANDOM_STATE)],\n",
    "        'models__min_samples_split': range(2, 50),\n",
    "        'models__min_samples_leaf': range(2, 50),\n",
    "        'models__max_depth': range(2, 50),\n",
    "        'models__max_features': range(2, 50),\n",
    "    }\n",
    "]"
   ]
  },
  {
   "cell_type": "code",
   "execution_count": 28,
   "metadata": {},
   "outputs": [],
   "source": [
    "knn = [\n",
    "    {\n",
    "        'models': [KNeighborsRegressor()],\n",
    "        'models__n_neighbors': range(2, 50),\n",
    "    }\n",
    "]"
   ]
  },
  {
   "cell_type": "code",
   "execution_count": 29,
   "metadata": {},
   "outputs": [],
   "source": [
    "boosting = [\n",
    "    {\n",
    "        'models': [LGBMRegressor(random_state=RANDOM_STATE)],\n",
    "        'models__max_depth': range(2, 5),\n",
    "        'models__num_leaves': range(4, 20),\n",
    "    } \n",
    "]"
   ]
  },
  {
   "cell_type": "markdown",
   "metadata": {},
   "source": [
    "Создадим наборы из инициализированных выше комплектов настроек моделей:"
   ]
  },
  {
   "cell_type": "code",
   "execution_count": 30,
   "metadata": {},
   "outputs": [],
   "source": [
    "model_set = [linear, tree, knn, boosting]"
   ]
  },
  {
   "cell_type": "code",
   "execution_count": 31,
   "metadata": {},
   "outputs": [],
   "source": [
    "model_names = ['LinearRegression', 'DecisionTree', 'kNN', 'LightGBM']"
   ]
  },
  {
   "cell_type": "markdown",
   "metadata": {},
   "source": [
    "Инициализируем экземпляры RandomizedSearchCV для всех моделей:"
   ]
  },
  {
   "cell_type": "code",
   "execution_count": 32,
   "metadata": {},
   "outputs": [],
   "source": [
    "cv_tests = []\n",
    "tscv = TimeSeriesSplit(n_splits=5)\n",
    "\n",
    "for model in model_set:\n",
    "    param_search = RandomizedSearchCV(\n",
    "        pipe_train,\n",
    "        model,\n",
    "        n_jobs=-1,\n",
    "        cv=tscv,\n",
    "        n_iter=10,\n",
    "        scoring='neg_root_mean_squared_error'\n",
    "    )\n",
    "    cv_tests.append(param_search)"
   ]
  },
  {
   "cell_type": "markdown",
   "metadata": {},
   "source": [
    "### Подбор гиперпараметров"
   ]
  },
  {
   "cell_type": "markdown",
   "metadata": {},
   "source": [
    "Выполним в цикле подбор гиперпараметров и запишем результаты в отдельные списки:"
   ]
  },
  {
   "cell_type": "code",
   "execution_count": 33,
   "metadata": {},
   "outputs": [
    {
     "name": "stdout",
     "output_type": "stream",
     "text": [
      "Модель LinearRegression рассчитана за 5 сек. Результаты:\n"
     ]
    },
    {
     "data": {
      "text/html": [
       "<div>\n",
       "<style scoped>\n",
       "    .dataframe tbody tr th:only-of-type {\n",
       "        vertical-align: middle;\n",
       "    }\n",
       "\n",
       "    .dataframe tbody tr th {\n",
       "        vertical-align: top;\n",
       "    }\n",
       "\n",
       "    .dataframe thead th {\n",
       "        text-align: right;\n",
       "    }\n",
       "</style>\n",
       "<table border=\"1\" class=\"dataframe\">\n",
       "  <thead>\n",
       "    <tr style=\"text-align: right;\">\n",
       "      <th></th>\n",
       "      <th>mean_test_score</th>\n",
       "      <th>params</th>\n",
       "    </tr>\n",
       "  </thead>\n",
       "  <tbody>\n",
       "    <tr>\n",
       "      <th>0</th>\n",
       "      <td>-0.048082</td>\n",
       "      <td>{'models__n_jobs': 11, 'models': LinearRegression()}</td>\n",
       "    </tr>\n",
       "    <tr>\n",
       "      <th>1</th>\n",
       "      <td>-0.048082</td>\n",
       "      <td>{'models__n_jobs': 9, 'models': LinearRegression()}</td>\n",
       "    </tr>\n",
       "    <tr>\n",
       "      <th>2</th>\n",
       "      <td>-0.048082</td>\n",
       "      <td>{'models__n_jobs': 3, 'models': LinearRegression()}</td>\n",
       "    </tr>\n",
       "  </tbody>\n",
       "</table>\n",
       "</div>"
      ],
      "text/plain": [
       "   mean_test_score                                                params\n",
       "0        -0.048082  {'models__n_jobs': 11, 'models': LinearRegression()}\n",
       "1        -0.048082   {'models__n_jobs': 9, 'models': LinearRegression()}\n",
       "2        -0.048082   {'models__n_jobs': 3, 'models': LinearRegression()}"
      ]
     },
     "metadata": {},
     "output_type": "display_data"
    },
    {
     "name": "stdout",
     "output_type": "stream",
     "text": [
      "Модель DecisionTree рассчитана за 1 сек. Результаты:\n"
     ]
    },
    {
     "data": {
      "text/html": [
       "<div>\n",
       "<style scoped>\n",
       "    .dataframe tbody tr th:only-of-type {\n",
       "        vertical-align: middle;\n",
       "    }\n",
       "\n",
       "    .dataframe tbody tr th {\n",
       "        vertical-align: top;\n",
       "    }\n",
       "\n",
       "    .dataframe thead th {\n",
       "        text-align: right;\n",
       "    }\n",
       "</style>\n",
       "<table border=\"1\" class=\"dataframe\">\n",
       "  <thead>\n",
       "    <tr style=\"text-align: right;\">\n",
       "      <th></th>\n",
       "      <th>mean_test_score</th>\n",
       "      <th>params</th>\n",
       "    </tr>\n",
       "  </thead>\n",
       "  <tbody>\n",
       "    <tr>\n",
       "      <th>3</th>\n",
       "      <td>-0.052448</td>\n",
       "      <td>{'models__min_samples_split': 22, 'models__min_samples_leaf': 43, 'models__max_features': 27, 'models__max_depth': 18, 'models': DecisionTreeRegressor(random_state=88)}</td>\n",
       "    </tr>\n",
       "    <tr>\n",
       "      <th>1</th>\n",
       "      <td>-0.052529</td>\n",
       "      <td>{'models__min_samples_split': 46, 'models__min_samples_leaf': 42, 'models__max_features': 44, 'models__max_depth': 27, 'models': DecisionTreeRegressor(random_state=88)}</td>\n",
       "    </tr>\n",
       "    <tr>\n",
       "      <th>0</th>\n",
       "      <td>-0.052533</td>\n",
       "      <td>{'models__min_samples_split': 34, 'models__min_samples_leaf': 31, 'models__max_features': 29, 'models__max_depth': 17, 'models': DecisionTreeRegressor(random_state=88)}</td>\n",
       "    </tr>\n",
       "  </tbody>\n",
       "</table>\n",
       "</div>"
      ],
      "text/plain": [
       "   mean_test_score  \\\n",
       "3        -0.052448   \n",
       "1        -0.052529   \n",
       "0        -0.052533   \n",
       "\n",
       "                                                                                                                                                                     params  \n",
       "3  {'models__min_samples_split': 22, 'models__min_samples_leaf': 43, 'models__max_features': 27, 'models__max_depth': 18, 'models': DecisionTreeRegressor(random_state=88)}  \n",
       "1  {'models__min_samples_split': 46, 'models__min_samples_leaf': 42, 'models__max_features': 44, 'models__max_depth': 27, 'models': DecisionTreeRegressor(random_state=88)}  \n",
       "0  {'models__min_samples_split': 34, 'models__min_samples_leaf': 31, 'models__max_features': 29, 'models__max_depth': 17, 'models': DecisionTreeRegressor(random_state=88)}  "
      ]
     },
     "metadata": {},
     "output_type": "display_data"
    },
    {
     "name": "stdout",
     "output_type": "stream",
     "text": [
      "Модель kNN рассчитана за 1 сек. Результаты:\n"
     ]
    },
    {
     "data": {
      "text/html": [
       "<div>\n",
       "<style scoped>\n",
       "    .dataframe tbody tr th:only-of-type {\n",
       "        vertical-align: middle;\n",
       "    }\n",
       "\n",
       "    .dataframe tbody tr th {\n",
       "        vertical-align: top;\n",
       "    }\n",
       "\n",
       "    .dataframe thead th {\n",
       "        text-align: right;\n",
       "    }\n",
       "</style>\n",
       "<table border=\"1\" class=\"dataframe\">\n",
       "  <thead>\n",
       "    <tr style=\"text-align: right;\">\n",
       "      <th></th>\n",
       "      <th>mean_test_score</th>\n",
       "      <th>params</th>\n",
       "    </tr>\n",
       "  </thead>\n",
       "  <tbody>\n",
       "    <tr>\n",
       "      <th>9</th>\n",
       "      <td>-0.050546</td>\n",
       "      <td>{'models__n_neighbors': 22, 'models': KNeighborsRegressor()}</td>\n",
       "    </tr>\n",
       "    <tr>\n",
       "      <th>8</th>\n",
       "      <td>-0.050609</td>\n",
       "      <td>{'models__n_neighbors': 17, 'models': KNeighborsRegressor()}</td>\n",
       "    </tr>\n",
       "    <tr>\n",
       "      <th>0</th>\n",
       "      <td>-0.050671</td>\n",
       "      <td>{'models__n_neighbors': 30, 'models': KNeighborsRegressor()}</td>\n",
       "    </tr>\n",
       "  </tbody>\n",
       "</table>\n",
       "</div>"
      ],
      "text/plain": [
       "   mean_test_score  \\\n",
       "9        -0.050546   \n",
       "8        -0.050609   \n",
       "0        -0.050671   \n",
       "\n",
       "                                                         params  \n",
       "9  {'models__n_neighbors': 22, 'models': KNeighborsRegressor()}  \n",
       "8  {'models__n_neighbors': 17, 'models': KNeighborsRegressor()}  \n",
       "0  {'models__n_neighbors': 30, 'models': KNeighborsRegressor()}  "
      ]
     },
     "metadata": {},
     "output_type": "display_data"
    },
    {
     "name": "stdout",
     "output_type": "stream",
     "text": [
      "Модель LightGBM рассчитана за 11 сек. Результаты:\n"
     ]
    },
    {
     "data": {
      "text/html": [
       "<div>\n",
       "<style scoped>\n",
       "    .dataframe tbody tr th:only-of-type {\n",
       "        vertical-align: middle;\n",
       "    }\n",
       "\n",
       "    .dataframe tbody tr th {\n",
       "        vertical-align: top;\n",
       "    }\n",
       "\n",
       "    .dataframe thead th {\n",
       "        text-align: right;\n",
       "    }\n",
       "</style>\n",
       "<table border=\"1\" class=\"dataframe\">\n",
       "  <thead>\n",
       "    <tr style=\"text-align: right;\">\n",
       "      <th></th>\n",
       "      <th>mean_test_score</th>\n",
       "      <th>params</th>\n",
       "    </tr>\n",
       "  </thead>\n",
       "  <tbody>\n",
       "    <tr>\n",
       "      <th>5</th>\n",
       "      <td>-0.047642</td>\n",
       "      <td>{'models__num_leaves': 6, 'models__max_depth': 4, 'models': LGBMRegressor(random_state=88)}</td>\n",
       "    </tr>\n",
       "    <tr>\n",
       "      <th>0</th>\n",
       "      <td>-0.047747</td>\n",
       "      <td>{'models__num_leaves': 8, 'models__max_depth': 4, 'models': LGBMRegressor(random_state=88)}</td>\n",
       "    </tr>\n",
       "    <tr>\n",
       "      <th>8</th>\n",
       "      <td>-0.047922</td>\n",
       "      <td>{'models__num_leaves': 11, 'models__max_depth': 3, 'models': LGBMRegressor(random_state=88)}</td>\n",
       "    </tr>\n",
       "  </tbody>\n",
       "</table>\n",
       "</div>"
      ],
      "text/plain": [
       "   mean_test_score  \\\n",
       "5        -0.047642   \n",
       "0        -0.047747   \n",
       "8        -0.047922   \n",
       "\n",
       "                                                                                         params  \n",
       "5   {'models__num_leaves': 6, 'models__max_depth': 4, 'models': LGBMRegressor(random_state=88)}  \n",
       "0   {'models__num_leaves': 8, 'models__max_depth': 4, 'models': LGBMRegressor(random_state=88)}  \n",
       "8  {'models__num_leaves': 11, 'models__max_depth': 3, 'models': LGBMRegressor(random_state=88)}  "
      ]
     },
     "metadata": {},
     "output_type": "display_data"
    },
    {
     "name": "stdout",
     "output_type": "stream",
     "text": [
      "Итоговые результаты тестирования:\n"
     ]
    },
    {
     "data": {
      "text/html": [
       "<div>\n",
       "<style scoped>\n",
       "    .dataframe tbody tr th:only-of-type {\n",
       "        vertical-align: middle;\n",
       "    }\n",
       "\n",
       "    .dataframe tbody tr th {\n",
       "        vertical-align: top;\n",
       "    }\n",
       "\n",
       "    .dataframe thead th {\n",
       "        text-align: right;\n",
       "    }\n",
       "</style>\n",
       "<table border=\"1\" class=\"dataframe\">\n",
       "  <thead>\n",
       "    <tr style=\"text-align: right;\">\n",
       "      <th></th>\n",
       "      <th>Модель</th>\n",
       "      <th>RMSE</th>\n",
       "      <th>Параметры</th>\n",
       "    </tr>\n",
       "  </thead>\n",
       "  <tbody>\n",
       "    <tr>\n",
       "      <th>0</th>\n",
       "      <td>LightGBM</td>\n",
       "      <td>0.048</td>\n",
       "      <td>(LGBMRegressor(max_depth=4, num_leaves=6, random_state=88))</td>\n",
       "    </tr>\n",
       "    <tr>\n",
       "      <th>1</th>\n",
       "      <td>LinearRegression</td>\n",
       "      <td>0.048</td>\n",
       "      <td>(LinearRegression(n_jobs=11))</td>\n",
       "    </tr>\n",
       "    <tr>\n",
       "      <th>2</th>\n",
       "      <td>kNN</td>\n",
       "      <td>0.051</td>\n",
       "      <td>(KNeighborsRegressor(n_neighbors=22))</td>\n",
       "    </tr>\n",
       "    <tr>\n",
       "      <th>3</th>\n",
       "      <td>DecisionTree</td>\n",
       "      <td>0.052</td>\n",
       "      <td>(DecisionTreeRegressor(max_depth=18, max_features=27, min_samples_leaf=43,\\n                      min_samples_split=22, random_state=88))</td>\n",
       "    </tr>\n",
       "  </tbody>\n",
       "</table>\n",
       "</div>"
      ],
      "text/plain": [
       "             Модель   RMSE  \\\n",
       "0          LightGBM  0.048   \n",
       "1  LinearRegression  0.048   \n",
       "2               kNN  0.051   \n",
       "3      DecisionTree  0.052   \n",
       "\n",
       "                                                                                                                                   Параметры  \n",
       "0                                                                                (LGBMRegressor(max_depth=4, num_leaves=6, random_state=88))  \n",
       "1                                                                                                              (LinearRegression(n_jobs=11))  \n",
       "2                                                                                                      (KNeighborsRegressor(n_neighbors=22))  \n",
       "3  (DecisionTreeRegressor(max_depth=18, max_features=27, min_samples_leaf=43,\\n                      min_samples_split=22, random_state=88))  "
      ]
     },
     "execution_count": 33,
     "metadata": {},
     "output_type": "execute_result"
    }
   ],
   "source": [
    "warnings.filterwarnings('ignore')\n",
    "estimators = []\n",
    "best_scores = []\n",
    "\n",
    "model_pos = 0\n",
    "for test in cv_tests:\n",
    "    start = time.time()\n",
    "    test.fit(X_train, y_train)\n",
    "    finish = time.time()\n",
    "    pd.set_option('display.max_colwidth', None)\n",
    "    result = pd.DataFrame(test.cv_results_).sort_values(by='rank_test_score')\n",
    "    estimators.append(test.best_estimator_)\n",
    "    best_scores.append(max(result.mean_test_score) * -1)\n",
    "    print(f'Модель {model_names[model_pos]} рассчитана за {int(finish - start)} сек. Результаты:')\n",
    "    display(result[['mean_test_score', 'params']].head(3))\n",
    "    model_pos += 1\n",
    "\n",
    "test_results = pd.DataFrame(\n",
    "    {'Модель': model_names,\n",
    "     'RMSE': best_scores,\n",
    "     'Параметры': estimators}).sort_values(by='RMSE').reset_index(drop=True)\n",
    "\n",
    "test_results.RMSE = test_results.RMSE.round(3)\n",
    "print('Итоговые результаты тестирования:')\n",
    "test_results"
   ]
  },
  {
   "cell_type": "markdown",
   "metadata": {},
   "source": [
    "По результатам подбора параметров с кросс-валидацией лучшие результаты показала модель LightGBM со следующими параметрами:\\\n",
    "**LGBMRegressor(max_depth=4, num_leaves=6, random_state=88)**"
   ]
  },
  {
   "cell_type": "markdown",
   "metadata": {},
   "source": [
    "### Расчет ориентира контрольной метрики"
   ]
  },
  {
   "cell_type": "markdown",
   "metadata": {},
   "source": [
    "Проверим, какую ошибку даст модель, формирующая случайное предсказание:"
   ]
  },
  {
   "cell_type": "code",
   "execution_count": 34,
   "metadata": {},
   "outputs": [
    {
     "name": "stdout",
     "output_type": "stream",
     "text": [
      "Ошибка RMSE константной модели - 0.211\n"
     ]
    }
   ],
   "source": [
    "dr = DummyRegressor(strategy='mean')\n",
    "dr.fit(X_train, y_train)\n",
    "y_pred_dummy = dr.predict(X_test)\n",
    "dummy_err = root_mean_squared_error(y_test, y_pred_dummy)\n",
    "print(f'Ошибка RMSE константной модели - {round(dummy_err, 3)}')"
   ]
  },
  {
   "cell_type": "markdown",
   "metadata": {},
   "source": [
    "### Тестирование лучшей модели"
   ]
  },
  {
   "cell_type": "code",
   "execution_count": 35,
   "metadata": {},
   "outputs": [
    {
     "name": "stdout",
     "output_type": "stream",
     "text": [
      "Ошибка RMSE лучшей модели на тестовой выборке - 0.037\n"
     ]
    }
   ],
   "source": [
    "warnings.filterwarnings('ignore')\n",
    "best_suite = LGBMRegressor(max_depth=4, num_leaves=6, random_state=88)\n",
    "best_suite.fit(X_train, y_train)\n",
    "y_pred = best_suite.predict(X_test)\n",
    "\n",
    "rmse = root_mean_squared_error(y_test, y_pred)\n",
    "print(f'Ошибка RMSE лучшей модели на тестовой выборке - {round(rmse, 3)}')"
   ]
  },
  {
   "cell_type": "code",
   "execution_count": 36,
   "metadata": {
    "scrolled": true
   },
   "outputs": [
    {
     "data": {
      "image/png": "[encoded data removed]",
      "text/plain": [
       "<Figure size 720x432 with 1 Axes>"
      ]
     },
     "metadata": {},
     "output_type": "display_data"
    }
   ],
   "source": [
    "best_suite.fit(X_train, y_train)\n",
    "coefficients = best_suite.feature_importances_\n",
    "features_names = X_train.columns\n",
    "feature_importance = pd.DataFrame({'Признак': features_names, 'Значимость': np.abs(coefficients)})\n",
    "feature_importance = feature_importance.sort_values(by='Значимость', ascending=True)\n",
    "sns.set_style('white')\n",
    "feature_importance.plot(x='Признак', y='Значимость', kind='barh', figsize=(10, 6))\n",
    "plt.title('Значимость признаков')\n",
    "plt.show()"
   ]
  },
  {
   "cell_type": "markdown",
   "metadata": {},
   "source": [
    "### Итоговый вывод"
   ]
  },
  {
   "cell_type": "markdown",
   "metadata": {},
   "source": [
    "По результатам проведенных исследований, можно утверждать, что при помощи модели градиентного бустинга LightGBM существует возможность прогнозирования реального потребления вычислительных ресурсов в пределах одного часа с точностью до 96,3%"
   ]
  }
 ],
 "metadata": {
  "ExecuteTimeLog": [
   {
    "duration": 9871,
    "start_time": "2025-05-13T05:44:35.633Z"
   },
   {
    "duration": 14,
    "start_time": "2025-05-13T05:45:12.652Z"
   },
   {
    "duration": 86,
    "start_time": "2025-05-13T05:45:16.812Z"
   },
   {
    "duration": 105,
    "start_time": "2025-05-13T05:45:32.347Z"
   },
   {
    "duration": 39,
    "start_time": "2025-05-13T05:46:34.451Z"
   },
   {
    "duration": 25,
    "start_time": "2025-05-13T05:46:37.451Z"
   },
   {
    "duration": 11,
    "start_time": "2025-05-13T05:49:06.271Z"
   },
   {
    "duration": 10,
    "start_time": "2025-05-13T05:51:30.920Z"
   },
   {
    "duration": 10,
    "start_time": "2025-05-13T05:51:41.235Z"
   },
   {
    "duration": 8,
    "start_time": "2025-05-13T05:52:10.827Z"
   },
   {
    "duration": 123,
    "start_time": "2025-05-13T05:53:44.915Z"
   },
   {
    "duration": 7,
    "start_time": "2025-05-13T05:53:59.353Z"
   },
   {
    "duration": 9,
    "start_time": "2025-05-13T05:54:05.362Z"
   },
   {
    "duration": 23,
    "start_time": "2025-05-13T05:54:30.002Z"
   },
   {
    "duration": 11,
    "start_time": "2025-05-13T05:54:44.010Z"
   },
   {
    "duration": 9,
    "start_time": "2025-05-13T05:54:47.129Z"
   },
   {
    "duration": 25,
    "start_time": "2025-05-13T05:55:41.164Z"
   },
   {
    "duration": 17,
    "start_time": "2025-05-13T05:56:15.158Z"
   },
   {
    "duration": 24,
    "start_time": "2025-05-13T05:58:02.900Z"
   },
   {
    "duration": 6,
    "start_time": "2025-05-13T05:58:19.524Z"
   },
   {
    "duration": 9,
    "start_time": "2025-05-13T05:58:32.187Z"
   },
   {
    "duration": 28,
    "start_time": "2025-05-13T05:58:51.311Z"
   },
   {
    "duration": 5,
    "start_time": "2025-05-13T06:01:11.913Z"
   },
   {
    "duration": 8,
    "start_time": "2025-05-13T06:01:16.064Z"
   },
   {
    "duration": 929,
    "start_time": "2025-05-13T06:02:06.198Z"
   },
   {
    "duration": 1079,
    "start_time": "2025-05-13T06:03:15.910Z"
   },
   {
    "duration": 1264,
    "start_time": "2025-05-13T06:03:28.076Z"
   },
   {
    "duration": 1245,
    "start_time": "2025-05-13T06:03:44.540Z"
   },
   {
    "duration": 1270,
    "start_time": "2025-05-13T06:04:03.643Z"
   },
   {
    "duration": 7,
    "start_time": "2025-05-13T06:05:19.489Z"
   },
   {
    "duration": 9,
    "start_time": "2025-05-13T06:05:38.849Z"
   },
   {
    "duration": 1243,
    "start_time": "2025-05-13T06:05:50.825Z"
   },
   {
    "duration": 1180,
    "start_time": "2025-05-13T06:06:04.793Z"
   },
   {
    "duration": 1128,
    "start_time": "2025-05-13T06:06:20.939Z"
   },
   {
    "duration": 1089,
    "start_time": "2025-05-13T06:06:39.976Z"
   },
   {
    "duration": 1013,
    "start_time": "2025-05-13T06:06:52.655Z"
   },
   {
    "duration": 1494,
    "start_time": "2025-05-13T06:07:18.084Z"
   },
   {
    "duration": 322,
    "start_time": "2025-05-13T06:10:27.050Z"
   },
   {
    "duration": 9,
    "start_time": "2025-05-13T06:11:41.689Z"
   },
   {
    "duration": 176,
    "start_time": "2025-05-13T06:12:08.140Z"
   },
   {
    "duration": 15,
    "start_time": "2025-05-13T06:15:15.763Z"
   },
   {
    "duration": 14,
    "start_time": "2025-05-13T06:15:23.887Z"
   },
   {
    "duration": 55,
    "start_time": "2025-05-13T06:15:29.126Z"
   },
   {
    "duration": 24,
    "start_time": "2025-05-13T06:15:30.292Z"
   },
   {
    "duration": 11,
    "start_time": "2025-05-13T06:15:32.357Z"
   },
   {
    "duration": 310,
    "start_time": "2025-05-13T06:15:48.028Z"
   },
   {
    "duration": 16,
    "start_time": "2025-05-13T06:16:19.012Z"
   },
   {
    "duration": 10,
    "start_time": "2025-05-13T06:19:36.312Z"
   },
   {
    "duration": 9,
    "start_time": "2025-05-13T06:19:52.758Z"
   },
   {
    "duration": 11,
    "start_time": "2025-05-13T06:20:06.438Z"
   },
   {
    "duration": 8,
    "start_time": "2025-05-13T06:20:15.336Z"
   },
   {
    "duration": 8,
    "start_time": "2025-05-13T06:21:15.941Z"
   },
   {
    "duration": 9,
    "start_time": "2025-05-13T06:21:19.573Z"
   },
   {
    "duration": 347,
    "start_time": "2025-05-13T06:21:29.423Z"
   },
   {
    "duration": 7,
    "start_time": "2025-05-13T06:22:14.356Z"
   },
   {
    "duration": 609,
    "start_time": "2025-05-13T06:22:17.462Z"
   },
   {
    "duration": 7,
    "start_time": "2025-05-13T06:22:33.372Z"
   },
   {
    "duration": 369,
    "start_time": "2025-05-13T06:22:37.451Z"
   },
   {
    "duration": 6,
    "start_time": "2025-05-13T06:24:55.160Z"
   },
   {
    "duration": 305,
    "start_time": "2025-05-13T06:24:57.640Z"
   },
   {
    "duration": 294,
    "start_time": "2025-05-13T06:26:00.839Z"
   },
   {
    "duration": 575,
    "start_time": "2025-05-13T06:26:20.223Z"
   },
   {
    "duration": 398,
    "start_time": "2025-05-13T06:26:28.663Z"
   },
   {
    "duration": 17,
    "start_time": "2025-05-13T06:27:36.140Z"
   },
   {
    "duration": 11,
    "start_time": "2025-05-13T06:30:00.045Z"
   },
   {
    "duration": 34,
    "start_time": "2025-05-13T06:30:27.385Z"
   },
   {
    "duration": 6,
    "start_time": "2025-05-13T06:30:45.842Z"
   },
   {
    "duration": 15,
    "start_time": "2025-05-13T06:30:49.826Z"
   },
   {
    "duration": 8,
    "start_time": "2025-05-13T06:33:11.779Z"
   },
   {
    "duration": 31,
    "start_time": "2025-05-13T06:33:13.965Z"
   },
   {
    "duration": 304,
    "start_time": "2025-05-13T06:39:11.848Z"
   },
   {
    "duration": 295,
    "start_time": "2025-05-13T06:39:23.074Z"
   },
   {
    "duration": 11,
    "start_time": "2025-05-13T06:39:43.683Z"
   },
   {
    "duration": 17,
    "start_time": "2025-05-13T06:39:52.739Z"
   },
   {
    "duration": 23,
    "start_time": "2025-05-13T06:40:36.108Z"
   },
   {
    "duration": 8,
    "start_time": "2025-05-13T06:43:24.186Z"
   },
   {
    "duration": 10,
    "start_time": "2025-05-13T06:43:34.308Z"
   },
   {
    "duration": 54,
    "start_time": "2025-05-13T06:44:11.984Z"
   },
   {
    "duration": 9,
    "start_time": "2025-05-13T06:44:15.665Z"
   },
   {
    "duration": 9,
    "start_time": "2025-05-13T06:44:24.152Z"
   },
   {
    "duration": 21,
    "start_time": "2025-05-13T06:44:29.737Z"
   },
   {
    "duration": 6,
    "start_time": "2025-05-13T06:45:13.639Z"
   },
   {
    "duration": 329,
    "start_time": "2025-05-13T06:45:22.767Z"
   },
   {
    "duration": 9,
    "start_time": "2025-05-13T06:48:03.738Z"
   },
   {
    "duration": 4,
    "start_time": "2025-05-13T06:48:54.794Z"
   },
   {
    "duration": 10,
    "start_time": "2025-05-13T06:49:07.310Z"
   },
   {
    "duration": 5,
    "start_time": "2025-05-13T06:50:12.959Z"
   },
   {
    "duration": 5,
    "start_time": "2025-05-13T06:50:16.055Z"
   },
   {
    "duration": 15,
    "start_time": "2025-05-13T06:50:18.342Z"
   },
   {
    "duration": 6,
    "start_time": "2025-05-13T06:52:16.466Z"
   },
   {
    "duration": 14,
    "start_time": "2025-05-13T06:52:27.245Z"
   },
   {
    "duration": 1345,
    "start_time": "2025-05-13T06:55:18.056Z"
   },
   {
    "duration": 9,
    "start_time": "2025-05-13T06:56:05.151Z"
   },
   {
    "duration": 16,
    "start_time": "2025-05-13T06:56:12.558Z"
   },
   {
    "duration": 3624,
    "start_time": "2025-05-13T06:57:48.837Z"
   },
   {
    "duration": 16,
    "start_time": "2025-05-13T06:57:52.465Z"
   },
   {
    "duration": 73,
    "start_time": "2025-05-13T06:57:52.483Z"
   },
   {
    "duration": 14,
    "start_time": "2025-05-13T06:57:52.558Z"
   },
   {
    "duration": 8,
    "start_time": "2025-05-13T06:57:52.574Z"
   },
   {
    "duration": 313,
    "start_time": "2025-05-13T06:57:52.584Z"
   },
   {
    "duration": 22,
    "start_time": "2025-05-13T06:57:52.903Z"
   },
   {
    "duration": 7,
    "start_time": "2025-05-13T06:57:52.928Z"
   },
   {
    "duration": 14,
    "start_time": "2025-05-13T06:57:52.937Z"
   },
   {
    "duration": 19,
    "start_time": "2025-05-13T06:57:52.953Z"
   },
   {
    "duration": 15,
    "start_time": "2025-05-13T06:57:52.974Z"
   },
   {
    "duration": 6,
    "start_time": "2025-05-13T06:57:53.006Z"
   },
   {
    "duration": 6,
    "start_time": "2025-05-13T06:57:56.844Z"
   },
   {
    "duration": 631,
    "start_time": "2025-05-13T06:58:07.852Z"
   },
   {
    "duration": 37,
    "start_time": "2025-05-13T06:59:35.553Z"
   },
   {
    "duration": 986,
    "start_time": "2025-05-13T06:59:52.402Z"
   },
   {
    "duration": 22,
    "start_time": "2025-05-13T07:00:40.592Z"
   },
   {
    "duration": 15,
    "start_time": "2025-05-13T07:01:12.767Z"
   },
   {
    "duration": 310,
    "start_time": "2025-05-13T07:01:35.337Z"
   },
   {
    "duration": 7,
    "start_time": "2025-05-13T07:02:23.191Z"
   },
   {
    "duration": 500,
    "start_time": "2025-05-13T07:02:27.887Z"
   },
   {
    "duration": 33,
    "start_time": "2025-05-13T07:03:13.693Z"
   },
   {
    "duration": 7,
    "start_time": "2025-05-13T07:03:39.837Z"
   },
   {
    "duration": 1462,
    "start_time": "2025-05-13T07:03:46.884Z"
   },
   {
    "duration": 9,
    "start_time": "2025-05-13T07:13:42.832Z"
   },
   {
    "duration": 668,
    "start_time": "2025-05-13T07:13:45.304Z"
   },
   {
    "duration": 6,
    "start_time": "2025-05-13T07:18:40.489Z"
   },
   {
    "duration": 8,
    "start_time": "2025-05-13T07:19:10.010Z"
   },
   {
    "duration": 481,
    "start_time": "2025-05-13T07:19:19.952Z"
   },
   {
    "duration": 3742,
    "start_time": "2025-05-13T07:27:30.912Z"
   },
   {
    "duration": 12,
    "start_time": "2025-05-13T07:27:34.658Z"
   },
   {
    "duration": 85,
    "start_time": "2025-05-13T07:27:34.672Z"
   },
   {
    "duration": 13,
    "start_time": "2025-05-13T07:27:34.760Z"
   },
   {
    "duration": 10,
    "start_time": "2025-05-13T07:27:34.776Z"
   },
   {
    "duration": 342,
    "start_time": "2025-05-13T07:27:34.788Z"
   },
   {
    "duration": 15,
    "start_time": "2025-05-13T07:27:35.131Z"
   },
   {
    "duration": 215,
    "start_time": "2025-05-13T07:27:35.148Z"
   },
   {
    "duration": 106,
    "start_time": "2025-05-13T07:27:35.365Z"
   },
   {
    "duration": 19,
    "start_time": "2025-05-13T07:27:35.474Z"
   },
   {
    "duration": 54,
    "start_time": "2025-05-13T07:27:35.495Z"
   },
   {
    "duration": 0,
    "start_time": "2025-05-13T07:27:35.551Z"
   },
   {
    "duration": 0,
    "start_time": "2025-05-13T07:27:35.554Z"
   },
   {
    "duration": 0,
    "start_time": "2025-05-13T07:27:35.556Z"
   },
   {
    "duration": 4,
    "start_time": "2025-05-13T07:28:23.295Z"
   },
   {
    "duration": 317,
    "start_time": "2025-05-13T07:28:25.445Z"
   },
   {
    "duration": 10,
    "start_time": "2025-05-13T07:28:29.710Z"
   },
   {
    "duration": 576,
    "start_time": "2025-05-13T07:28:32.068Z"
   },
   {
    "duration": 5,
    "start_time": "2025-05-13T07:28:36.029Z"
   },
   {
    "duration": 8,
    "start_time": "2025-05-13T07:28:38.732Z"
   },
   {
    "duration": 683,
    "start_time": "2025-05-13T07:28:41.572Z"
   },
   {
    "duration": 483,
    "start_time": "2025-05-13T07:28:53.788Z"
   },
   {
    "duration": 10,
    "start_time": "2025-05-13T07:32:48.025Z"
   },
   {
    "duration": 114,
    "start_time": "2025-05-13T07:33:27.263Z"
   },
   {
    "duration": 6,
    "start_time": "2025-05-13T07:33:29.390Z"
   },
   {
    "duration": 14,
    "start_time": "2025-05-13T07:34:33.709Z"
   },
   {
    "duration": 7,
    "start_time": "2025-05-13T07:38:27.255Z"
   },
   {
    "duration": 11,
    "start_time": "2025-05-13T07:38:35.031Z"
   },
   {
    "duration": 4,
    "start_time": "2025-05-13T07:46:53.782Z"
   },
   {
    "duration": 11,
    "start_time": "2025-05-13T07:47:28.766Z"
   },
   {
    "duration": 9,
    "start_time": "2025-05-13T07:47:35.454Z"
   },
   {
    "duration": 4060,
    "start_time": "2025-05-13T07:49:45.405Z"
   },
   {
    "duration": 44,
    "start_time": "2025-05-13T07:50:13.596Z"
   },
   {
    "duration": 15,
    "start_time": "2025-05-13T07:51:55.782Z"
   },
   {
    "duration": 15,
    "start_time": "2025-05-13T07:52:01.917Z"
   },
   {
    "duration": 24,
    "start_time": "2025-05-13T07:52:04.346Z"
   },
   {
    "duration": 34,
    "start_time": "2025-05-13T07:52:10.801Z"
   },
   {
    "duration": 4,
    "start_time": "2025-05-13T07:52:35.264Z"
   },
   {
    "duration": 7,
    "start_time": "2025-05-13T07:52:38.552Z"
   },
   {
    "duration": 34,
    "start_time": "2025-05-13T07:52:41.319Z"
   },
   {
    "duration": 7,
    "start_time": "2025-05-13T07:55:16.463Z"
   },
   {
    "duration": 14711,
    "start_time": "2025-05-13T07:57:31.802Z"
   },
   {
    "duration": 3,
    "start_time": "2025-05-13T07:58:51.782Z"
   },
   {
    "duration": 16,
    "start_time": "2025-05-13T07:59:03.257Z"
   },
   {
    "duration": 14,
    "start_time": "2025-05-13T07:59:34.895Z"
   },
   {
    "duration": 38,
    "start_time": "2025-05-13T08:00:14.391Z"
   },
   {
    "duration": 15,
    "start_time": "2025-05-13T08:00:51.304Z"
   },
   {
    "duration": 31,
    "start_time": "2025-05-13T08:00:53.894Z"
   },
   {
    "duration": 4460,
    "start_time": "2025-05-13T08:17:08.794Z"
   },
   {
    "duration": 20,
    "start_time": "2025-05-13T08:20:23.072Z"
   },
   {
    "duration": 5440,
    "start_time": "2025-05-13T08:21:56.800Z"
   },
   {
    "duration": 3,
    "start_time": "2025-05-13T08:22:09.182Z"
   },
   {
    "duration": 115,
    "start_time": "2025-05-13T08:22:13.825Z"
   },
   {
    "duration": 30,
    "start_time": "2025-05-13T08:22:25.414Z"
   },
   {
    "duration": 3,
    "start_time": "2025-05-13T08:23:06.972Z"
   },
   {
    "duration": 13,
    "start_time": "2025-05-13T08:23:13.137Z"
   },
   {
    "duration": 5,
    "start_time": "2025-05-13T08:23:36.340Z"
   },
   {
    "duration": 7,
    "start_time": "2025-05-13T08:25:24.792Z"
   },
   {
    "duration": 3,
    "start_time": "2025-05-13T08:25:53.377Z"
   },
   {
    "duration": 955,
    "start_time": "2025-05-13T08:27:16.904Z"
   },
   {
    "duration": 29,
    "start_time": "2025-05-13T08:31:19.992Z"
   },
   {
    "duration": 38,
    "start_time": "2025-05-13T08:32:19.158Z"
   },
   {
    "duration": 6,
    "start_time": "2025-05-13T08:32:39.130Z"
   },
   {
    "duration": 7,
    "start_time": "2025-05-13T08:32:53.757Z"
   },
   {
    "duration": 13,
    "start_time": "2025-05-13T08:33:02.801Z"
   },
   {
    "duration": 3,
    "start_time": "2025-05-13T08:34:23.891Z"
   },
   {
    "duration": 4,
    "start_time": "2025-05-13T08:34:30.147Z"
   },
   {
    "duration": 85584,
    "start_time": "2025-05-13T08:34:34.630Z"
   },
   {
    "duration": 3,
    "start_time": "2025-05-13T08:36:24.160Z"
   },
   {
    "duration": 4,
    "start_time": "2025-05-13T08:36:30.138Z"
   },
   {
    "duration": 538,
    "start_time": "2025-05-13T08:36:37.889Z"
   },
   {
    "duration": 6,
    "start_time": "2025-05-13T08:37:41.407Z"
   },
   {
    "duration": 4,
    "start_time": "2025-05-13T08:37:46.737Z"
   },
   {
    "duration": 254972,
    "start_time": "2025-05-13T08:37:51.294Z"
   },
   {
    "duration": 4,
    "start_time": "2025-05-13T08:42:42.495Z"
   },
   {
    "duration": 4,
    "start_time": "2025-05-13T08:42:47.294Z"
   },
   {
    "duration": 591,
    "start_time": "2025-05-13T08:42:50.160Z"
   },
   {
    "duration": 6,
    "start_time": "2025-05-13T08:43:28.542Z"
   },
   {
    "duration": 6,
    "start_time": "2025-05-13T08:46:04.059Z"
   },
   {
    "duration": 3,
    "start_time": "2025-05-13T08:46:07.867Z"
   },
   {
    "duration": 539,
    "start_time": "2025-05-13T08:46:10.421Z"
   },
   {
    "duration": 6,
    "start_time": "2025-05-13T08:46:14.467Z"
   },
   {
    "duration": 5,
    "start_time": "2025-05-13T08:47:09.265Z"
   },
   {
    "duration": 3,
    "start_time": "2025-05-13T08:47:14.081Z"
   },
   {
    "duration": 26,
    "start_time": "2025-05-13T08:47:17.238Z"
   },
   {
    "duration": 3,
    "start_time": "2025-05-13T08:48:08.696Z"
   },
   {
    "duration": 4,
    "start_time": "2025-05-13T08:48:11.688Z"
   },
   {
    "duration": 39,
    "start_time": "2025-05-13T08:48:18.259Z"
   },
   {
    "duration": 4,
    "start_time": "2025-05-13T08:50:05.590Z"
   },
   {
    "duration": 5,
    "start_time": "2025-05-13T08:50:14.671Z"
   },
   {
    "duration": 1242,
    "start_time": "2025-05-13T08:50:17.622Z"
   },
   {
    "duration": 6,
    "start_time": "2025-05-13T08:50:23.463Z"
   },
   {
    "duration": 6,
    "start_time": "2025-05-13T08:52:22.180Z"
   },
   {
    "duration": 3,
    "start_time": "2025-05-13T08:52:26.068Z"
   },
   {
    "duration": 193,
    "start_time": "2025-05-13T08:52:30.385Z"
   },
   {
    "duration": 9,
    "start_time": "2025-05-13T08:55:04.915Z"
   },
   {
    "duration": 3,
    "start_time": "2025-05-13T08:55:13.632Z"
   },
   {
    "duration": 796,
    "start_time": "2025-05-13T08:55:22.561Z"
   },
   {
    "duration": 6,
    "start_time": "2025-05-13T08:55:28.904Z"
   },
   {
    "duration": 5,
    "start_time": "2025-05-13T08:57:43.664Z"
   },
   {
    "duration": 3,
    "start_time": "2025-05-13T08:57:48.837Z"
   },
   {
    "duration": 416,
    "start_time": "2025-05-13T08:57:51.274Z"
   },
   {
    "duration": 6,
    "start_time": "2025-05-13T09:02:34.314Z"
   },
   {
    "duration": 4,
    "start_time": "2025-05-13T09:02:41.123Z"
   },
   {
    "duration": 295,
    "start_time": "2025-05-13T09:02:43.544Z"
   },
   {
    "duration": 6,
    "start_time": "2025-05-13T09:03:32.688Z"
   },
   {
    "duration": 4,
    "start_time": "2025-05-13T09:03:36.271Z"
   },
   {
    "duration": 761,
    "start_time": "2025-05-13T09:03:38.420Z"
   },
   {
    "duration": 6,
    "start_time": "2025-05-13T09:03:44.950Z"
   },
   {
    "duration": 4,
    "start_time": "2025-05-13T09:04:01.781Z"
   },
   {
    "duration": 9018,
    "start_time": "2025-05-13T09:04:03.302Z"
   },
   {
    "duration": 11,
    "start_time": "2025-05-13T09:04:16.701Z"
   },
   {
    "duration": 8,
    "start_time": "2025-05-13T09:04:47.821Z"
   },
   {
    "duration": 5,
    "start_time": "2025-05-13T09:04:52.016Z"
   },
   {
    "duration": 2232,
    "start_time": "2025-05-13T09:04:55.141Z"
   },
   {
    "duration": 6,
    "start_time": "2025-05-13T09:06:18.363Z"
   },
   {
    "duration": 3,
    "start_time": "2025-05-13T09:06:32.347Z"
   },
   {
    "duration": 6448,
    "start_time": "2025-05-13T09:06:34.468Z"
   },
   {
    "duration": 7,
    "start_time": "2025-05-13T09:06:48.516Z"
   },
   {
    "duration": 4,
    "start_time": "2025-05-13T09:07:29.058Z"
   },
   {
    "duration": 4,
    "start_time": "2025-05-13T09:07:31.345Z"
   },
   {
    "duration": 4624,
    "start_time": "2025-05-13T09:07:35.146Z"
   },
   {
    "duration": 5,
    "start_time": "2025-05-13T09:08:00.129Z"
   },
   {
    "duration": 4,
    "start_time": "2025-05-13T09:08:01.664Z"
   },
   {
    "duration": 4728,
    "start_time": "2025-05-13T09:08:03.466Z"
   },
   {
    "duration": 70,
    "start_time": "2025-05-13T09:08:26.232Z"
   },
   {
    "duration": 8,
    "start_time": "2025-05-13T09:10:23.320Z"
   },
   {
    "duration": 4,
    "start_time": "2025-05-13T09:11:27.917Z"
   },
   {
    "duration": 17508,
    "start_time": "2025-05-13T09:11:36.668Z"
   },
   {
    "duration": 83,
    "start_time": "2025-05-13T09:13:12.147Z"
   },
   {
    "duration": 19,
    "start_time": "2025-05-13T09:14:42.921Z"
   },
   {
    "duration": 5,
    "start_time": "2025-05-13T09:14:50.184Z"
   },
   {
    "duration": 10,
    "start_time": "2025-05-13T09:15:07.263Z"
   },
   {
    "duration": 8,
    "start_time": "2025-05-13T09:15:13.724Z"
   },
   {
    "duration": 92,
    "start_time": "2025-05-13T09:16:53.654Z"
   },
   {
    "duration": 89,
    "start_time": "2025-05-13T09:17:05.552Z"
   },
   {
    "duration": 90,
    "start_time": "2025-05-13T09:17:22.320Z"
   },
   {
    "duration": 5323,
    "start_time": "2025-05-13T09:18:24.523Z"
   },
   {
    "duration": 13,
    "start_time": "2025-05-13T09:18:29.849Z"
   },
   {
    "duration": 69,
    "start_time": "2025-05-13T09:18:29.868Z"
   },
   {
    "duration": 12,
    "start_time": "2025-05-13T09:18:29.940Z"
   },
   {
    "duration": 154,
    "start_time": "2025-05-13T09:18:29.954Z"
   },
   {
    "duration": 358,
    "start_time": "2025-05-13T09:18:30.111Z"
   },
   {
    "duration": 16,
    "start_time": "2025-05-13T09:18:30.472Z"
   },
   {
    "duration": 156,
    "start_time": "2025-05-13T09:18:30.489Z"
   },
   {
    "duration": 88,
    "start_time": "2025-05-13T09:18:30.647Z"
   },
   {
    "duration": 55,
    "start_time": "2025-05-13T09:18:30.738Z"
   },
   {
    "duration": 41,
    "start_time": "2025-05-13T09:18:30.796Z"
   },
   {
    "duration": 391,
    "start_time": "2025-05-13T09:18:30.840Z"
   },
   {
    "duration": 9,
    "start_time": "2025-05-13T09:18:31.235Z"
   },
   {
    "duration": 713,
    "start_time": "2025-05-13T09:18:31.246Z"
   },
   {
    "duration": 6,
    "start_time": "2025-05-13T09:18:31.961Z"
   },
   {
    "duration": 104,
    "start_time": "2025-05-13T09:18:31.969Z"
   },
   {
    "duration": 557,
    "start_time": "2025-05-13T09:18:32.075Z"
   },
   {
    "duration": 6,
    "start_time": "2025-05-13T09:18:32.634Z"
   },
   {
    "duration": 42,
    "start_time": "2025-05-13T09:18:32.642Z"
   },
   {
    "duration": 6,
    "start_time": "2025-05-13T09:18:32.686Z"
   },
   {
    "duration": 53,
    "start_time": "2025-05-13T09:18:32.694Z"
   },
   {
    "duration": 23,
    "start_time": "2025-05-13T09:18:32.750Z"
   },
   {
    "duration": 48,
    "start_time": "2025-05-13T09:18:32.775Z"
   },
   {
    "duration": 30,
    "start_time": "2025-05-13T09:18:32.825Z"
   },
   {
    "duration": 7653,
    "start_time": "2025-05-13T09:18:32.858Z"
   },
   {
    "duration": 14,
    "start_time": "2025-05-13T09:18:40.513Z"
   },
   {
    "duration": 109,
    "start_time": "2025-05-13T09:18:40.530Z"
   },
   {
    "duration": 7381,
    "start_time": "2025-05-13T11:10:57.996Z"
   },
   {
    "duration": 13,
    "start_time": "2025-05-13T11:11:05.381Z"
   },
   {
    "duration": 83,
    "start_time": "2025-05-13T11:11:05.396Z"
   },
   {
    "duration": 16,
    "start_time": "2025-05-13T11:11:05.482Z"
   },
   {
    "duration": 29,
    "start_time": "2025-05-13T11:11:05.500Z"
   },
   {
    "duration": 472,
    "start_time": "2025-05-13T11:11:05.531Z"
   },
   {
    "duration": 20,
    "start_time": "2025-05-13T11:11:06.005Z"
   },
   {
    "duration": 91,
    "start_time": "2025-05-13T11:11:06.028Z"
   },
   {
    "duration": 41,
    "start_time": "2025-05-13T11:11:06.127Z"
   },
   {
    "duration": 29,
    "start_time": "2025-05-13T11:11:06.170Z"
   },
   {
    "duration": 37,
    "start_time": "2025-05-13T11:11:06.202Z"
   },
   {
    "duration": 504,
    "start_time": "2025-05-13T11:11:06.241Z"
   },
   {
    "duration": 12,
    "start_time": "2025-05-13T11:11:06.748Z"
   },
   {
    "duration": 956,
    "start_time": "2025-05-13T11:11:06.765Z"
   },
   {
    "duration": 6,
    "start_time": "2025-05-13T11:11:07.724Z"
   },
   {
    "duration": 42,
    "start_time": "2025-05-13T11:11:07.733Z"
   },
   {
    "duration": 7,
    "start_time": "2025-05-13T11:11:07.778Z"
   },
   {
    "duration": 33,
    "start_time": "2025-05-13T11:11:07.788Z"
   },
   {
    "duration": 10,
    "start_time": "2025-05-13T11:11:07.824Z"
   },
   {
    "duration": 10,
    "start_time": "2025-05-13T11:11:07.836Z"
   },
   {
    "duration": 13,
    "start_time": "2025-05-13T11:11:07.849Z"
   },
   {
    "duration": 9445,
    "start_time": "2025-05-13T11:11:07.866Z"
   },
   {
    "duration": 18,
    "start_time": "2025-05-13T11:11:17.313Z"
   },
   {
    "duration": 91,
    "start_time": "2025-05-13T11:11:17.334Z"
   },
   {
    "duration": 8964,
    "start_time": "2025-05-14T07:38:29.755Z"
   },
   {
    "duration": 9,
    "start_time": "2025-05-14T07:38:38.721Z"
   },
   {
    "duration": 54,
    "start_time": "2025-05-14T07:38:38.732Z"
   },
   {
    "duration": 12,
    "start_time": "2025-05-14T07:38:38.788Z"
   },
   {
    "duration": 23,
    "start_time": "2025-05-14T07:38:38.801Z"
   },
   {
    "duration": 272,
    "start_time": "2025-05-14T07:38:38.826Z"
   },
   {
    "duration": 8,
    "start_time": "2025-05-14T07:39:06.926Z"
   },
   {
    "duration": 14,
    "start_time": "2025-05-14T07:39:17.444Z"
   },
   {
    "duration": 6,
    "start_time": "2025-05-14T07:39:42.317Z"
   },
   {
    "duration": 12,
    "start_time": "2025-05-14T07:39:44.876Z"
   },
   {
    "duration": 7,
    "start_time": "2025-05-14T07:41:46.072Z"
   },
   {
    "duration": 11,
    "start_time": "2025-05-14T07:41:47.297Z"
   },
   {
    "duration": 4,
    "start_time": "2025-05-14T07:42:55.991Z"
   },
   {
    "duration": 13,
    "start_time": "2025-05-14T07:42:57.160Z"
   },
   {
    "duration": 3,
    "start_time": "2025-05-14T07:43:13.127Z"
   },
   {
    "duration": 15,
    "start_time": "2025-05-14T07:43:16.287Z"
   },
   {
    "duration": 4,
    "start_time": "2025-05-14T07:43:23.558Z"
   },
   {
    "duration": 13,
    "start_time": "2025-05-14T07:43:24.487Z"
   },
   {
    "duration": 4,
    "start_time": "2025-05-14T07:43:38.255Z"
   },
   {
    "duration": 15,
    "start_time": "2025-05-14T07:43:39.134Z"
   },
   {
    "duration": 7,
    "start_time": "2025-05-14T07:44:26.774Z"
   },
   {
    "duration": 12,
    "start_time": "2025-05-14T07:44:29.470Z"
   },
   {
    "duration": 546,
    "start_time": "2025-05-14T07:46:21.803Z"
   },
   {
    "duration": 38,
    "start_time": "2025-05-14T07:46:40.618Z"
   },
   {
    "duration": 7,
    "start_time": "2025-05-14T07:46:44.090Z"
   },
   {
    "duration": 9,
    "start_time": "2025-05-14T07:46:48.106Z"
   },
   {
    "duration": 365,
    "start_time": "2025-05-14T07:46:50.570Z"
   },
   {
    "duration": 128,
    "start_time": "2025-05-14T07:51:30.020Z"
   },
   {
    "duration": 14,
    "start_time": "2025-05-14T07:52:38.986Z"
   },
   {
    "duration": 11,
    "start_time": "2025-05-14T07:53:13.228Z"
   },
   {
    "duration": 32,
    "start_time": "2025-05-14T07:53:21.026Z"
   },
   {
    "duration": 1294,
    "start_time": "2025-05-14T07:54:05.375Z"
   },
   {
    "duration": 927,
    "start_time": "2025-05-14T07:54:19.194Z"
   },
   {
    "duration": 21,
    "start_time": "2025-05-14T07:54:50.762Z"
   },
   {
    "duration": 641,
    "start_time": "2025-05-14T07:55:23.456Z"
   },
   {
    "duration": 784,
    "start_time": "2025-05-14T07:55:45.024Z"
   },
   {
    "duration": 821,
    "start_time": "2025-05-14T07:56:16.799Z"
   },
   {
    "duration": 623,
    "start_time": "2025-05-14T07:56:43.807Z"
   },
   {
    "duration": 413,
    "start_time": "2025-05-14T07:56:59.118Z"
   },
   {
    "duration": 885,
    "start_time": "2025-05-14T07:57:05.255Z"
   },
   {
    "duration": 104,
    "start_time": "2025-05-14T08:13:45.666Z"
   },
   {
    "duration": 972,
    "start_time": "2025-05-14T08:13:50.547Z"
   },
   {
    "duration": 897,
    "start_time": "2025-05-14T08:14:06.041Z"
   },
   {
    "duration": 765,
    "start_time": "2025-05-14T08:14:26.795Z"
   },
   {
    "duration": 84,
    "start_time": "2025-05-14T08:14:43.626Z"
   },
   {
    "duration": 91,
    "start_time": "2025-05-14T08:15:00.890Z"
   },
   {
    "duration": 198,
    "start_time": "2025-05-14T08:15:09.792Z"
   },
   {
    "duration": 1039,
    "start_time": "2025-05-14T08:15:31.161Z"
   },
   {
    "duration": 4,
    "start_time": "2025-05-14T08:40:02.330Z"
   },
   {
    "duration": 4,
    "start_time": "2025-05-14T08:42:11.599Z"
   },
   {
    "duration": 13,
    "start_time": "2025-05-14T08:42:28.647Z"
   },
   {
    "duration": 25,
    "start_time": "2025-05-14T08:43:24.365Z"
   },
   {
    "duration": 8,
    "start_time": "2025-05-14T08:45:31.636Z"
   },
   {
    "duration": 19,
    "start_time": "2025-05-14T08:45:42.805Z"
   },
   {
    "duration": 5,
    "start_time": "2025-05-14T08:46:31.514Z"
   },
   {
    "duration": 10,
    "start_time": "2025-05-14T08:52:08.667Z"
   },
   {
    "duration": 5,
    "start_time": "2025-05-14T08:52:17.531Z"
   },
   {
    "duration": 4,
    "start_time": "2025-05-14T08:52:20.475Z"
   },
   {
    "duration": 3,
    "start_time": "2025-05-14T08:52:24.381Z"
   },
   {
    "duration": 3,
    "start_time": "2025-05-14T08:52:28.149Z"
   },
   {
    "duration": 3,
    "start_time": "2025-05-14T08:52:31.059Z"
   },
   {
    "duration": 13,
    "start_time": "2025-05-14T11:00:01.973Z"
   },
   {
    "duration": 10,
    "start_time": "2025-05-14T11:09:06.498Z"
   },
   {
    "duration": 3290,
    "start_time": "2025-05-14T11:09:50.218Z"
   },
   {
    "duration": 4,
    "start_time": "2025-05-14T11:10:14.234Z"
   },
   {
    "duration": 6293,
    "start_time": "2025-05-14T11:10:19.320Z"
   },
   {
    "duration": 5,
    "start_time": "2025-05-14T11:10:38.600Z"
   },
   {
    "duration": 18,
    "start_time": "2025-05-14T11:10:41.024Z"
   },
   {
    "duration": 7,
    "start_time": "2025-05-14T11:17:56.345Z"
   },
   {
    "duration": 9,
    "start_time": "2025-05-14T11:20:27.931Z"
   },
   {
    "duration": 10,
    "start_time": "2025-05-14T11:20:57.258Z"
   },
   {
    "duration": 4549,
    "start_time": "2025-05-14T11:21:10.900Z"
   },
   {
    "duration": 10,
    "start_time": "2025-05-14T11:21:15.453Z"
   },
   {
    "duration": 159,
    "start_time": "2025-05-14T11:21:15.464Z"
   },
   {
    "duration": 11,
    "start_time": "2025-05-14T11:21:15.625Z"
   },
   {
    "duration": 43,
    "start_time": "2025-05-14T11:21:15.638Z"
   },
   {
    "duration": 311,
    "start_time": "2025-05-14T11:21:15.682Z"
   },
   {
    "duration": 14,
    "start_time": "2025-05-14T11:21:15.995Z"
   },
   {
    "duration": 25,
    "start_time": "2025-05-14T11:21:16.010Z"
   },
   {
    "duration": 548,
    "start_time": "2025-05-14T11:21:16.037Z"
   },
   {
    "duration": 880,
    "start_time": "2025-05-14T11:21:16.587Z"
   },
   {
    "duration": 5,
    "start_time": "2025-05-14T11:21:17.476Z"
   },
   {
    "duration": 98,
    "start_time": "2025-05-14T11:21:17.482Z"
   },
   {
    "duration": 20,
    "start_time": "2025-05-14T11:21:17.581Z"
   },
   {
    "duration": 31,
    "start_time": "2025-05-14T11:21:17.604Z"
   },
   {
    "duration": 24,
    "start_time": "2025-05-14T11:21:17.637Z"
   },
   {
    "duration": 21,
    "start_time": "2025-05-14T11:21:17.662Z"
   },
   {
    "duration": 21,
    "start_time": "2025-05-14T11:21:17.685Z"
   },
   {
    "duration": 33,
    "start_time": "2025-05-14T11:21:17.708Z"
   },
   {
    "duration": 4451,
    "start_time": "2025-05-14T11:21:17.743Z"
   },
   {
    "duration": 5,
    "start_time": "2025-05-14T11:21:22.196Z"
   },
   {
    "duration": 31,
    "start_time": "2025-05-14T11:21:22.203Z"
   },
   {
    "duration": 465,
    "start_time": "2025-05-14T16:41:05.242Z"
   },
   {
    "duration": 24,
    "start_time": "2025-05-14T16:41:07.312Z"
   },
   {
    "duration": 50359,
    "start_time": "2025-05-14T16:41:15.204Z"
   },
   {
    "duration": 87,
    "start_time": "2025-05-14T16:42:05.616Z"
   },
   {
    "duration": 260,
    "start_time": "2025-05-14T16:42:05.705Z"
   },
   {
    "duration": 46,
    "start_time": "2025-05-14T16:42:06.005Z"
   },
   {
    "duration": 284,
    "start_time": "2025-05-14T16:42:06.123Z"
   },
   {
    "duration": 5808,
    "start_time": "2025-05-14T16:42:42.107Z"
   },
   {
    "duration": 41,
    "start_time": "2025-05-14T16:43:01.106Z"
   },
   {
    "duration": 33,
    "start_time": "2025-05-14T16:43:07.719Z"
   },
   {
    "duration": 38,
    "start_time": "2025-05-14T16:43:11.712Z"
   },
   {
    "duration": 644,
    "start_time": "2025-05-14T16:43:16.705Z"
   },
   {
    "duration": 48,
    "start_time": "2025-05-15T05:27:20.480Z"
   },
   {
    "duration": 8508,
    "start_time": "2025-05-15T05:27:23.864Z"
   },
   {
    "duration": 12,
    "start_time": "2025-05-15T05:27:32.374Z"
   },
   {
    "duration": 134,
    "start_time": "2025-05-15T05:27:32.388Z"
   },
   {
    "duration": 71,
    "start_time": "2025-05-15T05:27:32.524Z"
   },
   {
    "duration": 106,
    "start_time": "2025-05-15T05:27:32.598Z"
   },
   {
    "duration": 443,
    "start_time": "2025-05-15T05:27:32.705Z"
   },
   {
    "duration": 20,
    "start_time": "2025-05-15T05:27:33.150Z"
   },
   {
    "duration": 15,
    "start_time": "2025-05-15T05:27:33.172Z"
   },
   {
    "duration": 708,
    "start_time": "2025-05-15T05:27:33.188Z"
   },
   {
    "duration": 970,
    "start_time": "2025-05-15T05:27:33.898Z"
   },
   {
    "duration": 242,
    "start_time": "2025-05-15T05:27:34.871Z"
   },
   {
    "duration": 3149,
    "start_time": "2025-05-15T06:07:58.877Z"
   },
   {
    "duration": 10,
    "start_time": "2025-05-15T06:08:02.029Z"
   },
   {
    "duration": 69,
    "start_time": "2025-05-15T06:08:02.040Z"
   },
   {
    "duration": 11,
    "start_time": "2025-05-15T06:08:02.110Z"
   },
   {
    "duration": 35,
    "start_time": "2025-05-15T06:08:02.123Z"
   },
   {
    "duration": 272,
    "start_time": "2025-05-15T06:08:02.160Z"
   },
   {
    "duration": 5,
    "start_time": "2025-05-15T06:08:06.729Z"
   },
   {
    "duration": 138,
    "start_time": "2025-05-15T06:08:34.432Z"
   },
   {
    "duration": 10,
    "start_time": "2025-05-15T06:08:59.392Z"
   },
   {
    "duration": 3,
    "start_time": "2025-05-15T06:10:40.565Z"
   },
   {
    "duration": 286,
    "start_time": "2025-05-15T06:10:57.021Z"
   },
   {
    "duration": 9,
    "start_time": "2025-05-15T06:11:07.260Z"
   },
   {
    "duration": 811,
    "start_time": "2025-05-15T06:12:45.692Z"
   },
   {
    "duration": 308,
    "start_time": "2025-05-15T06:12:59.042Z"
   },
   {
    "duration": 6,
    "start_time": "2025-05-15T06:25:53.746Z"
   },
   {
    "duration": 6,
    "start_time": "2025-05-15T06:28:30.231Z"
   },
   {
    "duration": 6,
    "start_time": "2025-05-15T06:29:24.721Z"
   },
   {
    "duration": 191,
    "start_time": "2025-05-15T06:29:50.973Z"
   },
   {
    "duration": 10,
    "start_time": "2025-05-15T06:30:37.814Z"
   },
   {
    "duration": 190,
    "start_time": "2025-05-15T06:31:01.836Z"
   },
   {
    "duration": 8,
    "start_time": "2025-05-15T06:33:23.632Z"
   },
   {
    "duration": 12,
    "start_time": "2025-05-15T06:33:45.520Z"
   },
   {
    "duration": 7,
    "start_time": "2025-05-15T06:34:59.342Z"
   },
   {
    "duration": 7,
    "start_time": "2025-05-15T06:35:14.559Z"
   },
   {
    "duration": 12,
    "start_time": "2025-05-15T06:35:16.888Z"
   },
   {
    "duration": 200,
    "start_time": "2025-05-15T06:39:35.754Z"
   },
   {
    "duration": 207,
    "start_time": "2025-05-15T06:40:37.376Z"
   },
   {
    "duration": 252,
    "start_time": "2025-05-15T06:41:01.102Z"
   },
   {
    "duration": 4,
    "start_time": "2025-05-15T07:01:24.613Z"
   },
   {
    "duration": 13,
    "start_time": "2025-05-15T07:01:27.909Z"
   },
   {
    "duration": 4,
    "start_time": "2025-05-15T07:01:33.933Z"
   },
   {
    "duration": 3,
    "start_time": "2025-05-15T07:01:36.292Z"
   },
   {
    "duration": 4,
    "start_time": "2025-05-15T07:01:38.382Z"
   },
   {
    "duration": 3,
    "start_time": "2025-05-15T07:01:39.933Z"
   },
   {
    "duration": 3915,
    "start_time": "2025-05-15T07:01:43.636Z"
   },
   {
    "duration": 4,
    "start_time": "2025-05-15T07:01:57.676Z"
   },
   {
    "duration": 128,
    "start_time": "2025-05-15T07:02:03.221Z"
   },
   {
    "duration": 14,
    "start_time": "2025-05-15T07:03:50.922Z"
   },
   {
    "duration": 7,
    "start_time": "2025-05-15T07:04:27.840Z"
   },
   {
    "duration": 3,
    "start_time": "2025-05-15T07:04:30.505Z"
   },
   {
    "duration": 5,
    "start_time": "2025-05-15T07:04:33.809Z"
   },
   {
    "duration": 4,
    "start_time": "2025-05-15T07:04:36.825Z"
   },
   {
    "duration": 5093,
    "start_time": "2025-05-15T07:04:43.694Z"
   },
   {
    "duration": 4,
    "start_time": "2025-05-15T07:04:55.953Z"
   },
   {
    "duration": 42,
    "start_time": "2025-05-15T07:04:59.377Z"
   },
   {
    "duration": 1218,
    "start_time": "2025-05-15T07:07:02.374Z"
   },
   {
    "duration": 5,
    "start_time": "2025-05-15T07:07:55.140Z"
   },
   {
    "duration": 4,
    "start_time": "2025-05-15T07:08:03.028Z"
   },
   {
    "duration": 4,
    "start_time": "2025-05-15T07:08:06.491Z"
   },
   {
    "duration": 5,
    "start_time": "2025-05-15T07:08:07.702Z"
   },
   {
    "duration": 4,
    "start_time": "2025-05-15T07:08:09.710Z"
   },
   {
    "duration": 4543,
    "start_time": "2025-05-15T07:08:12.293Z"
   },
   {
    "duration": 4,
    "start_time": "2025-05-15T07:08:31.964Z"
   },
   {
    "duration": 39,
    "start_time": "2025-05-15T07:08:34.068Z"
   },
   {
    "duration": 24,
    "start_time": "2025-05-15T07:08:52.443Z"
   },
   {
    "duration": 15,
    "start_time": "2025-05-15T07:09:09.931Z"
   },
   {
    "duration": 16,
    "start_time": "2025-05-15T07:09:22.690Z"
   },
   {
    "duration": 3375,
    "start_time": "2025-05-15T07:11:36.447Z"
   },
   {
    "duration": 4547,
    "start_time": "2025-05-15T07:12:56.294Z"
   },
   {
    "duration": 9,
    "start_time": "2025-05-15T07:13:00.844Z"
   },
   {
    "duration": 66,
    "start_time": "2025-05-15T07:13:00.854Z"
   },
   {
    "duration": 11,
    "start_time": "2025-05-15T07:13:00.921Z"
   },
   {
    "duration": 42,
    "start_time": "2025-05-15T07:13:00.934Z"
   },
   {
    "duration": 290,
    "start_time": "2025-05-15T07:13:00.978Z"
   },
   {
    "duration": 9,
    "start_time": "2025-05-15T07:13:01.270Z"
   },
   {
    "duration": 17,
    "start_time": "2025-05-15T07:13:01.281Z"
   },
   {
    "duration": 326,
    "start_time": "2025-05-15T07:13:01.300Z"
   },
   {
    "duration": 8,
    "start_time": "2025-05-15T07:13:01.628Z"
   },
   {
    "duration": 510,
    "start_time": "2025-05-15T07:13:01.638Z"
   },
   {
    "duration": 775,
    "start_time": "2025-05-15T07:13:02.150Z"
   },
   {
    "duration": 8,
    "start_time": "2025-05-15T07:13:02.927Z"
   },
   {
    "duration": 233,
    "start_time": "2025-05-15T07:13:02.938Z"
   },
   {
    "duration": 259,
    "start_time": "2025-05-15T07:13:03.176Z"
   },
   {
    "duration": 4,
    "start_time": "2025-05-15T07:13:03.437Z"
   },
   {
    "duration": 29,
    "start_time": "2025-05-15T07:13:03.442Z"
   },
   {
    "duration": 11,
    "start_time": "2025-05-15T07:13:03.472Z"
   },
   {
    "duration": 21,
    "start_time": "2025-05-15T07:13:03.485Z"
   },
   {
    "duration": 12,
    "start_time": "2025-05-15T07:13:03.508Z"
   },
   {
    "duration": 63,
    "start_time": "2025-05-15T07:13:03.522Z"
   },
   {
    "duration": 14,
    "start_time": "2025-05-15T07:13:03.587Z"
   },
   {
    "duration": 3850,
    "start_time": "2025-05-15T07:13:03.604Z"
   },
   {
    "duration": 4,
    "start_time": "2025-05-15T07:13:07.455Z"
   },
   {
    "duration": 37,
    "start_time": "2025-05-15T07:13:07.461Z"
   },
   {
    "duration": 4519,
    "start_time": "2025-05-15T07:16:34.315Z"
   },
   {
    "duration": 8,
    "start_time": "2025-05-15T07:16:38.836Z"
   },
   {
    "duration": 80,
    "start_time": "2025-05-15T07:16:38.846Z"
   },
   {
    "duration": 11,
    "start_time": "2025-05-15T07:16:38.928Z"
   },
   {
    "duration": 19,
    "start_time": "2025-05-15T07:16:38.941Z"
   },
   {
    "duration": 293,
    "start_time": "2025-05-15T07:16:38.961Z"
   },
   {
    "duration": 2,
    "start_time": "2025-05-15T07:16:39.256Z"
   },
   {
    "duration": 25,
    "start_time": "2025-05-15T07:16:39.260Z"
   },
   {
    "duration": 403,
    "start_time": "2025-05-15T07:16:39.287Z"
   },
   {
    "duration": 864,
    "start_time": "2025-05-15T07:16:39.693Z"
   },
   {
    "duration": 20,
    "start_time": "2025-05-15T07:16:40.558Z"
   },
   {
    "duration": 265,
    "start_time": "2025-05-15T07:16:40.580Z"
   },
   {
    "duration": 248,
    "start_time": "2025-05-15T07:16:40.847Z"
   },
   {
    "duration": 3,
    "start_time": "2025-05-15T07:16:41.097Z"
   },
   {
    "duration": 39,
    "start_time": "2025-05-15T07:16:41.102Z"
   },
   {
    "duration": 35,
    "start_time": "2025-05-15T07:16:41.143Z"
   },
   {
    "duration": 107,
    "start_time": "2025-05-15T07:16:41.180Z"
   },
   {
    "duration": 28,
    "start_time": "2025-05-15T07:16:41.289Z"
   },
   {
    "duration": 22,
    "start_time": "2025-05-15T07:16:41.319Z"
   },
   {
    "duration": 26,
    "start_time": "2025-05-15T07:16:41.343Z"
   },
   {
    "duration": 4538,
    "start_time": "2025-05-15T07:16:41.371Z"
   },
   {
    "duration": 5,
    "start_time": "2025-05-15T07:16:45.913Z"
   },
   {
    "duration": 38,
    "start_time": "2025-05-15T07:16:45.920Z"
   },
   {
    "duration": 4,
    "start_time": "2025-05-15T07:17:41.812Z"
   },
   {
    "duration": 4,
    "start_time": "2025-05-15T07:17:45.221Z"
   },
   {
    "duration": 21309,
    "start_time": "2025-05-15T07:17:48.323Z"
   },
   {
    "duration": 5,
    "start_time": "2025-05-15T07:18:16.147Z"
   },
   {
    "duration": 29,
    "start_time": "2025-05-15T07:18:17.916Z"
   },
   {
    "duration": 124,
    "start_time": "2025-05-15T07:19:52.953Z"
   },
   {
    "duration": 907,
    "start_time": "2025-05-15T07:20:02.977Z"
   },
   {
    "duration": 13,
    "start_time": "2025-05-15T07:20:43.800Z"
   },
   {
    "duration": 14662,
    "start_time": "2025-05-15T07:22:01.431Z"
   },
   {
    "duration": 782,
    "start_time": "2025-05-15T07:22:20.304Z"
   },
   {
    "duration": 12,
    "start_time": "2025-05-15T07:23:10.573Z"
   },
   {
    "duration": 4,
    "start_time": "2025-05-15T07:25:21.962Z"
   },
   {
    "duration": 3,
    "start_time": "2025-05-15T07:25:25.122Z"
   },
   {
    "duration": 20177,
    "start_time": "2025-05-15T07:25:27.916Z"
   },
   {
    "duration": 1177,
    "start_time": "2025-05-15T07:25:57.706Z"
   },
   {
    "duration": 4759,
    "start_time": "2025-05-15T07:45:18.217Z"
   },
   {
    "duration": 9,
    "start_time": "2025-05-15T07:45:22.979Z"
   },
   {
    "duration": 174,
    "start_time": "2025-05-15T07:45:22.990Z"
   },
   {
    "duration": 23,
    "start_time": "2025-05-15T07:45:23.166Z"
   },
   {
    "duration": 69,
    "start_time": "2025-05-15T07:45:23.191Z"
   },
   {
    "duration": 290,
    "start_time": "2025-05-15T07:45:23.262Z"
   },
   {
    "duration": 2,
    "start_time": "2025-05-15T07:45:23.554Z"
   },
   {
    "duration": 33,
    "start_time": "2025-05-15T07:45:23.558Z"
   },
   {
    "duration": 405,
    "start_time": "2025-05-15T07:45:23.592Z"
   },
   {
    "duration": 878,
    "start_time": "2025-05-15T07:45:23.998Z"
   },
   {
    "duration": 7,
    "start_time": "2025-05-15T07:45:24.878Z"
   },
   {
    "duration": 228,
    "start_time": "2025-05-15T07:45:24.887Z"
   },
   {
    "duration": 263,
    "start_time": "2025-05-15T07:45:25.117Z"
   },
   {
    "duration": 3,
    "start_time": "2025-05-15T07:45:25.383Z"
   },
   {
    "duration": 62,
    "start_time": "2025-05-15T07:45:25.388Z"
   },
   {
    "duration": 14,
    "start_time": "2025-05-15T07:45:25.452Z"
   },
   {
    "duration": 13,
    "start_time": "2025-05-15T07:45:25.467Z"
   },
   {
    "duration": 30,
    "start_time": "2025-05-15T07:45:25.482Z"
   },
   {
    "duration": 25,
    "start_time": "2025-05-15T07:45:25.514Z"
   },
   {
    "duration": 91,
    "start_time": "2025-05-15T07:45:25.540Z"
   },
   {
    "duration": 20463,
    "start_time": "2025-05-15T07:45:25.633Z"
   },
   {
    "duration": 4,
    "start_time": "2025-05-15T07:45:46.098Z"
   },
   {
    "duration": 1309,
    "start_time": "2025-05-15T07:45:46.177Z"
   },
   {
    "duration": 8723,
    "start_time": "2025-07-21T08:19:04.395Z"
   },
   {
    "duration": 9,
    "start_time": "2025-07-21T08:19:16.243Z"
   },
   {
    "duration": 47,
    "start_time": "2025-07-21T08:20:07.542Z"
   },
   {
    "duration": 11,
    "start_time": "2025-07-21T08:20:08.272Z"
   },
   {
    "duration": 8,
    "start_time": "2025-07-21T08:20:12.954Z"
   },
   {
    "duration": 237,
    "start_time": "2025-07-21T08:20:16.587Z"
   },
   {
    "duration": 10,
    "start_time": "2025-07-21T08:20:26.749Z"
   },
   {
    "duration": 4499,
    "start_time": "2025-08-07T13:13:42.468Z"
   },
   {
    "duration": 128,
    "start_time": "2025-08-07T13:15:19.529Z"
   },
   {
    "duration": 48,
    "start_time": "2025-08-07T13:17:52.281Z"
   },
   {
    "duration": 4728,
    "start_time": "2025-08-07T13:17:58.232Z"
   },
   {
    "duration": 9,
    "start_time": "2025-08-07T13:18:04.016Z"
   },
   {
    "duration": 818,
    "start_time": "2025-08-07T13:18:08.328Z"
   },
   {
    "duration": 25,
    "start_time": "2025-08-07T13:18:20.648Z"
   },
   {
    "duration": 103,
    "start_time": "2025-08-07T13:19:24.479Z"
   },
   {
    "duration": 23,
    "start_time": "2025-08-07T13:20:06.669Z"
   },
   {
    "duration": 39,
    "start_time": "2025-08-07T13:20:50.524Z"
   },
   {
    "duration": 685,
    "start_time": "2025-08-07T13:22:33.140Z"
   },
   {
    "duration": 40,
    "start_time": "2025-08-07T13:22:35.379Z"
   },
   {
    "duration": 172,
    "start_time": "2025-08-07T13:22:55.220Z"
   },
   {
    "duration": 39,
    "start_time": "2025-08-07T13:23:20.145Z"
   },
   {
    "duration": 694,
    "start_time": "2025-08-07T13:28:52.883Z"
   },
   {
    "duration": 706,
    "start_time": "2025-08-07T13:29:01.091Z"
   },
   {
    "duration": 1257,
    "start_time": "2025-08-07T13:29:24.201Z"
   },
   {
    "duration": 26,
    "start_time": "2025-08-07T13:29:36.313Z"
   },
   {
    "duration": 39,
    "start_time": "2025-08-07T13:33:29.061Z"
   },
   {
    "duration": 8,
    "start_time": "2025-08-09T05:32:00.608Z"
   },
   {
    "duration": 40,
    "start_time": "2025-08-09T05:32:04.208Z"
   },
   {
    "duration": 100,
    "start_time": "2025-08-09T05:37:04.240Z"
   },
   {
    "duration": 28,
    "start_time": "2025-08-09T05:37:33.624Z"
   },
   {
    "duration": 38,
    "start_time": "2025-08-09T05:37:37.353Z"
   },
   {
    "duration": 708,
    "start_time": "2025-08-09T05:38:16.071Z"
   },
   {
    "duration": 5,
    "start_time": "2025-08-09T05:38:21.310Z"
   },
   {
    "duration": 26,
    "start_time": "2025-08-09T05:38:23.007Z"
   },
   {
    "duration": 36,
    "start_time": "2025-08-09T05:38:25.008Z"
   },
   {
    "duration": 36,
    "start_time": "2025-08-09T05:38:36.065Z"
   },
   {
    "duration": 46,
    "start_time": "2025-08-09T05:42:52.312Z"
   },
   {
    "duration": 10,
    "start_time": "2025-08-09T05:42:53.161Z"
   },
   {
    "duration": 83,
    "start_time": "2025-08-09T05:44:29.711Z"
   },
   {
    "duration": 4,
    "start_time": "2025-08-09T05:44:40.615Z"
   },
   {
    "duration": 421,
    "start_time": "2025-08-09T05:45:43.981Z"
   },
   {
    "duration": 5,
    "start_time": "2025-08-09T05:46:03.236Z"
   },
   {
    "duration": 405,
    "start_time": "2025-08-09T05:46:25.036Z"
   },
   {
    "duration": 363,
    "start_time": "2025-08-09T05:46:46.284Z"
   },
   {
    "duration": 14,
    "start_time": "2025-08-09T05:47:16.515Z"
   },
   {
    "duration": 14,
    "start_time": "2025-08-09T05:47:45.179Z"
   },
   {
    "duration": 1872,
    "start_time": "2025-08-09T05:48:03.307Z"
   },
   {
    "duration": 10,
    "start_time": "2025-08-09T05:48:25.522Z"
   },
   {
    "duration": 6,
    "start_time": "2025-08-09T05:49:20.305Z"
   },
   {
    "duration": 5,
    "start_time": "2025-08-09T05:49:30.208Z"
   },
   {
    "duration": 40,
    "start_time": "2025-08-09T05:49:35.994Z"
   },
   {
    "duration": 773,
    "start_time": "2025-08-09T05:50:19.335Z"
   },
   {
    "duration": 2514,
    "start_time": "2025-08-09T05:51:59.821Z"
   },
   {
    "duration": 768,
    "start_time": "2025-08-09T05:53:03.389Z"
   },
   {
    "duration": 80,
    "start_time": "2025-08-09T05:53:21.876Z"
   },
   {
    "duration": 4,
    "start_time": "2025-08-09T06:00:13.052Z"
   },
   {
    "duration": 3,
    "start_time": "2025-08-09T06:03:38.119Z"
   },
   {
    "duration": 4,
    "start_time": "2025-08-09T06:03:44.879Z"
   },
   {
    "duration": 1471,
    "start_time": "2025-08-09T06:05:21.589Z"
   },
   {
    "duration": 14,
    "start_time": "2025-08-09T06:05:38.669Z"
   },
   {
    "duration": 1509,
    "start_time": "2025-08-09T06:05:43.052Z"
   },
   {
    "duration": 18,
    "start_time": "2025-08-09T06:06:02.135Z"
   },
   {
    "duration": 1496,
    "start_time": "2025-08-09T06:07:16.171Z"
   },
   {
    "duration": 18,
    "start_time": "2025-08-09T06:07:23.989Z"
   },
   {
    "duration": 29,
    "start_time": "2025-08-09T06:07:34.938Z"
   },
   {
    "duration": 5,
    "start_time": "2025-08-09T06:07:38.434Z"
   },
   {
    "duration": 5,
    "start_time": "2025-08-09T06:07:42.562Z"
   },
   {
    "duration": 19,
    "start_time": "2025-08-09T06:08:01.339Z"
   },
   {
    "duration": 695,
    "start_time": "2025-08-09T06:08:18.002Z"
   },
   {
    "duration": 4,
    "start_time": "2025-08-09T06:08:33.609Z"
   },
   {
    "duration": 19,
    "start_time": "2025-08-09T06:08:44.593Z"
   },
   {
    "duration": 25,
    "start_time": "2025-08-09T06:08:57.512Z"
   },
   {
    "duration": 7,
    "start_time": "2025-08-09T06:08:58.416Z"
   },
   {
    "duration": 19,
    "start_time": "2025-08-09T06:08:59.321Z"
   },
   {
    "duration": 18,
    "start_time": "2025-08-09T06:09:09.720Z"
   },
   {
    "duration": 5,
    "start_time": "2025-08-09T06:09:17.184Z"
   },
   {
    "duration": 7,
    "start_time": "2025-08-09T06:09:39.839Z"
   },
   {
    "duration": 2214,
    "start_time": "2025-08-09T06:09:48.071Z"
   },
   {
    "duration": 18,
    "start_time": "2025-08-09T06:10:01.239Z"
   },
   {
    "duration": 7,
    "start_time": "2025-08-09T06:13:20.851Z"
   },
   {
    "duration": 16,
    "start_time": "2025-08-09T06:13:26.987Z"
   },
   {
    "duration": 5,
    "start_time": "2025-08-09T06:36:24.711Z"
   },
   {
    "duration": 20,
    "start_time": "2025-08-09T06:36:29.455Z"
   },
   {
    "duration": 839,
    "start_time": "2025-08-09T06:37:15.638Z"
   },
   {
    "duration": 18,
    "start_time": "2025-08-09T06:37:18.678Z"
   },
   {
    "duration": 6,
    "start_time": "2025-08-09T06:37:23.398Z"
   },
   {
    "duration": 19,
    "start_time": "2025-08-09T06:37:28.365Z"
   },
   {
    "duration": 859,
    "start_time": "2025-08-09T06:38:58.499Z"
   },
   {
    "duration": 6,
    "start_time": "2025-08-09T06:39:01.763Z"
   },
   {
    "duration": 18,
    "start_time": "2025-08-09T06:39:04.540Z"
   },
   {
    "duration": 6,
    "start_time": "2025-08-09T06:39:23.747Z"
   },
   {
    "duration": 18,
    "start_time": "2025-08-09T06:39:29.996Z"
   },
   {
    "duration": 7,
    "start_time": "2025-08-09T06:39:37.826Z"
   },
   {
    "duration": 22,
    "start_time": "2025-08-09T06:39:42.955Z"
   },
   {
    "duration": 28,
    "start_time": "2025-08-09T06:48:13.040Z"
   },
   {
    "duration": 28,
    "start_time": "2025-08-09T06:48:30.146Z"
   },
   {
    "duration": 22,
    "start_time": "2025-08-09T06:48:39.975Z"
   },
   {
    "duration": 21,
    "start_time": "2025-08-09T06:48:47.239Z"
   },
   {
    "duration": 24,
    "start_time": "2025-08-09T06:49:09.223Z"
   },
   {
    "duration": 25,
    "start_time": "2025-08-09T06:49:23.695Z"
   },
   {
    "duration": 21,
    "start_time": "2025-08-09T06:49:32.303Z"
   },
   {
    "duration": 23,
    "start_time": "2025-08-09T06:49:39.791Z"
   },
   {
    "duration": 9,
    "start_time": "2025-08-09T06:51:00.356Z"
   },
   {
    "duration": 28,
    "start_time": "2025-08-09T06:51:04.220Z"
   },
   {
    "duration": 8,
    "start_time": "2025-08-09T06:51:23.788Z"
   },
   {
    "duration": 18,
    "start_time": "2025-08-09T06:51:26.997Z"
   },
   {
    "duration": 5,
    "start_time": "2025-08-09T06:51:39.412Z"
   },
   {
    "duration": 21,
    "start_time": "2025-08-09T06:51:41.836Z"
   },
   {
    "duration": 3,
    "start_time": "2025-08-09T06:52:04.275Z"
   },
   {
    "duration": 4,
    "start_time": "2025-08-09T06:52:32.091Z"
   },
   {
    "duration": 10,
    "start_time": "2025-08-09T06:53:24.042Z"
   },
   {
    "duration": 5,
    "start_time": "2025-08-09T06:53:53.464Z"
   },
   {
    "duration": 4,
    "start_time": "2025-08-09T06:53:54.760Z"
   },
   {
    "duration": 11,
    "start_time": "2025-08-09T06:54:03.682Z"
   },
   {
    "duration": 10,
    "start_time": "2025-08-09T06:54:50.022Z"
   },
   {
    "duration": 8,
    "start_time": "2025-08-09T06:55:19.767Z"
   },
   {
    "duration": 9,
    "start_time": "2025-08-09T06:56:10.334Z"
   },
   {
    "duration": 92,
    "start_time": "2025-08-09T07:00:20.753Z"
   },
   {
    "duration": 20,
    "start_time": "2025-08-09T07:00:37.936Z"
   },
   {
    "duration": 18,
    "start_time": "2025-08-09T07:01:01.091Z"
   },
   {
    "duration": 4,
    "start_time": "2025-08-09T07:02:45.821Z"
   },
   {
    "duration": 15,
    "start_time": "2025-08-09T07:02:47.150Z"
   },
   {
    "duration": 16,
    "start_time": "2025-08-09T07:04:56.099Z"
   },
   {
    "duration": 4,
    "start_time": "2025-08-09T07:05:12.755Z"
   },
   {
    "duration": 15,
    "start_time": "2025-08-09T07:10:34.263Z"
   },
   {
    "duration": 57,
    "start_time": "2025-08-09T07:10:54.812Z"
   },
   {
    "duration": 78,
    "start_time": "2025-08-09T07:11:14.027Z"
   },
   {
    "duration": 855,
    "start_time": "2025-08-09T07:13:59.303Z"
   },
   {
    "duration": 950,
    "start_time": "2025-08-09T07:15:10.014Z"
   },
   {
    "duration": 378,
    "start_time": "2025-08-09T07:16:24.556Z"
   },
   {
    "duration": 39,
    "start_time": "2025-08-09T07:16:38.365Z"
   },
   {
    "duration": 408,
    "start_time": "2025-08-09T07:18:11.075Z"
   },
   {
    "duration": 68,
    "start_time": "2025-08-09T07:18:26.148Z"
   },
   {
    "duration": 24,
    "start_time": "2025-08-09T07:18:40.905Z"
   },
   {
    "duration": 75,
    "start_time": "2025-08-09T07:19:16.098Z"
   },
   {
    "duration": 833,
    "start_time": "2025-08-09T07:19:57.383Z"
   },
   {
    "duration": 1184,
    "start_time": "2025-08-09T07:20:21.392Z"
   },
   {
    "duration": 1592,
    "start_time": "2025-08-09T07:20:43.232Z"
   },
   {
    "duration": 103,
    "start_time": "2025-08-09T07:21:30.414Z"
   },
   {
    "duration": 32,
    "start_time": "2025-08-09T07:21:55.887Z"
   },
   {
    "duration": 102,
    "start_time": "2025-08-09T07:23:27.268Z"
   },
   {
    "duration": 71,
    "start_time": "2025-08-09T07:23:59.653Z"
   },
   {
    "duration": 14,
    "start_time": "2025-08-09T07:25:22.482Z"
   },
   {
    "duration": 31,
    "start_time": "2025-08-09T07:25:39.562Z"
   },
   {
    "duration": 85,
    "start_time": "2025-08-09T07:25:48.010Z"
   },
   {
    "duration": 37,
    "start_time": "2025-08-09T07:25:54.825Z"
   },
   {
    "duration": 17,
    "start_time": "2025-08-09T07:26:16.657Z"
   },
   {
    "duration": 41,
    "start_time": "2025-08-09T07:26:35.768Z"
   },
   {
    "duration": 79,
    "start_time": "2025-08-09T07:26:55.376Z"
   },
   {
    "duration": 89,
    "start_time": "2025-08-09T07:27:12.968Z"
   },
   {
    "duration": 65,
    "start_time": "2025-08-09T07:28:48.333Z"
   },
   {
    "duration": 14,
    "start_time": "2025-08-09T07:30:07.741Z"
   },
   {
    "duration": 82,
    "start_time": "2025-08-09T07:30:14.460Z"
   },
   {
    "duration": 162,
    "start_time": "2025-08-09T07:30:52.492Z"
   },
   {
    "duration": 96,
    "start_time": "2025-08-09T07:31:37.818Z"
   },
   {
    "duration": 34,
    "start_time": "2025-08-09T07:32:32.457Z"
   },
   {
    "duration": 69,
    "start_time": "2025-08-09T07:33:02.951Z"
   },
   {
    "duration": 81,
    "start_time": "2025-08-09T07:35:29.101Z"
   },
   {
    "duration": 66,
    "start_time": "2025-08-09T07:35:51.957Z"
   },
   {
    "duration": 31,
    "start_time": "2025-08-09T07:38:43.609Z"
   },
   {
    "duration": 1513,
    "start_time": "2025-08-09T07:40:24.471Z"
   },
   {
    "duration": 692,
    "start_time": "2025-08-09T07:41:02.222Z"
   },
   {
    "duration": 7,
    "start_time": "2025-08-09T07:41:12.022Z"
   },
   {
    "duration": 14,
    "start_time": "2025-08-09T07:41:33.317Z"
   },
   {
    "duration": 29,
    "start_time": "2025-08-09T07:42:07.117Z"
   },
   {
    "duration": 1359,
    "start_time": "2025-08-09T07:42:56.427Z"
   },
   {
    "duration": 56,
    "start_time": "2025-08-09T07:44:25.810Z"
   },
   {
    "duration": 13,
    "start_time": "2025-08-09T07:44:40.698Z"
   },
   {
    "duration": 7,
    "start_time": "2025-08-09T07:45:13.410Z"
   },
   {
    "duration": 1334,
    "start_time": "2025-08-09T07:46:25.664Z"
   },
   {
    "duration": 1863,
    "start_time": "2025-08-09T07:47:37.591Z"
   },
   {
    "duration": 7299,
    "start_time": "2025-08-11T08:06:09.925Z"
   },
   {
    "duration": 1683,
    "start_time": "2025-08-11T08:06:17.227Z"
   },
   {
    "duration": 9,
    "start_time": "2025-08-11T08:06:18.912Z"
   },
   {
    "duration": 1545,
    "start_time": "2025-08-11T08:06:18.922Z"
   },
   {
    "duration": 123,
    "start_time": "2025-08-11T08:07:33.387Z"
   },
   {
    "duration": 4,
    "start_time": "2025-08-11T08:07:42.011Z"
   },
   {
    "duration": 5,
    "start_time": "2025-08-11T08:07:47.261Z"
   },
   {
    "duration": 3699,
    "start_time": "2025-08-11T08:13:58.379Z"
   },
   {
    "duration": 762,
    "start_time": "2025-08-11T08:14:45.347Z"
   },
   {
    "duration": 25,
    "start_time": "2025-08-11T08:14:54.985Z"
   },
   {
    "duration": 603,
    "start_time": "2025-08-11T08:15:51.521Z"
   },
   {
    "duration": 1002,
    "start_time": "2025-08-11T08:16:20.192Z"
   },
   {
    "duration": 750,
    "start_time": "2025-08-11T08:16:25.200Z"
   },
   {
    "duration": 630,
    "start_time": "2025-08-11T08:16:30.520Z"
   },
   {
    "duration": 660,
    "start_time": "2025-08-11T08:16:36.369Z"
   },
   {
    "duration": 679,
    "start_time": "2025-08-11T08:17:39.640Z"
   },
   {
    "duration": 1327,
    "start_time": "2025-08-11T08:18:32.095Z"
   },
   {
    "duration": 722,
    "start_time": "2025-08-11T08:20:06.653Z"
   },
   {
    "duration": 678,
    "start_time": "2025-08-11T08:20:31.579Z"
   },
   {
    "duration": 1386,
    "start_time": "2025-08-11T08:20:56.555Z"
   },
   {
    "duration": 778,
    "start_time": "2025-08-11T08:22:14.112Z"
   },
   {
    "duration": 1633,
    "start_time": "2025-08-11T08:22:29.625Z"
   },
   {
    "duration": 62,
    "start_time": "2025-08-11T08:26:23.675Z"
   },
   {
    "duration": 754,
    "start_time": "2025-08-11T08:26:43.307Z"
   },
   {
    "duration": 1491,
    "start_time": "2025-08-11T08:27:26.146Z"
   },
   {
    "duration": 709,
    "start_time": "2025-08-11T08:28:55.810Z"
   },
   {
    "duration": 4148,
    "start_time": "2025-08-11T08:29:42.192Z"
   },
   {
    "duration": 3064,
    "start_time": "2025-08-11T08:30:09.815Z"
   },
   {
    "duration": 1388,
    "start_time": "2025-08-11T08:31:02.783Z"
   },
   {
    "duration": 706,
    "start_time": "2025-08-11T08:31:59.205Z"
   },
   {
    "duration": 1629,
    "start_time": "2025-08-11T08:33:15.789Z"
   },
   {
    "duration": 996,
    "start_time": "2025-08-11T08:33:56.796Z"
   },
   {
    "duration": 1545,
    "start_time": "2025-08-11T08:34:49.922Z"
   },
   {
    "duration": 772,
    "start_time": "2025-08-11T08:36:04.345Z"
   },
   {
    "duration": 1495,
    "start_time": "2025-08-11T08:37:11.984Z"
   },
   {
    "duration": 39,
    "start_time": "2025-08-11T08:38:03.704Z"
   },
   {
    "duration": 738,
    "start_time": "2025-08-11T08:39:41.812Z"
   },
   {
    "duration": 1580,
    "start_time": "2025-08-11T08:40:25.781Z"
   },
   {
    "duration": 75,
    "start_time": "2025-08-11T08:43:13.432Z"
   },
   {
    "duration": 38,
    "start_time": "2025-08-11T08:44:28.895Z"
   },
   {
    "duration": 10,
    "start_time": "2025-08-11T08:45:37.679Z"
   },
   {
    "duration": 5,
    "start_time": "2025-08-11T08:45:49.990Z"
   },
   {
    "duration": 14,
    "start_time": "2025-08-11T08:46:17.196Z"
   },
   {
    "duration": 15,
    "start_time": "2025-08-11T08:46:35.331Z"
   },
   {
    "duration": 5,
    "start_time": "2025-08-11T09:49:30.114Z"
   },
   {
    "duration": 10,
    "start_time": "2025-08-11T09:49:59.399Z"
   },
   {
    "duration": 10,
    "start_time": "2025-08-11T09:50:09.473Z"
   },
   {
    "duration": 9,
    "start_time": "2025-08-11T09:50:45.345Z"
   },
   {
    "duration": 5,
    "start_time": "2025-08-11T09:50:55.945Z"
   },
   {
    "duration": 57,
    "start_time": "2025-08-11T09:50:55.952Z"
   },
   {
    "duration": 1475,
    "start_time": "2025-08-11T09:50:56.010Z"
   },
   {
    "duration": 1498,
    "start_time": "2025-08-11T09:50:57.487Z"
   },
   {
    "duration": 1462,
    "start_time": "2025-08-11T09:50:58.987Z"
   },
   {
    "duration": 1638,
    "start_time": "2025-08-11T09:51:00.451Z"
   },
   {
    "duration": 1443,
    "start_time": "2025-08-11T09:51:02.092Z"
   },
   {
    "duration": 47,
    "start_time": "2025-08-11T09:51:03.537Z"
   },
   {
    "duration": 1408,
    "start_time": "2025-08-11T09:51:03.586Z"
   },
   {
    "duration": 1383,
    "start_time": "2025-08-11T09:51:04.996Z"
   },
   {
    "duration": 1573,
    "start_time": "2025-08-11T09:51:06.381Z"
   },
   {
    "duration": 1533,
    "start_time": "2025-08-11T09:51:07.957Z"
   },
   {
    "duration": 1430,
    "start_time": "2025-08-11T09:51:09.492Z"
   },
   {
    "duration": 5,
    "start_time": "2025-08-11T09:51:14.920Z"
   },
   {
    "duration": 4,
    "start_time": "2025-08-11T09:51:36.279Z"
   },
   {
    "duration": 4,
    "start_time": "2025-08-11T09:51:53.935Z"
   },
   {
    "duration": 5,
    "start_time": "2025-08-11T09:52:10.117Z"
   },
   {
    "duration": 68,
    "start_time": "2025-08-11T09:57:24.320Z"
   },
   {
    "duration": 14,
    "start_time": "2025-08-11T09:57:30.887Z"
   },
   {
    "duration": 3,
    "start_time": "2025-08-11T09:58:38.526Z"
   },
   {
    "duration": 11,
    "start_time": "2025-08-11T09:59:03.830Z"
   },
   {
    "duration": 5,
    "start_time": "2025-08-11T09:59:52.181Z"
   },
   {
    "duration": 10,
    "start_time": "2025-08-11T09:59:58.981Z"
   },
   {
    "duration": 10,
    "start_time": "2025-08-11T10:01:16.210Z"
   },
   {
    "duration": 11,
    "start_time": "2025-08-11T10:01:35.714Z"
   },
   {
    "duration": 3,
    "start_time": "2025-08-11T10:01:47.649Z"
   },
   {
    "duration": 6,
    "start_time": "2025-08-11T10:03:05.319Z"
   },
   {
    "duration": 12,
    "start_time": "2025-08-11T10:03:06.031Z"
   },
   {
    "duration": 5,
    "start_time": "2025-08-11T10:06:17.373Z"
   },
   {
    "duration": 4,
    "start_time": "2025-08-11T10:06:38.963Z"
   },
   {
    "duration": 5,
    "start_time": "2025-08-11T10:06:57.820Z"
   },
   {
    "duration": 5,
    "start_time": "2025-08-11T10:07:19.618Z"
   },
   {
    "duration": 12,
    "start_time": "2025-08-11T10:13:52.124Z"
   },
   {
    "duration": 15,
    "start_time": "2025-08-11T10:14:00.972Z"
   },
   {
    "duration": 3,
    "start_time": "2025-08-11T10:14:28.587Z"
   },
   {
    "duration": 2,
    "start_time": "2025-08-11T10:14:40.757Z"
   },
   {
    "duration": 4,
    "start_time": "2025-08-11T10:14:46.995Z"
   },
   {
    "duration": 7,
    "start_time": "2025-08-11T10:15:42.003Z"
   },
   {
    "duration": 78,
    "start_time": "2025-08-11T10:17:30.730Z"
   },
   {
    "duration": 5,
    "start_time": "2025-08-11T10:17:49.351Z"
   },
   {
    "duration": 9,
    "start_time": "2025-08-11T10:17:49.358Z"
   },
   {
    "duration": 1536,
    "start_time": "2025-08-11T10:17:49.368Z"
   },
   {
    "duration": 1512,
    "start_time": "2025-08-11T10:17:50.906Z"
   },
   {
    "duration": 1719,
    "start_time": "2025-08-11T10:17:52.421Z"
   },
   {
    "duration": 1499,
    "start_time": "2025-08-11T10:17:54.142Z"
   },
   {
    "duration": 64,
    "start_time": "2025-08-11T10:17:55.649Z"
   },
   {
    "duration": 0,
    "start_time": "2025-08-11T10:17:55.715Z"
   },
   {
    "duration": 0,
    "start_time": "2025-08-11T10:17:55.716Z"
   },
   {
    "duration": 0,
    "start_time": "2025-08-11T10:17:55.717Z"
   },
   {
    "duration": 0,
    "start_time": "2025-08-11T10:17:55.718Z"
   },
   {
    "duration": 0,
    "start_time": "2025-08-11T10:17:55.720Z"
   },
   {
    "duration": 0,
    "start_time": "2025-08-11T10:17:55.721Z"
   },
   {
    "duration": 0,
    "start_time": "2025-08-11T10:17:55.722Z"
   },
   {
    "duration": 1,
    "start_time": "2025-08-11T10:17:55.723Z"
   },
   {
    "duration": 67,
    "start_time": "2025-08-11T10:18:16.351Z"
   },
   {
    "duration": 1385,
    "start_time": "2025-08-11T10:18:39.805Z"
   },
   {
    "duration": 37,
    "start_time": "2025-08-11T10:19:02.245Z"
   },
   {
    "duration": 1628,
    "start_time": "2025-08-11T10:19:04.821Z"
   },
   {
    "duration": 1458,
    "start_time": "2025-08-11T10:19:06.452Z"
   },
   {
    "duration": 1525,
    "start_time": "2025-08-11T10:19:07.912Z"
   },
   {
    "duration": 1432,
    "start_time": "2025-08-11T10:19:12.781Z"
   },
   {
    "duration": 1430,
    "start_time": "2025-08-11T10:19:19.556Z"
   },
   {
    "duration": 5,
    "start_time": "2025-08-11T10:19:20.988Z"
   },
   {
    "duration": 3,
    "start_time": "2025-08-11T10:19:42.485Z"
   },
   {
    "duration": 330,
    "start_time": "2025-08-11T10:19:45.380Z"
   },
   {
    "duration": 5,
    "start_time": "2025-08-11T10:20:00.349Z"
   },
   {
    "duration": 14,
    "start_time": "2025-08-11T10:20:06.501Z"
   },
   {
    "duration": 5,
    "start_time": "2025-08-11T10:20:41.331Z"
   },
   {
    "duration": 3,
    "start_time": "2025-08-11T10:26:24.575Z"
   },
   {
    "duration": 5,
    "start_time": "2025-08-11T10:26:28.947Z"
   },
   {
    "duration": 12,
    "start_time": "2025-08-11T10:26:29.781Z"
   },
   {
    "duration": 3,
    "start_time": "2025-08-11T10:26:57.004Z"
   },
   {
    "duration": 2,
    "start_time": "2025-08-11T10:27:06.716Z"
   },
   {
    "duration": 12,
    "start_time": "2025-08-11T10:27:07.772Z"
   },
   {
    "duration": 5,
    "start_time": "2025-08-11T10:30:35.975Z"
   },
   {
    "duration": 13,
    "start_time": "2025-08-11T10:30:38.487Z"
   },
   {
    "duration": 6,
    "start_time": "2025-08-11T10:32:52.159Z"
   },
   {
    "duration": 3,
    "start_time": "2025-08-11T10:32:53.582Z"
   },
   {
    "duration": 12,
    "start_time": "2025-08-11T10:32:55.317Z"
   },
   {
    "duration": 11,
    "start_time": "2025-08-11T10:33:17.984Z"
   },
   {
    "duration": 12,
    "start_time": "2025-08-11T10:34:10.477Z"
   },
   {
    "duration": 6,
    "start_time": "2025-08-11T10:35:05.506Z"
   },
   {
    "duration": 3,
    "start_time": "2025-08-11T10:35:06.171Z"
   },
   {
    "duration": 15,
    "start_time": "2025-08-11T10:35:07.268Z"
   },
   {
    "duration": 3,
    "start_time": "2025-08-11T10:35:30.248Z"
   },
   {
    "duration": 11,
    "start_time": "2025-08-11T10:35:42.993Z"
   },
   {
    "duration": 4,
    "start_time": "2025-08-11T10:36:17.962Z"
   },
   {
    "duration": 3,
    "start_time": "2025-08-11T10:39:34.094Z"
   },
   {
    "duration": 11,
    "start_time": "2025-08-11T10:42:48.850Z"
   },
   {
    "duration": 2,
    "start_time": "2025-08-11T10:42:50.953Z"
   },
   {
    "duration": 33,
    "start_time": "2025-08-11T10:42:52.673Z"
   },
   {
    "duration": 12,
    "start_time": "2025-08-11T10:43:43.625Z"
   },
   {
    "duration": 3,
    "start_time": "2025-08-11T10:43:44.448Z"
   },
   {
    "duration": 31,
    "start_time": "2025-08-11T10:43:45.352Z"
   },
   {
    "duration": 4,
    "start_time": "2025-08-11T10:46:21.134Z"
   },
   {
    "duration": 7,
    "start_time": "2025-08-11T10:46:26.421Z"
   },
   {
    "duration": 3,
    "start_time": "2025-08-11T10:47:36.908Z"
   },
   {
    "duration": 5,
    "start_time": "2025-08-11T10:48:20.812Z"
   },
   {
    "duration": 6,
    "start_time": "2025-08-11T10:48:31.315Z"
   },
   {
    "duration": 10,
    "start_time": "2025-08-11T10:57:47.623Z"
   },
   {
    "duration": 34,
    "start_time": "2025-08-11T10:58:10.929Z"
   },
   {
    "duration": 5,
    "start_time": "2025-08-11T10:58:30.399Z"
   },
   {
    "duration": 1863,
    "start_time": "2025-08-11T11:01:47.931Z"
   },
   {
    "duration": 41,
    "start_time": "2025-08-11T11:02:23.475Z"
   },
   {
    "duration": 10,
    "start_time": "2025-08-11T11:03:52.178Z"
   },
   {
    "duration": 76,
    "start_time": "2025-08-11T11:04:23.623Z"
   },
   {
    "duration": 6,
    "start_time": "2025-08-11T11:05:24.038Z"
   },
   {
    "duration": 57,
    "start_time": "2025-08-11T11:06:58.525Z"
   },
   {
    "duration": 7,
    "start_time": "2025-08-11T11:08:06.274Z"
   },
   {
    "duration": 14,
    "start_time": "2025-08-11T11:08:11.211Z"
   },
   {
    "duration": 365,
    "start_time": "2025-08-11T11:10:22.872Z"
   },
   {
    "duration": 40,
    "start_time": "2025-08-11T11:10:51.870Z"
   },
   {
    "duration": 12,
    "start_time": "2025-08-11T11:11:27.137Z"
   },
   {
    "duration": 10,
    "start_time": "2025-08-11T11:12:31.118Z"
   },
   {
    "duration": 4,
    "start_time": "2025-08-11T11:12:59.101Z"
   },
   {
    "duration": 5,
    "start_time": "2025-08-11T11:14:28.330Z"
   },
   {
    "duration": 10,
    "start_time": "2025-08-11T11:15:48.219Z"
   },
   {
    "duration": 15,
    "start_time": "2025-08-11T11:15:55.522Z"
   },
   {
    "duration": 6,
    "start_time": "2025-08-11T11:19:39.740Z"
   },
   {
    "duration": 186,
    "start_time": "2025-08-11T11:20:31.690Z"
   },
   {
    "duration": 39,
    "start_time": "2025-08-11T11:23:21.409Z"
   },
   {
    "duration": 39,
    "start_time": "2025-08-11T11:24:54.678Z"
   },
   {
    "duration": 5,
    "start_time": "2025-08-11T12:42:34.128Z"
   },
   {
    "duration": 39,
    "start_time": "2025-08-11T12:43:46.742Z"
   },
   {
    "duration": 37,
    "start_time": "2025-08-11T12:43:59.175Z"
   },
   {
    "duration": 5,
    "start_time": "2025-08-12T06:22:05.689Z"
   },
   {
    "duration": 9,
    "start_time": "2025-08-12T06:22:30.951Z"
   },
   {
    "duration": 10,
    "start_time": "2025-08-12T06:22:54.703Z"
   },
   {
    "duration": 7,
    "start_time": "2025-08-12T06:23:13.638Z"
   },
   {
    "duration": 5,
    "start_time": "2025-08-12T06:24:36.420Z"
   },
   {
    "duration": 7,
    "start_time": "2025-08-12T06:24:42.996Z"
   },
   {
    "duration": 5,
    "start_time": "2025-08-12T06:25:27.748Z"
   },
   {
    "duration": 39,
    "start_time": "2025-08-12T06:27:33.489Z"
   },
   {
    "duration": 36,
    "start_time": "2025-08-12T06:39:22.322Z"
   },
   {
    "duration": 20,
    "start_time": "2025-08-12T06:39:43.850Z"
   },
   {
    "duration": 10,
    "start_time": "2025-08-12T06:40:03.347Z"
   },
   {
    "duration": 10,
    "start_time": "2025-08-12T06:40:06.761Z"
   },
   {
    "duration": 117,
    "start_time": "2025-08-12T06:40:18.419Z"
   },
   {
    "duration": 11,
    "start_time": "2025-08-12T06:40:23.833Z"
   },
   {
    "duration": 15,
    "start_time": "2025-08-12T06:41:08.040Z"
   },
   {
    "duration": 1693,
    "start_time": "2025-08-12T07:34:25.487Z"
   },
   {
    "duration": 339,
    "start_time": "2025-08-12T07:34:31.312Z"
   },
   {
    "duration": 499,
    "start_time": "2025-08-12T07:34:57.710Z"
   },
   {
    "duration": 348,
    "start_time": "2025-08-12T07:35:24.142Z"
   },
   {
    "duration": 34,
    "start_time": "2025-08-12T07:37:00.884Z"
   },
   {
    "duration": 47,
    "start_time": "2025-08-12T07:39:43.164Z"
   },
   {
    "duration": 10,
    "start_time": "2025-08-12T07:48:50.117Z"
   },
   {
    "duration": 733,
    "start_time": "2025-08-12T07:49:02.379Z"
   },
   {
    "duration": 15,
    "start_time": "2025-08-12T07:50:21.440Z"
   },
   {
    "duration": 21,
    "start_time": "2025-08-12T07:50:45.546Z"
   },
   {
    "duration": 1634,
    "start_time": "2025-08-12T07:51:08.764Z"
   },
   {
    "duration": 549,
    "start_time": "2025-08-12T07:51:48.001Z"
   },
   {
    "duration": 38,
    "start_time": "2025-08-12T07:52:18.200Z"
   },
   {
    "duration": 8,
    "start_time": "2025-08-12T07:53:26.495Z"
   },
   {
    "duration": 11,
    "start_time": "2025-08-12T07:54:10.592Z"
   },
   {
    "duration": 8,
    "start_time": "2025-08-12T07:54:23.180Z"
   },
   {
    "duration": 4,
    "start_time": "2025-08-12T07:54:48.581Z"
   },
   {
    "duration": 8,
    "start_time": "2025-08-12T07:55:08.597Z"
   },
   {
    "duration": 6,
    "start_time": "2025-08-12T08:00:07.665Z"
   },
   {
    "duration": 5,
    "start_time": "2025-08-12T08:14:52.816Z"
   },
   {
    "duration": 7,
    "start_time": "2025-08-12T08:16:53.364Z"
   },
   {
    "duration": 5,
    "start_time": "2025-08-12T08:18:07.113Z"
   },
   {
    "duration": 8,
    "start_time": "2025-08-12T08:18:15.475Z"
   },
   {
    "duration": 18,
    "start_time": "2025-08-12T08:23:22.979Z"
   },
   {
    "duration": 9,
    "start_time": "2025-08-12T08:23:30.539Z"
   },
   {
    "duration": 3420,
    "start_time": "2025-08-12T08:25:40.017Z"
   },
   {
    "duration": 5,
    "start_time": "2025-08-12T08:25:48.223Z"
   },
   {
    "duration": 5,
    "start_time": "2025-08-12T08:34:22.374Z"
   },
   {
    "duration": 10,
    "start_time": "2025-08-12T08:34:29.261Z"
   },
   {
    "duration": 4,
    "start_time": "2025-08-12T08:34:49.662Z"
   },
   {
    "duration": 9,
    "start_time": "2025-08-12T08:34:51.253Z"
   },
   {
    "duration": 12,
    "start_time": "2025-08-12T08:36:36.578Z"
   },
   {
    "duration": 22,
    "start_time": "2025-08-12T08:39:44.174Z"
   },
   {
    "duration": 7,
    "start_time": "2025-08-12T08:39:55.665Z"
   },
   {
    "duration": 17,
    "start_time": "2025-08-12T08:39:56.511Z"
   },
   {
    "duration": 625,
    "start_time": "2025-08-12T08:39:57.661Z"
   },
   {
    "duration": 296,
    "start_time": "2025-08-12T08:40:00.279Z"
   },
   {
    "duration": 5,
    "start_time": "2025-08-12T08:40:33.478Z"
   },
   {
    "duration": 9,
    "start_time": "2025-08-12T08:40:38.126Z"
   },
   {
    "duration": 6,
    "start_time": "2025-08-12T08:41:05.780Z"
   },
   {
    "duration": 13,
    "start_time": "2025-08-12T08:42:52.483Z"
   },
   {
    "duration": 15,
    "start_time": "2025-08-12T08:43:23.947Z"
   },
   {
    "duration": 107,
    "start_time": "2025-08-12T08:43:38.441Z"
   },
   {
    "duration": 13,
    "start_time": "2025-08-12T08:43:55.083Z"
   },
   {
    "duration": 4,
    "start_time": "2025-08-12T08:44:03.387Z"
   },
   {
    "duration": 9,
    "start_time": "2025-08-12T08:44:11.754Z"
   },
   {
    "duration": 15,
    "start_time": "2025-08-12T08:45:34.464Z"
   },
   {
    "duration": 12,
    "start_time": "2025-08-12T08:45:42.247Z"
   },
   {
    "duration": 4,
    "start_time": "2025-08-12T08:46:43.749Z"
   },
   {
    "duration": 24,
    "start_time": "2025-08-12T08:47:26.142Z"
   },
   {
    "duration": 25,
    "start_time": "2025-08-12T08:47:53.158Z"
   },
   {
    "duration": 11,
    "start_time": "2025-08-12T08:50:42.457Z"
   },
   {
    "duration": 5,
    "start_time": "2025-08-12T08:50:57.152Z"
   },
   {
    "duration": 1407,
    "start_time": "2025-08-12T08:51:20.025Z"
   },
   {
    "duration": 1497,
    "start_time": "2025-08-12T08:52:07.552Z"
   },
   {
    "duration": 1278,
    "start_time": "2025-08-12T08:53:23.391Z"
   },
   {
    "duration": 1469,
    "start_time": "2025-08-12T08:54:17.262Z"
   },
   {
    "duration": 1378,
    "start_time": "2025-08-12T08:55:29.413Z"
   },
   {
    "duration": 1520,
    "start_time": "2025-08-12T08:56:35.787Z"
   },
   {
    "duration": 15323,
    "start_time": "2025-08-12T08:58:49.177Z"
   },
   {
    "duration": 5,
    "start_time": "2025-08-12T09:02:42.013Z"
   },
   {
    "duration": 30,
    "start_time": "2025-08-12T09:03:10.331Z"
   },
   {
    "duration": 15181,
    "start_time": "2025-08-12T09:03:39.573Z"
   },
   {
    "duration": 1012,
    "start_time": "2025-08-12T09:04:29.497Z"
   },
   {
    "duration": 36,
    "start_time": "2025-08-12T09:04:51.601Z"
   },
   {
    "duration": 311,
    "start_time": "2025-08-12T09:09:40.698Z"
   },
   {
    "duration": 102,
    "start_time": "2025-08-12T09:15:10.685Z"
   },
   {
    "duration": 21,
    "start_time": "2025-08-12T09:15:14.517Z"
   },
   {
    "duration": 21,
    "start_time": "2025-08-12T09:16:45.469Z"
   },
   {
    "duration": 10,
    "start_time": "2025-08-12T09:17:33.409Z"
   },
   {
    "duration": 17,
    "start_time": "2025-08-12T09:18:29.457Z"
   },
   {
    "duration": 281,
    "start_time": "2025-08-12T09:18:35.944Z"
   },
   {
    "duration": 1503,
    "start_time": "2025-08-12T12:48:27.594Z"
   },
   {
    "duration": 1466,
    "start_time": "2025-08-12T12:50:56.543Z"
   },
   {
    "duration": 9,
    "start_time": "2025-08-12T12:52:38.213Z"
   },
   {
    "duration": 10,
    "start_time": "2025-08-12T12:53:04.405Z"
   },
   {
    "duration": 6,
    "start_time": "2025-08-12T12:53:20.483Z"
   },
   {
    "duration": 6,
    "start_time": "2025-08-12T12:53:38.107Z"
   },
   {
    "duration": 4,
    "start_time": "2025-08-12T12:54:07.187Z"
   },
   {
    "duration": 4,
    "start_time": "2025-08-12T12:54:23.201Z"
   },
   {
    "duration": 8,
    "start_time": "2025-08-12T12:54:31.754Z"
   },
   {
    "duration": 14619,
    "start_time": "2025-08-12T12:55:33.481Z"
   },
   {
    "duration": 33,
    "start_time": "2025-08-12T12:56:11.377Z"
   },
   {
    "duration": 17,
    "start_time": "2025-08-12T12:56:39.257Z"
   },
   {
    "duration": 13905,
    "start_time": "2025-08-12T12:57:02.911Z"
   },
   {
    "duration": 58,
    "start_time": "2025-08-12T12:57:21.119Z"
   },
   {
    "duration": 51,
    "start_time": "2025-08-12T13:02:15.089Z"
   },
   {
    "duration": 4,
    "start_time": "2025-08-12T13:05:33.525Z"
   },
   {
    "duration": 10,
    "start_time": "2025-08-12T13:05:54.109Z"
   },
   {
    "duration": 13,
    "start_time": "2025-08-12T13:06:09.813Z"
   },
   {
    "duration": 9,
    "start_time": "2025-08-12T13:06:13.331Z"
   },
   {
    "duration": 12,
    "start_time": "2025-08-12T13:06:25.147Z"
   },
   {
    "duration": 11,
    "start_time": "2025-08-12T13:06:33.362Z"
   },
   {
    "duration": 4,
    "start_time": "2025-08-12T13:07:57.827Z"
   },
   {
    "duration": 4,
    "start_time": "2025-08-12T13:10:26.878Z"
   },
   {
    "duration": 349,
    "start_time": "2025-08-12T13:10:30.254Z"
   },
   {
    "duration": 37,
    "start_time": "2025-08-12T13:10:37.206Z"
   },
   {
    "duration": 545,
    "start_time": "2025-08-12T13:10:45.511Z"
   },
   {
    "duration": 37,
    "start_time": "2025-08-12T13:11:03.622Z"
   },
   {
    "duration": 4,
    "start_time": "2025-08-12T13:11:59.236Z"
   },
   {
    "duration": 43,
    "start_time": "2025-08-12T13:12:02.661Z"
   },
   {
    "duration": 10,
    "start_time": "2025-08-12T13:16:00.232Z"
   },
   {
    "duration": 10,
    "start_time": "2025-08-12T13:16:06.785Z"
   },
   {
    "duration": 4,
    "start_time": "2025-08-12T13:16:20.337Z"
   },
   {
    "duration": 5,
    "start_time": "2025-08-12T13:18:08.702Z"
   },
   {
    "duration": 10,
    "start_time": "2025-08-12T13:18:45.996Z"
   },
   {
    "duration": 4,
    "start_time": "2025-08-12T13:18:55.468Z"
   },
   {
    "duration": 11,
    "start_time": "2025-08-12T13:24:32.207Z"
   },
   {
    "duration": 4,
    "start_time": "2025-08-12T13:24:40.855Z"
   },
   {
    "duration": 11,
    "start_time": "2025-08-12T13:26:44.214Z"
   },
   {
    "duration": 15,
    "start_time": "2025-08-12T13:27:01.677Z"
   },
   {
    "duration": 8,
    "start_time": "2025-08-12T13:39:04.171Z"
   },
   {
    "duration": 3,
    "start_time": "2025-08-12T13:49:07.264Z"
   },
   {
    "duration": 5,
    "start_time": "2025-08-12T13:50:06.383Z"
   },
   {
    "duration": 37,
    "start_time": "2025-08-12T13:52:56.156Z"
   },
   {
    "duration": 3,
    "start_time": "2025-08-12T13:54:35.020Z"
   },
   {
    "duration": 38,
    "start_time": "2025-08-12T13:54:41.915Z"
   },
   {
    "duration": 837,
    "start_time": "2025-08-12T13:57:18.383Z"
   },
   {
    "duration": 565,
    "start_time": "2025-08-12T13:57:40.519Z"
   },
   {
    "duration": 7,
    "start_time": "2025-08-12T13:59:07.534Z"
   },
   {
    "duration": 5,
    "start_time": "2025-08-12T14:00:09.083Z"
   },
   {
    "duration": 21,
    "start_time": "2025-08-12T14:00:57.316Z"
   },
   {
    "duration": 7,
    "start_time": "2025-08-12T14:02:14.858Z"
   },
   {
    "duration": 22,
    "start_time": "2025-08-12T14:02:56.801Z"
   },
   {
    "duration": 4,
    "start_time": "2025-08-12T14:07:11.300Z"
   },
   {
    "duration": 36,
    "start_time": "2025-08-12T14:07:19.612Z"
   },
   {
    "duration": 4,
    "start_time": "2025-08-12T14:07:54.100Z"
   },
   {
    "duration": 37,
    "start_time": "2025-08-12T14:08:41.915Z"
   },
   {
    "duration": 36,
    "start_time": "2025-08-12T14:08:50.401Z"
   },
   {
    "duration": 185,
    "start_time": "2025-08-12T14:11:50.821Z"
   },
   {
    "duration": 24,
    "start_time": "2025-08-12T14:12:25.919Z"
   },
   {
    "duration": 13,
    "start_time": "2025-08-12T14:13:05.550Z"
   },
   {
    "duration": 13,
    "start_time": "2025-08-12T14:13:18.796Z"
   },
   {
    "duration": 28,
    "start_time": "2025-08-12T14:13:24.037Z"
   },
   {
    "duration": 13,
    "start_time": "2025-08-12T14:14:05.843Z"
   },
   {
    "duration": 12,
    "start_time": "2025-08-12T14:14:26.827Z"
   },
   {
    "duration": 12,
    "start_time": "2025-08-12T14:14:42.468Z"
   },
   {
    "duration": 11,
    "start_time": "2025-08-12T14:15:23.579Z"
   },
   {
    "duration": 7,
    "start_time": "2025-08-12T14:16:13.171Z"
   },
   {
    "duration": 5,
    "start_time": "2025-08-12T14:16:26.401Z"
   },
   {
    "duration": 12,
    "start_time": "2025-08-12T14:17:26.246Z"
   },
   {
    "duration": 2170,
    "start_time": "2025-08-12T14:17:39.872Z"
   },
   {
    "duration": 2122,
    "start_time": "2025-08-12T14:18:03.142Z"
   },
   {
    "duration": 7,
    "start_time": "2025-08-12T14:18:28.416Z"
   },
   {
    "duration": 4,
    "start_time": "2025-08-12T14:19:13.806Z"
   },
   {
    "duration": 20,
    "start_time": "2025-08-12T14:19:18.502Z"
   },
   {
    "duration": 6,
    "start_time": "2025-08-12T14:22:22.529Z"
   },
   {
    "duration": 11,
    "start_time": "2025-08-12T14:22:30.042Z"
   },
   {
    "duration": 6,
    "start_time": "2025-08-12T14:23:34.247Z"
   },
   {
    "duration": 9,
    "start_time": "2025-08-12T14:23:35.288Z"
   },
   {
    "duration": 4,
    "start_time": "2025-08-12T14:24:07.727Z"
   },
   {
    "duration": 18,
    "start_time": "2025-08-12T14:24:24.400Z"
   },
   {
    "duration": 14,
    "start_time": "2025-08-12T14:24:55.424Z"
   },
   {
    "duration": 12,
    "start_time": "2025-08-12T14:25:49.054Z"
   },
   {
    "duration": 15,
    "start_time": "2025-08-12T14:26:16.637Z"
   },
   {
    "duration": 12,
    "start_time": "2025-08-12T14:26:38.647Z"
   },
   {
    "duration": 6,
    "start_time": "2025-08-12T14:27:12.861Z"
   },
   {
    "duration": 4,
    "start_time": "2025-08-12T14:28:12.787Z"
   },
   {
    "duration": 38,
    "start_time": "2025-08-12T14:28:20.299Z"
   },
   {
    "duration": 4,
    "start_time": "2025-08-12T14:28:53.667Z"
   },
   {
    "duration": 38,
    "start_time": "2025-08-12T14:29:12.513Z"
   },
   {
    "duration": 32,
    "start_time": "2025-08-13T06:09:04.599Z"
   },
   {
    "duration": 47,
    "start_time": "2025-08-13T06:26:31.298Z"
   },
   {
    "duration": 1792,
    "start_time": "2025-08-13T06:27:25.642Z"
   },
   {
    "duration": 13,
    "start_time": "2025-08-13T06:35:19.855Z"
   },
   {
    "duration": 1845,
    "start_time": "2025-08-13T06:35:25.241Z"
   },
   {
    "duration": 4,
    "start_time": "2025-08-13T06:37:52.198Z"
   },
   {
    "duration": 1627,
    "start_time": "2025-08-13T06:37:57.150Z"
   },
   {
    "duration": 5,
    "start_time": "2025-08-13T06:38:38.676Z"
   },
   {
    "duration": 22,
    "start_time": "2025-08-13T07:35:56.965Z"
   },
   {
    "duration": 6,
    "start_time": "2025-08-13T07:36:01.691Z"
   },
   {
    "duration": 6,
    "start_time": "2025-08-13T07:36:25.852Z"
   },
   {
    "duration": 3,
    "start_time": "2025-08-13T07:36:47.449Z"
   },
   {
    "duration": 1643,
    "start_time": "2025-08-13T07:36:53.067Z"
   },
   {
    "duration": 6,
    "start_time": "2025-08-13T07:37:07.979Z"
   },
   {
    "duration": 6,
    "start_time": "2025-08-13T07:37:34.665Z"
   },
   {
    "duration": 4,
    "start_time": "2025-08-13T07:37:52.977Z"
   },
   {
    "duration": 6,
    "start_time": "2025-08-13T07:38:12.241Z"
   },
   {
    "duration": 21,
    "start_time": "2025-08-13T07:41:22.701Z"
   },
   {
    "duration": 114,
    "start_time": "2025-08-13T07:45:02.017Z"
   },
   {
    "duration": 20,
    "start_time": "2025-08-13T07:45:05.072Z"
   },
   {
    "duration": 22,
    "start_time": "2025-08-13T07:46:14.591Z"
   },
   {
    "duration": 20,
    "start_time": "2025-08-13T07:46:15.759Z"
   },
   {
    "duration": 4347,
    "start_time": "2025-08-13T07:46:28.264Z"
   },
   {
    "duration": 27,
    "start_time": "2025-08-13T07:46:55.148Z"
   },
   {
    "duration": 21,
    "start_time": "2025-08-13T07:46:57.151Z"
   },
   {
    "duration": 5,
    "start_time": "2025-08-13T07:47:27.391Z"
   },
   {
    "duration": 25,
    "start_time": "2025-08-13T07:47:53.437Z"
   },
   {
    "duration": 5,
    "start_time": "2025-08-13T07:47:54.371Z"
   },
   {
    "duration": 23,
    "start_time": "2025-08-13T07:48:05.965Z"
   },
   {
    "duration": 5,
    "start_time": "2025-08-13T07:48:06.803Z"
   },
   {
    "duration": 19,
    "start_time": "2025-08-13T07:48:21.283Z"
   },
   {
    "duration": 5,
    "start_time": "2025-08-13T07:58:23.512Z"
   },
   {
    "duration": 22,
    "start_time": "2025-08-13T07:59:48.838Z"
   },
   {
    "duration": 4,
    "start_time": "2025-08-13T07:59:49.886Z"
   },
   {
    "duration": 20,
    "start_time": "2025-08-13T08:00:10.589Z"
   },
   {
    "duration": 22,
    "start_time": "2025-08-13T08:01:48.715Z"
   },
   {
    "duration": 5,
    "start_time": "2025-08-13T08:01:49.870Z"
   },
   {
    "duration": 20,
    "start_time": "2025-08-13T08:04:04.361Z"
   },
   {
    "duration": 3,
    "start_time": "2025-08-13T08:04:52.408Z"
   },
   {
    "duration": 18,
    "start_time": "2025-08-13T08:04:58.488Z"
   },
   {
    "duration": 7,
    "start_time": "2025-08-13T08:05:24.286Z"
   },
   {
    "duration": 56,
    "start_time": "2025-08-13T08:05:36.536Z"
   },
   {
    "duration": 10,
    "start_time": "2025-08-13T08:05:44.990Z"
   },
   {
    "duration": 22,
    "start_time": "2025-08-13T08:06:41.085Z"
   },
   {
    "duration": 10,
    "start_time": "2025-08-13T08:06:42.197Z"
   },
   {
    "duration": 10,
    "start_time": "2025-08-13T08:06:52.310Z"
   },
   {
    "duration": 257,
    "start_time": "2025-08-13T08:07:05.102Z"
   },
   {
    "duration": 11,
    "start_time": "2025-08-13T08:12:03.822Z"
   },
   {
    "duration": 10,
    "start_time": "2025-08-13T08:12:07.431Z"
   },
   {
    "duration": 235,
    "start_time": "2025-08-13T08:12:26.719Z"
   },
   {
    "duration": 17,
    "start_time": "2025-08-13T08:12:31.070Z"
   },
   {
    "duration": 14,
    "start_time": "2025-08-13T08:13:09.615Z"
   },
   {
    "duration": 367,
    "start_time": "2025-08-13T08:13:29.910Z"
   },
   {
    "duration": 13,
    "start_time": "2025-08-13T08:13:51.301Z"
   },
   {
    "duration": 7,
    "start_time": "2025-08-13T08:14:11.037Z"
   },
   {
    "duration": 18,
    "start_time": "2025-08-13T08:14:13.091Z"
   },
   {
    "duration": 268,
    "start_time": "2025-08-13T08:14:16.669Z"
   },
   {
    "duration": 16,
    "start_time": "2025-08-13T08:17:19.688Z"
   },
   {
    "duration": 13,
    "start_time": "2025-08-13T08:17:57.768Z"
   },
   {
    "duration": 53,
    "start_time": "2025-08-13T08:19:02.462Z"
   },
   {
    "duration": 11,
    "start_time": "2025-08-13T08:19:09.023Z"
   },
   {
    "duration": 1196,
    "start_time": "2025-08-13T08:19:12.246Z"
   },
   {
    "duration": 26,
    "start_time": "2025-08-13T08:19:19.055Z"
   },
   {
    "duration": 12,
    "start_time": "2025-08-13T08:19:42.278Z"
   },
   {
    "duration": 210,
    "start_time": "2025-08-13T08:22:24.750Z"
   },
   {
    "duration": 16,
    "start_time": "2025-08-13T08:24:34.750Z"
   },
   {
    "duration": 201,
    "start_time": "2025-08-13T08:24:41.150Z"
   },
   {
    "duration": 108,
    "start_time": "2025-08-13T08:24:42.550Z"
   },
   {
    "duration": 10,
    "start_time": "2025-08-13T08:24:47.050Z"
   },
   {
    "duration": 1901,
    "start_time": "2025-08-13T08:24:51.552Z"
   },
   {
    "duration": 102,
    "start_time": "2025-08-13T08:25:19.451Z"
   },
   {
    "duration": 3301,
    "start_time": "2025-08-13T08:25:23.750Z"
   },
   {
    "duration": 6,
    "start_time": "2025-08-13T08:30:02.851Z"
   },
   {
    "duration": 106,
    "start_time": "2025-08-13T08:30:08.454Z"
   },
   {
    "duration": 100,
    "start_time": "2025-08-13T08:30:50.361Z"
   },
   {
    "duration": 95,
    "start_time": "2025-08-13T08:31:02.962Z"
   },
   {
    "duration": 199,
    "start_time": "2025-08-13T08:31:11.051Z"
   },
   {
    "duration": 7,
    "start_time": "2025-08-13T08:31:17.350Z"
   },
   {
    "duration": 112,
    "start_time": "2025-08-13T08:31:18.159Z"
   },
   {
    "duration": 98,
    "start_time": "2025-08-13T08:31:45.950Z"
   },
   {
    "duration": 9,
    "start_time": "2025-08-13T08:32:01.751Z"
   },
   {
    "duration": 110,
    "start_time": "2025-08-13T08:32:13.762Z"
   },
   {
    "duration": 8,
    "start_time": "2025-08-13T08:32:43.351Z"
   },
   {
    "duration": 29,
    "start_time": "2025-08-13T08:32:49.551Z"
   },
   {
    "duration": 27,
    "start_time": "2025-08-13T08:32:58.849Z"
   },
   {
    "duration": 108,
    "start_time": "2025-08-13T08:33:12.167Z"
   },
   {
    "duration": 2997,
    "start_time": "2025-08-14T06:24:23.024Z"
   },
   {
    "duration": 1381,
    "start_time": "2025-08-14T06:24:26.023Z"
   },
   {
    "duration": 11,
    "start_time": "2025-08-14T06:24:27.406Z"
   },
   {
    "duration": 44,
    "start_time": "2025-08-14T06:24:27.419Z"
   },
   {
    "duration": 11,
    "start_time": "2025-08-14T06:24:27.466Z"
   },
   {
    "duration": 27,
    "start_time": "2025-08-14T06:24:27.479Z"
   },
   {
    "duration": 840,
    "start_time": "2025-08-14T06:24:27.508Z"
   },
   {
    "duration": 0,
    "start_time": "2025-08-14T06:24:28.349Z"
   },
   {
    "duration": 0,
    "start_time": "2025-08-14T06:24:28.351Z"
   },
   {
    "duration": 0,
    "start_time": "2025-08-14T06:24:28.360Z"
   },
   {
    "duration": 0,
    "start_time": "2025-08-14T06:24:28.361Z"
   },
   {
    "duration": 0,
    "start_time": "2025-08-14T06:24:28.362Z"
   },
   {
    "duration": 0,
    "start_time": "2025-08-14T06:24:28.363Z"
   },
   {
    "duration": 0,
    "start_time": "2025-08-14T06:24:28.364Z"
   },
   {
    "duration": 0,
    "start_time": "2025-08-14T06:24:28.365Z"
   },
   {
    "duration": 0,
    "start_time": "2025-08-14T06:24:28.366Z"
   },
   {
    "duration": 6,
    "start_time": "2025-08-14T06:26:16.195Z"
   },
   {
    "duration": 671,
    "start_time": "2025-08-14T06:26:24.451Z"
   },
   {
    "duration": 5,
    "start_time": "2025-08-14T06:27:03.681Z"
   },
   {
    "duration": 675,
    "start_time": "2025-08-14T06:27:07.186Z"
   },
   {
    "duration": 5,
    "start_time": "2025-08-14T06:27:26.730Z"
   },
   {
    "duration": 13674,
    "start_time": "2025-08-14T06:27:29.697Z"
   },
   {
    "duration": 4,
    "start_time": "2025-08-14T06:29:10.423Z"
   },
   {
    "duration": 314,
    "start_time": "2025-08-14T06:29:13.471Z"
   },
   {
    "duration": 12,
    "start_time": "2025-08-14T06:29:14.646Z"
   },
   {
    "duration": 253,
    "start_time": "2025-08-14T06:29:18.791Z"
   },
   {
    "duration": 7,
    "start_time": "2025-08-14T06:29:31.950Z"
   },
   {
    "duration": 9,
    "start_time": "2025-08-14T06:29:34.838Z"
   },
   {
    "duration": 16,
    "start_time": "2025-08-14T06:29:53.311Z"
   },
   {
    "duration": 355,
    "start_time": "2025-08-14T06:29:59.742Z"
   },
   {
    "duration": 241,
    "start_time": "2025-08-14T06:30:20.887Z"
   },
   {
    "duration": 14,
    "start_time": "2025-08-14T06:32:56.578Z"
   },
   {
    "duration": 5,
    "start_time": "2025-08-14T06:43:20.681Z"
   },
   {
    "duration": 11,
    "start_time": "2025-08-14T06:43:20.688Z"
   },
   {
    "duration": 15,
    "start_time": "2025-08-14T06:43:20.701Z"
   },
   {
    "duration": 23,
    "start_time": "2025-08-14T06:43:20.718Z"
   },
   {
    "duration": 32,
    "start_time": "2025-08-14T06:43:20.743Z"
   },
   {
    "duration": 13988,
    "start_time": "2025-08-14T06:43:20.777Z"
   },
   {
    "duration": 3,
    "start_time": "2025-08-14T06:43:34.767Z"
   },
   {
    "duration": 101,
    "start_time": "2025-08-14T06:43:34.772Z"
   },
   {
    "duration": 450,
    "start_time": "2025-08-14T06:43:34.876Z"
   },
   {
    "duration": 11,
    "start_time": "2025-08-14T06:43:35.328Z"
   },
   {
    "duration": 258,
    "start_time": "2025-08-14T06:43:35.341Z"
   },
   {
    "duration": 6,
    "start_time": "2025-08-14T06:43:35.601Z"
   },
   {
    "duration": 314,
    "start_time": "2025-08-14T06:43:35.608Z"
   },
   {
    "duration": 14,
    "start_time": "2025-08-14T06:43:40.588Z"
   },
   {
    "duration": 16,
    "start_time": "2025-08-14T06:56:46.723Z"
   },
   {
    "duration": 4,
    "start_time": "2025-08-14T06:57:26.434Z"
   },
   {
    "duration": 805,
    "start_time": "2025-08-14T06:57:30.435Z"
   },
   {
    "duration": 4,
    "start_time": "2025-08-14T06:57:59.275Z"
   },
   {
    "duration": 13,
    "start_time": "2025-08-14T06:58:09.552Z"
   },
   {
    "duration": 3,
    "start_time": "2025-08-14T06:59:35.223Z"
   },
   {
    "duration": 15,
    "start_time": "2025-08-14T06:59:36.639Z"
   },
   {
    "duration": 416,
    "start_time": "2025-08-14T06:59:41.935Z"
   },
   {
    "duration": 1474,
    "start_time": "2025-08-14T07:02:00.975Z"
   },
   {
    "duration": 13,
    "start_time": "2025-08-14T07:02:02.451Z"
   },
   {
    "duration": 9,
    "start_time": "2025-08-14T07:02:02.466Z"
   },
   {
    "duration": 9,
    "start_time": "2025-08-14T07:02:02.477Z"
   },
   {
    "duration": 32,
    "start_time": "2025-08-14T07:02:02.487Z"
   },
   {
    "duration": 13990,
    "start_time": "2025-08-14T07:02:02.521Z"
   },
   {
    "duration": 3,
    "start_time": "2025-08-14T07:02:16.512Z"
   },
   {
    "duration": 79,
    "start_time": "2025-08-14T07:02:16.517Z"
   },
   {
    "duration": 419,
    "start_time": "2025-08-14T07:02:16.597Z"
   },
   {
    "duration": 11,
    "start_time": "2025-08-14T07:02:17.019Z"
   },
   {
    "duration": 266,
    "start_time": "2025-08-14T07:02:17.032Z"
   },
   {
    "duration": 347,
    "start_time": "2025-08-14T07:02:17.300Z"
   },
   {
    "duration": 3,
    "start_time": "2025-08-14T07:02:17.660Z"
   },
   {
    "duration": 38,
    "start_time": "2025-08-14T07:02:17.665Z"
   },
   {
    "duration": 128,
    "start_time": "2025-08-14T07:02:17.705Z"
   },
   {
    "duration": 0,
    "start_time": "2025-08-14T07:02:17.834Z"
   },
   {
    "duration": 0,
    "start_time": "2025-08-14T07:02:17.836Z"
   },
   {
    "duration": 1,
    "start_time": "2025-08-14T07:02:17.837Z"
   },
   {
    "duration": 0,
    "start_time": "2025-08-14T07:02:17.839Z"
   },
   {
    "duration": 0,
    "start_time": "2025-08-14T07:02:17.841Z"
   },
   {
    "duration": 4,
    "start_time": "2025-08-14T07:02:34.354Z"
   },
   {
    "duration": 13,
    "start_time": "2025-08-14T07:02:35.082Z"
   },
   {
    "duration": 425,
    "start_time": "2025-08-14T07:02:40.578Z"
   },
   {
    "duration": 6,
    "start_time": "2025-08-14T07:04:31.063Z"
   },
   {
    "duration": 15,
    "start_time": "2025-08-14T07:04:34.528Z"
   },
   {
    "duration": 11,
    "start_time": "2025-08-14T07:04:50.159Z"
   },
   {
    "duration": 1447,
    "start_time": "2025-08-14T07:06:18.784Z"
   },
   {
    "duration": 11,
    "start_time": "2025-08-14T07:06:20.233Z"
   },
   {
    "duration": 18,
    "start_time": "2025-08-14T07:06:20.245Z"
   },
   {
    "duration": 12,
    "start_time": "2025-08-14T07:06:20.265Z"
   },
   {
    "duration": 26,
    "start_time": "2025-08-14T07:06:20.280Z"
   },
   {
    "duration": 14174,
    "start_time": "2025-08-14T07:06:20.307Z"
   },
   {
    "duration": 3,
    "start_time": "2025-08-14T07:06:34.483Z"
   },
   {
    "duration": 6,
    "start_time": "2025-08-14T07:06:34.488Z"
   },
   {
    "duration": 335,
    "start_time": "2025-08-14T07:06:34.496Z"
   },
   {
    "duration": 11,
    "start_time": "2025-08-14T07:06:34.832Z"
   },
   {
    "duration": 368,
    "start_time": "2025-08-14T07:06:34.861Z"
   },
   {
    "duration": 352,
    "start_time": "2025-08-14T07:06:35.232Z"
   },
   {
    "duration": 3,
    "start_time": "2025-08-14T07:06:35.586Z"
   },
   {
    "duration": 16,
    "start_time": "2025-08-14T07:06:35.593Z"
   },
   {
    "duration": 192,
    "start_time": "2025-08-14T07:06:35.612Z"
   },
   {
    "duration": 0,
    "start_time": "2025-08-14T07:06:35.806Z"
   },
   {
    "duration": 0,
    "start_time": "2025-08-14T07:06:35.807Z"
   },
   {
    "duration": 0,
    "start_time": "2025-08-14T07:06:35.809Z"
   },
   {
    "duration": 0,
    "start_time": "2025-08-14T07:06:35.811Z"
   },
   {
    "duration": 0,
    "start_time": "2025-08-14T07:06:35.812Z"
   },
   {
    "duration": 0,
    "start_time": "2025-08-14T07:06:35.814Z"
   },
   {
    "duration": 0,
    "start_time": "2025-08-14T07:06:35.816Z"
   },
   {
    "duration": 15,
    "start_time": "2025-08-14T07:07:03.015Z"
   },
   {
    "duration": 5,
    "start_time": "2025-08-14T07:07:39.727Z"
   },
   {
    "duration": 15,
    "start_time": "2025-08-14T07:07:43.043Z"
   },
   {
    "duration": 7,
    "start_time": "2025-08-14T07:07:46.630Z"
   },
   {
    "duration": 10,
    "start_time": "2025-08-14T07:07:47.943Z"
   },
   {
    "duration": 411,
    "start_time": "2025-08-14T07:07:50.495Z"
   },
   {
    "duration": 12,
    "start_time": "2025-08-14T07:08:44.742Z"
   },
   {
    "duration": 12,
    "start_time": "2025-08-14T07:09:29.286Z"
   },
   {
    "duration": 1041,
    "start_time": "2025-08-14T07:11:11.658Z"
   },
   {
    "duration": 903,
    "start_time": "2025-08-14T07:12:13.872Z"
   },
   {
    "duration": 235,
    "start_time": "2025-08-14T07:13:35.840Z"
   },
   {
    "duration": 247,
    "start_time": "2025-08-14T07:13:54.191Z"
   },
   {
    "duration": 204,
    "start_time": "2025-08-14T07:14:15.239Z"
   },
   {
    "duration": 16,
    "start_time": "2025-08-14T07:14:45.382Z"
   },
   {
    "duration": 987,
    "start_time": "2025-08-14T07:15:27.909Z"
   },
   {
    "duration": 288,
    "start_time": "2025-08-14T07:19:09.289Z"
   },
   {
    "duration": 236,
    "start_time": "2025-08-14T07:19:30.841Z"
   },
   {
    "duration": 308,
    "start_time": "2025-08-14T07:19:41.488Z"
   },
   {
    "duration": 415,
    "start_time": "2025-08-14T07:19:48.231Z"
   },
   {
    "duration": 274,
    "start_time": "2025-08-14T07:20:52.551Z"
   },
   {
    "duration": 247,
    "start_time": "2025-08-14T07:24:01.347Z"
   },
   {
    "duration": 274,
    "start_time": "2025-08-14T07:25:08.906Z"
   },
   {
    "duration": 482,
    "start_time": "2025-08-14T07:25:15.985Z"
   },
   {
    "duration": 18,
    "start_time": "2025-08-14T07:25:45.344Z"
   },
   {
    "duration": 288,
    "start_time": "2025-08-14T07:26:05.089Z"
   },
   {
    "duration": 313,
    "start_time": "2025-08-14T07:26:10.984Z"
   },
   {
    "duration": 304,
    "start_time": "2025-08-14T07:26:18.384Z"
   },
   {
    "duration": 17,
    "start_time": "2025-08-14T07:26:55.174Z"
   },
   {
    "duration": 925,
    "start_time": "2025-08-14T07:28:22.310Z"
   },
   {
    "duration": 1039,
    "start_time": "2025-08-14T07:28:44.133Z"
   },
   {
    "duration": 244,
    "start_time": "2025-08-14T07:29:50.474Z"
   },
   {
    "duration": 271,
    "start_time": "2025-08-14T07:29:58.675Z"
   },
   {
    "duration": 4,
    "start_time": "2025-08-14T07:56:27.170Z"
   },
   {
    "duration": 18,
    "start_time": "2025-08-14T07:57:34.785Z"
   },
   {
    "duration": 4,
    "start_time": "2025-08-14T07:58:04.592Z"
   },
   {
    "duration": 12,
    "start_time": "2025-08-14T07:58:05.487Z"
   },
   {
    "duration": 22,
    "start_time": "2025-08-14T07:58:11.264Z"
   },
   {
    "duration": 4,
    "start_time": "2025-08-14T07:58:39.774Z"
   },
   {
    "duration": 9,
    "start_time": "2025-08-14T07:58:40.431Z"
   },
   {
    "duration": 22,
    "start_time": "2025-08-14T07:58:43.783Z"
   },
   {
    "duration": 23,
    "start_time": "2025-08-14T07:59:29.542Z"
   },
   {
    "duration": 4,
    "start_time": "2025-08-14T08:01:10.838Z"
   },
   {
    "duration": 24,
    "start_time": "2025-08-14T08:01:13.557Z"
   },
   {
    "duration": 19,
    "start_time": "2025-08-14T08:01:19.557Z"
   },
   {
    "duration": 21,
    "start_time": "2025-08-14T08:01:31.387Z"
   },
   {
    "duration": 5,
    "start_time": "2025-08-14T08:02:09.419Z"
   },
   {
    "duration": 20,
    "start_time": "2025-08-14T08:02:19.531Z"
   },
   {
    "duration": 5,
    "start_time": "2025-08-14T08:02:44.818Z"
   },
   {
    "duration": 26,
    "start_time": "2025-08-14T08:02:48.227Z"
   },
   {
    "duration": 4,
    "start_time": "2025-08-14T08:10:26.145Z"
   },
   {
    "duration": 1494,
    "start_time": "2025-08-14T08:10:48.533Z"
   },
   {
    "duration": 11,
    "start_time": "2025-08-14T08:10:50.029Z"
   },
   {
    "duration": 32,
    "start_time": "2025-08-14T08:10:50.042Z"
   },
   {
    "duration": 6,
    "start_time": "2025-08-14T08:10:50.076Z"
   },
   {
    "duration": 24,
    "start_time": "2025-08-14T08:10:50.085Z"
   },
   {
    "duration": 14642,
    "start_time": "2025-08-14T08:10:50.111Z"
   },
   {
    "duration": 3,
    "start_time": "2025-08-14T08:11:04.759Z"
   },
   {
    "duration": 6,
    "start_time": "2025-08-14T08:11:04.764Z"
   },
   {
    "duration": 330,
    "start_time": "2025-08-14T08:11:04.772Z"
   },
   {
    "duration": 10,
    "start_time": "2025-08-14T08:11:05.103Z"
   },
   {
    "duration": 262,
    "start_time": "2025-08-14T08:11:05.114Z"
   },
   {
    "duration": 362,
    "start_time": "2025-08-14T08:11:05.378Z"
   },
   {
    "duration": 1039,
    "start_time": "2025-08-14T08:11:05.743Z"
   },
   {
    "duration": 267,
    "start_time": "2025-08-14T08:11:06.785Z"
   },
   {
    "duration": 267,
    "start_time": "2025-08-14T08:11:07.054Z"
   },
   {
    "duration": 5,
    "start_time": "2025-08-14T08:11:07.322Z"
   },
   {
    "duration": 52,
    "start_time": "2025-08-14T08:11:07.328Z"
   },
   {
    "duration": 26,
    "start_time": "2025-08-14T08:11:07.382Z"
   },
   {
    "duration": 4,
    "start_time": "2025-08-14T08:11:42.045Z"
   },
   {
    "duration": 8,
    "start_time": "2025-08-14T08:11:43.740Z"
   },
   {
    "duration": 19,
    "start_time": "2025-08-14T08:11:47.677Z"
   },
   {
    "duration": 4,
    "start_time": "2025-08-14T08:12:19.459Z"
   },
   {
    "duration": 9,
    "start_time": "2025-08-14T08:12:20.098Z"
   },
   {
    "duration": 19,
    "start_time": "2025-08-14T08:12:20.739Z"
   },
   {
    "duration": 1483,
    "start_time": "2025-08-14T08:13:11.356Z"
   },
   {
    "duration": 11,
    "start_time": "2025-08-14T08:13:12.843Z"
   },
   {
    "duration": 10,
    "start_time": "2025-08-14T08:13:12.856Z"
   },
   {
    "duration": 106,
    "start_time": "2025-08-14T08:13:12.867Z"
   },
   {
    "duration": 30,
    "start_time": "2025-08-14T08:13:12.975Z"
   },
   {
    "duration": 14288,
    "start_time": "2025-08-14T08:13:13.007Z"
   },
   {
    "duration": 3,
    "start_time": "2025-08-14T08:13:27.297Z"
   },
   {
    "duration": 37,
    "start_time": "2025-08-14T08:13:27.301Z"
   },
   {
    "duration": 336,
    "start_time": "2025-08-14T08:13:27.340Z"
   },
   {
    "duration": 9,
    "start_time": "2025-08-14T08:13:27.678Z"
   },
   {
    "duration": 258,
    "start_time": "2025-08-14T08:13:27.689Z"
   },
   {
    "duration": 358,
    "start_time": "2025-08-14T08:13:27.948Z"
   },
   {
    "duration": 948,
    "start_time": "2025-08-14T08:13:28.308Z"
   },
   {
    "duration": 361,
    "start_time": "2025-08-14T08:13:29.262Z"
   },
   {
    "duration": 285,
    "start_time": "2025-08-14T08:13:29.625Z"
   },
   {
    "duration": 4,
    "start_time": "2025-08-14T08:13:29.912Z"
   },
   {
    "duration": 22,
    "start_time": "2025-08-14T08:13:29.917Z"
   },
   {
    "duration": 32,
    "start_time": "2025-08-14T08:13:29.941Z"
   },
   {
    "duration": 6,
    "start_time": "2025-08-15T08:11:26.006Z"
   },
   {
    "duration": 2,
    "start_time": "2025-08-15T08:11:30.236Z"
   },
   {
    "duration": 3,
    "start_time": "2025-08-15T08:11:31.686Z"
   },
   {
    "duration": 3,
    "start_time": "2025-08-15T08:11:32.644Z"
   },
   {
    "duration": 3,
    "start_time": "2025-08-15T08:11:34.326Z"
   },
   {
    "duration": 3,
    "start_time": "2025-08-15T08:11:35.509Z"
   },
   {
    "duration": 120,
    "start_time": "2025-08-15T08:11:39.781Z"
   },
   {
    "duration": 3,
    "start_time": "2025-08-15T08:14:44.312Z"
   },
   {
    "duration": 9,
    "start_time": "2025-08-15T08:14:45.144Z"
   },
   {
    "duration": 2,
    "start_time": "2025-08-15T08:14:49.520Z"
   },
   {
    "duration": 3,
    "start_time": "2025-08-15T08:14:53.208Z"
   },
   {
    "duration": 12,
    "start_time": "2025-08-15T08:18:23.356Z"
   },
   {
    "duration": 8,
    "start_time": "2025-08-15T08:18:59.290Z"
   },
   {
    "duration": 6,
    "start_time": "2025-08-15T08:19:04.091Z"
   },
   {
    "duration": 6,
    "start_time": "2025-08-15T08:19:14.898Z"
   },
   {
    "duration": 3,
    "start_time": "2025-08-15T08:22:34.771Z"
   },
   {
    "duration": 4,
    "start_time": "2025-08-15T08:26:25.156Z"
   },
   {
    "duration": 372,
    "start_time": "2025-08-15T08:26:32.589Z"
   },
   {
    "duration": 231016,
    "start_time": "2025-08-15T08:26:59.965Z"
   },
   {
    "duration": 16,
    "start_time": "2025-08-15T08:42:23.636Z"
   },
   {
    "duration": 9,
    "start_time": "2025-08-15T08:43:18.794Z"
   },
   {
    "duration": 2,
    "start_time": "2025-08-15T08:54:49.317Z"
   },
   {
    "duration": 32300,
    "start_time": "2025-08-15T08:57:28.270Z"
   },
   {
    "duration": 10,
    "start_time": "2025-08-15T08:58:31.934Z"
   },
   {
    "duration": 6,
    "start_time": "2025-08-15T08:58:44.213Z"
   },
   {
    "duration": 8,
    "start_time": "2025-08-15T08:59:06.574Z"
   },
   {
    "duration": 9,
    "start_time": "2025-08-15T09:22:48.138Z"
   },
   {
    "duration": 5,
    "start_time": "2025-08-15T09:37:14.821Z"
   },
   {
    "duration": 11,
    "start_time": "2025-08-15T09:37:18.232Z"
   },
   {
    "duration": 59,
    "start_time": "2025-08-17T06:11:47.793Z"
   },
   {
    "duration": 3503,
    "start_time": "2025-08-17T06:12:41.471Z"
   },
   {
    "duration": 1585,
    "start_time": "2025-08-17T06:12:44.977Z"
   },
   {
    "duration": 12,
    "start_time": "2025-08-17T06:12:46.574Z"
   },
   {
    "duration": 117,
    "start_time": "2025-08-17T06:12:46.588Z"
   },
   {
    "duration": 34,
    "start_time": "2025-08-17T06:12:46.708Z"
   },
   {
    "duration": 60,
    "start_time": "2025-08-17T06:12:46.744Z"
   },
   {
    "duration": 15594,
    "start_time": "2025-08-17T06:12:46.806Z"
   },
   {
    "duration": 3,
    "start_time": "2025-08-17T06:13:02.402Z"
   },
   {
    "duration": 21,
    "start_time": "2025-08-17T06:13:02.407Z"
   },
   {
    "duration": 379,
    "start_time": "2025-08-17T06:13:02.432Z"
   },
   {
    "duration": 13,
    "start_time": "2025-08-17T06:13:02.813Z"
   },
   {
    "duration": 387,
    "start_time": "2025-08-17T06:13:02.829Z"
   },
   {
    "duration": 374,
    "start_time": "2025-08-17T06:13:03.219Z"
   },
   {
    "duration": 1102,
    "start_time": "2025-08-17T06:13:03.595Z"
   },
   {
    "duration": 294,
    "start_time": "2025-08-17T06:13:04.699Z"
   },
   {
    "duration": 301,
    "start_time": "2025-08-17T06:13:04.995Z"
   },
   {
    "duration": 5,
    "start_time": "2025-08-17T06:13:05.298Z"
   },
   {
    "duration": 38,
    "start_time": "2025-08-17T06:13:05.305Z"
   },
   {
    "duration": 30,
    "start_time": "2025-08-17T06:13:05.345Z"
   },
   {
    "duration": 16,
    "start_time": "2025-08-17T06:13:05.378Z"
   },
   {
    "duration": 24,
    "start_time": "2025-08-17T06:13:05.396Z"
   },
   {
    "duration": 7,
    "start_time": "2025-08-17T06:13:05.422Z"
   },
   {
    "duration": 7,
    "start_time": "2025-08-17T06:13:05.431Z"
   },
   {
    "duration": 7,
    "start_time": "2025-08-17T06:13:05.440Z"
   },
   {
    "duration": 14,
    "start_time": "2025-08-17T06:13:05.449Z"
   },
   {
    "duration": 9,
    "start_time": "2025-08-17T06:13:05.465Z"
   },
   {
    "duration": 7,
    "start_time": "2025-08-17T06:13:05.476Z"
   },
   {
    "duration": 5,
    "start_time": "2025-08-17T06:13:05.487Z"
   },
   {
    "duration": 21,
    "start_time": "2025-08-17T06:13:05.494Z"
   },
   {
    "duration": 457473,
    "start_time": "2025-08-17T06:13:05.516Z"
   },
   {
    "duration": 85,
    "start_time": "2025-08-17T06:20:42.991Z"
   },
   {
    "duration": 15,
    "start_time": "2025-08-17T06:20:43.078Z"
   },
   {
    "duration": 123,
    "start_time": "2025-08-17T06:20:43.095Z"
   },
   {
    "duration": 305,
    "start_time": "2025-08-17T06:54:52.687Z"
   },
   {
    "duration": 41228,
    "start_time": "2025-08-18T06:47:11.155Z"
   },
   {
    "duration": 4,
    "start_time": "2025-08-18T06:48:21.047Z"
   },
   {
    "duration": 10,
    "start_time": "2025-08-18T06:48:48.237Z"
   },
   {
    "duration": 11,
    "start_time": "2025-08-18T06:49:12.927Z"
   },
   {
    "duration": 5,
    "start_time": "2025-08-18T06:50:20.598Z"
   },
   {
    "duration": 22,
    "start_time": "2025-08-18T06:50:25.294Z"
   },
   {
    "duration": 91,
    "start_time": "2025-08-18T06:52:23.635Z"
   },
   {
    "duration": 84,
    "start_time": "2025-08-18T06:52:44.066Z"
   },
   {
    "duration": 10,
    "start_time": "2025-08-18T06:52:56.836Z"
   },
   {
    "duration": 15,
    "start_time": "2025-08-18T06:55:51.015Z"
   },
   {
    "duration": 86362,
    "start_time": "2025-08-18T06:57:56.522Z"
   },
   {
    "duration": 15,
    "start_time": "2025-08-18T07:03:20.235Z"
   },
   {
    "duration": 15,
    "start_time": "2025-08-18T07:03:52.705Z"
   },
   {
    "duration": 13,
    "start_time": "2025-08-18T07:05:13.489Z"
   },
   {
    "duration": 1471,
    "start_time": "2025-08-18T07:05:29.880Z"
   },
   {
    "duration": 11,
    "start_time": "2025-08-18T07:06:10.982Z"
   },
   {
    "duration": 1644,
    "start_time": "2025-08-18T07:06:36.533Z"
   },
   {
    "duration": 1665,
    "start_time": "2025-08-18T07:06:56.398Z"
   },
   {
    "duration": 1439,
    "start_time": "2025-08-18T07:07:14.309Z"
   },
   {
    "duration": 1430,
    "start_time": "2025-08-18T07:08:20.114Z"
   },
   {
    "duration": 1562,
    "start_time": "2025-08-18T07:08:33.523Z"
   },
   {
    "duration": 13,
    "start_time": "2025-08-18T07:08:39.187Z"
   },
   {
    "duration": 4,
    "start_time": "2025-08-18T07:09:10.331Z"
   },
   {
    "duration": 14,
    "start_time": "2025-08-18T07:09:12.792Z"
   },
   {
    "duration": 16,
    "start_time": "2025-08-18T07:10:14.490Z"
   },
   {
    "duration": 14,
    "start_time": "2025-08-18T07:11:02.345Z"
   },
   {
    "duration": 6,
    "start_time": "2025-08-18T07:11:23.543Z"
   },
   {
    "duration": 5,
    "start_time": "2025-08-18T07:11:24.864Z"
   },
   {
    "duration": 14,
    "start_time": "2025-08-18T07:11:26.160Z"
   },
   {
    "duration": 462,
    "start_time": "2025-08-18T07:22:12.747Z"
   },
   {
    "duration": 467,
    "start_time": "2025-08-18T07:22:23.762Z"
   },
   {
    "duration": 470,
    "start_time": "2025-08-18T07:23:06.914Z"
   },
   {
    "duration": 22,
    "start_time": "2025-08-18T07:26:46.158Z"
   },
   {
    "duration": 16,
    "start_time": "2025-08-18T07:27:45.397Z"
   },
   {
    "duration": 6,
    "start_time": "2025-08-18T07:27:55.448Z"
   },
   {
    "duration": 6,
    "start_time": "2025-08-18T07:28:04.115Z"
   },
   {
    "duration": 458,
    "start_time": "2025-08-18T07:29:02.746Z"
   },
   {
    "duration": 2351253,
    "start_time": "2025-08-18T07:29:25.931Z"
   },
   {
    "duration": 616,
    "start_time": "2025-08-18T08:27:52.269Z"
   },
   {
    "duration": 10,
    "start_time": "2025-08-18T08:28:39.332Z"
   },
   {
    "duration": 678,
    "start_time": "2025-08-18T08:29:14.947Z"
   },
   {
    "duration": 85,
    "start_time": "2025-08-18T08:29:37.698Z"
   },
   {
    "duration": 670,
    "start_time": "2025-08-18T08:29:55.570Z"
   },
   {
    "duration": 15,
    "start_time": "2025-08-18T08:31:50.920Z"
   },
   {
    "duration": 50,
    "start_time": "2025-08-18T08:32:28.231Z"
   },
   {
    "duration": 54,
    "start_time": "2025-08-18T08:32:41.941Z"
   },
   {
    "duration": 659,
    "start_time": "2025-08-18T08:36:26.858Z"
   },
   {
    "duration": 56,
    "start_time": "2025-08-18T08:36:30.338Z"
   },
   {
    "duration": 621,
    "start_time": "2025-08-18T08:38:54.814Z"
   },
   {
    "duration": 761,
    "start_time": "2025-08-18T08:39:15.492Z"
   },
   {
    "duration": 13,
    "start_time": "2025-08-18T11:33:37.666Z"
   },
   {
    "duration": 59,
    "start_time": "2025-08-18T11:34:49.337Z"
   },
   {
    "duration": 3445,
    "start_time": "2025-08-18T11:35:05.240Z"
   },
   {
    "duration": 1533,
    "start_time": "2025-08-18T11:35:08.688Z"
   },
   {
    "duration": 14,
    "start_time": "2025-08-18T11:35:10.223Z"
   },
   {
    "duration": 25,
    "start_time": "2025-08-18T11:35:10.239Z"
   },
   {
    "duration": 12,
    "start_time": "2025-08-18T11:35:10.267Z"
   },
   {
    "duration": 963,
    "start_time": "2025-08-18T11:35:22.827Z"
   },
   {
    "duration": 4,
    "start_time": "2025-08-18T11:38:03.457Z"
   },
   {
    "duration": 27,
    "start_time": "2025-08-18T11:38:04.756Z"
   },
   {
    "duration": 57,
    "start_time": "2025-08-18T11:39:24.527Z"
   },
   {
    "duration": 6,
    "start_time": "2025-08-18T11:40:25.281Z"
   },
   {
    "duration": 2364,
    "start_time": "2025-08-18T11:40:34.759Z"
   },
   {
    "duration": 4,
    "start_time": "2025-08-18T11:41:38.162Z"
   },
   {
    "duration": 925,
    "start_time": "2025-08-18T11:41:38.168Z"
   },
   {
    "duration": 14,
    "start_time": "2025-08-18T11:42:14.995Z"
   },
   {
    "duration": 7,
    "start_time": "2025-08-18T11:43:28.670Z"
   },
   {
    "duration": 12,
    "start_time": "2025-08-18T11:43:44.758Z"
   },
   {
    "duration": 16,
    "start_time": "2025-08-18T11:44:39.862Z"
   },
   {
    "duration": 20,
    "start_time": "2025-08-18T11:45:10.342Z"
   },
   {
    "duration": 18,
    "start_time": "2025-08-18T11:46:40.619Z"
   },
   {
    "duration": 5,
    "start_time": "2025-08-18T11:46:54.557Z"
   },
   {
    "duration": 19,
    "start_time": "2025-08-18T11:47:07.111Z"
   },
   {
    "duration": 4,
    "start_time": "2025-08-18T11:47:44.825Z"
   },
   {
    "duration": 9047,
    "start_time": "2025-08-18T11:50:03.882Z"
   },
   {
    "duration": 30,
    "start_time": "2025-08-18T11:50:56.942Z"
   },
   {
    "duration": 13,
    "start_time": "2025-08-18T11:51:20.374Z"
   },
   {
    "duration": 5,
    "start_time": "2025-08-18T12:00:56.868Z"
   },
   {
    "duration": 1102,
    "start_time": "2025-08-18T12:00:58.755Z"
   },
   {
    "duration": 7552,
    "start_time": "2025-08-18T12:01:06.060Z"
   },
   {
    "duration": 20,
    "start_time": "2025-08-18T12:01:46.723Z"
   },
   {
    "duration": 15,
    "start_time": "2025-08-18T12:01:59.690Z"
   },
   {
    "duration": 18,
    "start_time": "2025-08-18T12:04:31.246Z"
   },
   {
    "duration": 21,
    "start_time": "2025-08-18T12:06:52.643Z"
   },
   {
    "duration": 17,
    "start_time": "2025-08-18T12:07:53.034Z"
   },
   {
    "duration": 2191,
    "start_time": "2025-08-18T12:08:00.369Z"
   },
   {
    "duration": 17,
    "start_time": "2025-08-18T12:08:05.569Z"
   },
   {
    "duration": 19,
    "start_time": "2025-08-18T12:08:35.784Z"
   },
   {
    "duration": 23,
    "start_time": "2025-08-18T12:11:27.547Z"
   },
   {
    "duration": 8032,
    "start_time": "2025-08-18T12:11:37.059Z"
   },
   {
    "duration": 4560,
    "start_time": "2025-08-18T12:11:47.636Z"
   },
   {
    "duration": 34,
    "start_time": "2025-08-18T12:11:54.537Z"
   },
   {
    "duration": 7,
    "start_time": "2025-08-18T12:13:13.202Z"
   },
   {
    "duration": 24,
    "start_time": "2025-08-18T12:13:21.993Z"
   },
   {
    "duration": 1065,
    "start_time": "2025-08-18T12:14:53.902Z"
   },
   {
    "duration": 50,
    "start_time": "2025-08-18T12:15:02.046Z"
   },
   {
    "duration": 23,
    "start_time": "2025-08-18T12:15:06.423Z"
   },
   {
    "duration": 25,
    "start_time": "2025-08-18T12:16:01.949Z"
   },
   {
    "duration": 756,
    "start_time": "2025-08-18T12:16:11.079Z"
   },
   {
    "duration": 51,
    "start_time": "2025-08-18T12:16:14.421Z"
   },
   {
    "duration": 25,
    "start_time": "2025-08-18T12:16:16.972Z"
   },
   {
    "duration": 666,
    "start_time": "2025-08-18T12:16:42.383Z"
   },
   {
    "duration": 23,
    "start_time": "2025-08-18T12:17:08.909Z"
   },
   {
    "duration": 52,
    "start_time": "2025-08-18T12:17:21.092Z"
   },
   {
    "duration": 15,
    "start_time": "2025-08-18T12:20:00.218Z"
   },
   {
    "duration": 25,
    "start_time": "2025-08-18T12:20:13.433Z"
   },
   {
    "duration": 12,
    "start_time": "2025-08-18T12:20:45.145Z"
   },
   {
    "duration": 58,
    "start_time": "2025-08-18T12:21:48.383Z"
   },
   {
    "duration": 769,
    "start_time": "2025-08-18T12:22:04.830Z"
   },
   {
    "duration": 29,
    "start_time": "2025-08-18T12:22:26.557Z"
   },
   {
    "duration": 26,
    "start_time": "2025-08-18T12:23:02.873Z"
   },
   {
    "duration": 24,
    "start_time": "2025-08-18T12:23:48.366Z"
   },
   {
    "duration": 24,
    "start_time": "2025-08-18T12:24:02.933Z"
   },
   {
    "duration": 23,
    "start_time": "2025-08-18T12:24:11.983Z"
   },
   {
    "duration": 60,
    "start_time": "2025-08-18T12:25:05.459Z"
   },
   {
    "duration": 16,
    "start_time": "2025-08-18T12:25:17.827Z"
   },
   {
    "duration": 7179,
    "start_time": "2025-08-18T12:25:45.339Z"
   },
   {
    "duration": 500,
    "start_time": "2025-08-18T12:26:17.619Z"
   },
   {
    "duration": 19559,
    "start_time": "2025-08-18T12:29:13.408Z"
   },
   {
    "duration": 25,
    "start_time": "2025-08-18T12:29:41.141Z"
   },
   {
    "duration": 8111,
    "start_time": "2025-08-18T12:31:06.957Z"
   },
   {
    "duration": 784,
    "start_time": "2025-08-18T12:42:46.070Z"
   },
   {
    "duration": 149,
    "start_time": "2025-08-18T12:43:06.285Z"
   },
   {
    "duration": 144,
    "start_time": "2025-08-18T12:43:15.373Z"
   },
   {
    "duration": 34,
    "start_time": "2025-08-18T12:43:26.956Z"
   },
   {
    "duration": 4,
    "start_time": "2025-08-18T12:44:54.554Z"
   },
   {
    "duration": 864,
    "start_time": "2025-08-18T12:44:57.963Z"
   },
   {
    "duration": 25,
    "start_time": "2025-08-18T12:45:05.482Z"
   },
   {
    "duration": 5,
    "start_time": "2025-08-18T12:46:03.656Z"
   },
   {
    "duration": 913,
    "start_time": "2025-08-18T12:46:07.024Z"
   },
   {
    "duration": 25,
    "start_time": "2025-08-18T12:46:10.521Z"
   },
   {
    "duration": 5,
    "start_time": "2025-08-18T12:46:49.369Z"
   },
   {
    "duration": 664,
    "start_time": "2025-08-18T12:46:51.679Z"
   },
   {
    "duration": 35,
    "start_time": "2025-08-18T12:46:53.631Z"
   },
   {
    "duration": 7,
    "start_time": "2025-08-18T12:47:25.734Z"
   },
   {
    "duration": 689,
    "start_time": "2025-08-18T12:47:28.640Z"
   },
   {
    "duration": 29,
    "start_time": "2025-08-18T12:47:31.386Z"
   },
   {
    "duration": 13,
    "start_time": "2025-08-18T12:48:58.917Z"
   },
   {
    "duration": 13,
    "start_time": "2025-08-18T12:49:04.781Z"
   },
   {
    "duration": 14,
    "start_time": "2025-08-18T12:49:26.307Z"
   },
   {
    "duration": 10,
    "start_time": "2025-08-18T12:49:50.171Z"
   },
   {
    "duration": 14,
    "start_time": "2025-08-18T12:49:54.474Z"
   },
   {
    "duration": 7,
    "start_time": "2025-08-18T12:50:30.884Z"
   },
   {
    "duration": 815,
    "start_time": "2025-08-18T12:50:32.570Z"
   },
   {
    "duration": 8,
    "start_time": "2025-08-18T12:50:34.777Z"
   },
   {
    "duration": 8,
    "start_time": "2025-08-18T12:50:42.201Z"
   },
   {
    "duration": 5,
    "start_time": "2025-08-18T12:50:45.851Z"
   },
   {
    "duration": 694,
    "start_time": "2025-08-18T12:50:46.941Z"
   },
   {
    "duration": 9,
    "start_time": "2025-08-18T12:50:48.833Z"
   },
   {
    "duration": 9,
    "start_time": "2025-08-18T12:51:00.594Z"
   },
   {
    "duration": 5,
    "start_time": "2025-08-18T12:51:24.026Z"
   },
   {
    "duration": 739,
    "start_time": "2025-08-18T12:51:24.801Z"
   },
   {
    "duration": 8,
    "start_time": "2025-08-18T12:51:32.985Z"
   },
   {
    "duration": 6,
    "start_time": "2025-08-18T12:52:48.768Z"
   },
   {
    "duration": 768,
    "start_time": "2025-08-18T12:52:50.816Z"
   },
   {
    "duration": 18,
    "start_time": "2025-08-18T12:52:57.519Z"
   },
   {
    "duration": 23,
    "start_time": "2025-08-18T12:53:42.166Z"
   },
   {
    "duration": 15,
    "start_time": "2025-08-18T12:59:27.119Z"
   },
   {
    "duration": 5,
    "start_time": "2025-08-18T12:59:33.567Z"
   },
   {
    "duration": 15,
    "start_time": "2025-08-18T13:00:33.448Z"
   },
   {
    "duration": 36,
    "start_time": "2025-08-18T13:00:40.606Z"
   },
   {
    "duration": 17,
    "start_time": "2025-08-18T13:00:51.670Z"
   },
   {
    "duration": 36,
    "start_time": "2025-08-18T13:00:57.629Z"
   },
   {
    "duration": 16,
    "start_time": "2025-08-18T13:03:30.229Z"
   },
   {
    "duration": 52,
    "start_time": "2025-08-18T13:03:56.297Z"
   },
   {
    "duration": 47,
    "start_time": "2025-08-18T13:04:06.265Z"
   },
   {
    "duration": 48,
    "start_time": "2025-08-18T13:04:13.682Z"
   },
   {
    "duration": 57,
    "start_time": "2025-08-18T13:04:36.609Z"
   },
   {
    "duration": 50,
    "start_time": "2025-08-18T13:04:40.873Z"
   },
   {
    "duration": 19,
    "start_time": "2025-08-18T13:05:16.466Z"
   },
   {
    "duration": 19,
    "start_time": "2025-08-18T13:05:26.641Z"
   },
   {
    "duration": 14,
    "start_time": "2025-08-18T13:05:45.056Z"
   },
   {
    "duration": 22,
    "start_time": "2025-08-18T13:05:55.631Z"
   },
   {
    "duration": 65,
    "start_time": "2025-08-18T13:06:41.712Z"
   },
   {
    "duration": 6,
    "start_time": "2025-08-18T13:07:59.678Z"
   },
   {
    "duration": 56,
    "start_time": "2025-08-18T13:08:09.286Z"
   },
   {
    "duration": 54,
    "start_time": "2025-08-18T13:09:55.491Z"
   },
   {
    "duration": 84,
    "start_time": "2025-08-18T13:13:26.650Z"
   },
   {
    "duration": 67,
    "start_time": "2025-08-18T13:13:45.865Z"
   },
   {
    "duration": 54,
    "start_time": "2025-08-18T13:15:48.700Z"
   },
   {
    "duration": 71,
    "start_time": "2025-08-18T13:16:03.253Z"
   },
   {
    "duration": 66,
    "start_time": "2025-08-18T13:16:09.862Z"
   },
   {
    "duration": 46,
    "start_time": "2025-08-18T13:18:08.671Z"
   },
   {
    "duration": 24,
    "start_time": "2025-08-18T13:18:30.261Z"
   },
   {
    "duration": 30,
    "start_time": "2025-08-18T13:18:40.316Z"
   },
   {
    "duration": 22,
    "start_time": "2025-08-18T13:20:41.490Z"
   },
   {
    "duration": 62,
    "start_time": "2025-08-18T13:21:40.224Z"
   },
   {
    "duration": 5,
    "start_time": "2025-08-18T13:23:35.670Z"
   },
   {
    "duration": 26,
    "start_time": "2025-08-18T13:23:43.862Z"
   },
   {
    "duration": 75,
    "start_time": "2025-08-18T13:24:00.709Z"
   },
   {
    "duration": 87,
    "start_time": "2025-08-18T13:24:41.515Z"
   },
   {
    "duration": 74,
    "start_time": "2025-08-18T13:24:59.740Z"
   },
   {
    "duration": 73,
    "start_time": "2025-08-18T13:27:47.513Z"
   },
   {
    "duration": 88,
    "start_time": "2025-08-18T13:28:58.890Z"
   },
   {
    "duration": 24,
    "start_time": "2025-08-18T13:38:35.526Z"
   },
   {
    "duration": 51,
    "start_time": "2025-08-18T13:38:40.492Z"
   },
   {
    "duration": 50,
    "start_time": "2025-08-18T13:39:44.389Z"
   },
   {
    "duration": 47,
    "start_time": "2025-08-18T13:40:49.355Z"
   },
   {
    "duration": 4,
    "start_time": "2025-08-18T14:01:51.104Z"
   },
   {
    "duration": 29,
    "start_time": "2025-08-18T14:02:47.573Z"
   },
   {
    "duration": 1011,
    "start_time": "2025-08-18T14:03:06.750Z"
   },
   {
    "duration": 1782,
    "start_time": "2025-08-18T14:06:53.329Z"
   },
   {
    "duration": 1504,
    "start_time": "2025-08-18T14:07:37.344Z"
   },
   {
    "duration": 725,
    "start_time": "2025-08-18T14:07:48.688Z"
   },
   {
    "duration": 6,
    "start_time": "2025-08-18T14:07:58.806Z"
   },
   {
    "duration": 7,
    "start_time": "2025-08-18T14:08:38.174Z"
   },
   {
    "duration": 6,
    "start_time": "2025-08-18T14:08:48.462Z"
   },
   {
    "duration": 374,
    "start_time": "2025-08-18T14:09:20.734Z"
   },
   {
    "duration": 10,
    "start_time": "2025-08-18T14:09:55.764Z"
   },
   {
    "duration": 376,
    "start_time": "2025-08-18T14:10:48.020Z"
   },
   {
    "duration": 436,
    "start_time": "2025-08-18T14:11:04.691Z"
   },
   {
    "duration": 7,
    "start_time": "2025-08-18T14:11:35.484Z"
   },
   {
    "duration": 388,
    "start_time": "2025-08-18T14:12:08.083Z"
   },
   {
    "duration": 4,
    "start_time": "2025-08-18T14:12:15.825Z"
   },
   {
    "duration": 8,
    "start_time": "2025-08-18T14:12:21.630Z"
   },
   {
    "duration": 95710,
    "start_time": "2025-08-18T14:12:32.242Z"
   },
   {
    "duration": 36,
    "start_time": "2025-08-18T14:14:13.656Z"
   },
   {
    "duration": 7,
    "start_time": "2025-08-18T14:14:58.384Z"
   },
   {
    "duration": 3,
    "start_time": "2025-08-18T14:15:17.096Z"
   },
   {
    "duration": 94943,
    "start_time": "2025-08-18T14:16:16.687Z"
   },
   {
    "duration": 24,
    "start_time": "2025-08-18T14:17:58.440Z"
   },
   {
    "duration": 1467,
    "start_time": "2025-08-18T14:18:43.903Z"
   },
   {
    "duration": 5,
    "start_time": "2025-08-18T14:18:51.232Z"
   },
   {
    "duration": 10,
    "start_time": "2025-08-18T14:19:15.744Z"
   },
   {
    "duration": 13,
    "start_time": "2025-08-18T14:19:46.634Z"
   },
   {
    "duration": 33,
    "start_time": "2025-08-18T14:22:03.322Z"
   },
   {
    "duration": 34,
    "start_time": "2025-08-18T14:22:23.697Z"
   },
   {
    "duration": 36,
    "start_time": "2025-08-18T14:22:31.977Z"
   },
   {
    "duration": 53,
    "start_time": "2025-08-18T14:22:56.650Z"
   },
   {
    "duration": 51,
    "start_time": "2025-08-18T14:27:43.929Z"
   },
   {
    "duration": 49,
    "start_time": "2025-08-18T14:27:56.654Z"
   },
   {
    "duration": 85,
    "start_time": "2025-08-18T14:31:55.508Z"
   },
   {
    "duration": 18,
    "start_time": "2025-08-18T14:36:36.232Z"
   },
   {
    "duration": 13,
    "start_time": "2025-08-18T14:38:38.142Z"
   },
   {
    "duration": 6675,
    "start_time": "2025-08-19T08:31:42.471Z"
   },
   {
    "duration": 1480,
    "start_time": "2025-08-19T08:31:49.148Z"
   },
   {
    "duration": 10,
    "start_time": "2025-08-19T08:31:50.629Z"
   },
   {
    "duration": 16,
    "start_time": "2025-08-19T08:31:50.640Z"
   },
   {
    "duration": 24,
    "start_time": "2025-08-19T08:31:50.658Z"
   },
   {
    "duration": 900,
    "start_time": "2025-08-19T08:31:50.683Z"
   },
   {
    "duration": 22,
    "start_time": "2025-08-19T08:32:01.392Z"
   },
   {
    "duration": 49,
    "start_time": "2025-08-19T08:32:54.201Z"
   },
   {
    "duration": 3,
    "start_time": "2025-08-19T08:33:11.926Z"
   },
   {
    "duration": 130,
    "start_time": "2025-08-19T08:33:42.390Z"
   },
   {
    "duration": 79621,
    "start_time": "2025-08-19T08:35:26.773Z"
   },
   {
    "duration": 45,
    "start_time": "2025-08-19T08:36:51.779Z"
   },
   {
    "duration": 40,
    "start_time": "2025-08-19T08:37:24.397Z"
   },
   {
    "duration": 16,
    "start_time": "2025-08-19T08:37:49.899Z"
   },
   {
    "duration": 9,
    "start_time": "2025-08-19T08:38:14.355Z"
   },
   {
    "duration": 597,
    "start_time": "2025-08-19T08:39:03.815Z"
   },
   {
    "duration": 22539,
    "start_time": "2025-08-19T08:40:20.494Z"
   },
   {
    "duration": 9,
    "start_time": "2025-08-19T11:41:16.787Z"
   },
   {
    "duration": 14,
    "start_time": "2025-08-19T11:42:04.114Z"
   },
   {
    "duration": 47,
    "start_time": "2025-08-19T11:42:14.361Z"
   },
   {
    "duration": 79984,
    "start_time": "2025-08-19T11:42:20.258Z"
   },
   {
    "duration": 760,
    "start_time": "2025-08-19T11:45:03.909Z"
   },
   {
    "duration": 4,
    "start_time": "2025-08-19T11:47:51.778Z"
   },
   {
    "duration": 5,
    "start_time": "2025-08-19T11:55:50.183Z"
   },
   {
    "duration": 557,
    "start_time": "2025-08-19T11:57:18.255Z"
   },
   {
    "duration": 4,
    "start_time": "2025-08-19T11:57:28.632Z"
   },
   {
    "duration": 3,
    "start_time": "2025-08-19T11:57:30.158Z"
   },
   {
    "duration": 5,
    "start_time": "2025-08-19T11:57:31.358Z"
   },
   {
    "duration": 450,
    "start_time": "2025-08-19T11:57:34.309Z"
   },
   {
    "duration": 5,
    "start_time": "2025-08-19T11:58:46.580Z"
   },
   {
    "duration": 3,
    "start_time": "2025-08-19T11:58:47.476Z"
   },
   {
    "duration": 4,
    "start_time": "2025-08-19T11:58:48.389Z"
   },
   {
    "duration": 499,
    "start_time": "2025-08-19T11:58:49.564Z"
   },
   {
    "duration": 5,
    "start_time": "2025-08-19T12:01:01.035Z"
   },
   {
    "duration": 4,
    "start_time": "2025-08-19T12:01:02.201Z"
   },
   {
    "duration": 5,
    "start_time": "2025-08-19T12:01:02.874Z"
   },
   {
    "duration": 1163,
    "start_time": "2025-08-19T12:01:04.861Z"
   },
   {
    "duration": 3,
    "start_time": "2025-08-19T12:02:18.567Z"
   },
   {
    "duration": 4,
    "start_time": "2025-08-19T12:02:19.705Z"
   },
   {
    "duration": 1342,
    "start_time": "2025-08-19T12:02:20.912Z"
   },
   {
    "duration": 4,
    "start_time": "2025-08-19T12:03:17.969Z"
   },
   {
    "duration": 1115,
    "start_time": "2025-08-19T12:03:19.175Z"
   },
   {
    "duration": 7,
    "start_time": "2025-08-19T12:05:01.119Z"
   },
   {
    "duration": 3,
    "start_time": "2025-08-19T12:05:05.910Z"
   },
   {
    "duration": 423,
    "start_time": "2025-08-19T12:05:10.845Z"
   },
   {
    "duration": 7,
    "start_time": "2025-08-19T12:05:42.188Z"
   },
   {
    "duration": 943,
    "start_time": "2025-08-19T12:05:43.524Z"
   },
   {
    "duration": 8,
    "start_time": "2025-08-19T12:06:21.877Z"
   },
   {
    "duration": 10,
    "start_time": "2025-08-19T12:07:08.998Z"
   },
   {
    "duration": 449,
    "start_time": "2025-08-19T12:07:27.267Z"
   },
   {
    "duration": 14,
    "start_time": "2025-08-19T12:07:38.842Z"
   },
   {
    "duration": 12,
    "start_time": "2025-08-19T12:07:45.865Z"
   },
   {
    "duration": 35,
    "start_time": "2025-08-19T12:07:56.817Z"
   },
   {
    "duration": 9,
    "start_time": "2025-08-19T12:08:07.163Z"
   },
   {
    "duration": 483,
    "start_time": "2025-08-19T12:08:26.696Z"
   },
   {
    "duration": 3,
    "start_time": "2025-08-19T12:08:49.442Z"
   },
   {
    "duration": 76706,
    "start_time": "2025-08-19T12:08:59.570Z"
   },
   {
    "duration": 5,
    "start_time": "2025-08-19T12:11:50.935Z"
   },
   {
    "duration": 2,
    "start_time": "2025-08-19T12:13:40.158Z"
   },
   {
    "duration": 3,
    "start_time": "2025-08-19T12:14:42.122Z"
   },
   {
    "duration": 8,
    "start_time": "2025-08-19T12:14:43.258Z"
   },
   {
    "duration": 3,
    "start_time": "2025-08-19T12:14:50.673Z"
   },
   {
    "duration": 1206,
    "start_time": "2025-08-19T12:15:07.898Z"
   },
   {
    "duration": 7,
    "start_time": "2025-08-19T12:15:23.716Z"
   },
   {
    "duration": 505,
    "start_time": "2025-08-19T12:15:26.359Z"
   },
   {
    "duration": 15,
    "start_time": "2025-08-19T12:15:29.761Z"
   },
   {
    "duration": 11,
    "start_time": "2025-08-19T12:15:30.762Z"
   },
   {
    "duration": 38,
    "start_time": "2025-08-19T12:15:33.489Z"
   },
   {
    "duration": 9,
    "start_time": "2025-08-19T12:15:40.961Z"
   },
   {
    "duration": 79912,
    "start_time": "2025-08-19T12:15:44.536Z"
   },
   {
    "duration": 3,
    "start_time": "2025-08-19T12:18:16.897Z"
   },
   {
    "duration": 7,
    "start_time": "2025-08-19T12:18:23.151Z"
   },
   {
    "duration": 6,
    "start_time": "2025-08-19T12:18:39.190Z"
   },
   {
    "duration": 1102,
    "start_time": "2025-08-19T12:18:59.443Z"
   },
   {
    "duration": 3,
    "start_time": "2025-08-19T12:20:38.196Z"
   },
   {
    "duration": 4,
    "start_time": "2025-08-19T12:20:53.683Z"
   },
   {
    "duration": 6,
    "start_time": "2025-08-19T12:20:54.466Z"
   },
   {
    "duration": 1010,
    "start_time": "2025-08-19T12:21:00.579Z"
   },
   {
    "duration": 3,
    "start_time": "2025-08-19T12:21:43.907Z"
   },
   {
    "duration": 7,
    "start_time": "2025-08-19T12:21:56.176Z"
   },
   {
    "duration": 3,
    "start_time": "2025-08-19T12:21:56.864Z"
   },
   {
    "duration": 1034,
    "start_time": "2025-08-19T12:22:23.113Z"
   },
   {
    "duration": 6,
    "start_time": "2025-08-19T12:22:37.994Z"
   },
   {
    "duration": 513,
    "start_time": "2025-08-19T12:22:46.791Z"
   },
   {
    "duration": 486,
    "start_time": "2025-08-19T12:23:08.175Z"
   },
   {
    "duration": 8,
    "start_time": "2025-08-19T12:24:07.326Z"
   },
   {
    "duration": 3,
    "start_time": "2025-08-19T12:24:08.366Z"
   },
   {
    "duration": 937,
    "start_time": "2025-08-19T12:24:11.525Z"
   },
   {
    "duration": 6,
    "start_time": "2025-08-19T12:24:30.709Z"
   },
   {
    "duration": 7,
    "start_time": "2025-08-19T12:24:52.469Z"
   },
   {
    "duration": 3,
    "start_time": "2025-08-19T12:24:54.590Z"
   },
   {
    "duration": 438,
    "start_time": "2025-08-19T12:24:58.429Z"
   },
   {
    "duration": 6,
    "start_time": "2025-08-19T12:26:14.523Z"
   },
   {
    "duration": 4,
    "start_time": "2025-08-19T12:26:15.131Z"
   },
   {
    "duration": 4,
    "start_time": "2025-08-19T12:26:37.443Z"
   },
   {
    "duration": 628,
    "start_time": "2025-08-19T12:28:24.801Z"
   },
   {
    "duration": 9,
    "start_time": "2025-08-19T12:28:53.785Z"
   },
   {
    "duration": 1110,
    "start_time": "2025-08-19T12:29:02.553Z"
   },
   {
    "duration": 6,
    "start_time": "2025-08-19T12:29:39.632Z"
   },
   {
    "duration": 11,
    "start_time": "2025-08-19T12:30:34.703Z"
   },
   {
    "duration": 3,
    "start_time": "2025-08-19T12:30:36.558Z"
   },
   {
    "duration": 469,
    "start_time": "2025-08-19T12:30:43.086Z"
   },
   {
    "duration": 4,
    "start_time": "2025-08-19T12:31:23.982Z"
   },
   {
    "duration": 5,
    "start_time": "2025-08-19T12:31:29.253Z"
   },
   {
    "duration": 4,
    "start_time": "2025-08-19T12:31:30.591Z"
   },
   {
    "duration": 3,
    "start_time": "2025-08-19T12:31:33.406Z"
   },
   {
    "duration": 445,
    "start_time": "2025-08-19T12:31:37.349Z"
   },
   {
    "duration": 3,
    "start_time": "2025-08-19T12:32:27.659Z"
   },
   {
    "duration": 466,
    "start_time": "2025-08-19T12:32:30.331Z"
   },
   {
    "duration": 3,
    "start_time": "2025-08-19T12:34:46.010Z"
   },
   {
    "duration": 566,
    "start_time": "2025-08-19T12:34:48.099Z"
   },
   {
    "duration": 502,
    "start_time": "2025-08-19T12:35:08.328Z"
   },
   {
    "duration": 86294,
    "start_time": "2025-08-19T12:35:32.146Z"
   },
   {
    "duration": 78464,
    "start_time": "2025-08-19T12:37:08.934Z"
   },
   {
    "duration": 62,
    "start_time": "2025-08-19T12:39:01.620Z"
   },
   {
    "duration": 82265,
    "start_time": "2025-08-19T12:39:15.485Z"
   },
   {
    "duration": 3,
    "start_time": "2025-08-19T13:39:05.555Z"
   },
   {
    "duration": 21388,
    "start_time": "2025-08-19T13:40:15.649Z"
   },
   {
    "duration": 5,
    "start_time": "2025-08-19T13:43:02.789Z"
   },
   {
    "duration": 3,
    "start_time": "2025-08-19T13:43:21.414Z"
   },
   {
    "duration": 1131,
    "start_time": "2025-08-19T13:43:26.118Z"
   },
   {
    "duration": 5,
    "start_time": "2025-08-19T13:43:40.669Z"
   },
   {
    "duration": 12,
    "start_time": "2025-08-19T13:54:24.624Z"
   },
   {
    "duration": 39,
    "start_time": "2025-08-19T14:00:13.154Z"
   },
   {
    "duration": 6,
    "start_time": "2025-08-19T14:02:40.965Z"
   },
   {
    "duration": 2907,
    "start_time": "2025-08-19T14:12:56.213Z"
   },
   {
    "duration": 1290,
    "start_time": "2025-08-19T14:12:59.123Z"
   },
   {
    "duration": 10,
    "start_time": "2025-08-19T14:13:00.417Z"
   },
   {
    "duration": 42,
    "start_time": "2025-08-19T14:13:00.429Z"
   },
   {
    "duration": 54,
    "start_time": "2025-08-19T14:13:00.472Z"
   },
   {
    "duration": 218,
    "start_time": "2025-08-19T14:13:00.527Z"
   },
   {
    "duration": 143,
    "start_time": "2025-08-19T14:13:00.746Z"
   },
   {
    "duration": 12,
    "start_time": "2025-08-19T14:13:00.891Z"
   },
   {
    "duration": 79223,
    "start_time": "2025-08-19T14:13:00.905Z"
   },
   {
    "duration": 73018,
    "start_time": "2025-08-19T14:14:20.130Z"
   },
   {
    "duration": 80186,
    "start_time": "2025-08-19T14:15:33.149Z"
   },
   {
    "duration": 40,
    "start_time": "2025-08-19T14:16:53.336Z"
   },
   {
    "duration": 9,
    "start_time": "2025-08-19T14:16:53.390Z"
   },
   {
    "duration": 22,
    "start_time": "2025-08-19T14:16:53.400Z"
   },
   {
    "duration": 128,
    "start_time": "2025-08-19T14:16:53.424Z"
   },
   {
    "duration": 0,
    "start_time": "2025-08-19T14:16:53.554Z"
   },
   {
    "duration": 0,
    "start_time": "2025-08-19T14:16:53.555Z"
   },
   {
    "duration": 0,
    "start_time": "2025-08-19T14:16:53.556Z"
   },
   {
    "duration": 0,
    "start_time": "2025-08-19T14:16:53.558Z"
   },
   {
    "duration": 0,
    "start_time": "2025-08-19T14:16:53.559Z"
   },
   {
    "duration": 0,
    "start_time": "2025-08-19T14:16:53.560Z"
   },
   {
    "duration": 0,
    "start_time": "2025-08-19T14:16:53.561Z"
   },
   {
    "duration": 0,
    "start_time": "2025-08-19T14:16:53.562Z"
   },
   {
    "duration": 0,
    "start_time": "2025-08-19T14:16:53.563Z"
   },
   {
    "duration": 0,
    "start_time": "2025-08-19T14:16:53.563Z"
   },
   {
    "duration": 0,
    "start_time": "2025-08-19T14:16:53.565Z"
   },
   {
    "duration": 0,
    "start_time": "2025-08-19T14:16:53.566Z"
   },
   {
    "duration": 0,
    "start_time": "2025-08-19T14:16:53.590Z"
   },
   {
    "duration": 0,
    "start_time": "2025-08-19T14:16:53.591Z"
   },
   {
    "duration": 0,
    "start_time": "2025-08-19T14:16:53.592Z"
   },
   {
    "duration": 0,
    "start_time": "2025-08-19T14:16:53.594Z"
   },
   {
    "duration": 0,
    "start_time": "2025-08-19T14:16:53.595Z"
   },
   {
    "duration": 0,
    "start_time": "2025-08-19T14:16:53.596Z"
   },
   {
    "duration": 0,
    "start_time": "2025-08-19T14:16:53.597Z"
   },
   {
    "duration": 0,
    "start_time": "2025-08-19T14:16:53.598Z"
   },
   {
    "duration": 0,
    "start_time": "2025-08-19T14:16:53.599Z"
   },
   {
    "duration": 0,
    "start_time": "2025-08-19T14:16:53.600Z"
   },
   {
    "duration": 0,
    "start_time": "2025-08-19T14:16:53.602Z"
   },
   {
    "duration": 3,
    "start_time": "2025-08-19T14:18:27.784Z"
   },
   {
    "duration": 9,
    "start_time": "2025-08-19T14:23:00.396Z"
   },
   {
    "duration": 3,
    "start_time": "2025-08-19T14:23:03.882Z"
   },
   {
    "duration": 14,
    "start_time": "2025-08-19T14:23:04.443Z"
   },
   {
    "duration": 1494,
    "start_time": "2025-08-19T14:24:06.193Z"
   },
   {
    "duration": 12,
    "start_time": "2025-08-19T14:24:19.500Z"
   },
   {
    "duration": 13,
    "start_time": "2025-08-19T14:25:01.418Z"
   },
   {
    "duration": 13,
    "start_time": "2025-08-19T14:25:49.731Z"
   },
   {
    "duration": 13,
    "start_time": "2025-08-19T14:26:18.776Z"
   },
   {
    "duration": 11,
    "start_time": "2025-08-19T14:26:38.463Z"
   },
   {
    "duration": 11,
    "start_time": "2025-08-19T14:26:57.559Z"
   },
   {
    "duration": 14,
    "start_time": "2025-08-19T14:29:16.931Z"
   },
   {
    "duration": 13,
    "start_time": "2025-08-19T14:29:17.674Z"
   },
   {
    "duration": 16,
    "start_time": "2025-08-19T14:29:51.323Z"
   },
   {
    "duration": 14,
    "start_time": "2025-08-19T14:30:04.325Z"
   },
   {
    "duration": 14,
    "start_time": "2025-08-19T14:30:43.026Z"
   },
   {
    "duration": 27,
    "start_time": "2025-08-19T14:31:10.536Z"
   },
   {
    "duration": 590,
    "start_time": "2025-08-19T14:33:11.952Z"
   },
   {
    "duration": 21,
    "start_time": "2025-08-19T14:33:19.527Z"
   },
   {
    "duration": 16,
    "start_time": "2025-08-19T14:34:03.607Z"
   },
   {
    "duration": 9,
    "start_time": "2025-08-19T14:35:29.660Z"
   },
   {
    "duration": 985,
    "start_time": "2025-08-19T14:36:15.380Z"
   },
   {
    "duration": 9,
    "start_time": "2025-08-19T14:36:23.172Z"
   },
   {
    "duration": 14,
    "start_time": "2025-08-19T14:36:41.283Z"
   },
   {
    "duration": 12,
    "start_time": "2025-08-19T14:36:55.586Z"
   },
   {
    "duration": 13,
    "start_time": "2025-08-19T14:38:01.513Z"
   },
   {
    "duration": 14,
    "start_time": "2025-08-19T14:38:21.185Z"
   },
   {
    "duration": 6,
    "start_time": "2025-08-19T14:39:14.321Z"
   },
   {
    "duration": 14,
    "start_time": "2025-08-19T14:39:48.142Z"
   },
   {
    "duration": 7,
    "start_time": "2025-08-19T14:41:11.278Z"
   },
   {
    "duration": 9,
    "start_time": "2025-08-19T14:41:52.205Z"
   },
   {
    "duration": 15,
    "start_time": "2025-08-19T14:41:57.092Z"
   },
   {
    "duration": 10,
    "start_time": "2025-08-19T14:42:20.413Z"
   },
   {
    "duration": 8,
    "start_time": "2025-08-19T14:42:41.867Z"
   },
   {
    "duration": 9,
    "start_time": "2025-08-19T14:42:45.764Z"
   },
   {
    "duration": 9,
    "start_time": "2025-08-19T14:42:54.307Z"
   },
   {
    "duration": 13,
    "start_time": "2025-08-19T14:44:02.865Z"
   },
   {
    "duration": 14,
    "start_time": "2025-08-19T14:45:26.706Z"
   },
   {
    "duration": 15,
    "start_time": "2025-08-19T14:47:58.887Z"
   },
   {
    "duration": 16,
    "start_time": "2025-08-19T14:48:28.261Z"
   },
   {
    "duration": 8,
    "start_time": "2025-08-19T14:50:33.299Z"
   },
   {
    "duration": 9,
    "start_time": "2025-08-19T14:50:40.849Z"
   },
   {
    "duration": 14,
    "start_time": "2025-08-19T14:51:06.282Z"
   },
   {
    "duration": 13,
    "start_time": "2025-08-19T14:51:31.306Z"
   },
   {
    "duration": 5,
    "start_time": "2025-08-19T14:51:36.377Z"
   },
   {
    "duration": 12,
    "start_time": "2025-08-19T14:51:43.018Z"
   },
   {
    "duration": 14,
    "start_time": "2025-08-19T14:53:01.593Z"
   },
   {
    "duration": 13,
    "start_time": "2025-08-19T14:53:44.550Z"
   },
   {
    "duration": 14,
    "start_time": "2025-08-19T14:58:26.900Z"
   },
   {
    "duration": 22,
    "start_time": "2025-08-19T15:12:26.489Z"
   },
   {
    "duration": 1462,
    "start_time": "2025-08-19T15:14:47.773Z"
   },
   {
    "duration": 9,
    "start_time": "2025-08-19T15:15:03.062Z"
   },
   {
    "duration": 14,
    "start_time": "2025-08-19T15:16:33.243Z"
   },
   {
    "duration": 18,
    "start_time": "2025-08-19T15:17:13.515Z"
   },
   {
    "duration": 35,
    "start_time": "2025-08-19T15:21:43.276Z"
   },
   {
    "duration": 41,
    "start_time": "2025-08-19T15:21:46.523Z"
   },
   {
    "duration": 33,
    "start_time": "2025-08-19T15:21:49.335Z"
   },
   {
    "duration": 1414,
    "start_time": "2025-08-19T15:35:24.158Z"
   },
   {
    "duration": 10,
    "start_time": "2025-08-19T15:35:25.574Z"
   },
   {
    "duration": 22,
    "start_time": "2025-08-19T15:35:25.592Z"
   },
   {
    "duration": 6,
    "start_time": "2025-08-19T15:35:25.617Z"
   },
   {
    "duration": 8,
    "start_time": "2025-08-19T15:35:25.625Z"
   },
   {
    "duration": 6,
    "start_time": "2025-08-19T15:35:25.634Z"
   },
   {
    "duration": 5,
    "start_time": "2025-08-19T15:35:25.642Z"
   },
   {
    "duration": 1038,
    "start_time": "2025-08-19T15:35:25.648Z"
   },
   {
    "duration": 1942,
    "start_time": "2025-08-19T15:35:26.687Z"
   },
   {
    "duration": 0,
    "start_time": "2025-08-19T15:35:28.631Z"
   },
   {
    "duration": 0,
    "start_time": "2025-08-19T15:35:28.632Z"
   },
   {
    "duration": 0,
    "start_time": "2025-08-19T15:35:28.633Z"
   },
   {
    "duration": 0,
    "start_time": "2025-08-19T15:35:28.635Z"
   },
   {
    "duration": 0,
    "start_time": "2025-08-19T15:35:28.636Z"
   },
   {
    "duration": 0,
    "start_time": "2025-08-19T15:35:28.637Z"
   },
   {
    "duration": 0,
    "start_time": "2025-08-19T15:35:28.638Z"
   },
   {
    "duration": 0,
    "start_time": "2025-08-19T15:35:28.639Z"
   },
   {
    "duration": 0,
    "start_time": "2025-08-19T15:35:28.639Z"
   },
   {
    "duration": 0,
    "start_time": "2025-08-19T15:35:28.641Z"
   },
   {
    "duration": 0,
    "start_time": "2025-08-19T15:35:28.641Z"
   },
   {
    "duration": 0,
    "start_time": "2025-08-19T15:35:28.643Z"
   },
   {
    "duration": 0,
    "start_time": "2025-08-19T15:35:28.644Z"
   },
   {
    "duration": 0,
    "start_time": "2025-08-19T15:35:28.645Z"
   },
   {
    "duration": 0,
    "start_time": "2025-08-19T15:35:28.646Z"
   },
   {
    "duration": 673,
    "start_time": "2025-08-19T15:36:00.759Z"
   },
   {
    "duration": 603,
    "start_time": "2025-08-19T15:36:24.534Z"
   },
   {
    "duration": 699,
    "start_time": "2025-08-19T15:36:28.029Z"
   },
   {
    "duration": 21412,
    "start_time": "2025-08-19T15:36:35.405Z"
   },
   {
    "duration": 0,
    "start_time": "2025-08-19T15:36:56.819Z"
   },
   {
    "duration": 0,
    "start_time": "2025-08-19T15:36:56.820Z"
   },
   {
    "duration": 0,
    "start_time": "2025-08-19T15:36:56.821Z"
   },
   {
    "duration": 0,
    "start_time": "2025-08-19T15:36:56.822Z"
   },
   {
    "duration": 0,
    "start_time": "2025-08-19T15:36:56.824Z"
   },
   {
    "duration": 0,
    "start_time": "2025-08-19T15:36:56.825Z"
   },
   {
    "duration": 0,
    "start_time": "2025-08-19T15:36:56.826Z"
   },
   {
    "duration": 0,
    "start_time": "2025-08-19T15:36:56.827Z"
   },
   {
    "duration": 0,
    "start_time": "2025-08-19T15:36:56.828Z"
   },
   {
    "duration": 0,
    "start_time": "2025-08-19T15:36:56.829Z"
   },
   {
    "duration": 0,
    "start_time": "2025-08-19T15:36:56.830Z"
   },
   {
    "duration": 0,
    "start_time": "2025-08-19T15:36:56.831Z"
   },
   {
    "duration": 0,
    "start_time": "2025-08-19T15:36:56.832Z"
   },
   {
    "duration": 8,
    "start_time": "2025-08-19T15:38:04.293Z"
   },
   {
    "duration": 20499,
    "start_time": "2025-08-19T15:39:46.169Z"
   },
   {
    "duration": 16,
    "start_time": "2025-08-20T06:37:16.560Z"
   },
   {
    "duration": 6741,
    "start_time": "2025-08-20T06:38:07.839Z"
   },
   {
    "duration": 1552,
    "start_time": "2025-08-20T06:38:14.582Z"
   },
   {
    "duration": 10,
    "start_time": "2025-08-20T06:38:16.136Z"
   },
   {
    "duration": 30,
    "start_time": "2025-08-20T06:38:16.148Z"
   },
   {
    "duration": 13,
    "start_time": "2025-08-20T06:38:16.180Z"
   },
   {
    "duration": 14,
    "start_time": "2025-08-20T06:38:16.194Z"
   },
   {
    "duration": 33,
    "start_time": "2025-08-20T06:38:16.209Z"
   },
   {
    "duration": 6,
    "start_time": "2025-08-20T06:38:16.244Z"
   },
   {
    "duration": 712,
    "start_time": "2025-08-20T06:38:16.251Z"
   },
   {
    "duration": 0,
    "start_time": "2025-08-20T06:38:16.965Z"
   },
   {
    "duration": 0,
    "start_time": "2025-08-20T06:38:16.966Z"
   },
   {
    "duration": 0,
    "start_time": "2025-08-20T06:38:16.967Z"
   },
   {
    "duration": 530,
    "start_time": "2025-08-20T06:40:27.812Z"
   },
   {
    "duration": 5,
    "start_time": "2025-08-20T06:40:36.194Z"
   },
   {
    "duration": 522,
    "start_time": "2025-08-20T06:40:38.545Z"
   },
   {
    "duration": 658,
    "start_time": "2025-08-20T06:40:45.810Z"
   },
   {
    "duration": 6,
    "start_time": "2025-08-20T06:41:45.736Z"
   },
   {
    "duration": 473,
    "start_time": "2025-08-20T06:41:50.305Z"
   },
   {
    "duration": 516,
    "start_time": "2025-08-20T06:42:06.576Z"
   },
   {
    "duration": 596,
    "start_time": "2025-08-20T06:42:16.768Z"
   },
   {
    "duration": 725,
    "start_time": "2025-08-20T06:42:27.055Z"
   },
   {
    "duration": 77515,
    "start_time": "2025-08-20T06:43:00.950Z"
   },
   {
    "duration": 3,
    "start_time": "2025-08-20T06:45:38.755Z"
   },
   {
    "duration": 228666,
    "start_time": "2025-08-20T06:46:57.546Z"
   },
   {
    "duration": 26,
    "start_time": "2025-08-20T06:50:46.214Z"
   },
   {
    "duration": 9,
    "start_time": "2025-08-20T06:54:54.888Z"
   },
   {
    "duration": 11,
    "start_time": "2025-08-20T06:55:28.319Z"
   },
   {
    "duration": 3,
    "start_time": "2025-08-20T06:55:31.319Z"
   },
   {
    "duration": 15,
    "start_time": "2025-08-20T06:55:31.960Z"
   },
   {
    "duration": 13,
    "start_time": "2025-08-20T06:55:39.551Z"
   },
   {
    "duration": 13,
    "start_time": "2025-08-20T06:55:42.727Z"
   },
   {
    "duration": 14,
    "start_time": "2025-08-20T06:55:46.017Z"
   },
   {
    "duration": 12,
    "start_time": "2025-08-20T06:57:11.525Z"
   },
   {
    "duration": 356,
    "start_time": "2025-08-20T06:57:34.006Z"
   },
   {
    "duration": 17,
    "start_time": "2025-08-20T06:57:48.148Z"
   },
   {
    "duration": 14,
    "start_time": "2025-08-20T06:58:07.684Z"
   },
   {
    "duration": 14,
    "start_time": "2025-08-20T06:58:20.708Z"
   },
   {
    "duration": 1390,
    "start_time": "2025-08-20T07:02:36.592Z"
   },
   {
    "duration": 1423,
    "start_time": "2025-08-20T07:03:04.510Z"
   },
   {
    "duration": 7,
    "start_time": "2025-08-20T07:03:23.949Z"
   },
   {
    "duration": 5,
    "start_time": "2025-08-20T07:03:42.229Z"
   },
   {
    "duration": 9,
    "start_time": "2025-08-20T07:04:01.828Z"
   },
   {
    "duration": 21,
    "start_time": "2025-08-20T07:06:07.538Z"
   },
   {
    "duration": 12,
    "start_time": "2025-08-20T07:06:49.905Z"
   },
   {
    "duration": 15,
    "start_time": "2025-08-20T07:07:22.152Z"
   },
   {
    "duration": 16,
    "start_time": "2025-08-20T07:57:33.690Z"
   },
   {
    "duration": 17,
    "start_time": "2025-08-20T07:58:15.697Z"
   },
   {
    "duration": 15,
    "start_time": "2025-08-20T07:59:13.784Z"
   },
   {
    "duration": 16,
    "start_time": "2025-08-20T07:59:19.592Z"
   },
   {
    "duration": 17,
    "start_time": "2025-08-20T08:00:37.280Z"
   },
   {
    "duration": 16,
    "start_time": "2025-08-20T08:00:48.550Z"
   },
   {
    "duration": 17,
    "start_time": "2025-08-20T08:02:08.341Z"
   },
   {
    "duration": 16,
    "start_time": "2025-08-20T08:02:12.460Z"
   },
   {
    "duration": 16,
    "start_time": "2025-08-20T08:03:23.043Z"
   },
   {
    "duration": 16,
    "start_time": "2025-08-20T08:25:33.704Z"
   },
   {
    "duration": 7,
    "start_time": "2025-08-20T08:36:53.066Z"
   },
   {
    "duration": 13,
    "start_time": "2025-08-20T08:37:22.753Z"
   },
   {
    "duration": 15,
    "start_time": "2025-08-20T08:43:35.427Z"
   },
   {
    "duration": 8,
    "start_time": "2025-08-20T08:44:05.411Z"
   },
   {
    "duration": 4,
    "start_time": "2025-08-20T08:46:53.023Z"
   },
   {
    "duration": 18,
    "start_time": "2025-08-20T08:47:30.398Z"
   },
   {
    "duration": 4,
    "start_time": "2025-08-20T08:48:32.693Z"
   },
   {
    "duration": 19,
    "start_time": "2025-08-20T08:48:33.684Z"
   },
   {
    "duration": 16,
    "start_time": "2025-08-20T08:49:53.979Z"
   },
   {
    "duration": 4,
    "start_time": "2025-08-20T08:50:55.458Z"
   },
   {
    "duration": 26,
    "start_time": "2025-08-20T08:50:56.194Z"
   },
   {
    "duration": 729,
    "start_time": "2025-08-20T08:55:08.440Z"
   },
   {
    "duration": 12,
    "start_time": "2025-08-20T08:55:42.908Z"
   },
   {
    "duration": 294,
    "start_time": "2025-08-20T08:56:58.370Z"
   },
   {
    "duration": 265,
    "start_time": "2025-08-20T09:03:32.355Z"
   },
   {
    "duration": 5,
    "start_time": "2025-08-20T09:04:25.905Z"
   },
   {
    "duration": 5,
    "start_time": "2025-08-20T09:04:40.232Z"
   },
   {
    "duration": 23,
    "start_time": "2025-08-20T09:06:43.975Z"
   },
   {
    "duration": 24,
    "start_time": "2025-08-20T09:06:51.966Z"
   },
   {
    "duration": 28,
    "start_time": "2025-08-20T09:06:56.894Z"
   },
   {
    "duration": 28,
    "start_time": "2025-08-20T09:07:01.950Z"
   },
   {
    "duration": 29,
    "start_time": "2025-08-20T09:07:37.893Z"
   },
   {
    "duration": 28,
    "start_time": "2025-08-20T09:07:43.311Z"
   },
   {
    "duration": 27,
    "start_time": "2025-08-20T09:07:48.870Z"
   },
   {
    "duration": 29,
    "start_time": "2025-08-20T09:08:00.165Z"
   },
   {
    "duration": 621,
    "start_time": "2025-08-20T09:08:03.230Z"
   },
   {
    "duration": 564,
    "start_time": "2025-08-20T09:08:16.621Z"
   },
   {
    "duration": 445,
    "start_time": "2025-08-20T09:09:09.732Z"
   },
   {
    "duration": 453,
    "start_time": "2025-08-20T09:10:38.656Z"
   },
   {
    "duration": 4,
    "start_time": "2025-08-20T09:12:59.345Z"
   },
   {
    "duration": 30,
    "start_time": "2025-08-20T09:13:00.239Z"
   },
   {
    "duration": 5,
    "start_time": "2025-08-20T09:14:48.421Z"
   },
   {
    "duration": 29,
    "start_time": "2025-08-20T09:14:49.435Z"
   },
   {
    "duration": 6,
    "start_time": "2025-08-20T09:15:38.355Z"
   },
   {
    "duration": 27,
    "start_time": "2025-08-20T09:15:39.004Z"
   },
   {
    "duration": 5,
    "start_time": "2025-08-20T09:15:49.075Z"
   },
   {
    "duration": 22,
    "start_time": "2025-08-20T09:15:58.955Z"
   },
   {
    "duration": 15,
    "start_time": "2025-08-20T09:16:16.074Z"
   },
   {
    "duration": 5,
    "start_time": "2025-08-20T09:16:23.786Z"
   },
   {
    "duration": 13,
    "start_time": "2025-08-20T09:16:37.586Z"
   },
   {
    "duration": 20,
    "start_time": "2025-08-20T09:16:47.802Z"
   },
   {
    "duration": 5,
    "start_time": "2025-08-20T09:16:50.665Z"
   },
   {
    "duration": 13,
    "start_time": "2025-08-20T09:16:53.746Z"
   },
   {
    "duration": 4,
    "start_time": "2025-08-20T09:18:11.521Z"
   },
   {
    "duration": 21,
    "start_time": "2025-08-20T09:18:12.792Z"
   },
   {
    "duration": 12,
    "start_time": "2025-08-20T09:18:15.816Z"
   },
   {
    "duration": 716,
    "start_time": "2025-08-20T09:18:29.753Z"
   },
   {
    "duration": 13,
    "start_time": "2025-08-20T09:18:49.999Z"
   },
   {
    "duration": 520,
    "start_time": "2025-08-20T09:19:17.319Z"
   },
   {
    "duration": 13,
    "start_time": "2025-08-20T12:16:55.014Z"
   },
   {
    "duration": 584,
    "start_time": "2025-08-20T12:17:22.806Z"
   },
   {
    "duration": 20,
    "start_time": "2025-08-20T12:19:00.380Z"
   },
   {
    "duration": 762,
    "start_time": "2025-08-20T12:19:09.714Z"
   },
   {
    "duration": 484,
    "start_time": "2025-08-20T12:19:14.180Z"
   },
   {
    "duration": 81,
    "start_time": "2025-08-20T12:26:07.540Z"
   },
   {
    "duration": 116,
    "start_time": "2025-08-20T12:26:26.355Z"
   },
   {
    "duration": 3,
    "start_time": "2025-08-20T12:27:03.011Z"
   },
   {
    "duration": 3,
    "start_time": "2025-08-20T12:27:51.121Z"
   },
   {
    "duration": 3,
    "start_time": "2025-08-20T12:30:10.302Z"
   },
   {
    "duration": 3,
    "start_time": "2025-08-20T12:33:03.195Z"
   },
   {
    "duration": 673,
    "start_time": "2025-08-20T12:33:43.570Z"
   },
   {
    "duration": 3,
    "start_time": "2025-08-20T12:34:23.183Z"
   },
   {
    "duration": 1742,
    "start_time": "2025-08-20T12:34:28.163Z"
   },
   {
    "duration": 4,
    "start_time": "2025-08-20T12:36:01.263Z"
   },
   {
    "duration": 9,
    "start_time": "2025-08-20T12:36:03.153Z"
   },
   {
    "duration": 1536,
    "start_time": "2025-08-20T12:36:18.584Z"
   },
   {
    "duration": 14,
    "start_time": "2025-08-20T12:38:22.772Z"
   },
   {
    "duration": 10,
    "start_time": "2025-08-20T12:38:35.252Z"
   },
   {
    "duration": 6,
    "start_time": "2025-08-20T12:38:44.726Z"
   },
   {
    "duration": 5,
    "start_time": "2025-08-20T12:38:57.556Z"
   },
   {
    "duration": 1727,
    "start_time": "2025-08-20T12:39:00.315Z"
   },
   {
    "duration": 9,
    "start_time": "2025-08-20T12:39:06.445Z"
   },
   {
    "duration": 3393,
    "start_time": "2025-08-20T12:50:07.431Z"
   },
   {
    "duration": 229082,
    "start_time": "2025-08-20T12:50:32.280Z"
   },
   {
    "duration": 2711,
    "start_time": "2025-08-20T12:54:21.364Z"
   },
   {
    "duration": 12,
    "start_time": "2025-08-20T12:54:24.281Z"
   },
   {
    "duration": 2,
    "start_time": "2025-08-20T12:56:41.767Z"
   },
   {
    "duration": 259215,
    "start_time": "2025-08-20T12:56:51.086Z"
   },
   {
    "duration": 266629,
    "start_time": "2025-08-20T13:01:10.303Z"
   },
   {
    "duration": 13,
    "start_time": "2025-08-21T05:10:38.385Z"
   },
   {
    "duration": 6,
    "start_time": "2025-08-21T05:17:32.363Z"
   },
   {
    "duration": 4,
    "start_time": "2025-08-21T05:18:16.520Z"
   },
   {
    "duration": 12,
    "start_time": "2025-08-21T05:19:08.138Z"
   },
   {
    "duration": 12,
    "start_time": "2025-08-21T05:19:26.305Z"
   },
   {
    "duration": 3,
    "start_time": "2025-08-21T05:19:44.048Z"
   },
   {
    "duration": 9,
    "start_time": "2025-08-21T05:20:19.886Z"
   },
   {
    "duration": 8,
    "start_time": "2025-08-21T05:20:47.464Z"
   },
   {
    "duration": 7,
    "start_time": "2025-08-21T05:20:57.991Z"
   },
   {
    "duration": 9,
    "start_time": "2025-08-21T05:22:01.533Z"
   },
   {
    "duration": 4,
    "start_time": "2025-08-21T05:22:12.462Z"
   },
   {
    "duration": 13,
    "start_time": "2025-08-21T05:23:40.859Z"
   },
   {
    "duration": 9,
    "start_time": "2025-08-21T05:24:48.436Z"
   },
   {
    "duration": 12,
    "start_time": "2025-08-21T05:24:57.594Z"
   },
   {
    "duration": 3,
    "start_time": "2025-08-21T05:36:47.870Z"
   },
   {
    "duration": 13,
    "start_time": "2025-08-21T05:42:55.195Z"
   },
   {
    "duration": 2958,
    "start_time": "2025-08-21T05:43:30.407Z"
   },
   {
    "duration": 6,
    "start_time": "2025-08-21T05:43:33.367Z"
   },
   {
    "duration": 107,
    "start_time": "2025-08-21T05:43:33.375Z"
   },
   {
    "duration": 19,
    "start_time": "2025-08-21T05:43:33.485Z"
   },
   {
    "duration": 25,
    "start_time": "2025-08-21T05:43:33.505Z"
   },
   {
    "duration": 14,
    "start_time": "2025-08-21T05:43:33.532Z"
   },
   {
    "duration": 12,
    "start_time": "2025-08-21T05:43:33.548Z"
   },
   {
    "duration": 29,
    "start_time": "2025-08-21T05:43:33.561Z"
   },
   {
    "duration": 14,
    "start_time": "2025-08-21T05:43:33.591Z"
   },
   {
    "duration": 114,
    "start_time": "2025-08-21T05:43:33.606Z"
   },
   {
    "duration": 14,
    "start_time": "2025-08-21T05:43:33.722Z"
   },
   {
    "duration": 496401,
    "start_time": "2025-08-21T05:43:38.639Z"
   },
   {
    "duration": 12,
    "start_time": "2025-08-21T05:54:31.265Z"
   },
   {
    "duration": 17,
    "start_time": "2025-08-21T05:54:48.578Z"
   },
   {
    "duration": 14,
    "start_time": "2025-08-21T05:54:55.850Z"
   },
   {
    "duration": 5,
    "start_time": "2025-08-21T06:01:49.033Z"
   },
   {
    "duration": 85,
    "start_time": "2025-08-21T06:08:27.067Z"
   },
   {
    "duration": 57,
    "start_time": "2025-08-21T06:09:46.472Z"
   },
   {
    "duration": 21,
    "start_time": "2025-08-21T06:10:24.347Z"
   },
   {
    "duration": 6,
    "start_time": "2025-08-21T06:10:56.215Z"
   },
   {
    "duration": 7,
    "start_time": "2025-08-21T06:11:08.815Z"
   },
   {
    "duration": 13,
    "start_time": "2025-08-21T06:21:40.204Z"
   },
   {
    "duration": 5,
    "start_time": "2025-08-21T06:22:12.674Z"
   },
   {
    "duration": 18,
    "start_time": "2025-08-21T06:22:13.978Z"
   },
   {
    "duration": 15,
    "start_time": "2025-08-21T06:22:50.073Z"
   },
   {
    "duration": 10,
    "start_time": "2025-08-21T06:24:22.494Z"
   },
   {
    "duration": 121,
    "start_time": "2025-08-21T06:24:56.436Z"
   },
   {
    "duration": 62,
    "start_time": "2025-08-21T06:26:10.739Z"
   },
   {
    "duration": 5,
    "start_time": "2025-08-21T06:26:25.076Z"
   },
   {
    "duration": 47,
    "start_time": "2025-08-21T06:26:27.045Z"
   },
   {
    "duration": 44,
    "start_time": "2025-08-21T06:26:37.660Z"
   },
   {
    "duration": 5,
    "start_time": "2025-08-21T06:27:51.223Z"
   },
   {
    "duration": 41,
    "start_time": "2025-08-21T06:27:52.279Z"
   },
   {
    "duration": 4,
    "start_time": "2025-08-21T06:28:51.629Z"
   },
   {
    "duration": 793,
    "start_time": "2025-08-21T06:29:07.030Z"
   },
   {
    "duration": 11,
    "start_time": "2025-08-21T06:29:14.700Z"
   },
   {
    "duration": 12,
    "start_time": "2025-08-21T06:29:53.292Z"
   },
   {
    "duration": 538,
    "start_time": "2025-08-21T06:30:04.427Z"
   },
   {
    "duration": 1095,
    "start_time": "2025-08-21T06:31:14.985Z"
   },
   {
    "duration": 194,
    "start_time": "2025-08-21T06:31:29.602Z"
   },
   {
    "duration": 8,
    "start_time": "2025-08-21T06:32:40.560Z"
   },
   {
    "duration": 10,
    "start_time": "2025-08-21T06:34:17.023Z"
   },
   {
    "duration": 8,
    "start_time": "2025-08-21T06:34:50.667Z"
   },
   {
    "duration": 10,
    "start_time": "2025-08-21T06:35:16.810Z"
   },
   {
    "duration": 7,
    "start_time": "2025-08-21T06:36:19.804Z"
   },
   {
    "duration": 12,
    "start_time": "2025-08-21T06:36:44.185Z"
   },
   {
    "duration": 4,
    "start_time": "2025-08-21T06:36:49.680Z"
   },
   {
    "duration": 219,
    "start_time": "2025-08-21T06:36:50.553Z"
   },
   {
    "duration": 15,
    "start_time": "2025-08-21T06:38:03.670Z"
   },
   {
    "duration": 15,
    "start_time": "2025-08-21T06:38:36.659Z"
   },
   {
    "duration": 5,
    "start_time": "2025-08-21T06:40:31.795Z"
   },
   {
    "duration": 4,
    "start_time": "2025-08-21T06:40:34.012Z"
   },
   {
    "duration": 37,
    "start_time": "2025-08-21T06:40:36.442Z"
   },
   {
    "duration": 3,
    "start_time": "2025-08-21T06:40:58.916Z"
   },
   {
    "duration": 23,
    "start_time": "2025-08-21T06:40:59.899Z"
   },
   {
    "duration": 44,
    "start_time": "2025-08-21T06:41:02.419Z"
   },
   {
    "duration": 15,
    "start_time": "2025-08-21T06:41:30.291Z"
   },
   {
    "duration": 12,
    "start_time": "2025-08-21T06:41:42.850Z"
   },
   {
    "duration": 2,
    "start_time": "2025-08-21T06:41:46.065Z"
   },
   {
    "duration": 3,
    "start_time": "2025-08-21T06:41:46.728Z"
   },
   {
    "duration": 6,
    "start_time": "2025-08-21T06:41:47.356Z"
   },
   {
    "duration": 10,
    "start_time": "2025-08-21T06:41:47.849Z"
   },
   {
    "duration": 3,
    "start_time": "2025-08-21T06:41:49.072Z"
   },
   {
    "duration": 6,
    "start_time": "2025-08-21T06:41:50.661Z"
   },
   {
    "duration": 9,
    "start_time": "2025-08-21T06:41:51.252Z"
   },
   {
    "duration": 12,
    "start_time": "2025-08-21T06:41:52.945Z"
   },
   {
    "duration": 6,
    "start_time": "2025-08-21T06:41:56.274Z"
   },
   {
    "duration": 1335866,
    "start_time": "2025-08-21T06:42:42.191Z"
   },
   {
    "duration": 5,
    "start_time": "2025-08-21T07:05:08.541Z"
   },
   {
    "duration": 179770,
    "start_time": "2025-08-21T07:05:28.092Z"
   },
   {
    "duration": 0,
    "start_time": "2025-08-21T07:08:27.864Z"
   },
   {
    "duration": 21,
    "start_time": "2025-08-21T07:08:44.852Z"
   },
   {
    "duration": 3,
    "start_time": "2025-08-21T07:10:52.985Z"
   },
   {
    "duration": 84,
    "start_time": "2025-08-21T07:12:56.093Z"
   },
   {
    "duration": 17,
    "start_time": "2025-08-21T07:13:03.145Z"
   },
   {
    "duration": 30,
    "start_time": "2025-08-21T07:13:41.371Z"
   },
   {
    "duration": 6,
    "start_time": "2025-08-21T07:13:42.939Z"
   },
   {
    "duration": 3,
    "start_time": "2025-08-21T07:13:44.923Z"
   },
   {
    "duration": 12,
    "start_time": "2025-08-21T07:13:48.034Z"
   },
   {
    "duration": 16,
    "start_time": "2025-08-21T07:13:49.564Z"
   },
   {
    "duration": 8,
    "start_time": "2025-08-21T07:13:58.315Z"
   },
   {
    "duration": 4,
    "start_time": "2025-08-21T07:14:02.330Z"
   },
   {
    "duration": 2,
    "start_time": "2025-08-21T07:14:03.698Z"
   },
   {
    "duration": 3,
    "start_time": "2025-08-21T07:14:04.562Z"
   },
   {
    "duration": 4,
    "start_time": "2025-08-21T07:14:05.234Z"
   },
   {
    "duration": 6,
    "start_time": "2025-08-21T07:14:07.187Z"
   },
   {
    "duration": 127713,
    "start_time": "2025-08-21T07:14:13.051Z"
   },
   {
    "duration": 4613,
    "start_time": "2025-08-21T07:17:46.942Z"
   },
   {
    "duration": 5272,
    "start_time": "2025-08-21T07:18:06.551Z"
   },
   {
    "duration": 3,
    "start_time": "2025-08-21T07:20:14.986Z"
   },
   {
    "duration": 48,
    "start_time": "2025-08-21T12:46:21.987Z"
   },
   {
    "duration": 3334,
    "start_time": "2025-08-21T12:52:48.538Z"
   },
   {
    "duration": 1697,
    "start_time": "2025-08-21T12:52:51.874Z"
   },
   {
    "duration": 11,
    "start_time": "2025-08-21T12:52:53.573Z"
   },
   {
    "duration": 83,
    "start_time": "2025-08-21T12:52:53.590Z"
   },
   {
    "duration": 36,
    "start_time": "2025-08-21T12:52:53.675Z"
   },
   {
    "duration": 26,
    "start_time": "2025-08-21T12:52:53.713Z"
   },
   {
    "duration": 31,
    "start_time": "2025-08-21T12:52:53.746Z"
   },
   {
    "duration": 18,
    "start_time": "2025-08-21T12:52:53.779Z"
   },
   {
    "duration": 35,
    "start_time": "2025-08-21T12:52:53.799Z"
   },
   {
    "duration": 19,
    "start_time": "2025-08-21T12:52:53.836Z"
   },
   {
    "duration": 591220,
    "start_time": "2025-08-21T12:52:53.858Z"
   },
   {
    "duration": 75,
    "start_time": "2025-08-21T13:02:45.080Z"
   },
   {
    "duration": 20,
    "start_time": "2025-08-21T13:02:45.157Z"
   },
   {
    "duration": 183,
    "start_time": "2025-08-21T13:02:45.179Z"
   },
   {
    "duration": 0,
    "start_time": "2025-08-21T13:02:45.365Z"
   },
   {
    "duration": 0,
    "start_time": "2025-08-21T13:02:45.367Z"
   },
   {
    "duration": 0,
    "start_time": "2025-08-21T13:02:45.368Z"
   },
   {
    "duration": 0,
    "start_time": "2025-08-21T13:02:45.369Z"
   },
   {
    "duration": 0,
    "start_time": "2025-08-21T13:02:45.370Z"
   },
   {
    "duration": 0,
    "start_time": "2025-08-21T13:02:45.371Z"
   },
   {
    "duration": 0,
    "start_time": "2025-08-21T13:02:45.372Z"
   },
   {
    "duration": 0,
    "start_time": "2025-08-21T13:02:45.373Z"
   },
   {
    "duration": 0,
    "start_time": "2025-08-21T13:02:45.373Z"
   },
   {
    "duration": 0,
    "start_time": "2025-08-21T13:02:45.375Z"
   },
   {
    "duration": 0,
    "start_time": "2025-08-21T13:02:45.376Z"
   },
   {
    "duration": 0,
    "start_time": "2025-08-21T13:02:45.377Z"
   },
   {
    "duration": 0,
    "start_time": "2025-08-21T13:02:45.378Z"
   },
   {
    "duration": 0,
    "start_time": "2025-08-21T13:02:45.379Z"
   },
   {
    "duration": 0,
    "start_time": "2025-08-21T13:02:45.380Z"
   },
   {
    "duration": 0,
    "start_time": "2025-08-21T13:02:45.381Z"
   },
   {
    "duration": 0,
    "start_time": "2025-08-21T13:02:45.382Z"
   },
   {
    "duration": 0,
    "start_time": "2025-08-21T13:02:45.383Z"
   },
   {
    "duration": 0,
    "start_time": "2025-08-21T13:02:45.384Z"
   },
   {
    "duration": 0,
    "start_time": "2025-08-21T13:02:45.385Z"
   },
   {
    "duration": 0,
    "start_time": "2025-08-21T13:02:45.387Z"
   },
   {
    "duration": 0,
    "start_time": "2025-08-21T13:02:45.388Z"
   },
   {
    "duration": 0,
    "start_time": "2025-08-21T13:02:45.389Z"
   },
   {
    "duration": 0,
    "start_time": "2025-08-21T13:02:45.390Z"
   },
   {
    "duration": 2996,
    "start_time": "2025-08-21T13:17:58.885Z"
   },
   {
    "duration": 1391,
    "start_time": "2025-08-21T13:18:01.883Z"
   },
   {
    "duration": 10,
    "start_time": "2025-08-21T13:18:03.278Z"
   },
   {
    "duration": 54,
    "start_time": "2025-08-21T13:18:03.291Z"
   },
   {
    "duration": 66,
    "start_time": "2025-08-21T13:18:03.346Z"
   },
   {
    "duration": 219,
    "start_time": "2025-08-21T13:18:03.414Z"
   },
   {
    "duration": 14,
    "start_time": "2025-08-21T13:18:03.635Z"
   },
   {
    "duration": 7,
    "start_time": "2025-08-21T13:18:03.651Z"
   },
   {
    "duration": 28,
    "start_time": "2025-08-21T13:18:03.659Z"
   },
   {
    "duration": 10,
    "start_time": "2025-08-21T13:18:03.689Z"
   },
   {
    "duration": 504541,
    "start_time": "2025-08-21T13:18:03.701Z"
   },
   {
    "duration": 58,
    "start_time": "2025-08-21T13:26:28.244Z"
   },
   {
    "duration": 35,
    "start_time": "2025-08-21T13:26:28.305Z"
   },
   {
    "duration": 130,
    "start_time": "2025-08-21T13:26:28.342Z"
   },
   {
    "duration": 0,
    "start_time": "2025-08-21T13:26:28.473Z"
   },
   {
    "duration": 0,
    "start_time": "2025-08-21T13:26:28.474Z"
   },
   {
    "duration": 0,
    "start_time": "2025-08-21T13:26:28.475Z"
   },
   {
    "duration": 0,
    "start_time": "2025-08-21T13:26:28.476Z"
   },
   {
    "duration": 0,
    "start_time": "2025-08-21T13:26:28.478Z"
   },
   {
    "duration": 0,
    "start_time": "2025-08-21T13:26:28.479Z"
   },
   {
    "duration": 0,
    "start_time": "2025-08-21T13:26:28.480Z"
   },
   {
    "duration": 0,
    "start_time": "2025-08-21T13:26:28.480Z"
   },
   {
    "duration": 0,
    "start_time": "2025-08-21T13:26:28.481Z"
   },
   {
    "duration": 0,
    "start_time": "2025-08-21T13:26:28.483Z"
   },
   {
    "duration": 0,
    "start_time": "2025-08-21T13:26:28.483Z"
   },
   {
    "duration": 0,
    "start_time": "2025-08-21T13:26:28.484Z"
   },
   {
    "duration": 0,
    "start_time": "2025-08-21T13:26:28.485Z"
   },
   {
    "duration": 0,
    "start_time": "2025-08-21T13:26:28.486Z"
   },
   {
    "duration": 0,
    "start_time": "2025-08-21T13:26:28.487Z"
   },
   {
    "duration": 0,
    "start_time": "2025-08-21T13:26:28.488Z"
   },
   {
    "duration": 0,
    "start_time": "2025-08-21T13:26:28.489Z"
   },
   {
    "duration": 0,
    "start_time": "2025-08-21T13:26:28.491Z"
   },
   {
    "duration": 0,
    "start_time": "2025-08-21T13:26:28.491Z"
   },
   {
    "duration": 0,
    "start_time": "2025-08-21T13:26:28.493Z"
   },
   {
    "duration": 0,
    "start_time": "2025-08-21T13:26:28.494Z"
   },
   {
    "duration": 0,
    "start_time": "2025-08-21T13:26:28.495Z"
   },
   {
    "duration": 0,
    "start_time": "2025-08-21T13:26:28.496Z"
   },
   {
    "duration": 0,
    "start_time": "2025-08-21T13:26:28.497Z"
   },
   {
    "duration": 4,
    "start_time": "2025-08-21T13:27:02.718Z"
   },
   {
    "duration": 39,
    "start_time": "2025-08-21T13:27:40.183Z"
   },
   {
    "duration": 42,
    "start_time": "2025-08-21T13:27:48.294Z"
   },
   {
    "duration": 650,
    "start_time": "2025-08-21T13:27:54.884Z"
   },
   {
    "duration": 488,
    "start_time": "2025-08-21T13:28:04.924Z"
   },
   {
    "duration": 852,
    "start_time": "2025-08-21T13:28:05.414Z"
   },
   {
    "duration": 4,
    "start_time": "2025-08-21T13:28:06.268Z"
   },
   {
    "duration": 324,
    "start_time": "2025-08-21T13:28:06.274Z"
   },
   {
    "duration": 37,
    "start_time": "2025-08-21T13:28:16.932Z"
   },
   {
    "duration": 5,
    "start_time": "2025-08-21T13:28:16.971Z"
   },
   {
    "duration": 23,
    "start_time": "2025-08-21T13:28:16.977Z"
   },
   {
    "duration": 45,
    "start_time": "2025-08-21T13:28:17.001Z"
   },
   {
    "duration": 8,
    "start_time": "2025-08-21T13:28:26.660Z"
   },
   {
    "duration": 11,
    "start_time": "2025-08-21T13:28:26.670Z"
   },
   {
    "duration": 11,
    "start_time": "2025-08-21T13:28:26.683Z"
   },
   {
    "duration": 7,
    "start_time": "2025-08-21T13:28:26.696Z"
   },
   {
    "duration": 15,
    "start_time": "2025-08-21T13:28:26.704Z"
   },
   {
    "duration": 5,
    "start_time": "2025-08-21T13:28:26.721Z"
   },
   {
    "duration": 11,
    "start_time": "2025-08-21T13:28:26.727Z"
   },
   {
    "duration": 13,
    "start_time": "2025-08-21T13:28:26.739Z"
   },
   {
    "duration": 4,
    "start_time": "2025-08-21T13:28:26.754Z"
   },
   {
    "duration": 6,
    "start_time": "2025-08-21T13:28:30.244Z"
   },
   {
    "duration": 52592,
    "start_time": "2025-08-21T13:28:35.348Z"
   },
   {
    "duration": 69029,
    "start_time": "2025-08-21T13:29:36.220Z"
   },
   {
    "duration": 74,
    "start_time": "2025-09-10T08:43:53.739Z"
   },
   {
    "duration": 3249,
    "start_time": "2025-09-10T08:57:01.695Z"
   },
   {
    "duration": 1425,
    "start_time": "2025-09-10T08:57:04.947Z"
   },
   {
    "duration": 9,
    "start_time": "2025-09-10T08:57:06.374Z"
   },
   {
    "duration": 111,
    "start_time": "2025-09-10T08:57:06.384Z"
   },
   {
    "duration": 33,
    "start_time": "2025-09-10T08:57:06.498Z"
   },
   {
    "duration": 13,
    "start_time": "2025-09-10T08:57:06.533Z"
   },
   {
    "duration": 6,
    "start_time": "2025-09-10T08:57:06.548Z"
   },
   {
    "duration": 22,
    "start_time": "2025-09-10T08:57:06.556Z"
   },
   {
    "duration": 14,
    "start_time": "2025-09-10T08:57:06.580Z"
   },
   {
    "duration": 529289,
    "start_time": "2025-09-10T08:57:06.596Z"
   },
   {
    "duration": 67,
    "start_time": "2025-09-10T09:05:55.886Z"
   },
   {
    "duration": 6,
    "start_time": "2025-09-10T09:05:55.955Z"
   },
   {
    "duration": 52,
    "start_time": "2025-09-10T09:05:55.963Z"
   },
   {
    "duration": 734,
    "start_time": "2025-09-10T09:05:56.018Z"
   },
   {
    "duration": 522,
    "start_time": "2025-09-10T09:05:56.753Z"
   },
   {
    "duration": 919,
    "start_time": "2025-09-10T09:05:57.277Z"
   },
   {
    "duration": 5,
    "start_time": "2025-09-10T09:05:58.197Z"
   },
   {
    "duration": 334,
    "start_time": "2025-09-10T09:05:58.203Z"
   },
   {
    "duration": 36,
    "start_time": "2025-09-10T09:05:58.539Z"
   },
   {
    "duration": 4,
    "start_time": "2025-09-10T09:05:58.577Z"
   },
   {
    "duration": 10,
    "start_time": "2025-09-10T09:05:58.583Z"
   },
   {
    "duration": 44,
    "start_time": "2025-09-10T09:05:58.595Z"
   },
   {
    "duration": 7,
    "start_time": "2025-09-10T09:05:58.641Z"
   },
   {
    "duration": 10,
    "start_time": "2025-09-10T09:05:58.650Z"
   },
   {
    "duration": 15,
    "start_time": "2025-09-10T09:05:58.661Z"
   },
   {
    "duration": 6,
    "start_time": "2025-09-10T09:05:58.678Z"
   },
   {
    "duration": 3,
    "start_time": "2025-09-10T09:05:58.686Z"
   },
   {
    "duration": 7,
    "start_time": "2025-09-10T09:05:58.691Z"
   },
   {
    "duration": 9,
    "start_time": "2025-09-10T09:05:58.699Z"
   },
   {
    "duration": 5,
    "start_time": "2025-09-10T09:05:58.709Z"
   },
   {
    "duration": 3,
    "start_time": "2025-09-10T09:05:58.716Z"
   },
   {
    "duration": 20614,
    "start_time": "2025-09-10T09:05:58.721Z"
   },
   {
    "duration": 7,
    "start_time": "2025-09-10T09:06:19.337Z"
   },
   {
    "duration": 200,
    "start_time": "2025-09-10T09:06:19.345Z"
   },
   {
    "duration": 587,
    "start_time": "2025-09-10T09:06:19.547Z"
   }
  ],
  "kernelspec": {
   "display_name": "Python 3 (ipykernel)",
   "language": "python",
   "name": "python3"
  },
  "language_info": {
   "codemirror_mode": {
    "name": "ipython",
    "version": 3
   },
   "file_extension": ".py",
   "mimetype": "text/x-python",
   "name": "python",
   "nbconvert_exporter": "python",
   "pygments_lexer": "ipython3",
   "version": "3.9.5"
  },
  "toc": {
   "base_numbering": 1,
   "nav_menu": {},
   "number_sections": true,
   "sideBar": true,
   "skip_h1_title": true,
   "title_cell": "Содержание",
   "title_sidebar": "Contents",
   "toc_cell": true,
   "toc_position": {
    "height": "calc(100% - 180px)",
    "left": "10px",
    "top": "150px",
    "width": "361.594px"
   },
   "toc_section_display": true,
   "toc_window_display": true
  }
 },
 "nbformat": 4,
 "nbformat_minor": 2
}
